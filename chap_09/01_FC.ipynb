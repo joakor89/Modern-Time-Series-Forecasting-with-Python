{
 "cells": [
  {
   "cell_type": "markdown",
   "id": "96d117da-80a4-4e7d-ac24-2c631e5d1d82",
   "metadata": {},
   "source": [
    "# Forecasting Combinations\n",
    "\n",
    "### Loading Libraries"
   ]
  },
  {
   "cell_type": "code",
   "execution_count": null,
   "id": "7fc3b5fc-d8b6-4e87-b6b9-a4d33c6d73b2",
   "metadata": {},
   "outputs": [],
   "source": [
    "%cd ../.."
   ]
  },
  {
   "cell_type": "code",
   "execution_count": null,
   "id": "929004f9-7ada-4658-a8cd-54eabeeca76b",
   "metadata": {},
   "outputs": [],
   "source": [
    "# Numerical Computing\n",
    "import numpy as np\n",
    "\n",
    "# Data Manipulation\n",
    "import pandas as pd\n",
    "\n",
    "# Data Visualization\n",
    "import plotly.express as px\n",
    "import plotly.graph_objects as go\n",
    "import plotly.io as pio\n",
    "\n",
    "# OS & Time\n",
    "import os\n",
    "import time\n",
    "import joblib\n",
    "\n",
    "# Warnings, Func & Path\n",
    "import warnings\n",
    "import pickleshare\n",
    "import missingno as msno\n",
    "from pathlib import Path\n",
    "from itertools import cycle\n",
    "from functools import partial\n",
    "from typing import List, Tuple\n",
    "\n",
    "# PyArrow\n",
    "import pyarrow as pa\n",
    "\n",
    "# Humanize\n",
    "import humanize\n",
    "\n",
    "# Scikit-Learn\n",
    "from sklearn.preprocessing import StandardScaler\n",
    "\n",
    "# Notebook Optimizer\n",
    "from tqdm.autonotebook import tqdm\n",
    "\n",
    "# IPython - Display\n",
    "from IPython.display import display, HTML\n",
    "\n",
    "# Random\n",
    "import random"
   ]
  },
  {
   "cell_type": "code",
   "execution_count": null,
   "id": "b6d5e98f-3e71-40d0-8293-7398f97835c8",
   "metadata": {},
   "outputs": [],
   "source": [
    "# Custom Libraries\n",
    "from src.utils import plotting_utils\n",
    "from src.utils.general import LogTime\n",
    "from src.utils.data_utils import _get_32_bit_dtype \n",
    "from src.utils.ts_utils_updated import metrics_adapter, forecast_bias,mae, mase, mse"
   ]
  },
  {
   "cell_type": "code",
   "execution_count": null,
   "id": "810a2075-3c19-46fe-8ffc-c154c9c84095",
   "metadata": {},
   "outputs": [],
   "source": [
    "# %load_ext autoreload\n",
    "# %autoreload 2"
   ]
  },
  {
   "cell_type": "code",
   "execution_count": null,
   "id": "cd9b80f3-5354-48d6-80a2-0ecdbe7dd8be",
   "metadata": {},
   "outputs": [],
   "source": [
    "tqdm.pandas()\n",
    "\n",
    "random.seed(42)\n",
    "\n",
    "np.random.seed(42)\n",
    "\n",
    "pio.templates.default = \"plotly_white\""
   ]
  },
  {
   "cell_type": "code",
   "execution_count": null,
   "id": "03fd7ecf-5b92-4d11-b7f3-d3f8dc312f60",
   "metadata": {},
   "outputs": [],
   "source": [
    "os.makedirs(\"imgs/chapter_09\", exist_ok=True)\n",
    "\n",
    "preprocessed = Path.home() / \"Desktop\" / \"data\" / \"london_smart_meters\" / \"preprocessed\"\n",
    "\n",
    "output = Path.home() / \"Desktop\" / \"data\" / \"london_smart_meters\" / \"output\""
   ]
  },
  {
   "cell_type": "code",
   "execution_count": null,
   "id": "4951ce28-24fe-4205-886c-3d42b940fe35",
   "metadata": {},
   "outputs": [],
   "source": [
    "def format_plot(fig, legends=None, xlabel=\"Time\", ylabel=\"Value\", title=\"\", font_size=15):\n",
    "    if legends:\n",
    "        names = cycle(legends)\n",
    "        fig.for_each_trace(lambda t: t.update(name=next(names)))\n",
    "    fig.update_layout(\n",
    "        autosize=False,\n",
    "        width=900,\n",
    "        height=500,\n",
    "        title_text=title,\n",
    "        title={\"x\": 0.5, \"xanchor\": \"center\", \"yanchor\": \"top\"},\n",
    "        titlefont={\"size\": 20},\n",
    "        legend_title=None,\n",
    "        legend=dict(\n",
    "                font=dict(size=font_size),\n",
    "                orientation=\"h\",\n",
    "                yanchor=\"bottom\",\n",
    "                y=0.98,\n",
    "                xanchor=\"right\",\n",
    "                x=1,\n",
    "            ),\n",
    "            yaxis=dict(\n",
    "                title_text=ylabel,\n",
    "                titlefont=dict(size=font_size),\n",
    "                tickfont=dict(size=font_size),\n",
    "            ),\n",
    "            xaxis=dict(\n",
    "                title_text=xlabel,\n",
    "                titlefont=dict(size=font_size),\n",
    "                tickfont=dict(size=font_size),\n",
    "            ),\n",
    "    )\n",
    "    return fig"
   ]
  },
  {
   "cell_type": "markdown",
   "id": "60437908-aa45-4279-a417-6a77566ae9b6",
   "metadata": {},
   "source": [
    "### Reading the Test Predictions and Metrics"
   ]
  },
  {
   "cell_type": "code",
   "execution_count": null,
   "id": "d05fd2b2-651b-45f9-9ae8-0a7a3e2db9f7",
   "metadata": {},
   "outputs": [],
   "source": [
    "try:\n",
    "    # Reading the missing value imputed and train test split data\n",
    "    train_df = pd.read_parquet(\n",
    "        preprocessed / \"selected_blocks_train_missing_imputed_feature_engg.parquet\"\n",
    "    )\n",
    "    train_df = train_df.loc[:, [\"timestamp\", \"LCLid\", \"energy_consumption\"]].set_index(\n",
    "        [\"timestamp\", \"LCLid\"]\n",
    "    )\n",
    "    val_df = pd.read_parquet(\n",
    "        preprocessed / \"selected_blocks_val_missing_imputed_feature_engg.parquet\"\n",
    "    )\n",
    "    val_df = val_df.loc[:, [\"timestamp\", \"LCLid\", \"energy_consumption\"]].set_index(\n",
    "        [\"timestamp\", \"LCLid\"]\n",
    "    )\n",
    "\n",
    "    train_target = train_df.reset_index().set_index(\"timestamp\")\n",
    "    # Combine train and val into new train\n",
    "    train_val_target = pd.concat([train_df, val_df]).reset_index().set_index(\"timestamp\")\n",
    "\n",
    "    del val_df, train_df\n",
    "except FileNotFoundError:\n",
    "    display(HTML(\"\"\"\n",
    "    <div class=\"alert alert-block alert-warning\">\n",
    "    <b>Warning!</b> File not found. Please make sure you have run 01-Feature Engineering.ipynb in Chapter06\n",
    "    </div>\n",
    "    \"\"\"))"
   ]
  },
  {
   "cell_type": "code",
   "execution_count": null,
   "id": "bdbadb48-7b05-4728-a871-3c50fcbcda6f",
   "metadata": {},
   "outputs": [],
   "source": [
    "try:\n",
    "    pred_test_df = pd.read_pickle(output / \"ml_single_step_prediction_test_df.pkl\")\n",
    "    metrics_test_df = pd.read_pickle(output / \"ml_single_step_metrics_test_df.pkl\")\n",
    "    pred_auto_stat_test_df = pd.read_pickle(\n",
    "        output / \"ml_single_step_prediction_auto_stationary_test_df.pkl\"\n",
    "    )\n",
    "    metrics_auto_stat_test_df = pd.read_pickle(\n",
    "        output / \"ml_single_step_metrics_auto_stationary_test_df.pkl\"\n",
    "    )\n",
    "    agg_metrics_auto_stat_test_df = pd.read_pickle(\n",
    "        output / \"ml_single_step_aggregate_metrics_auto_stationary_test.pkl\"\n",
    "    )\n",
    "    pred_baselines_test_df = pd.read_pickle(output / \"baseline_test_prediction_df.pkl\")\n",
    "    metrics_baselines_test_df = pd.read_pickle(output / \"baseline_test_metrics_df.pkl\")\n",
    "    agg_metrics_baselines_test_df = pd.read_pickle(\n",
    "        output / \"baseline_test_aggregate_metrics.pkl\"\n",
    "    )\n",
    "\n",
    "\n",
    "    pred_val_df = pd.read_pickle(output / \"ml_single_step_prediction_val_df.pkl\")\n",
    "    metrics_val_df = pd.read_pickle(output / \"ml_single_step_metrics_val_df.pkl\")\n",
    "    pred_auto_stat_val_df = pd.read_pickle(\n",
    "        output / \"ml_single_step_prediction_auto_stationary_val_df.pkl\"\n",
    "    )\n",
    "    metrics_auto_stat_val_df = pd.read_pickle(\n",
    "        output / \"ml_single_step_metrics_auto_stationary_val_df.pkl\"\n",
    "    )\n",
    "    agg_metrics_auto_stat_val_df = pd.read_pickle(\n",
    "        output / \"ml_single_step_aggregate_metrics_auto_stationary_val.pkl\"\n",
    "    )\n",
    "    pred_baselines_val_df = pd.read_pickle(output / \"baseline_val_prediction_df.pkl\")\n",
    "    metrics_baselines_val_df = pd.read_pickle(output / \"baseline_val_metrics_df.pkl\")\n",
    "    agg_metrics_baselines_val_df = pd.read_pickle(\n",
    "        output / \"baseline_val_aggregate_metrics.pkl\"\n",
    "    )\n",
    "except FileNotFoundError:\n",
    "    display(HTML(\"\"\"\n",
    "    <div class=\"alert alert-block alert-warning\">\n",
    "    <b>Warning!</b> File not found. Please make sure you have run all notebooks in Chapter08 and 02-Baseline Forecasts using NIXTLA.ipynb in Chapter04\n",
    "    </div>\n",
    "    \"\"\"))"
   ]
  },
  {
   "cell_type": "code",
   "execution_count": null,
   "id": "b12829e1-ca6c-4184-affa-377a38e8e8a3",
   "metadata": {},
   "outputs": [],
   "source": [
    "pred_val_df"
   ]
  },
  {
   "cell_type": "code",
   "execution_count": null,
   "id": "437f16f5-82af-4206-bd91-6d10d9dbd4f9",
   "metadata": {},
   "outputs": [],
   "source": [
    "pred_val_df.head(2)"
   ]
  },
  {
   "cell_type": "code",
   "execution_count": null,
   "id": "53eb7596-f70c-4b11-9222-20d7a907be36",
   "metadata": {},
   "outputs": [],
   "source": [
    "pred_auto_stat_val_df.head(2)"
   ]
  },
  {
   "cell_type": "code",
   "execution_count": null,
   "id": "54f428f7-dff1-41df-870c-0c797e048241",
   "metadata": {},
   "outputs": [],
   "source": [
    "help(pd.melt)"
   ]
  },
  {
   "cell_type": "code",
   "execution_count": null,
   "id": "556c9bbd-cbb5-41fe-9c64-dc8c6ecffb78",
   "metadata": {},
   "outputs": [],
   "source": [
    "pred_baselines_val_df = pred_baselines_val_df.set_index('timestamp').melt(id_vars = ['LCLid', 'energy_consumption'],\n",
    "                                                                          value_vars=['AutoETS', 'TBATS'],\n",
    "                                                                          var_name='Algorithm',\n",
    "                                                                          value_name='predictions',\n",
    "                                                                          ignore_index=False)\n",
    "\n",
    "\n",
    "pred_baselines_test_df = pred_baselines_test_df.set_index('timestamp').melt(id_vars = ['LCLid','energy_consumption'],\n",
    "                                                                            value_vars=['AutoETS','TBATS'],\n",
    "                                                                            var_name='Algorithm',\n",
    "                                                                            value_name='predictions',\n",
    "                                                                            ignore_index=False)"
   ]
  },
  {
   "cell_type": "code",
   "execution_count": null,
   "id": "eee0fb20-1a50-461b-a7d5-a1e388483eb7",
   "metadata": {},
   "outputs": [],
   "source": [
    "pred_baselines_test_df"
   ]
  },
  {
   "cell_type": "code",
   "execution_count": null,
   "id": "2723b6d4-6145-4285-9be9-0586536b4f38",
   "metadata": {},
   "outputs": [],
   "source": [
    "pred_val_df = pd.concat([pred_val_df, pred_auto_stat_val_df, pred_baselines_val_df])\n",
    "pred_val_df.index.name = \"timestamp\"\n",
    "\n",
    "pred_wide_val = pd.pivot(\n",
    "    pred_val_df.reset_index(),\n",
    "    index=[\"LCLid\", \"timestamp\"],\n",
    "    columns=\"Algorithm\",\n",
    "    values=\"predictions\",\n",
    ")\n",
    "pred_wide_val = pred_wide_val.join(\n",
    "    pred_val_df.loc[\n",
    "        pred_val_df.Algorithm == \"Lasso Regression\", [\"LCLid\", \"energy_consumption\"]\n",
    "    ]\n",
    "    .reset_index()\n",
    "    .set_index([\"LCLid\", \"timestamp\"])\n",
    ")\n",
    "pred_wide_val.head()"
   ]
  },
  {
   "cell_type": "code",
   "execution_count": null,
   "id": "aa58dd11-53a2-4198-933f-8f1001a02448",
   "metadata": {},
   "outputs": [],
   "source": [
    "pred_test_df = pd.concat([pred_test_df, pred_auto_stat_test_df, pred_baselines_test_df])\n",
    "pred_test_df.index.name = \"timestamp\"\n",
    "\n",
    "pred_wide_test = pd.pivot(\n",
    "    pred_test_df.reset_index(),\n",
    "    index=[\"LCLid\", \"timestamp\"],\n",
    "    columns=\"Algorithm\",\n",
    "    values=\"predictions\",\n",
    ")\n",
    "pred_wide_test = pred_wide_test.join(\n",
    "    pred_test_df.loc[\n",
    "        pred_test_df.Algorithm == \"Lasso Regression\", [\"LCLid\", \"energy_consumption\"]\n",
    "    ]\n",
    "    .reset_index()\n",
    "    .set_index([\"LCLid\", \"timestamp\"])\n",
    ")\n",
    "pred_wide_test.head()"
   ]
  },
  {
   "cell_type": "code",
   "execution_count": null,
   "id": "7d409ad2-10dc-428a-ba15-54e18c2c7cb3",
   "metadata": {},
   "outputs": [],
   "source": [
    "metrics_combined_df = pd.concat([metrics_val_df, metrics_auto_stat_val_df])\n",
    "metrics_combined_df = pd.pivot(\n",
    "    metrics_combined_df, index=\"LCLid\", columns=\"Algorithm\", values=\"MAE\"\n",
    ")\n",
    "metrics_combined_df.head()"
   ]
  },
  {
   "cell_type": "markdown",
   "id": "af442cee-577c-40bf-a9ce-0a623187aff9",
   "metadata": {},
   "source": [
    "### Combining Forecasts"
   ]
  },
  {
   "cell_type": "code",
   "execution_count": 3,
   "id": "ee73f925-470f-4727-91c4-805a2e5706f8",
   "metadata": {},
   "outputs": [],
   "source": [
    "from src.utils import ts_utils_updated\n",
    "from src.forecasting.ml_forecasting import calculate_metrics"
   ]
  },
  {
   "cell_type": "code",
   "execution_count": null,
   "id": "031a93fa-c554-46ec-9331-824b05d16daa",
   "metadata": {},
   "outputs": [],
   "source": [
    "def evaluate_ensemble(pred_wide, target_history, model, target, unique_id):\n",
    "    metric_l = []\n",
    "    for _id in tqdm(pred_wide.reset_index()[unique_id].unique()):\n",
    "        # unique_mask = pred_wide[unique_id]==_id\n",
    "        wide_df = pred_wide.xs(_id)\n",
    "        test_target = wide_df.loc[:, target]\n",
    "        y_pred = wide_df.loc[:, model]\n",
    "        history = target_history.loc[target_history[unique_id] == _id, target]\n",
    "        metric_l.append(\n",
    "            calculate_metrics(test_target, y_pred, name=model, y_train=history)\n",
    "        )\n",
    "    eval_metrics_df = pd.DataFrame(metric_l)\n",
    "    return {\n",
    "        \"Algorithm\": model,\n",
    "        \"MAE\": ts_utils.mae(\n",
    "            pred_wide.loc[:, \"energy_consumption\"], pred_wide.loc[:, model]\n",
    "        ),\n",
    "        \"MSE\": ts_utils.mse(\n",
    "            pred_wide.loc[:, \"energy_consumption\"], pred_wide.loc[:, model]\n",
    "        ),\n",
    "        \"meanMASE\": eval_metrics_df.loc[:, \"MASE\"].mean(),\n",
    "        \"Forecast Bias\": ts_utils.forecast_bias_aggregate(\n",
    "            pred_wide.loc[:, \"energy_consumption\"], pred_wide.loc[:, model]\n",
    "        ),\n",
    "    }\n",
    "\n",
    "\n",
    "def highlight_abs_min(s, props=\"\"):\n",
    "    return np.where(s == np.nanmin(np.abs(s.values)), props, \"\")"
   ]
  },
  {
   "cell_type": "code",
   "execution_count": null,
   "id": "2b485e0e-ce8b-4d45-98b5-abf378346ab2",
   "metadata": {},
   "outputs": [],
   "source": [
    "def display_metrics(agg_metrics_l):\n",
    "    _agg_metrics_df = pd.DataFrame(agg_metrics_l)\n",
    "    display(\n",
    "        _agg_metrics_df.style.format(\n",
    "            {\n",
    "                \"MAE\": \"{:.4f}\",\n",
    "                \"MSE\": \"{:.4f}\",\n",
    "                \"meanMASE\": \"{:.4f}\",\n",
    "                \"Forecast Bias\": \"{:.2f}%\",\n",
    "            }\n",
    "        )\n",
    "        .highlight_min(color=\"lightgreen\", subset=[\"MAE\", \"MSE\", \"meanMASE\"])\n",
    "        .apply(\n",
    "            highlight_abs_min,\n",
    "            props=\"color:black;background-color:lightgreen\",\n",
    "            axis=0,\n",
    "            subset=[\"Forecast Bias\"],\n",
    "        )\n",
    "    )"
   ]
  },
  {
   "cell_type": "code",
   "execution_count": null,
   "id": "f928409f-24fe-418b-96e5-c5e584f13a23",
   "metadata": {},
   "outputs": [],
   "source": [
    "ensemble_forecasts = [\n",
    "    \"AutoETS\",\n",
    "    \"Lasso Regression\",\n",
    "    \"Lasso Regression_auto_stat\",\n",
    "    \"LightGBM\",\n",
    "    \"LightGBM_auto_stat\",\n",
    "    \"TBATS\",\n",
    "    \"XGB Random Forest\",\n",
    "    \"XGB Random Forest_auto_stat\",\n",
    "]"
   ]
  },
  {
   "cell_type": "code",
   "execution_count": null,
   "id": "2b88d004-d0f5-4093-9558-93afa5a0ee5f",
   "metadata": {},
   "outputs": [],
   "source": [
    "# Picking LightGBM which is the best single model as the baseline\n",
    "agg_metrics_l = agg_metrics_auto_stat_test_df.iloc[[4]].to_dict(orient=\"records\")"
   ]
  },
  {
   "cell_type": "markdown",
   "id": "716bd0cc-859c-4812-9a2b-c88a496f2854",
   "metadata": {},
   "source": [
    "### \"Best-Fit\""
   ]
  },
  {
   "cell_type": "code",
   "execution_count": null,
   "id": "4aa87aef-e02e-428b-b5ff-c9862cee2ea4",
   "metadata": {},
   "outputs": [],
   "source": [
    "metrics_combined_df.idxmin(axis=1)"
   ]
  },
  {
   "cell_type": "code",
   "execution_count": null,
   "id": "b18691ab-4731-48e8-9d90-8115198b4929",
   "metadata": {},
   "outputs": [],
   "source": [
    "# Finding the lowest metric for each LCLid\n",
    "best_alg = metrics_combined_df.idxmin(axis=1)\n",
    "best_alg.head()"
   ]
  },
  {
   "cell_type": "code",
   "execution_count": null,
   "id": "871efc10-13b9-4abe-8623-e45573867c20",
   "metadata": {},
   "outputs": [],
   "source": [
    "best_alg"
   ]
  },
  {
   "cell_type": "code",
   "execution_count": null,
   "id": "dc439330-7a81-45f2-8ccc-0166e642d850",
   "metadata": {},
   "outputs": [],
   "source": [
    "# Initialize two columns in the dataframe\n",
    "pred_wide_test[\"best_fit\"] = np.nan\n",
    "pred_wide_test[\"best_fit_alg\"] = \"\"\n",
    "\n",
    "# Get the intersection of lcl_id values in both pred_wide_test and best_alg\n",
    "common_ids = pred_wide_test.index.get_level_values(0).unique().intersection(best_alg.index)\n",
    "\n",
    "# Iterate only over the common lcl_id values\n",
    "for lcl_id in tqdm(common_ids):\n",
    "    # Pick the best algorithm\n",
    "    alg = best_alg[lcl_id]\n",
    "    # Store the forecast in the best_fit column\n",
    "    pred_wide_test.loc[lcl_id, \"best_fit\"] = pred_wide_test.loc[lcl_id, alg].values\n",
    "    # Also store which model was chosen for traceability\n",
    "    pred_wide_test.loc[lcl_id, \"best_fit_alg\"] = alg"
   ]
  },
  {
   "cell_type": "code",
   "execution_count": null,
   "id": "3c70f85b-e095-4627-8d23-5e09c930c753",
   "metadata": {},
   "outputs": [],
   "source": [
    "agg_metric_ = evaluate_ensemble(\n",
    "    pred_wide_test, train_val_target, \"best_fit\", \"energy_consumption\", \"LCLid\"\n",
    ")\n",
    "print(agg_metric_)\n",
    "agg_metrics_l.append(agg_metric_)"
   ]
  },
  {
   "cell_type": "code",
   "execution_count": null,
   "id": "2f7584b1-6af1-4048-8c5f-92c3a5ed3dfd",
   "metadata": {},
   "outputs": [],
   "source": [
    "display_metrics(agg_metrics_l)"
   ]
  },
  {
   "cell_type": "markdown",
   "id": "aeb318dc-5efd-4710-861a-6f1867bc7b25",
   "metadata": {},
   "source": [
    "### Average & Median Ensemble"
   ]
  },
  {
   "cell_type": "code",
   "execution_count": null,
   "id": "b7abfc28-5bc3-4caa-9a2a-ade5750c2f15",
   "metadata": {},
   "outputs": [],
   "source": [
    "# ensemble_forecasts is a list of column names(forecast) we want to combine\n",
    "pred_wide_test[\"average_ensemble\"] = pred_wide_test[ensemble_forecasts].mean(axis=1)\n",
    "pred_wide_test[\"median_ensemble\"] = pred_wide_test[ensemble_forecasts].median(axis=1)"
   ]
  },
  {
   "cell_type": "code",
   "execution_count": null,
   "id": "c26c6956-ee62-49d2-93c8-2a45bec148d7",
   "metadata": {},
   "outputs": [],
   "source": [
    "agg_metric_ = evaluate_ensemble(\n",
    "    pred_wide_test, train_val_target, \"median_ensemble\", \"energy_consumption\", \"LCLid\"\n",
    ")\n",
    "print(agg_metric_)\n",
    "agg_metrics_l.append(agg_metric_)\n",
    "agg_metric_ = evaluate_ensemble(\n",
    "    pred_wide_test, train_val_target, \"average_ensemble\", \"energy_consumption\", \"LCLid\"\n",
    ")\n",
    "print(agg_metric_)\n",
    "agg_metrics_l.append(agg_metric_)"
   ]
  },
  {
   "cell_type": "code",
   "execution_count": null,
   "id": "cc8a9e37-53b4-437d-b695-9b8a3d6a7c97",
   "metadata": {},
   "outputs": [],
   "source": [
    "display_metrics(agg_metrics_l)"
   ]
  },
  {
   "cell_type": "code",
   "execution_count": null,
   "id": "5d410bea-cbc1-4d7c-a362-800c6f7389d2",
   "metadata": {},
   "outputs": [],
   "source": []
  },
  {
   "cell_type": "code",
   "execution_count": null,
   "id": "7d2414c8-3c4e-4e04-85ed-5752075549b1",
   "metadata": {},
   "outputs": [],
   "source": []
  },
  {
   "cell_type": "code",
   "execution_count": null,
   "id": "a18f113e-4838-4325-bd77-9a2fe637a4f3",
   "metadata": {},
   "outputs": [],
   "source": []
  },
  {
   "cell_type": "code",
   "execution_count": null,
   "id": "4ed7c062-15de-4f96-a442-0bcddf1bd12b",
   "metadata": {},
   "outputs": [],
   "source": []
  },
  {
   "cell_type": "code",
   "execution_count": null,
   "id": "f3e19924-4c9c-4de6-8472-d7294f3d0c62",
   "metadata": {},
   "outputs": [],
   "source": []
  },
  {
   "cell_type": "code",
   "execution_count": null,
   "id": "15c33066-aa49-46a3-8c93-8cd61117fb32",
   "metadata": {},
   "outputs": [],
   "source": []
  },
  {
   "cell_type": "code",
   "execution_count": null,
   "id": "27bd2559-e1ee-49bb-8311-36a7e4434690",
   "metadata": {},
   "outputs": [],
   "source": []
  },
  {
   "cell_type": "code",
   "execution_count": null,
   "id": "712e126d-2fda-4eef-8881-06c396da57e5",
   "metadata": {},
   "outputs": [],
   "source": []
  },
  {
   "cell_type": "code",
   "execution_count": null,
   "id": "9620e3cb-15fc-4db3-9a2e-21f69726b251",
   "metadata": {},
   "outputs": [],
   "source": []
  },
  {
   "cell_type": "code",
   "execution_count": null,
   "id": "31ee8e95-3618-4965-8054-6fd0d4e62143",
   "metadata": {},
   "outputs": [],
   "source": []
  },
  {
   "cell_type": "code",
   "execution_count": null,
   "id": "c2bb9724-0fa4-4e48-ae3f-6ad9f91417f2",
   "metadata": {},
   "outputs": [],
   "source": []
  },
  {
   "cell_type": "code",
   "execution_count": null,
   "id": "b4cc63d4-50c2-45d1-85d6-3cf23da732e8",
   "metadata": {},
   "outputs": [],
   "source": []
  },
  {
   "cell_type": "code",
   "execution_count": null,
   "id": "b0e46607-e9fd-414e-9d7e-fa06b347799d",
   "metadata": {},
   "outputs": [],
   "source": []
  },
  {
   "cell_type": "code",
   "execution_count": null,
   "id": "8735102e-31df-455e-8295-61d514e96c2a",
   "metadata": {},
   "outputs": [],
   "source": []
  },
  {
   "cell_type": "code",
   "execution_count": null,
   "id": "2a44a8c6-650b-4682-be87-66893a94cc9b",
   "metadata": {},
   "outputs": [],
   "source": []
  },
  {
   "cell_type": "code",
   "execution_count": null,
   "id": "ae79b474-b53a-4639-81d6-35ccdfafd1bc",
   "metadata": {},
   "outputs": [],
   "source": []
  }
 ],
 "metadata": {
  "kernelspec": {
   "display_name": "Python (MTSP)",
   "language": "python",
   "name": "mtsp"
  },
  "language_info": {
   "codemirror_mode": {
    "name": "ipython",
    "version": 3
   },
   "file_extension": ".py",
   "mimetype": "text/x-python",
   "name": "python",
   "nbconvert_exporter": "python",
   "pygments_lexer": "ipython3",
   "version": "3.10.18"
  }
 },
 "nbformat": 4,
 "nbformat_minor": 5
}
