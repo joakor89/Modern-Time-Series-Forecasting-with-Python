{
 "cells": [
  {
   "cell_type": "markdown",
   "id": "96d117da-80a4-4e7d-ac24-2c631e5d1d82",
   "metadata": {},
   "source": [
    "# Forecasting Combinations\n",
    "\n",
    "### Loading Libraries"
   ]
  },
  {
   "cell_type": "code",
   "execution_count": null,
   "id": "7fc3b5fc-d8b6-4e87-b6b9-a4d33c6d73b2",
   "metadata": {},
   "outputs": [],
   "source": [
    "%cd ../.."
   ]
  },
  {
   "cell_type": "code",
   "execution_count": null,
   "id": "929004f9-7ada-4658-a8cd-54eabeeca76b",
   "metadata": {},
   "outputs": [],
   "source": [
    "# Numerical Computing\n",
    "import numpy as np\n",
    "\n",
    "# Data Manipulation\n",
    "import pandas as pd\n",
    "\n",
    "# Data Visualization\n",
    "import plotly.express as px\n",
    "import plotly.graph_objects as go\n",
    "import plotly.io as pio\n",
    "\n",
    "# OS & Time\n",
    "import os\n",
    "import time\n",
    "import joblib\n",
    "\n",
    "# Warnings, Func & Path\n",
    "import warnings\n",
    "import pickleshare\n",
    "import missingno as msno\n",
    "from pathlib import Path\n",
    "from itertools import cycle\n",
    "from functools import partial\n",
    "from typing import List, Tuple\n",
    "\n",
    "# PyArrow\n",
    "import pyarrow as pa\n",
    "\n",
    "# Humanize\n",
    "import humanize\n",
    "\n",
    "# Scikit-Learn\n",
    "from sklearn.preprocessing import StandardScaler\n",
    "\n",
    "# Notebook Optimizer\n",
    "from tqdm.autonotebook import tqdm\n",
    "\n",
    "# IPython - Display\n",
    "from IPython.display import display, HTML\n",
    "\n",
    "# Random\n",
    "import random"
   ]
  },
  {
   "cell_type": "code",
   "execution_count": null,
   "id": "b6d5e98f-3e71-40d0-8293-7398f97835c8",
   "metadata": {},
   "outputs": [],
   "source": [
    "# Custom Libraries\n",
    "from src.utils import plotting_utils\n",
    "from src.utils.general import LogTime\n",
    "from src.utils.data_utils import _get_32_bit_dtype \n",
    "from src.utils.ts_utils_updated import metrics_adapter, forecast_bias,mae, mase, mse"
   ]
  },
  {
   "cell_type": "code",
   "execution_count": null,
   "id": "810a2075-3c19-46fe-8ffc-c154c9c84095",
   "metadata": {},
   "outputs": [],
   "source": [
    "# %load_ext autoreload\n",
    "# %autoreload 2"
   ]
  },
  {
   "cell_type": "code",
   "execution_count": null,
   "id": "cd9b80f3-5354-48d6-80a2-0ecdbe7dd8be",
   "metadata": {},
   "outputs": [],
   "source": [
    "tqdm.pandas()\n",
    "\n",
    "random.seed(42)\n",
    "\n",
    "np.random.seed(42)\n",
    "\n",
    "pio.templates.default = \"plotly_white\""
   ]
  },
  {
   "cell_type": "code",
   "execution_count": null,
   "id": "03fd7ecf-5b92-4d11-b7f3-d3f8dc312f60",
   "metadata": {},
   "outputs": [],
   "source": [
    "os.makedirs(\"imgs/chapter_09\", exist_ok=True)\n",
    "\n",
    "preprocessed = Path.home() / \"Desktop\" / \"data\" / \"london_smart_meters\" / \"preprocessed\"\n",
    "\n",
    "output = Path.home() / \"Desktop\" / \"data\" / \"london_smart_meters\" / \"output\""
   ]
  },
  {
   "cell_type": "code",
   "execution_count": null,
   "id": "4951ce28-24fe-4205-886c-3d42b940fe35",
   "metadata": {},
   "outputs": [],
   "source": [
    "def format_plot(fig, legends=None, xlabel=\"Time\", ylabel=\"Value\", title=\"\", font_size=15):\n",
    "    if legends:\n",
    "        names = cycle(legends)\n",
    "        fig.for_each_trace(lambda t: t.update(name=next(names)))\n",
    "    fig.update_layout(\n",
    "        autosize=False,\n",
    "        width=900,\n",
    "        height=500,\n",
    "        title_text=title,\n",
    "        title={\"x\": 0.5, \"xanchor\": \"center\", \"yanchor\": \"top\"},\n",
    "        titlefont={\"size\": 20},\n",
    "        legend_title=None,\n",
    "        legend=dict(\n",
    "                font=dict(size=font_size),\n",
    "                orientation=\"h\",\n",
    "                yanchor=\"bottom\",\n",
    "                y=0.98,\n",
    "                xanchor=\"right\",\n",
    "                x=1,\n",
    "            ),\n",
    "            yaxis=dict(\n",
    "                title_text=ylabel,\n",
    "                titlefont=dict(size=font_size),\n",
    "                tickfont=dict(size=font_size),\n",
    "            ),\n",
    "            xaxis=dict(\n",
    "                title_text=xlabel,\n",
    "                titlefont=dict(size=font_size),\n",
    "                tickfont=dict(size=font_size),\n",
    "            ),\n",
    "    )\n",
    "    return fig"
   ]
  },
  {
   "cell_type": "markdown",
   "id": "60437908-aa45-4279-a417-6a77566ae9b6",
   "metadata": {},
   "source": [
    "### Reading the Test Predictions and Metrics"
   ]
  },
  {
   "cell_type": "code",
   "execution_count": null,
   "id": "d05fd2b2-651b-45f9-9ae8-0a7a3e2db9f7",
   "metadata": {},
   "outputs": [],
   "source": [
    "try:\n",
    "    # Reading the missing value imputed and train test split data\n",
    "    train_df = pd.read_parquet(\n",
    "        preprocessed / \"selected_blocks_train_missing_imputed_feature_engg.parquet\"\n",
    "    )\n",
    "    train_df = train_df.loc[:, [\"timestamp\", \"LCLid\", \"energy_consumption\"]].set_index(\n",
    "        [\"timestamp\", \"LCLid\"]\n",
    "    )\n",
    "    val_df = pd.read_parquet(\n",
    "        preprocessed / \"selected_blocks_val_missing_imputed_feature_engg.parquet\"\n",
    "    )\n",
    "    val_df = val_df.loc[:, [\"timestamp\", \"LCLid\", \"energy_consumption\"]].set_index(\n",
    "        [\"timestamp\", \"LCLid\"]\n",
    "    )\n",
    "\n",
    "    train_target = train_df.reset_index().set_index(\"timestamp\")\n",
    "    # Combine train and val into new train\n",
    "    train_val_target = pd.concat([train_df, val_df]).reset_index().set_index(\"timestamp\")\n",
    "\n",
    "    del val_df, train_df\n",
    "except FileNotFoundError:\n",
    "    display(HTML(\"\"\"\n",
    "    <div class=\"alert alert-block alert-warning\">\n",
    "    <b>Warning!</b> File not found. Please make sure you have run 01-Feature Engineering.ipynb in Chapter06\n",
    "    </div>\n",
    "    \"\"\"))"
   ]
  },
  {
   "cell_type": "code",
   "execution_count": null,
   "id": "bdbadb48-7b05-4728-a871-3c50fcbcda6f",
   "metadata": {},
   "outputs": [],
   "source": [
    "try:\n",
    "    pred_test_df = pd.read_pickle(output / \"ml_single_step_prediction_test_df.pkl\")\n",
    "    metrics_test_df = pd.read_pickle(output / \"ml_single_step_metrics_test_df.pkl\")\n",
    "    pred_auto_stat_test_df = pd.read_pickle(\n",
    "        output / \"ml_single_step_prediction_auto_stationary_test_df.pkl\"\n",
    "    )\n",
    "    metrics_auto_stat_test_df = pd.read_pickle(\n",
    "        output / \"ml_single_step_metrics_auto_stationary_test_df.pkl\"\n",
    "    )\n",
    "    agg_metrics_auto_stat_test_df = pd.read_pickle(\n",
    "        output / \"ml_single_step_aggregate_metrics_auto_stationary_test.pkl\"\n",
    "    )\n",
    "    pred_baselines_test_df = pd.read_pickle(output / \"baseline_test_prediction_df.pkl\")\n",
    "    metrics_baselines_test_df = pd.read_pickle(output / \"baseline_test_metrics_df.pkl\")\n",
    "    agg_metrics_baselines_test_df = pd.read_pickle(\n",
    "        output / \"baseline_test_aggregate_metrics.pkl\"\n",
    "    )\n",
    "\n",
    "\n",
    "    pred_val_df = pd.read_pickle(output / \"ml_single_step_prediction_val_df.pkl\")\n",
    "    metrics_val_df = pd.read_pickle(output / \"ml_single_step_metrics_val_df.pkl\")\n",
    "    pred_auto_stat_val_df = pd.read_pickle(\n",
    "        output / \"ml_single_step_prediction_auto_stationary_val_df.pkl\"\n",
    "    )\n",
    "    metrics_auto_stat_val_df = pd.read_pickle(\n",
    "        output / \"ml_single_step_metrics_auto_stationary_val_df.pkl\"\n",
    "    )\n",
    "    agg_metrics_auto_stat_val_df = pd.read_pickle(\n",
    "        output / \"ml_single_step_aggregate_metrics_auto_stationary_val.pkl\"\n",
    "    )\n",
    "    pred_baselines_val_df = pd.read_pickle(output / \"baseline_val_prediction_df.pkl\")\n",
    "    metrics_baselines_val_df = pd.read_pickle(output / \"baseline_val_metrics_df.pkl\")\n",
    "    agg_metrics_baselines_val_df = pd.read_pickle(\n",
    "        output / \"baseline_val_aggregate_metrics.pkl\"\n",
    "    )\n",
    "except FileNotFoundError:\n",
    "    display(HTML(\"\"\"\n",
    "    <div class=\"alert alert-block alert-warning\">\n",
    "    <b>Warning!</b> File not found. Please make sure you have run all notebooks in Chapter08 and 02-Baseline Forecasts using NIXTLA.ipynb in Chapter04\n",
    "    </div>\n",
    "    \"\"\"))"
   ]
  },
  {
   "cell_type": "code",
   "execution_count": null,
   "id": "b12829e1-ca6c-4184-affa-377a38e8e8a3",
   "metadata": {},
   "outputs": [],
   "source": [
    "pred_val_df"
   ]
  },
  {
   "cell_type": "code",
   "execution_count": null,
   "id": "437f16f5-82af-4206-bd91-6d10d9dbd4f9",
   "metadata": {},
   "outputs": [],
   "source": [
    "pred_val_df.head(2)"
   ]
  },
  {
   "cell_type": "code",
   "execution_count": null,
   "id": "53eb7596-f70c-4b11-9222-20d7a907be36",
   "metadata": {},
   "outputs": [],
   "source": [
    "pred_auto_stat_val_df.head(2)"
   ]
  },
  {
   "cell_type": "code",
   "execution_count": null,
   "id": "54f428f7-dff1-41df-870c-0c797e048241",
   "metadata": {},
   "outputs": [],
   "source": [
    "help(pd.melt)"
   ]
  },
  {
   "cell_type": "code",
   "execution_count": null,
   "id": "556c9bbd-cbb5-41fe-9c64-dc8c6ecffb78",
   "metadata": {},
   "outputs": [],
   "source": [
    "pred_baselines_val_df = pred_baselines_val_df.set_index('timestamp').melt(id_vars = ['LCLid', 'energy_consumption'],\n",
    "                                                                          value_vars=['AutoETS', 'TBATS'],\n",
    "                                                                          var_name='Algorithm',\n",
    "                                                                          value_name='predictions',\n",
    "                                                                          ignore_index=False)\n",
    "\n",
    "\n",
    "pred_baselines_test_df = pred_baselines_test_df.set_index('timestamp').melt(id_vars = ['LCLid','energy_consumption'],\n",
    "                                                                            value_vars=['AutoETS','TBATS'],\n",
    "                                                                            var_name='Algorithm',\n",
    "                                                                            value_name='predictions',\n",
    "                                                                            ignore_index=False)"
   ]
  },
  {
   "cell_type": "code",
   "execution_count": null,
   "id": "eee0fb20-1a50-461b-a7d5-a1e388483eb7",
   "metadata": {},
   "outputs": [],
   "source": [
    "pred_baselines_test_df"
   ]
  },
  {
   "cell_type": "code",
   "execution_count": null,
   "id": "2723b6d4-6145-4285-9be9-0586536b4f38",
   "metadata": {},
   "outputs": [],
   "source": [
    "pred_val_df = pd.concat([pred_val_df, pred_auto_stat_val_df, pred_baselines_val_df])\n",
    "pred_val_df.index.name = \"timestamp\"\n",
    "\n",
    "pred_wide_val = pd.pivot(\n",
    "    pred_val_df.reset_index(),\n",
    "    index=[\"LCLid\", \"timestamp\"],\n",
    "    columns=\"Algorithm\",\n",
    "    values=\"predictions\",\n",
    ")\n",
    "pred_wide_val = pred_wide_val.join(\n",
    "    pred_val_df.loc[\n",
    "        pred_val_df.Algorithm == \"Lasso Regression\", [\"LCLid\", \"energy_consumption\"]\n",
    "    ]\n",
    "    .reset_index()\n",
    "    .set_index([\"LCLid\", \"timestamp\"])\n",
    ")\n",
    "pred_wide_val.head()"
   ]
  },
  {
   "cell_type": "code",
   "execution_count": null,
   "id": "aa58dd11-53a2-4198-933f-8f1001a02448",
   "metadata": {},
   "outputs": [],
   "source": [
    "pred_test_df = pd.concat([pred_test_df, pred_auto_stat_test_df, pred_baselines_test_df])\n",
    "pred_test_df.index.name = \"timestamp\"\n",
    "\n",
    "pred_wide_test = pd.pivot(\n",
    "    pred_test_df.reset_index(),\n",
    "    index=[\"LCLid\", \"timestamp\"],\n",
    "    columns=\"Algorithm\",\n",
    "    values=\"predictions\",\n",
    ")\n",
    "pred_wide_test = pred_wide_test.join(\n",
    "    pred_test_df.loc[\n",
    "        pred_test_df.Algorithm == \"Lasso Regression\", [\"LCLid\", \"energy_consumption\"]\n",
    "    ]\n",
    "    .reset_index()\n",
    "    .set_index([\"LCLid\", \"timestamp\"])\n",
    ")\n",
    "pred_wide_test.head()"
   ]
  },
  {
   "cell_type": "code",
   "execution_count": null,
   "id": "7d409ad2-10dc-428a-ba15-54e18c2c7cb3",
   "metadata": {},
   "outputs": [],
   "source": [
    "metrics_combined_df = pd.concat([metrics_val_df, metrics_auto_stat_val_df])\n",
    "metrics_combined_df = pd.pivot(\n",
    "    metrics_combined_df, index=\"LCLid\", columns=\"Algorithm\", values=\"MAE\"\n",
    ")\n",
    "metrics_combined_df.head()"
   ]
  },
  {
   "cell_type": "code",
   "execution_count": null,
   "id": "d642cc11-a4b9-45c9-944d-086219af3c03",
   "metadata": {},
   "outputs": [],
   "source": []
  },
  {
   "cell_type": "code",
   "execution_count": null,
   "id": "ee73f925-470f-4727-91c4-805a2e5706f8",
   "metadata": {},
   "outputs": [],
   "source": []
  },
  {
   "cell_type": "code",
   "execution_count": null,
   "id": "031a93fa-c554-46ec-9331-824b05d16daa",
   "metadata": {},
   "outputs": [],
   "source": []
  },
  {
   "cell_type": "code",
   "execution_count": null,
   "id": "2b485e0e-ce8b-4d45-98b5-abf378346ab2",
   "metadata": {},
   "outputs": [],
   "source": []
  }
 ],
 "metadata": {
  "kernelspec": {
   "display_name": "Python (MTSP)",
   "language": "python",
   "name": "mtsp"
  },
  "language_info": {
   "codemirror_mode": {
    "name": "ipython",
    "version": 3
   },
   "file_extension": ".py",
   "mimetype": "text/x-python",
   "name": "python",
   "nbconvert_exporter": "python",
   "pygments_lexer": "ipython3",
   "version": "3.10.18"
  }
 },
 "nbformat": 4,
 "nbformat_minor": 5
}
