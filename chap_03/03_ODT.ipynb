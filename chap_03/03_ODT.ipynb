{
 "cells": [
  {
   "cell_type": "markdown",
   "id": "7c58ac5d-81da-4809-a06d-4ee724e73521",
   "metadata": {},
   "source": [
    "# Outlier Detection & Treatments\n",
    "\n",
    "### Loading Libraries"
   ]
  },
  {
   "cell_type": "code",
   "execution_count": 20,
   "id": "325a2f5b-b8a2-4533-aa9a-a24c86f8f671",
   "metadata": {},
   "outputs": [],
   "source": [
    "# Numerical Computing\n",
    "import numpy as np\n",
    "\n",
    "# Data Manipulation\n",
    "import pandas as pd\n",
    "\n",
    "# Data Visualization\n",
    "import seaborn as sns\n",
    "import plotly.io as pio\n",
    "import plotly.express as px\n",
    "import matplotlib.pyplot as plt\n",
    "import plotly.graph_objects as go\n",
    "\n",
    "# Warnings\n",
    "import warnings\n",
    "\n",
    "# OS\n",
    "import os\n",
    "import sys\n",
    "import pickleshare\n",
    "import missingno as msno\n",
    "from itertools import cycle\n",
    "\n",
    "# PyArrow\n",
    "import pyarrow as pa\n",
    "\n",
    "# Path & Notebook Optimizer\n",
    "from pathlib import Path\n",
    "from tqdm.auto import tqdm\n",
    "\n",
    "# Scikit-Learn\n",
    "from sklearn.metrics import mean_absolute_error\n",
    "\n",
    "# IPython\n",
    "from IPython.display import display, HTML"
   ]
  },
  {
   "cell_type": "code",
   "execution_count": 2,
   "id": "0ddba412-712b-4c52-8f51-8c9d976f6177",
   "metadata": {},
   "outputs": [],
   "source": [
    "%load_ext autoreload\n",
    "%autoreload 2"
   ]
  },
  {
   "cell_type": "code",
   "execution_count": 3,
   "id": "d21c66e8-d62c-438e-8db0-52107dd9679d",
   "metadata": {},
   "outputs": [],
   "source": [
    "tqdm.pandas()\n",
    "\n",
    "np.random.seed()\n",
    "\n",
    "pio.templates.default = \"plotly_white\"\n",
    "\n",
    "sys.path.append('/Users/joaquinromero/Desktop/MTSF')"
   ]
  },
  {
   "cell_type": "code",
   "execution_count": 4,
   "id": "5dcf6658-8121-40a3-b5fe-5ffe5efb70f5",
   "metadata": {},
   "outputs": [],
   "source": [
    "warnings.filterwarnings(\"ignore\", category=UserWarning)\n",
    "\n",
    "warnings.filterwarnings(\"ignore\", category=FutureWarning)\n",
    "\n",
    "warnings.filterwarnings(\"ignore\", message=\"'force_all_finite' was renamed to 'ensure_all_finite'\")"
   ]
  },
  {
   "cell_type": "code",
   "execution_count": 5,
   "id": "439149a6-652e-4161-83d3-2b6bfa59ecbf",
   "metadata": {},
   "outputs": [],
   "source": [
    "os.makedirs(\"imgs/chapter_03\", exist_ok=True)"
   ]
  },
  {
   "cell_type": "code",
   "execution_count": 6,
   "id": "3afaf2ba-43e4-40fd-b385-f115d3b69673",
   "metadata": {},
   "outputs": [],
   "source": [
    "preprocessed = Path.home() / \"Desktop\" / \"data\" / \"london_smart_meters\" / \"preprocessed\""
   ]
  },
  {
   "cell_type": "code",
   "execution_count": 7,
   "id": "85be1fcd-5c4a-4fa4-800b-ed234da8d6e5",
   "metadata": {},
   "outputs": [],
   "source": [
    "assert preprocessed.is_dir(), \"You have to run 02 - Preprocessing London Smart Meter Dataset.ipynb in Chapter02 before running this notebook\""
   ]
  },
  {
   "cell_type": "code",
   "execution_count": 8,
   "id": "7346a7f7-1d6b-4ada-8abc-f9730b964fda",
   "metadata": {},
   "outputs": [],
   "source": [
    "from itertools import cycle\n",
    "\n",
    "def format_plot(fig, legends=None, xlabel=\"Time\", ylabel=\"Value\", font_size=15, title_font_size=20):\n",
    "    if legends:\n",
    "        names = cycle(legends)\n",
    "        fig.for_each_trace(lambda t: t.update(name=next(names)))\n",
    "        \n",
    "    fig.update_layout(\n",
    "        autosize=False,\n",
    "        width=900,\n",
    "        height=500,\n",
    "        title=dict(\n",
    "            text=fig.layout.title.text if fig.layout.title.text else \"\",\n",
    "            x=0.5,\n",
    "            xanchor=\"center\",\n",
    "            yanchor=\"top\",\n",
    "            font=dict(size=title_font_size)\n",
    "        ),\n",
    "        legend_title=None,\n",
    "        legend=dict(\n",
    "            font=dict(size=font_size),\n",
    "            orientation=\"h\",\n",
    "            yanchor=\"bottom\",\n",
    "            y=0.98,\n",
    "            xanchor=\"right\",\n",
    "            x=1,\n",
    "        ),\n",
    "        yaxis=dict(\n",
    "            title=dict(\n",
    "                text=ylabel,\n",
    "                font=dict(size=font_size)\n",
    "            ),\n",
    "            tickfont=dict(size=font_size)\n",
    "        ),\n",
    "        xaxis=dict(\n",
    "            title=dict(\n",
    "                text=xlabel,\n",
    "                font=dict(size=font_size)\n",
    "            ),\n",
    "            tickfont=dict(size=font_size)\n",
    "        )\n",
    "    )\n",
    "    \n",
    "    return fig"
   ]
  },
  {
   "cell_type": "markdown",
   "id": "ef391904-db8e-40c3-90f0-6ff68e85c963",
   "metadata": {},
   "source": [
    "### Reading Blocks 0-7"
   ]
  },
  {
   "cell_type": "code",
   "execution_count": 9,
   "id": "d8d51174-33ff-4593-8864-48d94715a6ac",
   "metadata": {},
   "outputs": [],
   "source": [
    "from src.utils.data_utils import compact_to_expanded"
   ]
  },
  {
   "cell_type": "code",
   "execution_count": 10,
   "id": "58d6b8e9-946e-4e81-b1ae-6962f54fb9cc",
   "metadata": {},
   "outputs": [
    {
     "data": {
      "text/html": [
       "<div>\n",
       "<style scoped>\n",
       "    .dataframe tbody tr th:only-of-type {\n",
       "        vertical-align: middle;\n",
       "    }\n",
       "\n",
       "    .dataframe tbody tr th {\n",
       "        vertical-align: top;\n",
       "    }\n",
       "\n",
       "    .dataframe thead th {\n",
       "        text-align: right;\n",
       "    }\n",
       "</style>\n",
       "<table border=\"1\" class=\"dataframe\">\n",
       "  <thead>\n",
       "    <tr style=\"text-align: right;\">\n",
       "      <th></th>\n",
       "      <th>LCLid</th>\n",
       "      <th>start_timestamp</th>\n",
       "      <th>frequency</th>\n",
       "      <th>energy_consumption</th>\n",
       "      <th>series_length</th>\n",
       "      <th>stdorToU</th>\n",
       "      <th>Acorn</th>\n",
       "      <th>Acorn_grouped</th>\n",
       "      <th>file</th>\n",
       "      <th>holidays</th>\n",
       "      <th>...</th>\n",
       "      <th>windBearing</th>\n",
       "      <th>temperature</th>\n",
       "      <th>dewPoint</th>\n",
       "      <th>pressure</th>\n",
       "      <th>apparentTemperature</th>\n",
       "      <th>windSpeed</th>\n",
       "      <th>precipType</th>\n",
       "      <th>icon</th>\n",
       "      <th>humidity</th>\n",
       "      <th>summary</th>\n",
       "    </tr>\n",
       "  </thead>\n",
       "  <tbody>\n",
       "    <tr>\n",
       "      <th>0</th>\n",
       "      <td>MAC000002</td>\n",
       "      <td>2012-10-13</td>\n",
       "      <td>30min</td>\n",
       "      <td>[0.263, 0.2689999999999999, 0.275, 0.256, 0.21...</td>\n",
       "      <td>24144</td>\n",
       "      <td>Std</td>\n",
       "      <td>ACORN-A</td>\n",
       "      <td>Affluent</td>\n",
       "      <td>block_0</td>\n",
       "      <td>[NO_HOLIDAY, NO_HOLIDAY, NO_HOLIDAY, NO_HOLIDA...</td>\n",
       "      <td>...</td>\n",
       "      <td>[186, 186, 188, 188, 190, 190, 203, 203, 206, ...</td>\n",
       "      <td>[8.78, 8.78, 8.27, 8.27, 7.87, 7.87, 7.89, 7.8...</td>\n",
       "      <td>[6.28, 6.28, 6.21, 6.21, 6.22, 6.22, 6.76, 6.7...</td>\n",
       "      <td>[1007.7, 1007.7, 1007.36, 1007.36, 1006.73, 10...</td>\n",
       "      <td>[7.55, 7.55, 7.34, 7.34, 6.75, 6.75, 6.89, 6.8...</td>\n",
       "      <td>[2.28, 2.28, 1.81, 1.81, 1.95, 1.95, 1.83, 1.8...</td>\n",
       "      <td>[rain, rain, rain, rain, rain, rain, rain, rai...</td>\n",
       "      <td>[clear-night, clear-night, clear-night, clear-...</td>\n",
       "      <td>[0.84, 0.84, 0.87, 0.87, 0.89, 0.89, 0.93, 0.9...</td>\n",
       "      <td>[Clear, Clear, Clear, Clear, Partly Cloudy, Pa...</td>\n",
       "    </tr>\n",
       "    <tr>\n",
       "      <th>1</th>\n",
       "      <td>MAC000246</td>\n",
       "      <td>2012-01-01</td>\n",
       "      <td>30min</td>\n",
       "      <td>[0.509, 0.317, 0.253, 0.249, 0.93, 0.607, 0.10...</td>\n",
       "      <td>37872</td>\n",
       "      <td>Std</td>\n",
       "      <td>ACORN-A</td>\n",
       "      <td>Affluent</td>\n",
       "      <td>block_0</td>\n",
       "      <td>[NO_HOLIDAY, NO_HOLIDAY, NO_HOLIDAY, NO_HOLIDA...</td>\n",
       "      <td>...</td>\n",
       "      <td>[229, 229, 238, 238, 229, 229, 231, 231, 227, ...</td>\n",
       "      <td>[12.12, 12.12, 12.59, 12.59, 12.45, 12.45, 12....</td>\n",
       "      <td>[10.97, 10.97, 11.02, 11.02, 11.04, 11.04, 10....</td>\n",
       "      <td>[1008.1, 1008.1, 1007.88, 1007.88, 1007.95, 10...</td>\n",
       "      <td>[12.12, 12.12, 12.59, 12.59, 12.45, 12.45, 12....</td>\n",
       "      <td>[5.9, 5.9, 6.06, 6.06, 5.31, 5.31, 4.68, 4.68,...</td>\n",
       "      <td>[rain, rain, rain, rain, rain, rain, rain, rai...</td>\n",
       "      <td>[partly-cloudy-night, partly-cloudy-night, clo...</td>\n",
       "      <td>[0.93, 0.93, 0.9, 0.9, 0.91, 0.91, 0.93, 0.93,...</td>\n",
       "      <td>[Mostly Cloudy, Mostly Cloudy, Overcast, Overc...</td>\n",
       "    </tr>\n",
       "    <tr>\n",
       "      <th>2</th>\n",
       "      <td>MAC000450</td>\n",
       "      <td>2012-03-23</td>\n",
       "      <td>30min</td>\n",
       "      <td>[1.337, 1.426, 0.996, 0.971, 0.994, 0.952, 0.8...</td>\n",
       "      <td>33936</td>\n",
       "      <td>Std</td>\n",
       "      <td>ACORN-A</td>\n",
       "      <td>Affluent</td>\n",
       "      <td>block_0</td>\n",
       "      <td>[NO_HOLIDAY, NO_HOLIDAY, NO_HOLIDAY, NO_HOLIDA...</td>\n",
       "      <td>...</td>\n",
       "      <td>[78, 78, 73, 73, 81, 81, 80, 80, 75, 75, 71, 7...</td>\n",
       "      <td>[8.76, 8.76, 8.54, 8.54, 8.09, 8.09, 7.34, 7.3...</td>\n",
       "      <td>[7.25, 7.25, 7.12, 7.12, 7.17, 7.17, 6.68, 6.6...</td>\n",
       "      <td>[1027.41, 1027.41, 1026.91, 1026.91, 1026.54, ...</td>\n",
       "      <td>[7.59, 7.59, 7.43, 7.43, 7.24, 7.24, 7.34, 7.3...</td>\n",
       "      <td>[2.18, 2.18, 2.07, 2.07, 1.72, 1.72, 1.34, 1.3...</td>\n",
       "      <td>[rain, rain, rain, rain, rain, rain, rain, rai...</td>\n",
       "      <td>[fog, fog, fog, fog, fog, fog, fog, fog, fog, ...</td>\n",
       "      <td>[0.9, 0.9, 0.91, 0.91, 0.94, 0.94, 0.96, 0.96,...</td>\n",
       "      <td>[Foggy, Foggy, Foggy, Foggy, Foggy, Foggy, Fog...</td>\n",
       "    </tr>\n",
       "    <tr>\n",
       "      <th>3</th>\n",
       "      <td>MAC001074</td>\n",
       "      <td>2012-05-09</td>\n",
       "      <td>30min</td>\n",
       "      <td>[0.18, 0.086, 0.106, 0.173, 0.146, 0.223, 0.21...</td>\n",
       "      <td>31680</td>\n",
       "      <td>ToU</td>\n",
       "      <td>ACORN-</td>\n",
       "      <td>ACORN-</td>\n",
       "      <td>block_0</td>\n",
       "      <td>[NO_HOLIDAY, NO_HOLIDAY, NO_HOLIDAY, NO_HOLIDA...</td>\n",
       "      <td>...</td>\n",
       "      <td>[215, 215, 207, 207, 215, 215, 216, 216, 126, ...</td>\n",
       "      <td>[11.46, 11.46, 11.38, 11.38, 11.38, 11.38, 10....</td>\n",
       "      <td>[10.23, 10.23, 10.17, 10.17, 10.24, 10.24, 10....</td>\n",
       "      <td>[1007.39, 1007.39, 1007.21, 1007.21, 1007.06, ...</td>\n",
       "      <td>[11.46, 11.46, 11.38, 11.38, 11.38, 11.38, 10....</td>\n",
       "      <td>[2.35, 2.35, 2.15, 2.15, 1.84, 1.84, 1.22, 1.2...</td>\n",
       "      <td>[rain, rain, rain, rain, rain, rain, rain, rai...</td>\n",
       "      <td>[partly-cloudy-night, partly-cloudy-night, par...</td>\n",
       "      <td>[0.92, 0.92, 0.92, 0.92, 0.93, 0.93, 0.95, 0.9...</td>\n",
       "      <td>[Partly Cloudy, Partly Cloudy, Mostly Cloudy, ...</td>\n",
       "    </tr>\n",
       "    <tr>\n",
       "      <th>4</th>\n",
       "      <td>MAC003223</td>\n",
       "      <td>2012-09-18</td>\n",
       "      <td>30min</td>\n",
       "      <td>[0.076, 0.079, 0.123, 0.109, 0.051, 0.069, 0.0...</td>\n",
       "      <td>25344</td>\n",
       "      <td>Std</td>\n",
       "      <td>ACORN-A</td>\n",
       "      <td>Affluent</td>\n",
       "      <td>block_0</td>\n",
       "      <td>[NO_HOLIDAY, NO_HOLIDAY, NO_HOLIDAY, NO_HOLIDA...</td>\n",
       "      <td>...</td>\n",
       "      <td>[236, 236, 240, 240, 242, 242, 244, 244, 248, ...</td>\n",
       "      <td>[14.06, 14.06, 13.12, 13.12, 12.53, 12.53, 12....</td>\n",
       "      <td>[10.82, 10.82, 10.29, 10.29, 9.86, 9.86, 9.83,...</td>\n",
       "      <td>[1011.09, 1011.09, 1010.82, 1010.82, 1010.65, ...</td>\n",
       "      <td>[14.06, 14.06, 13.12, 13.12, 12.53, 12.53, 12....</td>\n",
       "      <td>[3.86, 3.86, 3.81, 3.81, 4.27, 4.27, 4.12, 4.1...</td>\n",
       "      <td>[rain, rain, rain, rain, rain, rain, rain, rai...</td>\n",
       "      <td>[clear-night, clear-night, clear-night, clear-...</td>\n",
       "      <td>[0.81, 0.81, 0.83, 0.83, 0.84, 0.84, 0.86, 0.8...</td>\n",
       "      <td>[Clear, Clear, Clear, Clear, Clear, Clear, Par...</td>\n",
       "    </tr>\n",
       "  </tbody>\n",
       "</table>\n",
       "<p>5 rows × 21 columns</p>\n",
       "</div>"
      ],
      "text/plain": [
       "       LCLid start_timestamp frequency  \\\n",
       "0  MAC000002      2012-10-13     30min   \n",
       "1  MAC000246      2012-01-01     30min   \n",
       "2  MAC000450      2012-03-23     30min   \n",
       "3  MAC001074      2012-05-09     30min   \n",
       "4  MAC003223      2012-09-18     30min   \n",
       "\n",
       "                                  energy_consumption  series_length stdorToU  \\\n",
       "0  [0.263, 0.2689999999999999, 0.275, 0.256, 0.21...          24144      Std   \n",
       "1  [0.509, 0.317, 0.253, 0.249, 0.93, 0.607, 0.10...          37872      Std   \n",
       "2  [1.337, 1.426, 0.996, 0.971, 0.994, 0.952, 0.8...          33936      Std   \n",
       "3  [0.18, 0.086, 0.106, 0.173, 0.146, 0.223, 0.21...          31680      ToU   \n",
       "4  [0.076, 0.079, 0.123, 0.109, 0.051, 0.069, 0.0...          25344      Std   \n",
       "\n",
       "     Acorn Acorn_grouped     file  \\\n",
       "0  ACORN-A      Affluent  block_0   \n",
       "1  ACORN-A      Affluent  block_0   \n",
       "2  ACORN-A      Affluent  block_0   \n",
       "3   ACORN-        ACORN-  block_0   \n",
       "4  ACORN-A      Affluent  block_0   \n",
       "\n",
       "                                            holidays  ...  \\\n",
       "0  [NO_HOLIDAY, NO_HOLIDAY, NO_HOLIDAY, NO_HOLIDA...  ...   \n",
       "1  [NO_HOLIDAY, NO_HOLIDAY, NO_HOLIDAY, NO_HOLIDA...  ...   \n",
       "2  [NO_HOLIDAY, NO_HOLIDAY, NO_HOLIDAY, NO_HOLIDA...  ...   \n",
       "3  [NO_HOLIDAY, NO_HOLIDAY, NO_HOLIDAY, NO_HOLIDA...  ...   \n",
       "4  [NO_HOLIDAY, NO_HOLIDAY, NO_HOLIDAY, NO_HOLIDA...  ...   \n",
       "\n",
       "                                         windBearing  \\\n",
       "0  [186, 186, 188, 188, 190, 190, 203, 203, 206, ...   \n",
       "1  [229, 229, 238, 238, 229, 229, 231, 231, 227, ...   \n",
       "2  [78, 78, 73, 73, 81, 81, 80, 80, 75, 75, 71, 7...   \n",
       "3  [215, 215, 207, 207, 215, 215, 216, 216, 126, ...   \n",
       "4  [236, 236, 240, 240, 242, 242, 244, 244, 248, ...   \n",
       "\n",
       "                                         temperature  \\\n",
       "0  [8.78, 8.78, 8.27, 8.27, 7.87, 7.87, 7.89, 7.8...   \n",
       "1  [12.12, 12.12, 12.59, 12.59, 12.45, 12.45, 12....   \n",
       "2  [8.76, 8.76, 8.54, 8.54, 8.09, 8.09, 7.34, 7.3...   \n",
       "3  [11.46, 11.46, 11.38, 11.38, 11.38, 11.38, 10....   \n",
       "4  [14.06, 14.06, 13.12, 13.12, 12.53, 12.53, 12....   \n",
       "\n",
       "                                            dewPoint  \\\n",
       "0  [6.28, 6.28, 6.21, 6.21, 6.22, 6.22, 6.76, 6.7...   \n",
       "1  [10.97, 10.97, 11.02, 11.02, 11.04, 11.04, 10....   \n",
       "2  [7.25, 7.25, 7.12, 7.12, 7.17, 7.17, 6.68, 6.6...   \n",
       "3  [10.23, 10.23, 10.17, 10.17, 10.24, 10.24, 10....   \n",
       "4  [10.82, 10.82, 10.29, 10.29, 9.86, 9.86, 9.83,...   \n",
       "\n",
       "                                            pressure  \\\n",
       "0  [1007.7, 1007.7, 1007.36, 1007.36, 1006.73, 10...   \n",
       "1  [1008.1, 1008.1, 1007.88, 1007.88, 1007.95, 10...   \n",
       "2  [1027.41, 1027.41, 1026.91, 1026.91, 1026.54, ...   \n",
       "3  [1007.39, 1007.39, 1007.21, 1007.21, 1007.06, ...   \n",
       "4  [1011.09, 1011.09, 1010.82, 1010.82, 1010.65, ...   \n",
       "\n",
       "                                 apparentTemperature  \\\n",
       "0  [7.55, 7.55, 7.34, 7.34, 6.75, 6.75, 6.89, 6.8...   \n",
       "1  [12.12, 12.12, 12.59, 12.59, 12.45, 12.45, 12....   \n",
       "2  [7.59, 7.59, 7.43, 7.43, 7.24, 7.24, 7.34, 7.3...   \n",
       "3  [11.46, 11.46, 11.38, 11.38, 11.38, 11.38, 10....   \n",
       "4  [14.06, 14.06, 13.12, 13.12, 12.53, 12.53, 12....   \n",
       "\n",
       "                                           windSpeed  \\\n",
       "0  [2.28, 2.28, 1.81, 1.81, 1.95, 1.95, 1.83, 1.8...   \n",
       "1  [5.9, 5.9, 6.06, 6.06, 5.31, 5.31, 4.68, 4.68,...   \n",
       "2  [2.18, 2.18, 2.07, 2.07, 1.72, 1.72, 1.34, 1.3...   \n",
       "3  [2.35, 2.35, 2.15, 2.15, 1.84, 1.84, 1.22, 1.2...   \n",
       "4  [3.86, 3.86, 3.81, 3.81, 4.27, 4.27, 4.12, 4.1...   \n",
       "\n",
       "                                          precipType  \\\n",
       "0  [rain, rain, rain, rain, rain, rain, rain, rai...   \n",
       "1  [rain, rain, rain, rain, rain, rain, rain, rai...   \n",
       "2  [rain, rain, rain, rain, rain, rain, rain, rai...   \n",
       "3  [rain, rain, rain, rain, rain, rain, rain, rai...   \n",
       "4  [rain, rain, rain, rain, rain, rain, rain, rai...   \n",
       "\n",
       "                                                icon  \\\n",
       "0  [clear-night, clear-night, clear-night, clear-...   \n",
       "1  [partly-cloudy-night, partly-cloudy-night, clo...   \n",
       "2  [fog, fog, fog, fog, fog, fog, fog, fog, fog, ...   \n",
       "3  [partly-cloudy-night, partly-cloudy-night, par...   \n",
       "4  [clear-night, clear-night, clear-night, clear-...   \n",
       "\n",
       "                                            humidity  \\\n",
       "0  [0.84, 0.84, 0.87, 0.87, 0.89, 0.89, 0.93, 0.9...   \n",
       "1  [0.93, 0.93, 0.9, 0.9, 0.91, 0.91, 0.93, 0.93,...   \n",
       "2  [0.9, 0.9, 0.91, 0.91, 0.94, 0.94, 0.96, 0.96,...   \n",
       "3  [0.92, 0.92, 0.92, 0.92, 0.93, 0.93, 0.95, 0.9...   \n",
       "4  [0.81, 0.81, 0.83, 0.83, 0.84, 0.84, 0.86, 0.8...   \n",
       "\n",
       "                                             summary  \n",
       "0  [Clear, Clear, Clear, Clear, Partly Cloudy, Pa...  \n",
       "1  [Mostly Cloudy, Mostly Cloudy, Overcast, Overc...  \n",
       "2  [Foggy, Foggy, Foggy, Foggy, Foggy, Foggy, Fog...  \n",
       "3  [Partly Cloudy, Partly Cloudy, Mostly Cloudy, ...  \n",
       "4  [Clear, Clear, Clear, Clear, Clear, Clear, Par...  \n",
       "\n",
       "[5 rows x 21 columns]"
      ]
     },
     "metadata": {},
     "output_type": "display_data"
    }
   ],
   "source": [
    "try:\n",
    "    block_df = pd.read_parquet(preprocessed/\"london_smart_meters_merged_block_0-7.parquet\")\n",
    "    display(block_df.head())\n",
    "except FileNotFoundError:\n",
    "    display(HTML(\"\"\"\n",
    "    <div class=\"alert alert-block alert-warning\">\n",
    "    <b>Warning!</b> File not found. Please make sure you have run 02 - Preprocessing London Smart Meter Dataset.ipynb in Chapter02\n",
    "    </div>\n",
    "    \"\"\"))"
   ]
  },
  {
   "cell_type": "code",
   "execution_count": 11,
   "id": "0a8be0a6-3140-4e16-b04e-6e1791a1637e",
   "metadata": {},
   "outputs": [
    {
     "data": {
      "application/vnd.jupyter.widget-view+json": {
       "model_id": "7cbc050980f4405892c8901b619225e3",
       "version_major": 2,
       "version_minor": 0
      },
      "text/plain": [
       "  0%|          | 0/50 [00:00<?, ?it/s]"
      ]
     },
     "metadata": {},
     "output_type": "display_data"
    },
    {
     "data": {
      "text/html": [
       "<div>\n",
       "<style scoped>\n",
       "    .dataframe tbody tr th:only-of-type {\n",
       "        vertical-align: middle;\n",
       "    }\n",
       "\n",
       "    .dataframe tbody tr th {\n",
       "        vertical-align: top;\n",
       "    }\n",
       "\n",
       "    .dataframe thead th {\n",
       "        text-align: right;\n",
       "    }\n",
       "</style>\n",
       "<table border=\"1\" class=\"dataframe\">\n",
       "  <thead>\n",
       "    <tr style=\"text-align: right;\">\n",
       "      <th></th>\n",
       "      <th>timestamp</th>\n",
       "      <th>LCLid</th>\n",
       "      <th>energy_consumption</th>\n",
       "      <th>frequency</th>\n",
       "      <th>series_length</th>\n",
       "      <th>stdorToU</th>\n",
       "      <th>Acorn</th>\n",
       "      <th>Acorn_grouped</th>\n",
       "      <th>file</th>\n",
       "      <th>holidays</th>\n",
       "      <th>...</th>\n",
       "      <th>windBearing</th>\n",
       "      <th>temperature</th>\n",
       "      <th>dewPoint</th>\n",
       "      <th>pressure</th>\n",
       "      <th>apparentTemperature</th>\n",
       "      <th>windSpeed</th>\n",
       "      <th>precipType</th>\n",
       "      <th>icon</th>\n",
       "      <th>humidity</th>\n",
       "      <th>summary</th>\n",
       "    </tr>\n",
       "  </thead>\n",
       "  <tbody>\n",
       "    <tr>\n",
       "      <th>0</th>\n",
       "      <td>2012-01-01 00:00:00</td>\n",
       "      <td>MAC000050</td>\n",
       "      <td>0.175</td>\n",
       "      <td>30min</td>\n",
       "      <td>37872</td>\n",
       "      <td>Std</td>\n",
       "      <td>ACORN-D</td>\n",
       "      <td>Affluent</td>\n",
       "      <td>block_7</td>\n",
       "      <td>NO_HOLIDAY</td>\n",
       "      <td>...</td>\n",
       "      <td>229</td>\n",
       "      <td>12.12</td>\n",
       "      <td>10.97</td>\n",
       "      <td>1008.10</td>\n",
       "      <td>12.12</td>\n",
       "      <td>5.90</td>\n",
       "      <td>rain</td>\n",
       "      <td>partly-cloudy-night</td>\n",
       "      <td>0.93</td>\n",
       "      <td>Mostly Cloudy</td>\n",
       "    </tr>\n",
       "    <tr>\n",
       "      <th>1</th>\n",
       "      <td>2012-01-01 00:30:00</td>\n",
       "      <td>MAC000050</td>\n",
       "      <td>0.212</td>\n",
       "      <td>30min</td>\n",
       "      <td>37872</td>\n",
       "      <td>Std</td>\n",
       "      <td>ACORN-D</td>\n",
       "      <td>Affluent</td>\n",
       "      <td>block_7</td>\n",
       "      <td>NO_HOLIDAY</td>\n",
       "      <td>...</td>\n",
       "      <td>229</td>\n",
       "      <td>12.12</td>\n",
       "      <td>10.97</td>\n",
       "      <td>1008.10</td>\n",
       "      <td>12.12</td>\n",
       "      <td>5.90</td>\n",
       "      <td>rain</td>\n",
       "      <td>partly-cloudy-night</td>\n",
       "      <td>0.93</td>\n",
       "      <td>Mostly Cloudy</td>\n",
       "    </tr>\n",
       "    <tr>\n",
       "      <th>2</th>\n",
       "      <td>2012-01-01 01:00:00</td>\n",
       "      <td>MAC000050</td>\n",
       "      <td>0.313</td>\n",
       "      <td>30min</td>\n",
       "      <td>37872</td>\n",
       "      <td>Std</td>\n",
       "      <td>ACORN-D</td>\n",
       "      <td>Affluent</td>\n",
       "      <td>block_7</td>\n",
       "      <td>NO_HOLIDAY</td>\n",
       "      <td>...</td>\n",
       "      <td>238</td>\n",
       "      <td>12.59</td>\n",
       "      <td>11.02</td>\n",
       "      <td>1007.88</td>\n",
       "      <td>12.59</td>\n",
       "      <td>6.06</td>\n",
       "      <td>rain</td>\n",
       "      <td>cloudy</td>\n",
       "      <td>0.90</td>\n",
       "      <td>Overcast</td>\n",
       "    </tr>\n",
       "    <tr>\n",
       "      <th>3</th>\n",
       "      <td>2012-01-01 01:30:00</td>\n",
       "      <td>MAC000050</td>\n",
       "      <td>0.302</td>\n",
       "      <td>30min</td>\n",
       "      <td>37872</td>\n",
       "      <td>Std</td>\n",
       "      <td>ACORN-D</td>\n",
       "      <td>Affluent</td>\n",
       "      <td>block_7</td>\n",
       "      <td>NO_HOLIDAY</td>\n",
       "      <td>...</td>\n",
       "      <td>238</td>\n",
       "      <td>12.59</td>\n",
       "      <td>11.02</td>\n",
       "      <td>1007.88</td>\n",
       "      <td>12.59</td>\n",
       "      <td>6.06</td>\n",
       "      <td>rain</td>\n",
       "      <td>cloudy</td>\n",
       "      <td>0.90</td>\n",
       "      <td>Overcast</td>\n",
       "    </tr>\n",
       "    <tr>\n",
       "      <th>4</th>\n",
       "      <td>2012-01-01 02:00:00</td>\n",
       "      <td>MAC000050</td>\n",
       "      <td>0.257</td>\n",
       "      <td>30min</td>\n",
       "      <td>37872</td>\n",
       "      <td>Std</td>\n",
       "      <td>ACORN-D</td>\n",
       "      <td>Affluent</td>\n",
       "      <td>block_7</td>\n",
       "      <td>NO_HOLIDAY</td>\n",
       "      <td>...</td>\n",
       "      <td>229</td>\n",
       "      <td>12.45</td>\n",
       "      <td>11.04</td>\n",
       "      <td>1007.95</td>\n",
       "      <td>12.45</td>\n",
       "      <td>5.31</td>\n",
       "      <td>rain</td>\n",
       "      <td>partly-cloudy-night</td>\n",
       "      <td>0.91</td>\n",
       "      <td>Mostly Cloudy</td>\n",
       "    </tr>\n",
       "  </tbody>\n",
       "</table>\n",
       "<p>5 rows × 21 columns</p>\n",
       "</div>"
      ],
      "text/plain": [
       "            timestamp      LCLid  energy_consumption frequency  series_length  \\\n",
       "0 2012-01-01 00:00:00  MAC000050               0.175     30min          37872   \n",
       "1 2012-01-01 00:30:00  MAC000050               0.212     30min          37872   \n",
       "2 2012-01-01 01:00:00  MAC000050               0.313     30min          37872   \n",
       "3 2012-01-01 01:30:00  MAC000050               0.302     30min          37872   \n",
       "4 2012-01-01 02:00:00  MAC000050               0.257     30min          37872   \n",
       "\n",
       "  stdorToU    Acorn Acorn_grouped     file    holidays  ...  windBearing  \\\n",
       "0      Std  ACORN-D      Affluent  block_7  NO_HOLIDAY  ...          229   \n",
       "1      Std  ACORN-D      Affluent  block_7  NO_HOLIDAY  ...          229   \n",
       "2      Std  ACORN-D      Affluent  block_7  NO_HOLIDAY  ...          238   \n",
       "3      Std  ACORN-D      Affluent  block_7  NO_HOLIDAY  ...          238   \n",
       "4      Std  ACORN-D      Affluent  block_7  NO_HOLIDAY  ...          229   \n",
       "\n",
       "   temperature  dewPoint  pressure  apparentTemperature  windSpeed  \\\n",
       "0        12.12     10.97   1008.10                12.12       5.90   \n",
       "1        12.12     10.97   1008.10                12.12       5.90   \n",
       "2        12.59     11.02   1007.88                12.59       6.06   \n",
       "3        12.59     11.02   1007.88                12.59       6.06   \n",
       "4        12.45     11.04   1007.95                12.45       5.31   \n",
       "\n",
       "   precipType                 icon humidity        summary  \n",
       "0        rain  partly-cloudy-night     0.93  Mostly Cloudy  \n",
       "1        rain  partly-cloudy-night     0.93  Mostly Cloudy  \n",
       "2        rain               cloudy     0.90       Overcast  \n",
       "3        rain               cloudy     0.90       Overcast  \n",
       "4        rain  partly-cloudy-night     0.91  Mostly Cloudy  \n",
       "\n",
       "[5 rows x 21 columns]"
      ]
     },
     "execution_count": 11,
     "metadata": {},
     "output_type": "execute_result"
    }
   ],
   "source": [
    "#Converting to Expanded Form\n",
    "exp_block_df = compact_to_expanded(block_df[block_df.file==\"block_7\"], timeseries_col = 'energy_consumption',\n",
    "static_cols = [\"frequency\", \"series_length\", \"stdorToU\", \"Acorn\", \"Acorn_grouped\", \"file\"],\n",
    "time_varying_cols = ['holidays', 'visibility', 'windBearing', 'temperature', 'dewPoint',\n",
    "       'pressure', 'apparentTemperature', 'windSpeed', 'precipType', 'icon',\n",
    "       'humidity', 'summary'],\n",
    "ts_identifier = \"LCLid\")\n",
    "\n",
    "exp_block_df.head()"
   ]
  },
  {
   "cell_type": "code",
   "execution_count": 12,
   "id": "0f616b9c-a986-40e1-9726-a477239fe64d",
   "metadata": {},
   "outputs": [],
   "source": [
    "# Taking a single time series from the block\n",
    "ts_df = exp_block_df[exp_block_df.LCLid==\"MAC000193\"].set_index(\"timestamp\")"
   ]
  },
  {
   "cell_type": "markdown",
   "id": "23a376f4-e716-4731-bddb-e0e29bf5df8e",
   "metadata": {},
   "source": [
    "#### Filling in Missing Values"
   ]
  },
  {
   "cell_type": "code",
   "execution_count": 13,
   "id": "bf22b89a-6282-4ed2-81da-9ed394036a86",
   "metadata": {},
   "outputs": [],
   "source": [
    "from src.imputation.interpolation import SeasonalInterpolation\n",
    "ts = SeasonalInterpolation(seasonal_period=48*7).fit_transform(ts_df.energy_consumption.values.reshape(-1,1)).squeeze()"
   ]
  },
  {
   "cell_type": "markdown",
   "id": "05ada150-7cd8-465b-9181-eb0bb7ec2c99",
   "metadata": {},
   "source": [
    "### Outlier Detection"
   ]
  },
  {
   "cell_type": "code",
   "execution_count": 22,
   "id": "d88fa7a5-8535-452b-bedb-4daf5d687a01",
   "metadata": {},
   "outputs": [],
   "source": [
    "from itertools import cycle\n",
    "\n",
    "def format_plot(fig, legends=None, xlabel=\"Time\", ylabel=\"Value\", font_size=15, title_font_size=20):\n",
    "    if legends:\n",
    "        names = cycle(legends)\n",
    "        fig.for_each_trace(lambda t: t.update(name=next(names)))\n",
    "        \n",
    "    fig.update_layout(\n",
    "        autosize=False,\n",
    "        width=900,\n",
    "        height=500,\n",
    "        title=dict(\n",
    "            text=fig.layout.title.text if fig.layout.title.text else \"\",\n",
    "            x=0.5,\n",
    "            xanchor=\"center\",\n",
    "            yanchor=\"top\",\n",
    "            font=dict(size=title_font_size)\n",
    "        ),\n",
    "        legend_title=None,\n",
    "        legend=dict(\n",
    "            font=dict(size=font_size),\n",
    "            orientation=\"h\",\n",
    "            yanchor=\"bottom\",\n",
    "            y=0.98,\n",
    "            xanchor=\"right\",\n",
    "            x=1,\n",
    "        ),\n",
    "        yaxis=dict(\n",
    "            title=dict(\n",
    "                text=ylabel,\n",
    "                font=dict(size=font_size)\n",
    "            ),\n",
    "            tickfont=dict(size=font_size)\n",
    "        ),\n",
    "        xaxis=dict(\n",
    "            title=dict(\n",
    "                text=xlabel,\n",
    "                font=dict(size=font_size)\n",
    "            ),\n",
    "            tickfont=dict(size=font_size)\n",
    "        )\n",
    "    )\n",
    "    \n",
    "    return fig"
   ]
  },
  {
   "cell_type": "code",
   "execution_count": 15,
   "id": "a7e3efab-e647-4a34-9b43-0662f27d3ace",
   "metadata": {},
   "outputs": [],
   "source": [
    "from src.decomposition.seasonal import MultiSeasonalDecomposition, STL\n",
    "\n",
    "from src.outliers.outlier_detection import detect_outlier_iqr,detect_outlier_sd, generalized_esd, seasonal_esd, detect_outlier_isolation_forest"
   ]
  },
  {
   "cell_type": "code",
   "execution_count": 16,
   "id": "d653fdf0-f26f-4407-8166-a245cf8458a5",
   "metadata": {},
   "outputs": [],
   "source": [
    "res_df = pd.DataFrame(columns=[\"# of Outliers\", \"% of Outliers\"])"
   ]
  },
  {
   "cell_type": "markdown",
   "id": "32a1e2b5-f0dd-4d74-8290-55814d249fe4",
   "metadata": {},
   "source": [
    "### Standard Deviation"
   ]
  },
  {
   "cell_type": "code",
   "execution_count": 17,
   "id": "be01b3da-4518-4255-967a-4e26a9632c6b",
   "metadata": {},
   "outputs": [],
   "source": [
    "def detect_outlier_sd(ts, sd_multiple=2):\n",
    "    mean = ts.mean()\n",
    "    std = ts.std()\n",
    "    higher_bound = mean + sd_multiple*std\n",
    "    lower_bound = mean - sd_multiple*std\n",
    "    outlier_mask = (ts>higher_bound) | (ts<lower_bound)\n",
    "    return outlier_mask"
   ]
  },
  {
   "cell_type": "code",
   "execution_count": 18,
   "id": "93988fe7-1395-4f62-961d-51d3438e42b3",
   "metadata": {},
   "outputs": [
    {
     "name": "stdout",
     "output_type": "stream",
     "text": [
      "# of Outliers: 802 | % of Outliers: 2.12%\n"
     ]
    }
   ],
   "source": [
    "#Detecting Outliers with 3 SD window\n",
    "outlier_mask = detect_outlier_sd(ts, sd_multiple=3)\n",
    "res_df.loc[\"3SD\", \"# of Outliers\"] = outlier_mask.sum()\n",
    "res_df.loc[\"3SD\", \"% of Outliers\"] = outlier_mask.sum()/len(ts)*100\n",
    "print(f\"# of Outliers: {outlier_mask.sum()} | % of Outliers: {outlier_mask.sum()/len(ts)*100:.2f}%\")"
   ]
  },
  {
   "cell_type": "code",
   "execution_count": 28,
   "id": "efa14c5d-5e11-4e1d-a5ed-75068952ec4c",
   "metadata": {},
   "outputs": [],
   "source": [
    "# fig = plot_outliers(ts_df.index, ts, outlier_mask, method=\"Standard Deviation\")\n",
    "# format_plot(fig, xlabel=\"Time\", ylabel=\"Energy Consumption\")\n",
    "# fig.write_image(\"imgs/chapter_3/outliers_std.png\")\n",
    "# fig.show()"
   ]
  },
  {
   "cell_type": "code",
   "execution_count": 24,
   "id": "89921225-83b0-4257-a3ec-f9ed057c4aeb",
   "metadata": {},
   "outputs": [],
   "source": [
    "stl = MultiSeasonalDecomposition(seasonal_model=\"fourier\",seasonality_periods=[\"day_of_year\", \"day_of_week\", \"hour\"], model = \"additive\", n_fourier_terms=10)\n",
    "res = stl.fit(pd.Series(ts, index=ts_df.index))"
   ]
  },
  {
   "cell_type": "code",
   "execution_count": 25,
   "id": "a119f1a9-04af-40be-9a7e-e7c33696dee2",
   "metadata": {},
   "outputs": [
    {
     "name": "stdout",
     "output_type": "stream",
     "text": [
      "# of Outliers: 735 | % of Outliers: 1.94%\n"
     ]
    }
   ],
   "source": [
    "#Detecting Outliers with 2 SD window\n",
    "outlier_mask = detect_outlier_sd(res.resid, 3)\n",
    "res_df.loc[\"2SD on Residuals\", \"# of Outliers\"] = outlier_mask.sum()\n",
    "res_df.loc[\"2SD on Residuals\", \"% of Outliers\"] = outlier_mask.sum()/len(ts)*100\n",
    "print(f\"# of Outliers: {outlier_mask.sum()} | % of Outliers: {outlier_mask.sum()/len(ts)*100:.2f}%\")"
   ]
  },
  {
   "cell_type": "code",
   "execution_count": 27,
   "id": "091bc96e-1688-4abc-9ad6-0b33dc2dc85b",
   "metadata": {},
   "outputs": [],
   "source": [
    "# fig = plot_outliers(ts_df.index, ts, outlier_mask, method=\"Seasonal Standard Deviation\")\n",
    "# format_plot(fig, xlabel=\"Time\", ylabel=\"Energy Consumption\")\n",
    "# fig.write_image(\"imgs/chapter_3/outliers_std_seasonal.png\")\n",
    "# fig.show()"
   ]
  },
  {
   "cell_type": "markdown",
   "id": "684b9a93-21cc-4e71-ae3d-cf472c2d9378",
   "metadata": {},
   "source": [
    "### IQR"
   ]
  },
  {
   "cell_type": "code",
   "execution_count": 29,
   "id": "5278329c-49be-4d01-8ae1-d72aae68affc",
   "metadata": {},
   "outputs": [],
   "source": [
    "def detect_outlier_iqr(ts, iqr_multiple=2):\n",
    "    q1, q2, q3 = np.quantile(ts, 0.25), np.quantile(ts, 0.5), np.quantile(ts, 0.75)\n",
    "    iqr = q3-q1\n",
    "    higher_bound = q3 + iqr_multiple*iqr\n",
    "    lower_bound = q1 - iqr_multiple*iqr\n",
    "    outlier_mask = (ts>higher_bound) | (ts<lower_bound)\n",
    "    return outlier_mask"
   ]
  },
  {
   "cell_type": "code",
   "execution_count": 30,
   "id": "8d16efed-18da-496d-9535-12a5452baff5",
   "metadata": {},
   "outputs": [
    {
     "name": "stdout",
     "output_type": "stream",
     "text": [
      "# of Outliers: 747 | % of Outliers: 1.97%\n"
     ]
    }
   ],
   "source": [
    "#Detecting Outliers with 4 IQR window\n",
    "outlier_mask = detect_outlier_iqr(ts, 4)\n",
    "res_df.loc[\"4IQR\", \"# of Outliers\"] = outlier_mask.sum()\n",
    "res_df.loc[\"4IQR\", \"% of Outliers\"] = outlier_mask.sum()/len(ts)*100\n",
    "print(f\"# of Outliers: {outlier_mask.sum()} | % of Outliers: {outlier_mask.sum()/len(ts)*100:.2f}%\")"
   ]
  },
  {
   "cell_type": "code",
   "execution_count": 32,
   "id": "387c895c-31ca-44b9-8e1b-60e60eec9867",
   "metadata": {},
   "outputs": [],
   "source": [
    "# fig = plot_outliers(ts_df.index, ts, outlier_mask, method=\"IQR\")\n",
    "# format_plot(fig, xlabel=\"Time\", ylabel=\"Energy Consumption\")\n",
    "# fig.write_image(\"imgs/chapter_3/outliers_iqr.png\")\n",
    "# fig.show()"
   ]
  },
  {
   "cell_type": "code",
   "execution_count": 33,
   "id": "8e322496-93d9-4f6f-9f78-828f0b708b96",
   "metadata": {},
   "outputs": [
    {
     "name": "stdout",
     "output_type": "stream",
     "text": [
      "# of Outliers: 502 | % of Outliers: 1.33%\n"
     ]
    }
   ],
   "source": [
    "#Detecting Outliers with 4 IQR window on deseasonalized data\n",
    "outlier_mask = detect_outlier_iqr(res.resid, 4)\n",
    "res_df.loc[\"4SD on Residuals\", \"# of Outliers\"] = outlier_mask.sum()\n",
    "res_df.loc[\"4SD on Residuals\", \"% of Outliers\"] = outlier_mask.sum()/len(ts)*100\n",
    "print(f\"# of Outliers: {outlier_mask.sum()} | % of Outliers: {outlier_mask.sum()/len(ts)*100:.2f}%\")"
   ]
  },
  {
   "cell_type": "code",
   "execution_count": 35,
   "id": "fb4311f5-ddbf-47fc-9608-22f942bea1c2",
   "metadata": {},
   "outputs": [],
   "source": [
    "# fig = plot_outliers(ts_df.index, ts, outlier_mask, method=\"Seasonal IQR\")\n",
    "# format_plot(fig, xlabel=\"Time\", ylabel=\"Energy Consumption\")\n",
    "# fig.write_image(\"imgs/chapter_3/outliers_iqr_seasonal.png\")\n",
    "# fig.show()"
   ]
  },
  {
   "cell_type": "markdown",
   "id": "3fc743b7-5010-47fa-a62d-53602dd02033",
   "metadata": {},
   "source": [
    "### Isolation Forest"
   ]
  },
  {
   "cell_type": "code",
   "execution_count": 38,
   "id": "f3f3939d-6f10-406d-aa7a-14bc1d05ef51",
   "metadata": {},
   "outputs": [],
   "source": [
    "# class sklearn.ensemble.IsolationForest(*,n_estimators=100,max_samples='auto',contamination='auto',max_features=1.0, bootstrap=False,n_jobs=None,random_state=None,verbose=0,warm_start=False)"
   ]
  },
  {
   "cell_type": "code",
   "execution_count": 39,
   "id": "88a65fa0-39be-42a7-b15a-1472d03d32c6",
   "metadata": {},
   "outputs": [
    {
     "name": "stdout",
     "output_type": "stream",
     "text": [
      "# of Outliers: 364 | % of Outliers: 0.96%\n"
     ]
    }
   ],
   "source": [
    "outlier_mask = detect_outlier_isolation_forest(ts, outlier_fraction=0.01)\n",
    "res_df.loc[\"Isolation Forest\", \"# of Outliers\"] = outlier_mask.sum()\n",
    "res_df.loc[\"Isolation Forest\", \"% of Outliers\"] = outlier_mask.sum()/len(ts)*100\n",
    "print(f\"# of Outliers: {outlier_mask.sum()} | % of Outliers: {outlier_mask.sum()/len(ts)*100:.2f}%\")"
   ]
  },
  {
   "cell_type": "code",
   "execution_count": 41,
   "id": "38e3dc23-89d2-4601-9fd9-837d8794f1b7",
   "metadata": {},
   "outputs": [],
   "source": [
    "# fig = plot_outliers(ts_df.index, ts, outlier_mask, method=\"Isolation Forest\")\n",
    "# format_plot(fig, xlabel=\"Time\", ylabel=\"Energy Consumption\")\n",
    "# fig.write_image(\"imgs/chapter_3/outliers_isolation_forest.png\")\n",
    "# fig.show()"
   ]
  },
  {
   "cell_type": "code",
   "execution_count": 42,
   "id": "bc8484e0-b02e-4e6a-83d4-58d24441c79c",
   "metadata": {},
   "outputs": [
    {
     "name": "stdout",
     "output_type": "stream",
     "text": [
      "# of Outliers: 375 | % of Outliers: 0.99%\n"
     ]
    }
   ],
   "source": [
    "outlier_mask = detect_outlier_isolation_forest(res.resid.values, outlier_fraction=0.01)\n",
    "res_df.loc[\"Isolation Forest on Residuals\", \"# of Outliers\"] = outlier_mask.sum()\n",
    "res_df.loc[\"Isolation Forest on Residuals\", \"% of Outliers\"] = outlier_mask.sum()/len(ts)*100\n",
    "print(f\"# of Outliers: {outlier_mask.sum()} | % of Outliers: {outlier_mask.sum()/len(ts)*100:.2f}%\")"
   ]
  },
  {
   "cell_type": "code",
   "execution_count": 43,
   "id": "1680ea07-a1ce-4109-bea6-64fef3037831",
   "metadata": {},
   "outputs": [],
   "source": [
    "# fig = plot_outliers(ts_df.index, ts, outlier_mask, method=\"Seasonal Isolation Forest\")\n",
    "# format_plot(fig, xlabel=\"Time\", ylabel=\"Energy Consumption\")\n",
    "# fig.write_image(\"imgs/chapter_3/outliers_isolation_forest_seasonal.png\")\n",
    "# fig.show()"
   ]
  },
  {
   "cell_type": "markdown",
   "id": "6c75df82-e87e-4b8b-b588-2a86f62ab86a",
   "metadata": {},
   "source": [
    "### Extreme Studentized Deviate (ESD) and Seasonal Extreme Studentized Deviate (S-ESD)"
   ]
  },
  {
   "cell_type": "code",
   "execution_count": 44,
   "id": "9d36fa0a-575b-4921-b611-d34e840e0110",
   "metadata": {},
   "outputs": [
    {
     "name": "stdout",
     "output_type": "stream",
     "text": [
      "# of Outliers: 420 | % of Outliers: 1.11%\n"
     ]
    }
   ],
   "source": [
    "outlier_mask = generalized_esd(ts, max_anomalies=800, alpha=0.05, hybrid=False)\n",
    "res_df.loc[\"ESD\", \"# of Outliers\"] = outlier_mask.sum()\n",
    "res_df.loc[\"ESD\", \"% of Outliers\"] = outlier_mask.sum()/len(ts)*100\n",
    "print(f\"# of Outliers: {outlier_mask.sum()} | % of Outliers: {outlier_mask.sum()/len(ts)*100:.2f}%\")"
   ]
  },
  {
   "cell_type": "code",
   "execution_count": 46,
   "id": "90d99ee4-860a-467c-b2d3-811bd0102a8c",
   "metadata": {},
   "outputs": [],
   "source": [
    "# fig = plot_outliers(ts_df.index, ts, outlier_mask, method=\"ESD\")\n",
    "# format_plot(fig, xlabel=\"Time\", ylabel=\"Energy Consumption\")\n",
    "# fig.write_image(\"imgs/chapter_3/outliers_esd.png\")\n",
    "# fig.show()"
   ]
  },
  {
   "cell_type": "code",
   "execution_count": 47,
   "id": "f00e6e97-1437-4426-9088-c3ec72d3368f",
   "metadata": {},
   "outputs": [
    {
     "name": "stdout",
     "output_type": "stream",
     "text": [
      "# of Outliers: 431 | % of Outliers: 1.14%\n"
     ]
    }
   ],
   "source": [
    "stl = MultiSeasonalDecomposition(seasonal_model=\"fourier\",seasonality_periods=[\"day_of_year\", \"day_of_week\", \"hour\"], model = \"additive\", n_fourier_terms=10)\n",
    "outlier_mask = seasonal_esd(pd.Series(ts, index=ts_df.index), stl, max_anomalies=800, alpha=0.05, hybrid=False)\n",
    "res_df.loc[\"S-ESD\", \"# of Outliers\"] = outlier_mask.sum()\n",
    "res_df.loc[\"S-ESD\", \"% of Outliers\"] = outlier_mask.sum()/len(ts)*100\n",
    "print(f\"# of Outliers: {outlier_mask.sum()} | % of Outliers: {outlier_mask.sum()/len(ts)*100:.2f}%\")"
   ]
  },
  {
   "cell_type": "code",
   "execution_count": 48,
   "id": "95a0e575-5512-4021-8c13-331c81ac86aa",
   "metadata": {},
   "outputs": [],
   "source": [
    "# fig = plot_outliers(ts_df.index, ts, outlier_mask, method=\"S-ESD\")\n",
    "# format_plot(fig, xlabel=\"Time\", ylabel=\"Energy Consumption\")\n",
    "# fig.write_image(\"imgs/chapter_3/outliers_s-esd.png\")\n",
    "# fig.show()"
   ]
  },
  {
   "cell_type": "markdown",
   "id": "85be9969-f996-4a2d-8a96-f757919cb6a1",
   "metadata": {},
   "source": [
    "### Summary"
   ]
  },
  {
   "cell_type": "code",
   "execution_count": 49,
   "id": "bd0a87cf-8b66-427e-8619-2485d0471c53",
   "metadata": {},
   "outputs": [
    {
     "data": {
      "text/html": [
       "<style type=\"text/css\">\n",
       "</style>\n",
       "<table id=\"T_e297c\">\n",
       "  <thead>\n",
       "    <tr>\n",
       "      <th class=\"blank level0\" >&nbsp;</th>\n",
       "      <th id=\"T_e297c_level0_col0\" class=\"col_heading level0 col0\" ># of Outliers</th>\n",
       "      <th id=\"T_e297c_level0_col1\" class=\"col_heading level0 col1\" >% of Outliers</th>\n",
       "    </tr>\n",
       "  </thead>\n",
       "  <tbody>\n",
       "    <tr>\n",
       "      <th id=\"T_e297c_level0_row0\" class=\"row_heading level0 row0\" >3SD</th>\n",
       "      <td id=\"T_e297c_row0_col0\" class=\"data row0 col0\" >802</td>\n",
       "      <td id=\"T_e297c_row0_col1\" class=\"data row0 col1\" >2.12%</td>\n",
       "    </tr>\n",
       "    <tr>\n",
       "      <th id=\"T_e297c_level0_row1\" class=\"row_heading level0 row1\" >2SD on Residuals</th>\n",
       "      <td id=\"T_e297c_row1_col0\" class=\"data row1 col0\" >735</td>\n",
       "      <td id=\"T_e297c_row1_col1\" class=\"data row1 col1\" >1.94%</td>\n",
       "    </tr>\n",
       "    <tr>\n",
       "      <th id=\"T_e297c_level0_row2\" class=\"row_heading level0 row2\" >4IQR</th>\n",
       "      <td id=\"T_e297c_row2_col0\" class=\"data row2 col0\" >747</td>\n",
       "      <td id=\"T_e297c_row2_col1\" class=\"data row2 col1\" >1.97%</td>\n",
       "    </tr>\n",
       "    <tr>\n",
       "      <th id=\"T_e297c_level0_row3\" class=\"row_heading level0 row3\" >4SD on Residuals</th>\n",
       "      <td id=\"T_e297c_row3_col0\" class=\"data row3 col0\" >502</td>\n",
       "      <td id=\"T_e297c_row3_col1\" class=\"data row3 col1\" >1.33%</td>\n",
       "    </tr>\n",
       "    <tr>\n",
       "      <th id=\"T_e297c_level0_row4\" class=\"row_heading level0 row4\" >Isolation Forest</th>\n",
       "      <td id=\"T_e297c_row4_col0\" class=\"data row4 col0\" >364</td>\n",
       "      <td id=\"T_e297c_row4_col1\" class=\"data row4 col1\" >0.96%</td>\n",
       "    </tr>\n",
       "    <tr>\n",
       "      <th id=\"T_e297c_level0_row5\" class=\"row_heading level0 row5\" >Isolation Forest on Residuals</th>\n",
       "      <td id=\"T_e297c_row5_col0\" class=\"data row5 col0\" >375</td>\n",
       "      <td id=\"T_e297c_row5_col1\" class=\"data row5 col1\" >0.99%</td>\n",
       "    </tr>\n",
       "    <tr>\n",
       "      <th id=\"T_e297c_level0_row6\" class=\"row_heading level0 row6\" >ESD</th>\n",
       "      <td id=\"T_e297c_row6_col0\" class=\"data row6 col0\" >420</td>\n",
       "      <td id=\"T_e297c_row6_col1\" class=\"data row6 col1\" >1.11%</td>\n",
       "    </tr>\n",
       "    <tr>\n",
       "      <th id=\"T_e297c_level0_row7\" class=\"row_heading level0 row7\" >S-ESD</th>\n",
       "      <td id=\"T_e297c_row7_col0\" class=\"data row7 col0\" >431</td>\n",
       "      <td id=\"T_e297c_row7_col1\" class=\"data row7 col1\" >1.14%</td>\n",
       "    </tr>\n",
       "  </tbody>\n",
       "</table>\n"
      ],
      "text/plain": [
       "<pandas.io.formats.style.Styler at 0x387dd5090>"
      ]
     },
     "execution_count": 49,
     "metadata": {},
     "output_type": "execute_result"
    }
   ],
   "source": [
    "res_df.style.format({\"% of Outliers\": \"{:.2f}%\"})"
   ]
  },
  {
   "cell_type": "code",
   "execution_count": null,
   "id": "373949d1-2f7a-4aa6-ba97-4bd6458b3d4a",
   "metadata": {},
   "outputs": [],
   "source": []
  },
  {
   "cell_type": "code",
   "execution_count": null,
   "id": "d84ec64f-a8ca-465f-8da0-6f6b14ebb8be",
   "metadata": {},
   "outputs": [],
   "source": []
  }
 ],
 "metadata": {
  "kernelspec": {
   "display_name": "Python 3 (ipykernel)",
   "language": "python",
   "name": "python3"
  },
  "language_info": {
   "codemirror_mode": {
    "name": "ipython",
    "version": 3
   },
   "file_extension": ".py",
   "mimetype": "text/x-python",
   "name": "python",
   "nbconvert_exporter": "python",
   "pygments_lexer": "ipython3",
   "version": "3.10.18"
  }
 },
 "nbformat": 4,
 "nbformat_minor": 5
}
