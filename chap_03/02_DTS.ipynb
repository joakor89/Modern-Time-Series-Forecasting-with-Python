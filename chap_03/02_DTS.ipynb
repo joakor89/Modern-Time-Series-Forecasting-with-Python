{
 "cells": [
  {
   "cell_type": "markdown",
   "id": "58ad6bf9-cd9e-45db-9174-a436ce5a213e",
   "metadata": {},
   "source": [
    "# Decomposing Time Series\n",
    "\n",
    "### Loading Libraries"
   ]
  },
  {
   "cell_type": "code",
   "execution_count": 2,
   "id": "eede804b-2ec4-458d-829e-0a2b0594f38d",
   "metadata": {},
   "outputs": [
    {
     "name": "stdout",
     "output_type": "stream",
     "text": [
      "/Users/joaquinromero/Desktop\n"
     ]
    }
   ],
   "source": [
    "%cd ../.."
   ]
  },
  {
   "cell_type": "code",
   "execution_count": 19,
   "id": "2e87ca04-a460-4a89-bdc7-ad863d21b5b0",
   "metadata": {},
   "outputs": [],
   "source": [
    "# Numerical Computing\n",
    "import numpy as np\n",
    "\n",
    "# Data Manipulation\n",
    "import pandas as pd\n",
    "\n",
    "# Data Visualization\n",
    "import plotly.io as pio\n",
    "import plotly.express as px\n",
    "import matplotlib.pyplot as plt\n",
    "import plotly.graph_objects as go\n",
    "from plotly.subplots import make_subplots\n",
    "\n",
    "# Warnings\n",
    "import warnings\n",
    "\n",
    "# IO & Requests\n",
    "import requests\n",
    "from io import StringIO\n",
    "\n",
    "# OS\n",
    "import os\n",
    "import sys\n",
    "import pickleshare\n",
    "import missingno as msno\n",
    "from itertools import cycle\n",
    "\n",
    "# PyArrow\n",
    "import pyarrow as pa\n",
    "\n",
    "# Path & Notebook Optimizer\n",
    "from pathlib import Path\n",
    "from tqdm.auto import tqdm\n",
    "\n",
    "# Scikit-Learn\n",
    "from sklearn.metrics import mean_absolute_error\n",
    "\n",
    "# IPython\n",
    "from IPython.display import display, HTML"
   ]
  },
  {
   "cell_type": "code",
   "execution_count": 4,
   "id": "94a2f04c-0ac2-46d0-8bbb-0baa4afe4863",
   "metadata": {},
   "outputs": [],
   "source": [
    "%load_ext autoreload\n",
    "%autoreload 2"
   ]
  },
  {
   "cell_type": "code",
   "execution_count": 5,
   "id": "cb5754dd-18f8-4f6b-8c99-2658292a94cf",
   "metadata": {},
   "outputs": [],
   "source": [
    "tqdm.pandas()\n",
    "\n",
    "np.random.seed()\n",
    "\n",
    "pio.templates.default = \"plotly_white\"\n",
    "\n",
    "sys.path.append('/Users/joaquinromero/Desktop/MTSF')"
   ]
  },
  {
   "cell_type": "code",
   "execution_count": 6,
   "id": "34071c11-3d54-4c5e-bd3b-dfa8bff39d19",
   "metadata": {},
   "outputs": [],
   "source": [
    "warnings.filterwarnings(\"ignore\", category=UserWarning)\n",
    "\n",
    "warnings.filterwarnings(\"ignore\", category=FutureWarning)\n",
    "\n",
    "warnings.filterwarnings(\"ignore\", message=\"'force_all_finite' was renamed to 'ensure_all_finite'\")"
   ]
  },
  {
   "cell_type": "code",
   "execution_count": 7,
   "id": "0b4a19b8-c7f7-4784-a1ec-9048b097dd4a",
   "metadata": {},
   "outputs": [],
   "source": [
    "os.makedirs(\"imgs/chapter_03\", exist_ok=True)\n",
    "\n",
    "preprocessed = Path.home() / \"Desktop\" / \"data\" / \"london_smart_meters\" / \"preprocessed\""
   ]
  },
  {
   "cell_type": "code",
   "execution_count": 8,
   "id": "74235730-5a1e-4525-a254-30c7dac1d1df",
   "metadata": {},
   "outputs": [],
   "source": [
    "assert preprocessed.is_dir(), \"You have to run 02 - Preprocessing London Smart Meter Dataset.ipynb in Chapter02 before running this notebook\""
   ]
  },
  {
   "cell_type": "code",
   "execution_count": 16,
   "id": "b4244971-c0ce-4f4c-ac8e-ff283b078985",
   "metadata": {},
   "outputs": [],
   "source": [
    "from itertools import cycle\n",
    "\n",
    "def format_plot(fig, legends=None, xlabel=\"Time\", ylabel=\"Value\", font_size=15, title_font_size=20):\n",
    "    if legends:\n",
    "        names = cycle(legends)\n",
    "        fig.for_each_trace(lambda t: t.update(name=next(names)))\n",
    "        \n",
    "    fig.update_layout(\n",
    "        autosize=False,\n",
    "        width=900,\n",
    "        height=500,\n",
    "        title=dict(\n",
    "            text=fig.layout.title.text if fig.layout.title.text else \"\",\n",
    "            x=0.5,\n",
    "            xanchor=\"center\",\n",
    "            yanchor=\"top\",\n",
    "            font=dict(size=title_font_size)\n",
    "        ),\n",
    "        legend_title=None,\n",
    "        legend=dict(\n",
    "            font=dict(size=font_size),\n",
    "            orientation=\"h\",\n",
    "            yanchor=\"bottom\",\n",
    "            y=0.98,\n",
    "            xanchor=\"right\",\n",
    "            x=1,\n",
    "        ),\n",
    "        yaxis=dict(\n",
    "            title=dict(\n",
    "                text=ylabel,\n",
    "                font=dict(size=font_size)\n",
    "            ),\n",
    "            tickfont=dict(size=font_size)\n",
    "        ),\n",
    "        xaxis=dict(\n",
    "            title=dict(\n",
    "                text=xlabel,\n",
    "                font=dict(size=font_size)\n",
    "            ),\n",
    "            tickfont=dict(size=font_size)\n",
    "        )\n",
    "    )\n",
    "    \n",
    "    return fig"
   ]
  },
  {
   "cell_type": "markdown",
   "id": "06888314-ff1d-4e74-84b5-a83222a44a47",
   "metadata": {},
   "source": [
    "### Generate Charts for Trend and Seasonality"
   ]
  },
  {
   "cell_type": "code",
   "execution_count": 17,
   "id": "12f1f528-cb8c-4edc-9051-386ca8f6b1d7",
   "metadata": {},
   "outputs": [
    {
     "data": {
      "image/svg+xml": [
       "<svg class=\"main-svg\" xmlns=\"http://www.w3.org/2000/svg\" xmlns:xlink=\"http://www.w3.org/1999/xlink\" width=\"700\" height=\"500\" style=\"\" viewBox=\"0 0 700 500\"><rect x=\"0\" y=\"0\" width=\"700\" height=\"500\" style=\"fill: rgb(255, 255, 255); fill-opacity: 1;\"/><defs id=\"defs-682371\"><g class=\"clips\"><clipPath id=\"clip682371xyplot\" class=\"plotclip\"><rect width=\"540\" height=\"320\"/></clipPath><clipPath class=\"axesclip\" id=\"clip682371x\"><rect x=\"80\" y=\"0\" width=\"540\" height=\"500\"/></clipPath><clipPath class=\"axesclip\" id=\"clip682371y\"><rect x=\"0\" y=\"100\" width=\"700\" height=\"320\"/></clipPath><clipPath class=\"axesclip\" id=\"clip682371xy\"><rect x=\"80\" y=\"100\" width=\"540\" height=\"320\"/></clipPath></g><g class=\"gradients\"/><g class=\"patterns\"/></defs><g class=\"bglayer\"/><g class=\"layer-below\"><g class=\"imagelayer\"/><g class=\"shapelayer\"/></g><g class=\"cartesianlayer\"><g class=\"subplot xy\"><g class=\"layer-subplot\"><g class=\"shapelayer\"/><g class=\"imagelayer\"/></g><g class=\"minor-gridlayer\"><g class=\"x\"/><g class=\"y\"/></g><g class=\"gridlayer\"><g class=\"x\"><path class=\"xgrid crisp\" transform=\"translate(157.14,0)\" d=\"M0,100v320\" style=\"stroke: rgb(235, 240, 248); stroke-opacity: 1; stroke-width: 1px;\"/><path class=\"xgrid crisp\" transform=\"translate(234.29,0)\" d=\"M0,100v320\" style=\"stroke: rgb(235, 240, 248); stroke-opacity: 1; stroke-width: 1px;\"/><path class=\"xgrid crisp\" transform=\"translate(311.43,0)\" d=\"M0,100v320\" style=\"stroke: rgb(235, 240, 248); stroke-opacity: 1; stroke-width: 1px;\"/><path class=\"xgrid crisp\" transform=\"translate(388.57,0)\" d=\"M0,100v320\" style=\"stroke: rgb(235, 240, 248); stroke-opacity: 1; stroke-width: 1px;\"/><path class=\"xgrid crisp\" transform=\"translate(465.71,0)\" d=\"M0,100v320\" style=\"stroke: rgb(235, 240, 248); stroke-opacity: 1; stroke-width: 1px;\"/><path class=\"xgrid crisp\" transform=\"translate(542.86,0)\" d=\"M0,100v320\" style=\"stroke: rgb(235, 240, 248); stroke-opacity: 1; stroke-width: 1px;\"/></g><g class=\"y\"><path class=\"ygrid crisp\" transform=\"translate(0,345.31)\" d=\"M80,0h540\" style=\"stroke: rgb(235, 240, 248); stroke-opacity: 1; stroke-width: 1px;\"/><path class=\"ygrid crisp\" transform=\"translate(0,286.28)\" d=\"M80,0h540\" style=\"stroke: rgb(235, 240, 248); stroke-opacity: 1; stroke-width: 1px;\"/><path class=\"ygrid crisp\" transform=\"translate(0,227.25)\" d=\"M80,0h540\" style=\"stroke: rgb(235, 240, 248); stroke-opacity: 1; stroke-width: 1px;\"/><path class=\"ygrid crisp\" transform=\"translate(0,168.20999999999998)\" d=\"M80,0h540\" style=\"stroke: rgb(235, 240, 248); stroke-opacity: 1; stroke-width: 1px;\"/><path class=\"ygrid crisp\" transform=\"translate(0,109.18)\" d=\"M80,0h540\" style=\"stroke: rgb(235, 240, 248); stroke-opacity: 1; stroke-width: 1px;\"/></g></g><g class=\"zerolinelayer\"><path class=\"yzl zl crisp\" transform=\"translate(0,404.35)\" d=\"M80,0h540\" style=\"stroke: rgb(235, 240, 248); stroke-opacity: 1; stroke-width: 2px;\"/></g><g class=\"layer-between\"><g class=\"shapelayer\"/><g class=\"imagelayer\"/></g><path class=\"xlines-below\"/><path class=\"ylines-below\"/><g class=\"overlines-below\"/><g class=\"xaxislayer-below\"/><g class=\"yaxislayer-below\"/><g class=\"overaxes-below\"/><g class=\"overplot\"><g class=\"xy\" transform=\"translate(80,100)\" clip-path=\"url(#clip682371xyplot)\"><g class=\"scatterlayer mlayer\"><g class=\"trace scatter tracea4d172\" style=\"stroke-miterlimit: 2; opacity: 1;\"><g class=\"fills\"/><g class=\"errorbars\"/><g class=\"lines\"><path class=\"js-line\" d=\"M0,304L77.14,303.13L115.71,298.4L154.29,294.91L192.86,292.4L231.43,283.68L270,269.64L308.57,241L347.14,231.8L385.71,211.26L424.29,145.48L462.86,63.9L501.43,18.71L540,16\" style=\"vector-effect: none; fill: none; stroke: rgb(99, 110, 250); stroke-opacity: 1; stroke-width: 2px; opacity: 1;\"/></g><g class=\"points\"/><g class=\"text\"/></g></g></g></g><path class=\"xlines-above crisp\" d=\"M0,0\" style=\"fill: none;\"/><path class=\"ylines-above crisp\" d=\"M0,0\" style=\"fill: none;\"/><g class=\"overlines-above\"/><g class=\"xaxislayer-above\"><g class=\"xtick\"><text text-anchor=\"middle\" x=\"0\" y=\"436\" transform=\"translate(80,0)\" style=\"font-family: 'Open Sans', verdana, arial, sans-serif; font-size: 15px; fill: rgb(42, 63, 95); fill-opacity: 1; white-space: pre; opacity: 1;\">2010</text></g><g class=\"xtick\"><text text-anchor=\"middle\" x=\"0\" y=\"436\" style=\"font-family: 'Open Sans', verdana, arial, sans-serif; font-size: 15px; fill: rgb(42, 63, 95); fill-opacity: 1; white-space: pre; opacity: 1;\" transform=\"translate(157.14,0)\">2012</text></g><g class=\"xtick\"><text text-anchor=\"middle\" x=\"0\" y=\"436\" style=\"font-family: 'Open Sans', verdana, arial, sans-serif; font-size: 15px; fill: rgb(42, 63, 95); fill-opacity: 1; white-space: pre; opacity: 1;\" transform=\"translate(234.29,0)\">2014</text></g><g class=\"xtick\"><text text-anchor=\"middle\" x=\"0\" y=\"436\" style=\"font-family: 'Open Sans', verdana, arial, sans-serif; font-size: 15px; fill: rgb(42, 63, 95); fill-opacity: 1; white-space: pre; opacity: 1;\" transform=\"translate(311.43,0)\">2016</text></g><g class=\"xtick\"><text text-anchor=\"middle\" x=\"0\" y=\"436\" style=\"font-family: 'Open Sans', verdana, arial, sans-serif; font-size: 15px; fill: rgb(42, 63, 95); fill-opacity: 1; white-space: pre; opacity: 1;\" transform=\"translate(388.57,0)\">2018</text></g><g class=\"xtick\"><text text-anchor=\"middle\" x=\"0\" y=\"436\" style=\"font-family: 'Open Sans', verdana, arial, sans-serif; font-size: 15px; fill: rgb(42, 63, 95); fill-opacity: 1; white-space: pre; opacity: 1;\" transform=\"translate(465.71,0)\">2020</text></g><g class=\"xtick\"><text text-anchor=\"middle\" x=\"0\" y=\"436\" style=\"font-family: 'Open Sans', verdana, arial, sans-serif; font-size: 15px; fill: rgb(42, 63, 95); fill-opacity: 1; white-space: pre; opacity: 1;\" transform=\"translate(542.86,0)\">2022</text></g><g class=\"xtick\"><text text-anchor=\"middle\" x=\"0\" y=\"436\" style=\"font-family: 'Open Sans', verdana, arial, sans-serif; font-size: 15px; fill: rgb(42, 63, 95); fill-opacity: 1; white-space: pre; opacity: 1;\" transform=\"translate(620,0)\">2024</text></g></g><g class=\"yaxislayer-above\"><g class=\"ytick\"><text text-anchor=\"end\" x=\"79\" y=\"5.25\" transform=\"translate(0,404.35)\" style=\"font-family: 'Open Sans', verdana, arial, sans-serif; font-size: 15px; fill: rgb(42, 63, 95); fill-opacity: 1; white-space: pre; opacity: 1;\">0</text></g><g class=\"ytick\"><text text-anchor=\"end\" x=\"79\" y=\"5.25\" style=\"font-family: 'Open Sans', verdana, arial, sans-serif; font-size: 15px; fill: rgb(42, 63, 95); fill-opacity: 1; white-space: pre; opacity: 1;\" transform=\"translate(0,345.31)\">20k</text></g><g class=\"ytick\"><text text-anchor=\"end\" x=\"79\" y=\"5.25\" style=\"font-family: 'Open Sans', verdana, arial, sans-serif; font-size: 15px; fill: rgb(42, 63, 95); fill-opacity: 1; white-space: pre; opacity: 1;\" transform=\"translate(0,286.28)\">40k</text></g><g class=\"ytick\"><text text-anchor=\"end\" x=\"79\" y=\"5.25\" style=\"font-family: 'Open Sans', verdana, arial, sans-serif; font-size: 15px; fill: rgb(42, 63, 95); fill-opacity: 1; white-space: pre; opacity: 1;\" transform=\"translate(0,227.25)\">60k</text></g><g class=\"ytick\"><text text-anchor=\"end\" x=\"79\" y=\"5.25\" style=\"font-family: 'Open Sans', verdana, arial, sans-serif; font-size: 15px; fill: rgb(42, 63, 95); fill-opacity: 1; white-space: pre; opacity: 1;\" transform=\"translate(0,168.20999999999998)\">80k</text></g><g class=\"ytick\"><text text-anchor=\"end\" x=\"79\" y=\"5.25\" style=\"font-family: 'Open Sans', verdana, arial, sans-serif; font-size: 15px; fill: rgb(42, 63, 95); fill-opacity: 1; white-space: pre; opacity: 1;\" transform=\"translate(0,109.18)\">100k</text></g></g><g class=\"overaxes-above\"/></g></g><g class=\"polarlayer\"/><g class=\"smithlayer\"/><g class=\"ternarylayer\"/><g class=\"geolayer\"/><g class=\"funnelarealayer\"/><g class=\"pielayer\"/><g class=\"iciclelayer\"/><g class=\"treemaplayer\"/><g class=\"sunburstlayer\"/><g class=\"glimages\"/><defs id=\"topdefs-682371\"><g class=\"clips\"/></defs><g class=\"layer-above\"><g class=\"imagelayer\"/><g class=\"shapelayer\"/></g><g class=\"infolayer\"><g class=\"g-gtitle\"><text class=\"gtitle\" x=\"350\" y=\"50\" text-anchor=\"middle\" dy=\"0.7em\" style=\"opacity: 1; font-family: 'Open Sans', verdana, arial, sans-serif; font-size: 20px; fill: rgb(42, 63, 95); fill-opacity: 1; white-space: pre;\">Tesla's Revenue in M USDs</text></g><g class=\"g-xtitle\"><text class=\"xtitle\" x=\"350\" y=\"464\" text-anchor=\"middle\" style=\"opacity: 1; font-family: 'Open Sans', verdana, arial, sans-serif; font-size: 15px; fill: rgb(42, 63, 95); fill-opacity: 1; white-space: pre;\">Year</text></g><g class=\"g-ytitle\"><text class=\"ytitle\" transform=\"rotate(-90,21.7578125,260)\" x=\"21.7578125\" y=\"260\" text-anchor=\"middle\" style=\"opacity: 1; font-family: 'Open Sans', verdana, arial, sans-serif; font-size: 15px; fill: rgb(42, 63, 95); fill-opacity: 1; white-space: pre;\">Value</text></g></g></svg>"
      ]
     },
     "metadata": {},
     "output_type": "display_data"
    }
   ],
   "source": [
    "# Creating a session and disabling SSL verification (be cautious with this approach due to security concerns)\n",
    "session = requests.Session()\n",
    "#session.verify = False\n",
    "\n",
    "url = \"https://en.wikipedia.org/wiki/Tesla,_Inc.\"\n",
    "r = session.get(url)  # Use the session object here for the request\n",
    "website = r.text\n",
    "\n",
    "# Wrap the HTML content in a StringIO object\n",
    "tesla_revenue = pd.read_html(StringIO(website), encoding=\"UTF-8\")[7][['Year', \"Revenue (US$ m)\"]]\n",
    "\n",
    "tesla_revenue = tesla_revenue[tesla_revenue.Year>=2010]\n",
    "fig = px.line(tesla_revenue, x=\"Year\", y=\"Revenue (US$ m)\", title=\"Tesla's Revenue in M USDs\")\n",
    "fig = format_plot(fig, xlabel=\"Year\")\n",
    "fig.write_image(\"imgs/chapter_03/tesla_revenue.png\")\n",
    "fig.show(renderer=\"svg\")"
   ]
  },
  {
   "cell_type": "code",
   "execution_count": null,
   "id": "07ddfa55-60bc-4196-a32f-30eed1c77f59",
   "metadata": {},
   "outputs": [],
   "source": [
    "df = sm.datasets.sunspots.load_pandas().data\n",
    "fig=px.line(df, x=\"YEAR\", y=\"SUNACTIVITY\", title=\"# of Sunspots Years 1749 - 2017\")\n",
    "fig = format_plot(fig, xlabel=\"Year\")\n",
    "fig.write_image(\"imgs/chapter_03/sunspots.png\")\n",
    "fig.show(renderer=\"svg\")"
   ]
  },
  {
   "cell_type": "code",
   "execution_count": 18,
   "id": "6a9ca77c-af6a-4279-b5f8-6fff76dd489f",
   "metadata": {},
   "outputs": [],
   "source": [
    "df = pd.DataFrame({\"x\": np.arange(13)})\n",
    "\n",
    "for i in range(1,4):\n",
    "    df[f'Fourier Cosine Term {i}'] = np.cos((2 * np.pi * df.x * i) / 12)\n",
    "    df[f'Fourier Sine Term {i}'] = np.sin((2 * np.pi * df.x * i) / 12)\n",
    "\n",
    "df = pd.melt(df, id_vars=\"x\",var_name=\"Fourier Terms\")"
   ]
  },
  {
   "cell_type": "code",
   "execution_count": null,
   "id": "b4452c0d-655a-41ef-9513-d8a342a5a021",
   "metadata": {},
   "outputs": [],
   "source": [
    "fig = px.line(df[df['Fourier Terms'].str.contains(\"Cosine\")], x=\"x\", y=\"value\", line_dash=\"Fourier Terms\", title=\"Fourier Terms\")\n",
    "fig = format_plot(fig, xlabel=\"x\", ylabel=\"$cos(2\\pi/P \\cdot n \\cdot x)$\")\n",
    "fig.write_image(\"imgs/chapter_03/fourier_terms.png\")\n",
    "fig.show(renderer=\"svg\")"
   ]
  },
  {
   "cell_type": "code",
   "execution_count": null,
   "id": "94f6f0cd-6fcc-4af2-a7f7-cbccd4a9f1ba",
   "metadata": {},
   "outputs": [],
   "source": [
    "fig = px.line(df[df['Fourier Terms'].str.contains(\"Term 1\")], x=\"x\", y=\"value\", line_dash=\"Fourier Terms\", title=\"Sine and Cosine Fourier Terms\")\n",
    "fig = format_plot(fig, xlabel=\"x\", ylabel=\"value\")\n",
    "fig.write_image(\"imgs/chapter_03/sine_cos_terms.png\")\n",
    "fig.show(renderer=\"svg\")"
   ]
  },
  {
   "cell_type": "markdown",
   "id": "8eefdf4a-c64d-4284-9ff7-4cb1ebc170ca",
   "metadata": {},
   "source": [
    "### Reading Blocks 0-7"
   ]
  },
  {
   "cell_type": "code",
   "execution_count": null,
   "id": "400a885f-ef7c-446f-a504-d94ddf33281a",
   "metadata": {},
   "outputs": [],
   "source": [
    "from src.utils.data_utils import compact_to_expanded"
   ]
  },
  {
   "cell_type": "code",
   "execution_count": null,
   "id": "b5acb788-d966-4378-b088-b4517440e493",
   "metadata": {},
   "outputs": [],
   "source": [
    "try:\n",
    "    block_df = pd.read_parquet(preprocessed/\"london_smart_meters_merged_block_0-7.parquet\")\n",
    "    display(block_df.head())\n",
    "except FileNotFoundError:\n",
    "    display(HTML(\"\"\"\n",
    "    <div class=\"alert alert-block alert-warning\">\n",
    "    <b>Warning!</b> File not found. Please make sure you have run 02 - Preprocessing London Smart Meter Dataset.ipynb in Chapter02\n",
    "    </div>\n",
    "    \"\"\"))"
   ]
  },
  {
   "cell_type": "code",
   "execution_count": null,
   "id": "93624241-a0ff-4350-9faa-cb057a8ce331",
   "metadata": {},
   "outputs": [],
   "source": [
    "#Converting to expanded form\n",
    "exp_block_df = compact_to_expanded(block_df[block_df.file==\"block_7\"], timeseries_col = 'energy_consumption',\n",
    "static_cols = [\"frequency\", \"series_length\", \"stdorToU\", \"Acorn\", \"Acorn_grouped\", \"file\"],\n",
    "time_varying_cols = ['holidays', 'visibility', 'windBearing', 'temperature', 'dewPoint',\n",
    "       'pressure', 'apparentTemperature', 'windSpeed', 'precipType', 'icon',\n",
    "       'humidity', 'summary'],\n",
    "ts_identifier = \"LCLid\")\n",
    "\n",
    "exp_block_df.head()"
   ]
  },
  {
   "cell_type": "code",
   "execution_count": null,
   "id": "04a8e3ff-df9e-4ada-826e-5f29b46f04d4",
   "metadata": {},
   "outputs": [],
   "source": [
    "# Taking a single time series from the block\n",
    "ts_df = exp_block_df[exp_block_df.LCLid==\"MAC000193\"].set_index(\"timestamp\")"
   ]
  },
  {
   "cell_type": "markdown",
   "id": "cae2757a-2420-40a2-9a74-b0f0b2099154",
   "metadata": {},
   "source": [
    "#### Filling in Missing Values"
   ]
  },
  {
   "cell_type": "code",
   "execution_count": null,
   "id": "0082030b-3fcd-4332-af04-32db7b7e0e30",
   "metadata": {},
   "outputs": [],
   "source": [
    "from src.imputation.interpolation import SeasonalInterpolation\n",
    "\n",
    "ts = SeasonalInterpolation(seasonal_period=48*7).fit_transform(ts_df.energy_consumption.values.reshape(-1,1)).squeeze()"
   ]
  },
  {
   "cell_type": "markdown",
   "id": "31c93032-9183-490a-88a3-e66e646008b3",
   "metadata": {},
   "source": [
    "### Seasonal Decomposition"
   ]
  },
  {
   "cell_type": "code",
   "execution_count": 20,
   "id": "dc1569b5-5f94-4101-8bf7-d6e0ed2f1472",
   "metadata": {},
   "outputs": [],
   "source": [
    "from statsmodels.tsa.seasonal import seasonal_decompose\n",
    "from src.decomposition.seasonal import STL, FourierDecomposition, MultiSeasonalDecomposition"
   ]
  },
  {
   "cell_type": "code",
   "execution_count": null,
   "id": "70348409-17aa-4685-9696-636bb7818166",
   "metadata": {},
   "outputs": [],
   "source": [
    "def decomposition_plot(\n",
    "        ts_index, observed=None, seasonal=None, trend=None, resid=None\n",
    "    ):\n",
    "        \"\"\"Plots the decomposition output\n",
    "        \"\"\"\n",
    "        series = []\n",
    "        if observed is not None:\n",
    "            series += [\"Original\"]\n",
    "        if trend is not None:\n",
    "            series += [\"Trend\"]\n",
    "        if seasonal is not None:\n",
    "            series += [\"Seasonal\"]\n",
    "        if resid is not None:\n",
    "            series += [\"Residual\"]\n",
    "        if len(series) == 0:\n",
    "            raise ValueError(\n",
    "                \"All component flags were off. Need atleast one of the flags turned on to plot.\"\n",
    "            )\n",
    "        fig = make_subplots(\n",
    "            rows=len(series), cols=1, shared_xaxes=True, subplot_titles=series\n",
    "        )\n",
    "        x = ts_index\n",
    "        row = 1\n",
    "        if observed is not None:\n",
    "            fig.append_trace(\n",
    "                go.Scatter(x=x, y=observed, name=\"Original\"), row=row, col=1\n",
    "            )\n",
    "            row += 1\n",
    "        if trend is not None:\n",
    "            fig.append_trace(\n",
    "                go.Scatter(x=x, y=trend, name=\"Trend\"), row=row, col=1\n",
    "            )\n",
    "            row += 1\n",
    "        if seasonal is not None:\n",
    "            fig.append_trace(\n",
    "                go.Scatter(x=x, y=seasonal, name=\"Seasonal\"),\n",
    "                row=row,\n",
    "                col=1,\n",
    "            )\n",
    "            row += 1\n",
    "        if resid is not None:\n",
    "            fig.append_trace(\n",
    "                go.Scatter(x=x, y=resid, name=\"Residual\"), row=row, col=1\n",
    "            )\n",
    "            row += 1\n",
    "\n",
    "        fig.update_layout(\n",
    "            title_text=\"Seasonal Decomposition\",\n",
    "            autosize=False,\n",
    "            width=1200,\n",
    "            height=700,\n",
    "            title={\"x\": 0.5, \"xanchor\": \"center\", \"yanchor\": \"top\"},\n",
    "            titlefont={\"size\": 20},\n",
    "            legend_title=None,\n",
    "            showlegend=False,\n",
    "            legend=dict(\n",
    "                font=dict(size=15),\n",
    "                orientation=\"h\",\n",
    "                yanchor=\"bottom\",\n",
    "                y=0.98,\n",
    "                xanchor=\"right\",\n",
    "                x=1,\n",
    "            ),\n",
    "            yaxis=dict(\n",
    "                # title_text=ylabel,\n",
    "                titlefont=dict(size=15),\n",
    "                tickfont=dict(size=15),\n",
    "            ),\n",
    "            xaxis=dict(\n",
    "                # title_text=xlabel,\n",
    "                titlefont=dict(size=15),\n",
    "                tickfont=dict(size=15),\n",
    "            )\n",
    "        )\n",
    "        return fig"
   ]
  },
  {
   "cell_type": "markdown",
   "id": "512f6546-784c-410b-beee-e6e181d3c8ae",
   "metadata": {},
   "source": [
    "### Moving Averages"
   ]
  },
  {
   "cell_type": "code",
   "execution_count": null,
   "id": "396192a7-33d1-498c-944f-7fa281051ba9",
   "metadata": {},
   "outputs": [],
   "source": []
  },
  {
   "cell_type": "code",
   "execution_count": null,
   "id": "3d690004-105f-4fd0-859f-c01d2148f710",
   "metadata": {},
   "outputs": [],
   "source": [
    "#Does not support misssing values, so using imputed ts instead\n",
    "res = seasonal_decompose(ts, period=7*48, model=\"additive\", extrapolate_trend=\"freq\", filt=np.repeat(1/(30*48), 30*48))"
   ]
  },
  {
   "cell_type": "code",
   "execution_count": null,
   "id": "413bc3ea-79a9-4cb5-bff3-ba7b367d4866",
   "metadata": {},
   "outputs": [],
   "source": [
    "fig = decomposition_plot(ts_df.index, res.observed, res.seasonal, res.trend, res.resid)\n",
    "fig.write_image(\"imgs/chapter_03/moving_avg_decomposition.png\")\n",
    "fig.show(renderer=\"svg\")"
   ]
  },
  {
   "cell_type": "code",
   "execution_count": null,
   "id": "f0740313-014a-4f71-8164-85d2e54c4292",
   "metadata": {},
   "outputs": [],
   "source": [
    "#Let's zoom in on a few days to better see the seasonality extracted\n",
    "fig.update_xaxes(type=\"date\", range=[\"2012-11-4\", \"2012-12-4\"])\n",
    "fig.write_image(\"imgs/chapter_03/moving_avg_decomposition_zoomed.png\")\n",
    "fig.show(renderer=\"svg\")"
   ]
  },
  {
   "cell_type": "markdown",
   "id": "56b44857-a081-43c9-afdf-d48a25e3b1c6",
   "metadata": {},
   "source": [
    "### Seasonality and Trend Decomposition using Loess (STL)"
   ]
  },
  {
   "cell_type": "code",
   "execution_count": null,
   "id": "939aa8f4-0d2d-433a-8a54-815125cf48fb",
   "metadata": {},
   "outputs": [],
   "source": [
    "#Supports missing values and expects a series or dataframe with datetime index\n",
    "stl = STL(seasonality_period=7*48, model = \"additive\")\n",
    "res_new = stl.fit(ts_df.energy_consumption)"
   ]
  },
  {
   "cell_type": "code",
   "execution_count": null,
   "id": "dc1e896c-953a-4aee-aef1-1801d8024113",
   "metadata": {},
   "outputs": [],
   "source": [
    "fig = res_new.plot(interactive=True)\n",
    "fig.update_layout(\n",
    "            legend=dict(\n",
    "                font=dict(size=15),\n",
    "                orientation=\"h\",\n",
    "                yanchor=\"bottom\",\n",
    "                y=0.98,\n",
    "                xanchor=\"right\",\n",
    "                x=1,\n",
    "            ),\n",
    "            yaxis=dict(\n",
    "                # title_text=ylabel,\n",
    "                titlefont=dict(size=15),\n",
    "                tickfont=dict(size=15),\n",
    "            ),\n",
    "            xaxis=dict(\n",
    "                # title_text=xlabel,\n",
    "                titlefont=dict(size=15),\n",
    "                tickfont=dict(size=15),\n",
    "            )\n",
    "        )\n",
    "fig.write_image(\"imgs/chapter_03/stl_decomposition.png\")\n",
    "fig.show(renderer=\"svg\")"
   ]
  },
  {
   "cell_type": "code",
   "execution_count": null,
   "id": "ccd0c0d6-490c-4037-a996-ff6a42494ca8",
   "metadata": {},
   "outputs": [],
   "source": [
    "#Let's zoom in on a few days to better see the seasonality extracted\n",
    "fig.update_xaxes(type=\"date\", range=[\"2012-11-4\", \"2012-12-4\"])\n",
    "fig.write_image(\"imgs/chapter_03/stl_decomposition_zoomed.png\")\n",
    "fig.show(renderer=\"svg\")"
   ]
  },
  {
   "cell_type": "markdown",
   "id": "96384dc6-4906-406a-b041-3e0e34102c09",
   "metadata": {},
   "source": [
    "### Seasonality and Trend Decomposition using Loess and Fourier Terms (Fourier Decomposition)"
   ]
  },
  {
   "cell_type": "code",
   "execution_count": null,
   "id": "aded3b39-fbbb-421f-afda-a7dd6d6c2bd0",
   "metadata": {},
   "outputs": [],
   "source": [
    "#Doesn't support missing values, and expects a series or datafeame with datetime index\n",
    "stl = FourierDecomposition(seasonality_period=\"hour\", model = \"additive\", n_fourier_terms=5)\n",
    "res_new = stl.fit(pd.Series(ts.squeeze(), index=ts_df.index))"
   ]
  },
  {
   "cell_type": "code",
   "execution_count": null,
   "id": "1bf08fa0-d5c9-41f1-9a4e-55865badb810",
   "metadata": {},
   "outputs": [],
   "source": [
    "fig = res_new.plot(interactive=True)\n",
    "fig.update_layout(\n",
    "            legend=dict(\n",
    "                font=dict(size=15),\n",
    "                orientation=\"h\",\n",
    "                yanchor=\"bottom\",\n",
    "                y=0.98,\n",
    "                xanchor=\"right\",\n",
    "                x=1,\n",
    "            ),\n",
    "            yaxis=dict(\n",
    "                # title_text=ylabel,\n",
    "                titlefont=dict(size=15),\n",
    "                tickfont=dict(size=15),\n",
    "            ),\n",
    "            xaxis=dict(\n",
    "                # title_text=xlabel,\n",
    "                titlefont=dict(size=15),\n",
    "                tickfont=dict(size=15),\n",
    "            )\n",
    "        )\n",
    "fig.write_image(\"imgs/chapter_03/fourier_decomposition_hourly.png\")\n",
    "fig.show(renderer=\"svg\")"
   ]
  },
  {
   "cell_type": "code",
   "execution_count": null,
   "id": "09ae8327-1ba4-470d-87b5-91f206bffe48",
   "metadata": {},
   "outputs": [],
   "source": [
    "fig.update_xaxes(type=\"date\", range=[\"2012-11-4\", \"2012-12-4\"])\n",
    "fig.write_image(\"imgs/chapter_03/fourier_decomposition_hourly_zoomed.png\")\n",
    "fig.show(renderer=\"svg\")"
   ]
  },
  {
   "cell_type": "markdown",
   "id": "4c5fa8f4-1e51-4e5a-b9b9-564a2c3511a1",
   "metadata": {},
   "source": [
    "#### Custom Seasonality"
   ]
  },
  {
   "cell_type": "code",
   "execution_count": null,
   "id": "64a4054b-2878-4e1d-9b3a-f33da43fd072",
   "metadata": {},
   "outputs": [],
   "source": [
    "#Making a custom seasonality term\n",
    "ts_df[\"dayofweek\"] = ts_df.index.dayofweek\n",
    "ts_df[\"hour\"] = ts_df.index.hour\n",
    "\n",
    "#Creating a sorted unique combination df\n",
    "map_df = ts_df[[\"dayofweek\",\"hour\"]].drop_duplicates().sort_values([\"dayofweek\", \"hour\"])\n",
    "\n",
    "# Assigning an ordinal variable to capture the order\n",
    "map_df[\"map\"] = np.arange(1, len(map_df)+1)\n",
    "\n",
    "# mapping the oprdinal mapping back to the original df and getting the seasonality array\n",
    "seasonality = ts_df.merge(map_df, on=[\"dayofweek\",\"hour\"], how='left', validate=\"many_to_one\")['map']"
   ]
  },
  {
   "cell_type": "code",
   "execution_count": null,
   "id": "0d15815a-a128-43cc-b093-05f47af916bd",
   "metadata": {},
   "outputs": [],
   "source": [
    "stl = FourierDecomposition(model = \"additive\", n_fourier_terms=50)\n",
    "res_new = stl.fit(pd.Series(ts, index=ts_df.index), seasonality=seasonality)"
   ]
  },
  {
   "cell_type": "code",
   "execution_count": null,
   "id": "d88c656c-0238-4633-8827-a9cf9a220da4",
   "metadata": {},
   "outputs": [],
   "source": [
    "fig = res_new.plot(interactive=True)\n",
    "fig.update_layout(\n",
    "            legend=dict(\n",
    "                font=dict(size=15),\n",
    "                orientation=\"h\",\n",
    "                yanchor=\"bottom\",\n",
    "                y=0.98,\n",
    "                xanchor=\"right\",\n",
    "                x=1,\n",
    "            ),\n",
    "            yaxis=dict(\n",
    "                # title_text=ylabel,\n",
    "                titlefont=dict(size=15),\n",
    "                tickfont=dict(size=15),\n",
    "            ),\n",
    "            xaxis=dict(\n",
    "                # title_text=xlabel,\n",
    "                titlefont=dict(size=15),\n",
    "                tickfont=dict(size=15),\n",
    "            )\n",
    "        )\n",
    "fig.write_image(\"imgs/chapter_03/fourier_decomposition.png\")\n",
    "fig.show(renderer=\"svg\")"
   ]
  },
  {
   "cell_type": "code",
   "execution_count": null,
   "id": "418d4ad7-c3ea-499f-8ede-b48c7714daba",
   "metadata": {},
   "outputs": [],
   "source": [
    "fig.update_xaxes(type=\"date\", range=[\"2012-11-4\", \"2012-12-4\"])\n",
    "fig.write_image(\"imgs/chapter_03/fourier_decomposition_zoomed.png\")\n",
    "fig.show(renderer=\"svg\")"
   ]
  },
  {
   "cell_type": "code",
   "execution_count": null,
   "id": "a7774a3e-3bd8-47b6-bf9d-1e9de66f2527",
   "metadata": {},
   "outputs": [],
   "source": [
    "### Multiple Seasonality Decomposition using Loess (MSTL)\n",
    "\n",
    "#### Using Averages as the seasonal model"
   ]
  },
  {
   "cell_type": "code",
   "execution_count": null,
   "id": "70b4237b-b3b7-4c84-bd5d-dd9bb4ca675f",
   "metadata": {},
   "outputs": [],
   "source": [
    "stl = MultiSeasonalDecomposition(seasonal_model=\"averages\",seasonality_periods=[48*365, 48*7, 48], model = \"additive\")\n",
    "res_new = stl.fit(pd.Series(ts, index=ts_df.index))"
   ]
  },
  {
   "cell_type": "code",
   "execution_count": null,
   "id": "6eac4970-afa7-4473-825e-2b3684fe2551",
   "metadata": {},
   "outputs": [],
   "source": [
    "fig = res_new.plot(interactive=True)\n",
    "\n",
    "fig.update_layout(\n",
    "            legend=dict(\n",
    "                font=dict(size=15),\n",
    "                orientation=\"h\",\n",
    "                yanchor=\"bottom\",\n",
    "                y=0.98,\n",
    "                xanchor=\"right\",\n",
    "                x=1,\n",
    "            ),\n",
    "            yaxis=dict(\n",
    "                # title_text=ylabel,\n",
    "                titlefont=dict(size=15),\n",
    "                tickfont=dict(size=15),\n",
    "            ),\n",
    "            xaxis=dict(\n",
    "                # title_text=xlabel,\n",
    "                titlefont=dict(size=15),\n",
    "                tickfont=dict(size=15),\n",
    "            )\n",
    "        )\n",
    "fig.write_image(\"imgs/chapter_03/mstl_decomposition_averages.png\")\n",
    "fig.show(renderer=\"svg\")"
   ]
  },
  {
   "cell_type": "code",
   "execution_count": null,
   "id": "e3f7293d-f8d6-40a9-b0da-86d3c669cc8f",
   "metadata": {},
   "outputs": [],
   "source": [
    "fig.update_xaxes(type=\"date\", range=[\"2012-11-4\", \"2012-12-4\"])\n",
    "\n",
    "fig.write_image(\"imgs/chapter_03/mstl_decomposition_averages_zoomed.png\")\n",
    "fig.show(renderer=\"svg\")"
   ]
  },
  {
   "cell_type": "markdown",
   "id": "55e06696-1c89-4093-a144-358960de693c",
   "metadata": {},
   "source": [
    "#### Using Fourier Decomposition as Seasonal Model"
   ]
  },
  {
   "cell_type": "code",
   "execution_count": null,
   "id": "ec38d043-44b5-418b-9326-95f52d0b53cf",
   "metadata": {},
   "outputs": [],
   "source": [
    "stl = MultiSeasonalDecomposition(seasonal_model=\"fourier\",seasonality_periods=[\"day_of_year\", \"day_of_week\", \"hour\"],\n",
    "                                 model = \"additive\",\n",
    "                                 n_fourier_terms=10)\n",
    "\n",
    "res_new = stl.fit(pd.Series(ts, index=ts_df.index))"
   ]
  },
  {
   "cell_type": "code",
   "execution_count": null,
   "id": "0f622e87-bba8-46f9-9462-19b9b1067909",
   "metadata": {},
   "outputs": [],
   "source": [
    "fig = res_new.plot(interactive=True)\n",
    "fig.update_layout(\n",
    "            legend=dict(\n",
    "                font=dict(size=15),\n",
    "                orientation=\"h\",\n",
    "                yanchor=\"bottom\",\n",
    "                y=0.98,\n",
    "                xanchor=\"right\",\n",
    "                x=1,\n",
    "            ),\n",
    "            yaxis=dict(\n",
    "                # title_text=ylabel,\n",
    "                titlefont=dict(size=15),\n",
    "                tickfont=dict(size=15),\n",
    "            ),\n",
    "            xaxis=dict(\n",
    "                # title_text=xlabel,\n",
    "                titlefont=dict(size=15),\n",
    "                tickfont=dict(size=15),\n",
    "            )\n",
    "        )\n",
    "fig.write_image(\"imgs/chapter_03/mstl_decomposition_fourier.png\")\n",
    "fig.show(renderer=\"svg\")"
   ]
  },
  {
   "cell_type": "code",
   "execution_count": null,
   "id": "dc70e32f-a20e-4103-ac26-31b4ecd8b9e5",
   "metadata": {},
   "outputs": [],
   "source": [
    "fig.update_xaxes(type=\"date\", range=[\"2012-11-4\", \"2012-12-4\"])\n",
    "fig.write_image(\"imgs/chapter_03/mstl_decomposition_fourier_zoomed.png\")\n",
    "fig.show(renderer=\"svg\")"
   ]
  },
  {
   "cell_type": "markdown",
   "id": "91eed554-3d7e-4156-a2aa-ffd4d2cfa16c",
   "metadata": {},
   "source": [
    "### MSTL decomposition in STATSMODELS"
   ]
  },
  {
   "cell_type": "code",
   "execution_count": null,
   "id": "c9b72d7b-dbd8-4805-99e9-d0a590004ff9",
   "metadata": {},
   "outputs": [],
   "source": [
    "exp_block_df.head()"
   ]
  },
  {
   "cell_type": "code",
   "execution_count": null,
   "id": "e76a307e-d490-48c5-9366-50ac2ba30123",
   "metadata": {},
   "outputs": [],
   "source": [
    "ts_df_mstl = exp_block_df[exp_block_df.LCLid==\"MAC000050\"][['timestamp','energy_consumption']].set_index('timestamp')\n",
    "ts_df_mstl.head()"
   ]
  },
  {
   "cell_type": "code",
   "execution_count": null,
   "id": "e97287a4-d542-499c-a443-14cb04cf46e5",
   "metadata": {},
   "outputs": [],
   "source": [
    "stl_kwargs = {\"seasonal_deg\": 0, }\n",
    "mstl = MSTL(ts_df_mstl['energy_consumption'], \n",
    "            periods=[48, 48*7], \n",
    "            #windows=[101, 101],  # Setting this large along with `seasonal_deg=0` will force the seasonality to be periodic.\n",
    "            #stl_kwargs = stl_kwargs,\n",
    "            )\n",
    "res = mstl.fit()"
   ]
  },
  {
   "cell_type": "code",
   "execution_count": null,
   "id": "26055d72-f79d-4144-94af-0a9aaa3d5805",
   "metadata": {},
   "outputs": [],
   "source": [
    "res.trend.head()"
   ]
  },
  {
   "cell_type": "code",
   "execution_count": null,
   "id": "df20b578-1e1f-4fe0-852b-89c71ce669f7",
   "metadata": {},
   "outputs": [],
   "source": [
    "res.seasonal.head()"
   ]
  },
  {
   "cell_type": "code",
   "execution_count": null,
   "id": "93548fdc-6a90-4ac1-b95b-dad76b82fe81",
   "metadata": {},
   "outputs": [],
   "source": [
    "res.resid.head()"
   ]
  },
  {
   "cell_type": "code",
   "execution_count": null,
   "id": "862ba25e-c45d-4add-8f6e-3baca6987013",
   "metadata": {},
   "outputs": [],
   "source": [
    "sns.set_style(\"darkgrid\")\n",
    "plt.rc(\"figure\", figsize=(16, 12))\n",
    "plt.rc(\"font\", size=13)\n",
    "\n",
    "# Creating a plot\n",
    "fig = res.plot()\n",
    "\n",
    "for ax in fig.axes:\n",
    "    ax.set_xlim(pd.Timestamp('2012-01-01'), pd.Timestamp('2012-02-01'))\n",
    "\n",
    "plt.tight_layout()  # Adjust layout to make sure everything fits without overlapping\n",
    "plt.show()"
   ]
  },
  {
   "cell_type": "code",
   "execution_count": null,
   "id": "57612f06-eebf-40fc-9972-2925fc5369b3",
   "metadata": {},
   "outputs": [],
   "source": []
  },
  {
   "cell_type": "code",
   "execution_count": null,
   "id": "938f38ec-0a18-460c-a8d5-9fd5293d221b",
   "metadata": {},
   "outputs": [],
   "source": []
  },
  {
   "cell_type": "code",
   "execution_count": null,
   "id": "ea2bcd60-f6f9-4871-bfd9-497e380e08c5",
   "metadata": {},
   "outputs": [],
   "source": []
  },
  {
   "cell_type": "code",
   "execution_count": null,
   "id": "57e1bc4c-a087-405e-90a9-d4c60e9e2157",
   "metadata": {},
   "outputs": [],
   "source": []
  }
 ],
 "metadata": {
  "kernelspec": {
   "display_name": "Python 3 (ipykernel)",
   "language": "python",
   "name": "python3"
  },
  "language_info": {
   "codemirror_mode": {
    "name": "ipython",
    "version": 3
   },
   "file_extension": ".py",
   "mimetype": "text/x-python",
   "name": "python",
   "nbconvert_exporter": "python",
   "pygments_lexer": "ipython3",
   "version": "3.10.18"
  }
 },
 "nbformat": 4,
 "nbformat_minor": 5
}
