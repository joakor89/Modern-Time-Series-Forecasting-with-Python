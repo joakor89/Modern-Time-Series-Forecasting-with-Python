{
 "cells": [
  {
   "cell_type": "markdown",
   "id": "7c58ac5d-81da-4809-a06d-4ee724e73521",
   "metadata": {},
   "source": [
    "# Outlier Detection & Treatments\n",
    "\n",
    "### Loading Libraries"
   ]
  },
  {
   "cell_type": "code",
   "execution_count": 1,
   "id": "325a2f5b-b8a2-4533-aa9a-a24c86f8f671",
   "metadata": {},
   "outputs": [],
   "source": [
    "# Numerical Computing\n",
    "import numpy as np\n",
    "\n",
    "# Data Manipulation\n",
    "import pandas as pd\n",
    "\n",
    "# Data Visualization\n",
    "import plotly.io as pio\n",
    "import plotly.express as px\n",
    "import matplotlib.pyplot as plt\n",
    "\n",
    "# Warnings\n",
    "import warnings\n",
    "\n",
    "# OS\n",
    "import os\n",
    "import sys\n",
    "import pickleshare\n",
    "import missingno as msno\n",
    "from itertools import cycle\n",
    "\n",
    "# PyArrow\n",
    "import pyarrow as pa\n",
    "\n",
    "# Path & Notebook Optimizer\n",
    "from pathlib import Path\n",
    "from tqdm.auto import tqdm\n",
    "\n",
    "# Scikit-Learn\n",
    "from sklearn.metrics import mean_absolute_error\n",
    "\n",
    "# IPython\n",
    "from IPython.display import display, HTML"
   ]
  },
  {
   "cell_type": "code",
   "execution_count": 2,
   "id": "0ddba412-712b-4c52-8f51-8c9d976f6177",
   "metadata": {},
   "outputs": [],
   "source": [
    "%load_ext autoreload\n",
    "%autoreload 2"
   ]
  },
  {
   "cell_type": "code",
   "execution_count": 3,
   "id": "d21c66e8-d62c-438e-8db0-52107dd9679d",
   "metadata": {},
   "outputs": [],
   "source": [
    "tqdm.pandas()\n",
    "\n",
    "np.random.seed()\n",
    "\n",
    "pio.templates.default = \"plotly_white\"\n",
    "\n",
    "sys.path.append('/Users/joaquinromero/Desktop/MTSF')"
   ]
  },
  {
   "cell_type": "code",
   "execution_count": 4,
   "id": "5dcf6658-8121-40a3-b5fe-5ffe5efb70f5",
   "metadata": {},
   "outputs": [],
   "source": [
    "warnings.filterwarnings(\"ignore\", category=UserWarning)\n",
    "\n",
    "warnings.filterwarnings(\"ignore\", category=FutureWarning)\n",
    "\n",
    "warnings.filterwarnings(\"ignore\", message=\"'force_all_finite' was renamed to 'ensure_all_finite'\")"
   ]
  },
  {
   "cell_type": "code",
   "execution_count": 5,
   "id": "439149a6-652e-4161-83d3-2b6bfa59ecbf",
   "metadata": {},
   "outputs": [],
   "source": [
    "os.makedirs(\"imgs/chapter_03\", exist_ok=True)"
   ]
  },
  {
   "cell_type": "code",
   "execution_count": 6,
   "id": "3afaf2ba-43e4-40fd-b385-f115d3b69673",
   "metadata": {},
   "outputs": [],
   "source": [
    "preprocessed = Path.home() / \"Desktop\" / \"data\" / \"london_smart_meters\" / \"preprocessed\""
   ]
  },
  {
   "cell_type": "code",
   "execution_count": 7,
   "id": "85be1fcd-5c4a-4fa4-800b-ed234da8d6e5",
   "metadata": {},
   "outputs": [],
   "source": [
    "assert preprocessed.is_dir(), \"You have to run 02 - Preprocessing London Smart Meter Dataset.ipynb in Chapter02 before running this notebook\""
   ]
  },
  {
   "cell_type": "code",
   "execution_count": 8,
   "id": "7346a7f7-1d6b-4ada-8abc-f9730b964fda",
   "metadata": {},
   "outputs": [],
   "source": [
    "from itertools import cycle\n",
    "\n",
    "def format_plot(fig, legends=None, xlabel=\"Time\", ylabel=\"Value\", font_size=15, title_font_size=20):\n",
    "    if legends:\n",
    "        names = cycle(legends)\n",
    "        fig.for_each_trace(lambda t: t.update(name=next(names)))\n",
    "        \n",
    "    fig.update_layout(\n",
    "        autosize=False,\n",
    "        width=900,\n",
    "        height=500,\n",
    "        title=dict(\n",
    "            text=fig.layout.title.text if fig.layout.title.text else \"\",\n",
    "            x=0.5,\n",
    "            xanchor=\"center\",\n",
    "            yanchor=\"top\",\n",
    "            font=dict(size=title_font_size)\n",
    "        ),\n",
    "        legend_title=None,\n",
    "        legend=dict(\n",
    "            font=dict(size=font_size),\n",
    "            orientation=\"h\",\n",
    "            yanchor=\"bottom\",\n",
    "            y=0.98,\n",
    "            xanchor=\"right\",\n",
    "            x=1,\n",
    "        ),\n",
    "        yaxis=dict(\n",
    "            title=dict(\n",
    "                text=ylabel,\n",
    "                font=dict(size=font_size)\n",
    "            ),\n",
    "            tickfont=dict(size=font_size)\n",
    "        ),\n",
    "        xaxis=dict(\n",
    "            title=dict(\n",
    "                text=xlabel,\n",
    "                font=dict(size=font_size)\n",
    "            ),\n",
    "            tickfont=dict(size=font_size)\n",
    "        )\n",
    "    )\n",
    "    \n",
    "    return fig"
   ]
  },
  {
   "cell_type": "markdown",
   "id": "ef391904-db8e-40c3-90f0-6ff68e85c963",
   "metadata": {},
   "source": [
    "### Reading Blocks 0-7"
   ]
  },
  {
   "cell_type": "code",
   "execution_count": null,
   "id": "d8d51174-33ff-4593-8864-48d94715a6ac",
   "metadata": {},
   "outputs": [],
   "source": [
    "from src.utils.data_utils import compact_to_expanded"
   ]
  },
  {
   "cell_type": "code",
   "execution_count": null,
   "id": "58d6b8e9-946e-4e81-b1ae-6962f54fb9cc",
   "metadata": {},
   "outputs": [],
   "source": [
    "try:\n",
    "    block_df = pd.read_parquet(preprocessed/\"london_smart_meters_merged_block_0-7.parquet\")\n",
    "    display(block_df.head())\n",
    "except FileNotFoundError:\n",
    "    display(HTML(\"\"\"\n",
    "    <div class=\"alert alert-block alert-warning\">\n",
    "    <b>Warning!</b> File not found. Please make sure you have run 02 - Preprocessing London Smart Meter Dataset.ipynb in Chapter02\n",
    "    </div>\n",
    "    \"\"\"))"
   ]
  },
  {
   "cell_type": "code",
   "execution_count": null,
   "id": "0a8be0a6-3140-4e16-b04e-6e1791a1637e",
   "metadata": {},
   "outputs": [],
   "source": [
    "#Converting to Expanded Form\n",
    "exp_block_df = compact_to_expanded(block_df[block_df.file==\"block_7\"], timeseries_col = 'energy_consumption',\n",
    "static_cols = [\"frequency\", \"series_length\", \"stdorToU\", \"Acorn\", \"Acorn_grouped\", \"file\"],\n",
    "time_varying_cols = ['holidays', 'visibility', 'windBearing', 'temperature', 'dewPoint',\n",
    "       'pressure', 'apparentTemperature', 'windSpeed', 'precipType', 'icon',\n",
    "       'humidity', 'summary'],\n",
    "ts_identifier = \"LCLid\")\n",
    "\n",
    "exp_block_df.head()"
   ]
  },
  {
   "cell_type": "code",
   "execution_count": null,
   "id": "0f616b9c-a986-40e1-9726-a477239fe64d",
   "metadata": {},
   "outputs": [],
   "source": [
    "# Taking a single time series from the block\n",
    "ts_df = exp_block_df[exp_block_df.LCLid==\"MAC000193\"].set_index(\"timestamp\")"
   ]
  },
  {
   "cell_type": "markdown",
   "id": "23a376f4-e716-4731-bddb-e0e29bf5df8e",
   "metadata": {},
   "source": [
    "#### Filling in Missing Values"
   ]
  },
  {
   "cell_type": "code",
   "execution_count": null,
   "id": "bf22b89a-6282-4ed2-81da-9ed394036a86",
   "metadata": {},
   "outputs": [],
   "source": [
    "from src.imputation.interpolation import SeasonalInterpolation\n",
    "ts = SeasonalInterpolation(seasonal_period=48*7).fit_transform(ts_df.energy_consumption.values.reshape(-1,1)).squeeze()"
   ]
  },
  {
   "cell_type": "markdown",
   "id": "05ada150-7cd8-465b-9181-eb0bb7ec2c99",
   "metadata": {},
   "source": [
    "### Outlier Detection"
   ]
  },
  {
   "cell_type": "code",
   "execution_count": null,
   "id": "d88fa7a5-8535-452b-bedb-4daf5d687a01",
   "metadata": {},
   "outputs": [],
   "source": [
    "def plot_outliers(x, ts, outlier_mask, method, font_size=15):\n",
    "    fig = go.Figure()\n",
    "\n",
    "    fig.add_trace(go.Scatter(\n",
    "        x=x,\n",
    "        y=ts,\n",
    "        mode=\"lines\",\n",
    "        name=\"Original\"\n",
    "    ))\n",
    "    fig.add_trace(go.Scatter(\n",
    "        x=x[outlier_mask],\n",
    "        y=ts[outlier_mask],\n",
    "        mode='markers',\n",
    "        marker_symbol=\"star\",\n",
    "        marker_size=5,\n",
    "        name=\"Outliers\"\n",
    "    ))\n",
    "    fig.update_layout(\n",
    "        title_text=f\"Outliers using {method}: # of Outliers: {outlier_mask.sum()} | % of Outliers: {outlier_mask.sum()/len(ts)*100:.2f}%\",\n",
    "        # legend=dict(\n",
    "        #     yanchor=\"top\",\n",
    "        #     y=0.99,\n",
    "        #     xanchor=\"left\",\n",
    "        #     x=0.05\n",
    "        # ),\n",
    "        legend=dict(\n",
    "            font=dict(size=font_size),\n",
    "            orientation=\"h\",\n",
    "            yanchor=\"bottom\",\n",
    "            y=0.98,\n",
    "            xanchor=\"right\",\n",
    "            x=1,\n",
    "        ),\n",
    "        yaxis=dict(\n",
    "            titlefont=dict(size=font_size),\n",
    "            tickfont=dict(size=font_size),\n",
    "        ),\n",
    "        xaxis=dict(\n",
    "            titlefont=dict(size=font_size),\n",
    "            tickfont=dict(size=font_size),\n",
    "        )\n",
    "    )\n",
    "    return fig"
   ]
  },
  {
   "cell_type": "code",
   "execution_count": null,
   "id": "a7e3efab-e647-4a34-9b43-0662f27d3ace",
   "metadata": {},
   "outputs": [],
   "source": [
    "from src.decomposition.seasonal import MultiSeasonalDecomposition, STL\n",
    "\n",
    "from src.outliers.outlier_detection import detect_outlier_iqr,detect_outlier_sd, generalized_esd, seasonal_esd, detect_outlier_isolation_forest"
   ]
  },
  {
   "cell_type": "code",
   "execution_count": null,
   "id": "d653fdf0-f26f-4407-8166-a245cf8458a5",
   "metadata": {},
   "outputs": [],
   "source": [
    "res_df = pd.DataFrame(columns=[\"# of Outliers\", \"% of Outliers\"])"
   ]
  },
  {
   "cell_type": "markdown",
   "id": "32a1e2b5-f0dd-4d74-8290-55814d249fe4",
   "metadata": {},
   "source": [
    "### Standard Deviation"
   ]
  },
  {
   "cell_type": "code",
   "execution_count": null,
   "id": "be01b3da-4518-4255-967a-4e26a9632c6b",
   "metadata": {},
   "outputs": [],
   "source": [
    "def detect_outlier_sd(ts, sd_multiple=2):\n",
    "    mean = ts.mean()\n",
    "    std = ts.std()\n",
    "    higher_bound = mean + sd_multiple*std\n",
    "    lower_bound = mean - sd_multiple*std\n",
    "    outlier_mask = (ts>higher_bound) | (ts<lower_bound)\n",
    "    return outlier_mask"
   ]
  },
  {
   "cell_type": "code",
   "execution_count": null,
   "id": "93988fe7-1395-4f62-961d-51d3438e42b3",
   "metadata": {},
   "outputs": [],
   "source": [
    "#Detecting Outliers with 3 SD window\n",
    "outlier_mask = detect_outlier_sd(ts, sd_multiple=3)\n",
    "res_df.loc[\"3SD\", \"# of Outliers\"] = outlier_mask.sum()\n",
    "res_df.loc[\"3SD\", \"% of Outliers\"] = outlier_mask.sum()/len(ts)*100\n",
    "print(f\"# of Outliers: {outlier_mask.sum()} | % of Outliers: {outlier_mask.sum()/len(ts)*100:.2f}%\")"
   ]
  },
  {
   "cell_type": "code",
   "execution_count": null,
   "id": "efa14c5d-5e11-4e1d-a5ed-75068952ec4c",
   "metadata": {},
   "outputs": [],
   "source": [
    "fig = plot_outliers(ts_df.index, ts, outlier_mask, method=\"Standard Deviation\")\n",
    "format_plot(fig, xlabel=\"Time\", ylabel=\"Energy Consumption\")\n",
    "fig.write_image(\"imgs/chapter_3/outliers_std.png\")\n",
    "fig.show()"
   ]
  },
  {
   "cell_type": "code",
   "execution_count": null,
   "id": "89921225-83b0-4257-a3ec-f9ed057c4aeb",
   "metadata": {},
   "outputs": [],
   "source": [
    "stl = MultiSeasonalDecomposition(seasonal_model=\"fourier\",seasonality_periods=[\"day_of_year\", \"day_of_week\", \"hour\"], model = \"additive\", n_fourier_terms=10)\n",
    "res = stl.fit(pd.Series(ts, index=ts_df.index))"
   ]
  },
  {
   "cell_type": "code",
   "execution_count": null,
   "id": "a119f1a9-04af-40be-9a7e-e7c33696dee2",
   "metadata": {},
   "outputs": [],
   "source": [
    "#Detecting Outliers with 2 SD window\n",
    "outlier_mask = detect_outlier_sd(res.resid, 3)\n",
    "res_df.loc[\"2SD on Residuals\", \"# of Outliers\"] = outlier_mask.sum()\n",
    "res_df.loc[\"2SD on Residuals\", \"% of Outliers\"] = outlier_mask.sum()/len(ts)*100\n",
    "print(f\"# of Outliers: {outlier_mask.sum()} | % of Outliers: {outlier_mask.sum()/len(ts)*100:.2f}%\")"
   ]
  },
  {
   "cell_type": "code",
   "execution_count": null,
   "id": "091bc96e-1688-4abc-9ad6-0b33dc2dc85b",
   "metadata": {},
   "outputs": [],
   "source": [
    "fig = plot_outliers(ts_df.index, ts, outlier_mask, method=\"Seasonal Standard Deviation\")\n",
    "format_plot(fig, xlabel=\"Time\", ylabel=\"Energy Consumption\")\n",
    "fig.write_image(\"imgs/chapter_3/outliers_std_seasonal.png\")\n",
    "fig.show()"
   ]
  },
  {
   "cell_type": "markdown",
   "id": "684b9a93-21cc-4e71-ae3d-cf472c2d9378",
   "metadata": {},
   "source": [
    "### IQR"
   ]
  },
  {
   "cell_type": "code",
   "execution_count": null,
   "id": "5278329c-49be-4d01-8ae1-d72aae68affc",
   "metadata": {},
   "outputs": [],
   "source": [
    "def detect_outlier_iqr(ts, iqr_multiple=2):\n",
    "    q1, q2, q3 = np.quantile(ts, 0.25), np.quantile(ts, 0.5), np.quantile(ts, 0.75)\n",
    "    iqr = q3-q1\n",
    "    higher_bound = q3 + iqr_multiple*iqr\n",
    "    lower_bound = q1 - iqr_multiple*iqr\n",
    "    outlier_mask = (ts>higher_bound) | (ts<lower_bound)\n",
    "    return outlier_mask"
   ]
  },
  {
   "cell_type": "code",
   "execution_count": null,
   "id": "8d16efed-18da-496d-9535-12a5452baff5",
   "metadata": {},
   "outputs": [],
   "source": [
    "#Detecting Outliers with 4 IQR window\n",
    "outlier_mask = detect_outlier_iqr(ts, 4)\n",
    "res_df.loc[\"4IQR\", \"# of Outliers\"] = outlier_mask.sum()\n",
    "res_df.loc[\"4IQR\", \"% of Outliers\"] = outlier_mask.sum()/len(ts)*100\n",
    "print(f\"# of Outliers: {outlier_mask.sum()} | % of Outliers: {outlier_mask.sum()/len(ts)*100:.2f}%\")"
   ]
  },
  {
   "cell_type": "code",
   "execution_count": null,
   "id": "387c895c-31ca-44b9-8e1b-60e60eec9867",
   "metadata": {},
   "outputs": [],
   "source": [
    "fig = plot_outliers(ts_df.index, ts, outlier_mask, method=\"IQR\")\n",
    "format_plot(fig, xlabel=\"Time\", ylabel=\"Energy Consumption\")\n",
    "fig.write_image(\"imgs/chapter_3/outliers_iqr.png\")\n",
    "fig.show()"
   ]
  },
  {
   "cell_type": "code",
   "execution_count": null,
   "id": "8e322496-93d9-4f6f-9f78-828f0b708b96",
   "metadata": {},
   "outputs": [],
   "source": [
    "#Detecting Outliers with 4 IQR window on deseasonalized data\n",
    "outlier_mask = detect_outlier_iqr(res.resid, 4)\n",
    "res_df.loc[\"4SD on Residuals\", \"# of Outliers\"] = outlier_mask.sum()\n",
    "res_df.loc[\"4SD on Residuals\", \"% of Outliers\"] = outlier_mask.sum()/len(ts)*100\n",
    "print(f\"# of Outliers: {outlier_mask.sum()} | % of Outliers: {outlier_mask.sum()/len(ts)*100:.2f}%\")"
   ]
  },
  {
   "cell_type": "code",
   "execution_count": null,
   "id": "fb4311f5-ddbf-47fc-9608-22f942bea1c2",
   "metadata": {},
   "outputs": [],
   "source": [
    "fig = plot_outliers(ts_df.index, ts, outlier_mask, method=\"Seasonal IQR\")\n",
    "format_plot(fig, xlabel=\"Time\", ylabel=\"Energy Consumption\")\n",
    "fig.write_image(\"imgs/chapter_3/outliers_iqr_seasonal.png\")\n",
    "fig.show()"
   ]
  },
  {
   "cell_type": "markdown",
   "id": "3fc743b7-5010-47fa-a62d-53602dd02033",
   "metadata": {},
   "source": [
    "### Isolation Forest"
   ]
  },
  {
   "cell_type": "code",
   "execution_count": null,
   "id": "73e3587c-c60a-4a6a-85ab-3b5a07600cd5",
   "metadata": {},
   "outputs": [],
   "source": [
    "class sklearn.ensemble.IsolationForest(*,\n",
    "                                       n_estimators=100,\n",
    "                                       max_samples='auto',\n",
    "                                       contamination='auto',\n",
    "                                       max_features=1.0,\n",
    "                                       bootstrap=False,\n",
    "                                       n_jobs=None,\n",
    "                                       random_state=None,\n",
    "                                       verbose=0,\n",
    "                                       warm_start=False)"
   ]
  },
  {
   "cell_type": "code",
   "execution_count": null,
   "id": "88a65fa0-39be-42a7-b15a-1472d03d32c6",
   "metadata": {},
   "outputs": [],
   "source": [
    "outlier_mask = detect_outlier_isolation_forest(ts, outlier_fraction=0.01)\n",
    "res_df.loc[\"Isolation Forest\", \"# of Outliers\"] = outlier_mask.sum()\n",
    "res_df.loc[\"Isolation Forest\", \"% of Outliers\"] = outlier_mask.sum()/len(ts)*100\n",
    "print(f\"# of Outliers: {outlier_mask.sum()} | % of Outliers: {outlier_mask.sum()/len(ts)*100:.2f}%\")"
   ]
  },
  {
   "cell_type": "code",
   "execution_count": null,
   "id": "38e3dc23-89d2-4601-9fd9-837d8794f1b7",
   "metadata": {},
   "outputs": [],
   "source": [
    "fig = plot_outliers(ts_df.index, ts, outlier_mask, method=\"Isolation Forest\")\n",
    "format_plot(fig, xlabel=\"Time\", ylabel=\"Energy Consumption\")\n",
    "fig.write_image(\"imgs/chapter_3/outliers_isolation_forest.png\")\n",
    "fig.show()"
   ]
  },
  {
   "cell_type": "code",
   "execution_count": null,
   "id": "bc8484e0-b02e-4e6a-83d4-58d24441c79c",
   "metadata": {},
   "outputs": [],
   "source": [
    "outlier_mask = detect_outlier_isolation_forest(res.resid.values, outlier_fraction=0.01)\n",
    "res_df.loc[\"Isolation Forest on Residuals\", \"# of Outliers\"] = outlier_mask.sum()\n",
    "res_df.loc[\"Isolation Forest on Residuals\", \"% of Outliers\"] = outlier_mask.sum()/len(ts)*100\n",
    "print(f\"# of Outliers: {outlier_mask.sum()} | % of Outliers: {outlier_mask.sum()/len(ts)*100:.2f}%\")"
   ]
  },
  {
   "cell_type": "code",
   "execution_count": null,
   "id": "1680ea07-a1ce-4109-bea6-64fef3037831",
   "metadata": {},
   "outputs": [],
   "source": [
    "fig = plot_outliers(ts_df.index, ts, outlier_mask, method=\"Seasonal Isolation Forest\")\n",
    "format_plot(fig, xlabel=\"Time\", ylabel=\"Energy Consumption\")\n",
    "fig.write_image(\"imgs/chapter_3/outliers_isolation_forest_seasonal.png\")\n",
    "fig.show()"
   ]
  },
  {
   "cell_type": "markdown",
   "id": "6c75df82-e87e-4b8b-b588-2a86f62ab86a",
   "metadata": {},
   "source": [
    "### Extreme Studentized Deviate (ESD) and Seasonal Extreme Studentized Deviate (S-ESD)"
   ]
  },
  {
   "cell_type": "code",
   "execution_count": null,
   "id": "9d36fa0a-575b-4921-b611-d34e840e0110",
   "metadata": {},
   "outputs": [],
   "source": [
    "outlier_mask = generalized_esd(ts, max_anomalies=800, alpha=0.05, hybrid=False)\n",
    "res_df.loc[\"ESD\", \"# of Outliers\"] = outlier_mask.sum()\n",
    "res_df.loc[\"ESD\", \"% of Outliers\"] = outlier_mask.sum()/len(ts)*100\n",
    "print(f\"# of Outliers: {outlier_mask.sum()} | % of Outliers: {outlier_mask.sum()/len(ts)*100:.2f}%\")"
   ]
  },
  {
   "cell_type": "code",
   "execution_count": null,
   "id": "90d99ee4-860a-467c-b2d3-811bd0102a8c",
   "metadata": {},
   "outputs": [],
   "source": [
    "fig = plot_outliers(ts_df.index, ts, outlier_mask, method=\"ESD\")\n",
    "format_plot(fig, xlabel=\"Time\", ylabel=\"Energy Consumption\")\n",
    "fig.write_image(\"imgs/chapter_3/outliers_esd.png\")\n",
    "fig.show()"
   ]
  },
  {
   "cell_type": "code",
   "execution_count": null,
   "id": "f00e6e97-1437-4426-9088-c3ec72d3368f",
   "metadata": {},
   "outputs": [],
   "source": [
    "stl = MultiSeasonalDecomposition(seasonal_model=\"fourier\",seasonality_periods=[\"day_of_year\", \"day_of_week\", \"hour\"], model = \"additive\", n_fourier_terms=10)\n",
    "outlier_mask = seasonal_esd(pd.Series(ts, index=ts_df.index), stl, max_anomalies=800, alpha=0.05, hybrid=False)\n",
    "res_df.loc[\"S-ESD\", \"# of Outliers\"] = outlier_mask.sum()\n",
    "res_df.loc[\"S-ESD\", \"% of Outliers\"] = outlier_mask.sum()/len(ts)*100\n",
    "print(f\"# of Outliers: {outlier_mask.sum()} | % of Outliers: {outlier_mask.sum()/len(ts)*100:.2f}%\")"
   ]
  },
  {
   "cell_type": "code",
   "execution_count": null,
   "id": "95a0e575-5512-4021-8c13-331c81ac86aa",
   "metadata": {},
   "outputs": [],
   "source": [
    "fig = plot_outliers(ts_df.index, ts, outlier_mask, method=\"S-ESD\")\n",
    "format_plot(fig, xlabel=\"Time\", ylabel=\"Energy Consumption\")\n",
    "fig.write_image(\"imgs/chapter_3/outliers_s-esd.png\")\n",
    "fig.show()"
   ]
  },
  {
   "cell_type": "markdown",
   "id": "85be9969-f996-4a2d-8a96-f757919cb6a1",
   "metadata": {},
   "source": [
    "### Summary"
   ]
  },
  {
   "cell_type": "code",
   "execution_count": null,
   "id": "bd0a87cf-8b66-427e-8619-2485d0471c53",
   "metadata": {},
   "outputs": [],
   "source": [
    "res_df.style.format({\"% of Outliers\": \"{:.2f}%\"})"
   ]
  },
  {
   "cell_type": "code",
   "execution_count": null,
   "id": "373949d1-2f7a-4aa6-ba97-4bd6458b3d4a",
   "metadata": {},
   "outputs": [],
   "source": []
  },
  {
   "cell_type": "code",
   "execution_count": null,
   "id": "d84ec64f-a8ca-465f-8da0-6f6b14ebb8be",
   "metadata": {},
   "outputs": [],
   "source": []
  }
 ],
 "metadata": {
  "kernelspec": {
   "display_name": "Python 3 (ipykernel)",
   "language": "python",
   "name": "python3"
  },
  "language_info": {
   "codemirror_mode": {
    "name": "ipython",
    "version": 3
   },
   "file_extension": ".py",
   "mimetype": "text/x-python",
   "name": "python",
   "nbconvert_exporter": "python",
   "pygments_lexer": "ipython3",
   "version": "3.10.18"
  }
 },
 "nbformat": 4,
 "nbformat_minor": 5
}
