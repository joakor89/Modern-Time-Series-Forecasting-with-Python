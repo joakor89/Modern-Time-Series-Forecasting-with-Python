{
 "cells": [
  {
   "cell_type": "markdown",
   "id": "c5d39594-c47d-45e1-89a1-42017569f16f",
   "metadata": {},
   "source": [
    "# Tabular Regression\n",
    "\n",
    "### Loading Libraries"
   ]
  },
  {
   "cell_type": "code",
   "execution_count": 2,
   "id": "e7846588-3a70-4232-a42c-20b3027284dc",
   "metadata": {},
   "outputs": [
    {
     "name": "stdout",
     "output_type": "stream",
     "text": [
      "/Users/joaquinromero/Desktop\n"
     ]
    }
   ],
   "source": [
    "%cd ../.."
   ]
  },
  {
   "cell_type": "code",
   "execution_count": 3,
   "id": "f790be6e-87f4-43ee-b56c-cf959c190efc",
   "metadata": {},
   "outputs": [],
   "source": [
    "# Numerical Computing\n",
    "import numpy as np\n",
    "\n",
    "# Data Manipulation\n",
    "import pandas as pd\n",
    "\n",
    "# OS & Time\n",
    "import os\n",
    "import time\n",
    "import shutil\n",
    "\n",
    "# Data Visualization\n",
    "import plotly.io as pio\n",
    "import plotly.express as px\n",
    "import matplotlib.pyplot as plt\n",
    "import plotly.graph_objects as go\n",
    "\n",
    "# Warnings & Path\n",
    "import joblib\n",
    "import warnings\n",
    "from pathlib import Path\n",
    "\n",
    "import humanize\n",
    "\n",
    "# Scikit-Learn\n",
    "from sklearn.preprocessing import StandardScaler\n",
    "\n",
    "# Notebook Optimizer\n",
    "from tqdm.autonotebook import tqdm\n",
    "\n",
    "# IPython & Itertools\n",
    "from itertools import cycle\n",
    "from IPython.display import display, HTML"
   ]
  },
  {
   "cell_type": "code",
   "execution_count": null,
   "id": "9abb32c2-c7c8-4912-8d1b-80ed75d41561",
   "metadata": {},
   "outputs": [],
   "source": [
    "# Custom Libraries\n",
    "from src.utils import ts_utils_updated\n",
    "from src.forecasting.ml_forecasting import calculate_metrics\n",
    "from src.utils import plotting_utils\n",
    "from src.utils.general import LogTime\n",
    "from src.utils.ts_utils import metrics_adapter, forecast_bias, mae, mase, mse"
   ]
  },
  {
   "cell_type": "code",
   "execution_count": null,
   "id": "408da49f-e59d-4988-a171-4f7c7c4fe672",
   "metadata": {},
   "outputs": [],
   "source": [
    "from src.forecasting.ml_forecasting import (\n",
    "    FeatureConfig,\n",
    "    MissingValueConfig,\n",
    "    MLForecast,\n",
    "    ModelConfig,\n",
    "    calculate_metrics,\n",
    ")"
   ]
  },
  {
   "cell_type": "code",
   "execution_count": null,
   "id": "40f35b0c-9ec1-41bb-aedf-a569e9e6a5be",
   "metadata": {},
   "outputs": [],
   "source": [
    "# %load_ext autoreload\n",
    "\n",
    "# %autoreload 2"
   ]
  },
  {
   "cell_type": "code",
   "execution_count": null,
   "id": "9fc6c8df-61b5-497b-a64f-5d8ca86043be",
   "metadata": {},
   "outputs": [],
   "source": [
    "tqdm.pandas()\n",
    "\n",
    "np.random.seed(42)\n",
    "\n",
    "pio.templates.default = \"plotly_white\""
   ]
  },
  {
   "cell_type": "code",
   "execution_count": null,
   "id": "f30b7911-9633-475e-8145-0dbe7019dc39",
   "metadata": {},
   "outputs": [],
   "source": [
    "os.makedirs(\"imgs/chapter_13\", exist_ok=True)\n",
    "\n",
    "preprocessed = Path.home() / \"Desktop\" / \"data\" / \"london_smart_meters\" / \"preprocessed\"\n",
    "\n",
    "output = Path.home() / \"Desktop\" / \"data\" / \"london_smart_meters\" / \"output\""
   ]
  },
  {
   "cell_type": "markdown",
   "id": "22a8a55d-df32-4f82-bd99-67255c2205cd",
   "metadata": {},
   "source": [
    "### Utility Functions"
   ]
  },
  {
   "cell_type": "code",
   "execution_count": null,
   "id": "36192fc7-df41-4d1d-b2d2-b60833f992bb",
   "metadata": {},
   "outputs": [],
   "source": [
    "def format_plot(fig, legends=None, xlabel=\"Time\", ylabel=\"Value\", title=\"\", font_size=15):\n",
    "    if legends:\n",
    "        names = cycle(legends)\n",
    "        fig.for_each_trace(lambda t: t.update(name=next(names)))\n",
    "    fig.update_layout(\n",
    "        autosize=False,\n",
    "        width=900,\n",
    "        height=500,\n",
    "        title_text=title,\n",
    "        title={\"x\": 0.5, \"xanchor\": \"center\", \"yanchor\": \"top\"},\n",
    "        titlefont={\"size\": 20},\n",
    "        legend_title=None,\n",
    "        legend=dict(\n",
    "            font=dict(size=font_size),\n",
    "            orientation=\"h\",\n",
    "            yanchor=\"bottom\",\n",
    "            y=0.98,\n",
    "            xanchor=\"right\",\n",
    "            x=1,\n",
    "        ),\n",
    "        yaxis=dict(\n",
    "            title_text=ylabel,\n",
    "            titlefont=dict(size=font_size),\n",
    "            tickfont=dict(size=font_size),\n",
    "        ),\n",
    "        xaxis=dict(\n",
    "            title_text=xlabel,\n",
    "            titlefont=dict(size=font_size),\n",
    "            tickfont=dict(size=font_size),\n",
    "        )\n",
    "    )\n",
    "    return fig"
   ]
  },
  {
   "cell_type": "code",
   "execution_count": null,
   "id": "19f92b83-8bb7-451f-940d-a8ef63ce6649",
   "metadata": {},
   "outputs": [],
   "source": [
    "def evaluate_forecast(y_pred, test_target, train_target, model_name):\n",
    "    metric_l = []\n",
    "    for _id in tqdm(test_target.index.get_level_values(0).remove_unused_categories().categories, desc=\"Calculating metrics...\"):\n",
    "        target = test_target.xs(_id)\n",
    "        _y_pred = y_pred.xs(_id)\n",
    "        history = train_target.xs(_id)\n",
    "        metric_l.append(\n",
    "            calculate_metrics(target, _y_pred, name=model_name, y_train=history)\n",
    "        )\n",
    "    eval_metrics_df = pd.DataFrame(metric_l)\n",
    "    agg_metrics = {\n",
    "            \"Algorithm\": model_name,\n",
    "            \"MAE\": ts_utils.mae(\n",
    "                test_target, y_pred\n",
    "            ),\n",
    "            \"MSE\": ts_utils.mse(\n",
    "                test_target, y_pred\n",
    "            ),\n",
    "            \"meanMASE\": eval_metrics_df.loc[:, \"MASE\"].mean(),\n",
    "            \"Forecast Bias\": ts_utils.forecast_bias_aggregate(\n",
    "                test_target, y_pred\n",
    "            )\n",
    "    }\n",
    "    return agg_metrics, eval_metrics_df"
   ]
  },
  {
   "cell_type": "code",
   "execution_count": null,
   "id": "0b8ac707-78b3-4c3c-8acf-c60e10edc738",
   "metadata": {},
   "outputs": [],
   "source": [
    "def plot_forecast(pred_df, forecast_columns, forecast_display_names=None):\n",
    "    if forecast_display_names is None:\n",
    "        forecast_display_names = forecast_columns\n",
    "    else:\n",
    "        assert len(forecast_columns) == len(forecast_display_names)\n",
    "    mask = ~pred_df[forecast_columns[0]].isnull()\n",
    "    colors = [\n",
    "        \"rgba(\" + \",\".join([str(c) for c in plotting_utils.hex_to_rgb(c)]) + \",<alpha>)\"\n",
    "        for c in px.colors.qualitative.Plotly\n",
    "    ]\n",
    "    act_color = colors[0]\n",
    "    colors = cycle(colors[1:])\n",
    "    fig = go.Figure()\n",
    "    fig.add_trace(\n",
    "        go.Scatter(\n",
    "            x=pred_df[mask].index,\n",
    "            y=pred_df[mask].energy_consumption,\n",
    "            mode=\"lines\",\n",
    "            line=dict(color=act_color.replace(\"<alpha>\", \"0.9\")),\n",
    "            name=\"Actual Consumption\",\n",
    "        )\n",
    "    )\n",
    "    for col, display_col in zip(forecast_columns, forecast_display_names):\n",
    "        fig.add_trace(\n",
    "            go.Scatter(\n",
    "                x=pred_df[mask].index,\n",
    "                y=pred_df.loc[mask, col],\n",
    "                mode=\"lines\",\n",
    "                line=dict(dash=\"dot\", color=next(colors).replace(\"<alpha>\", \"1\")),\n",
    "                name=display_col,\n",
    "            )\n",
    "        )\n",
    "    return fig\n",
    "\n",
    "def highlight_abs_min(s, props=''):\n",
    "    return np.where(s == np.nanmin(np.abs(s.values)), props, '')"
   ]
  },
  {
   "cell_type": "markdown",
   "id": "9e6bcf77-42ff-4e8c-a623-467ada06c08a",
   "metadata": {},
   "source": [
    "### Reading The Data"
   ]
  },
  {
   "cell_type": "code",
   "execution_count": null,
   "id": "c60ad2e1-5c2f-45c4-ad51-723d46b74f04",
   "metadata": {},
   "outputs": [],
   "source": [
    "try:\n",
    "    #Reading the missing value imputed and train test split data\n",
    "    train_df = pd.read_parquet(preprocessed/\"selected_blocks_train_missing_imputed_feature_engg.parquet\")\n",
    "    # Read in the Validation dataset as test_df so that we predict on it\n",
    "    test_df = pd.read_parquet(preprocessed/\"selected_blocks_val_missing_imputed_feature_engg.parquet\")\n",
    "    # test_df = pd.read_parquet(preprocessed/\"block_0-7_test_missing_imputed_feature_engg.parquet\")\n",
    "except FileNotFoundError:\n",
    "    display(HTML(\"\"\"\n",
    "    <div class=\"alert alert-block alert-warning\">\n",
    "    <b>Warning!</b> File not found. Please make sure you have run 01-Feature Engineering.ipynb in Chapter06\n",
    "    </div>\n",
    "    \"\"\"))"
   ]
  },
  {
   "cell_type": "code",
   "execution_count": null,
   "id": "ed1abccc-e00b-417d-8f6c-2157d3018d7f",
   "metadata": {},
   "outputs": [],
   "source": [
    "uniq_blocks = train_df.file.unique().tolist()\n",
    "sel_blocks = sorted(uniq_blocks, key=lambda x: int(x.replace(\"block_\",\"\")))[:len(uniq_blocks)//2]\n",
    "train_df = train_df.loc[train_df.file.isin(sel_blocks)]\n",
    "test_df = test_df.loc[test_df.file.isin(sel_blocks)]\n",
    "sel_lclids = train_df.LCLid.unique().tolist()"
   ]
  },
  {
   "cell_type": "code",
   "execution_count": null,
   "id": "dae25b07-b629-4830-ab6c-0861df7ddc45",
   "metadata": {},
   "outputs": [],
   "source": [
    "target = \"energy_consumption\"\n",
    "index_cols = [\"LCLid\", \"timestamp\"]"
   ]
  },
  {
   "cell_type": "code",
   "execution_count": null,
   "id": "b9578658-1f41-4948-b283-85773cad9081",
   "metadata": {},
   "outputs": [],
   "source": [
    "# Setting the indices\n",
    "train_df.set_index(index_cols, inplace=True, drop=False)\n",
    "test_df.set_index(index_cols, inplace=True, drop=False)\n",
    "\n",
    "# Creating a pred_df with actuals\n",
    "pred_df = pd.concat([train_df[[target]], test_df[[target]]])"
   ]
  },
  {
   "cell_type": "markdown",
   "id": "1efaeabc-207d-4c6e-9f8c-2a57014fd45d",
   "metadata": {},
   "source": [
    "#### Loading The GFM Forecast and Calculating The Aggregate Metrics on Selected `LCLids`"
   ]
  },
  {
   "cell_type": "code",
   "execution_count": null,
   "id": "5c20de2f-4836-4a29-88de-da4485528d66",
   "metadata": {},
   "outputs": [],
   "source": [
    "try:\n",
    "    global_ml_fc_df = pd.read_pickle(output/\"gfm_predictions_val_df.pkl\")\n",
    "    global_ml_fc_df = global_ml_fc_df.loc[global_ml_fc_df.index.get_level_values(0).isin(sel_lclids)]\n",
    "\n",
    "    baseline_agg_metrics, baseline_metrics_df = evaluate_forecast(y_pred=global_ml_fc_df[\"GFM+Meta  (NativeLGBM)\"], \n",
    "                                                     test_target = global_ml_fc_df[\"energy_consumption\"], train_target = train_df[\"energy_consumption\"], model_name=\"GFM+Meta  (NativeLGBM)\")\n",
    "except FileNotFoundError:\n",
    "    display(HTML(\"\"\"\n",
    "    <div class=\"alert alert-block alert-warning\">\n",
    "    <b>Warning!</b> File not found. Please make sure you have run 01-Global Forecasting Models-ML.ipynb in Chapter10\n",
    "    </div>\n",
    "    \"\"\"))"
   ]
  },
  {
   "cell_type": "markdown",
   "id": "75eb9ce7-9842-4396-9eac-454593d5d9c3",
   "metadata": {},
   "source": [
    "## Missing Value Handling\n",
    "\n",
    "### Null Check"
   ]
  },
  {
   "cell_type": "code",
   "execution_count": null,
   "id": "ed4c725f-edb1-44de-a314-cde96f8664d8",
   "metadata": {},
   "outputs": [],
   "source": [
    "nc = train_df.isnull().sum()\n",
    "nc[nc>0]"
   ]
  },
  {
   "cell_type": "code",
   "execution_count": null,
   "id": "e034d9ca-4549-47f9-a48f-1d52904414ca",
   "metadata": {},
   "outputs": [],
   "source": [
    "missing_value_config = MissingValueConfig(\n",
    "    bfill_columns=[\n",
    "        \"energy_consumption_lag_1\",\n",
    "        \"energy_consumption_lag_2\",\n",
    "        \"energy_consumption_lag_3\",\n",
    "        \"energy_consumption_lag_4\",\n",
    "        \"energy_consumption_lag_5\",\n",
    "        \"energy_consumption_lag_46\",\n",
    "        \"energy_consumption_lag_47\",\n",
    "        \"energy_consumption_lag_48\",\n",
    "        \"energy_consumption_lag_49\",\n",
    "        \"energy_consumption_lag_50\",\n",
    "        \"energy_consumption_lag_334\",\n",
    "        \"energy_consumption_lag_335\",\n",
    "        \"energy_consumption_lag_336\",\n",
    "        \"energy_consumption_lag_337\",\n",
    "        \"energy_consumption_lag_338\",\n",
    "        \"energy_consumption_rolling_3_mean\",\n",
    "        \"energy_consumption_rolling_3_std\",\n",
    "        \"energy_consumption_rolling_6_mean\",\n",
    "        \"energy_consumption_rolling_6_std\",\n",
    "        \"energy_consumption_rolling_12_mean\",\n",
    "        \"energy_consumption_rolling_12_std\",\n",
    "        \"energy_consumption_rolling_48_mean\",\n",
    "        \"energy_consumption_rolling_48_std\",\n",
    "        \"energy_consumption_48_seasonal_rolling_3_mean\",\n",
    "        \"energy_consumption_48_seasonal_rolling_3_std\",\n",
    "        \"energy_consumption_336_seasonal_rolling_3_mean\",\n",
    "        \"energy_consumption_336_seasonal_rolling_3_std\",\n",
    "        \"energy_consumption_ewma__span_2880\",\n",
    "        \"energy_consumption_ewma__span_336\",\n",
    "        \"energy_consumption_ewma__span_48\",\n",
    "    ],\n",
    "    ffill_columns=[],\n",
    "    zero_fill_columns=[],\n",
    ")"
   ]
  },
  {
   "cell_type": "code",
   "execution_count": null,
   "id": "8a2f957e-0441-44b9-bd2b-06e34a076dea",
   "metadata": {},
   "outputs": [],
   "source": [
    "train_df = missing_value_config.impute_missing_values(train_df)\n",
    "test_df = missing_value_config.impute_missing_values(test_df)"
   ]
  },
  {
   "cell_type": "code",
   "execution_count": null,
   "id": "f318eb89-ae5b-42ee-9189-fd16c52f6d58",
   "metadata": {},
   "outputs": [],
   "source": [
    "nc = train_df.isnull().sum()\n",
    "nc[nc>0]"
   ]
  },
  {
   "cell_type": "markdown",
   "id": "2b963155-3b7f-4a91-b044-a973ce9d0b36",
   "metadata": {},
   "source": [
    "## Running DL Global Models"
   ]
  },
  {
   "cell_type": "code",
   "execution_count": null,
   "id": "c10e7e93-99d5-4590-bbe1-d6299fb2b51d",
   "metadata": {},
   "outputs": [],
   "source": [
    "metric_record = [baseline_agg_metrics]"
   ]
  },
  {
   "cell_type": "markdown",
   "id": "ecfc8d70-e8f2-442e-8f2e-7c7aa8b21e63",
   "metadata": {},
   "source": [
    "### PyTorch Tabular"
   ]
  },
  {
   "cell_type": "code",
   "execution_count": null,
   "id": "9dac0ba2-6729-45eb-945e-aa4715653229",
   "metadata": {},
   "outputs": [],
   "source": [
    "from pytorch_tabular import TabularModel\n",
    "from pytorch_tabular.models import FTTransformerConfig\n",
    "from pytorch_tabular.config import DataConfig, OptimizerConfig, TrainerConfig, ExperimentConfig\n",
    "from pytorch_tabular.models.common.heads import LinearHeadConfig"
   ]
  },
  {
   "cell_type": "code",
   "execution_count": null,
   "id": "9944a690-b9af-4f61-a3fd-24515a4b9372",
   "metadata": {},
   "outputs": [],
   "source": [
    "data_config = DataConfig(\n",
    "    target=[target], #target should always be a list. Multi-targets are only supported for regression. Multi-Task Classification is not implemented\n",
    "    continuous_cols=[\n",
    "        \"visibility\",\n",
    "        \"windBearing\",\n",
    "        \"temperature\",\n",
    "        \"dewPoint\",\n",
    "        \"pressure\",\n",
    "        \"apparentTemperature\",\n",
    "        \"windSpeed\",\n",
    "        \"humidity\",\n",
    "        \"energy_consumption_lag_1\",\n",
    "        \"energy_consumption_lag_2\",\n",
    "        \"energy_consumption_lag_3\",\n",
    "        \"energy_consumption_lag_4\",\n",
    "        \"energy_consumption_lag_5\",\n",
    "        \"energy_consumption_lag_46\",\n",
    "        \"energy_consumption_lag_47\",\n",
    "        \"energy_consumption_lag_48\",\n",
    "        \"energy_consumption_lag_49\",\n",
    "        \"energy_consumption_lag_50\",\n",
    "        \"energy_consumption_lag_334\",\n",
    "        \"energy_consumption_lag_335\",\n",
    "        \"energy_consumption_lag_336\",\n",
    "        \"energy_consumption_lag_337\",\n",
    "        \"energy_consumption_lag_338\",\n",
    "        \"energy_consumption_rolling_3_mean\",\n",
    "        \"energy_consumption_rolling_3_std\",\n",
    "        \"energy_consumption_rolling_6_mean\",\n",
    "        \"energy_consumption_rolling_6_std\",\n",
    "        \"energy_consumption_rolling_12_mean\",\n",
    "        \"energy_consumption_rolling_12_std\",\n",
    "        \"energy_consumption_rolling_48_mean\",\n",
    "        \"energy_consumption_rolling_48_std\",\n",
    "        \"energy_consumption_48_seasonal_rolling_3_mean\",\n",
    "        \"energy_consumption_48_seasonal_rolling_3_std\",\n",
    "        \"energy_consumption_336_seasonal_rolling_3_mean\",\n",
    "        \"energy_consumption_336_seasonal_rolling_3_std\",\n",
    "        \"energy_consumption_ewma_span_2880\",\n",
    "        \"energy_consumption_ewma_span_336\",\n",
    "        \"energy_consumption_ewma_span_48\",\n",
    "        \"timestamp_Elapsed\",\n",
    "        \"timestamp_Month_sin_1\",\n",
    "        \"timestamp_Month_sin_2\",\n",
    "        \"timestamp_Month_sin_3\",\n",
    "        \"timestamp_Month_sin_4\",\n",
    "        \"timestamp_Month_sin_5\",\n",
    "        \"timestamp_Month_cos_1\",\n",
    "        \"timestamp_Month_cos_2\",\n",
    "        \"timestamp_Month_cos_3\",\n",
    "        \"timestamp_Month_cos_4\",\n",
    "        \"timestamp_Month_cos_5\",\n",
    "        \"timestamp_Hour_sin_1\",\n",
    "        \"timestamp_Hour_sin_2\",\n",
    "        \"timestamp_Hour_sin_3\",\n",
    "        \"timestamp_Hour_sin_4\",\n",
    "        \"timestamp_Hour_sin_5\",\n",
    "        \"timestamp_Hour_cos_1\",\n",
    "        \"timestamp_Hour_cos_2\",\n",
    "        \"timestamp_Hour_cos_3\",\n",
    "        \"timestamp_Hour_cos_4\",\n",
    "        \"timestamp_Hour_cos_5\",\n",
    "        \"timestamp_Minute_sin_1\",\n",
    "        \"timestamp_Minute_sin_2\",\n",
    "        \"timestamp_Minute_sin_3\",\n",
    "        \"timestamp_Minute_sin_4\",\n",
    "        \"timestamp_Minute_sin_5\",\n",
    "        \"timestamp_Minute_cos_1\",\n",
    "        \"timestamp_Minute_cos_2\",\n",
    "        \"timestamp_Minute_cos_3\",\n",
    "        \"timestamp_Minute_cos_4\",\n",
    "        \"timestamp_Minute_cos_5\",\n",
    "        \"timestamp_Is_quarter_end\",\n",
    "        \"timestamp_Is_quarter_start\",\n",
    "        \"timestamp_Is_year_end\",\n",
    "        \"timestamp_Is_year_start\",\n",
    "        \"timestamp_Is_month_start\",\n",
    "    ],\n",
    "    categorical_cols=[\n",
    "        \"holidays\",\n",
    "        \"precipType\",\n",
    "        \"icon\",\n",
    "        \"summary\",\n",
    "        \"timestamp_Month\",\n",
    "        \"timestamp_Quarter\",\n",
    "        \"timestamp_WeekDay\",\n",
    "        \"timestamp_Dayofweek\",\n",
    "        \"timestamp_Dayofyear\",\n",
    "        \"timestamp_Hour\",\n",
    "        \"timestamp_Minute\",\n",
    "        \"stdorToU\", \n",
    "        \"Acorn\", \n",
    "        \"Acorn_grouped\", \n",
    "        \"LCLid\"\n",
    "    ],\n",
    "    normalize_continuous_features=True\n",
    ")\n",
    "trainer_config = TrainerConfig(\n",
    "    auto_lr_find=True, # Runs the LRFinder to automatically derive a learning rate\n",
    "    batch_size=1024,\n",
    "    max_epochs=1000,\n",
    "    accelerator=\"auto\"\n",
    ")\n",
    "optimizer_config = OptimizerConfig()"
   ]
  },
  {
   "cell_type": "code",
   "execution_count": null,
   "id": "26d9ce0c-dadd-4f45-a575-4392624274e6",
   "metadata": {},
   "outputs": [],
   "source": [
    "# Making categorical columns as string because PyTorch Tabular currently doenst support categorical dtype\n",
    "train_df[data_config.categorical_cols] = train_df[data_config.categorical_cols].astype(str)\n",
    "test_df[data_config.categorical_cols] = test_df[data_config.categorical_cols].astype(str)"
   ]
  },
  {
   "cell_type": "markdown",
   "id": "d37dad44-2aab-4435-94d0-5a26be04529a",
   "metadata": {},
   "source": [
    "### FT Transformer Model"
   ]
  },
  {
   "cell_type": "code",
   "execution_count": null,
   "id": "4c5b4f0d-3997-41d3-bf7b-a4fc6207315c",
   "metadata": {},
   "outputs": [],
   "source": [
    "linear_head_config = LinearHeadConfig(\n",
    "    layers=\"32\",\n",
    "    activation=\"ReLU\"\n",
    ")\n",
    "model_config = FTTransformerConfig(\n",
    "    task=\"regression\",\n",
    "    num_attn_blocks=3,\n",
    "    num_heads=4,\n",
    "    transformer_head_dim=64,\n",
    "    attn_dropout=0.2,\n",
    "    ff_dropout=0.1,\n",
    "    learning_rate = 1e-3,\n",
    "    head_config=linear_head_config.__dict__,\n",
    "    metrics=[\"mean_squared_error\"]\n",
    ")\n",
    "tabular_model = TabularModel(\n",
    "    data_config=data_config,\n",
    "    model_config=model_config,\n",
    "    optimizer_config=optimizer_config,\n",
    "    trainer_config=trainer_config,\n",
    ")"
   ]
  },
  {
   "cell_type": "code",
   "execution_count": null,
   "id": "a40ecac2-7ef1-4f25-a212-734cfcabb819",
   "metadata": {},
   "outputs": [],
   "source": [
    "# tabular_model = TabularModel.load_from_checkpoint(\"notebooks/Chapter12/ft_transformer_global\")"
   ]
  },
  {
   "cell_type": "code",
   "execution_count": null,
   "id": "58a72a0c-bf04-435d-8df8-81e573de38e2",
   "metadata": {},
   "outputs": [],
   "source": [
    "tabular_model.fit(train=train_df)\n",
    "\n",
    "#Saving because you need not train the model again after restarting your kernel or machine etc. and can use the previous cell to load the saved model\n",
    "tabular_model.save_model(\"notebooks/Chapter12/ft_transformer_global\")\n",
    "\n",
    "# Deleting automatically saved checkpoints\n",
    "shutil.rmtree(\"saved_models\")"
   ]
  },
  {
   "cell_type": "code",
   "execution_count": null,
   "id": "c4ed7451-4c59-4cf0-a7c4-995aeafa61df",
   "metadata": {},
   "outputs": [],
   "source": [
    "forecast_df = tabular_model.predict(test_df, include_input_features=False)\n",
    "pred_df = pred_df.join(forecast_df[[\"energy_consumption_prediction\"]]).rename(\n",
    "    columns={\"energy_consumption_prediction\": model_config._model_name}\n",
    ")\n",
    "agg_metrics, eval_metrics_df = evaluate_forecast(\n",
    "    y_pred=forecast_df[f\"{target}_prediction\"],\n",
    "    test_target=test_df[\"energy_consumption\"],\n",
    "    train_target=train_df[\"energy_consumption\"],\n",
    "    model_name=model_config._model_name,\n",
    ")\n",
    "metric_record.append(agg_metrics)"
   ]
  },
  {
   "cell_type": "markdown",
   "id": "7266ca9c-3bcd-4ba6-8854-0d8a92aa51e3",
   "metadata": {},
   "source": [
    "## Evaluation of ML Forecast"
   ]
  },
  {
   "cell_type": "code",
   "execution_count": null,
   "id": "ac69c9ed-4803-435b-9b27-f783974d51b1",
   "metadata": {},
   "outputs": [],
   "source": [
    "agg_metrics_df = pd.DataFrame(metric_record)\n",
    "\n",
    "agg_metrics_df.style.format({\"MAE\": \"{:.4f}\", \n",
    "                          \"MSE\": \"{:.4f}\", \n",
    "                          \"meanMASE\": \"{:.4f}\", \n",
    "                          \"Forecast Bias\": \"{:.2f}%\"}).highlight_min(color='lightgreen', subset=[\"MAE\",\"MSE\",\"meanMASE\"]).apply(highlight_abs_min, props='color:black;background-color:lightgreen', axis=0, subset=['Forecast Bias'])\n"
   ]
  },
  {
   "cell_type": "code",
   "execution_count": null,
   "id": "b935ce16-b50f-401f-b850-2c827474ae1b",
   "metadata": {},
   "outputs": [],
   "source": [
    "metrics_df = pd.concat([eval_metrics_df,baseline_metrics_df])"
   ]
  },
  {
   "cell_type": "code",
   "execution_count": null,
   "id": "c5bba421-5892-435b-bbe2-971be5ec2db2",
   "metadata": {},
   "outputs": [],
   "source": [
    "fig = px.histogram(metrics_df, \n",
    "                   x=\"MASE\", \n",
    "                   color=\"Algorithm\",\n",
    "                   pattern_shape=\"Algorithm\", \n",
    "                   marginal=\"box\", \n",
    "                   nbins=500, \n",
    "                   barmode=\"overlay\",\n",
    "                   histnorm=\"probability density\")\n",
    "fig = format_plot(fig, xlabel=\"MASE\", ylabel=\"Probability Density\", title=\"Distribution of MASE in the dataset\")\n",
    "fig.update_layout(xaxis_range=[0,2])\n",
    "# fig.write_image(\"imgs/chapter_13/ft_mase_dist.png\")\n",
    "fig.show()"
   ]
  },
  {
   "cell_type": "code",
   "execution_count": null,
   "id": "a82a5062-58c1-4fc2-a6b2-c0feffda1f24",
   "metadata": {},
   "outputs": [],
   "source": [
    "fig = px.histogram(metrics_df, \n",
    "                   x=\"MAE\", \n",
    "                   color=\"Algorithm\",\n",
    "                   pattern_shape=\"Algorithm\", \n",
    "                   marginal=\"box\", \n",
    "                   nbins=100, \n",
    "                   barmode=\"overlay\",\n",
    "                   histnorm=\"probability density\")\n",
    "fig = format_plot(fig, xlabel=\"MAE\", ylabel=\"Probability Density\", title=\"Distribution of MAE in the dataset\")\n",
    "# fig.write_image(\"imgs/chapter_13/ft_mae_dist.png\")\n",
    "fig.update_layout(xaxis_range=[0,0.2])\n",
    "fig.show()"
   ]
  },
  {
   "cell_type": "code",
   "execution_count": null,
   "id": "1366b5ee-6019-4547-bcad-503d63aa054e",
   "metadata": {},
   "outputs": [],
   "source": [
    "fig = px.histogram(metrics_df, \n",
    "                   x=\"MSE\", \n",
    "                   color=\"Algorithm\",\n",
    "                   pattern_shape=\"Algorithm\", \n",
    "                   marginal=\"box\", \n",
    "                   nbins=500, \n",
    "                   barmode=\"overlay\",\n",
    "                   histnorm=\"probability density\")\n",
    "fig = format_plot(fig, xlabel=\"MSE\", ylabel=\"Probability Density\", title=\"Distribution of MSE in the dataset\")\n",
    "fig.update_layout(xaxis_range=[0,0.05])\n",
    "# fig.write_image(\"imgs/chapter_13/ft_mse_dist.png\")\n",
    "fig.show()"
   ]
  },
  {
   "cell_type": "code",
   "execution_count": null,
   "id": "6e921abe-670c-4651-b20f-8b4ca7a0914a",
   "metadata": {},
   "outputs": [],
   "source": [
    "fig = px.histogram(metrics_df, \n",
    "                   x=\"Forecast Bias\", \n",
    "                   color=\"Algorithm\",\n",
    "                   pattern_shape=\"Algorithm\", \n",
    "                   marginal=\"box\", \n",
    "                   nbins=250,\n",
    "                   barmode=\"overlay\",\n",
    "                   histnorm=\"probability density\")\n",
    "fig = format_plot(fig, xlabel=\"Forecast Bias\", ylabel=\"Probability Density\", title=\"Distribution of Forecast Bias in the dataset\")\n",
    "fig.update_layout(xaxis_range=[-15,10])\n",
    "# fig.write_image(\"imgs/chapter_13/ft_bias_dist.png\")\n",
    "fig.show()"
   ]
  },
  {
   "cell_type": "markdown",
   "id": "e558a1d2-136f-4221-b9cc-9bf33fbd4c6a",
   "metadata": {},
   "source": [
    "## Saving The Forecasts & Metrics"
   ]
  },
  {
   "cell_type": "code",
   "execution_count": null,
   "id": "a74ec0ce-6f34-4852-afac-b50d90a17b08",
   "metadata": {},
   "outputs": [],
   "source": [
    "os.makedirs(\"data/london_smart_meters/output\", exist_ok=True)\n",
    "\n",
    "output = Path(\"data/london_smart_meters/output\")"
   ]
  },
  {
   "cell_type": "code",
   "execution_count": null,
   "id": "61a5cf17-4605-454c-8d15-5313cfd1a434",
   "metadata": {},
   "outputs": [],
   "source": [
    "pred_df.to_pickle(output/\"ft_transformer_val_df.pkl\")\n",
    "\n",
    "metrics_df.to_pickle(output/\"ft_transformer_metrics_val_df.pkl\")\n",
    "\n",
    "agg_metrics_df.to_pickle(output/\"ft_transformer_aggregate_metrics_val.pkl\")"
   ]
  },
  {
   "cell_type": "code",
   "execution_count": null,
   "id": "2725d2a6-c104-465e-bbb6-4bb85fd9cb45",
   "metadata": {},
   "outputs": [],
   "source": []
  },
  {
   "cell_type": "code",
   "execution_count": null,
   "id": "366f1603-c87f-4ecb-8035-cb0401c1ee87",
   "metadata": {},
   "outputs": [],
   "source": []
  },
  {
   "cell_type": "code",
   "execution_count": null,
   "id": "11961f31-f2a1-471d-b18c-cbee4df6796d",
   "metadata": {},
   "outputs": [],
   "source": []
  },
  {
   "cell_type": "code",
   "execution_count": null,
   "id": "dcae900a-4db7-4a40-8f72-2583556449fe",
   "metadata": {},
   "outputs": [],
   "source": []
  },
  {
   "cell_type": "code",
   "execution_count": null,
   "id": "9941db38-815e-4f29-97c1-2fb27c73124d",
   "metadata": {},
   "outputs": [],
   "source": []
  },
  {
   "cell_type": "code",
   "execution_count": null,
   "id": "9648024e-7320-427e-bd18-767473e84d8f",
   "metadata": {},
   "outputs": [],
   "source": []
  },
  {
   "cell_type": "code",
   "execution_count": null,
   "id": "6c7cf248-ec70-4411-8af0-7284a9cc6b1a",
   "metadata": {},
   "outputs": [],
   "source": []
  },
  {
   "cell_type": "code",
   "execution_count": null,
   "id": "f77ab580-c9b9-44d9-9121-4b6b2d259adc",
   "metadata": {},
   "outputs": [],
   "source": []
  },
  {
   "cell_type": "code",
   "execution_count": null,
   "id": "80f824d9-5d5b-4125-887f-f39a24e01264",
   "metadata": {},
   "outputs": [],
   "source": []
  },
  {
   "cell_type": "code",
   "execution_count": null,
   "id": "e1c8a196-4cdd-45d7-bc84-449a05a0e0f9",
   "metadata": {},
   "outputs": [],
   "source": []
  },
  {
   "cell_type": "code",
   "execution_count": null,
   "id": "15350d60-009b-4801-8019-7cea67e518d2",
   "metadata": {},
   "outputs": [],
   "source": []
  },
  {
   "cell_type": "code",
   "execution_count": null,
   "id": "7d540f49-f3c2-4252-b733-af1e5095ab7d",
   "metadata": {},
   "outputs": [],
   "source": []
  },
  {
   "cell_type": "code",
   "execution_count": null,
   "id": "04351e78-12eb-4433-8d7c-d7be6baf2aa7",
   "metadata": {},
   "outputs": [],
   "source": []
  },
  {
   "cell_type": "code",
   "execution_count": null,
   "id": "e0d66a9c-3c1d-434e-9fcb-8e3b2f475933",
   "metadata": {},
   "outputs": [],
   "source": []
  },
  {
   "cell_type": "code",
   "execution_count": null,
   "id": "f6c2e998-ea27-449d-b32d-6d0814b9800c",
   "metadata": {},
   "outputs": [],
   "source": []
  },
  {
   "cell_type": "code",
   "execution_count": null,
   "id": "efaead31-4d46-4d8b-943c-ecb35b605dd2",
   "metadata": {},
   "outputs": [],
   "source": []
  },
  {
   "cell_type": "code",
   "execution_count": null,
   "id": "c6b43a8f-61d3-4699-b6c3-9091e0a5557c",
   "metadata": {},
   "outputs": [],
   "source": []
  },
  {
   "cell_type": "code",
   "execution_count": null,
   "id": "7d75bd44-03d9-4f73-a67c-d5030212a8b3",
   "metadata": {},
   "outputs": [],
   "source": []
  },
  {
   "cell_type": "code",
   "execution_count": null,
   "id": "859d8d4b-2b52-48a5-be08-541428f6f6d3",
   "metadata": {},
   "outputs": [],
   "source": []
  },
  {
   "cell_type": "code",
   "execution_count": null,
   "id": "90d74ba1-8f3e-4661-944b-aad392823098",
   "metadata": {},
   "outputs": [],
   "source": []
  },
  {
   "cell_type": "code",
   "execution_count": null,
   "id": "a4cbc230-5e28-4003-9ee3-76238a560723",
   "metadata": {},
   "outputs": [],
   "source": []
  },
  {
   "cell_type": "code",
   "execution_count": null,
   "id": "c8f87d3c-0446-4e03-b93d-69cf5f66faf6",
   "metadata": {},
   "outputs": [],
   "source": []
  },
  {
   "cell_type": "code",
   "execution_count": null,
   "id": "9aac28a6-2533-4ef7-8aac-ef0628adddb5",
   "metadata": {},
   "outputs": [],
   "source": []
  },
  {
   "cell_type": "code",
   "execution_count": null,
   "id": "37a5febf-d036-401c-a1e0-86382008f771",
   "metadata": {},
   "outputs": [],
   "source": []
  },
  {
   "cell_type": "code",
   "execution_count": null,
   "id": "24caa6a4-0dd5-4a4a-be4d-96eaef34d439",
   "metadata": {},
   "outputs": [],
   "source": []
  },
  {
   "cell_type": "code",
   "execution_count": null,
   "id": "350fd82b-a2c8-4e26-a13c-2e43eda53225",
   "metadata": {},
   "outputs": [],
   "source": []
  }
 ],
 "metadata": {
  "kernelspec": {
   "display_name": "Python (MTSP)",
   "language": "python",
   "name": "mtsp"
  },
  "language_info": {
   "codemirror_mode": {
    "name": "ipython",
    "version": 3
   },
   "file_extension": ".py",
   "mimetype": "text/x-python",
   "name": "python",
   "nbconvert_exporter": "python",
   "pygments_lexer": "ipython3",
   "version": "3.10.18"
  }
 },
 "nbformat": 4,
 "nbformat_minor": 5
}
