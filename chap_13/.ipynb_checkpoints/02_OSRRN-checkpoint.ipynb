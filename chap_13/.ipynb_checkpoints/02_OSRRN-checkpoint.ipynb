{
 "cells": [
  {
   "cell_type": "markdown",
   "id": "7dcd98ef-1fbb-4407-9915-4e1a30895912",
   "metadata": {},
   "source": [
    "# One Step RNN\n",
    "\n",
    "### Loading Libraries"
   ]
  },
  {
   "cell_type": "code",
   "execution_count": 1,
   "id": "f59c0206-e33c-4e81-957c-572f4386f0ff",
   "metadata": {},
   "outputs": [
    {
     "name": "stdout",
     "output_type": "stream",
     "text": [
      "/Users/joaquinromero/Desktop\n"
     ]
    }
   ],
   "source": [
    "%cd ../.."
   ]
  },
  {
   "cell_type": "code",
   "execution_count": null,
   "id": "4460ac65-186a-4811-afb2-c6f825fc66bf",
   "metadata": {},
   "outputs": [],
   "source": [
    "# Numerical Computing\n",
    "import numpy as np\n",
    "\n",
    "# Data Manipulation\n",
    "import pandas as pd\n",
    "\n",
    "# OS \n",
    "import os\n",
    "import shutil\n",
    "import joblib\n",
    "\n",
    "# Data Visualization\n",
    "import plotly.io as pio\n",
    "import plotly.express as px\n",
    "import plotly.graph_objects as go\n",
    "\n",
    "# Path\n",
    "from pathlib import Path\n",
    "from tqdm.autonotebook import tqdm\n",
    "\n",
    "# IPython & Itertools\n",
    "from itertools import cycle\n",
    "from IPython.display import display, HTML"
   ]
  },
  {
   "cell_type": "code",
   "execution_count": null,
   "id": "25e54c7b-2871-4a48-b110-9f610082b49f",
   "metadata": {},
   "outputs": [],
   "source": [
    "# Custom Libraries\n",
    "from src.utils import plotting_utils\n",
    "from src.utils import ts_utils_updated\n",
    "from src.forecasting.ml_forecasting import calculate_metrics\n",
    "\n",
    "from src.forecasting.ml_forecasting import (\n",
    "    MissingValueConfig,\n",
    "    calculate_metrics,\n",
    ")"
   ]
  },
  {
   "cell_type": "code",
   "execution_count": null,
   "id": "3bb3195c-2bf1-402f-9dd1-802bf9fb2c42",
   "metadata": {},
   "outputs": [],
   "source": []
  },
  {
   "cell_type": "code",
   "execution_count": null,
   "id": "06200de4-0348-47df-bf43-71e58c404fa9",
   "metadata": {},
   "outputs": [],
   "source": [
    "# %load_ext autoreload\n",
    "\n",
    "# %autoreload 2"
   ]
  },
  {
   "cell_type": "code",
   "execution_count": null,
   "id": "c8a12437-f444-4429-b9eb-d7112befb725",
   "metadata": {},
   "outputs": [],
   "source": [
    "tqdm.pandas()\n",
    "\n",
    "np.random.seed(42)\n",
    "\n",
    "pio.templates.default = \"plotly_white\""
   ]
  },
  {
   "cell_type": "code",
   "execution_count": null,
   "id": "e05ab765-80b8-4acf-8594-b0574bc8e25d",
   "metadata": {},
   "outputs": [],
   "source": [
    "os.makedirs(\"imgs/chapter_13\", exist_ok=True)\n",
    "\n",
    "preprocessed = Path.home() / \"Desktop\" / \"data\" / \"london_smart_meters\" / \"preprocessed\"\n",
    "\n",
    "output = Path.home() / \"Desktop\" / \"data\" / \"london_smart_meters\" / \"output\""
   ]
  },
  {
   "cell_type": "markdown",
   "id": "c4290f39-6a35-4ca5-a3b8-1c62c7b68413",
   "metadata": {},
   "source": [
    "#### Utility Functions"
   ]
  },
  {
   "cell_type": "code",
   "execution_count": null,
   "id": "c3b6fcb4-4781-40b8-b818-ba7ab102bbcc",
   "metadata": {},
   "outputs": [],
   "source": [
    "def format_plot(fig, legends=None, xlabel=\"Time\", ylabel=\"Value\", title=\"\", font_size=15):\n",
    "    if legends:\n",
    "        names = cycle(legends)\n",
    "        fig.for_each_trace(lambda t: t.update(name=next(names)))\n",
    "    fig.update_layout(\n",
    "        autosize=False,\n",
    "        width=900,\n",
    "        height=500,\n",
    "        title_text=title,\n",
    "        title={\"x\": 0.5, \"xanchor\": \"center\", \"yanchor\": \"top\"},\n",
    "        titlefont={\"size\": 20},\n",
    "        legend_title=None,\n",
    "        legend=dict(\n",
    "            font=dict(size=font_size),\n",
    "            orientation=\"h\",\n",
    "            yanchor=\"bottom\",\n",
    "            y=0.98,\n",
    "            xanchor=\"right\",\n",
    "            x=1,\n",
    "        ),\n",
    "        yaxis=dict(\n",
    "            title_text=ylabel,\n",
    "            titlefont=dict(size=font_size),\n",
    "            tickfont=dict(size=font_size),\n",
    "        ),\n",
    "        xaxis=dict(\n",
    "            title_text=xlabel,\n",
    "            titlefont=dict(size=font_size),\n",
    "            tickfont=dict(size=font_size),\n",
    "        )\n",
    "    )\n",
    "    return fig"
   ]
  },
  {
   "cell_type": "code",
   "execution_count": null,
   "id": "4f2e4c00-3a1b-42af-8c96-217229869fd0",
   "metadata": {},
   "outputs": [],
   "source": [
    "def plot_forecast(pred_df, forecast_columns, forecast_display_names=None):\n",
    "    if forecast_display_names is None:\n",
    "        forecast_display_names = forecast_columns\n",
    "    else:\n",
    "        assert len(forecast_columns) == len(forecast_display_names)\n",
    "    mask = ~pred_df[forecast_columns[0]].isnull()\n",
    "    colors = [\n",
    "        \"rgba(\" + \",\".join([str(c) for c in plotting_utils.hex_to_rgb(c)]) + \",<alpha>)\"\n",
    "        for c in px.colors.qualitative.Plotly\n",
    "    ]\n",
    "    act_color = colors[0]\n",
    "    colors = cycle(colors[1:])\n",
    "    fig = go.Figure()\n",
    "    fig.add_trace(\n",
    "        go.Scatter(\n",
    "            x=pred_df[mask].index,\n",
    "            y=pred_df[mask].energy_consumption,\n",
    "            mode=\"lines\",\n",
    "            line=dict(color=act_color.replace(\"<alpha>\", \"0.9\")),\n",
    "            name=\"Actual Consumption\",\n",
    "        )\n",
    "    )\n",
    "    for col, display_col in zip(forecast_columns, forecast_display_names):\n",
    "        fig.add_trace(\n",
    "            go.Scatter(\n",
    "                x=pred_df[mask].index,\n",
    "                y=pred_df.loc[mask, col],\n",
    "                mode=\"lines\",\n",
    "                line=dict(dash=\"dot\", color=next(colors).replace(\"<alpha>\", \"1\")),\n",
    "                name=display_col,\n",
    "            )\n",
    "        )\n",
    "    return fig\n",
    "\n",
    "def highlight_abs_min(s, props=''):\n",
    "    return np.where(s == np.nanmin(np.abs(s.values)), props, '')"
   ]
  },
  {
   "cell_type": "markdown",
   "id": "f0367e0b-e3dc-492e-9619-eddaedfdca65",
   "metadata": {},
   "source": [
    "### Reading The Data"
   ]
  },
  {
   "cell_type": "code",
   "execution_count": null,
   "id": "5549e969-3a4f-4904-8d12-4c1db249af69",
   "metadata": {},
   "outputs": [],
   "source": [
    "try:\n",
    "    #Reading the missing value imputed and train test split data\n",
    "    train_df = pd.read_parquet(preprocessed/\"selected_blocks_train_missing_imputed_feature_engg.parquet\")\n",
    "    # Read in the Validation dataset as test_df so that we predict on it\n",
    "    test_df = pd.read_parquet(preprocessed/\"selected_blocks_val_missing_imputed_feature_engg.parquet\")\n",
    "    # test_df = pd.read_parquet(preprocessed/\"block_0-7_test_missing_imputed_feature_engg.parquet\")\n",
    "except FileNotFoundError:\n",
    "    display(HTML(\"\"\"\n",
    "    <div class=\"alert alert-block alert-warning\">\n",
    "    <b>Warning!</b> File not found. Please make sure you have run 01-Feature Engineering.ipynb in Chapter06\n",
    "    </div>\n",
    "    \"\"\"))"
   ]
  },
  {
   "cell_type": "code",
   "execution_count": null,
   "id": "cb6576c7-68da-4f95-a357-6690b69f2693",
   "metadata": {},
   "outputs": [],
   "source": [
    "target = \"energy_consumption\"\n",
    "\n",
    "index_cols = [\"LCLid\", \"timestamp\"]"
   ]
  },
  {
   "cell_type": "markdown",
   "id": "d527e225-f293-4190-8189-636056c222fe",
   "metadata": {},
   "source": [
    "#### Loading `The Single-Step` ML Forecast"
   ]
  },
  {
   "cell_type": "code",
   "execution_count": null,
   "id": "45a20918-1c01-40f6-b98f-a3e07a7022c4",
   "metadata": {},
   "outputs": [],
   "source": [
    "try:\n",
    "    single_step_ahead_ml_fc_df = pd.read_pickle(output/\"ml_single_step_prediction_val_df.pkl\")\n",
    "    single_step_ahead_ml_metrics_df = pd.read_pickle(output/\"ml_single_step_metrics_val_df.pkl\")\n",
    "    single_step_ahead_ml_agg_metrics_df = pd.read_pickle(output/\"ml_single_step_aggregate_metrics_val.pkl\")\n",
    "except FileNotFoundError:\n",
    "    display(HTML(\"\"\"\n",
    "    <div class=\"alert alert-block alert-warning\">\n",
    "    <b>Warning!</b> File not found. Please make sure you have run 01-Forecasting with ML in Chapter08\n",
    "    </div>\n",
    "    \"\"\"))"
   ]
  },
  {
   "cell_type": "markdown",
   "id": "e213bf8e-f6cd-46ea-ba7d-2a3180f2238d",
   "metadata": {},
   "source": [
    "## Running The RNN on a Sample Household\n",
    "\n",
    "### Selecting The Sample Data & Metrics"
   ]
  },
  {
   "cell_type": "code",
   "execution_count": null,
   "id": "42781185-bfbe-4320-8359-0db654e710d4",
   "metadata": {},
   "outputs": [],
   "source": [
    "sample_train_df = train_df.xs(\"MAC000193\")\n",
    "sample_test_df = test_df.xs(\"MAC000193\")\n",
    "\n",
    "# Creating a pred_df with actuals\n",
    "pred_df = pd.concat([sample_train_df[[target]], sample_test_df[[target]]])"
   ]
  },
  {
   "cell_type": "code",
   "execution_count": null,
   "id": "552f545b-ceba-4ceb-b0e3-f52e5b646075",
   "metadata": {},
   "outputs": [],
   "source": [
    "sample_val_df = sample_train_df.loc[\"2013-12\"]\n",
    "sample_train_df = sample_train_df.loc[:\"2013-11\"]\n",
    "\n",
    "sample_train_df['type'] = \"train\"\n",
    "sample_val_df['type'] = \"val\"\n",
    "sample_test_df['type'] = \"test\"\n",
    "sample_df = pd.concat([sample_train_df[[target, \"type\"]], sample_val_df[[target, \"type\"]], sample_test_df[[target, \"type\"]]])\n",
    "sample_df.head()"
   ]
  },
  {
   "cell_type": "code",
   "execution_count": null,
   "id": "1c48a2fd-f2a5-4961-8cdc-41c0cf249bf1",
   "metadata": {},
   "outputs": [],
   "source": [
    "metric_record = []\n",
    "metric_record += (\n",
    "    single_step_ahead_ml_metrics_df.loc[single_step_ahead_ml_metrics_df.LCLid == \"MAC000193\"]\n",
    "    .drop(columns=\"LCLid\")\n",
    "    .to_dict(orient=\"records\")\n",
    ")\n",
    "metric_record"
   ]
  },
  {
   "cell_type": "markdown",
   "id": "44ea77b2-281a-444a-b48b-b26860be067c",
   "metadata": {},
   "source": [
    "### Loading Up Necessary Classes"
   ]
  },
  {
   "cell_type": "code",
   "execution_count": null,
   "id": "e3b45561-34c1-44fc-8b63-8983974f13fc",
   "metadata": {},
   "outputs": [],
   "source": [
    "from src.dl.dataloaders import TimeSeriesDataModule\n",
    "from src.dl.models import SingleStepRNNConfig, SingleStepRNNModel\n",
    "\n",
    "import pytorch_lightning as pl\n",
    "import torch\n",
    "\n",
    "# For Reproducibility Set a Random Seed\n",
    "pl.seed_everything(42)"
   ]
  },
  {
   "cell_type": "markdown",
   "id": "d43cee42-a8f7-4449-badc-510ffda5823c",
   "metadata": {},
   "source": [
    "#### Creating The `datamodule` Which Splits & Formats Data into Windows"
   ]
  },
  {
   "cell_type": "code",
   "execution_count": null,
   "id": "cb38470f-bbfd-4875-94b9-01f7df9257f5",
   "metadata": {},
   "outputs": [],
   "source": [
    "datamodule = TimeSeriesDataModule(data = sample_df[[target]],\n",
    "        n_val = sample_val_df.shape[0],\n",
    "        n_test = sample_test_df.shape[0],\n",
    "        window = 48, # giving enough memory to capture daily seasonality\n",
    "        horizon = 1, # single step\n",
    "        normalize = \"global\", # normalizing the data\n",
    "        batch_size = 32,\n",
    "        num_workers = 0)\n",
    "datamodule.setup()"
   ]
  },
  {
   "cell_type": "markdown",
   "id": "e56c5305-ce8e-4bfb-bec8-eeec5bac94a1",
   "metadata": {},
   "source": [
    "#### Setting the config for the RNN and initializing the model"
   ]
  },
  {
   "cell_type": "code",
   "execution_count": null,
   "id": "d283813e-4cf3-41a5-b941-27466956d9bb",
   "metadata": {},
   "outputs": [],
   "source": [
    "rnn_config = SingleStepRNNConfig(\n",
    "    rnn_type=\"RNN\",\n",
    "    input_size=1,\n",
    "    hidden_size=128,\n",
    "    num_layers=3,\n",
    "    bidirectional=True,\n",
    "    learning_rate=1e-3,\n",
    ")\n",
    "\n",
    "model = SingleStepRNNModel(rnn_config)"
   ]
  },
  {
   "cell_type": "markdown",
   "id": "01249733-7b12-434a-a623-489b58aeac9e",
   "metadata": {},
   "source": [
    "#### Manual Inspection"
   ]
  },
  {
   "cell_type": "code",
   "execution_count": null,
   "id": "986aa9fd-8406-40e8-8853-f1c7f8c3871f",
   "metadata": {},
   "outputs": [],
   "source": [
    "# Getting a batch from the train_dataloader\n",
    "for batch in datamodule.train_dataloader():\n",
    "    x, y = batch\n",
    "    break\n",
    "\n",
    "print(\"Shape of x: \",x.shape)\n",
    "print(\"Shape of y: \",y.shape)"
   ]
  },
  {
   "cell_type": "code",
   "execution_count": null,
   "id": "ee8c251f-ab5e-4eb9-8933-d10c799665d9",
   "metadata": {},
   "outputs": [],
   "source": [
    "# Running the batch through the model\n",
    "# We expect two outputs - the first one is the forecast and second is the corresponding target\n",
    "y_hat, y = model(batch)\n",
    "\n",
    "print(\"Shape of y_hat: \",y_hat.shape)\n",
    "print(\"Shape of y: \",y.shape)"
   ]
  },
  {
   "cell_type": "code",
   "execution_count": null,
   "id": "8b737b07-e974-4894-a452-bb5dfa26ba15",
   "metadata": {},
   "outputs": [],
   "source": [
    "# Calculating the loss\n",
    "l = model.loss(y_hat, y)\n",
    "print(l)"
   ]
  },
  {
   "cell_type": "markdown",
   "id": "16838da6-b446-4606-b829-5f56782a7f78",
   "metadata": {},
   "source": [
    "### Full Training"
   ]
  },
  {
   "cell_type": "code",
   "execution_count": null,
   "id": "8f052569-f337-484e-bb6f-e619f48e6412",
   "metadata": {},
   "outputs": [],
   "source": [
    "# # Load the TensorBoard notebook extension\n",
    "# %load_ext tensorboard\n",
    "# os.makedirs(lightning_logs, exist_ok=True)\n",
    "# %tensorboard --logdir lightning_logs/"
   ]
  },
  {
   "cell_type": "code",
   "execution_count": null,
   "id": "f6c67ef1-530f-4e20-a3c1-8b4efda7bb4e",
   "metadata": {},
   "outputs": [],
   "source": [
    "trainer = pl.Trainer(\n",
    "    accelerator=\"auto\",\n",
    "    min_epochs=5,\n",
    "    max_epochs=100,\n",
    "    callbacks=[pl.callbacks.EarlyStopping(monitor=\"valid_loss\", patience=3)],\n",
    ")\n",
    "trainer.fit(model, datamodule)"
   ]
  },
  {
   "cell_type": "code",
   "execution_count": null,
   "id": "8ed89723-abf5-42c9-afef-7d9ca50cf40b",
   "metadata": {},
   "outputs": [],
   "source": [
    "# Removing artifacts created during training\n",
    "shutil.rmtree(\"lightning_logs\")"
   ]
  },
  {
   "cell_type": "markdown",
   "id": "9ac75723-f2ea-4c8c-b715-77df17010868",
   "metadata": {},
   "source": [
    "### Prediction"
   ]
  },
  {
   "cell_type": "code",
   "execution_count": null,
   "id": "6e4151c6-19b4-45d1-b46e-6501708a311f",
   "metadata": {},
   "outputs": [],
   "source": [
    "pred = trainer.predict(model, datamodule.test_dataloader())\n",
    "\n",
    "# pred is a list of outputs, one for each batch\n",
    "pred = torch.cat(pred).squeeze().detach().numpy()\n",
    "\n",
    "# Apply reverse transformation because we applied global normalization\n",
    "pred = pred * datamodule.train.std + datamodule.train.mean\n",
    "pred_df_ = pd.DataFrame({rnn_config.rnn_type: pred}, index=sample_test_df.index)\n",
    "pred_df = pred_df.join(pred_df_)\n",
    "metrics = calculate_metrics(sample_test_df[target], pred_df_[rnn_config.rnn_type], rnn_config.rnn_type, pd.concat([sample_train_df[target],sample_val_df[target]]))\n",
    "metric_record.append(metrics)"
   ]
  },
  {
   "cell_type": "code",
   "execution_count": null,
   "id": "9764bdec-15a6-4248-9388-855d353564f5",
   "metadata": {},
   "outputs": [],
   "source": [
    "formatted = pd.DataFrame(metric_record).style.format({\"MAE\": \"{:.4f}\", \n",
    "                          \"MSE\": \"{:.4f}\", \n",
    "                          \"MASE\": \"{:.4f}\", \n",
    "                          \"Forecast Bias\": \"{:.2f}%\"})\n",
    "formatted.highlight_min(color='lightgreen', subset=[\"MAE\",\"MSE\",\"MASE\"]).apply(highlight_abs_min, props='color:black;background-color:lightgreen', axis=0, subset=['Forecast Bias'])"
   ]
  },
  {
   "cell_type": "code",
   "execution_count": null,
   "id": "6d018ccc-a66a-45fa-bb3f-da9ef93bf29a",
   "metadata": {},
   "outputs": [],
   "source": [
    "fig = plot_forecast(pred_df, forecast_columns=[rnn_config.rnn_type], forecast_display_names=[rnn_config.rnn_type])\n",
    "fig = format_plot(fig, title=f\"{rnn_config.rnn_type}: MAE: {metrics['MAE']:.4f} | MSE: {metrics['MSE']:.4f} | MASE: {metrics['MASE']:.4f} | Bias: {metrics['Forecast Bias']:.4f}\")\n",
    "fig.update_xaxes(type=\"date\", range=[\"2014-01-01\", \"2014-01-08\"])\n",
    "fig.write_image(\"imgs/chapter_13/rnn.png\")\n",
    "fig.show()"
   ]
  },
  {
   "cell_type": "markdown",
   "id": "e6990a80-09f4-4e54-9f09-e7c414e75e61",
   "metadata": {},
   "source": [
    "## Running LSTMs and GRUs on a Sample Household\n",
    "\n",
    "### LSTM"
   ]
  },
  {
   "cell_type": "code",
   "execution_count": null,
   "id": "3930a501-9755-4df6-9b57-2db15a7fca45",
   "metadata": {},
   "outputs": [],
   "source": [
    "rnn_config = SingleStepRNNConfig(\n",
    "    rnn_type=\"LSTM\",\n",
    "    input_size=1,\n",
    "    hidden_size=128,\n",
    "    num_layers=3,\n",
    "    bidirectional=True,\n",
    "    learning_rate=1e-3,\n",
    ")\n",
    "\n",
    "model = SingleStepRNNModel(rnn_config)\n",
    "\n",
    "trainer = pl.Trainer(\n",
    "    accelerator=\"auto\",\n",
    "    max_epochs=100,\n",
    "    callbacks=[pl.callbacks.EarlyStopping(monitor=\"valid_loss\", patience=3)],\n",
    ")\n",
    "trainer.fit(model, datamodule)\n",
    "# Removing artifacts created during training\n",
    "shutil.rmtree(\"lightning_logs\")"
   ]
  },
  {
   "cell_type": "code",
   "execution_count": null,
   "id": "925bb0e9-cfb9-49a3-9159-1eaf59f284a8",
   "metadata": {},
   "outputs": [],
   "source": [
    "pred = trainer.predict(model, datamodule.test_dataloader())\n",
    "\n",
    "# pred is a list of outputs, one for each batch\n",
    "pred = torch.cat(pred).squeeze().detach().numpy()\n",
    "\n",
    "# Apply reverse transformation because we applied global normalization\n",
    "pred = pred * datamodule.train.std + datamodule.train.mean\n",
    "pred_df_ = pd.DataFrame({rnn_config.rnn_type: pred}, index=sample_test_df.index)\n",
    "pred_df = pred_df.join(pred_df_)\n",
    "metrics = calculate_metrics(sample_test_df[target], pred_df_[rnn_config.rnn_type], rnn_config.rnn_type, pd.concat([sample_train_df[target],sample_val_df[target]]))\n",
    "metric_record.append(metrics)"
   ]
  },
  {
   "cell_type": "code",
   "execution_count": null,
   "id": "5097a59c-5b8f-402a-b747-0863755273f0",
   "metadata": {},
   "outputs": [],
   "source": [
    "formatted = pd.DataFrame(metric_record).style.format({\"MAE\": \"{:.4f}\", \n",
    "                          \"MSE\": \"{:.4f}\", \n",
    "                          \"MASE\": \"{:.4f}\", \n",
    "                          \"Forecast Bias\": \"{:.2f}%\"})\n",
    "\n",
    "formatted.highlight_min(color='lightgreen', subset=[\"MAE\",\"MSE\",\"MASE\"]).apply(highlight_abs_min, props='color:black;background-color:lightgreen', axis=0, subset=['Forecast Bias'])"
   ]
  },
  {
   "cell_type": "code",
   "execution_count": null,
   "id": "b49f2afd-ea0c-4f86-bc6b-7cd8768b46bc",
   "metadata": {},
   "outputs": [],
   "source": [
    "fig = plot_forecast(pred_df, forecast_columns=[rnn_config.rnn_type], forecast_display_names=[rnn_config.rnn_type])\n",
    "fig = format_plot(fig, title=f\"{rnn_config.rnn_type}: MAE: {metrics['MAE']:.4f} | MSE: {metrics['MSE']:.4f} | MASE: {metrics['MASE']:.4f} | Bias: {metrics['Forecast Bias']:.4f}\")\n",
    "fig.update_xaxes(type=\"date\", range=[\"2014-01-01\", \"2014-01-08\"])\n",
    "fig.write_image(\"imgs/chapter_13/lstm.png\")\n",
    "fig.show()"
   ]
  },
  {
   "cell_type": "markdown",
   "id": "8a03d7e3-c50d-49cb-b88e-f6c2b5fba550",
   "metadata": {},
   "source": [
    "### GRU"
   ]
  },
  {
   "cell_type": "code",
   "execution_count": null,
   "id": "aa9bb49c-8e44-4f96-8840-456d77637320",
   "metadata": {},
   "outputs": [],
   "source": [
    "rnn_config = SingleStepRNNConfig(\n",
    "    rnn_type=\"GRU\",\n",
    "    input_size=1,\n",
    "    hidden_size=128,\n",
    "    num_layers=3,\n",
    "    bidirectional=True,\n",
    "    learning_rate=1e-3,\n",
    ")\n",
    "\n",
    "model = SingleStepRNNModel(rnn_config)\n",
    "\n",
    "trainer = pl.Trainer(\n",
    "    accelerator=\"auto\",\n",
    "    max_epochs=100,\n",
    "    callbacks=[pl.callbacks.EarlyStopping(monitor=\"valid_loss\", patience=3)],\n",
    ")\n",
    "trainer.fit(model, datamodule)\n",
    "# Removing artifacts created during training\n",
    "shutil.rmtree(\"lightning_logs\")"
   ]
  },
  {
   "cell_type": "code",
   "execution_count": null,
   "id": "57680743-deb2-4195-b574-e048c26e64aa",
   "metadata": {},
   "outputs": [],
   "source": [
    "pred = trainer.predict(model, datamodule.test_dataloader())\n",
    "\n",
    "# pred is a list of outputs, one for each batch\n",
    "pred = torch.cat(pred).squeeze().detach().numpy()\n",
    "\n",
    "# Apply reverse transformation because we applied global normalization\n",
    "pred = pred * datamodule.train.std + datamodule.train.mean\n",
    "pred_df_ = pd.DataFrame({rnn_config.rnn_type: pred}, index=sample_test_df.index)\n",
    "pred_df = pred_df.join(pred_df_)\n",
    "metrics = calculate_metrics(sample_test_df[target], pred_df_[rnn_config.rnn_type], rnn_config.rnn_type, pd.concat([sample_train_df[target],sample_val_df[target]]))\n",
    "metric_record.append(metrics)"
   ]
  },
  {
   "cell_type": "code",
   "execution_count": null,
   "id": "9c69c7dd-80c5-458e-85c7-f8fea6abd306",
   "metadata": {},
   "outputs": [],
   "source": [
    "formatted = pd.DataFrame(metric_record).style.format({\"MAE\": \"{:.4f}\", \n",
    "                          \"MSE\": \"{:.4f}\", \n",
    "                          \"MASE\": \"{:.4f}\", \n",
    "                          \"Forecast Bias\": \"{:.2f}%\"})\n",
    "\n",
    "formatted.highlight_min(color='lightgreen', subset=[\"MAE\",\"MSE\",\"MASE\"]).apply(highlight_abs_min, props='color:black;background-color:lightgreen', axis=0, subset=['Forecast Bias'])"
   ]
  },
  {
   "cell_type": "code",
   "execution_count": null,
   "id": "23d41cc7-2061-48be-8aeb-98258cf58c84",
   "metadata": {},
   "outputs": [],
   "source": [
    "fig = plot_forecast(pred_df, forecast_columns=[rnn_config.rnn_type], forecast_display_names=[rnn_config.rnn_type])\n",
    "fig = format_plot(fig, title=f\"{rnn_config.rnn_type}: MAE: {metrics['MAE']:.4f} | MSE: {metrics['MSE']:.4f} | MASE: {metrics['MASE']:.4f} | Bias: {metrics['Forecast Bias']:.4f}\")\n",
    "fig.update_xaxes(type=\"date\", range=[\"2014-01-01\", \"2014-01-08\"])\n",
    "fig.write_image(\"imgs/chapter_13/gru.png\")\n",
    "fig.show()"
   ]
  },
  {
   "cell_type": "code",
   "execution_count": null,
   "id": "01b153a2-f9f3-4031-9c93-9ba0d7ad3689",
   "metadata": {},
   "outputs": [],
   "source": [
    "fig = plot_forecast(pred_df, forecast_columns=[\"LSTM\", \"GRU\"], forecast_display_names=[\"LSTM\", \"GRU\"])\n",
    "fig = format_plot(fig, title=f\"LSTM, and GRU\")\n",
    "fig.update_xaxes(type=\"date\", range=[\"2014-01-01\", \"2014-01-08\"])\n",
    "fig.update_traces(line=dict(dash=\"dash\"), selector= dict(name=\"GRU\"))\n",
    "fig.write_image(\"imgs/chapter_13/lstm_gru.png\")\n",
    "fig.show()"
   ]
  },
  {
   "cell_type": "code",
   "execution_count": null,
   "id": "13e7aa90-e1fd-4d0d-8e38-ea634f68c986",
   "metadata": {},
   "outputs": [],
   "source": [
    "pred_df.to_pickle(output/\"dl_single_step_prediction_val_df_MAC000193.pkl\")\n",
    "\n",
    "joblib.dump(metric_record, output/\"dl_single_step_metrics_val_df_MAC000193.pkl\")"
   ]
  },
  {
   "cell_type": "code",
   "execution_count": null,
   "id": "3825e07d-e2e7-40fa-95f4-1cae6f31b5c9",
   "metadata": {},
   "outputs": [],
   "source": []
  },
  {
   "cell_type": "code",
   "execution_count": null,
   "id": "5c50afa0-91f6-4930-8010-aa9e95cf86bd",
   "metadata": {},
   "outputs": [],
   "source": []
  },
  {
   "cell_type": "code",
   "execution_count": null,
   "id": "327d5d48-a92b-4ae0-91d0-ffd25246053b",
   "metadata": {},
   "outputs": [],
   "source": []
  },
  {
   "cell_type": "code",
   "execution_count": null,
   "id": "13fa4214-4d8e-414a-983f-bec07b9df95e",
   "metadata": {},
   "outputs": [],
   "source": []
  },
  {
   "cell_type": "code",
   "execution_count": null,
   "id": "2b3ea2c1-652a-4ec4-8729-7bfd0e283625",
   "metadata": {},
   "outputs": [],
   "source": []
  }
 ],
 "metadata": {
  "kernelspec": {
   "display_name": "Python (MTSP)",
   "language": "python",
   "name": "mtsp"
  },
  "language_info": {
   "codemirror_mode": {
    "name": "ipython",
    "version": 3
   },
   "file_extension": ".py",
   "mimetype": "text/x-python",
   "name": "python",
   "nbconvert_exporter": "python",
   "pygments_lexer": "ipython3",
   "version": "3.10.18"
  }
 },
 "nbformat": 4,
 "nbformat_minor": 5
}
