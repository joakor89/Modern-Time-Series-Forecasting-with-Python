{
 "cells": [
  {
   "cell_type": "markdown",
   "id": "08c3675f-6375-4b8f-b1f3-7c4b7325448b",
   "metadata": {},
   "source": [
    "# Sequence to Sequence RNN\n",
    "\n",
    "### Loading Libraries"
   ]
  },
  {
   "cell_type": "code",
   "execution_count": 1,
   "id": "d060e25c-fbcd-4034-a2e3-25296c5bc2dd",
   "metadata": {},
   "outputs": [
    {
     "name": "stdout",
     "output_type": "stream",
     "text": [
      "/Users/joaquinromero/Desktop\n"
     ]
    }
   ],
   "source": [
    "%cd ../.."
   ]
  },
  {
   "cell_type": "code",
   "execution_count": null,
   "id": "607d9715-65ea-4813-b76b-1afb110e01bc",
   "metadata": {},
   "outputs": [],
   "source": [
    "# Numerical Computing\n",
    "import numpy as np\n",
    "\n",
    "# Data Manipulation\n",
    "import pandas as pd\n",
    "\n",
    "# OS \n",
    "import os\n",
    "import shutil\n",
    "import joblib\n",
    "\n",
    "# Data Visualization\n",
    "import plotly.io as pio\n",
    "import plotly.express as px\n",
    "import plotly.graph_objects as go\n",
    "\n",
    "# Path\n",
    "from pathlib import Path\n",
    "from tqdm.autonotebook import tqdm\n",
    "\n",
    "# IPython & Itertools\n",
    "from itertools import cycle\n",
    "from IPython.display import display, HTML"
   ]
  },
  {
   "cell_type": "code",
   "execution_count": null,
   "id": "dfad32da-70e3-40ca-afda-a54fd7997c41",
   "metadata": {},
   "outputs": [],
   "source": [
    "# Custom Libraries\n",
    "from src.utils import plotting_utils\n",
    "from src.utils import ts_utils_updated\n",
    "from src.forecasting.ml_forecasting import calculate_metrics\n",
    "\n",
    "from src.forecasting.ml_forecasting import (\n",
    "    MissingValueConfig,\n",
    "    calculate_metrics,\n",
    ")"
   ]
  },
  {
   "cell_type": "code",
   "execution_count": null,
   "id": "b3f30bd0-a7ef-49d5-b688-e12fcebba7f9",
   "metadata": {},
   "outputs": [],
   "source": [
    "# %load_ext autoreload\n",
    "\n",
    "# %autoreload 2"
   ]
  },
  {
   "cell_type": "code",
   "execution_count": null,
   "id": "348a4ae9-ae6f-4e32-a00d-138a541163e2",
   "metadata": {},
   "outputs": [],
   "source": [
    "tqdm.pandas()\n",
    "\n",
    "np.random.seed(42)\n",
    "\n",
    "pio.templates.default = \"plotly_white\""
   ]
  },
  {
   "cell_type": "code",
   "execution_count": null,
   "id": "5d277976-9f1e-493f-ab55-a430e53b281b",
   "metadata": {},
   "outputs": [],
   "source": [
    "os.makedirs(\"imgs/chapter_13\", exist_ok=True)\n",
    "\n",
    "preprocessed = Path.home() / \"Desktop\" / \"data\" / \"london_smart_meters\" / \"preprocessed\"\n",
    "\n",
    "output = Path.home() / \"Desktop\" / \"data\" / \"london_smart_meters\" / \"output\""
   ]
  },
  {
   "cell_type": "markdown",
   "id": "8e5265a1-cf01-474d-9dd9-fce034188e4a",
   "metadata": {},
   "source": [
    "#### Utility Functions"
   ]
  },
  {
   "cell_type": "code",
   "execution_count": null,
   "id": "509dfcc7-f9bd-4fe2-bd7f-9706afc331f7",
   "metadata": {},
   "outputs": [],
   "source": [
    "def format_plot(fig, legends=None, xlabel=\"Time\", ylabel=\"Value\", title=\"\", font_size=15):\n",
    "    if legends:\n",
    "        names = cycle(legends)\n",
    "        fig.for_each_trace(lambda t: t.update(name=next(names)))\n",
    "    fig.update_layout(\n",
    "        autosize=False,\n",
    "        width=900,\n",
    "        height=500,\n",
    "        title_text=title,\n",
    "        title={\"x\": 0.5, \"xanchor\": \"center\", \"yanchor\": \"top\"},\n",
    "        titlefont={\"size\": 20},\n",
    "        legend_title=None,\n",
    "        legend=dict(\n",
    "            font=dict(size=font_size),\n",
    "            orientation=\"h\",\n",
    "            yanchor=\"bottom\",\n",
    "            y=0.98,\n",
    "            xanchor=\"right\",\n",
    "            x=1,\n",
    "        ),\n",
    "        yaxis=dict(\n",
    "            title_text=ylabel,\n",
    "            titlefont=dict(size=font_size),\n",
    "            tickfont=dict(size=font_size),\n",
    "        ),\n",
    "        xaxis=dict(\n",
    "            title_text=xlabel,\n",
    "            titlefont=dict(size=font_size),\n",
    "            tickfont=dict(size=font_size),\n",
    "        )\n",
    "    )\n",
    "    return fig"
   ]
  },
  {
   "cell_type": "code",
   "execution_count": null,
   "id": "6a26b95f-d5b3-4df8-992a-076ccbf23a01",
   "metadata": {},
   "outputs": [],
   "source": [
    "def plot_forecast(pred_df, forecast_columns, forecast_display_names=None):\n",
    "    if forecast_display_names is None:\n",
    "        forecast_display_names = forecast_columns\n",
    "    else:\n",
    "        assert len(forecast_columns) == len(forecast_display_names)\n",
    "    mask = ~pred_df[forecast_columns[0]].isnull()\n",
    "    colors = [\n",
    "        \"rgba(\" + \",\".join([str(c) for c in plotting_utils.hex_to_rgb(c)]) + \",<alpha>)\"\n",
    "        for c in px.colors.qualitative.Plotly\n",
    "    ]\n",
    "    act_color = colors[0]\n",
    "    colors = cycle(colors[1:])\n",
    "    fig = go.Figure()\n",
    "    fig.add_trace(\n",
    "        go.Scatter(\n",
    "            x=pred_df[mask].index,\n",
    "            y=pred_df[mask].energy_consumption,\n",
    "            mode=\"lines\",\n",
    "            line=dict(color=act_color.replace(\"<alpha>\", \"0.9\")),\n",
    "            name=\"Actual Consumption\",\n",
    "        )\n",
    "    )\n",
    "    for col, display_col in zip(forecast_columns, forecast_display_names):\n",
    "        fig.add_trace(\n",
    "            go.Scatter(\n",
    "                x=pred_df[mask].index,\n",
    "                y=pred_df.loc[mask, col],\n",
    "                mode=\"lines\",\n",
    "                line=dict(dash=\"dot\", color=next(colors).replace(\"<alpha>\", \"1\")),\n",
    "                name=display_col,\n",
    "            )\n",
    "        )\n",
    "    return fig\n",
    "\n",
    "def highlight_abs_min(s, props=''):\n",
    "    return np.where(s == np.nanmin(np.abs(s.values)), props, '')"
   ]
  },
  {
   "cell_type": "markdown",
   "id": "5aa0f361-89ce-462e-9ab4-a870230f224e",
   "metadata": {},
   "source": [
    "### Reading The Data"
   ]
  },
  {
   "cell_type": "code",
   "execution_count": null,
   "id": "959170db-8463-42a0-b3a7-1976986cd328",
   "metadata": {},
   "outputs": [],
   "source": [
    "try:\n",
    "    #Reading the missing value imputed and train test split data\n",
    "    train_df = pd.read_parquet(preprocessed/\"selected_blocks_train_missing_imputed_feature_engg.parquet\")\n",
    "    # Read in the Validation dataset as test_df so that we predict on it\n",
    "    test_df = pd.read_parquet(preprocessed/\"selected_blocks_val_missing_imputed_feature_engg.parquet\")\n",
    "    # test_df = pd.read_parquet(preprocessed/\"block_0-7_test_missing_imputed_feature_engg.parquet\")\n",
    "except FileNotFoundError:\n",
    "    display(HTML(\"\"\"\n",
    "    <div class=\"alert alert-block alert-warning\">\n",
    "    <b>Warning!</b> File not found. Please make sure you have run 01-Feature Engineering.ipynb in Chapter06\n",
    "    </div>\n",
    "    \"\"\"))"
   ]
  },
  {
   "cell_type": "code",
   "execution_count": null,
   "id": "c3ca87bd-9380-423c-9643-e06937e40a8f",
   "metadata": {},
   "outputs": [],
   "source": [
    "target = \"energy_consumption\"\n",
    "\n",
    "index_cols = [\"LCLid\", \"timestamp\"]"
   ]
  },
  {
   "cell_type": "code",
   "execution_count": null,
   "id": "4bbf1245-2d38-47b6-8b8b-60090e63c187",
   "metadata": {},
   "outputs": [],
   "source": [
    "# Setting the indices\n",
    "train_df.set_index(index_cols, inplace=True, drop=False)\n",
    "test_df.set_index(index_cols, inplace=True, drop=False)"
   ]
  },
  {
   "cell_type": "markdown",
   "id": "6ee2787c-32b1-4416-90e5-5f8f17323fb2",
   "metadata": {},
   "source": [
    "## Running Seq2Seq Models on a Sample Household\n",
    "\n",
    "### `The Sample Data and Metrics` Selection"
   ]
  },
  {
   "cell_type": "code",
   "execution_count": null,
   "id": "65097525-7cfe-4f71-988f-2e63aa03c2ad",
   "metadata": {},
   "outputs": [],
   "source": [
    "sample_train_df = train_df.xs(\"MAC000193\")\n",
    "sample_test_df = test_df.xs(\"MAC000193\")\n",
    "\n",
    "# Creating a pred_df with actuals\n",
    "pred_df = pd.concat([sample_train_df[[target]], sample_test_df[[target]]])"
   ]
  },
  {
   "cell_type": "code",
   "execution_count": null,
   "id": "b5d70d13-7c16-4eca-84a6-56f1e4491c6e",
   "metadata": {},
   "outputs": [],
   "source": [
    "sample_val_df = sample_train_df.loc[\"2013-12\"]\n",
    "sample_train_df = sample_train_df.loc[:\"2013-11\"]\n",
    "\n",
    "sample_train_df['type'] = \"train\"\n",
    "sample_val_df['type'] = \"val\"\n",
    "sample_test_df['type'] = \"test\"\n",
    "sample_df = pd.concat([sample_train_df[[target, \"type\"]], sample_val_df[[target, \"type\"]], sample_test_df[[target, \"type\"]]])\n",
    "sample_df.head()"
   ]
  },
  {
   "cell_type": "markdown",
   "id": "83696719-0b5f-4922-b4ed-8c642f20d3db",
   "metadata": {},
   "source": [
    "#### Loading the Forecast and metrics from Single Step RNN"
   ]
  },
  {
   "cell_type": "code",
   "execution_count": null,
   "id": "a6783c25-221b-4b26-8a3e-98b9b03dea40",
   "metadata": {},
   "outputs": [],
   "source": [
    "try:\n",
    "    pred_df = pd.read_pickle(output/\"dl_single_step_prediction_val_df_MAC000193.pkl\")\n",
    "    metric_record = joblib.load(output/\"dl_single_step_metrics_val_df_MAC000193.pkl\")\n",
    "except FileNotFoundError:\n",
    "    display(HTML(\"\"\"\n",
    "    <div class=\"alert alert-block alert-warning\">\n",
    "    <b>Warning!</b> File not found. Please make sure you have run 02-One-Step RNN.ipynb in Chapter13\n",
    "    </div>\n",
    "    \"\"\"))"
   ]
  },
  {
   "cell_type": "markdown",
   "id": "14a6f395-78f6-4cae-a657-dc97bcd24828",
   "metadata": {},
   "source": [
    "### Loading The Necessary Classes"
   ]
  },
  {
   "cell_type": "code",
   "execution_count": null,
   "id": "50576f8f-c43b-4546-b98a-1a94404579e2",
   "metadata": {},
   "outputs": [],
   "source": [
    "from src.dl.dataloaders import TimeSeriesDataModule\n",
    "from src.dl.models import RNNConfig, Seq2SeqConfig, Seq2SeqModel\n",
    "\n",
    "import torch\n",
    "import pytorch_lightning as pl\n",
    "\n",
    "# For reproduceability set a random seed\n",
    "pl.seed_everything(42)"
   ]
  },
  {
   "cell_type": "markdown",
   "id": "e928520b-505b-468c-92d4-a4eb348f2e93",
   "metadata": {},
   "source": [
    "#### Creating The `datamodule` Which Splits and Formats The Data into Windows"
   ]
  },
  {
   "cell_type": "code",
   "execution_count": null,
   "id": "42d93a09-856c-4a72-9440-aa182c957b39",
   "metadata": {},
   "outputs": [],
   "source": [
    "HORIZON = 1\n",
    "\n",
    "WINDOW = 48"
   ]
  },
  {
   "cell_type": "code",
   "execution_count": null,
   "id": "81f2df45-b4b4-4342-8617-523c60d542bc",
   "metadata": {},
   "outputs": [],
   "source": [
    "datamodule = TimeSeriesDataModule(data = sample_df[[target]],\n",
    "        n_val = sample_val_df.shape[0],\n",
    "        n_test = sample_test_df.shape[0],\n",
    "        window = WINDOW, # giving enough memory to capture daily seasonality\n",
    "        horizon = HORIZON, # single step\n",
    "        normalize = \"global\", # normalizing the data\n",
    "        batch_size = 32,\n",
    "        num_workers = 0)\n",
    "\n",
    "datamodule.setup()"
   ]
  },
  {
   "cell_type": "markdown",
   "id": "65fe9026-4309-4bd3-b72d-80245d710661",
   "metadata": {},
   "source": [
    "### `LSTM-FC Seq2Seq`"
   ]
  },
  {
   "cell_type": "code",
   "execution_count": null,
   "id": "2d1aef42-e952-4ed8-a74e-08b0f567a1ff",
   "metadata": {},
   "outputs": [],
   "source": [
    "encoder_config = RNNConfig(\n",
    "    input_size=1,\n",
    "    hidden_size=128,\n",
    "    num_layers=3,\n",
    "    bidirectional=True,\n",
    ").__dict__\n",
    "rnn2fc_config = Seq2SeqConfig(\n",
    "    encoder_type=\"LSTM\",\n",
    "    decoder_type=\"FC\",\n",
    "    encoder_params=encoder_config,\n",
    "    decoder_params={\"window_size\": WINDOW, \"horizon\":HORIZON},\n",
    "    decoder_use_all_hidden=False,\n",
    "    learning_rate=1e-3,\n",
    ")\n",
    "\n",
    "model = Seq2SeqModel(rnn2fc_config)\n",
    "\n",
    "trainer = pl.Trainer(\n",
    "    accelerator=\"auto\",\n",
    "    min_epochs=5,\n",
    "    max_epochs=100,\n",
    "    callbacks=[pl.callbacks.EarlyStopping(monitor=\"valid_loss\", patience=3)],\n",
    ")\n",
    "trainer.fit(model, datamodule)\n",
    "\n",
    "# Removing artifacts created during training\n",
    "shutil.rmtree(\"lightning_logs\")"
   ]
  },
  {
   "cell_type": "code",
   "execution_count": null,
   "id": "5d25d861-7096-489a-b7e0-cb4522d4f8c4",
   "metadata": {},
   "outputs": [],
   "source": [
    "tag = f\"{rnn2fc_config.encoder_type}_{rnn2fc_config.decoder_type}_{'all_hidden' if rnn2fc_config.decoder_use_all_hidden else 'last_hidden'}\"\n",
    "pred = trainer.predict(model, datamodule.test_dataloader())\n",
    "\n",
    "# pred is a list of outputs, one for each batch\n",
    "pred = torch.cat(pred).squeeze().detach().numpy()\n",
    "\n",
    "# Apply reverse transformation because we applied global normalization\n",
    "pred = pred * datamodule.train.std + datamodule.train.mean\n",
    "pred_df_ = pd.DataFrame({tag: pred}, index=sample_test_df.index)\n",
    "pred_df = pred_df.join(pred_df_)\n",
    "metrics = calculate_metrics(sample_test_df[target], pred_df_[tag], tag, pd.concat([sample_train_df[target],sample_val_df[target]]))\n",
    "metric_record.append(metrics)"
   ]
  },
  {
   "cell_type": "code",
   "execution_count": null,
   "id": "68df262c-4c3d-4645-8f96-8d3ee23a3d8b",
   "metadata": {},
   "outputs": [],
   "source": [
    "formatted = pd.DataFrame(metric_record).style.format({\"MAE\": \"{:.4f}\", \n",
    "                          \"MSE\": \"{:.4f}\", \n",
    "                          \"MASE\": \"{:.4f}\", \n",
    "                          \"Forecast Bias\": \"{:.2f}%\"})\n",
    "\n",
    "formatted.highlight_min(color='lightgreen', subset=[\"MAE\",\"MSE\",\"MASE\"]).apply(highlight_abs_min, props='color:black;background-color:lightgreen', axis=0, subset=['Forecast Bias'])"
   ]
  },
  {
   "cell_type": "code",
   "execution_count": null,
   "id": "162691bb-9673-4fb3-a242-4418207e0abf",
   "metadata": {},
   "outputs": [],
   "source": [
    "fig = plot_forecast(pred_df, forecast_columns=[tag], forecast_display_names=[tag])\n",
    "fig = format_plot(fig, title=f\"MAE: {metrics['MAE']:.4f} | MSE: {metrics['MSE']:.4f} | MASE: {metrics['MASE']:.4f} | Bias: {metrics['Forecast Bias']:.4f}\")\n",
    "fig.update_xaxes(type=\"date\", range=[\"2014-01-01\", \"2014-01-08\"])\n",
    "fig.write_image(f\"imgs/chapter_13/{tag}.png\")\n",
    "fig.show()"
   ]
  },
  {
   "cell_type": "markdown",
   "id": "a87c1407-d9ea-4452-bc48-086fa4236afb",
   "metadata": {},
   "source": [
    "### LSTM-FC Seq2Seq uses All Hidden"
   ]
  },
  {
   "cell_type": "code",
   "execution_count": null,
   "id": "0116c427-e467-4a2b-82f9-6f12d3eedcdd",
   "metadata": {},
   "outputs": [],
   "source": [
    "encoder_config = RNNConfig(\n",
    "    input_size=1,\n",
    "    hidden_size=128,\n",
    "    num_layers=3,\n",
    "    bidirectional=True,\n",
    ").__dict__\n",
    "rnn2fc_config = Seq2SeqConfig(\n",
    "    encoder_type=\"LSTM\",\n",
    "    decoder_type=\"FC\",\n",
    "    encoder_params=encoder_config,\n",
    "    decoder_params={\"window_size\": WINDOW, \"horizon\":HORIZON},\n",
    "    decoder_use_all_hidden=True,\n",
    "    learning_rate=1e-3,\n",
    ")\n",
    "\n",
    "model = Seq2SeqModel(rnn2fc_config)\n",
    "\n",
    "trainer = pl.Trainer(\n",
    "    accelerator=\"auto\",\n",
    "    min_epochs=5,\n",
    "    max_epochs=100,\n",
    "    callbacks=[pl.callbacks.EarlyStopping(monitor=\"valid_loss\", patience=3)],\n",
    ")\n",
    "trainer.fit(model, datamodule)\n",
    "\n",
    "# Removing artifacts created during training\n",
    "shutil.rmtree(\"lightning_logs\")"
   ]
  },
  {
   "cell_type": "code",
   "execution_count": null,
   "id": "9eda74ea-9bf6-4df3-8dab-8ae92dcdd947",
   "metadata": {},
   "outputs": [],
   "source": [
    "tag = f\"{rnn2fc_config.encoder_type}_{rnn2fc_config.decoder_type}_{'all_hidden' if rnn2fc_config.decoder_use_all_hidden else 'last_hidden'}\"\n",
    "pred = trainer.predict(model, datamodule.test_dataloader())\n",
    "\n",
    "# pred is a list of outputs, one for each batch\n",
    "pred = torch.cat(pred).squeeze().detach().numpy()\n",
    "\n",
    "# Apply reverse transformation because we applied global normalization\n",
    "pred = pred * datamodule.train.std + datamodule.train.mean\n",
    "pred_df_ = pd.DataFrame({tag: pred}, index=sample_test_df.index)\n",
    "pred_df = pred_df.join(pred_df_)\n",
    "metrics = calculate_metrics(sample_test_df[target], pred_df_[tag], tag, pd.concat([sample_train_df[target],sample_val_df[target]]))\n",
    "metric_record.append(metrics)"
   ]
  },
  {
   "cell_type": "code",
   "execution_count": null,
   "id": "e65a13de-c748-415c-98ec-e2c52b9643ec",
   "metadata": {},
   "outputs": [],
   "source": [
    "formatted = pd.DataFrame(metric_record).style.format({\"MAE\": \"{:.4f}\", \n",
    "                          \"MSE\": \"{:.4f}\", \n",
    "                          \"MASE\": \"{:.4f}\", \n",
    "                          \"Forecast Bias\": \"{:.2f}%\"})\n",
    "\n",
    "formatted.highlight_min(color='lightgreen', subset=[\"MAE\",\"MSE\",\"MASE\"]).apply(highlight_abs_min, props='color:black;background-color:lightgreen', axis=0, subset=['Forecast Bias'])"
   ]
  },
  {
   "cell_type": "code",
   "execution_count": null,
   "id": "0f8eca80-0d1c-4c64-8428-b1b8c4a7702d",
   "metadata": {},
   "outputs": [],
   "source": [
    "fig = plot_forecast(pred_df, forecast_columns=[tag], forecast_display_names=[tag])\n",
    "fig = format_plot(fig, title=f\"MAE: {metrics['MAE']:.4f} | MSE: {metrics['MSE']:.4f} | MASE: {metrics['MASE']:.4f} | Bias: {metrics['Forecast Bias']:.4f}\")\n",
    "fig.update_xaxes(type=\"date\", range=[\"2014-01-01\", \"2014-01-08\"])\n",
    "fig.write_image(f\"imgs/chapter_13/{tag}.png\")\n",
    "fig.show()"
   ]
  },
  {
   "cell_type": "markdown",
   "id": "ea037b48-715f-4086-ab12-a14c25c6d7b8",
   "metadata": {},
   "source": [
    "### LSTM-LSTM Seq2Seq"
   ]
  },
  {
   "cell_type": "code",
   "execution_count": null,
   "id": "a7ac194b-f79d-4ec7-8843-065b01119729",
   "metadata": {},
   "outputs": [],
   "source": [
    "encoder_config = RNNConfig(\n",
    "    input_size=1,\n",
    "    hidden_size=128,\n",
    "    num_layers=3,\n",
    "    bidirectional=True,\n",
    ").__dict__\n",
    "rnn2rnn_config = Seq2SeqConfig(\n",
    "    encoder_type=\"LSTM\",\n",
    "    decoder_type=\"LSTM\",\n",
    "    encoder_params=encoder_config,\n",
    "    decoder_params=encoder_config,\n",
    "    learning_rate=1e-3,\n",
    ")\n",
    "\n",
    "model = Seq2SeqModel(rnn2rnn_config)\n",
    "\n",
    "trainer = pl.Trainer(\n",
    "    accelerator=\"auto\",\n",
    "    min_epochs=5,\n",
    "    max_epochs=100,\n",
    "    callbacks=[pl.callbacks.EarlyStopping(monitor=\"valid_loss\", patience=3)],\n",
    ")\n",
    "trainer.fit(model, datamodule)\n",
    "\n",
    "# Removing artifacts created during training\n",
    "shutil.rmtree(\"lightning_logs\")"
   ]
  },
  {
   "cell_type": "code",
   "execution_count": null,
   "id": "91dc66d4-b939-4db2-8346-3ddc3729e00c",
   "metadata": {},
   "outputs": [],
   "source": [
    "tag = f\"{rnn2rnn_config.encoder_type}_{rnn2rnn_config.decoder_type}\"\n",
    "pred = trainer.predict(model, datamodule.test_dataloader())\n",
    "\n",
    "# pred is a list of outputs, one for each batch\n",
    "pred = torch.cat(pred).squeeze().detach().numpy()\n",
    "\n",
    "# Apply reverse transformation because we applied global normalization\n",
    "pred = pred * datamodule.train.std + datamodule.train.mean\n",
    "pred_df_ = pd.DataFrame({tag: pred}, index=sample_test_df.index)\n",
    "pred_df = pred_df.join(pred_df_)\n",
    "metrics = calculate_metrics(sample_test_df[target], pred_df_[tag], tag, pd.concat([sample_train_df[target],sample_val_df[target]]))\n",
    "metric_record.append(metrics)"
   ]
  },
  {
   "cell_type": "code",
   "execution_count": null,
   "id": "6ab76e5c-70ce-4be2-b765-903114462cba",
   "metadata": {},
   "outputs": [],
   "source": [
    "formatted = pd.DataFrame(metric_record).style.format({\"MAE\": \"{:.4f}\", \n",
    "                          \"MSE\": \"{:.4f}\", \n",
    "                          \"MASE\": \"{:.4f}\", \n",
    "                          \"Forecast Bias\": \"{:.2f}%\"})\n",
    "formatted.highlight_min(color='lightgreen', subset=[\"MAE\",\"MSE\",\"MASE\"]).apply(highlight_abs_min, props='color:black;background-color:lightgreen', axis=0, subset=['Forecast Bias'])"
   ]
  },
  {
   "cell_type": "code",
   "execution_count": null,
   "id": "0acf369c-4d70-427c-b689-19e5c23fbeef",
   "metadata": {},
   "outputs": [],
   "source": [
    "fig = plot_forecast(pred_df, forecast_columns=[tag], forecast_display_names=[tag])\n",
    "fig = format_plot(fig, title=f\"MAE: {metrics['MAE']:.4f} | MSE: {metrics['MSE']:.4f} | MASE: {metrics['MASE']:.4f} | Bias: {metrics['Forecast Bias']:.4f}\")\n",
    "fig.update_xaxes(type=\"date\", range=[\"2014-01-01\", \"2014-01-08\"])\n",
    "fig.write_image(f\"imgs/chapter_13/{tag}.png\")\n",
    "fig.show()"
   ]
  },
  {
   "cell_type": "markdown",
   "id": "367ba2df-e2c9-46a8-8ae1-d1ff9a554c78",
   "metadata": {},
   "source": [
    "##### Plot of All The Three Models, Zoomed into a Day"
   ]
  },
  {
   "cell_type": "code",
   "execution_count": null,
   "id": "62d9888b-707c-47fd-b514-6d28f9f6b56e",
   "metadata": {},
   "outputs": [],
   "source": [
    "fig = plot_forecast(pred_df, forecast_columns=[\"LSTM_FC_last_hidden\", \"LSTM_FC_all_hidden\", \"LSTM_LSTM\"], forecast_display_names=[\"LSTM_FC_last_hidden\", \"LSTM_FC_all_hidden\", \"LSTM_LSTM\"])\n",
    "fig = format_plot(fig, title=f\"Single Step Seq2Seq Models (One Day)\")\n",
    "fig.update_xaxes(type=\"date\", range=[\"2014-01-03\", \"2014-01-04\"])\n",
    "fig.update_traces(line=dict(dash=\"dash\"), selector= dict(name=\"LSTM_FC_all_hidden\"))\n",
    "fig.update_traces(line=dict(dash=\"dashdot\"), selector= dict(name=\"LSTM_LSTM\"))\n",
    "fig.write_image(\"imgs/chapter_13/single_step_seq2seq.png\")\n",
    "fig.show()"
   ]
  },
  {
   "cell_type": "markdown",
   "id": "c6f758a0-fb08-4a32-b774-6d5d59e0af87",
   "metadata": {},
   "source": [
    "### Multi-Step Prediction"
   ]
  },
  {
   "cell_type": "code",
   "execution_count": null,
   "id": "940dc933-fcae-4703-bd05-eabaec2b1ef5",
   "metadata": {},
   "outputs": [],
   "source": [
    "HORIZON = 48\n",
    "\n",
    "WINDOW = 48*2"
   ]
  },
  {
   "cell_type": "code",
   "execution_count": null,
   "id": "9c536fa8-1cd9-44a4-80e0-ed1476080bbf",
   "metadata": {},
   "outputs": [],
   "source": [
    "datamodule = TimeSeriesDataModule(data = sample_df[[target]],\n",
    "        n_val = sample_val_df.shape[0],\n",
    "        n_test = sample_test_df.shape[0],\n",
    "        window = WINDOW, \n",
    "        horizon = HORIZON,\n",
    "        normalize = \"global\", # normalizing the data\n",
    "        batch_size = 32,\n",
    "        num_workers = 0)\n",
    "datamodule.setup()"
   ]
  },
  {
   "cell_type": "code",
   "execution_count": null,
   "id": "3e94e98e-ea7f-4901-9165-d44c8c3d72c0",
   "metadata": {},
   "outputs": [],
   "source": []
  },
  {
   "cell_type": "code",
   "execution_count": null,
   "id": "b7448ca6-15e6-447b-84cd-5ebf8fb91a86",
   "metadata": {},
   "outputs": [],
   "source": []
  },
  {
   "cell_type": "code",
   "execution_count": null,
   "id": "eb68bb64-658d-4da5-92af-9ac7ccfceb57",
   "metadata": {},
   "outputs": [],
   "source": []
  },
  {
   "cell_type": "code",
   "execution_count": null,
   "id": "2c45dc15-8678-43f8-b25d-bb771c8ff4dc",
   "metadata": {},
   "outputs": [],
   "source": []
  },
  {
   "cell_type": "code",
   "execution_count": null,
   "id": "5910d6b5-657c-4c76-a7c0-463ee493a5cc",
   "metadata": {},
   "outputs": [],
   "source": []
  },
  {
   "cell_type": "code",
   "execution_count": null,
   "id": "8cf2c943-e674-4aac-b95a-4c79934bc95d",
   "metadata": {},
   "outputs": [],
   "source": []
  },
  {
   "cell_type": "code",
   "execution_count": null,
   "id": "ac697b1f-370a-45d3-a7cc-38d25121a23b",
   "metadata": {},
   "outputs": [],
   "source": []
  },
  {
   "cell_type": "code",
   "execution_count": null,
   "id": "67adbd84-2cb7-4f08-a638-038d7a1b88aa",
   "metadata": {},
   "outputs": [],
   "source": []
  },
  {
   "cell_type": "code",
   "execution_count": null,
   "id": "d97c39d8-765e-48bf-808c-badc16169ba0",
   "metadata": {},
   "outputs": [],
   "source": []
  },
  {
   "cell_type": "code",
   "execution_count": null,
   "id": "14180ad5-fe83-4bc7-a031-37adc2ded94e",
   "metadata": {},
   "outputs": [],
   "source": []
  },
  {
   "cell_type": "code",
   "execution_count": null,
   "id": "f1285f9e-b734-41c4-97b5-2df693508671",
   "metadata": {},
   "outputs": [],
   "source": []
  },
  {
   "cell_type": "code",
   "execution_count": null,
   "id": "9ccb8e82-da00-4283-8a8d-cb5932e24b27",
   "metadata": {},
   "outputs": [],
   "source": []
  },
  {
   "cell_type": "code",
   "execution_count": null,
   "id": "39199f71-46df-4e7b-9816-bf9d3bc3644e",
   "metadata": {},
   "outputs": [],
   "source": []
  },
  {
   "cell_type": "code",
   "execution_count": null,
   "id": "798592c9-793d-46ab-8ef3-3db50cb408e0",
   "metadata": {},
   "outputs": [],
   "source": []
  },
  {
   "cell_type": "code",
   "execution_count": null,
   "id": "2e5648dc-6935-4c77-a474-8a51d4dc28cd",
   "metadata": {},
   "outputs": [],
   "source": []
  },
  {
   "cell_type": "code",
   "execution_count": null,
   "id": "ed28609f-04db-4d04-bbc4-a2870826fb9b",
   "metadata": {},
   "outputs": [],
   "source": []
  },
  {
   "cell_type": "code",
   "execution_count": null,
   "id": "ba2f58ad-9e86-4725-a965-017848bd7a2b",
   "metadata": {},
   "outputs": [],
   "source": []
  },
  {
   "cell_type": "code",
   "execution_count": null,
   "id": "72480cf9-86eb-40f6-ad92-734ad81331ca",
   "metadata": {},
   "outputs": [],
   "source": []
  },
  {
   "cell_type": "code",
   "execution_count": null,
   "id": "0b01a4cd-5ffd-4c61-97dc-c348044b49f6",
   "metadata": {},
   "outputs": [],
   "source": []
  },
  {
   "cell_type": "code",
   "execution_count": null,
   "id": "8582ac78-54fd-4efe-903d-0582edbdb9a4",
   "metadata": {},
   "outputs": [],
   "source": []
  },
  {
   "cell_type": "code",
   "execution_count": null,
   "id": "1eb21914-d292-40c3-bbb4-a3ecd5c80633",
   "metadata": {},
   "outputs": [],
   "source": []
  },
  {
   "cell_type": "code",
   "execution_count": null,
   "id": "d0d77031-cc2d-4c26-a92d-e984ffea08c8",
   "metadata": {},
   "outputs": [],
   "source": []
  },
  {
   "cell_type": "code",
   "execution_count": null,
   "id": "ce4f3cdf-bc47-4fcc-b35f-a010a0c3f4dc",
   "metadata": {},
   "outputs": [],
   "source": []
  }
 ],
 "metadata": {
  "kernelspec": {
   "display_name": "Python (MTSP)",
   "language": "python",
   "name": "mtsp"
  },
  "language_info": {
   "codemirror_mode": {
    "name": "ipython",
    "version": 3
   },
   "file_extension": ".py",
   "mimetype": "text/x-python",
   "name": "python",
   "nbconvert_exporter": "python",
   "pygments_lexer": "ipython3",
   "version": "3.10.18"
  }
 },
 "nbformat": 4,
 "nbformat_minor": 5
}
