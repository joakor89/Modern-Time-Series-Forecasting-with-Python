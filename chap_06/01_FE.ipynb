{
 "cells": [
  {
   "cell_type": "markdown",
   "id": "7cee70f6-5520-4f9b-80a6-558383a11eab",
   "metadata": {},
   "source": [
    "# Feature Engineering\n",
    "\n",
    "### Loading Libraries"
   ]
  },
  {
   "cell_type": "code",
   "execution_count": 1,
   "id": "334759c2-0913-4846-962a-d3bb6279931f",
   "metadata": {},
   "outputs": [
    {
     "name": "stdout",
     "output_type": "stream",
     "text": [
      "/Users/joaquinromero/Desktop\n"
     ]
    }
   ],
   "source": [
    "%cd ../.."
   ]
  },
  {
   "cell_type": "code",
   "execution_count": 2,
   "id": "3ca7221a-e4a6-4b9a-829c-4ad56d869343",
   "metadata": {},
   "outputs": [],
   "source": [
    "# Numerical Computing\n",
    "import numpy as np\n",
    "\n",
    "# Data Manipulation\n",
    "import pandas as pd\n",
    "\n",
    "# Data Visualization\n",
    "import seaborn as sns\n",
    "import plotly.io as pio\n",
    "import plotly.express as px\n",
    "import matplotlib.pyplot as plt\n",
    "import plotly.graph_objects as go\n",
    "import plotly.figure_factory as ff\n",
    "from plotly.subplots import make_subplots\n",
    "\n",
    "# Warnings\n",
    "import warnings\n",
    "import humanize\n",
    "\n",
    "# IO & Requests\n",
    "import time\n",
    "import random\n",
    "import requests\n",
    "from io import StringIO\n",
    "\n",
    "# StatsModels\n",
    "import statsmodels.api as sm\n",
    "from statsmodels.tsa.seasonal import MSTL , DecomposeResult\n",
    "\n",
    "# OS\n",
    "import os\n",
    "import sys\n",
    "import pickleshare\n",
    "import missingno as msno\n",
    "from itertools import cycle\n",
    "\n",
    "# PyArrow\n",
    "import pyarrow as pa\n",
    "\n",
    "# FuncTools\n",
    "from functools import partial\n",
    "\n",
    "# Path & Notebook Optimizer\n",
    "from pathlib import Path\n",
    "import missingno as msno\n",
    "from tqdm.auto import tqdm\n",
    "\n",
    "# Scikit-Learn\n",
    "from sklearn.decomposition import PCA\n",
    "from sklearn.pipeline import Pipeline\n",
    "from sklearn.metrics import mean_absolute_error\n",
    "from sklearn.preprocessing import StandardScaler\n",
    "from sklearn.preprocessing import PolynomialFeatures\n",
    "from sklearn.linear_model import LinearRegression, Ridge, Lasso\n",
    "\n",
    "# IPython\n",
    "from IPython.display import display, HTML\n",
    "\n",
    "# NIXTLA\n",
    "from statsforecast.core import StatsForecast\n",
    "from utilsforecast.plotting import plot_series\n",
    "from utilsforecast.evaluation import evaluate\n",
    "\n",
    "# Forecast\n",
    "# from datasetsforecast.losses import *\n",
    "from utilsforecast.evaluation import evaluate\n",
    "\n",
    "from src.utils.general import LogTime"
   ]
  },
  {
   "cell_type": "code",
   "execution_count": 5,
   "id": "d053751e-ad0c-4651-a4d3-84b35fc48fba",
   "metadata": {},
   "outputs": [],
   "source": [
    "tqdm.pandas()\n",
    "\n",
    "np.random.seed(0)\n",
    "\n",
    "pio.templates.default = \"plotly_white\"\n",
    "\n",
    "sys.path.append('/Users/joaquinromero/Desktop/MTSF') "
   ]
  },
  {
   "cell_type": "code",
   "execution_count": 6,
   "id": "eb184255-d236-40f1-acef-73fc17fbe356",
   "metadata": {},
   "outputs": [],
   "source": [
    "from typing import List, Tuple\n",
    "\n",
    "from pandas.api.types import is_list_like\n",
    "\n",
    "from src.utils.data_utils import _get_32_bit_dtype "
   ]
  },
  {
   "cell_type": "code",
   "execution_count": 15,
   "id": "78b509db-bee5-49d2-b589-03d2563f3700",
   "metadata": {},
   "outputs": [],
   "source": [
    "from src.window_ops.rolling import (\n",
    "    seasonal_rolling_max,\n",
    "    seasonal_rolling_mean,\n",
    "    seasonal_rolling_min,\n",
    "    seasonal_rolling_std,\n",
    ")"
   ]
  },
  {
   "cell_type": "code",
   "execution_count": 16,
   "id": "0a912947-30a9-4b25-b5a2-4ccc850c3ff9",
   "metadata": {},
   "outputs": [],
   "source": [
    "warnings.filterwarnings(\"ignore\", category=UserWarning)\n",
    "\n",
    "warnings.filterwarnings(\"ignore\", category=FutureWarning)"
   ]
  },
  {
   "cell_type": "code",
   "execution_count": 17,
   "id": "fb5d063a-e8df-4eed-94c9-0a46bdad2edb",
   "metadata": {},
   "outputs": [],
   "source": [
    "os.makedirs(\"imgs/chapter_06\", exist_ok=True)\n",
    "\n",
    "preprocessed = Path.home() / \"Desktop\" / \"data\" / \"london_smart_meters\" / \"preprocessed\""
   ]
  },
  {
   "cell_type": "markdown",
   "id": "dfd0d984-108f-4be5-9b96-056aad886280",
   "metadata": {},
   "source": [
    "### Reading `The Preprocessed` Files"
   ]
  },
  {
   "cell_type": "code",
   "execution_count": 18,
   "id": "481e1567-76d2-4be1-9e0f-e3332d190bc8",
   "metadata": {},
   "outputs": [],
   "source": [
    "# Reading The Missing Value Imputed & Train/Test Split Data\n",
    "try:\n",
    "    train_df = pd.read_parquet(preprocessed/\"selected_blocks_train_missing_imputed.parquet\")\n",
    "    val_df = pd.read_parquet(preprocessed/\"selected_blocks_val_missing_imputed.parquet\")\n",
    "    test_df = pd.read_parquet(preprocessed/\"selected_blocks_test_missing_imputed.parquet\")\n",
    "except FileNotFoundError:\n",
    "    display(HTML(\"\"\"\n",
    "    <div class=\"alert alert-block alert-warning\">\n",
    "    <b>Warning!</b> File not found. Please make sure you have run 01-Setting up Experiment Harness.ipynb in Chapter04\n",
    "    </div>\n",
    "    \"\"\"))"
   ]
  },
  {
   "cell_type": "markdown",
   "id": "70be9eeb-0b0b-45cc-b547-df00a3a445b9",
   "metadata": {},
   "source": [
    "#### Combining The `Train, Validation and Test` Datasets for Feature Engineering"
   ]
  },
  {
   "cell_type": "code",
   "execution_count": 19,
   "id": "71892b55-c4f2-4f9b-94dc-1abb66a60818",
   "metadata": {},
   "outputs": [],
   "source": [
    "train_df[\"type\"] = \"train\"\n",
    "val_df[\"type\"] = \"val\"\n",
    "test_df[\"type\"] = \"test\"\n",
    "\n",
    "full_df = pd.concat([train_df, val_df, test_df]).sort_values([\"LCLid\", \"timestamp\"])\n",
    "del train_df, test_df, val_df"
   ]
  },
  {
   "cell_type": "markdown",
   "id": "8bb1bca5-767c-4b05-b32d-2522535dfe99",
   "metadata": {},
   "source": [
    "#### `Lag Features`"
   ]
  },
  {
   "cell_type": "code",
   "execution_count": 20,
   "id": "a1c80693-cb6e-40e8-a6cf-ddfe82c858ba",
   "metadata": {},
   "outputs": [
    {
     "ename": "ModuleNotFoundError",
     "evalue": "No module named 'window_ops'",
     "output_type": "error",
     "traceback": [
      "\u001b[0;31m---------------------------------------------------------------------------\u001b[0m",
      "\u001b[0;31mModuleNotFoundError\u001b[0m                       Traceback (most recent call last)",
      "Cell \u001b[0;32mIn[20], line 1\u001b[0m\n\u001b[0;32m----> 1\u001b[0m \u001b[38;5;28;01mfrom\u001b[39;00m\u001b[38;5;250m \u001b[39m\u001b[38;5;21;01msrc\u001b[39;00m\u001b[38;5;21;01m.\u001b[39;00m\u001b[38;5;21;01mfeature_engineering\u001b[39;00m\u001b[38;5;21;01m.\u001b[39;00m\u001b[38;5;21;01mautoregressive_features\u001b[39;00m\u001b[38;5;250m \u001b[39m\u001b[38;5;28;01mimport\u001b[39;00m add_lags\n",
      "File \u001b[0;32m~/Desktop/src/feature_engineering/autoregressive_features.py:6\u001b[0m\n\u001b[1;32m      4\u001b[0m \u001b[38;5;28;01mimport\u001b[39;00m\u001b[38;5;250m \u001b[39m\u001b[38;5;21;01mpandas\u001b[39;00m\u001b[38;5;250m \u001b[39m\u001b[38;5;28;01mas\u001b[39;00m\u001b[38;5;250m \u001b[39m\u001b[38;5;21;01mpd\u001b[39;00m\n\u001b[1;32m      5\u001b[0m \u001b[38;5;28;01mfrom\u001b[39;00m\u001b[38;5;250m \u001b[39m\u001b[38;5;21;01mpandas\u001b[39;00m\u001b[38;5;21;01m.\u001b[39;00m\u001b[38;5;21;01mapi\u001b[39;00m\u001b[38;5;21;01m.\u001b[39;00m\u001b[38;5;21;01mtypes\u001b[39;00m\u001b[38;5;250m \u001b[39m\u001b[38;5;28;01mimport\u001b[39;00m is_list_like\n\u001b[0;32m----> 6\u001b[0m \u001b[38;5;28;01mfrom\u001b[39;00m\u001b[38;5;250m \u001b[39m\u001b[38;5;21;01mwindow_ops\u001b[39;00m\u001b[38;5;21;01m.\u001b[39;00m\u001b[38;5;21;01mrolling\u001b[39;00m\u001b[38;5;250m \u001b[39m\u001b[38;5;28;01mimport\u001b[39;00m (\n\u001b[1;32m      7\u001b[0m     seasonal_rolling_max,\n\u001b[1;32m      8\u001b[0m     seasonal_rolling_mean,\n\u001b[1;32m      9\u001b[0m     seasonal_rolling_min,\n\u001b[1;32m     10\u001b[0m     seasonal_rolling_std,\n\u001b[1;32m     11\u001b[0m )\n\u001b[1;32m     13\u001b[0m \u001b[38;5;28;01mfrom\u001b[39;00m\u001b[38;5;250m \u001b[39m\u001b[38;5;21;01msrc\u001b[39;00m\u001b[38;5;21;01m.\u001b[39;00m\u001b[38;5;21;01mutils\u001b[39;00m\u001b[38;5;21;01m.\u001b[39;00m\u001b[38;5;21;01mdata_utils\u001b[39;00m\u001b[38;5;250m \u001b[39m\u001b[38;5;28;01mimport\u001b[39;00m _get_32_bit_dtype\n\u001b[1;32m     15\u001b[0m ALLOWED_AGG_FUNCS \u001b[38;5;241m=\u001b[39m [\u001b[38;5;124m\"\u001b[39m\u001b[38;5;124mmean\u001b[39m\u001b[38;5;124m\"\u001b[39m, \u001b[38;5;124m\"\u001b[39m\u001b[38;5;124mmax\u001b[39m\u001b[38;5;124m\"\u001b[39m, \u001b[38;5;124m\"\u001b[39m\u001b[38;5;124mmin\u001b[39m\u001b[38;5;124m\"\u001b[39m, \u001b[38;5;124m\"\u001b[39m\u001b[38;5;124mstd\u001b[39m\u001b[38;5;124m\"\u001b[39m]\n",
      "\u001b[0;31mModuleNotFoundError\u001b[0m: No module named 'window_ops'"
     ]
    }
   ],
   "source": [
    "from src.feature_engineering.autoregressive_features import add_lags"
   ]
  },
  {
   "cell_type": "code",
   "execution_count": null,
   "id": "2eb68a52-8c4d-4d06-b5b8-b305aca443d8",
   "metadata": {},
   "outputs": [],
   "source": [
    "lags = (\n",
    "    (np.arange(5) + 1).tolist()\n",
    "    + (np.arange(5) + 46).tolist()\n",
    "    + (np.arange(5) + (48 * 7) - 2).tolist()\n",
    ")\n",
    "lags"
   ]
  },
  {
   "cell_type": "code",
   "execution_count": 36,
   "id": "58740c89-c374-4ca9-8b49-039cf5f28f0c",
   "metadata": {},
   "outputs": [
    {
     "ename": "NameError",
     "evalue": "name 'touch' is not defined",
     "output_type": "error",
     "traceback": [
      "\u001b[0;31m---------------------------------------------------------------------------\u001b[0m",
      "\u001b[0;31mNameError\u001b[0m                                 Traceback (most recent call last)",
      "Cell \u001b[0;32mIn[36], line 1\u001b[0m\n\u001b[0;32m----> 1\u001b[0m \u001b[43mtouch\u001b[49m \u001b[38;5;241m/\u001b[39mUsers\u001b[38;5;241m/\u001b[39mjoaquinromero\u001b[38;5;241m/\u001b[39mDesktop\u001b[38;5;241m/\u001b[39mMTSF\u001b[38;5;241m/\u001b[39msrc\u001b[38;5;241m/\u001b[39mwindow_ops\u001b[38;5;241m/\u001b[39m\u001b[38;5;21m__init__\u001b[39m\u001b[38;5;241m.\u001b[39mpy\n",
      "\u001b[0;31mNameError\u001b[0m: name 'touch' is not defined"
     ]
    }
   ],
   "source": [
    "touch /Users/joaquinromero/Desktop/MTSF/src/window_ops/__init__.py"
   ]
  },
  {
   "cell_type": "code",
   "execution_count": null,
   "id": "a20ae28c-ba51-41e3-b902-bf4ec2b7991f",
   "metadata": {},
   "outputs": [],
   "source": [
    "with LogTime():\n",
    "    full_df, added_features = add_lags(\n",
    "        full_df, lags=lags, column=\"energy_consumption\", ts_id=\"LCLid\", use_32_bit=True\n",
    "    )\n",
    "print(f\"Features Created: {','.join(added_features)}\")"
   ]
  },
  {
   "cell_type": "markdown",
   "id": "885138db-0632-4a14-ac43-354915287724",
   "metadata": {},
   "source": [
    "### Rolling"
   ]
  },
  {
   "cell_type": "code",
   "execution_count": null,
   "id": "d717f82a-84c4-480f-af56-e47d6a501ae4",
   "metadata": {},
   "outputs": [],
   "source": [
    "from src.feature_engineering.autoregressive_features import add_rolling_features"
   ]
  },
  {
   "cell_type": "code",
   "execution_count": null,
   "id": "17dd279f-257c-4123-bbd7-288e457e7524",
   "metadata": {},
   "outputs": [],
   "source": [
    "with LogTime():\n",
    "    full_df, added_features = add_rolling_features(\n",
    "        full_df,\n",
    "        rolls=[3, 6, 12, 48],\n",
    "        column=\"energy_consumption\",\n",
    "        agg_funcs=[\"mean\", \"std\"],\n",
    "        ts_id=\"LCLid\",\n",
    "        use_32_bit=True,\n",
    "    )\n",
    "print(f\"Features Created: {','.join(added_features)}\")"
   ]
  },
  {
   "cell_type": "markdown",
   "id": "e0b3744c-6704-48ba-b6bc-ae708a2dc9f5",
   "metadata": {},
   "source": [
    "### Seasonal Rolling"
   ]
  },
  {
   "cell_type": "code",
   "execution_count": null,
   "id": "ff69648d-481e-4d1b-b31f-4c3410b785af",
   "metadata": {},
   "outputs": [],
   "source": [
    "from src.feature_engineering.autoregressive_features import (\n",
    "    add_seasonal_rolling_features,\n",
    ")"
   ]
  },
  {
   "cell_type": "code",
   "execution_count": null,
   "id": "a28b5b5d-b910-453b-b086-7d0f81ee70b8",
   "metadata": {},
   "outputs": [],
   "source": [
    "with LogTime():\n",
    "    full_df, added_features = add_seasonal_rolling_features(\n",
    "        full_df,\n",
    "        rolls=[3],\n",
    "        seasonal_periods=[48, 48 * 7],\n",
    "        column=\"energy_consumption\",\n",
    "        agg_funcs=[\"mean\", \"std\"],\n",
    "        ts_id=\"LCLid\",\n",
    "        use_32_bit=True,\n",
    "    )\n",
    "print(f\"Features Created: {','.join(added_features)}\")"
   ]
  },
  {
   "cell_type": "markdown",
   "id": "99118443-3ae0-474a-bc47-9154cdf5033f",
   "metadata": {},
   "source": [
    "### EWMA"
   ]
  },
  {
   "cell_type": "code",
   "execution_count": null,
   "id": "55916e8e-a171-40bc-963e-5cedccc7509d",
   "metadata": {},
   "outputs": [],
   "source": [
    "from src.feature_engineering.autoregressive_features import add_ewma"
   ]
  },
  {
   "cell_type": "code",
   "execution_count": null,
   "id": "08763c2e-f04f-4a97-bd7a-bf5525dd9d06",
   "metadata": {},
   "outputs": [],
   "source": [
    "t = np.arange(25).tolist()\n",
    "plot_df = pd.DataFrame({\"Timesteps behind t\": t})\n",
    "for alpha in [0.3, 0.5, 0.8]:\n",
    "    weights = [alpha * math.pow((1 - alpha), i) for i in t]\n",
    "    span = (2 - alpha) / alpha\n",
    "    halflife = math.log(1 - alpha) / math.log(0.5)\n",
    "    plot_df[f\"Alpha={alpha} | Span={span:.2f}\"] = weights\n",
    "\n",
    "fig = px.line(\n",
    "    pd.melt(plot_df, id_vars=\"Timesteps behind t\", var_name=\"Parameters\"),\n",
    "    x=\"Timesteps behind t\",\n",
    "    y=\"value\",\n",
    "    facet_col=\"Parameters\",\n",
    ")\n",
    "fig.update_layout(\n",
    "    autosize=False,\n",
    "    width=1200,\n",
    "    height=500,\n",
    "    yaxis=dict(\n",
    "        title_text=\"Weights\",\n",
    "        titlefont=dict(size=15),\n",
    "        tickfont=dict(size=15),\n",
    "    ),\n",
    "    xaxis=dict(\n",
    "        titlefont=dict(size=15),\n",
    "        tickfont=dict(size=15),\n",
    "    ),\n",
    ")\n",
    "fig.update_annotations(font=dict(size=16))\n",
    "fig.write_image(f\"imgs/chapter_06/ewma_weights.png\")\n",
    "fig.show()"
   ]
  },
  {
   "cell_type": "code",
   "execution_count": null,
   "id": "e3b7badb-0343-4cb7-9d16-cba6be0078b2",
   "metadata": {},
   "outputs": [],
   "source": [
    "with LogTime():\n",
    "    # full_df, added_features = add_ewma(full_df, alphas=[0.2, 0.5, 0.9], column=\"energy_consumption\", ts_id=\"LCLid\", use_32_bit=True)\n",
    "    full_df, added_features = add_ewma(\n",
    "        full_df,\n",
    "        spans=[48 * 60, 48 * 7, 48],\n",
    "        column=\"energy_consumption\",\n",
    "        ts_id=\"LCLid\",\n",
    "        use_32_bit=True,\n",
    "    )\n",
    "print(f\"Features Created: {','.join(added_features)}\")"
   ]
  },
  {
   "cell_type": "markdown",
   "id": "301bd645-a440-4588-bb76-22c751bdb517",
   "metadata": {},
   "source": [
    "### Temporal Features"
   ]
  },
  {
   "cell_type": "code",
   "execution_count": null,
   "id": "aa14b4d9-f50b-4baf-9475-fa4c69795fe7",
   "metadata": {},
   "outputs": [],
   "source": [
    "from src.feature_engineering.temporal_features import add_temporal_features"
   ]
  },
  {
   "cell_type": "code",
   "execution_count": null,
   "id": "142cebd1-2c4d-4153-85e3-5b62ad9369bf",
   "metadata": {},
   "outputs": [],
   "source": [
    "with LogTime():\n",
    "    full_df, added_features = add_temporal_features(\n",
    "        full_df,\n",
    "        field_name=\"timestamp\",\n",
    "        frequency=\"30min\",\n",
    "        add_elapsed=True,\n",
    "        drop=False,\n",
    "        use_32_bit=True,\n",
    "    )\n",
    "print(f\"Features Created: {','.join(added_features)}\")"
   ]
  },
  {
   "cell_type": "markdown",
   "id": "7b94798d-4889-4d45-b310-f54c37f519de",
   "metadata": {},
   "source": [
    "### Fourier Terms"
   ]
  },
  {
   "cell_type": "code",
   "execution_count": null,
   "id": "25ddf122-533d-4563-8728-aa20393bb99c",
   "metadata": {},
   "outputs": [],
   "source": [
    "from src.feature_engineering.temporal_features import (\n",
    "    add_fourier_features,\n",
    "    bulk_add_fourier_features,\n",
    ")"
   ]
  },
  {
   "cell_type": "code",
   "execution_count": null,
   "id": "dfeb9d4c-ec3c-4f19-94b3-5ed4302d0968",
   "metadata": {},
   "outputs": [],
   "source": [
    "# train_df, added_features = add_fourier_features(train_df, \"timestamp_Month\", max_value=12, n_fourier_terms=1)"
   ]
  },
  {
   "cell_type": "code",
   "execution_count": null,
   "id": "39f48358-6a5e-453e-acb9-d92de9c0c05a",
   "metadata": {},
   "outputs": [],
   "source": [
    "with LogTime():\n",
    "    full_df, added_features = bulk_add_fourier_features(\n",
    "        full_df,\n",
    "        [\"timestamp_Month\", \"timestamp_Hour\", \"timestamp_Minute\"],\n",
    "        max_values=[12, 24, 60],\n",
    "        n_fourier_terms=5,\n",
    "        use_32_bit=True,\n",
    "    )\n",
    "print(f\"Features Created: {','.join(added_features)}\")"
   ]
  },
  {
   "cell_type": "code",
   "execution_count": null,
   "id": "ecfe3bd0-65e7-4294-8ecf-019425bf0e99",
   "metadata": {},
   "outputs": [],
   "source": [
    "full_df.columns"
   ]
  },
  {
   "cell_type": "markdown",
   "id": "ac088a6b-4932-40ee-9ffe-e305e93ebb4a",
   "metadata": {},
   "source": [
    "#### Plotting Fourier Terms"
   ]
  },
  {
   "cell_type": "code",
   "execution_count": null,
   "id": "8fbbad66-be6a-4d9d-8051-aa5e81726c48",
   "metadata": {},
   "outputs": [],
   "source": [
    "plot_df = (\n",
    "    full_df[[\"timestamp_Month\", \"timestamp_Month_sin_1\"]]\n",
    "    .drop_duplicates()\n",
    "    .sort_values(\"timestamp_Month\")\n",
    ")\n",
    "\n",
    "plot_df.columns = [\"calendar\", \"fourier\"]\n",
    "\n",
    "plot_df = pd.concat([plot_df, plot_df, plot_df]).reset_index(drop=True)\n",
    "# plot_df.reset_index(drop=True, inplace=True)\n",
    "\n",
    "plot_df.reset_index(inplace=True)\n",
    "plot_df[\"index\"] += 1\n",
    "plot_df = pd.melt(\n",
    "    plot_df, id_vars=\"index\", var_name=\"month\", value_name=\"Representation\"\n",
    ")"
   ]
  },
  {
   "cell_type": "code",
   "execution_count": null,
   "id": "a4af77d3-2304-4ba9-9a2c-7e53d5c2ebef",
   "metadata": {},
   "outputs": [],
   "source": [
    "fig = px.line(plot_df, x=\"index\", y=\"Representation\", facet_row=\"month\")\n",
    "fig.update_layout(\n",
    "    autosize=False,\n",
    "    width=900,\n",
    "    height=800,\n",
    "    title_text=\"Step Function vs Continuous Function\",\n",
    "    title={\"x\": 0.5, \"xanchor\": \"center\", \"yanchor\": \"top\"},\n",
    "    titlefont={\"size\": 20},\n",
    "    legend_title=None,\n",
    "    # yaxis=dict(\n",
    "    #     # title_text=ylabel,\n",
    "    #     # titlefont=dict(size=12),\n",
    "    # ),\n",
    "    xaxis=dict(\n",
    "        title_text=\"Time\",\n",
    "        # titlefont=dict(size=12),\n",
    "    ),\n",
    ")\n",
    "fig.update_yaxes(matches=None)\n",
    "fig.update_xaxes(\n",
    "    ticktext=np.arange(1, 13).tolist() * 3,\n",
    "    tickvals=np.arange(len(plot_df)) + 1,\n",
    ")\n",
    "fig.write_image(f\"imgs/chapter_6/fourier.png\")\n",
    "fig.show()"
   ]
  },
  {
   "cell_type": "markdown",
   "id": "80ff3da5-8d56-43c9-85b2-722af14e95a6",
   "metadata": {},
   "source": [
    "## Saving The `Feature Engineered` File"
   ]
  },
  {
   "cell_type": "code",
   "execution_count": null,
   "id": "e892f58d-ec23-473a-a67a-090fe8e33ed7",
   "metadata": {},
   "outputs": [],
   "source": [
    "full_df.info(memory_usage=\"deep\", verbose=False)"
   ]
  },
  {
   "cell_type": "code",
   "execution_count": null,
   "id": "a7d3636c-147f-4cfc-897d-6be976e1a59d",
   "metadata": {},
   "outputs": [],
   "source": [
    "full_df[full_df[\"type\"] == \"train\"].drop(columns=\"type\").to_parquet(\n",
    "    preprocessed / \"selected_blocks_train_missing_imputed_feature_engg.parquet\"\n",
    ")\n",
    "full_df[full_df[\"type\"] == \"val\"].drop(columns=\"type\").to_parquet(\n",
    "    preprocessed / \"selected_blocks_val_missing_imputed_feature_engg.parquet\"\n",
    ")\n",
    "full_df[full_df[\"type\"] == \"test\"].drop(columns=\"type\").to_parquet(\n",
    "    preprocessed / \"selected_blocks_test_missing_imputed_feature_engg.parquet\"\n",
    ")"
   ]
  },
  {
   "cell_type": "code",
   "execution_count": null,
   "id": "6d38b2b9-5f52-4c8a-bb85-33bdfec183d0",
   "metadata": {},
   "outputs": [],
   "source": []
  },
  {
   "cell_type": "code",
   "execution_count": null,
   "id": "be2456ce-c698-4fc5-a996-87a69f6a4c81",
   "metadata": {},
   "outputs": [],
   "source": []
  },
  {
   "cell_type": "code",
   "execution_count": null,
   "id": "aad3c7ba-6968-496b-8e9e-f73ec435c470",
   "metadata": {},
   "outputs": [],
   "source": []
  }
 ],
 "metadata": {
  "kernelspec": {
   "display_name": "Python 3 (ipykernel)",
   "language": "python",
   "name": "python3"
  },
  "language_info": {
   "codemirror_mode": {
    "name": "ipython",
    "version": 3
   },
   "file_extension": ".py",
   "mimetype": "text/x-python",
   "name": "python",
   "nbconvert_exporter": "python",
   "pygments_lexer": "ipython3",
   "version": "3.10.18"
  }
 },
 "nbformat": 4,
 "nbformat_minor": 5
}
