{
 "cells": [
  {
   "cell_type": "markdown",
   "id": "a0ca1f8b-06c3-4d9a-bcd2-1f6f4eb19566",
   "metadata": {},
   "source": [
    "# TSMixer NeuralForecast\n",
    "\n",
    "### Loading Libraries"
   ]
  },
  {
   "cell_type": "code",
   "execution_count": null,
   "id": "09845d37-e996-486d-8c82-37f7ad31ba06",
   "metadata": {},
   "outputs": [],
   "source": [
    "%cd ../.."
   ]
  },
  {
   "cell_type": "code",
   "execution_count": null,
   "id": "f3fb358f-d511-4c0b-b32d-6678c1395c04",
   "metadata": {},
   "outputs": [],
   "source": [
    "# First, install the missing package\n",
    "!pip install neuralforecast\n",
    "!pip install hyperopt\n",
    "\n",
    "# Numerical Computing\n",
    "import numpy as np\n",
    "\n",
    "# Data Manipulation\n",
    "import pandas as pd\n",
    "\n",
    "# OS \n",
    "import os\n",
    "import shutil\n",
    "import joblib\n",
    "\n",
    "# Data Visualization\n",
    "import seaborn as sns\n",
    "import plotly.io as pio\n",
    "import plotly.express as px\n",
    "import matplotlib.pyplot as plt\n",
    "import plotly.graph_objects as go\n",
    "\n",
    "# JavaScript Object Notation\n",
    "import json\n",
    "\n",
    "# Path\n",
    "from pathlib import Path\n",
    "from tqdm.autonotebook import tqdm\n",
    "\n",
    "# IPython & Itertools\n",
    "from itertools import cycle\n",
    "from IPython.display import display, HTML\n",
    "\n",
    "# Stats Forecast\n",
    "from statsforecast import StatsForecast\n",
    "\n",
    "# NeuralForecast - will work after installation\n",
    "from neuralforecast import NeuralForecast\n",
    "from neuralforecast.models import NBEATS\n",
    "from neuralforecast.auto import AutoNBEATS\n",
    "from neuralforecast.losses.pytorch import MQLoss\n",
    "\n",
    "from statsforecast import StatsForecast\n",
    "from neuralforecast import NeuralForecast\n",
    "from neuralforecast.models import NHITS\n",
    "from neuralforecast.auto import AutoNHITS\n",
    "from neuralforecast.losses.pytorch import MQLoss\n",
    "\n",
    "# FuncTools\n",
    "from functools import partial"
   ]
  },
  {
   "cell_type": "code",
   "execution_count": null,
   "id": "3910c2fe-52fc-4260-856e-2360745e05fc",
   "metadata": {},
   "outputs": [],
   "source": [
    "TRAIN_SUBSAMPLE = True  # Trains a subsample of IDs to improve run speed\n",
    "\n",
    "RETUNE = True  # if false, will use pre-trained hyperparameters when generating the AUTO NeuralForecast"
   ]
  },
  {
   "cell_type": "code",
   "execution_count": null,
   "id": "a34e76d1-52da-4151-84a3-17ed6810ddff",
   "metadata": {},
   "outputs": [],
   "source": [
    "preprocessed = Path(\"data/london_smart_meters/preprocessed\")\n",
    "\n",
    "output = Path(\"data/london_smart_meters/output\")\n",
    "\n",
    "try:\n",
    "    #Reading the missing value imputed and train test split data\n",
    "    train_df = pd.read_parquet(preprocessed/\"selected_blocks_train_missing_imputed_feature_engg.parquet\")\n",
    "    # Read in the Validation dataset as test_df so that we predict on it\n",
    "    test_df = pd.read_parquet(preprocessed/\"selected_blocks_val_missing_imputed_feature_engg.parquet\")\n",
    "    # test_df = pd.read_parquet(preprocessed/\"selected_blocks_test_missing_imputed_feature_engg.parquet\")\n",
    "except FileNotFoundError:\n",
    "    display(HTML(\"\"\"\n",
    "    <div class=\"alert alert-block alert-warning\">\n",
    "    <b>Warning!</b> File not found. Please make sure you have run 01-Feature Engineering.ipynb in Chapter06\n",
    "    </div>\n",
    "    \"\"\"))"
   ]
  },
  {
   "cell_type": "markdown",
   "id": "a8977836-b9f1-4b2c-950a-4245719b6fb9",
   "metadata": {},
   "source": [
    "#### Retreiving Data"
   ]
  },
  {
   "cell_type": "code",
   "execution_count": null,
   "id": "f6ea9fe5-806f-4339-b670-0213f8455b63",
   "metadata": {},
   "outputs": [],
   "source": [
    "train_df.head(2)"
   ]
  },
  {
   "cell_type": "code",
   "execution_count": null,
   "id": "78b2fffd-4a19-43e4-9496-00f75e81eff9",
   "metadata": {},
   "outputs": [],
   "source": [
    "print(\"Total # of IDs Pre-Sampling: \", len(train_df.LCLid.unique()))"
   ]
  },
  {
   "cell_type": "code",
   "execution_count": null,
   "id": "9933bd6d-3180-4a27-b32b-5847ad171ebb",
   "metadata": {},
   "outputs": [],
   "source": [
    "StatsForecast.plot(train_df,\n",
    "                   engine='matplotlib',\n",
    "                   id_col='LCLid',\n",
    "                   time_col= 'timestamp',\n",
    "                   target_col='energy_consumption')"
   ]
  },
  {
   "cell_type": "code",
   "execution_count": null,
   "id": "75fb46e0-b2a1-403a-ada0-077bb2703c10",
   "metadata": {},
   "outputs": [],
   "source": [
    "# To run on smaller set of data for daster iteration.\n",
    "if TRAIN_SUBSAMPLE:\n",
    "    print(\"sub sampling\")\n",
    "    SAMPLE = 10\n",
    "    sampled_LCLids = pd.Series(train_df.LCLid.unique().remove_unused_categories().categories).sample(SAMPLE, random_state=99).tolist()\n",
    "    train_df = train_df.loc[train_df.LCLid.isin(sampled_LCLids)]\n",
    "    test_df = test_df.loc[test_df.LCLid.isin(sampled_LCLids)]"
   ]
  },
  {
   "cell_type": "code",
   "execution_count": null,
   "id": "44579f99-fb5c-4cdd-82ab-35b4927b6918",
   "metadata": {},
   "outputs": [],
   "source": [
    "print(\"Total # of IDs Post Sampling: \", len(train_df.LCLid.unique()))"
   ]
  },
  {
   "cell_type": "markdown",
   "id": "0f5fa5a4-2fcb-42dc-92f9-82d0a17ba58b",
   "metadata": {},
   "source": [
    "### Train, Validation, Test Set"
   ]
  },
  {
   "cell_type": "code",
   "execution_count": null,
   "id": "dc17b314-15b6-4152-86b2-b5c71e4a3dc2",
   "metadata": {},
   "outputs": [],
   "source": [
    "print(\"Training Min Date: \", train_df.timestamp.min(), \n",
    "      \"\\nTraining Max Date: \", train_df.timestamp.max(), \n",
    "      \"\\nTesting Min Date: \", test_df.timestamp.min(),\n",
    "      \"\\nTesting Max Date: \", test_df.timestamp.max()\n",
    ")"
   ]
  },
  {
   "cell_type": "code",
   "execution_count": null,
   "id": "d0a47f1f-96ac-4263-baba-8b1a796ef3e7",
   "metadata": {},
   "outputs": [],
   "source": [
    "#Keeping 1 days aside as a validation set\n",
    "cutoff = train_df.timestamp.max() - pd.Timedelta(1, \"D\")\n",
    "\n",
    "validation_df = train_df[(train_df.timestamp>cutoff)].reset_index(drop=True) # validation prediction set\n",
    "training_df = train_df[(train_df.timestamp<=cutoff)].reset_index(drop=True) # training set used for validation set\n",
    "\n",
    "print(f\"Train Max: {training_df.timestamp.max()} \\nValidation Min: {validation_df.timestamp.min()} \\nValidation Max: {validation_df.timestamp.max()}\")\n",
    "print(f\"Validation Horizon: {len(validation_df.timestamp.unique())}\")"
   ]
  },
  {
   "cell_type": "code",
   "execution_count": null,
   "id": "4e767978-1083-4a2a-9b58-35c6278545bc",
   "metadata": {},
   "outputs": [],
   "source": [
    "h = 48\n",
    "\n",
    "max_steps = 100"
   ]
  },
  {
   "cell_type": "markdown",
   "id": "bf555d50-fcef-4a59-aca9-1a158b428a8b",
   "metadata": {},
   "source": [
    "### Training TSMixer Model"
   ]
  },
  {
   "cell_type": "code",
   "execution_count": null,
   "id": "b776b483-23f8-4247-a090-6e6656cebe14",
   "metadata": {},
   "outputs": [],
   "source": [
    "training_df[['LCLid']].nunique()[0]"
   ]
  },
  {
   "cell_type": "code",
   "execution_count": null,
   "id": "142fb206-b9a0-4542-bdee-707d67d3c644",
   "metadata": {},
   "outputs": [],
   "source": [
    "len(training_df['LCLid'].unique())"
   ]
  },
  {
   "cell_type": "code",
   "execution_count": null,
   "id": "245c7e1b-ce5b-4366-8044-74978c7e5bf7",
   "metadata": {},
   "outputs": [],
   "source": [
    "model_untuned = [TSMixer (h=h, input_size = 48*7, \n",
    "                max_steps = max_steps,\n",
    "                n_series = len(training_df['LCLid'].unique()))]\n",
    "\n",
    "model_untuned = NeuralForecast(models=model_untuned, freq='30min')\n",
    "\n",
    "model_untuned.fit(training_df[['LCLid','timestamp','energy_consumption']],\n",
    "                  id_col = 'LCLid',\n",
    "                  time_col = 'timestamp',\n",
    "                  target_col='energy_consumption')"
   ]
  },
  {
   "cell_type": "code",
   "execution_count": null,
   "id": "7fa5244b-0046-479b-a4ff-cb04501c0cc9",
   "metadata": {},
   "outputs": [],
   "source": [
    "# Get Predictions for validation\n",
    "pred_df =  model_untuned.predict(futr_df=validation_df[['LCLid','timestamp','energy_consumption']]).reset_index()\n",
    "pred_df = pred_df.merge(validation_df[['LCLid','timestamp','energy_consumption']], on=['LCLid','timestamp'], how='left')\n",
    "pred_df.head()"
   ]
  },
  {
   "cell_type": "code",
   "execution_count": null,
   "id": "17229407-07cf-4f7d-bdab-cc6a40918413",
   "metadata": {},
   "outputs": [],
   "source": [
    "#visualize results\n",
    "StatsForecast.plot(validation_df[['LCLid','timestamp','energy_consumption']], \n",
    "                   pred_df, engine='matplotlib', \n",
    "                   id_col='LCLid',\n",
    "                   time_col= 'timestamp', \n",
    "                   target_col='energy_consumption',\n",
    "                   models=['TSMixer'])"
   ]
  },
  {
   "cell_type": "markdown",
   "id": "474ce56f-4b3f-4b6e-82dd-1dff09621b25",
   "metadata": {},
   "source": [
    "#### Evaluate TSMixer Forecast"
   ]
  },
  {
   "cell_type": "code",
   "execution_count": null,
   "id": "76745f74-2c19-41df-8981-27ed286bedbd",
   "metadata": {},
   "outputs": [],
   "source": [
    "fcst_mase = partial(mase, seasonality=48)\n",
    "\n",
    "# Get metrics for individual LCLid's\n",
    "TSMixer_metrics = evaluate(pred_df, \n",
    "        metrics=[rmse, mae, mse, fcst_mase],  \n",
    "        train_df = train_df[['timestamp', 'LCLid', 'energy_consumption']],      \n",
    "        id_col = 'LCLid',\n",
    "        time_col = 'timestamp',\n",
    "        target_col = 'energy_consumption'\n",
    "        )\n",
    "\n",
    "# Get aggregated metrics for across all LCLid's by model\n",
    "TSMixer_metrics_agg = evaluate(pred_df, \n",
    "        metrics=[rmse, mae, mse, fcst_mase],  \n",
    "        train_df = train_df[['timestamp', 'LCLid', 'energy_consumption']],      \n",
    "        id_col = 'LCLid',\n",
    "        time_col = 'timestamp',\n",
    "        target_col = 'energy_consumption',\n",
    "        agg_fn='mean'\n",
    "        )"
   ]
  },
  {
   "cell_type": "code",
   "execution_count": null,
   "id": "cf802408-caa9-4412-8d3a-673f836e5168",
   "metadata": {},
   "outputs": [],
   "source": [
    "TSMixer_metrics_agg"
   ]
  },
  {
   "cell_type": "markdown",
   "id": "0d57c38e-474f-4795-b7b3-a2528b4a8d87",
   "metadata": {},
   "source": [
    "### TSMixer Tuned"
   ]
  },
  {
   "cell_type": "code",
   "execution_count": null,
   "id": "5e5961a9-f3a0-4d22-9849-217ba7b17aeb",
   "metadata": {},
   "outputs": [],
   "source": [
    "# Define the file path\n",
    "config_file_path = 'notebooks/Chapter16/saved_params_config/TSMixer_best_config.json'\n",
    "try:\n",
    "    with open(config_file_path, 'r') as config_file:\n",
    "        loaded_config = json.load(config_file)\n",
    "        print(loaded_config)\n",
    "except FileNotFoundError:\n",
    "    display(HTML(\"\"\"\n",
    "    <div class=\"alert alert-block alert-warning\">\n",
    "    <b>Warning!</b> File not found. \n",
    "    </div>\n",
    "    \"\"\"))"
   ]
  },
  {
   "cell_type": "code",
   "execution_count": null,
   "id": "0f5d3d60-8dd3-4a3f-bacc-ab9fe6423b3f",
   "metadata": {},
   "outputs": [],
   "source": [
    "TSMixer_config = {\n",
    "    \"max_steps\": max_steps,  # This parameter can be adjusted if needed\n",
    "    \"input_size\": tune.choice([h,h*7,h*7*2,h*7*3]), # Size of input window\n",
    "    \"learning_rate\": tune.loguniform(1e-4, 1e-1),  # Initial learning rate\n",
    "    \"scaler_type\": tune.choice([\"minmax\", \"standard\"]),\n",
    "    \"batch_size\": tune.choice([32, 64,128, 256]),\n",
    "    \"random_seed\": tune.choice([10, 20,30]),\n",
    "}\n",
    "\n",
    "if RETUNE == True:\n",
    "    models = [AutoTSMixer(h=h, \n",
    "                     config = TSMixer_config,\n",
    "                     search_alg = HyperOptSearch(),\n",
    "                     backend = 'ray',\n",
    "                     num_samples = 100,\n",
    "                     #cpus=10,\n",
    "                     loss=MSE(),\n",
    "                     valid_loss=MAE(), \n",
    "                     n_series = len(training_df['LCLid'].unique()) \n",
    "                     )]\n",
    "\n",
    "else:\n",
    "    models = [AutoTSMixer(h=h, \n",
    "                    config = loaded_config,\n",
    "                    search_alg = None,\n",
    "                    backend = 'ray',\n",
    "                    #cpus=1\n",
    "                    )]\n",
    "\n",
    "\n",
    "model_tuned = NeuralForecast(models=models, freq='30min')\n",
    "\n",
    "model_tuned.fit(training_df[['LCLid','timestamp','energy_consumption']],\n",
    "                id_col = 'LCLid',\n",
    "                time_col = 'timestamp',\n",
    "                target_col='energy_consumption',\n",
    "                val_size = 48)"
   ]
  },
  {
   "cell_type": "code",
   "execution_count": null,
   "id": "2a8c2780-a9d7-49d6-be2d-981da537f82c",
   "metadata": {},
   "outputs": [],
   "source": [
    "TSMixer_best_config = model_tuned.models[0].results.get_best_result().config\n",
    "\n",
    "# Remove specific keys using the pop method and then saving so we can extract parameters later\n",
    "TSMixer_best_config.pop(\"loss\", None)\n",
    "TSMixer_best_config.pop(\"valid_loss\", None)\n",
    "TSMixer_best_config.pop(\"h\", None)\n",
    "\n",
    "# Save the filtered configuration to a JSON file\n",
    "with open(config_file_path, 'w') as config_file:\n",
    "    json.dump(TSMixer_best_config, config_file, indent=4)\n",
    "\n",
    "print(\"Best configuration as string:\")\n",
    "print(TSMixer_config)"
   ]
  },
  {
   "cell_type": "code",
   "execution_count": null,
   "id": "fd2c3cc1-0439-4fbc-aca4-4cdafad1a150",
   "metadata": {},
   "outputs": [],
   "source": [
    "results = model_tuned.models[0].results.get_dataframe()\n",
    "\n",
    "results[['loss', 'train_loss', 'timestamp', \n",
    "       'training_iteration', \n",
    "        'config/max_steps', 'config/input_size',\n",
    "       'config/learning_rate', 'config/h', 'config/loss',\n",
    "       ]].head(2)"
   ]
  },
  {
   "cell_type": "code",
   "execution_count": null,
   "id": "4874bf0e-3e3a-4871-970f-50aa7f4812d5",
   "metadata": {},
   "outputs": [],
   "source": [
    "pred_df_autoTSMixer = model_tuned.predict(futr_df=validation_df[['LCLid','timestamp','energy_consumption']]).reset_index()\n",
    "pred_df = pred_df_autoTSMixer.merge(pred_df[['LCLid','timestamp','energy_consumption','TSMixer']], on=['LCLid','timestamp'], how='left')\n",
    "pred_df.head()"
   ]
  },
  {
   "cell_type": "code",
   "execution_count": null,
   "id": "19806777-72e8-4999-9e67-f64f7b8f889c",
   "metadata": {},
   "outputs": [],
   "source": [
    "fcst_mase = partial(mase, seasonality=48)\n",
    "\n",
    "autoTSMixer_metrics = evaluate(pred_df, \n",
    "        metrics=[rmse, mae, mse, fcst_mase],  \n",
    "        train_df = train_df[['timestamp', 'LCLid', 'energy_consumption']],      \n",
    "        id_col = 'LCLid',\n",
    "        time_col = 'timestamp',\n",
    "        target_col = 'energy_consumption'\n",
    "        )\n",
    "\n",
    "autoTSMixer_metrics_agg = evaluate(pred_df, \n",
    "        metrics=[rmse, mae, mse, fcst_mase],  \n",
    "        train_df = train_df[['timestamp', 'LCLid', 'energy_consumption']],      \n",
    "        id_col = 'LCLid',\n",
    "        time_col = 'timestamp',\n",
    "        target_col = 'energy_consumption',\n",
    "        agg_fn='mean'\n",
    "        )"
   ]
  },
  {
   "cell_type": "code",
   "execution_count": null,
   "id": "e6e5e560-66d1-4905-8903-dc45e34f673c",
   "metadata": {},
   "outputs": [],
   "source": [
    "autoTSMixer_metrics_agg"
   ]
  },
  {
   "cell_type": "code",
   "execution_count": null,
   "id": "2c279bd7-7c6b-4fba-ae4e-1ea641a2239f",
   "metadata": {},
   "outputs": [],
   "source": []
  },
  {
   "cell_type": "code",
   "execution_count": null,
   "id": "13cd3fcb-d664-4f41-ae54-99744347c7f4",
   "metadata": {},
   "outputs": [],
   "source": []
  },
  {
   "cell_type": "code",
   "execution_count": null,
   "id": "45f6393a-fd7a-4e10-bb3f-cbb73c95e2c5",
   "metadata": {},
   "outputs": [],
   "source": []
  },
  {
   "cell_type": "code",
   "execution_count": null,
   "id": "4408bea1-b3a7-451f-9059-c418464a733b",
   "metadata": {},
   "outputs": [],
   "source": []
  },
  {
   "cell_type": "code",
   "execution_count": null,
   "id": "2817923c-6798-4b85-82e7-35a59bb6397f",
   "metadata": {},
   "outputs": [],
   "source": []
  },
  {
   "cell_type": "code",
   "execution_count": null,
   "id": "ba65a75d-3eae-43cb-9f45-79e0f7e17203",
   "metadata": {},
   "outputs": [],
   "source": []
  },
  {
   "cell_type": "code",
   "execution_count": null,
   "id": "5f4e46fc-4e25-4b7d-b085-b020ad2c2f57",
   "metadata": {},
   "outputs": [],
   "source": []
  },
  {
   "cell_type": "code",
   "execution_count": null,
   "id": "580dbb7a-d28e-46da-a3ce-7738be24c982",
   "metadata": {},
   "outputs": [],
   "source": []
  },
  {
   "cell_type": "code",
   "execution_count": null,
   "id": "e65fcdb8-295c-4212-9990-fabf81ba3403",
   "metadata": {},
   "outputs": [],
   "source": []
  },
  {
   "cell_type": "code",
   "execution_count": null,
   "id": "7d708591-5084-4de9-a792-2cec6ae9a579",
   "metadata": {},
   "outputs": [],
   "source": []
  },
  {
   "cell_type": "code",
   "execution_count": null,
   "id": "85b93b4c-4883-4ef6-9c3b-6ebddf8c99eb",
   "metadata": {},
   "outputs": [],
   "source": []
  },
  {
   "cell_type": "code",
   "execution_count": null,
   "id": "2cad488c-14b3-40ab-a0b5-a94300204d13",
   "metadata": {},
   "outputs": [],
   "source": []
  },
  {
   "cell_type": "code",
   "execution_count": null,
   "id": "5b9eb6fe-0f05-43ef-a032-b002c6fddcef",
   "metadata": {},
   "outputs": [],
   "source": []
  },
  {
   "cell_type": "code",
   "execution_count": null,
   "id": "36254b79-1cf6-42e7-9d4b-71f20c7f4372",
   "metadata": {},
   "outputs": [],
   "source": []
  },
  {
   "cell_type": "code",
   "execution_count": null,
   "id": "0a726d77-7d9d-4ff6-b7a7-a90c6ea6ec09",
   "metadata": {},
   "outputs": [],
   "source": []
  },
  {
   "cell_type": "code",
   "execution_count": null,
   "id": "e5a2b828-aabf-4d44-8dc8-9dd7c9a2b937",
   "metadata": {},
   "outputs": [],
   "source": []
  },
  {
   "cell_type": "code",
   "execution_count": null,
   "id": "0931dc62-31dd-48f9-9541-b10ada20240f",
   "metadata": {},
   "outputs": [],
   "source": []
  },
  {
   "cell_type": "code",
   "execution_count": null,
   "id": "7118102a-80ee-4e93-bc41-16543eb47ff1",
   "metadata": {},
   "outputs": [],
   "source": []
  },
  {
   "cell_type": "code",
   "execution_count": null,
   "id": "61d3ad30-9c49-4a71-bb0b-c782a788c3b2",
   "metadata": {},
   "outputs": [],
   "source": []
  },
  {
   "cell_type": "code",
   "execution_count": null,
   "id": "88143165-8eb8-4311-90a2-92fbb16483ed",
   "metadata": {},
   "outputs": [],
   "source": []
  },
  {
   "cell_type": "code",
   "execution_count": null,
   "id": "0d47fd1e-434e-4c47-847f-7f6e30e8b98e",
   "metadata": {},
   "outputs": [],
   "source": []
  },
  {
   "cell_type": "code",
   "execution_count": null,
   "id": "fea0577f-e957-4947-aede-4eae33170b62",
   "metadata": {},
   "outputs": [],
   "source": []
  },
  {
   "cell_type": "code",
   "execution_count": null,
   "id": "734b9e64-ff66-44a3-b46b-c8a977cdf3fb",
   "metadata": {},
   "outputs": [],
   "source": []
  },
  {
   "cell_type": "code",
   "execution_count": null,
   "id": "e71d5b71-4f07-484b-a9a4-2c679aa420c8",
   "metadata": {},
   "outputs": [],
   "source": []
  }
 ],
 "metadata": {
  "kernelspec": {
   "display_name": "Python (MTSP)",
   "language": "python",
   "name": "mtsp"
  },
  "language_info": {
   "codemirror_mode": {
    "name": "ipython",
    "version": 3
   },
   "file_extension": ".py",
   "mimetype": "text/x-python",
   "name": "python",
   "nbconvert_exporter": "python",
   "pygments_lexer": "ipython3",
   "version": "3.10.18"
  }
 },
 "nbformat": 4,
 "nbformat_minor": 5
}
