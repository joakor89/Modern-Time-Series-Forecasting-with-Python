{
 "cells": [
  {
   "cell_type": "markdown",
   "id": "f15657f6-bbfe-4fc5-849a-05628dd15875",
   "metadata": {},
   "source": [
    "# Autoformer Forecast\n",
    "\n",
    "### Loading Libraries"
   ]
  },
  {
   "cell_type": "code",
   "execution_count": 1,
   "id": "4b9dfdab-cf18-4b89-8b04-c886b98a25c6",
   "metadata": {},
   "outputs": [
    {
     "name": "stdout",
     "output_type": "stream",
     "text": [
      "/Users/joaquinromero/Desktop\n"
     ]
    }
   ],
   "source": [
    "%cd ../.."
   ]
  },
  {
   "cell_type": "code",
   "execution_count": 2,
   "id": "65f8d4ff-0bc8-46df-a741-f902b0960e28",
   "metadata": {},
   "outputs": [
    {
     "name": "stdout",
     "output_type": "stream",
     "text": [
      "Requirement already satisfied: neuralforecast in /opt/anaconda3/lib/python3.12/site-packages (3.0.2)\n",
      "Requirement already satisfied: coreforecast>=0.0.6 in /opt/anaconda3/lib/python3.12/site-packages (from neuralforecast) (0.0.16)\n",
      "Requirement already satisfied: fsspec in /opt/anaconda3/lib/python3.12/site-packages (from neuralforecast) (2024.6.1)\n",
      "Requirement already satisfied: numpy>=1.21.6 in /opt/anaconda3/lib/python3.12/site-packages (from neuralforecast) (1.26.4)\n",
      "Requirement already satisfied: pandas>=1.3.5 in /opt/anaconda3/lib/python3.12/site-packages (from neuralforecast) (1.5.3)\n",
      "Requirement already satisfied: torch<=2.6.0,>=2.0.0 in /opt/anaconda3/lib/python3.12/site-packages (from neuralforecast) (2.6.0)\n",
      "Requirement already satisfied: pytorch-lightning>=2.0.0 in /opt/anaconda3/lib/python3.12/site-packages (from neuralforecast) (2.5.4)\n",
      "Requirement already satisfied: ray>=2.2.0 in /opt/anaconda3/lib/python3.12/site-packages (from ray[tune]>=2.2.0->neuralforecast) (2.49.0)\n",
      "Requirement already satisfied: optuna in /opt/anaconda3/lib/python3.12/site-packages (from neuralforecast) (4.5.0)\n",
      "Requirement already satisfied: utilsforecast>=0.2.3 in /opt/anaconda3/lib/python3.12/site-packages (from neuralforecast) (0.2.12)\n",
      "Requirement already satisfied: python-dateutil>=2.8.1 in /opt/anaconda3/lib/python3.12/site-packages (from pandas>=1.3.5->neuralforecast) (2.9.0.post0)\n",
      "Requirement already satisfied: pytz>=2020.1 in /opt/anaconda3/lib/python3.12/site-packages (from pandas>=1.3.5->neuralforecast) (2025.2)\n",
      "Requirement already satisfied: tqdm>=4.57.0 in /opt/anaconda3/lib/python3.12/site-packages (from pytorch-lightning>=2.0.0->neuralforecast) (4.66.5)\n",
      "Requirement already satisfied: PyYAML>5.4 in /opt/anaconda3/lib/python3.12/site-packages (from pytorch-lightning>=2.0.0->neuralforecast) (6.0.1)\n",
      "Requirement already satisfied: torchmetrics>0.7.0 in /opt/anaconda3/lib/python3.12/site-packages (from pytorch-lightning>=2.0.0->neuralforecast) (1.8.1)\n",
      "Requirement already satisfied: packaging>=20.0 in /opt/anaconda3/lib/python3.12/site-packages (from pytorch-lightning>=2.0.0->neuralforecast) (25.0)\n",
      "Requirement already satisfied: typing-extensions>4.5.0 in /opt/anaconda3/lib/python3.12/site-packages (from pytorch-lightning>=2.0.0->neuralforecast) (4.11.0)\n",
      "Requirement already satisfied: lightning-utilities>=0.10.0 in /opt/anaconda3/lib/python3.12/site-packages (from pytorch-lightning>=2.0.0->neuralforecast) (0.15.2)\n",
      "Requirement already satisfied: click>=7.0 in /opt/anaconda3/lib/python3.12/site-packages (from ray>=2.2.0->ray[tune]>=2.2.0->neuralforecast) (8.1.7)\n",
      "Requirement already satisfied: filelock in /opt/anaconda3/lib/python3.12/site-packages (from ray>=2.2.0->ray[tune]>=2.2.0->neuralforecast) (3.13.1)\n",
      "Requirement already satisfied: jsonschema in /opt/anaconda3/lib/python3.12/site-packages (from ray>=2.2.0->ray[tune]>=2.2.0->neuralforecast) (4.23.0)\n",
      "Requirement already satisfied: msgpack<2.0.0,>=1.0.0 in /opt/anaconda3/lib/python3.12/site-packages (from ray>=2.2.0->ray[tune]>=2.2.0->neuralforecast) (1.0.3)\n",
      "Requirement already satisfied: protobuf>=3.20.3 in /opt/anaconda3/lib/python3.12/site-packages (from ray>=2.2.0->ray[tune]>=2.2.0->neuralforecast) (4.25.3)\n",
      "Requirement already satisfied: requests in /opt/anaconda3/lib/python3.12/site-packages (from ray>=2.2.0->ray[tune]>=2.2.0->neuralforecast) (2.32.3)\n",
      "Requirement already satisfied: tensorboardX>=1.9 in /opt/anaconda3/lib/python3.12/site-packages (from ray[tune]>=2.2.0->neuralforecast) (2.6.4)\n",
      "Requirement already satisfied: pyarrow>=9.0.0 in /opt/anaconda3/lib/python3.12/site-packages (from ray[tune]>=2.2.0->neuralforecast) (16.1.0)\n",
      "Requirement already satisfied: networkx in /opt/anaconda3/lib/python3.12/site-packages (from torch<=2.6.0,>=2.0.0->neuralforecast) (3.3)\n",
      "Requirement already satisfied: jinja2 in /opt/anaconda3/lib/python3.12/site-packages (from torch<=2.6.0,>=2.0.0->neuralforecast) (3.1.4)\n",
      "Requirement already satisfied: setuptools in /opt/anaconda3/lib/python3.12/site-packages (from torch<=2.6.0,>=2.0.0->neuralforecast) (75.1.0)\n",
      "Requirement already satisfied: sympy==1.13.1 in /opt/anaconda3/lib/python3.12/site-packages (from torch<=2.6.0,>=2.0.0->neuralforecast) (1.13.1)\n",
      "Requirement already satisfied: mpmath<1.4,>=1.1.0 in /opt/anaconda3/lib/python3.12/site-packages (from sympy==1.13.1->torch<=2.6.0,>=2.0.0->neuralforecast) (1.3.0)\n",
      "Requirement already satisfied: alembic>=1.5.0 in /opt/anaconda3/lib/python3.12/site-packages (from optuna->neuralforecast) (1.13.3)\n",
      "Requirement already satisfied: colorlog in /opt/anaconda3/lib/python3.12/site-packages (from optuna->neuralforecast) (6.9.0)\n",
      "Requirement already satisfied: sqlalchemy>=1.4.2 in /opt/anaconda3/lib/python3.12/site-packages (from optuna->neuralforecast) (2.0.34)\n",
      "Requirement already satisfied: Mako in /opt/anaconda3/lib/python3.12/site-packages (from alembic>=1.5.0->optuna->neuralforecast) (1.2.3)\n",
      "Requirement already satisfied: aiohttp!=4.0.0a0,!=4.0.0a1 in /opt/anaconda3/lib/python3.12/site-packages (from fsspec[http]>=2022.5.0->pytorch-lightning>=2.0.0->neuralforecast) (3.10.5)\n",
      "Requirement already satisfied: six>=1.5 in /opt/anaconda3/lib/python3.12/site-packages (from python-dateutil>=2.8.1->pandas>=1.3.5->neuralforecast) (1.17.0)\n",
      "Requirement already satisfied: MarkupSafe>=2.0 in /opt/anaconda3/lib/python3.12/site-packages (from jinja2->torch<=2.6.0,>=2.0.0->neuralforecast) (2.1.3)\n",
      "Requirement already satisfied: attrs>=22.2.0 in /opt/anaconda3/lib/python3.12/site-packages (from jsonschema->ray>=2.2.0->ray[tune]>=2.2.0->neuralforecast) (23.1.0)\n",
      "Requirement already satisfied: jsonschema-specifications>=2023.03.6 in /opt/anaconda3/lib/python3.12/site-packages (from jsonschema->ray>=2.2.0->ray[tune]>=2.2.0->neuralforecast) (2023.7.1)\n",
      "Requirement already satisfied: referencing>=0.28.4 in /opt/anaconda3/lib/python3.12/site-packages (from jsonschema->ray>=2.2.0->ray[tune]>=2.2.0->neuralforecast) (0.30.2)\n",
      "Requirement already satisfied: rpds-py>=0.7.1 in /opt/anaconda3/lib/python3.12/site-packages (from jsonschema->ray>=2.2.0->ray[tune]>=2.2.0->neuralforecast) (0.10.6)\n",
      "Requirement already satisfied: charset-normalizer<4,>=2 in /opt/anaconda3/lib/python3.12/site-packages (from requests->ray>=2.2.0->ray[tune]>=2.2.0->neuralforecast) (3.3.2)\n",
      "Requirement already satisfied: idna<4,>=2.5 in /opt/anaconda3/lib/python3.12/site-packages (from requests->ray>=2.2.0->ray[tune]>=2.2.0->neuralforecast) (3.7)\n",
      "Requirement already satisfied: urllib3<3,>=1.21.1 in /opt/anaconda3/lib/python3.12/site-packages (from requests->ray>=2.2.0->ray[tune]>=2.2.0->neuralforecast) (2.2.3)\n",
      "Requirement already satisfied: certifi>=2017.4.17 in /opt/anaconda3/lib/python3.12/site-packages (from requests->ray>=2.2.0->ray[tune]>=2.2.0->neuralforecast) (2025.1.31)\n",
      "Requirement already satisfied: aiohappyeyeballs>=2.3.0 in /opt/anaconda3/lib/python3.12/site-packages (from aiohttp!=4.0.0a0,!=4.0.0a1->fsspec[http]>=2022.5.0->pytorch-lightning>=2.0.0->neuralforecast) (2.4.0)\n",
      "Requirement already satisfied: aiosignal>=1.1.2 in /opt/anaconda3/lib/python3.12/site-packages (from aiohttp!=4.0.0a0,!=4.0.0a1->fsspec[http]>=2022.5.0->pytorch-lightning>=2.0.0->neuralforecast) (1.2.0)\n",
      "Requirement already satisfied: frozenlist>=1.1.1 in /opt/anaconda3/lib/python3.12/site-packages (from aiohttp!=4.0.0a0,!=4.0.0a1->fsspec[http]>=2022.5.0->pytorch-lightning>=2.0.0->neuralforecast) (1.4.0)\n",
      "Requirement already satisfied: multidict<7.0,>=4.5 in /opt/anaconda3/lib/python3.12/site-packages (from aiohttp!=4.0.0a0,!=4.0.0a1->fsspec[http]>=2022.5.0->pytorch-lightning>=2.0.0->neuralforecast) (6.0.4)\n",
      "Requirement already satisfied: yarl<2.0,>=1.0 in /opt/anaconda3/lib/python3.12/site-packages (from aiohttp!=4.0.0a0,!=4.0.0a1->fsspec[http]>=2022.5.0->pytorch-lightning>=2.0.0->neuralforecast) (1.11.0)\n"
     ]
    },
    {
     "name": "stderr",
     "output_type": "stream",
     "text": [
      "/var/folders/m3/3_zd43kn4nn3q52cpx_b38g00000gn/T/ipykernel_3498/381074789.py:27: TqdmExperimentalWarning: Using `tqdm.autonotebook.tqdm` in notebook mode. Use `tqdm.tqdm` instead to force console mode (e.g. in jupyter console)\n",
      "  from tqdm.autonotebook import tqdm\n"
     ]
    }
   ],
   "source": [
    "# First, install the missing package\n",
    "!pip install neuralforecast\n",
    "\n",
    "# Numerical Computing\n",
    "import numpy as np\n",
    "\n",
    "# Data Manipulation\n",
    "import pandas as pd\n",
    "\n",
    "# OS \n",
    "import os\n",
    "import shutil\n",
    "import joblib\n",
    "\n",
    "# Data Visualization\n",
    "import seaborn as sns\n",
    "import plotly.io as pio\n",
    "import plotly.express as px\n",
    "import matplotlib.pyplot as plt\n",
    "import plotly.graph_objects as go\n",
    "\n",
    "# JavaScript Object Notation\n",
    "import json\n",
    "\n",
    "# Path\n",
    "from pathlib import Path\n",
    "from tqdm.autonotebook import tqdm\n",
    "\n",
    "# IPython & Itertools\n",
    "from itertools import cycle\n",
    "from IPython.display import display, HTML\n",
    "\n",
    "# Stats Forecast\n",
    "from statsforecast import StatsForecast\n",
    "\n",
    "# NeuralForecast - will work after installation\n",
    "from neuralforecast import NeuralForecast\n",
    "from neuralforecast.models import NBEATS\n",
    "from neuralforecast.auto import AutoNBEATS\n",
    "from neuralforecast.losses.pytorch import MQLoss\n",
    "\n",
    "from statsforecast import StatsForecast\n",
    "from neuralforecast import NeuralForecast\n",
    "from neuralforecast.models import NHITS\n",
    "from neuralforecast.auto import AutoNHITS\n",
    "from neuralforecast.losses.pytorch import MQLoss\n",
    "\n",
    "# FuncTools\n",
    "from functools import partial"
   ]
  },
  {
   "cell_type": "code",
   "execution_count": 4,
   "id": "7b05ddb1-a942-41ff-9887-0ca335e219f3",
   "metadata": {},
   "outputs": [],
   "source": [
    "from ray import tune\n",
    "\n",
    "from ray.tune.search.hyperopt import HyperOptSearch"
   ]
  },
  {
   "cell_type": "code",
   "execution_count": null,
   "id": "d3cef858-7847-4045-97e8-3c1f38d8a94d",
   "metadata": {},
   "outputs": [],
   "source": [
    "TRAIN_SUBSAMPLE = True  # Trains a subsample of IDs to improve run speed\n",
    "\n",
    "RETUNE = True  # if false, will use pre-trained hyperparameters when generating the AUTO NeuralForecast"
   ]
  },
  {
   "cell_type": "code",
   "execution_count": null,
   "id": "6a9e78b6-6de7-44c0-b458-b9bf336a88c6",
   "metadata": {},
   "outputs": [],
   "source": []
  },
  {
   "cell_type": "code",
   "execution_count": null,
   "id": "4cbb0ded-560f-4c68-8612-db29f85823e4",
   "metadata": {},
   "outputs": [],
   "source": []
  },
  {
   "cell_type": "code",
   "execution_count": null,
   "id": "d47da6df-26b2-413d-956d-e2c5eeb69dea",
   "metadata": {},
   "outputs": [],
   "source": []
  }
 ],
 "metadata": {
  "kernelspec": {
   "display_name": "Python (MTSP)",
   "language": "python",
   "name": "mtsp"
  },
  "language_info": {
   "codemirror_mode": {
    "name": "ipython",
    "version": 3
   },
   "file_extension": ".py",
   "mimetype": "text/x-python",
   "name": "python",
   "nbconvert_exporter": "python",
   "pygments_lexer": "ipython3",
   "version": "3.10.18"
  }
 },
 "nbformat": 4,
 "nbformat_minor": 5
}
