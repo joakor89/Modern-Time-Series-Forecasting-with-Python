{
 "cells": [
  {
   "cell_type": "markdown",
   "id": "951df1cf-26f7-439d-9d40-465a14384d8e",
   "metadata": {},
   "source": [
    "# NLinear NeuralForecast\n",
    "\n",
    "### Loading Libraries"
   ]
  },
  {
   "cell_type": "code",
   "execution_count": null,
   "id": "464e4ec8-4215-4480-950d-b556796553e0",
   "metadata": {},
   "outputs": [],
   "source": [
    "%cd ../.."
   ]
  },
  {
   "cell_type": "code",
   "execution_count": null,
   "id": "03e9671c-501e-4460-874a-bb3f11ac6f00",
   "metadata": {},
   "outputs": [],
   "source": [
    "# First, install the missing package\n",
    "!pip install neuralforecast\n",
    "\n",
    "# Numerical Computing\n",
    "import numpy as np\n",
    "\n",
    "# Data Manipulation\n",
    "import pandas as pd\n",
    "\n",
    "# OS \n",
    "import os\n",
    "import shutil\n",
    "import joblib\n",
    "\n",
    "# Data Visualization\n",
    "import seaborn as sns\n",
    "import plotly.io as pio\n",
    "import plotly.express as px\n",
    "import matplotlib.pyplot as plt\n",
    "import plotly.graph_objects as go\n",
    "\n",
    "# JavaScript Object Notation\n",
    "import json\n",
    "\n",
    "# Path\n",
    "from pathlib import Path\n",
    "from tqdm.autonotebook import tqdm\n",
    "\n",
    "# IPython & Itertools\n",
    "from itertools import cycle\n",
    "from IPython.display import display, HTML\n",
    "\n",
    "# Stats Forecast\n",
    "from statsforecast import StatsForecast\n",
    "\n",
    "# NeuralForecast - will work after installation\n",
    "from neuralforecast import NeuralForecast\n",
    "from neuralforecast.models import NBEATS\n",
    "from neuralforecast.auto import AutoNBEATS\n",
    "from neuralforecast.losses.pytorch import MQLoss\n",
    "\n",
    "from statsforecast import StatsForecast\n",
    "from neuralforecast import NeuralForecast\n",
    "from neuralforecast.models import NHITS\n",
    "from neuralforecast.auto import AutoNHITS\n",
    "from neuralforecast.losses.pytorch import MQLoss\n",
    "\n",
    "# FuncTools\n",
    "from functools import partial"
   ]
  },
  {
   "cell_type": "code",
   "execution_count": null,
   "id": "06c3f1f3-c851-45b9-a10b-884767ba8d89",
   "metadata": {},
   "outputs": [],
   "source": [
    "# %load_ext autoreload\n",
    "\n",
    "# %autoreload 2"
   ]
  },
  {
   "cell_type": "code",
   "execution_count": null,
   "id": "4a4c45b2-38fc-4430-9ba1-f8e0f7321f72",
   "metadata": {},
   "outputs": [],
   "source": [
    "tqdm.pandas()\n",
    "\n",
    "np.random.seed(42)\n",
    "\n",
    "sns.set_style(\"whitegrid\")\n",
    "\n",
    "pio.templates.default = \"plotly_white\""
   ]
  },
  {
   "cell_type": "code",
   "execution_count": null,
   "id": "2022c7e9-e227-45d0-9e04-56f3d3fd0cbb",
   "metadata": {},
   "outputs": [],
   "source": [
    "os.makedirs(\"imgs/chapter_16\", exist_ok=True)\n",
    "\n",
    "preprocessed = Path.home() / \"Desktop\" / \"data\" / \"london_smart_meters\" / \"preprocessed\"\n",
    "\n",
    "output = Path.home() / \"Desktop\" / \"data\" / \"london_smart_meters\" / \"output\""
   ]
  },
  {
   "cell_type": "code",
   "execution_count": null,
   "id": "e03d9c40-659e-4f7c-a03c-4c4ef635d6c0",
   "metadata": {},
   "outputs": [],
   "source": [
    "from ray import tune\n",
    "\n",
    "from ray.tune.search.hyperopt import HyperOptSearch"
   ]
  },
  {
   "cell_type": "code",
   "execution_count": null,
   "id": "edd3c864-c9de-47bf-905d-6484d10d9b28",
   "metadata": {},
   "outputs": [],
   "source": [
    "TRAIN_SUBSAMPLE = True  # Trains a subsample of IDs to improve run speed\n",
    "\n",
    "RETUNE = True  # if false, will use pre-trained hyperparameters when generating the AUTO NeuralForecast"
   ]
  },
  {
   "cell_type": "code",
   "execution_count": null,
   "id": "8f3f9131-15e7-4804-828b-81c5c697b369",
   "metadata": {},
   "outputs": [],
   "source": [
    "preprocessed = Path(\"data/london_smart_meters/preprocessed\")\n",
    "\n",
    "output = Path(\"data/london_smart_meters/output\")\n",
    "\n",
    "try:\n",
    "    #Reading the missing value imputed and train test split data\n",
    "    train_df = pd.read_parquet(preprocessed/\"selected_blocks_train_missing_imputed_feature_engg.parquet\")\n",
    "    # Read in the Validation dataset as test_df so that we predict on it\n",
    "    test_df = pd.read_parquet(preprocessed/\"selected_blocks_val_missing_imputed_feature_engg.parquet\")\n",
    "    # test_df = pd.read_parquet(preprocessed/\"selected_blocks_test_missing_imputed_feature_engg.parquet\")\n",
    "except FileNotFoundError:\n",
    "    display(HTML(\"\"\"\n",
    "    <div class=\"alert alert-block alert-warning\">\n",
    "    <b>Warning!</b> File not found. Please make sure you have run 01-Feature Engineering.ipynb in Chapter06\n",
    "    </div>\n",
    "    \"\"\"))"
   ]
  },
  {
   "cell_type": "markdown",
   "id": "aaa4e0f9-0d59-4f0b-b03b-5ca83c43f456",
   "metadata": {},
   "source": [
    "#### Retreiving Data"
   ]
  },
  {
   "cell_type": "code",
   "execution_count": null,
   "id": "ce49d90e-54e2-4782-b7ce-7db56e5d9b51",
   "metadata": {},
   "outputs": [],
   "source": [
    "train_df.head(2)"
   ]
  },
  {
   "cell_type": "code",
   "execution_count": null,
   "id": "87cf9c69-ba2b-4e1f-b534-d7c823ac65f9",
   "metadata": {},
   "outputs": [],
   "source": [
    "print(\"Total # of IDs Pre-Sampling: \", len(train_df.LCLid.unique()))"
   ]
  },
  {
   "cell_type": "code",
   "execution_count": null,
   "id": "4287167f-22f2-486a-b675-893c2b5b60a5",
   "metadata": {},
   "outputs": [],
   "source": [
    "StatsForecast.plot(train_df,\n",
    "                   engine='matplotlib',\n",
    "                   id_col='LCLid',\n",
    "                   time_col= 'timestamp',\n",
    "                   target_col='energy_consumption')"
   ]
  },
  {
   "cell_type": "code",
   "execution_count": null,
   "id": "fb3ce0b0-1c27-4e66-9c09-fda3325c5283",
   "metadata": {},
   "outputs": [],
   "source": [
    "# To run on smaller set of data for daster iteration.\n",
    "if TRAIN_SUBSAMPLE:\n",
    "    print(\"sub sampling\")\n",
    "    SAMPLE = 10\n",
    "    sampled_LCLids = pd.Series(train_df.LCLid.unique().remove_unused_categories().categories).sample(SAMPLE, random_state=99).tolist()\n",
    "    train_df = train_df.loc[train_df.LCLid.isin(sampled_LCLids)]\n",
    "    test_df = test_df.loc[test_df.LCLid.isin(sampled_LCLids)]"
   ]
  },
  {
   "cell_type": "code",
   "execution_count": null,
   "id": "a834bec2-8b2b-45e5-914b-53d66302bcb3",
   "metadata": {},
   "outputs": [],
   "source": [
    "print(\"Total # of IDs Post Sampling: \", len(train_df.LCLid.unique()))"
   ]
  },
  {
   "cell_type": "markdown",
   "id": "9a9bfd16-ba1f-40cf-a37f-921fd5267d19",
   "metadata": {},
   "source": [
    "### Train, Validation, Test Set"
   ]
  },
  {
   "cell_type": "code",
   "execution_count": null,
   "id": "523de328-bbd2-4a17-951d-51a7aab83240",
   "metadata": {},
   "outputs": [],
   "source": [
    "print(\"Training Min Date: \", train_df.timestamp.min(), \n",
    "      \"\\nTraining Max Date: \", train_df.timestamp.max(), \n",
    "      \"\\nTesting Min Date: \", test_df.timestamp.min(),\n",
    "      \"\\nTesting Max Date: \", test_df.timestamp.max()\n",
    ")"
   ]
  },
  {
   "cell_type": "code",
   "execution_count": null,
   "id": "b5de2830-7363-4871-8bf9-eff26d90b989",
   "metadata": {},
   "outputs": [],
   "source": [
    "# Keeping 1 days aside as a validation set\n",
    "cutoff = train_df.timestamp.max() - pd.Timedelta(1, \"D\")\n",
    "\n",
    "validation_df = train_df[(train_df.timestamp>cutoff)].reset_index(drop=True) # validation prediction set\n",
    "training_df = train_df[(train_df.timestamp<=cutoff)].reset_index(drop=True) # training set used for validation set\n",
    "\n",
    "print(f\"Train Max: {training_df.timestamp.max()} \\nValidation Min: {validation_df.timestamp.min()} \\nValidation Max: {validation_df.timestamp.max()}\")\n",
    "print(f\"Validation Horizon: {len(validation_df.timestamp.unique())}\")"
   ]
  },
  {
   "cell_type": "markdown",
   "id": "ded14c3a-9d67-4e59-9ccf-514fad6a3c76",
   "metadata": {},
   "source": [
    "##### Defining Validation Model Parameters"
   ]
  },
  {
   "cell_type": "code",
   "execution_count": null,
   "id": "17506861-710b-4235-8105-e9932ea30957",
   "metadata": {},
   "outputs": [],
   "source": [
    "h = 48\n",
    "\n",
    "max_steps = 100"
   ]
  },
  {
   "cell_type": "markdown",
   "id": "5ac1842f-8dd6-409d-ab9d-5ff2ab58a1bd",
   "metadata": {},
   "source": [
    "### Training NLinear Model"
   ]
  },
  {
   "cell_type": "code",
   "execution_count": null,
   "id": "134f2f6a-7302-4830-b568-2d24c3ed435e",
   "metadata": {},
   "outputs": [],
   "source": [
    "training_df[['LCLid']].nunique()[0]"
   ]
  },
  {
   "cell_type": "code",
   "execution_count": null,
   "id": "2dab57e7-6bb8-4bac-b54b-3863cc57f19c",
   "metadata": {},
   "outputs": [],
   "source": [
    "len(training_df['LCLid'].unique())"
   ]
  },
  {
   "cell_type": "code",
   "execution_count": null,
   "id": "6dc90b46-1097-4c2f-b8f8-437a2e209351",
   "metadata": {},
   "outputs": [],
   "source": [
    "model_untuned = [NLinear (h=h, input_size = 48*7, \n",
    "                max_steps = max_steps,)]\n",
    "\n",
    "model_untuned = NeuralForecast(models=model_untuned, freq='30min')\n",
    "\n",
    "model_untuned.fit(training_df[['LCLid','timestamp','energy_consumption']],\n",
    "                  id_col = 'LCLid',\n",
    "                  time_col = 'timestamp',\n",
    "                  target_col='energy_consumption')"
   ]
  },
  {
   "cell_type": "code",
   "execution_count": null,
   "id": "49cd6d6c-81e7-45b8-acde-d1e224850820",
   "metadata": {},
   "outputs": [],
   "source": [
    "# Get Predictions for validation\n",
    "pred_df =  model_untuned.predict(futr_df=validation_df[['LCLid','timestamp','energy_consumption']]).reset_index()\n",
    "pred_df = pred_df.merge(validation_df[['LCLid','timestamp','energy_consumption']], on=['LCLid','timestamp'], how='left')\n",
    "pred_df.head()"
   ]
  },
  {
   "cell_type": "code",
   "execution_count": null,
   "id": "82a684ab-362a-4bb5-b136-16b58e0080d5",
   "metadata": {},
   "outputs": [],
   "source": [
    "# Visualize Results\n",
    "StatsForecast.plot(validation_df[['LCLid','timestamp','energy_consumption']], \n",
    "                   pred_df, engine='matplotlib', \n",
    "                   id_col='LCLid',\n",
    "                   time_col= 'timestamp', \n",
    "                   target_col='energy_consumption',\n",
    "                   models=['NLinear'])"
   ]
  },
  {
   "cell_type": "markdown",
   "id": "c482ba91-cce7-471c-b8d7-1897dab6c603",
   "metadata": {},
   "source": [
    "#### Evaluate NLinear Forecast"
   ]
  },
  {
   "cell_type": "code",
   "execution_count": null,
   "id": "42197fc3-7e98-45b9-9d99-122a7e3707b8",
   "metadata": {},
   "outputs": [],
   "source": [
    "fcst_mase = partial(mase, seasonality=48)\n",
    "\n",
    "# Get metrics for individual LCLid's\n",
    "NLinear_metrics = evaluate(pred_df, \n",
    "        metrics=[rmse, mae, mse, fcst_mase],  \n",
    "        train_df = train_df[['timestamp', 'LCLid', 'energy_consumption']],      \n",
    "        id_col = 'LCLid',\n",
    "        time_col = 'timestamp',\n",
    "        target_col = 'energy_consumption'\n",
    "        )\n",
    "\n",
    "# Get aggregated metrics for across all LCLid's by model\n",
    "NLinear_metrics_agg = evaluate(pred_df, \n",
    "        metrics=[rmse, mae, mse, fcst_mase],  \n",
    "        train_df = train_df[['timestamp', 'LCLid', 'energy_consumption']],      \n",
    "        id_col = 'LCLid',\n",
    "        time_col = 'timestamp',\n",
    "        target_col = 'energy_consumption',\n",
    "        agg_fn='mean'\n",
    "        )"
   ]
  },
  {
   "cell_type": "code",
   "execution_count": null,
   "id": "da69b551-18da-4668-a57b-34164a21dcf1",
   "metadata": {},
   "outputs": [],
   "source": [
    "NLinear_metrics_agg"
   ]
  },
  {
   "cell_type": "markdown",
   "id": "d6f35b8b-bf47-4b91-a229-2cd0958406a7",
   "metadata": {},
   "source": [
    "### NLinear Tuned"
   ]
  },
  {
   "cell_type": "code",
   "execution_count": null,
   "id": "fc2e3b71-bd04-45ea-acb9-2fd90c780e81",
   "metadata": {},
   "outputs": [],
   "source": [
    "# Define the file path\n",
    "config_file_path = 'notebooks/Chapter16/saved_params_config/NLinear_best_config.json'\n",
    "try:\n",
    "    with open(config_file_path, 'r') as config_file:\n",
    "        loaded_config = json.load(config_file)\n",
    "        print(loaded_config)\n",
    "except FileNotFoundError:\n",
    "    display(HTML(\"\"\"\n",
    "    <div class=\"alert alert-block alert-warning\">\n",
    "    <b>Warning!</b> File not found. \n",
    "    </div>\n",
    "    \"\"\"))"
   ]
  },
  {
   "cell_type": "code",
   "execution_count": null,
   "id": "bb0a991c-3508-406a-9a74-e87f0c0c762b",
   "metadata": {},
   "outputs": [],
   "source": [
    "NLinear_config = {\n",
    "    \"max_steps\": max_steps,  # This parameter can be adjusted if needed\n",
    "    \"input_size\": tune.choice([h,h*7,h*7*2,h*7*3]), # Size of input window\n",
    "    \"learning_rate\": tune.loguniform(1e-4, 1e-1),  # Initial learning rate\n",
    "    \"scaler_type\": tune.choice([\"minmax\", \"standard\"]),\n",
    "    \"batch_size\": tune.choice([32, 64,128, 256]),\n",
    "    \"random_seed\": tune.choice([10, 20,30]),\n",
    "\n",
    "}\n",
    "\n",
    "if RETUNE == True:\n",
    "    models = [AutoNLinear(h=h, \n",
    "                     config = NLinear_config,\n",
    "                     search_alg = HyperOptSearch(),\n",
    "                     backend = 'ray',\n",
    "                     num_samples = 100,\n",
    "                     )]\n",
    "\n",
    "else:\n",
    "    models = [AutoNLinear(h=h, \n",
    "                    config = loaded_config,\n",
    "                    search_alg = None,\n",
    "                    backend = 'ray',\n",
    "                    #cpus=1\n",
    "                    )]\n",
    "\n",
    "\n",
    "model_tuned = NeuralForecast(models=models, freq='30min')\n",
    "\n",
    "model_tuned.fit(training_df[['LCLid','timestamp','energy_consumption']],\n",
    "                id_col = 'LCLid',\n",
    "                time_col = 'timestamp',\n",
    "                target_col='energy_consumption',\n",
    "                val_size = 48)"
   ]
  },
  {
   "cell_type": "code",
   "execution_count": null,
   "id": "dd43310b-6bf8-420f-9a59-a778aa45e5b0",
   "metadata": {},
   "outputs": [],
   "source": [
    "NLinear_best_config = model_tuned.models[0].results.get_best_result().config\n",
    "\n",
    "# Remove specific keys using the pop method and then saving so we can extract parameters later\n",
    "NLinear_best_config.pop(\"loss\", None)\n",
    "NLinear_best_config.pop(\"valid_loss\", None)\n",
    "NLinear_best_config.pop(\"h\", None)\n",
    "\n",
    "# Save the filtered configuration to a JSON file\n",
    "with open(config_file_path, 'w') as config_file:\n",
    "    json.dump(NLinear_best_config, config_file, indent=4)\n",
    "\n",
    "print(\"Best configuration as string:\")\n",
    "print(NLinear_config)"
   ]
  },
  {
   "cell_type": "code",
   "execution_count": null,
   "id": "0b6005c2-06c5-47af-95c4-b8cb6b94919a",
   "metadata": {},
   "outputs": [],
   "source": [
    "results = model_tuned.models[0].results.get_dataframe()\n",
    "results[['loss', 'train_loss', 'timestamp', \n",
    "       'training_iteration', \n",
    "        'config/max_steps', 'config/input_size',\n",
    "       'config/learning_rate', 'config/h', 'config/loss',\n",
    "       ]].head(2)"
   ]
  },
  {
   "cell_type": "code",
   "execution_count": null,
   "id": "8d7ef9fa-2d28-4c12-aabe-e44ccaaa5041",
   "metadata": {},
   "outputs": [],
   "source": [
    "pred_df_autoNLinear = model_tuned.predict(futr_df=validation_df[['LCLid','timestamp','energy_consumption']]).reset_index()\n",
    "pred_df = pred_df_autoNLinear.merge(pred_df[['LCLid','timestamp','energy_consumption','NLinear']], on=['LCLid','timestamp'], how='left')\n",
    "pred_df.head()"
   ]
  },
  {
   "cell_type": "code",
   "execution_count": null,
   "id": "d57d7ebe-f480-400b-922b-2240d59526ff",
   "metadata": {},
   "outputs": [],
   "source": [
    "fcst_mase = partial(mase, seasonality=48)\n",
    "\n",
    "autoNLinear_metrics = evaluate(pred_df, \n",
    "        metrics=[rmse, mae, mse, fcst_mase],  \n",
    "        train_df = train_df[['timestamp', 'LCLid', 'energy_consumption']],      \n",
    "        id_col = 'LCLid',\n",
    "        time_col = 'timestamp',\n",
    "        target_col = 'energy_consumption'\n",
    "        )\n",
    "\n",
    "autoNLinear_metrics_agg = evaluate(pred_df, \n",
    "        metrics=[rmse, mae, mse, fcst_mase],  \n",
    "        train_df = train_df[['timestamp', 'LCLid', 'energy_consumption']],      \n",
    "        id_col = 'LCLid',\n",
    "        time_col = 'timestamp',\n",
    "        target_col = 'energy_consumption',\n",
    "        agg_fn='mean'\n",
    "        )"
   ]
  },
  {
   "cell_type": "code",
   "execution_count": null,
   "id": "229d492d-8931-43b2-9231-2a14df6ba9e0",
   "metadata": {},
   "outputs": [],
   "source": [
    "autoNLinear_metrics_agg"
   ]
  },
  {
   "cell_type": "code",
   "execution_count": null,
   "id": "16ffc46b-a390-4a17-9677-66b294c56b66",
   "metadata": {},
   "outputs": [],
   "source": []
  },
  {
   "cell_type": "code",
   "execution_count": null,
   "id": "65290530-8b8a-4145-9c37-f39a143afab0",
   "metadata": {},
   "outputs": [],
   "source": []
  },
  {
   "cell_type": "code",
   "execution_count": null,
   "id": "ecb484d8-6ffb-413a-b9ce-99555de3da8f",
   "metadata": {},
   "outputs": [],
   "source": []
  },
  {
   "cell_type": "code",
   "execution_count": null,
   "id": "cb3e39ff-c455-457a-925f-1aa487ba3be9",
   "metadata": {},
   "outputs": [],
   "source": []
  },
  {
   "cell_type": "code",
   "execution_count": null,
   "id": "5b2e8bd4-37b6-40aa-a36a-c9fc9489c2d7",
   "metadata": {},
   "outputs": [],
   "source": []
  },
  {
   "cell_type": "code",
   "execution_count": null,
   "id": "8ab9aa86-b940-4e2b-adc2-4fd943b52bd9",
   "metadata": {},
   "outputs": [],
   "source": []
  },
  {
   "cell_type": "code",
   "execution_count": null,
   "id": "eed0d0a2-a651-4bbd-8fe8-c9be77b4ee62",
   "metadata": {},
   "outputs": [],
   "source": []
  },
  {
   "cell_type": "code",
   "execution_count": null,
   "id": "f081719c-52b9-4666-b925-2a673ef5ee3f",
   "metadata": {},
   "outputs": [],
   "source": []
  },
  {
   "cell_type": "code",
   "execution_count": null,
   "id": "978c2c75-4ff9-4e2d-9b6e-02b21ca7d7f6",
   "metadata": {},
   "outputs": [],
   "source": []
  }
 ],
 "metadata": {
  "kernelspec": {
   "display_name": "Python (MTSP)",
   "language": "python",
   "name": "mtsp"
  },
  "language_info": {
   "codemirror_mode": {
    "name": "ipython",
    "version": 3
   },
   "file_extension": ".py",
   "mimetype": "text/x-python",
   "name": "python",
   "nbconvert_exporter": "python",
   "pygments_lexer": "ipython3",
   "version": "3.10.18"
  }
 },
 "nbformat": 4,
 "nbformat_minor": 5
}
