{
 "cells": [
  {
   "cell_type": "markdown",
   "id": "2c08d9f4-dcba-47cb-936b-7c1902371508",
   "metadata": {},
   "source": [
    "# NBEATS\n",
    "\n",
    "### Loading Libraries"
   ]
  },
  {
   "cell_type": "code",
   "execution_count": 1,
   "id": "82a506b8-d8d2-44eb-af6b-ad5749c2da12",
   "metadata": {},
   "outputs": [
    {
     "name": "stdout",
     "output_type": "stream",
     "text": [
      "/Users/joaquinromero/Desktop\n"
     ]
    }
   ],
   "source": [
    "%cd ../.."
   ]
  },
  {
   "cell_type": "code",
   "execution_count": 3,
   "id": "5ddebc9e-c82a-443d-82a3-8fade98cd276",
   "metadata": {},
   "outputs": [],
   "source": [
    "# # Numerical Computing\n",
    "# import numpy as np\n",
    "\n",
    "# # Data Manipulation\n",
    "# import pandas as pd\n",
    "\n",
    "# # OS \n",
    "# import os\n",
    "# import shutil\n",
    "# import joblib\n",
    "\n",
    "# # Data Visualization\n",
    "# import plotly.io as pio\n",
    "# import plotly.express as px\n",
    "# import plotly.graph_objects as go\n",
    "\n",
    "# # Path\n",
    "# from pathlib import Path\n",
    "# from tqdm.autonotebook import tqdm\n",
    "\n",
    "# # IPython & Itertools\n",
    "# from itertools import cycle\n",
    "# from IPython.display import display, HTML\n",
    "\n",
    "# # Stats Forecast\n",
    "# from statsforecast import StatsForecast\n",
    "\n",
    "# # NeuralForecast\n",
    "# from neuralforecast import NeuralForecast\n",
    "# from neuralforecast.models import NBEATS\n",
    "# from neuralforecast.auto import AutoNBEATS\n",
    "# from neuralforecast.losses.pytorch import MQLoss"
   ]
  },
  {
   "cell_type": "code",
   "execution_count": 2,
   "id": "8ea7e678-6ed0-46ec-b633-deda1bd5136a",
   "metadata": {},
   "outputs": [
    {
     "name": "stdout",
     "output_type": "stream",
     "text": [
      "Collecting neuralforecast\n",
      "  Using cached neuralforecast-3.0.2-py3-none-any.whl.metadata (14 kB)\n",
      "Requirement already satisfied: coreforecast>=0.0.6 in /opt/anaconda3/lib/python3.12/site-packages (from neuralforecast) (0.0.16)\n",
      "Requirement already satisfied: fsspec in /opt/anaconda3/lib/python3.12/site-packages (from neuralforecast) (2024.6.1)\n",
      "Requirement already satisfied: numpy>=1.21.6 in /opt/anaconda3/lib/python3.12/site-packages (from neuralforecast) (1.26.4)\n",
      "Requirement already satisfied: pandas>=1.3.5 in /opt/anaconda3/lib/python3.12/site-packages (from neuralforecast) (1.5.3)\n",
      "Collecting torch<=2.6.0,>=2.0.0 (from neuralforecast)\n",
      "  Downloading torch-2.6.0-cp312-none-macosx_11_0_arm64.whl.metadata (28 kB)\n",
      "Collecting pytorch-lightning>=2.0.0 (from neuralforecast)\n",
      "  Downloading pytorch_lightning-2.5.4-py3-none-any.whl.metadata (20 kB)\n",
      "Collecting ray>=2.2.0 (from ray[tune]>=2.2.0->neuralforecast)\n",
      "  Downloading ray-2.49.0-cp312-cp312-macosx_12_0_arm64.whl.metadata (21 kB)\n",
      "Collecting optuna (from neuralforecast)\n",
      "  Using cached optuna-4.5.0-py3-none-any.whl.metadata (17 kB)\n",
      "Requirement already satisfied: utilsforecast>=0.2.3 in /opt/anaconda3/lib/python3.12/site-packages (from neuralforecast) (0.2.12)\n",
      "Requirement already satisfied: python-dateutil>=2.8.1 in /opt/anaconda3/lib/python3.12/site-packages (from pandas>=1.3.5->neuralforecast) (2.9.0.post0)\n",
      "Requirement already satisfied: pytz>=2020.1 in /opt/anaconda3/lib/python3.12/site-packages (from pandas>=1.3.5->neuralforecast) (2025.2)\n",
      "Requirement already satisfied: tqdm>=4.57.0 in /opt/anaconda3/lib/python3.12/site-packages (from pytorch-lightning>=2.0.0->neuralforecast) (4.66.5)\n",
      "Requirement already satisfied: PyYAML>5.4 in /opt/anaconda3/lib/python3.12/site-packages (from pytorch-lightning>=2.0.0->neuralforecast) (6.0.1)\n",
      "Collecting torchmetrics>0.7.0 (from pytorch-lightning>=2.0.0->neuralforecast)\n",
      "  Downloading torchmetrics-1.8.1-py3-none-any.whl.metadata (22 kB)\n",
      "Requirement already satisfied: packaging>=20.0 in /opt/anaconda3/lib/python3.12/site-packages (from pytorch-lightning>=2.0.0->neuralforecast) (25.0)\n",
      "Requirement already satisfied: typing-extensions>4.5.0 in /opt/anaconda3/lib/python3.12/site-packages (from pytorch-lightning>=2.0.0->neuralforecast) (4.11.0)\n",
      "Collecting lightning-utilities>=0.10.0 (from pytorch-lightning>=2.0.0->neuralforecast)\n",
      "  Downloading lightning_utilities-0.15.2-py3-none-any.whl.metadata (5.7 kB)\n",
      "Requirement already satisfied: click>=7.0 in /opt/anaconda3/lib/python3.12/site-packages (from ray>=2.2.0->ray[tune]>=2.2.0->neuralforecast) (8.1.7)\n",
      "Requirement already satisfied: filelock in /opt/anaconda3/lib/python3.12/site-packages (from ray>=2.2.0->ray[tune]>=2.2.0->neuralforecast) (3.13.1)\n",
      "Requirement already satisfied: jsonschema in /opt/anaconda3/lib/python3.12/site-packages (from ray>=2.2.0->ray[tune]>=2.2.0->neuralforecast) (4.23.0)\n",
      "Requirement already satisfied: msgpack<2.0.0,>=1.0.0 in /opt/anaconda3/lib/python3.12/site-packages (from ray>=2.2.0->ray[tune]>=2.2.0->neuralforecast) (1.0.3)\n",
      "Requirement already satisfied: protobuf>=3.20.3 in /opt/anaconda3/lib/python3.12/site-packages (from ray>=2.2.0->ray[tune]>=2.2.0->neuralforecast) (4.25.3)\n",
      "Requirement already satisfied: requests in /opt/anaconda3/lib/python3.12/site-packages (from ray>=2.2.0->ray[tune]>=2.2.0->neuralforecast) (2.32.3)\n",
      "Collecting tensorboardX>=1.9 (from ray[tune]>=2.2.0->neuralforecast)\n",
      "  Using cached tensorboardx-2.6.4-py3-none-any.whl.metadata (6.2 kB)\n",
      "Requirement already satisfied: pyarrow>=9.0.0 in /opt/anaconda3/lib/python3.12/site-packages (from ray[tune]>=2.2.0->neuralforecast) (16.1.0)\n",
      "Requirement already satisfied: networkx in /opt/anaconda3/lib/python3.12/site-packages (from torch<=2.6.0,>=2.0.0->neuralforecast) (3.3)\n",
      "Requirement already satisfied: jinja2 in /opt/anaconda3/lib/python3.12/site-packages (from torch<=2.6.0,>=2.0.0->neuralforecast) (3.1.4)\n",
      "Requirement already satisfied: setuptools in /opt/anaconda3/lib/python3.12/site-packages (from torch<=2.6.0,>=2.0.0->neuralforecast) (75.1.0)\n",
      "Collecting sympy==1.13.1 (from torch<=2.6.0,>=2.0.0->neuralforecast)\n",
      "  Using cached sympy-1.13.1-py3-none-any.whl.metadata (12 kB)\n",
      "Requirement already satisfied: mpmath<1.4,>=1.1.0 in /opt/anaconda3/lib/python3.12/site-packages (from sympy==1.13.1->torch<=2.6.0,>=2.0.0->neuralforecast) (1.3.0)\n",
      "Requirement already satisfied: alembic>=1.5.0 in /opt/anaconda3/lib/python3.12/site-packages (from optuna->neuralforecast) (1.13.3)\n",
      "Collecting colorlog (from optuna->neuralforecast)\n",
      "  Using cached colorlog-6.9.0-py3-none-any.whl.metadata (10 kB)\n",
      "Requirement already satisfied: sqlalchemy>=1.4.2 in /opt/anaconda3/lib/python3.12/site-packages (from optuna->neuralforecast) (2.0.34)\n",
      "Requirement already satisfied: Mako in /opt/anaconda3/lib/python3.12/site-packages (from alembic>=1.5.0->optuna->neuralforecast) (1.2.3)\n",
      "Requirement already satisfied: aiohttp!=4.0.0a0,!=4.0.0a1 in /opt/anaconda3/lib/python3.12/site-packages (from fsspec[http]>=2022.5.0->pytorch-lightning>=2.0.0->neuralforecast) (3.10.5)\n",
      "Requirement already satisfied: six>=1.5 in /opt/anaconda3/lib/python3.12/site-packages (from python-dateutil>=2.8.1->pandas>=1.3.5->neuralforecast) (1.17.0)\n",
      "Requirement already satisfied: MarkupSafe>=2.0 in /opt/anaconda3/lib/python3.12/site-packages (from jinja2->torch<=2.6.0,>=2.0.0->neuralforecast) (2.1.3)\n",
      "Requirement already satisfied: attrs>=22.2.0 in /opt/anaconda3/lib/python3.12/site-packages (from jsonschema->ray>=2.2.0->ray[tune]>=2.2.0->neuralforecast) (23.1.0)\n",
      "Requirement already satisfied: jsonschema-specifications>=2023.03.6 in /opt/anaconda3/lib/python3.12/site-packages (from jsonschema->ray>=2.2.0->ray[tune]>=2.2.0->neuralforecast) (2023.7.1)\n",
      "Requirement already satisfied: referencing>=0.28.4 in /opt/anaconda3/lib/python3.12/site-packages (from jsonschema->ray>=2.2.0->ray[tune]>=2.2.0->neuralforecast) (0.30.2)\n",
      "Requirement already satisfied: rpds-py>=0.7.1 in /opt/anaconda3/lib/python3.12/site-packages (from jsonschema->ray>=2.2.0->ray[tune]>=2.2.0->neuralforecast) (0.10.6)\n",
      "Requirement already satisfied: charset-normalizer<4,>=2 in /opt/anaconda3/lib/python3.12/site-packages (from requests->ray>=2.2.0->ray[tune]>=2.2.0->neuralforecast) (3.3.2)\n",
      "Requirement already satisfied: idna<4,>=2.5 in /opt/anaconda3/lib/python3.12/site-packages (from requests->ray>=2.2.0->ray[tune]>=2.2.0->neuralforecast) (3.7)\n",
      "Requirement already satisfied: urllib3<3,>=1.21.1 in /opt/anaconda3/lib/python3.12/site-packages (from requests->ray>=2.2.0->ray[tune]>=2.2.0->neuralforecast) (2.2.3)\n",
      "Requirement already satisfied: certifi>=2017.4.17 in /opt/anaconda3/lib/python3.12/site-packages (from requests->ray>=2.2.0->ray[tune]>=2.2.0->neuralforecast) (2025.1.31)\n",
      "Requirement already satisfied: aiohappyeyeballs>=2.3.0 in /opt/anaconda3/lib/python3.12/site-packages (from aiohttp!=4.0.0a0,!=4.0.0a1->fsspec[http]>=2022.5.0->pytorch-lightning>=2.0.0->neuralforecast) (2.4.0)\n",
      "Requirement already satisfied: aiosignal>=1.1.2 in /opt/anaconda3/lib/python3.12/site-packages (from aiohttp!=4.0.0a0,!=4.0.0a1->fsspec[http]>=2022.5.0->pytorch-lightning>=2.0.0->neuralforecast) (1.2.0)\n",
      "Requirement already satisfied: frozenlist>=1.1.1 in /opt/anaconda3/lib/python3.12/site-packages (from aiohttp!=4.0.0a0,!=4.0.0a1->fsspec[http]>=2022.5.0->pytorch-lightning>=2.0.0->neuralforecast) (1.4.0)\n",
      "Requirement already satisfied: multidict<7.0,>=4.5 in /opt/anaconda3/lib/python3.12/site-packages (from aiohttp!=4.0.0a0,!=4.0.0a1->fsspec[http]>=2022.5.0->pytorch-lightning>=2.0.0->neuralforecast) (6.0.4)\n",
      "Requirement already satisfied: yarl<2.0,>=1.0 in /opt/anaconda3/lib/python3.12/site-packages (from aiohttp!=4.0.0a0,!=4.0.0a1->fsspec[http]>=2022.5.0->pytorch-lightning>=2.0.0->neuralforecast) (1.11.0)\n",
      "Using cached neuralforecast-3.0.2-py3-none-any.whl (260 kB)\n",
      "Downloading pytorch_lightning-2.5.4-py3-none-any.whl (829 kB)\n",
      "\u001b[2K   \u001b[90m━━━━━━━━━━━━━━━━━━━━━━━━━━━━━━━━━━━━━━━━\u001b[0m \u001b[32m829.2/829.2 kB\u001b[0m \u001b[31m6.5 MB/s\u001b[0m eta \u001b[36m0:00:00\u001b[0m\n",
      "\u001b[?25hDownloading ray-2.49.0-cp312-cp312-macosx_12_0_arm64.whl (66.9 MB)\n",
      "\u001b[2K   \u001b[90m━━━━━━━━━━━━━━━━━━━━━━━━━━━━━━━━━━━━━━━━\u001b[0m \u001b[32m66.9/66.9 MB\u001b[0m \u001b[31m12.9 MB/s\u001b[0m eta \u001b[36m0:00:00\u001b[0m00:01\u001b[0m00:01\u001b[0m\n",
      "\u001b[?25hDownloading torch-2.6.0-cp312-none-macosx_11_0_arm64.whl (66.5 MB)\n",
      "\u001b[2K   \u001b[90m━━━━━━━━━━━━━━━━━━━━━━━━━━━━━━━━━━━━━━━━\u001b[0m \u001b[32m66.5/66.5 MB\u001b[0m \u001b[31m12.7 MB/s\u001b[0m eta \u001b[36m0:00:00\u001b[0m00:01\u001b[0m00:01\u001b[0m\n",
      "\u001b[?25hUsing cached sympy-1.13.1-py3-none-any.whl (6.2 MB)\n",
      "Using cached optuna-4.5.0-py3-none-any.whl (400 kB)\n",
      "Downloading lightning_utilities-0.15.2-py3-none-any.whl (29 kB)\n",
      "Using cached tensorboardx-2.6.4-py3-none-any.whl (87 kB)\n",
      "Downloading torchmetrics-1.8.1-py3-none-any.whl (982 kB)\n",
      "\u001b[2K   \u001b[90m━━━━━━━━━━━━━━━━━━━━━━━━━━━━━━━━━━━━━━━━\u001b[0m \u001b[32m983.0/983.0 kB\u001b[0m \u001b[31m5.5 MB/s\u001b[0m eta \u001b[36m0:00:00\u001b[0m\n",
      "\u001b[?25hUsing cached colorlog-6.9.0-py3-none-any.whl (11 kB)\n",
      "Installing collected packages: tensorboardX, sympy, lightning-utilities, colorlog, torch, torchmetrics, optuna, ray, pytorch-lightning, neuralforecast\n",
      "  Attempting uninstall: sympy\n",
      "    Found existing installation: sympy 1.13.2\n",
      "    Uninstalling sympy-1.13.2:\n",
      "      Successfully uninstalled sympy-1.13.2\n",
      "Successfully installed colorlog-6.9.0 lightning-utilities-0.15.2 neuralforecast-3.0.2 optuna-4.5.0 pytorch-lightning-2.5.4 ray-2.49.0 sympy-1.13.1 tensorboardX-2.6.4 torch-2.6.0 torchmetrics-1.8.1\n"
     ]
    }
   ],
   "source": [
    "# First, install the missing package\n",
    "!pip install neuralforecast\n",
    "\n",
    "# Numerical Computing\n",
    "import numpy as np\n",
    "\n",
    "# Data Manipulation\n",
    "import pandas as pd\n",
    "\n",
    "# OS \n",
    "import os\n",
    "import shutil\n",
    "import joblib\n",
    "\n",
    "# Data Visualization\n",
    "import plotly.io as pio\n",
    "import plotly.express as px\n",
    "import plotly.graph_objects as go\n",
    "\n",
    "# Path\n",
    "from pathlib import Path\n",
    "from tqdm.autonotebook import tqdm\n",
    "\n",
    "# IPython & Itertools\n",
    "from itertools import cycle\n",
    "from IPython.display import display, HTML\n",
    "\n",
    "# Stats Forecast\n",
    "from statsforecast import StatsForecast\n",
    "\n",
    "# NeuralForecast - will work after installation\n",
    "from neuralforecast import NeuralForecast\n",
    "from neuralforecast.models import NBEATS\n",
    "from neuralforecast.auto import AutoNBEATS\n",
    "from neuralforecast.losses.pytorch import MQLoss"
   ]
  },
  {
   "cell_type": "code",
   "execution_count": 4,
   "id": "f9b3ea06-6c65-49af-9674-767a4f2f6378",
   "metadata": {},
   "outputs": [],
   "source": [
    "from utilsforecast.evaluation import evaluate"
   ]
  },
  {
   "cell_type": "code",
   "execution_count": 5,
   "id": "9831ceb7-a592-47e8-99cf-56d678a2c1b3",
   "metadata": {},
   "outputs": [],
   "source": [
    "# %load_ext autoreload\n",
    "\n",
    "# %autoreload 2"
   ]
  },
  {
   "cell_type": "code",
   "execution_count": 6,
   "id": "a0e5b2cf-8b2c-48ac-b07b-d9a19bfe2ddb",
   "metadata": {},
   "outputs": [],
   "source": [
    "tqdm.pandas()\n",
    "\n",
    "np.random.seed(42)\n",
    "\n",
    "pio.templates.default = \"plotly_white\""
   ]
  },
  {
   "cell_type": "code",
   "execution_count": 7,
   "id": "e46b7dba-03df-48de-ab8e-e34e21b5496c",
   "metadata": {},
   "outputs": [],
   "source": [
    "os.makedirs(\"imgs/chapter_16\", exist_ok=True)\n",
    "\n",
    "preprocessed = Path.home() / \"Desktop\" / \"data\" / \"london_smart_meters\" / \"preprocessed\"\n",
    "\n",
    "output = Path.home() / \"Desktop\" / \"data\" / \"london_smart_meters\" / \"output\""
   ]
  },
  {
   "cell_type": "code",
   "execution_count": 8,
   "id": "38d93e1b-8a40-4fc3-b671-d0fd470fdf0e",
   "metadata": {},
   "outputs": [],
   "source": [
    "TRAIN_SUBSAMPLE = False  # Trains a subsample of IDs to improve run speed\n",
    "\n",
    "RETUNE = True  # if false, will use pre-trained hyperparameters when generating the AUTO NeuralForecast"
   ]
  },
  {
   "cell_type": "code",
   "execution_count": 9,
   "id": "d32d14e7-76fc-46ac-8ecd-ee3fe4ce8762",
   "metadata": {
    "jupyter": {
     "source_hidden": true
    }
   },
   "outputs": [
    {
     "data": {
      "text/html": [
       "\n",
       "    <div class=\"alert alert-block alert-warning\">\n",
       "    <b>Warning!</b> File not found. Please make sure you have run 01-Feature Engineering.ipynb in Chapter06\n",
       "    </div>\n",
       "    "
      ],
      "text/plain": [
       "<IPython.core.display.HTML object>"
      ]
     },
     "metadata": {},
     "output_type": "display_data"
    }
   ],
   "source": [
    "try:\n",
    "    #Reading the missing value imputed and train test split data\n",
    "    train_df = pd.read_parquet(preprocessed/\"selected_blocks_train_missing_imputed_feature_engg.parquet\")\n",
    "    # Read in the Validation dataset as test_df so that we predict on it\n",
    "    test_df = pd.read_parquet(preprocessed/\"selected_blocks_val_missing_imputed_feature_engg.parquet\")\n",
    "    # test_df = pd.read_parquet(preprocessed/\"selected_blocks_test_missing_imputed_feature_engg.parquet\")\n",
    "except FileNotFoundError:\n",
    "    display(HTML(\"\"\"\n",
    "    <div class=\"alert alert-block alert-warning\">\n",
    "    <b>Warning!</b> File not found. Please make sure you have run 01-Feature Engineering.ipynb in Chapter06\n",
    "    </div>\n",
    "    \"\"\"))"
   ]
  },
  {
   "cell_type": "code",
   "execution_count": null,
   "id": "88fd1e9d-165e-4af9-a487-50ad0fb5af47",
   "metadata": {},
   "outputs": [],
   "source": [
    "train_df.head(2)"
   ]
  },
  {
   "cell_type": "code",
   "execution_count": null,
   "id": "38fea7e8-47aa-42f9-bdcd-c9b780f5ca47",
   "metadata": {},
   "outputs": [],
   "source": [
    "print(\"Total # of IDs Pre-Sampling: \", len(train_df.LCLid.unique()))"
   ]
  },
  {
   "cell_type": "code",
   "execution_count": null,
   "id": "40e2d91f-e846-4719-b6fd-aa3123ffc103",
   "metadata": {},
   "outputs": [],
   "source": [
    "StatsForecast.plot(train_df,\n",
    "                   engine='matplotlib',\n",
    "                   id_col='LCLid',\n",
    "                   time_col= 'timestamp',\n",
    "                   target_col='energy_consumption')"
   ]
  },
  {
   "cell_type": "code",
   "execution_count": null,
   "id": "d1274230-7747-4a59-ab20-da8904d58373",
   "metadata": {},
   "outputs": [],
   "source": [
    "# To run on smaller set of data for daster iteration.\n",
    "if TRAIN_SUBSAMPLE:\n",
    "    print(\"sub sampling\")\n",
    "    SAMPLE = 10\n",
    "    sampled_LCLids = pd.Series(train_df.LCLid.unique().remove_unused_categories().categories).sample(SAMPLE, random_state=99).tolist()\n",
    "    train_df = train_df.loc[train_df.LCLid.isin(sampled_LCLids)]\n",
    "    test_df = test_df.loc[test_df.LCLid.isin(sampled_LCLids)]"
   ]
  },
  {
   "cell_type": "code",
   "execution_count": null,
   "id": "b7c1d6f3-e833-405a-bfc3-0b92b4994bcc",
   "metadata": {},
   "outputs": [],
   "source": [
    "print(\"Total # of IDs Post Sampling: \", len(train_df.LCLid.unique()))"
   ]
  },
  {
   "cell_type": "markdown",
   "id": "7a8f1dc4-d91c-43d5-86ae-446fcfe56d3d",
   "metadata": {},
   "source": [
    "### Train, Validation, Test Set"
   ]
  },
  {
   "cell_type": "code",
   "execution_count": null,
   "id": "0ff40fe9-3ad7-4a43-af37-04a9c7e4133b",
   "metadata": {},
   "outputs": [],
   "source": [
    "print(\"Training Min Date: \", train_df.timestamp.min(), \n",
    "      \"\\nTraining Max Date: \", train_df.timestamp.max(), \n",
    "      \"\\nTesting Min Date: \", test_df.timestamp.min(),\n",
    "      \"\\nTesting Max Date: \", test_df.timestamp.max()\n",
    ")"
   ]
  },
  {
   "cell_type": "code",
   "execution_count": null,
   "id": "ee4acfcc-9ddb-4704-adbf-f8d4d225124a",
   "metadata": {},
   "outputs": [],
   "source": [
    "#Keeping 1 days aside as a validation set\n",
    "cutoff = train_df.timestamp.max() - pd.Timedelta(1, \"D\")\n",
    "\n",
    "validation_df = train_df[(train_df.timestamp>cutoff)].reset_index(drop=True) # validation prediction set\n",
    "training_df = train_df[(train_df.timestamp<=cutoff)].reset_index(drop=True) # training set used for validation set\n",
    "\n",
    "print(f\"Train Max: {training_df.timestamp.max()} \\nValidation Min: {validation_df.timestamp.min()} \\nValidation Max: {validation_df.timestamp.max()}\")\n",
    "print(f\"Validation Horizon: {len(validation_df.timestamp.unique())}\")"
   ]
  },
  {
   "cell_type": "code",
   "execution_count": null,
   "id": "8ed9996f-662b-4bb4-bafa-965aa60da7e7",
   "metadata": {},
   "outputs": [],
   "source": [
    "h = 48\n",
    "\n",
    "max_steps = 100"
   ]
  },
  {
   "cell_type": "markdown",
   "id": "3f8479bb-a99e-4d8e-866e-1e8955c66f3e",
   "metadata": {},
   "source": [
    "### Training NBEATS Model"
   ]
  },
  {
   "cell_type": "code",
   "execution_count": null,
   "id": "156adce5-3ef0-4b50-b4f9-ff5ffe4b9a5c",
   "metadata": {},
   "outputs": [],
   "source": [
    "model_untuned = [NBEATS(h=h,  input_size = 48*7,              \n",
    "                max_steps=max_steps)]\n",
    "\n",
    "model_untuned = NeuralForecast(models=model_untuned, freq='30min')\n",
    "model_untuned.fit(training_df[['LCLid','timestamp','energy_consumption']],\n",
    "                  id_col = 'LCLid',\n",
    "                  time_col = 'timestamp',\n",
    "                  target_col='energy_consumption')"
   ]
  },
  {
   "cell_type": "code",
   "execution_count": null,
   "id": "e44ef418-d9ae-45c4-a806-bc5c0c2a5249",
   "metadata": {},
   "outputs": [],
   "source": [
    "# Get Predictions for validation\n",
    "pred_df =  model_untuned.predict(futr_df=validation_df[['LCLid','timestamp','energy_consumption']]).reset_index()\n",
    "pred_df = pred_df.merge(validation_df[['LCLid','timestamp','energy_consumption']], on=['LCLid','timestamp'], how='left')\n",
    "pred_df.head()"
   ]
  },
  {
   "cell_type": "code",
   "execution_count": null,
   "id": "79321eb0-14c4-4b91-a2d8-25c6df4529ae",
   "metadata": {},
   "outputs": [],
   "source": [
    "# Visualize Results\n",
    "StatsForecast.plot(validation_df[['LCLid','timestamp','energy_consumption']], \n",
    "                   pred_df, engine='matplotlib', \n",
    "                   id_col='LCLid',\n",
    "                   time_col= 'timestamp', \n",
    "                   target_col='energy_consumption',\n",
    "                   models=['NBEATS'])"
   ]
  },
  {
   "cell_type": "code",
   "execution_count": null,
   "id": "42699ca4-d4fa-436b-a90f-3690b818538d",
   "metadata": {},
   "outputs": [],
   "source": [
    "#### Evaluating NBEATS forecast"
   ]
  },
  {
   "cell_type": "code",
   "execution_count": null,
   "id": "6fc9b1cb-afc5-4645-9455-bd4970ce8e7d",
   "metadata": {},
   "outputs": [],
   "source": []
  },
  {
   "cell_type": "code",
   "execution_count": null,
   "id": "c1645d59-1a3b-4638-99d5-3177fcc33800",
   "metadata": {},
   "outputs": [],
   "source": []
  },
  {
   "cell_type": "code",
   "execution_count": null,
   "id": "da310da0-7fdf-4247-ac67-f188da23771c",
   "metadata": {},
   "outputs": [],
   "source": []
  },
  {
   "cell_type": "code",
   "execution_count": null,
   "id": "2bb091d9-1926-488e-ba84-35dd598eb2c8",
   "metadata": {},
   "outputs": [],
   "source": []
  },
  {
   "cell_type": "code",
   "execution_count": null,
   "id": "ce8ef3bb-da29-4d71-b782-05b2557f8ab5",
   "metadata": {},
   "outputs": [],
   "source": []
  },
  {
   "cell_type": "code",
   "execution_count": null,
   "id": "d3b6af9e-4cfd-4abb-85a9-296be9a1364f",
   "metadata": {},
   "outputs": [],
   "source": []
  },
  {
   "cell_type": "code",
   "execution_count": null,
   "id": "0344d6f3-8b5c-4af4-aa43-9d515de14f3b",
   "metadata": {},
   "outputs": [],
   "source": []
  },
  {
   "cell_type": "code",
   "execution_count": null,
   "id": "c408f9af-184a-46d8-a9bd-ae7492cc7d38",
   "metadata": {},
   "outputs": [],
   "source": []
  },
  {
   "cell_type": "code",
   "execution_count": null,
   "id": "b4111a4a-b160-42b3-a316-d33a08da002a",
   "metadata": {},
   "outputs": [],
   "source": [
    "\n"
   ]
  },
  {
   "cell_type": "code",
   "execution_count": null,
   "id": "7f2cc95c-cb8c-431f-8436-99e7d902ce22",
   "metadata": {},
   "outputs": [],
   "source": []
  },
  {
   "cell_type": "code",
   "execution_count": null,
   "id": "25a45405-7a03-4035-9969-286d7201683d",
   "metadata": {},
   "outputs": [],
   "source": []
  },
  {
   "cell_type": "code",
   "execution_count": null,
   "id": "941c73cf-ed59-4bea-90b4-6c5dcdefdd28",
   "metadata": {},
   "outputs": [],
   "source": []
  }
 ],
 "metadata": {
  "kernelspec": {
   "display_name": "Python (MTSP)",
   "language": "python",
   "name": "mtsp"
  },
  "language_info": {
   "codemirror_mode": {
    "name": "ipython",
    "version": 3
   },
   "file_extension": ".py",
   "mimetype": "text/x-python",
   "name": "python",
   "nbconvert_exporter": "python",
   "pygments_lexer": "ipython3",
   "version": "3.10.18"
  }
 },
 "nbformat": 4,
 "nbformat_minor": 5
}
