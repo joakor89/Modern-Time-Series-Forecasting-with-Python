{
 "cells": [
  {
   "cell_type": "markdown",
   "id": "25fe4336-9bf3-4317-8317-8de21f413629",
   "metadata": {},
   "source": [
    "# Underfitting Vs. Overfitting\n",
    "\n",
    "### Loading Libraries"
   ]
  },
  {
   "cell_type": "code",
   "execution_count": 12,
   "id": "0c0dc393-5fa0-4e7c-91dc-8da33b82140c",
   "metadata": {},
   "outputs": [],
   "source": [
    "# %cd ../.."
   ]
  },
  {
   "cell_type": "code",
   "execution_count": 29,
   "id": "1bce26f1-13a6-47a8-9ea2-82872f6025d6",
   "metadata": {},
   "outputs": [],
   "source": [
    "# Numerical Computing\n",
    "import numpy as np\n",
    "\n",
    "# Data Manipulation\n",
    "import pandas as pd\n",
    "\n",
    "# Data Visualization\n",
    "import seaborn as sns\n",
    "import plotly.io as pio\n",
    "import plotly.express as px\n",
    "import matplotlib.pyplot as plt\n",
    "import plotly.graph_objects as go\n",
    "import plotly.figure_factory as ff\n",
    "from plotly.subplots import make_subplots\n",
    "\n",
    "# Warnings\n",
    "import warnings\n",
    "import humanize\n",
    "\n",
    "# IO & Requests\n",
    "import time\n",
    "import random\n",
    "import requests\n",
    "from io import StringIO\n",
    "\n",
    "# StatsModels\n",
    "import statsmodels.api as sm\n",
    "from statsmodels.tsa.seasonal import MSTL , DecomposeResult\n",
    "\n",
    "# OS\n",
    "import os\n",
    "import sys\n",
    "import pickleshare\n",
    "import missingno as msno\n",
    "from itertools import cycle\n",
    "\n",
    "# PyArrow\n",
    "import pyarrow as pa\n",
    "\n",
    "# FuncTools\n",
    "from functools import partial\n",
    "\n",
    "# Path & Notebook Optimizer\n",
    "from pathlib import Path\n",
    "import missingno as msno\n",
    "from tqdm.auto import tqdm\n",
    "\n",
    "# Scikit-Learn\n",
    "from sklearn.decomposition import PCA\n",
    "from sklearn.pipeline import Pipeline\n",
    "from sklearn.metrics import mean_absolute_error\n",
    "from sklearn.preprocessing import StandardScaler\n",
    "from sklearn.preprocessing import PolynomialFeatures\n",
    "from sklearn.linear_model import LinearRegression, Ridge, Lasso\n",
    "\n",
    "# IPython\n",
    "from IPython.display import display, HTML\n",
    "\n",
    "# NIXTLA\n",
    "from statsforecast.core import StatsForecast\n",
    "from utilsforecast.plotting import plot_series\n",
    "from utilsforecast.evaluation import evaluate\n",
    "\n",
    "# Forecast\n",
    "# from datasetsforecast.losses import *\n",
    "from utilsforecast.evaluation import evaluate"
   ]
  },
  {
   "cell_type": "code",
   "execution_count": 14,
   "id": "21b4344f-4c8b-4ee6-94f1-062d785fa0fb",
   "metadata": {},
   "outputs": [
    {
     "name": "stdout",
     "output_type": "stream",
     "text": [
      "Requirement already satisfied: statsforecast in /opt/anaconda3/lib/python3.12/site-packages (2.0.2)\n",
      "Requirement already satisfied: cloudpickle in /opt/anaconda3/lib/python3.12/site-packages (from statsforecast) (3.0.0)\n",
      "Requirement already satisfied: coreforecast>=0.0.12 in /opt/anaconda3/lib/python3.12/site-packages (from statsforecast) (0.0.16)\n",
      "Requirement already satisfied: numba>=0.55.0 in /opt/anaconda3/lib/python3.12/site-packages (from statsforecast) (0.60.0)\n",
      "Requirement already satisfied: numpy>=1.21.6 in /opt/anaconda3/lib/python3.12/site-packages (from statsforecast) (1.26.4)\n",
      "Requirement already satisfied: pandas>=1.3.5 in /opt/anaconda3/lib/python3.12/site-packages (from statsforecast) (1.5.3)\n",
      "Requirement already satisfied: scipy<1.16.0,>=1.7.3 in /opt/anaconda3/lib/python3.12/site-packages (from statsforecast) (1.11.4)\n",
      "Requirement already satisfied: statsmodels>=0.13.2 in /opt/anaconda3/lib/python3.12/site-packages (from statsforecast) (0.14.2)\n",
      "Requirement already satisfied: tqdm in /opt/anaconda3/lib/python3.12/site-packages (from statsforecast) (4.66.5)\n",
      "Requirement already satisfied: fugue>=0.8.1 in /opt/anaconda3/lib/python3.12/site-packages (from statsforecast) (0.9.1)\n",
      "Requirement already satisfied: utilsforecast>=0.1.4 in /opt/anaconda3/lib/python3.12/site-packages (from statsforecast) (0.2.12)\n",
      "Requirement already satisfied: threadpoolctl>=3 in /opt/anaconda3/lib/python3.12/site-packages (from statsforecast) (3.5.0)\n",
      "Requirement already satisfied: triad>=0.9.7 in /opt/anaconda3/lib/python3.12/site-packages (from fugue>=0.8.1->statsforecast) (0.9.8)\n",
      "Requirement already satisfied: adagio>=0.2.4 in /opt/anaconda3/lib/python3.12/site-packages (from fugue>=0.8.1->statsforecast) (0.2.6)\n",
      "Requirement already satisfied: llvmlite<0.44,>=0.43.0dev0 in /opt/anaconda3/lib/python3.12/site-packages (from numba>=0.55.0->statsforecast) (0.43.0)\n",
      "Requirement already satisfied: python-dateutil>=2.8.1 in /opt/anaconda3/lib/python3.12/site-packages (from pandas>=1.3.5->statsforecast) (2.9.0.post0)\n",
      "Requirement already satisfied: pytz>=2020.1 in /opt/anaconda3/lib/python3.12/site-packages (from pandas>=1.3.5->statsforecast) (2025.2)\n",
      "Requirement already satisfied: patsy>=0.5.6 in /opt/anaconda3/lib/python3.12/site-packages (from statsmodels>=0.13.2->statsforecast) (0.5.6)\n",
      "Requirement already satisfied: packaging>=21.3 in /opt/anaconda3/lib/python3.12/site-packages (from statsmodels>=0.13.2->statsforecast) (25.0)\n",
      "Requirement already satisfied: six in /opt/anaconda3/lib/python3.12/site-packages (from patsy>=0.5.6->statsmodels>=0.13.2->statsforecast) (1.17.0)\n",
      "Requirement already satisfied: pyarrow>=6.0.1 in /opt/anaconda3/lib/python3.12/site-packages (from triad>=0.9.7->fugue>=0.8.1->statsforecast) (16.1.0)\n",
      "Requirement already satisfied: fsspec>=2022.5.0 in /opt/anaconda3/lib/python3.12/site-packages (from triad>=0.9.7->fugue>=0.8.1->statsforecast) (2024.6.1)\n",
      "Requirement already satisfied: fs in /opt/anaconda3/lib/python3.12/site-packages (from triad>=0.9.7->fugue>=0.8.1->statsforecast) (2.4.16)\n",
      "Requirement already satisfied: appdirs~=1.4.3 in /opt/anaconda3/lib/python3.12/site-packages (from fs->triad>=0.9.7->fugue>=0.8.1->statsforecast) (1.4.4)\n",
      "Requirement already satisfied: setuptools in /opt/anaconda3/lib/python3.12/site-packages (from fs->triad>=0.9.7->fugue>=0.8.1->statsforecast) (75.1.0)\n"
     ]
    }
   ],
   "source": [
    "!pip install statsforecast"
   ]
  },
  {
   "cell_type": "code",
   "execution_count": 15,
   "id": "fcf345d0-b929-4a9c-b00d-ea610f079145",
   "metadata": {},
   "outputs": [],
   "source": [
    "tqdm.pandas()\n",
    "\n",
    "np.random.seed(0)\n",
    "\n",
    "pio.templates.default = \"plotly_white\"\n",
    "\n",
    "sys.path.append('/Users/joaquinromero/Desktop/MTSF')"
   ]
  },
  {
   "cell_type": "code",
   "execution_count": 16,
   "id": "2bf30a27-7c7e-4cd2-b00a-a23e5420dda0",
   "metadata": {},
   "outputs": [],
   "source": [
    "warnings.filterwarnings(\"ignore\", category=UserWarning)\n",
    "\n",
    "warnings.filterwarnings(\"ignore\", category=FutureWarning)"
   ]
  },
  {
   "cell_type": "code",
   "execution_count": 17,
   "id": "103d6bfc-0081-4028-a1c0-4ff926bd5711",
   "metadata": {},
   "outputs": [],
   "source": [
    "os.makedirs(\"imgs/chapter_05\", exist_ok=True)\n",
    "\n",
    "preprocessed = Path.home() / \"Desktop\" / \"data\" / \"london_smart_meters\" / \"preprocessed\""
   ]
  },
  {
   "cell_type": "code",
   "execution_count": 21,
   "id": "ff90d5c7-07a0-4355-b3cc-73076e59994a",
   "metadata": {},
   "outputs": [],
   "source": [
    "# Custom Libraries\n",
    "from src.utils import plotting_utils\n",
    "# from src.utils.ts_utils import forecast_bias\n",
    "\n",
    "from src.utils.ts_utils_updated import (\n",
    "    forecast_bias,\n",
    "    forecast_bias_aggregate,\n",
    "    metrics_adapter,\n",
    "    mae,\n",
    "    mse,\n",
    "    mase,\n",
    "    average_length,\n",
    ")"
   ]
  },
  {
   "cell_type": "code",
   "execution_count": 22,
   "id": "527c5e48-1f8a-42a2-95fa-13ca967b0343",
   "metadata": {},
   "outputs": [],
   "source": [
    "def true_fun(X):\n",
    "    return np.cos(1.5 * np.pi * X)\n",
    "\n",
    "n_samples = 30\n",
    "degrees = [1, 4, 15]\n",
    "\n",
    "X = np.sort(np.random.rand(n_samples))\n",
    "y = true_fun(X) + np.random.randn(n_samples) * 0.1"
   ]
  },
  {
   "cell_type": "code",
   "execution_count": 30,
   "id": "7e891eff-df1a-4de7-8d0f-242cd97ee7e7",
   "metadata": {},
   "outputs": [
    {
     "data": {
      "application/vnd.plotly.v1+json": {
       "config": {
        "plotlyServerURL": "https://plot.ly"
       },
       "data": [
        {
         "mode": "lines",
         "name": "Linear Regression",
         "type": "scatter",
         "x": {
          "bdata": "AAAAAAAAAABbv1Kg1q+EP1u/UqDWr5Q/CB988MEHnz9bv1Kg1q+kPzJvZ0jM26k/CB988MEHrz9wZ0jM2xmyP1u/UqDWr7Q/RhdddNFFtz8yb2dIzNu5Px3HcRzHcbw/CB988MEHvz96O0Ni3s7AP3BnSMzbGcI/ZZNNNtlkwz9bv1Kg1q/EP1HrVwrU+sU/RhdddNFFxz88Q2LezpDIPzJvZ0jM28k/J5tssskmyz8dx3Ecx3HMPxPzdobEvM0/CB988MEHzz9/pUCtXynQP3o7Q2LeztA/ddFFF1100T9wZ0jM2xnSP2r9SoFav9I/ZZNNNtlk0z9gKVDrVwrUP1u/UqDWr9Q/VlVVVVVV1T9R61cK1PrVP0yBWr9SoNY/RhdddNFF1z9BrV8pUOvXPzxDYt7OkNg/N9lkk0022T8yb2dIzNvZPy0Fav1Kgdo/J5tssskm2z8iMW9nSMzbPx3HcRzHcdw/GF100UUX3T8T83aGxLzdPw6JeTtDYt4/CB988MEH3z8DtX6lQK3fP3+lQK1fKeA/ffDBBx984D96O0Ni3s7gP3eGxLydIeE/ddFFF1104T9yHMdxHMfhP3BnSMzbGeI/bbLJJpts4j9q/UqBWr/iP2hIzNsZEuM/ZZNNNtlk4z9j3s6QmLfjP2ApUOtXCuQ/XnTRRRdd5D9bv1Kg1q/kP1gK1PqVAuU/VlVVVVVV5T9ToNavFKjlP1HrVwrU+uU/TjbZZJNN5j9MgVq/UqDmP0nM2xkS8+Y/RhdddNFF5z9EYt7OkJjnP0GtXylQ6+c/P/jggw8+6D88Q2LezpDoPzmO4ziO4+g/N9lkk0026T80JObtDInpPzJvZ0jM2+k/L7rooosu6j8tBWr9SoHqPypQ61cK1Oo/J5tssskm6z8l5u0MiXnrPyIxb2dIzOs/IHzwwQcf7D8dx3Ecx3HsPxsS83aGxOw/GF100UUX7T8VqPUrBWrtPxPzdobEvO0/ED744IMP7j8OiXk7Q2LuPwvU+pUCte4/CB988MEH7z8Gav1KgVrvPwO1fqVAre8/AAAAAAAA8D8=",
          "dtype": "f8"
         },
         "xaxis": "x",
         "y": {
          "bdata": "TeVjOnws4T/HeYKbUafgP0IOofwmIuA/eEV/u/g53z9tbrx9oy/eP2KX+T9OJd0/V8A2Avka3D9L6XPEoxDbP0ASsYZOBto/NTvuSPn72D8qZCsLpPHXPx6NaM1O59Y/FLalj/nc1T8I3+JRpNLUP/wHIBRPyNM/8jBd1vm90j/nWZqYpLPRP9uC11pPqdA/oFcpOvQ9zz+KqaO+SSnNP3L7HUOfFMs/Xk2Yx/T/yD9GnxJMSuvGPzDxjNCf1sQ/GkMHVfXBwj8ElYHZSq3AP9jN97tAMb0/rHHsxOsHuT98FeHNlt60P1S51dZBtbA/ULqUv9kXqT/wAX7RL8WgP0CTzsYL5ZA/AECRUPXbLz9ATozxm2WQv4Df3OZ3haC/0Jfz1CHYqL8QKIXhZZWwv0CEkNi6vrS/cOCbzw/ouL+gPKfGZBG9v2RM2d5cncC/ePpeWgeywr+QqOTVscbEv6hWalFc28a/vATwzAbwyL/UsnVIsQTLv+xg+8NbGc2/AA+BPwYuz7+MXoNdWKHQv5Y1Rputq9G/pAwJ2QK20r+u48sWWMDTv7i6jlStytS/xJFRkgLV1b/OaBTQV9/Wv9w/1w2t6de/5haaSwL02L/w7VyJV/7Zv/zEH8esCNu/BpziBAIT3L8Uc6VCVx3dvx5KaICsJ96/KiErvgEy378Z/PZ9Kx7gv59n2BxWo+C/JdO5u4Ao4b+rPptaq63hvzGqfPnVMuK/tRVemAC44r89gT83Kz3jv8HsINZVwuO/R1gCdYBH5L/Nw+MTq8zkv1EvxbLVUeW/2ZqmUQDX5b9dBojwKlzmv+NxaY9V4ea/ad1KLoBm57/tSCzNquvnv3W0DWzVcOi/+R/vCgD26L9/i9CpKnvpvwX3sUhVAOq/iWKT53+F6r8PznSGqgrrv5U5ViXVj+u/G6U3xP8U7L+hEBljKprsvyd8+gFVH+2/q+fboH+k7b8xU70/qinuv7e+nt7Uru6/PSqAff8z77/DlWEcKrnvv6SAoV0qH/C/ZjYSrb9h8L8q7IL8VKTwv+yh80vq5vC/rldkm38p8b8=",
          "dtype": "f8"
         },
         "yaxis": "y"
        },
        {
         "mode": "markers",
         "name": "Samples",
         "type": "scatter",
         "x": {
          "bdata": "4IkiryG0lD8I88tKay+yP/DSvRQbTrY/MGwPlztHvj+oFJmIZlnCPxZC0ktOitg/BO/JO9KJ2j/2Dv0EKR3bP9JZYcptAdw/GPApvOCI3T8Lc2xA+7LgPyJ/6wm17OA/9ZVj265v4T+oEl9W4Y/hPy02kslrLeI/S4lua9ZJ4z///FOmO3rkP1ubiSEqq+Q/M4dgz9Ti5j8duI/8qOboPzIst1IY+ug/KKk/v89V6T/yITT7tJLpP3sg1F/SpOo/J/h6tyPX6z/3EjqIZ4nsPwglWNd8nu0/iNIIT7o67j82MxdJU9buP4H55GnXUO8/",
          "dtype": "f8"
         },
         "xaxis": "x",
         "y": {
          "bdata": "qvXx+X5P8T9bnmpPTdnrPzpx11NCTfI/EGi6TciA5j8eSnAkSh7pP1dLwoSSK9C/F6bafps+zL9KsFuCdwXRv4wjvZlvM92/69BQ+ur14L+ssh1wj6zrv9xF0Hj70++/ewrx2Zv867/7wCS2tLDqvzg4bhdEq+i/Xysicl626r8mFF/XKH7wvywfo/Q2aPC/LJJp499C8b+yHo5eNx3wv3o0NflGe/C/z136WhJc5L+epvnVA5jrv1+m2LzuGui/GOH6allo5r8irjnxkETav2sscDzgJ+C/nRAfU03c0b+lEZ619aLQv3HAfXIZsa+/",
          "dtype": "f8"
         },
         "yaxis": "y"
        },
        {
         "mode": "lines",
         "name": "Polynomial Regression (Degree=4)",
         "type": "scatter",
         "x": {
          "bdata": "AAAAAAAAAABbv1Kg1q+EP1u/UqDWr5Q/CB988MEHnz9bv1Kg1q+kPzJvZ0jM26k/CB988MEHrz9wZ0jM2xmyP1u/UqDWr7Q/RhdddNFFtz8yb2dIzNu5Px3HcRzHcbw/CB988MEHvz96O0Ni3s7AP3BnSMzbGcI/ZZNNNtlkwz9bv1Kg1q/EP1HrVwrU+sU/RhdddNFFxz88Q2LezpDIPzJvZ0jM28k/J5tssskmyz8dx3Ecx3HMPxPzdobEvM0/CB988MEHzz9/pUCtXynQP3o7Q2LeztA/ddFFF1100T9wZ0jM2xnSP2r9SoFav9I/ZZNNNtlk0z9gKVDrVwrUP1u/UqDWr9Q/VlVVVVVV1T9R61cK1PrVP0yBWr9SoNY/RhdddNFF1z9BrV8pUOvXPzxDYt7OkNg/N9lkk0022T8yb2dIzNvZPy0Fav1Kgdo/J5tssskm2z8iMW9nSMzbPx3HcRzHcdw/GF100UUX3T8T83aGxLzdPw6JeTtDYt4/CB988MEH3z8DtX6lQK3fP3+lQK1fKeA/ffDBBx984D96O0Ni3s7gP3eGxLydIeE/ddFFF1104T9yHMdxHMfhP3BnSMzbGeI/bbLJJpts4j9q/UqBWr/iP2hIzNsZEuM/ZZNNNtlk4z9j3s6QmLfjP2ApUOtXCuQ/XnTRRRdd5D9bv1Kg1q/kP1gK1PqVAuU/VlVVVVVV5T9ToNavFKjlP1HrVwrU+uU/TjbZZJNN5j9MgVq/UqDmP0nM2xkS8+Y/RhdddNFF5z9EYt7OkJjnP0GtXylQ6+c/P/jggw8+6D88Q2LezpDoPzmO4ziO4+g/N9lkk0026T80JObtDInpPzJvZ0jM2+k/L7rooosu6j8tBWr9SoHqPypQ61cK1Oo/J5tssskm6z8l5u0MiXnrPyIxb2dIzOs/IHzwwQcf7D8dx3Ecx3HsPxsS83aGxOw/GF100UUX7T8VqPUrBWrtPxPzdobEvO0/ED744IMP7j8OiXk7Q2LuPwvU+pUCte4/CB988MEH7z8Gav1KgVrvPwO1fqVAre8/AAAAAAAA8D8=",
          "dtype": "f8"
         },
         "xaxis": "x2",
         "y": {
          "bdata": "83lUqUh/8D/Hd9XhSovwP1SXTHsGifA/gwTblBF58D/lr4dmAFzwP7JOP0FlMvA/j7WoHaH57z9XJf6joXfvPxTzukzl3+4/bK7mgIEz7j9RcFTbh3PtPwXboigGoew/Fho8Zwa96z9g4lXHjsjqPwxy8aqhxOk/lJDbpT2y6D+6jqx9XZLnP5NGyCn4ZeY/fhte0wAu5T8p+mjVZuvjP49Yr7wVn+I//DXDR/VJ4T8ENgTO0tnfPxAzKnmkEd0/hJnhOBg92j9WsqoY313XPyjZnIeiddQ/KHxmWASG0T9cOJqCPSHNP1CZWrgILsc/LGf1TIA1wT9wJgAFVnW2P+DP+IgBAqU/AF3Pa+jCdr8AYthaC5mqv3A99fFwGrm/IOIvhD1owr8okiuLpjTIv0g5lVnX782/LB7zeaHL0b+Y7bTLNZTUvziYHl1xUNe/uJinhST/2b8sVzA5J5/cvxwpAghZL9+/rqhnj1DX4L8egFkj9w3iv7apmHIbO+O/6qobfjxe5L8GgA0V3Xblv/KbzdSDhOa/RujvKLuG579WxTxLEX3ovy4KsUMYZ+m/cgR+6GVE6r+ieAnekxTrv7qh7ZY/1+u/ojH5UwqM7L/KUC8kmTLtv2Kex+SUyu2/WjAuQapT7r8ykwOzic3uv0rKHILnN++/kk+DxHuS77/CE3VeAt3vvxE/MoGdC/C/bTZ8mHQg8L9VGoYc6izwv4HQ15vjMPC//XkTjEgs8L9Nc/VJAh/wvy1UVBn8CPC/et9BSkbU77/KqMz+zITvvyqYk0JuI++/2rcV1g+w7r/aiAZImyruv/oCTvX9ku2/ipQICSnp7L/KIod8ES3sv1oJTxewXuu/GhsabwF+6r/qoNbnBYvpv+pap7PBhei/qn/j0jxu579qvBYUg0Tmvyo1ARSkCOW/moSXPbO64796vALKx1rivzpkoMD86OC/dPYE7uHK3r+07d4hjqDbv/SFxABLU9i/dIUUC23j1L+0n5ZdUFHRv+jo9mKxOsu/6CO5uOKPw7/Q0PFANUa3v0AvaLhxqpu/YFiHt/jhoz8=",
          "dtype": "f8"
         },
         "yaxis": "y2"
        },
        {
         "mode": "markers",
         "name": "Samples",
         "type": "scatter",
         "x": {
          "bdata": "4IkiryG0lD8I88tKay+yP/DSvRQbTrY/MGwPlztHvj+oFJmIZlnCPxZC0ktOitg/BO/JO9KJ2j/2Dv0EKR3bP9JZYcptAdw/GPApvOCI3T8Lc2xA+7LgPyJ/6wm17OA/9ZVj265v4T+oEl9W4Y/hPy02kslrLeI/S4lua9ZJ4z///FOmO3rkP1ubiSEqq+Q/M4dgz9Ti5j8duI/8qOboPzIst1IY+ug/KKk/v89V6T/yITT7tJLpP3sg1F/SpOo/J/h6tyPX6z/3EjqIZ4nsPwglWNd8nu0/iNIIT7o67j82MxdJU9buP4H55GnXUO8/",
          "dtype": "f8"
         },
         "xaxis": "x2",
         "y": {
          "bdata": "qvXx+X5P8T9bnmpPTdnrPzpx11NCTfI/EGi6TciA5j8eSnAkSh7pP1dLwoSSK9C/F6bafps+zL9KsFuCdwXRv4wjvZlvM92/69BQ+ur14L+ssh1wj6zrv9xF0Hj70++/ewrx2Zv867/7wCS2tLDqvzg4bhdEq+i/Xysicl626r8mFF/XKH7wvywfo/Q2aPC/LJJp499C8b+yHo5eNx3wv3o0NflGe/C/z136WhJc5L+epvnVA5jrv1+m2LzuGui/GOH6allo5r8irjnxkETav2sscDzgJ+C/nRAfU03c0b+lEZ619aLQv3HAfXIZsa+/",
          "dtype": "f8"
         },
         "yaxis": "y2"
        },
        {
         "mode": "lines",
         "name": "Polynomial Regression (Degree=15)",
         "type": "scatter",
         "x": {
          "bdata": "AAAAAAAAAABbv1Kg1q+EP1u/UqDWr5Q/CB988MEHnz9bv1Kg1q+kPzJvZ0jM26k/CB988MEHrz9wZ0jM2xmyP1u/UqDWr7Q/RhdddNFFtz8yb2dIzNu5Px3HcRzHcbw/CB988MEHvz96O0Ni3s7AP3BnSMzbGcI/ZZNNNtlkwz9bv1Kg1q/EP1HrVwrU+sU/RhdddNFFxz88Q2LezpDIPzJvZ0jM28k/J5tssskmyz8dx3Ecx3HMPxPzdobEvM0/CB988MEHzz9/pUCtXynQP3o7Q2LeztA/ddFFF1100T9wZ0jM2xnSP2r9SoFav9I/ZZNNNtlk0z9gKVDrVwrUP1u/UqDWr9Q/VlVVVVVV1T9R61cK1PrVP0yBWr9SoNY/RhdddNFF1z9BrV8pUOvXPzxDYt7OkNg/N9lkk0022T8yb2dIzNvZPy0Fav1Kgdo/J5tssskm2z8iMW9nSMzbPx3HcRzHcdw/GF100UUX3T8T83aGxLzdPw6JeTtDYt4/CB988MEH3z8DtX6lQK3fP3+lQK1fKeA/ffDBBx984D96O0Ni3s7gP3eGxLydIeE/ddFFF1104T9yHMdxHMfhP3BnSMzbGeI/bbLJJpts4j9q/UqBWr/iP2hIzNsZEuM/ZZNNNtlk4z9j3s6QmLfjP2ApUOtXCuQ/XnTRRRdd5D9bv1Kg1q/kP1gK1PqVAuU/VlVVVVVV5T9ToNavFKjlP1HrVwrU+uU/TjbZZJNN5j9MgVq/UqDmP0nM2xkS8+Y/RhdddNFF5z9EYt7OkJjnP0GtXylQ6+c/P/jggw8+6D88Q2LezpDoPzmO4ziO4+g/N9lkk0026T80JObtDInpPzJvZ0jM2+k/L7rooosu6j8tBWr9SoHqPypQ61cK1Oo/J5tssskm6z8l5u0MiXnrPyIxb2dIzOs/IHzwwQcf7D8dx3Ecx3HsPxsS83aGxOw/GF100UUX7T8VqPUrBWrtPxPzdobEvO0/ED744IMP7j8OiXk7Q2LuPwvU+pUCte4/CB988MEH7z8Gav1KgVrvPwO1fqVAre8/AAAAAAAA8D8=",
          "dtype": "f8"
         },
         "xaxis": "x3",
         "y": {
          "bdata": "QE9KChZzP0BcUTZjJV8kQEC69IzRcfE/oMsVONds+7+A7fBq0RT7v0DKhKg8s+e/AINx8nu6zD9Az+XoEHfrP1AN0cUT8/E/wM9ljJfM8T/gZCHCU9ruPyCzU9jVcOk/oBJjmnfq5T/guE3YOXzlP2A6hLuhNeg/IG6bsxZY7T+AeARlV9rxPwA4tNGG//Q/wPKA0FyG9z+waRkvIP/4P9Bj64eqKfk/AC3XN6T29z+wfyUqIYL1PyDfumTtCfI/YHAL0lrD6z8ABTeIQ83iPwA3+5LO0dM/AFxJGjGAqz8A6gqDMBrFv8ChSGYpfdW/gBJLnSAS3b9gc4hH/angv6AscIKCSuG/QA6swnew4L+A7xE27Wjev8BRZ6sSb9q/AHYyrNUy1r9ATMbMNWDSv4AsxutLBc+/AHcpyrb4y7+Ah7qpbQTMvwABfuMuOM+/gNQ2MROp0r9AV+Noz+bWvwACg20K+9u/AAuZaSm/4L8ASlvhdIPjvwDdIFdxGea/ANBwvFpY6L+AWMWh1CLqv8A1wz3aaOu/gEXTh1Uo7L9AB/QaZmzsv8A4h0t8S+y/AJ0bl4Hk679ARIoMXFvrvwAEBwQg1eq/AC/cZ0t06r/ARPiVYFXqv0CCchosjOq/AE0JoPEh679AB9QapxTsv4DPdvRMV+2/gOGT4VrT7r+AaBlKjTXwvwC3Xcld/vC/IHqGpuiy8b+gd9s/ckPyv6DhjUVeo/K/wEJPKYPK8r9AkeqCBrbyv2CR44mkaPK/wIsjilbq8b+Ajgo8WEfxv6AO8F+fjvC/wNByfeSf77+AxUKWkTPuv4CadvmT7uy/QNEVpD/d67/AAaOJ+P/qv8Dwo9rmSuq/QPRLNuKn6b+A+tGaV/rov8CWauMXJei/wC3V/xkR57+AZXR3WrTlv0A9iLzsFuS/wN7TJ9RU4r/AoDFHsJrgv0D7r6WLN96/QAt56C0D3L9AwS/nSazav4D/X8/f3Nm/ADdl4xC+2L8A4XqSthfWv4CopqWt3dC/gNjoStv3wr8ALyIcSGaxv4DbsRubcMy/AAxba8HU8L8=",
          "dtype": "f8"
         },
         "yaxis": "y3"
        },
        {
         "mode": "markers",
         "name": "Samples",
         "type": "scatter",
         "x": {
          "bdata": "4IkiryG0lD8I88tKay+yP/DSvRQbTrY/MGwPlztHvj+oFJmIZlnCPxZC0ktOitg/BO/JO9KJ2j/2Dv0EKR3bP9JZYcptAdw/GPApvOCI3T8Lc2xA+7LgPyJ/6wm17OA/9ZVj265v4T+oEl9W4Y/hPy02kslrLeI/S4lua9ZJ4z///FOmO3rkP1ubiSEqq+Q/M4dgz9Ti5j8duI/8qOboPzIst1IY+ug/KKk/v89V6T/yITT7tJLpP3sg1F/SpOo/J/h6tyPX6z/3EjqIZ4nsPwglWNd8nu0/iNIIT7o67j82MxdJU9buP4H55GnXUO8/",
          "dtype": "f8"
         },
         "xaxis": "x3",
         "y": {
          "bdata": "qvXx+X5P8T9bnmpPTdnrPzpx11NCTfI/EGi6TciA5j8eSnAkSh7pP1dLwoSSK9C/F6bafps+zL9KsFuCdwXRv4wjvZlvM92/69BQ+ur14L+ssh1wj6zrv9xF0Hj70++/ewrx2Zv867/7wCS2tLDqvzg4bhdEq+i/Xysicl626r8mFF/XKH7wvywfo/Q2aPC/LJJp499C8b+yHo5eNx3wv3o0NflGe/C/z136WhJc5L+epvnVA5jrv1+m2LzuGui/GOH6allo5r8irjnxkETav2sscDzgJ+C/nRAfU03c0b+lEZ619aLQv3HAfXIZsa+/",
          "dtype": "f8"
         },
         "yaxis": "y3"
        }
       ],
       "layout": {
        "annotations": [
         {
          "font": {
           "size": 16
          },
          "showarrow": false,
          "text": "Linear Regression",
          "x": 0.5,
          "xanchor": "center",
          "xref": "paper",
          "y": 1,
          "yanchor": "bottom",
          "yref": "paper"
         },
         {
          "font": {
           "size": 16
          },
          "showarrow": false,
          "text": "Polynomial Regression (Degree=4)",
          "x": 0.5,
          "xanchor": "center",
          "xref": "paper",
          "y": 0.6111111111111112,
          "yanchor": "bottom",
          "yref": "paper"
         },
         {
          "font": {
           "size": 16
          },
          "showarrow": false,
          "text": "Polynomial Regression (Degree=15)",
          "x": 0.5,
          "xanchor": "center",
          "xref": "paper",
          "y": 0.22222222222222224,
          "yanchor": "bottom",
          "yref": "paper"
         }
        ],
        "autosize": false,
        "height": 600,
        "showlegend": false,
        "template": {
         "data": {
          "bar": [
           {
            "error_x": {
             "color": "#2a3f5f"
            },
            "error_y": {
             "color": "#2a3f5f"
            },
            "marker": {
             "line": {
              "color": "white",
              "width": 0.5
             },
             "pattern": {
              "fillmode": "overlay",
              "size": 10,
              "solidity": 0.2
             }
            },
            "type": "bar"
           }
          ],
          "barpolar": [
           {
            "marker": {
             "line": {
              "color": "white",
              "width": 0.5
             },
             "pattern": {
              "fillmode": "overlay",
              "size": 10,
              "solidity": 0.2
             }
            },
            "type": "barpolar"
           }
          ],
          "carpet": [
           {
            "aaxis": {
             "endlinecolor": "#2a3f5f",
             "gridcolor": "#C8D4E3",
             "linecolor": "#C8D4E3",
             "minorgridcolor": "#C8D4E3",
             "startlinecolor": "#2a3f5f"
            },
            "baxis": {
             "endlinecolor": "#2a3f5f",
             "gridcolor": "#C8D4E3",
             "linecolor": "#C8D4E3",
             "minorgridcolor": "#C8D4E3",
             "startlinecolor": "#2a3f5f"
            },
            "type": "carpet"
           }
          ],
          "choropleth": [
           {
            "colorbar": {
             "outlinewidth": 0,
             "ticks": ""
            },
            "type": "choropleth"
           }
          ],
          "contour": [
           {
            "colorbar": {
             "outlinewidth": 0,
             "ticks": ""
            },
            "colorscale": [
             [
              0,
              "#0d0887"
             ],
             [
              0.1111111111111111,
              "#46039f"
             ],
             [
              0.2222222222222222,
              "#7201a8"
             ],
             [
              0.3333333333333333,
              "#9c179e"
             ],
             [
              0.4444444444444444,
              "#bd3786"
             ],
             [
              0.5555555555555556,
              "#d8576b"
             ],
             [
              0.6666666666666666,
              "#ed7953"
             ],
             [
              0.7777777777777778,
              "#fb9f3a"
             ],
             [
              0.8888888888888888,
              "#fdca26"
             ],
             [
              1,
              "#f0f921"
             ]
            ],
            "type": "contour"
           }
          ],
          "contourcarpet": [
           {
            "colorbar": {
             "outlinewidth": 0,
             "ticks": ""
            },
            "type": "contourcarpet"
           }
          ],
          "heatmap": [
           {
            "colorbar": {
             "outlinewidth": 0,
             "ticks": ""
            },
            "colorscale": [
             [
              0,
              "#0d0887"
             ],
             [
              0.1111111111111111,
              "#46039f"
             ],
             [
              0.2222222222222222,
              "#7201a8"
             ],
             [
              0.3333333333333333,
              "#9c179e"
             ],
             [
              0.4444444444444444,
              "#bd3786"
             ],
             [
              0.5555555555555556,
              "#d8576b"
             ],
             [
              0.6666666666666666,
              "#ed7953"
             ],
             [
              0.7777777777777778,
              "#fb9f3a"
             ],
             [
              0.8888888888888888,
              "#fdca26"
             ],
             [
              1,
              "#f0f921"
             ]
            ],
            "type": "heatmap"
           }
          ],
          "histogram": [
           {
            "marker": {
             "pattern": {
              "fillmode": "overlay",
              "size": 10,
              "solidity": 0.2
             }
            },
            "type": "histogram"
           }
          ],
          "histogram2d": [
           {
            "colorbar": {
             "outlinewidth": 0,
             "ticks": ""
            },
            "colorscale": [
             [
              0,
              "#0d0887"
             ],
             [
              0.1111111111111111,
              "#46039f"
             ],
             [
              0.2222222222222222,
              "#7201a8"
             ],
             [
              0.3333333333333333,
              "#9c179e"
             ],
             [
              0.4444444444444444,
              "#bd3786"
             ],
             [
              0.5555555555555556,
              "#d8576b"
             ],
             [
              0.6666666666666666,
              "#ed7953"
             ],
             [
              0.7777777777777778,
              "#fb9f3a"
             ],
             [
              0.8888888888888888,
              "#fdca26"
             ],
             [
              1,
              "#f0f921"
             ]
            ],
            "type": "histogram2d"
           }
          ],
          "histogram2dcontour": [
           {
            "colorbar": {
             "outlinewidth": 0,
             "ticks": ""
            },
            "colorscale": [
             [
              0,
              "#0d0887"
             ],
             [
              0.1111111111111111,
              "#46039f"
             ],
             [
              0.2222222222222222,
              "#7201a8"
             ],
             [
              0.3333333333333333,
              "#9c179e"
             ],
             [
              0.4444444444444444,
              "#bd3786"
             ],
             [
              0.5555555555555556,
              "#d8576b"
             ],
             [
              0.6666666666666666,
              "#ed7953"
             ],
             [
              0.7777777777777778,
              "#fb9f3a"
             ],
             [
              0.8888888888888888,
              "#fdca26"
             ],
             [
              1,
              "#f0f921"
             ]
            ],
            "type": "histogram2dcontour"
           }
          ],
          "mesh3d": [
           {
            "colorbar": {
             "outlinewidth": 0,
             "ticks": ""
            },
            "type": "mesh3d"
           }
          ],
          "parcoords": [
           {
            "line": {
             "colorbar": {
              "outlinewidth": 0,
              "ticks": ""
             }
            },
            "type": "parcoords"
           }
          ],
          "pie": [
           {
            "automargin": true,
            "type": "pie"
           }
          ],
          "scatter": [
           {
            "fillpattern": {
             "fillmode": "overlay",
             "size": 10,
             "solidity": 0.2
            },
            "type": "scatter"
           }
          ],
          "scatter3d": [
           {
            "line": {
             "colorbar": {
              "outlinewidth": 0,
              "ticks": ""
             }
            },
            "marker": {
             "colorbar": {
              "outlinewidth": 0,
              "ticks": ""
             }
            },
            "type": "scatter3d"
           }
          ],
          "scattercarpet": [
           {
            "marker": {
             "colorbar": {
              "outlinewidth": 0,
              "ticks": ""
             }
            },
            "type": "scattercarpet"
           }
          ],
          "scattergeo": [
           {
            "marker": {
             "colorbar": {
              "outlinewidth": 0,
              "ticks": ""
             }
            },
            "type": "scattergeo"
           }
          ],
          "scattergl": [
           {
            "marker": {
             "colorbar": {
              "outlinewidth": 0,
              "ticks": ""
             }
            },
            "type": "scattergl"
           }
          ],
          "scattermap": [
           {
            "marker": {
             "colorbar": {
              "outlinewidth": 0,
              "ticks": ""
             }
            },
            "type": "scattermap"
           }
          ],
          "scattermapbox": [
           {
            "marker": {
             "colorbar": {
              "outlinewidth": 0,
              "ticks": ""
             }
            },
            "type": "scattermapbox"
           }
          ],
          "scatterpolar": [
           {
            "marker": {
             "colorbar": {
              "outlinewidth": 0,
              "ticks": ""
             }
            },
            "type": "scatterpolar"
           }
          ],
          "scatterpolargl": [
           {
            "marker": {
             "colorbar": {
              "outlinewidth": 0,
              "ticks": ""
             }
            },
            "type": "scatterpolargl"
           }
          ],
          "scatterternary": [
           {
            "marker": {
             "colorbar": {
              "outlinewidth": 0,
              "ticks": ""
             }
            },
            "type": "scatterternary"
           }
          ],
          "surface": [
           {
            "colorbar": {
             "outlinewidth": 0,
             "ticks": ""
            },
            "colorscale": [
             [
              0,
              "#0d0887"
             ],
             [
              0.1111111111111111,
              "#46039f"
             ],
             [
              0.2222222222222222,
              "#7201a8"
             ],
             [
              0.3333333333333333,
              "#9c179e"
             ],
             [
              0.4444444444444444,
              "#bd3786"
             ],
             [
              0.5555555555555556,
              "#d8576b"
             ],
             [
              0.6666666666666666,
              "#ed7953"
             ],
             [
              0.7777777777777778,
              "#fb9f3a"
             ],
             [
              0.8888888888888888,
              "#fdca26"
             ],
             [
              1,
              "#f0f921"
             ]
            ],
            "type": "surface"
           }
          ],
          "table": [
           {
            "cells": {
             "fill": {
              "color": "#EBF0F8"
             },
             "line": {
              "color": "white"
             }
            },
            "header": {
             "fill": {
              "color": "#C8D4E3"
             },
             "line": {
              "color": "white"
             }
            },
            "type": "table"
           }
          ]
         },
         "layout": {
          "annotationdefaults": {
           "arrowcolor": "#2a3f5f",
           "arrowhead": 0,
           "arrowwidth": 1
          },
          "autotypenumbers": "strict",
          "coloraxis": {
           "colorbar": {
            "outlinewidth": 0,
            "ticks": ""
           }
          },
          "colorscale": {
           "diverging": [
            [
             0,
             "#8e0152"
            ],
            [
             0.1,
             "#c51b7d"
            ],
            [
             0.2,
             "#de77ae"
            ],
            [
             0.3,
             "#f1b6da"
            ],
            [
             0.4,
             "#fde0ef"
            ],
            [
             0.5,
             "#f7f7f7"
            ],
            [
             0.6,
             "#e6f5d0"
            ],
            [
             0.7,
             "#b8e186"
            ],
            [
             0.8,
             "#7fbc41"
            ],
            [
             0.9,
             "#4d9221"
            ],
            [
             1,
             "#276419"
            ]
           ],
           "sequential": [
            [
             0,
             "#0d0887"
            ],
            [
             0.1111111111111111,
             "#46039f"
            ],
            [
             0.2222222222222222,
             "#7201a8"
            ],
            [
             0.3333333333333333,
             "#9c179e"
            ],
            [
             0.4444444444444444,
             "#bd3786"
            ],
            [
             0.5555555555555556,
             "#d8576b"
            ],
            [
             0.6666666666666666,
             "#ed7953"
            ],
            [
             0.7777777777777778,
             "#fb9f3a"
            ],
            [
             0.8888888888888888,
             "#fdca26"
            ],
            [
             1,
             "#f0f921"
            ]
           ],
           "sequentialminus": [
            [
             0,
             "#0d0887"
            ],
            [
             0.1111111111111111,
             "#46039f"
            ],
            [
             0.2222222222222222,
             "#7201a8"
            ],
            [
             0.3333333333333333,
             "#9c179e"
            ],
            [
             0.4444444444444444,
             "#bd3786"
            ],
            [
             0.5555555555555556,
             "#d8576b"
            ],
            [
             0.6666666666666666,
             "#ed7953"
            ],
            [
             0.7777777777777778,
             "#fb9f3a"
            ],
            [
             0.8888888888888888,
             "#fdca26"
            ],
            [
             1,
             "#f0f921"
            ]
           ]
          },
          "colorway": [
           "#636efa",
           "#EF553B",
           "#00cc96",
           "#ab63fa",
           "#FFA15A",
           "#19d3f3",
           "#FF6692",
           "#B6E880",
           "#FF97FF",
           "#FECB52"
          ],
          "font": {
           "color": "#2a3f5f"
          },
          "geo": {
           "bgcolor": "white",
           "lakecolor": "white",
           "landcolor": "white",
           "showlakes": true,
           "showland": true,
           "subunitcolor": "#C8D4E3"
          },
          "hoverlabel": {
           "align": "left"
          },
          "hovermode": "closest",
          "mapbox": {
           "style": "light"
          },
          "paper_bgcolor": "white",
          "plot_bgcolor": "white",
          "polar": {
           "angularaxis": {
            "gridcolor": "#EBF0F8",
            "linecolor": "#EBF0F8",
            "ticks": ""
           },
           "bgcolor": "white",
           "radialaxis": {
            "gridcolor": "#EBF0F8",
            "linecolor": "#EBF0F8",
            "ticks": ""
           }
          },
          "scene": {
           "xaxis": {
            "backgroundcolor": "white",
            "gridcolor": "#DFE8F3",
            "gridwidth": 2,
            "linecolor": "#EBF0F8",
            "showbackground": true,
            "ticks": "",
            "zerolinecolor": "#EBF0F8"
           },
           "yaxis": {
            "backgroundcolor": "white",
            "gridcolor": "#DFE8F3",
            "gridwidth": 2,
            "linecolor": "#EBF0F8",
            "showbackground": true,
            "ticks": "",
            "zerolinecolor": "#EBF0F8"
           },
           "zaxis": {
            "backgroundcolor": "white",
            "gridcolor": "#DFE8F3",
            "gridwidth": 2,
            "linecolor": "#EBF0F8",
            "showbackground": true,
            "ticks": "",
            "zerolinecolor": "#EBF0F8"
           }
          },
          "shapedefaults": {
           "line": {
            "color": "#2a3f5f"
           }
          },
          "ternary": {
           "aaxis": {
            "gridcolor": "#DFE8F3",
            "linecolor": "#A2B1C6",
            "ticks": ""
           },
           "baxis": {
            "gridcolor": "#DFE8F3",
            "linecolor": "#A2B1C6",
            "ticks": ""
           },
           "bgcolor": "white",
           "caxis": {
            "gridcolor": "#DFE8F3",
            "linecolor": "#A2B1C6",
            "ticks": ""
           }
          },
          "title": {
           "x": 0.05
          },
          "xaxis": {
           "automargin": true,
           "gridcolor": "#EBF0F8",
           "linecolor": "#EBF0F8",
           "ticks": "",
           "title": {
            "standoff": 15
           },
           "zerolinecolor": "#EBF0F8",
           "zerolinewidth": 2
          },
          "yaxis": {
           "automargin": true,
           "gridcolor": "#EBF0F8",
           "linecolor": "#EBF0F8",
           "ticks": "",
           "title": {
            "standoff": 15
           },
           "zerolinecolor": "#EBF0F8",
           "zerolinewidth": 2
          }
         }
        },
        "width": 700,
        "xaxis": {
         "anchor": "y",
         "domain": [
          0,
          1
         ]
        },
        "xaxis2": {
         "anchor": "y2",
         "domain": [
          0,
          1
         ]
        },
        "xaxis3": {
         "anchor": "y3",
         "domain": [
          0,
          1
         ]
        },
        "yaxis": {
         "anchor": "x",
         "domain": [
          0.7777777777777778,
          1
         ]
        },
        "yaxis2": {
         "anchor": "x2",
         "domain": [
          0.3888888888888889,
          0.6111111111111112
         ]
        },
        "yaxis3": {
         "anchor": "x3",
         "domain": [
          0,
          0.22222222222222224
         ],
         "range": [
          -2,
          2
         ]
        }
       }
      },
      "image/png": "[encoded data removed]"
     },
     "metadata": {},
     "output_type": "display_data"
    }
   ],
   "source": [
    "fig = make_subplots(rows=3, cols=1, subplot_titles=(\"Linear Regression\",\n",
    "                                                    \"Polynomial Regression (Degree=4)\",\n",
    "                                                    \"Polynomial Regression (Degree=15)\"))\n",
    "\n",
    "X_test = np.linspace(0, 1, 100)\n",
    "ideal_output = true_fun(X_test)\n",
    "for i in range(len(degrees)):\n",
    "    polynomial_features = PolynomialFeatures(degree=degrees[i], include_bias=False)\n",
    "    linear_regression = LinearRegression()\n",
    "    pipeline = Pipeline(\n",
    "        [\n",
    "            (\"polynomial_features\", polynomial_features),\n",
    "            (\"linear_regression\", linear_regression),\n",
    "        ]\n",
    "    )\n",
    "    pipeline.fit(X[:, np.newaxis], y)\n",
    "    model_output = pipeline.predict(X_test[:, np.newaxis])\n",
    "    fig.add_trace(\n",
    "        go.Scatter(\n",
    "            x=X_test,\n",
    "            y=model_output,\n",
    "            name=\"Linear Regression\" if degrees[i]==1 else f\"Polynomial Regression (Degree={degrees[i]})\",\n",
    "            mode=\"lines\"\n",
    "        ), row=i+1, col=1)\n",
    "    fig.add_trace(\n",
    "        go.Scatter(\n",
    "            x=X,\n",
    "            y=y,\n",
    "            name=\"Samples\",\n",
    "            mode=\"markers\"\n",
    "        ), row=i+1, col=1)\n",
    "fig.update_layout(\n",
    "    # yaxis_range=[-2,2],\n",
    "    autosize=False,\n",
    "    width=700,\n",
    "    height=600,\n",
    "    showlegend=False\n",
    ")\n",
    "fig.update_yaxes(range=[-2, 2], row=3, col=1)\n",
    "fig.write_image(\"imgs/chapter_05/under_vs_over_fitting.png\")\n",
    "fig.show()"
   ]
  },
  {
   "cell_type": "code",
   "execution_count": null,
   "id": "42c4bee9-e557-45c7-abab-672286cd89f0",
   "metadata": {},
   "outputs": [],
   "source": []
  }
 ],
 "metadata": {
  "kernelspec": {
   "display_name": "Python 3 (ipykernel)",
   "language": "python",
   "name": "python3"
  },
  "language_info": {
   "codemirror_mode": {
    "name": "ipython",
    "version": 3
   },
   "file_extension": ".py",
   "mimetype": "text/x-python",
   "name": "python",
   "nbconvert_exporter": "python",
   "pygments_lexer": "ipython3",
   "version": "3.10.18"
  }
 },
 "nbformat": 4,
 "nbformat_minor": 5
}
