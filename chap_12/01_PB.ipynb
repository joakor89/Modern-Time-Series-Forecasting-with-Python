{
 "cells": [
  {
   "cell_type": "markdown",
   "id": "afa8213e-4de5-41ea-abf9-1196b853806e",
   "metadata": {},
   "source": [
    "# PyTorch Basics\n",
    "\n",
    "### Loading Libraries"
   ]
  },
  {
   "cell_type": "code",
   "execution_count": 2,
   "id": "e2bb9aba-7b26-4b94-b4b8-d7346f4d6264",
   "metadata": {},
   "outputs": [],
   "source": [
    "# Numerical Computing\n",
    "import numpy as np\n",
    "\n",
    "# Data Manipulation\n",
    "import pandas as pd\n",
    "\n",
    "# Data Visualization\n",
    "import plotly.express as px\n",
    "import plotly.graph_objs as go\n",
    "\n",
    "# PyTorch\n",
    "import torch\n",
    "import torch.nn as nn\n",
    "\n",
    "# Tensor\n",
    "# import tsensor"
   ]
  },
  {
   "cell_type": "markdown",
   "id": "1bfbaed2-bed6-4b93-a2ae-eb60842e50d1",
   "metadata": {},
   "source": [
    "#### Creating a Tensor"
   ]
  },
  {
   "cell_type": "code",
   "execution_count": 3,
   "id": "effc9a96-833e-4a75-8dfd-539fef09666a",
   "metadata": {},
   "outputs": [
    {
     "data": {
      "text/plain": [
       "tensor([[1, 2],\n",
       "        [3, 4]])"
      ]
     },
     "execution_count": 3,
     "metadata": {},
     "output_type": "execute_result"
    }
   ],
   "source": [
    "#From Data\n",
    "data = [[1, 2],[3, 4]]\n",
    "\n",
    "x_data = torch.tensor(data)\n",
    "x_data"
   ]
  },
  {
   "cell_type": "code",
   "execution_count": 4,
   "id": "351272e5-64ea-43c2-ab00-e43c75a2026e",
   "metadata": {},
   "outputs": [
    {
     "data": {
      "text/plain": [
       "tensor([-1.4665, -0.4095, -0.4513, -1.6291,  1.3339, -1.8354, -0.1848, -0.6258,\n",
       "        -0.2572, -0.3359, -1.4815, -2.0848, -1.7794,  2.8907,  0.1714,  1.7750,\n",
       "        -0.9676,  1.7296,  1.5983, -0.7290], dtype=torch.float64)"
      ]
     },
     "execution_count": 4,
     "metadata": {},
     "output_type": "execute_result"
    }
   ],
   "source": [
    "#From numpy array\n",
    "ts = np.random.randn(20)\n",
    "\n",
    "x_np = torch.from_numpy(ts)\n",
    "x_np"
   ]
  },
  {
   "cell_type": "code",
   "execution_count": 5,
   "id": "f3c788b0-c2a6-4dc2-88b6-6a2825806b0d",
   "metadata": {},
   "outputs": [
    {
     "data": {
      "text/plain": [
       "tensor([[0.1034, 0.5338, 0.7262, 0.5601, 0.9295],\n",
       "        [0.1602, 0.1223, 0.6775, 0.4740, 0.8948],\n",
       "        [0.2412, 0.9713, 0.1661, 0.3725, 0.5657],\n",
       "        [0.7062, 0.8330, 0.4264, 0.8992, 0.2987]])"
      ]
     },
     "execution_count": 5,
     "metadata": {},
     "output_type": "execute_result"
    }
   ],
   "source": [
    "#Creating random tensor\n",
    "#define shape as rows x columns\n",
    "shape = (4,5)\n",
    "\n",
    "rand_tensor = torch.rand(shape)\n",
    "rand_tensor"
   ]
  },
  {
   "cell_type": "markdown",
   "id": "babf7602-9dde-4946-b676-61d767d2dc1c",
   "metadata": {},
   "source": [
    "#### Tensor Slicing"
   ]
  },
  {
   "cell_type": "code",
   "execution_count": 6,
   "id": "c8cfbc2e-2d20-4daf-849c-0bb41c79722c",
   "metadata": {},
   "outputs": [
    {
     "data": {
      "text/plain": [
       "tensor([0.1034, 0.5338, 0.7262, 0.5601, 0.9295])"
      ]
     },
     "execution_count": 6,
     "metadata": {},
     "output_type": "execute_result"
    }
   ],
   "source": [
    "# Selecting the first row of the random tensor\n",
    "rand_tensor[0,:]"
   ]
  },
  {
   "cell_type": "code",
   "execution_count": 7,
   "id": "c76797b2-2733-4607-a7cf-b581ac8c96c5",
   "metadata": {},
   "outputs": [
    {
     "data": {
      "text/plain": [
       "tensor([0.9295, 0.8948, 0.5657, 0.2987])"
      ]
     },
     "execution_count": 7,
     "metadata": {},
     "output_type": "execute_result"
    }
   ],
   "source": [
    "# Selecting the last column of the random tensor\n",
    "rand_tensor[:,-1]"
   ]
  },
  {
   "cell_type": "code",
   "execution_count": 8,
   "id": "289f7060-37b7-4477-a65f-e49d636c81e9",
   "metadata": {},
   "outputs": [
    {
     "data": {
      "text/plain": [
       "torch.Size([14, 5])"
      ]
     },
     "execution_count": 8,
     "metadata": {},
     "output_type": "execute_result"
    }
   ],
   "source": [
    "rand_tensor1 = torch.rand((4,5))\n",
    "rand_tensor2 = torch.rand((10,5))\n",
    "\n",
    "#Joining these tensors along the first dimension\n",
    "torch.cat([rand_tensor1, rand_tensor2], dim=0).shape"
   ]
  },
  {
   "cell_type": "markdown",
   "id": "a8de43df-090d-4a4f-8b63-44fa7a8519c9",
   "metadata": {},
   "source": [
    "#### Tensor Slicing"
   ]
  },
  {
   "cell_type": "code",
   "execution_count": 9,
   "id": "fbf6fc90-987c-4575-85ed-75b38fd660db",
   "metadata": {},
   "outputs": [
    {
     "data": {
      "text/plain": [
       "tensor([0.1034, 0.5338, 0.7262, 0.5601, 0.9295])"
      ]
     },
     "execution_count": 9,
     "metadata": {},
     "output_type": "execute_result"
    }
   ],
   "source": [
    "# selecting the first row of the random tensor\n",
    "rand_tensor[0,:]"
   ]
  },
  {
   "cell_type": "code",
   "execution_count": 10,
   "id": "42d826eb-82e6-4c7e-8072-a6f0cbce43ad",
   "metadata": {},
   "outputs": [
    {
     "data": {
      "text/plain": [
       "tensor([0.9295, 0.8948, 0.5657, 0.2987])"
      ]
     },
     "execution_count": 10,
     "metadata": {},
     "output_type": "execute_result"
    }
   ],
   "source": [
    "# selecting the last column of the random tensor\n",
    "rand_tensor[:,-1]"
   ]
  },
  {
   "cell_type": "code",
   "execution_count": 11,
   "id": "fcc27a15-fce1-4571-bec5-31ba7dd896f2",
   "metadata": {},
   "outputs": [
    {
     "data": {
      "text/plain": [
       "torch.Size([14, 5])"
      ]
     },
     "execution_count": 11,
     "metadata": {},
     "output_type": "execute_result"
    }
   ],
   "source": [
    "rand_tensor1 = torch.rand((4,5))\n",
    "rand_tensor2 = torch.rand((10,5))\n",
    "\n",
    "#Joining these tensors along the first dimension\n",
    "torch.cat([rand_tensor1, rand_tensor2], dim=0).shape"
   ]
  },
  {
   "cell_type": "markdown",
   "id": "8b8ff464-47eb-45c3-bd49-00d36148854d",
   "metadata": {},
   "source": [
    "#### Tensor Operations"
   ]
  },
  {
   "cell_type": "code",
   "execution_count": 12,
   "id": "6d0fe20f-ee7a-4620-afba-15c0980830de",
   "metadata": {},
   "outputs": [],
   "source": [
    "rand_tensor1 = torch.rand((4,4))\n",
    "rand_tensor2 = torch.rand((4,4))"
   ]
  },
  {
   "cell_type": "code",
   "execution_count": 13,
   "id": "85f24f37-e4a5-47c0-99db-8594a1549f18",
   "metadata": {},
   "outputs": [
    {
     "data": {
      "text/plain": [
       "tensor([[10.9460, 10.2303, 10.1054, 10.3475],\n",
       "        [10.6843, 10.8518, 10.1886, 10.5522],\n",
       "        [10.3749, 10.2577, 10.7929, 10.5950],\n",
       "        [10.9596, 10.7498, 10.3082, 10.5721]])"
      ]
     },
     "execution_count": 13,
     "metadata": {},
     "output_type": "execute_result"
    }
   ],
   "source": [
    "# Adding a scalar to a tensor\n",
    "rand_tensor1 + 10"
   ]
  },
  {
   "cell_type": "code",
   "execution_count": 14,
   "id": "aa8ee1b0-d1cc-4478-bb67-dcb590aa3ffa",
   "metadata": {},
   "outputs": [
    {
     "data": {
      "text/plain": [
       "tensor([[1.1099, 0.2734, 0.7739, 0.6903],\n",
       "        [1.5281, 1.3551, 0.5899, 1.4098],\n",
       "        [1.3507, 1.2222, 1.4549, 1.1545],\n",
       "        [1.7347, 1.6849, 0.3305, 0.7109]])"
      ]
     },
     "execution_count": 14,
     "metadata": {},
     "output_type": "execute_result"
    }
   ],
   "source": [
    "# Adding two tensors together\n",
    "rand_tensor1+rand_tensor2"
   ]
  },
  {
   "cell_type": "code",
   "execution_count": 15,
   "id": "44870c6d-95eb-4b0f-8f79-2e6ec780961b",
   "metadata": {},
   "outputs": [],
   "source": [
    "rand_tensor1 = torch.rand((4,3))\n",
    "rand_tensor2 = torch.rand((3,6))"
   ]
  },
  {
   "cell_type": "code",
   "execution_count": 16,
   "id": "f9432e58-6599-47bc-b3be-508ce6ea2f86",
   "metadata": {},
   "outputs": [
    {
     "data": {
      "text/plain": [
       "tensor([[0.8519, 0.3066, 1.6162, 1.6480, 1.7318, 1.2686],\n",
       "        [0.1707, 0.0153, 0.3636, 0.3691, 0.2451, 0.0965],\n",
       "        [0.7852, 0.2738, 1.4593, 1.5556, 1.6866, 1.4120],\n",
       "        [0.8286, 0.2044, 1.6128, 1.7132, 1.5938, 1.2026]])"
      ]
     },
     "execution_count": 16,
     "metadata": {},
     "output_type": "execute_result"
    }
   ],
   "source": [
    "# Multipliying two tensors\n",
    "torch.matmul(rand_tensor1, rand_tensor2)"
   ]
  },
  {
   "cell_type": "code",
   "execution_count": 17,
   "id": "aa8af0c4-0d7e-4d40-83b4-563974d7e820",
   "metadata": {},
   "outputs": [
    {
     "data": {
      "text/plain": [
       "tensor([[0.8519, 0.3066, 1.6162, 1.6480, 1.7318, 1.2686],\n",
       "        [0.1707, 0.0153, 0.3636, 0.3691, 0.2451, 0.0965],\n",
       "        [0.7852, 0.2738, 1.4593, 1.5556, 1.6866, 1.4120],\n",
       "        [0.8286, 0.2044, 1.6128, 1.7132, 1.5938, 1.2026]])"
      ]
     },
     "execution_count": 17,
     "metadata": {},
     "output_type": "execute_result"
    }
   ],
   "source": [
    "# Multipliying two tensors (alternate syntaxx)\n",
    "rand_tensor1@rand_tensor2"
   ]
  },
  {
   "cell_type": "code",
   "execution_count": 18,
   "id": "1e565c06-de52-4d53-bd9a-faecdc8751ca",
   "metadata": {},
   "outputs": [],
   "source": [
    "rand_tensor1 = torch.rand((4,4))\n",
    "rand_tensor2 = torch.rand((4,4))"
   ]
  },
  {
   "cell_type": "code",
   "execution_count": 19,
   "id": "f64723e0-e66a-476b-81b9-78cb6ac3d2e1",
   "metadata": {},
   "outputs": [
    {
     "data": {
      "text/plain": [
       "tensor([[0.4920, 0.3886, 0.3524, 0.7179],\n",
       "        [0.0074, 0.2361, 0.0033, 0.2017],\n",
       "        [0.7028, 0.9411, 0.2838, 0.0053],\n",
       "        [0.0245, 0.0064, 0.4759, 0.9658]])"
      ]
     },
     "execution_count": 19,
     "metadata": {},
     "output_type": "execute_result"
    }
   ],
   "source": [
    "# Elementwise multiplication or Hadamard product\n",
    "torch.mul(rand_tensor1, rand_tensor1)"
   ]
  },
  {
   "cell_type": "code",
   "execution_count": 20,
   "id": "53edbe4d-d0f3-4813-b8f7-c801758e2753",
   "metadata": {},
   "outputs": [
    {
     "data": {
      "text/plain": [
       "tensor([[0.4920, 0.3886, 0.3524, 0.7179],\n",
       "        [0.0074, 0.2361, 0.0033, 0.2017],\n",
       "        [0.7028, 0.9411, 0.2838, 0.0053],\n",
       "        [0.0245, 0.0064, 0.4759, 0.9658]])"
      ]
     },
     "execution_count": 20,
     "metadata": {},
     "output_type": "execute_result"
    }
   ],
   "source": [
    "# Elementwise multiplication or Hadamard product (Alternate Syntax)\n",
    "rand_tensor1*rand_tensor1"
   ]
  },
  {
   "cell_type": "code",
   "execution_count": 21,
   "id": "68ad6192-740f-4b1a-9da1-054f4287b5f3",
   "metadata": {},
   "outputs": [
    {
     "data": {
      "text/plain": [
       "tensor(10.6622)"
      ]
     },
     "execution_count": 21,
     "metadata": {},
     "output_type": "execute_result"
    }
   ],
   "source": [
    "# Summing up a tensor\n",
    "rand_tensor.sum()"
   ]
  },
  {
   "cell_type": "code",
   "execution_count": 22,
   "id": "795b2e9a-22eb-4bfc-a55d-62870b46db11",
   "metadata": {},
   "outputs": [
    {
     "data": {
      "text/plain": [
       "tensor([1.2111, 2.4604, 1.9962, 2.3057, 2.6888])"
      ]
     },
     "execution_count": 22,
     "metadata": {},
     "output_type": "execute_result"
    }
   ],
   "source": [
    "# Summing along axis\n",
    "rand_tensor.sum(dim=0)"
   ]
  },
  {
   "cell_type": "markdown",
   "id": "3e12f077-c095-4ded-855d-895967af86bb",
   "metadata": {},
   "source": [
    "### Neural Network"
   ]
  },
  {
   "cell_type": "code",
   "execution_count": null,
   "id": "335562ab-d7fe-45ea-a5ea-aabba73db2ab",
   "metadata": {},
   "outputs": [],
   "source": []
  },
  {
   "cell_type": "code",
   "execution_count": null,
   "id": "81c40eb4-5c33-49b1-ab0d-fb24db7dd008",
   "metadata": {},
   "outputs": [],
   "source": []
  },
  {
   "cell_type": "code",
   "execution_count": null,
   "id": "71a852dc-f6d4-4ca5-90ba-91b56d5e060b",
   "metadata": {},
   "outputs": [],
   "source": []
  }
 ],
 "metadata": {
  "kernelspec": {
   "display_name": "Python (MTSP)",
   "language": "python",
   "name": "mtsp"
  },
  "language_info": {
   "codemirror_mode": {
    "name": "ipython",
    "version": 3
   },
   "file_extension": ".py",
   "mimetype": "text/x-python",
   "name": "python",
   "nbconvert_exporter": "python",
   "pygments_lexer": "ipython3",
   "version": "3.10.18"
  }
 },
 "nbformat": 4,
 "nbformat_minor": 5
}
