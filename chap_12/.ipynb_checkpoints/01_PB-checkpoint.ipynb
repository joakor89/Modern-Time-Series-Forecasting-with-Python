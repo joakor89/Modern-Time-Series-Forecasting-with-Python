{
 "cells": [
  {
   "cell_type": "markdown",
   "id": "afa8213e-4de5-41ea-abf9-1196b853806e",
   "metadata": {},
   "source": [
    "# PyTorch Basics\n",
    "\n",
    "### Loading Libraries"
   ]
  },
  {
   "cell_type": "code",
   "execution_count": 2,
   "id": "e2bb9aba-7b26-4b94-b4b8-d7346f4d6264",
   "metadata": {},
   "outputs": [],
   "source": [
    "# Numerical Computing\n",
    "import numpy as np\n",
    "\n",
    "# Data Manipulation\n",
    "import pandas as pd\n",
    "\n",
    "# Data Visualization\n",
    "import plotly.express as px\n",
    "import plotly.graph_objs as go\n",
    "\n",
    "# PyTorch\n",
    "import torch\n",
    "import torch.nn as nn\n",
    "\n",
    "# Tensor\n",
    "# import tsensor"
   ]
  },
  {
   "cell_type": "markdown",
   "id": "1bfbaed2-bed6-4b93-a2ae-eb60842e50d1",
   "metadata": {},
   "source": [
    "#### Creating a Tensor"
   ]
  },
  {
   "cell_type": "code",
   "execution_count": 3,
   "id": "effc9a96-833e-4a75-8dfd-539fef09666a",
   "metadata": {},
   "outputs": [
    {
     "data": {
      "text/plain": [
       "tensor([[1, 2],\n",
       "        [3, 4]])"
      ]
     },
     "execution_count": 3,
     "metadata": {},
     "output_type": "execute_result"
    }
   ],
   "source": [
    "#From Data\n",
    "data = [[1, 2],[3, 4]]\n",
    "\n",
    "x_data = torch.tensor(data)\n",
    "x_data"
   ]
  },
  {
   "cell_type": "code",
   "execution_count": 4,
   "id": "351272e5-64ea-43c2-ab00-e43c75a2026e",
   "metadata": {},
   "outputs": [
    {
     "data": {
      "text/plain": [
       "tensor([-1.4665, -0.4095, -0.4513, -1.6291,  1.3339, -1.8354, -0.1848, -0.6258,\n",
       "        -0.2572, -0.3359, -1.4815, -2.0848, -1.7794,  2.8907,  0.1714,  1.7750,\n",
       "        -0.9676,  1.7296,  1.5983, -0.7290], dtype=torch.float64)"
      ]
     },
     "execution_count": 4,
     "metadata": {},
     "output_type": "execute_result"
    }
   ],
   "source": [
    "#From numpy array\n",
    "ts = np.random.randn(20)\n",
    "\n",
    "x_np = torch.from_numpy(ts)\n",
    "x_np"
   ]
  },
  {
   "cell_type": "code",
   "execution_count": 5,
   "id": "f3c788b0-c2a6-4dc2-88b6-6a2825806b0d",
   "metadata": {},
   "outputs": [
    {
     "data": {
      "text/plain": [
       "tensor([[0.1034, 0.5338, 0.7262, 0.5601, 0.9295],\n",
       "        [0.1602, 0.1223, 0.6775, 0.4740, 0.8948],\n",
       "        [0.2412, 0.9713, 0.1661, 0.3725, 0.5657],\n",
       "        [0.7062, 0.8330, 0.4264, 0.8992, 0.2987]])"
      ]
     },
     "execution_count": 5,
     "metadata": {},
     "output_type": "execute_result"
    }
   ],
   "source": [
    "#Creating random tensor\n",
    "#define shape as rows x columns\n",
    "shape = (4,5)\n",
    "\n",
    "rand_tensor = torch.rand(shape)\n",
    "rand_tensor"
   ]
  },
  {
   "cell_type": "code",
   "execution_count": null,
   "id": "930b343b-b108-4ce4-afef-08499ce9115d",
   "metadata": {},
   "outputs": [],
   "source": []
  },
  {
   "cell_type": "code",
   "execution_count": null,
   "id": "c8cfbc2e-2d20-4daf-849c-0bb41c79722c",
   "metadata": {},
   "outputs": [],
   "source": []
  },
  {
   "cell_type": "code",
   "execution_count": null,
   "id": "c76797b2-2733-4607-a7cf-b581ac8c96c5",
   "metadata": {},
   "outputs": [],
   "source": []
  },
  {
   "cell_type": "code",
   "execution_count": null,
   "id": "289f7060-37b7-4477-a65f-e49d636c81e9",
   "metadata": {},
   "outputs": [],
   "source": []
  },
  {
   "cell_type": "code",
   "execution_count": null,
   "id": "04743fd1-702e-4e47-9fd0-ab94fe037107",
   "metadata": {},
   "outputs": [],
   "source": []
  },
  {
   "cell_type": "code",
   "execution_count": null,
   "id": "fbf6fc90-987c-4575-85ed-75b38fd660db",
   "metadata": {},
   "outputs": [],
   "source": []
  },
  {
   "cell_type": "code",
   "execution_count": null,
   "id": "42d826eb-82e6-4c7e-8072-a6f0cbce43ad",
   "metadata": {},
   "outputs": [],
   "source": []
  },
  {
   "cell_type": "code",
   "execution_count": null,
   "id": "fcc27a15-fce1-4571-bec5-31ba7dd896f2",
   "metadata": {},
   "outputs": [],
   "source": []
  },
  {
   "cell_type": "code",
   "execution_count": null,
   "id": "77a2e9f9-9503-44dc-9a5f-358f5c0f544f",
   "metadata": {},
   "outputs": [],
   "source": []
  },
  {
   "cell_type": "code",
   "execution_count": null,
   "id": "6d0fe20f-ee7a-4620-afba-15c0980830de",
   "metadata": {},
   "outputs": [],
   "source": []
  },
  {
   "cell_type": "code",
   "execution_count": null,
   "id": "85f24f37-e4a5-47c0-99db-8594a1549f18",
   "metadata": {},
   "outputs": [],
   "source": []
  },
  {
   "cell_type": "code",
   "execution_count": null,
   "id": "aa8ee1b0-d1cc-4478-bb67-dcb590aa3ffa",
   "metadata": {},
   "outputs": [],
   "source": []
  }
 ],
 "metadata": {
  "kernelspec": {
   "display_name": "Python (MTSP)",
   "language": "python",
   "name": "mtsp"
  },
  "language_info": {
   "codemirror_mode": {
    "name": "ipython",
    "version": 3
   },
   "file_extension": ".py",
   "mimetype": "text/x-python",
   "name": "python",
   "nbconvert_exporter": "python",
   "pygments_lexer": "ipython3",
   "version": "3.10.18"
  }
 },
 "nbformat": 4,
 "nbformat_minor": 5
}
