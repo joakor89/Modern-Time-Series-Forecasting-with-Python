{
 "cells": [
  {
   "cell_type": "markdown",
   "id": "c7df8eec-7f05-41ae-a2e1-4dca62a2dfea",
   "metadata": {},
   "source": [
    "# Dealing with Non-Stationarity\n",
    "\n",
    "### Loading libraries"
   ]
  },
  {
   "cell_type": "code",
   "execution_count": null,
   "id": "a825e184-9e6e-4d9d-b7db-6fba5d56d886",
   "metadata": {},
   "outputs": [],
   "source": [
    "%cd ../.."
   ]
  },
  {
   "cell_type": "code",
   "execution_count": null,
   "id": "8ffded5c-c709-47e4-8385-30522f755090",
   "metadata": {},
   "outputs": [],
   "source": [
    "# Numerical Computing\n",
    "import numpy as np\n",
    "\n",
    "# Data Manipulation\n",
    "import pandas as pd\n",
    "from pandas.api.types import is_list_like\n",
    "\n",
    "# Data Visualization\n",
    "import seaborn as sns\n",
    "import plotly.io as pio\n",
    "import plotly.express as px\n",
    "import matplotlib.pyplot as plt\n",
    "import plotly.graph_objects as go\n",
    "import plotly.figure_factory as ff\n",
    "from plotly.subplots import make_subplots\n",
    "\n",
    "# Warnings\n",
    "import warnings\n",
    "import humanize\n",
    "\n",
    "# IO & Requests\n",
    "import time\n",
    "import random\n",
    "import requests\n",
    "from io import StringIO\n",
    "\n",
    "# StatsModels\n",
    "import statsmodels.api as sm\n",
    "from statsmodels.tsa.seasonal import MSTL , DecomposeResult\n",
    "\n",
    "# OS\n",
    "import os\n",
    "import sys\n",
    "import pickleshare\n",
    "import missingno as msno\n",
    "from itertools import cycle\n",
    "from typing import List, Tuple\n",
    "\n",
    "# PyArrow\n",
    "import pyarrow as pa\n",
    "\n",
    "# FuncTools\n",
    "from functools import partial\n",
    "\n",
    "# Path & Notebook Optimizer\n",
    "from pathlib import Path\n",
    "import missingno as msno\n",
    "from tqdm.auto import tqdm\n",
    "\n",
    "# Scikit-Learn\n",
    "from sklearn.decomposition import PCA\n",
    "from sklearn.pipeline import Pipeline\n",
    "from sklearn.metrics import mean_absolute_error\n",
    "from sklearn.preprocessing import StandardScaler\n",
    "from sklearn.preprocessing import PolynomialFeatures\n",
    "from sklearn.linear_model import LinearRegression, Ridge, Lasso\n",
    "\n",
    "# IPython\n",
    "from IPython.display import display, HTML\n",
    "\n",
    "# NIXTLA\n",
    "from statsforecast.core import StatsForecast\n",
    "from utilsforecast.plotting import plot_series\n",
    "from utilsforecast.evaluation import evaluate\n",
    "\n",
    "# Forecast\n",
    "# from datasetsforecast.losses import *\n",
    "from utilsforecast.evaluation import evaluate\n",
    "\n",
    "from src.utils.general import LogTime\n",
    "from src.utils.data_utils import _get_32_bit_dtype "
   ]
  },
  {
   "cell_type": "code",
   "execution_count": null,
   "id": "1a3a04ca-3314-42ff-94d1-e90d0f88b547",
   "metadata": {},
   "outputs": [],
   "source": [
    "warnings.filterwarnings(\"ignore\", category=UserWarning)\n",
    "\n",
    "warnings.filterwarnings(\"ignore\", category=FutureWarning)"
   ]
  },
  {
   "cell_type": "code",
   "execution_count": null,
   "id": "652262a9-4475-49fd-99b4-54ae4e0cc5da",
   "metadata": {},
   "outputs": [],
   "source": [
    "os.makedirs(\"imgs/chapter_07\", exist_ok=True)\n",
    "\n",
    "preprocessed = Path.home() / \"Desktop\" / \"data\" / \"london_smart_meters\" / \"preprocessed\""
   ]
  },
  {
   "cell_type": "code",
   "execution_count": null,
   "id": "e83bc91c-cb3e-42a4-aeb8-65b90136ae79",
   "metadata": {},
   "outputs": [],
   "source": [
    "tqdm.pandas()\n",
    "\n",
    "np.random.seed(0)\n",
    "\n",
    "pio.templates.default = \"plotly_white\"\n",
    "\n",
    "sys.path.append('/Users/joaquinromero/Desktop/MTSF') "
   ]
  },
  {
   "cell_type": "code",
   "execution_count": null,
   "id": "a458887b-c7e9-44d7-84f1-6864f6ed00a1",
   "metadata": {},
   "outputs": [],
   "source": [
    "from src.window_ops.rolling import (\n",
    "    seasonal_rolling_max,\n",
    "    seasonal_rolling_mean,\n",
    "    seasonal_rolling_min,\n",
    "    seasonal_rolling_std,\n",
    ")"
   ]
  },
  {
   "cell_type": "markdown",
   "id": "b4213816-33f6-449c-a52d-991306205515",
   "metadata": {},
   "source": [
    "## Generating Synthetic Time Series"
   ]
  },
  {
   "cell_type": "code",
   "execution_count": null,
   "id": "784fa6f1-dac5-4a12-9e8c-c67d300e9f64",
   "metadata": {},
   "outputs": [],
   "source": [
    "length = 100\n",
    "index = pd.date_range(start=\"2021-11-03\", periods=length)\n",
    "\n",
    "# White Noise\n",
    "y_random = pd.Series(np.random.randn(length), index=index)\n",
    "\n",
    "# White Noise\n",
    "y_random_2 = pd.Series(np.random.randn(length), index=index)\n",
    "\n",
    "# White Noise+Trend\n",
    "_y_random = pd.Series(np.random.randn(length), index=index)\n",
    "t = np.arange(len(_y_random))\n",
    "y_trend = _y_random+t*_y_random.mean()*0.8\n",
    "\n",
    "# Heteroscedastic\n",
    "_y_random = pd.Series(np.random.randn(length), index=index)\n",
    "t = np.arange(len(_y_random))\n",
    "y_hetero = (_y_random*t)\n",
    "\n",
    "#WhiteNoise + Seasonal\n",
    "_y_random = pd.Series(np.random.randn(length), index=index)\n",
    "t = np.arange(len(_y_random))\n",
    "y_seasonal = (_y_random+1.9*np.cos((2*np.pi*t)/(length/4)))\n",
    "\n",
    "#unit root\n",
    "_y_random = pd.Series(np.random.randn(length), index=index)\n",
    "y_unit_root = _y_random.cumsum()\n",
    "\n",
    "plot_df = pd.DataFrame({\"Time\":np.arange(100),\n",
    "                        \"Timeseries 1\": y_random,\n",
    "                        \"Timeseries 2\": y_trend,\n",
    "                        \"Timeseries 3\": y_hetero,\n",
    "                        \"Timeseries 4\": y_unit_root,\n",
    "                        \"Timeseries 5\": y_seasonal,\n",
    "                        \"Timeseries 6\": y_random_2})"
   ]
  },
  {
   "cell_type": "code",
   "execution_count": null,
   "id": "84d9edf1-708f-4503-94a6-0b9a7edcf881",
   "metadata": {},
   "outputs": [],
   "source": [
    "y_trend"
   ]
  },
  {
   "cell_type": "code",
   "execution_count": null,
   "id": "1069e2b7-9e67-4ac0-a11e-870161600379",
   "metadata": {},
   "outputs": [],
   "source": [
    "fig = px.line(pd.melt(plot_df, id_vars=\"Time\", value_name=\"Observed\"), x=\"Time\", y=\"Observed\", facet_col=\"variable\", facet_col_wrap=3)\n",
    "fig.update_yaxes(matches=None)\n",
    "fig.for_each_annotation(lambda a: a.update(text=a.text.split(\"=\")[-1], font=dict(size=16)))\n",
    "fig.update_layout(\n",
    "            autosize=False,\n",
    "            width=1600,\n",
    "            height=800,\n",
    "            yaxis=dict(\n",
    "                titlefont=dict(size=15),\n",
    "                tickfont=dict(size=15),\n",
    "            ),\n",
    "            xaxis=dict(\n",
    "                titlefont=dict(size=15),\n",
    "                tickfont=dict(size=15),\n",
    "            )\n",
    "        )\n",
    "fig.update_annotations(font_size=20)\n",
    "fig.write_image(\"imgs/chapter_7/stationary_ts.png\")\n",
    "fig.show()"
   ]
  },
  {
   "cell_type": "code",
   "execution_count": null,
   "id": "ffd32b8b-de34-48ce-8c88-8d12eb3db727",
   "metadata": {},
   "outputs": [],
   "source": [
    "## Unit Roots\n",
    "\n",
    "### Plotting Autoregressive series with different (Theta)"
   ]
  },
  {
   "cell_type": "code",
   "execution_count": null,
   "id": "e022289e-2bf0-499a-80bb-e989220d7e88",
   "metadata": {},
   "outputs": [],
   "source": [
    "def generate_autoregressive_series(length, phi):\n",
    "    x_start = random.uniform(-1, 1)\n",
    "    y = []\n",
    "    for i in range(length):\n",
    "        t = x_start*phi+random.uniform(-1, 1)\n",
    "        y.append(t)\n",
    "        x_start = t\n",
    "    return np.array(y)"
   ]
  },
  {
   "cell_type": "code",
   "execution_count": null,
   "id": "280c12f3-2b95-40be-a65b-22807cc9137c",
   "metadata": {},
   "outputs": [],
   "source": [
    "mport plotly.graph_objects as go\n",
    "from plotly.subplots import make_subplots\n",
    "import plotly.io as pio\n",
    "\n",
    "#pio.renderers.default = \"notebook\"\n",
    "#pio.kaleido.scope.mathjax = None\n",
    "\n",
    "fig = make_subplots(\n",
    "    rows=3, cols=1, subplot_titles=(\"$\\phi=0.8$\", \"$\\phi=1.0$\", \"$\\phi=1.05$\")\n",
    ")\n",
    "\n",
    "fig.append_trace(\n",
    "    go.Scatter(\n",
    "        x=np.arange(length),\n",
    "        y=generate_autoregressive_series(length, phi=0.8),\n",
    "    ),\n",
    "    row=1,\n",
    "    col=1,\n",
    ")\n",
    "\n",
    "fig.append_trace(\n",
    "    go.Scatter(\n",
    "        x=np.arange(length),\n",
    "        y=generate_autoregressive_series(length, phi=1.0),\n",
    "    ),\n",
    "    row=2,\n",
    "    col=1,\n",
    ")\n",
    "\n",
    "fig.append_trace(\n",
    "    go.Scatter(x=np.arange(length), y=generate_autoregressive_series(length, phi=1.05)),\n",
    "    row=3,\n",
    "    col=1,\n",
    ")\n",
    "\n",
    "\n",
    "fig.update_layout(\n",
    "    height=700,\n",
    "    width=700,\n",
    "    showlegend=False,\n",
    "    yaxis=dict(\n",
    "        titlefont=dict(size=15),\n",
    "        tickfont=dict(size=15),\n",
    "    ),\n",
    "    xaxis=dict(\n",
    "        titlefont=dict(size=15),\n",
    "        tickfont=dict(size=15),\n",
    "    ),\n",
    ")\n",
    "fig.write_image(\"imgs/chapter_07/ar_series_phi.png\")\n",
    "fig.show()"
   ]
  },
  {
   "cell_type": "markdown",
   "id": "0772ce89-b68d-476c-ae4b-d5c3535cdb2a",
   "metadata": {},
   "source": [
    "### Detecting Unit Root"
   ]
  },
  {
   "cell_type": "code",
   "execution_count": null,
   "id": "0a30e879-2340-42da-8009-53c7abda3072",
   "metadata": {},
   "outputs": [],
   "source": [
    "from src.transforms.stationary_utils import check_unit_root\n",
    "\n",
    "res = check_unit_root(y_unit_root, confidence=0.05)\n",
    "\n",
    "print(f\"Stationary: {res.stationary} | p-value: {res.results[1]}\")"
   ]
  },
  {
   "cell_type": "code",
   "execution_count": null,
   "id": "fb292f55-f6cc-411c-93ab-06acf4c857e9",
   "metadata": {},
   "outputs": [],
   "source": [
    "### Differencing"
   ]
  },
  {
   "cell_type": "code",
   "execution_count": null,
   "id": "72705360-2fe2-4a45-bf3e-b8fd46c32882",
   "metadata": {},
   "outputs": [],
   "source": [
    "from src.transforms.target_transformations import AdditiveDifferencingTransformer, MultiplicativeDifferencingTransformer\n",
    "\n",
    "diff_transformer = AdditiveDifferencingTransformer()\n",
    "# [1:] because differencing reduces the lenght of the time series by one\n",
    "y_diff = diff_transformer.fit_transform(y_unit_root)[1:]\n",
    "fig, axs = plt.subplots(2)\n",
    "y_unit_root.plot(title=\"Unit Root\",ax=axs[0])\n",
    "y_diff.plot(title=\"Additive Difference\",ax=axs[1])\n",
    "plt.tight_layout()\n",
    "plt.show()\n",
    "check_unit_root(y_diff)"
   ]
  },
  {
   "cell_type": "code",
   "execution_count": null,
   "id": "17f338da-d60c-4cd1-98f1-62becd9a0123",
   "metadata": {},
   "outputs": [],
   "source": [
    "_y_unit_root = y_unit_root + np.abs(y_unit_root.min())+1\n",
    "diff_transformer = MultiplicativeDifferencingTransformer()\n",
    "# [1:] because differencing reduces the lenght of the time series by one\n",
    "y_diff = diff_transformer.fit_transform(_y_unit_root)[1:]\n",
    "fig, axs = plt.subplots(2)\n",
    "_y_unit_root.plot(title=\"Unit Root\",ax=axs[0])\n",
    "y_diff.plot(title=\"Multiplicative Difference\",ax=axs[1])\n",
    "plt.tight_layout()\n",
    "plt.show()\n",
    "check_unit_root(y_diff)"
   ]
  },
  {
   "cell_type": "markdown",
   "id": "e2461c54-244b-4c11-8bb7-3400ab925025",
   "metadata": {},
   "source": [
    "## Trends"
   ]
  },
  {
   "cell_type": "code",
   "execution_count": null,
   "id": "12b6d26c-b0e2-42ba-aacf-7d1469bdc9f5",
   "metadata": {},
   "outputs": [],
   "source": [
    "from src.transforms.stationary_utils import check_trend, check_deterministic_trend"
   ]
  },
  {
   "cell_type": "code",
   "execution_count": null,
   "id": "780ec3bd-7087-4b07-a35c-593b6164a94b",
   "metadata": {},
   "outputs": [],
   "source": [
    "ar_series = generate_autoregressive_series(length, phi=1.05)\n",
    "\n",
    "beta_0 = 0.5\n",
    "beta_1 = 0.1\n",
    "x = np.arange(length)\n",
    "y_trend = beta_0 + beta_1*x + np.random.rand(length)"
   ]
  },
  {
   "cell_type": "code",
   "execution_count": null,
   "id": "8a74f546-08c5-493d-a947-fdc54c61cb9b",
   "metadata": {},
   "outputs": [],
   "source": [
    "fig = make_subplots(\n",
    "    rows=2, cols=1, \n",
    "    subplot_titles=(\n",
    "        r'$\\text{AR(1) with } \\phi=1.05$', \n",
    "        r'$\\text{Linear Trend with } \\beta_0 = 0.5 \\text{, } \\beta_1 = 0.1$'\n",
    "    )\n",
    ")\n",
    "\n",
    "fig.append_trace(\n",
    "    go.Scatter(\n",
    "        x=np.arange(length),\n",
    "        y=ar_series,\n",
    "    ),\n",
    "    row=1,\n",
    "    col=1,\n",
    ")\n",
    "\n",
    "fig.append_trace(\n",
    "    go.Scatter(\n",
    "        x=np.arange(length),\n",
    "        y=y_trend,\n",
    "    ),\n",
    "    row=2,\n",
    "    col=1,\n",
    ")\n",
    "\n",
    "fig.update_layout(\n",
    "    height=500,\n",
    "    width=700,\n",
    "    showlegend=False,\n",
    "    yaxis=dict(\n",
    "        titlefont=dict(size=15),\n",
    "        tickfont=dict(size=15),\n",
    "    ),\n",
    "    xaxis=dict(\n",
    "        titlefont=dict(size=15),\n",
    "        tickfont=dict(size=15),\n",
    "    ),\n",
    ")\n",
    "fig.write_image(\"imgs/chapter_07/deterministic_series_phi.png\")\n",
    "fig.show()"
   ]
  },
  {
   "cell_type": "code",
   "execution_count": null,
   "id": "a8e6ec1c-c403-46bd-b9d8-add4ac2aa12b",
   "metadata": {},
   "outputs": [],
   "source": [
    "res = check_deterministic_trend(ar_series)\n",
    "print(f\"Stationary: {res.adf_res.stationary} | Deterministic Trend: {res.deterministic_trend}\")"
   ]
  },
  {
   "cell_type": "code",
   "execution_count": null,
   "id": "a8b5c129-f73b-414c-9c0d-542142244d4f",
   "metadata": {},
   "outputs": [],
   "source": [
    "res = check_deterministic_trend(y_trend)\n",
    "print(f\"Stationary: {res.adf_res.stationary} | Deterministic Trend: {res.deterministic_trend}\")"
   ]
  },
  {
   "cell_type": "markdown",
   "id": "01a07076-122f-4fe2-a0be-91c48826f692",
   "metadata": {},
   "source": [
    "### Detecting Trend"
   ]
  },
  {
   "cell_type": "code",
   "execution_count": null,
   "id": "dc654a7e-561c-4ea3-862a-c4bc59527d90",
   "metadata": {},
   "outputs": [],
   "source": [
    "y_unit_root.plot()\n",
    "plt.show()\n",
    "kendall_tau_res = check_trend(y_unit_root, confidence=0.05)\n",
    "mann_kendall_res = check_trend(y_unit_root, confidence=0.05, mann_kendall=True)\n",
    "\n",
    "print(f\"Kendalls Tau: Trend: {kendall_tau_res.trend} | Direction: {kendall_tau_res.direction} | Deterministic: {kendall_tau_res.deterministic}\")\n",
    "print(f\"Mann-Kendalls: Trend: {mann_kendall_res.trend} | Direction: {mann_kendall_res.direction} | Deterministic: {mann_kendall_res.deterministic}\")"
   ]
  },
  {
   "cell_type": "code",
   "execution_count": null,
   "id": "596365bd-7500-4cfb-9f45-599124aecd64",
   "metadata": {},
   "outputs": [],
   "source": [
    "plt.plot(y_trend)\n",
    "plt.show()\n",
    "kendall_tau_res = check_trend(y_trend, confidence=0.05)\n",
    "mann_kendall_res = check_trend(y_trend, confidence=0.05, mann_kendall=True)\n",
    "\n",
    "print(f\"Kendalls Tau: Trend: {kendall_tau_res.trend} | Direction: {kendall_tau_res.direction} | Deterministic: {kendall_tau_res.deterministic}\")\n",
    "print(f\"Mann-Kendalls: Trend: {mann_kendall_res.trend} | Direction: {mann_kendall_res.direction} | Deterministic: {mann_kendall_res.deterministic}\")"
   ]
  },
  {
   "cell_type": "code",
   "execution_count": null,
   "id": "77efd183-61d1-48a5-926f-6203c03fceb7",
   "metadata": {},
   "outputs": [],
   "source": [
    "y_seasonal.plot()\n",
    "plt.show()\n",
    "kendall_tau_res = check_trend(y_seasonal, confidence=0.05)\n",
    "mann_kendall_res = check_trend(y_seasonal, confidence=0.05, mann_kendall=True)\n",
    "mann_kendall_seas_res = check_trend(y_seasonal, confidence=0.05, mann_kendall=True, seasonal_period=25)\n",
    "\n",
    "print(f\"Kendalls Tau: Trend: {kendall_tau_res.trend} | Direction: {kendall_tau_res.direction} | Deterministic: {kendall_tau_res.deterministic}\")\n",
    "print(f\"Mann-Kendalls: Trend: {mann_kendall_res.trend} | Direction: {mann_kendall_res.direction} | Deterministic: {mann_kendall_res.deterministic}\")\n",
    "print(f\"Mann-Kendalls Seasonal: Trend: {mann_kendall_seas_res.trend} | Direction: {mann_kendall_seas_res.direction} | Deterministic: {mann_kendall_seas_res.deterministic}\")"
   ]
  },
  {
   "cell_type": "markdown",
   "id": "0e99ea8a-5124-4366-9998-4d2a4150f315",
   "metadata": {},
   "source": [
    "### DeTrending"
   ]
  },
  {
   "cell_type": "code",
   "execution_count": null,
   "id": "ac28112b-97d6-49ba-b944-aaa4d747c900",
   "metadata": {},
   "outputs": [],
   "source": [
    "from src.transforms.target_transformations import DetrendingTransformer\n",
    "\n",
    "detrending_transformer = DetrendingTransformer()\n",
    "dates = pd.date_range(start='20200101', periods=len(y_trend))\n",
    "\n",
    "y_trend_series = pd.Series(y_trend, index=dates)\n",
    "y_diff = detrending_transformer.fit_transform(y_trend_series, freq=\"D\")\n",
    "\n",
    "fig, axs = plt.subplots(2)\n",
    "y_trend_series.plot(title=\"Linear Trend\",ax=axs[0])\n",
    "y_diff.plot(title=\"Detrended\",ax=axs[1])\n",
    "plt.tight_layout()\n",
    "plt.show()\n",
    "\n",
    "kendall_tau_res = check_trend(y_diff, confidence=0.05)\n",
    "mann_kendall_res = check_trend(y_diff, confidence=0.05, mann_kendall=True)\n",
    "\n",
    "print(f\"Kendalls Tau: Trend: {kendall_tau_res.trend}\")\n",
    "print(f\"Mann-Kendalls: Trend: {mann_kendall_res.trend}\")"
   ]
  },
  {
   "cell_type": "markdown",
   "id": "49587eed-f001-4d8e-a768-9b8db24f740c",
   "metadata": {},
   "source": [
    "## Seasonality\n",
    "\n",
    "### Detecting Seasonality\n",
    "\n",
    "#### Plotting the ACF"
   ]
  },
  {
   "cell_type": "code",
   "execution_count": null,
   "id": "68aeacb7-5de5-47d8-99ed-7ec86f244764",
   "metadata": {},
   "outputs": [],
   "source": [
    "from statsmodels.tsa.stattools import acf\n",
    "\n",
    "r = acf(y_seasonal, nlags=60, fft=False)\n",
    "r = r[1:]\n",
    "plot_df = pd.DataFrame(dict(x=np.arange(len(r))+1, y=r)) #\n",
    "plot_df['seasonal_lag'] = False\n",
    "plot_df.loc[plot_df[\"x\"].isin([25,50]), \"seasonal_lag\"] = True"
   ]
  },
  {
   "cell_type": "code",
   "execution_count": null,
   "id": "9f413be7-3b99-4773-b941-174a2cb4dc01",
   "metadata": {},
   "outputs": [],
   "source": [
    "fig = px.bar(plot_df, x=\"x\", y=\"y\", pattern_shape=\"seasonal_lag\", color=\"seasonal_lag\", title=\"Auto-Correlation Plot\")\n",
    "fig.add_annotation(x=25, y=r[24], text=\"Lag 25\")\n",
    "fig.add_annotation(x=50, y=r[49], text=\"Lag 50\")\n",
    "fig.update_layout(\n",
    "            showlegend = False,\n",
    "            autosize=False,\n",
    "            width=900,\n",
    "            height=500,\n",
    "            title={\n",
    "            'x':0.5,\n",
    "            'xanchor': 'center',\n",
    "            'yanchor': 'top'},\n",
    "            titlefont={\n",
    "                \"size\": 20\n",
    "            },\n",
    "            yaxis=dict(\n",
    "                title_text=\"Auto Correlation\",\n",
    "                titlefont=dict(size=15),\n",
    "                tickfont=dict(size=15),\n",
    "            ),\n",
    "            xaxis=dict(\n",
    "                title_text=\"Lags\",\n",
    "                titlefont=dict(size=15),\n",
    "                tickfont=dict(size=15),\n",
    "            )\n",
    "        )\n",
    "fig.update_annotations(font_size=15)\n",
    "fig.write_image(\"imgs/chapter_7/acf_plot.png\")\n",
    "fig.show()"
   ]
  },
  {
   "cell_type": "markdown",
   "id": "1710b18d-f4bb-46cf-b271-d6100481f794",
   "metadata": {},
   "source": [
    "#### Detecting Statistically"
   ]
  },
  {
   "cell_type": "code",
   "execution_count": null,
   "id": "d00e87b4-dcba-4e26-a8c0-e3e0db12d6e5",
   "metadata": {},
   "outputs": [],
   "source": [
    "from src.transforms.stationary_utils import check_seasonality\n",
    "\n",
    "y_seasonal.plot()\n",
    "plt.show()\n",
    "\n",
    "seasonality_res = check_seasonality(y_seasonal, max_lag=30, seasonal_period=25, confidence=0.05)\n",
    "print(f\"Seasonality Test for 25th lag: {seasonality_res.seasonal}\")\n",
    "\n",
    "seasonality_id_res = check_seasonality(y_seasonal, max_lag=60, confidence=0.05)\n",
    "print(f\"Seasonality identified for: {seasonality_id_res.seasonal_periods}\")"
   ]
  },
  {
   "cell_type": "markdown",
   "id": "941114a2-bc7f-4ec7-a768-6b9b001db382",
   "metadata": {},
   "source": [
    "### De-seasonalizing"
   ]
  },
  {
   "cell_type": "code",
   "execution_count": null,
   "id": "69c2ee1c-168f-4416-9cad-e08817323627",
   "metadata": {},
   "outputs": [],
   "source": [
    "from src.transforms.target_transformations import DeseasonalizingTransformer\n",
    "\n",
    "deseasonalizing_transformer = DeseasonalizingTransformer(seasonality_extraction=\"period_averages\",seasonal_period=25)\n",
    "y_deseasonalized = deseasonalizing_transformer.fit_transform(y_seasonal, freq=\"1D\")\n",
    "\n",
    "fig, axs = plt.subplots(2)\n",
    "y_seasonal.plot(title=\"Seasonal\",ax=axs[0])\n",
    "y_deseasonalized.plot(title=\"Deseasonal\",ax=axs[1])\n",
    "plt.tight_layout()\n",
    "plt.show()\n",
    "\n",
    "seasonality_res = check_seasonality(y_deseasonalized, seasonal_period=25, max_lag=26, confidence=0.05)\n",
    "# mann_kendall_res = check_trend(y_diff, confidence=0.05, mann_kendall=True)\n",
    "print(f\"Seasonality at {seasonality_res.seasonal_periods}: {seasonality_res.seasonal}\")"
   ]
  },
  {
   "cell_type": "markdown",
   "id": "ec149c70-32cd-44b8-a23f-94d80a16f0fb",
   "metadata": {},
   "source": [
    "## Heteroscedasticity\n",
    "\n",
    "### Detecting Heteroscedasticity"
   ]
  },
  {
   "cell_type": "code",
   "execution_count": null,
   "id": "235d7347-7a56-4c2b-b885-23c8c75fd1e0",
   "metadata": {},
   "outputs": [],
   "source": [
    "from src.transforms.stationary_utils import check_heteroscedastisticity\n",
    "\n",
    "y_hetero.plot()\n",
    "plt.show()\n",
    "hetero_res = check_heteroscedastisticity(y_hetero, confidence=0.05)\n",
    "\n",
    "print(f\"White Test for Heteroscedasticity: {hetero_res.heteroscedastic} with a LM p-value of {hetero_res.lm_p_value}\")"
   ]
  },
  {
   "cell_type": "code",
   "execution_count": null,
   "id": "fc25dd4f-165c-4c73-953d-067cbd0fdf3b",
   "metadata": {},
   "outputs": [],
   "source": [
    "y_new = y_trend + y_seasonal\n",
    "y_new.plot()\n",
    "plt.show()\n",
    "\n",
    "hetero_res = check_heteroscedastisticity(y_hetero, confidence=0.05)\n",
    "print(f\"White Test for Heteroscedasticity: {hetero_res.heteroscedastic} with a p-value of {hetero_res.lm_p_value}\")"
   ]
  },
  {
   "cell_type": "code",
   "execution_count": null,
   "id": "6d4d81da-66f3-4a1d-b4a5-27c64ca5930d",
   "metadata": {},
   "outputs": [],
   "source": [
    "y_new = y_trend + y_seasonal\n",
    "\n",
    "deseasonalizing_transformer = DeseasonalizingTransformer(seasonality_extraction=\"period_averages\",seasonal_period=25)\n",
    "\n",
    "y_deseasonalized = deseasonalizing_transformer.fit_transform(y_new, freq=\"1D\")\n",
    "y_deseasonalized.plot()\n",
    "plt.show()\n",
    "\n",
    "hetero_res = check_heteroscedastisticity(y_deseasonalized, confidence=0.05)\n",
    "print(f\"White Test for Heteroscedasticity: {hetero_res.heteroscedastic} with a p-value of {hetero_res.lm_p_value}\")"
   ]
  },
  {
   "cell_type": "markdown",
   "id": "0ec2891e-6045-4e2d-8dd6-ec4c2f019bdd",
   "metadata": {},
   "source": [
    "### Log Transforms"
   ]
  },
  {
   "cell_type": "code",
   "execution_count": null,
   "id": "fc9ac829-6021-4d1b-85e0-cc93c165d591",
   "metadata": {},
   "outputs": [],
   "source": [
    "from src.transforms.target_transformations import LogTransformer\n",
    "\n",
    "# shifting the series into positive domain\n",
    "_y_hetero = y_hetero-y_hetero.min()\n",
    "log_transformer = LogTransformer(add_one=True)\n",
    "y_log = log_transformer.fit_transform(_y_hetero)\n",
    "fig, axs = plt.subplots(2)\n",
    "\n",
    "_y_hetero.plot(title=\"Heteroscedastic\",ax=axs[0])\n",
    "y_log.plot(title=\"Log Transform\",ax=axs[1])\n",
    "\n",
    "plt.tight_layout()\n",
    "plt.show()\n",
    "hetero_res = check_heteroscedastisticity(y_log, confidence=0.05)\n",
    "\n",
    "# mann_kendall_res = check_trend(y_diff, confidence=0.05, mann_kendall=True)\n",
    "print(f\"White Test for Heteroscedasticity: {hetero_res.heteroscedastic} with a p-value of {hetero_res.lm_p_value}\")"
   ]
  },
  {
   "cell_type": "code",
   "execution_count": null,
   "id": "37f3c20b-24bd-499a-801d-9bedcd85fb64",
   "metadata": {},
   "outputs": [],
   "source": [
    "### Box-Cox Transforms"
   ]
  },
  {
   "cell_type": "code",
   "execution_count": null,
   "id": "2a38b319-93eb-47e0-b0a5-11594db0c102",
   "metadata": {},
   "outputs": [],
   "source": []
  },
  {
   "cell_type": "code",
   "execution_count": null,
   "id": "68ced5fa-07f0-441a-82d1-8612dcebc45d",
   "metadata": {},
   "outputs": [],
   "source": []
  },
  {
   "cell_type": "code",
   "execution_count": null,
   "id": "393ced45-7296-4d1c-9fbb-42f98c936d53",
   "metadata": {},
   "outputs": [],
   "source": []
  },
  {
   "cell_type": "code",
   "execution_count": null,
   "id": "d963722a-cded-45c0-843b-8414d6084488",
   "metadata": {},
   "outputs": [],
   "source": []
  },
  {
   "cell_type": "code",
   "execution_count": null,
   "id": "9e5e6961-2157-47b2-943f-190f195d28cc",
   "metadata": {},
   "outputs": [],
   "source": []
  },
  {
   "cell_type": "code",
   "execution_count": null,
   "id": "87488f20-8e4e-4f83-8c66-6aa1549bbb30",
   "metadata": {},
   "outputs": [],
   "source": []
  },
  {
   "cell_type": "code",
   "execution_count": null,
   "id": "3ece676b-e0aa-4875-9736-c1c4b20a1d1f",
   "metadata": {},
   "outputs": [],
   "source": []
  },
  {
   "cell_type": "code",
   "execution_count": null,
   "id": "b035bb74-a0d1-4846-84b3-2c19b3515334",
   "metadata": {},
   "outputs": [],
   "source": []
  },
  {
   "cell_type": "code",
   "execution_count": null,
   "id": "23e8e277-356d-424a-979d-628afb3695f5",
   "metadata": {},
   "outputs": [],
   "source": []
  },
  {
   "cell_type": "code",
   "execution_count": null,
   "id": "32fbd903-3fbe-4051-b678-4c42cf83159a",
   "metadata": {},
   "outputs": [],
   "source": []
  },
  {
   "cell_type": "code",
   "execution_count": null,
   "id": "565bab22-e33b-4d1b-bac5-d16d96a26997",
   "metadata": {},
   "outputs": [],
   "source": []
  },
  {
   "cell_type": "code",
   "execution_count": null,
   "id": "2b4bb1da-4d5e-400b-98cd-3c764cf110b5",
   "metadata": {},
   "outputs": [],
   "source": []
  },
  {
   "cell_type": "code",
   "execution_count": null,
   "id": "1847be0e-2e2a-45ec-9d8a-cc33d18d4ddc",
   "metadata": {},
   "outputs": [],
   "source": []
  },
  {
   "cell_type": "code",
   "execution_count": null,
   "id": "84488ed4-918d-4fd7-b06f-08ff77084fe3",
   "metadata": {},
   "outputs": [],
   "source": [
    "\n"
   ]
  }
 ],
 "metadata": {
  "kernelspec": {
   "display_name": "Python (MTSP)",
   "language": "python",
   "name": "mtsp"
  },
  "language_info": {
   "codemirror_mode": {
    "name": "ipython",
    "version": 3
   },
   "file_extension": ".py",
   "mimetype": "text/x-python",
   "name": "python",
   "nbconvert_exporter": "python",
   "pygments_lexer": "ipython3",
   "version": "3.10.18"
  }
 },
 "nbformat": 4,
 "nbformat_minor": 5
}
