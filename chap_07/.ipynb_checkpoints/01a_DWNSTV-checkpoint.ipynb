{
 "cells": [
  {
   "cell_type": "markdown",
   "id": "8946b635-fbfd-46e4-901f-5b701ee9cf73",
   "metadata": {},
   "source": [
    "# Dealing with Non-Stationarity (Training & Validation)\n",
    "\n",
    "### Loading Libraries"
   ]
  },
  {
   "cell_type": "code",
   "execution_count": null,
   "id": "45c4eee1-66e4-44ec-8a13-51d7bfcadea3",
   "metadata": {},
   "outputs": [],
   "source": [
    "%cd ../.."
   ]
  },
  {
   "cell_type": "code",
   "execution_count": null,
   "id": "3c78c37d-cb67-4f72-85a2-5e5adc7c96a5",
   "metadata": {},
   "outputs": [],
   "source": [
    "# Numerical Computing\n",
    "import numpy as np\n",
    "\n",
    "# Data Manipulation\n",
    "import pandas as pd\n",
    "from pandas.api.types import is_list_like\n",
    "\n",
    "# Data Visualization\n",
    "import seaborn as sns\n",
    "import plotly.io as pio\n",
    "import plotly.express as px\n",
    "import matplotlib.pyplot as plt\n",
    "import plotly.graph_objects as go\n",
    "import plotly.figure_factory as ff\n",
    "from plotly.subplots import make_subplots\n",
    "\n",
    "# Warnings\n",
    "import joblib\n",
    "import warnings\n",
    "import humanize\n",
    "\n",
    "# IO & Requests\n",
    "import time\n",
    "import random\n",
    "import requests\n",
    "from io import StringIO\n",
    "\n",
    "# StatsModels\n",
    "import statsmodels.api as sm\n",
    "from statsmodels.tsa.seasonal import MSTL , DecomposeResult\n",
    "\n",
    "# OS\n",
    "import os\n",
    "import sys\n",
    "import pickleshare\n",
    "import missingno as msno\n",
    "from itertools import cycle\n",
    "from typing import List, Tuple\n",
    "\n",
    "# PyArrow\n",
    "import pyarrow as pa\n",
    "\n",
    "# FuncTools\n",
    "from functools import partial\n",
    "\n",
    "# Path & Notebook Optimizer\n",
    "from pathlib import Path\n",
    "import missingno as msno\n",
    "from tqdm.auto import tqdm\n",
    "\n",
    "# Scikit-Learn\n",
    "from sklearn.decomposition import PCA\n",
    "from sklearn.pipeline import Pipeline\n",
    "from sklearn.metrics import mean_absolute_error\n",
    "from sklearn.preprocessing import StandardScaler\n",
    "from sklearn.preprocessing import PolynomialFeatures\n",
    "from sklearn.linear_model import LinearRegression, Ridge, Lasso\n",
    "\n",
    "# IPython\n",
    "from IPython.display import display, HTML\n",
    "\n",
    "# NIXTLA\n",
    "from statsforecast.core import StatsForecast\n",
    "from utilsforecast.plotting import plot_series\n",
    "from utilsforecast.evaluation import evaluate\n",
    "\n",
    "# Forecast\n",
    "# from datasetsforecast.losses import *\n",
    "from utilsforecast.evaluation import evaluate\n",
    "\n",
    "# SRC\n",
    "from src.utils.general import LogTime\n",
    "from src.utils.data_utils import _get_32_bit_dtype \n",
    "from src.transforms.target_transformations import AutoStationaryTransformer"
   ]
  },
  {
   "cell_type": "code",
   "execution_count": null,
   "id": "ba564282-ea4f-4161-a3b5-864259f9f396",
   "metadata": {},
   "outputs": [],
   "source": [
    "warnings.filterwarnings(\"ignore\", category=UserWarning)\n",
    "\n",
    "warnings.filterwarnings(\"ignore\", category=FutureWarning)"
   ]
  },
  {
   "cell_type": "code",
   "execution_count": null,
   "id": "2b84425b-aed0-4c61-9dbd-573bee291eda",
   "metadata": {},
   "outputs": [],
   "source": [
    "os.makedirs(\"imgs/chapter_07\", exist_ok=True)\n",
    "\n",
    "preprocessed = Path.home() / \"Desktop\" / \"data\" / \"london_smart_meters\" / \"preprocessed\""
   ]
  },
  {
   "cell_type": "code",
   "execution_count": null,
   "id": "226ce6b9-8da8-4eea-ac0f-052cb538de04",
   "metadata": {},
   "outputs": [],
   "source": [
    "tqdm.pandas()\n",
    "\n",
    "np.random.seed(0)\n",
    "\n",
    "pio.templates.default = \"plotly_white\"\n",
    "\n",
    "sys.path.append('/Users/joaquinromero/Desktop/MTSF') "
   ]
  },
  {
   "cell_type": "code",
   "execution_count": null,
   "id": "a97d087c-8fb9-45b3-b898-c433e309cfb8",
   "metadata": {},
   "outputs": [],
   "source": [
    "from src.window_ops.rolling import (\n",
    "    seasonal_rolling_max,\n",
    "    seasonal_rolling_mean,\n",
    "    seasonal_rolling_min,\n",
    "    seasonal_rolling_std,\n",
    ")"
   ]
  },
  {
   "cell_type": "markdown",
   "id": "4919a381-ce64-4927-b17a-1756ff083672",
   "metadata": {},
   "source": [
    "### Reading The `Preprocessed and Feature Engineered` Files (Train + Validation)"
   ]
  },
  {
   "cell_type": "code",
   "execution_count": null,
   "id": "cda6dc35-8d76-4d51-b879-96eeb8efdf21",
   "metadata": {},
   "outputs": [],
   "source": [
    "# Reading The Missing Value Imputed and Train Test Split Data\n",
    "try:\n",
    "    train_df = pd.read_parquet(preprocessed/\"selected_blocks_train_missing_imputed_feature_engg.parquet\")\n",
    "    val_df = pd.read_parquet(preprocessed/\"selected_blocks_val_missing_imputed_feature_engg.parquet\")\n",
    "    train_df[\"type\"] = \"train\"\n",
    "    val_df[\"type\"] = \"val\"\n",
    "    train_df = pd.concat([train_df,val_df])\n",
    "    del val_df\n",
    "    display(train_df.head())\n",
    "except FileNotFoundError:\n",
    "    display(HTML(\"\"\"\n",
    "    <div class=\"alert alert-block alert-warning\">\n",
    "    <b>Warning!</b> File not found. Please make sure you have run 01-Feature Engineering.ipynb in Chapter06\n",
    "    </div>\n",
    "    \"\"\"))"
   ]
  },
  {
   "cell_type": "code",
   "execution_count": null,
   "id": "06b60273-9352-4113-a4b7-13b1ac239ba6",
   "metadata": {},
   "outputs": [],
   "source": [
    "#Takes a while. Snack Break!\n",
    "transformer_pipelines = {}\n",
    "for _id in tqdm(train_df[\"LCLid\"].unique()):\n",
    "    #Initialize the AutoStationaryTransformer with a seasonality period of 48*7\n",
    "    auto_stationary = AutoStationaryTransformer(seasonal_period=48*7)\n",
    "    #Creating the timeseries with datetime index\n",
    "    y = train_df.loc[train_df[\"LCLid\"]==_id, [\"energy_consumption\",\"timestamp\"]].set_index(\"timestamp\")\n",
    "    #Fitting and trainsforming the train\n",
    "    y_stat = auto_stationary.fit_transform(y, freq=\"30min\")\n",
    "    # Setting the transformerd series back to the dataframe\n",
    "    train_df.loc[train_df[\"LCLid\"]==_id, \"energy_consumption\"] = y_stat.values\n",
    "    #Saving the pipeline\n",
    "    transformer_pipelines[_id] = auto_stationary"
   ]
  },
  {
   "cell_type": "markdown",
   "id": "98c35f4e-3dce-47eb-83d4-46e50f150dd2",
   "metadata": {},
   "source": [
    "#### Saving `The Transformed File` as well as `The Transformer Pipelines`"
   ]
  },
  {
   "cell_type": "code",
   "execution_count": null,
   "id": "92022ffc-17d3-47bc-8198-15583b79279f",
   "metadata": {},
   "outputs": [],
   "source": [
    "train_df = train_df.loc[:,[\"LCLid\",\"timestamp\",\"energy_consumption\"]].set_index([\"LCLid\",\"timestamp\"])\n",
    "\n",
    "train_df.rename(columns={\"energy_consumption\":\"energy_consumption_auto_stat\"}, inplace=True)"
   ]
  },
  {
   "cell_type": "code",
   "execution_count": null,
   "id": "06227c79-8127-4ffd-b649-065413ab5af5",
   "metadata": {},
   "outputs": [],
   "source": [
    "train_df.head()"
   ]
  },
  {
   "cell_type": "code",
   "execution_count": null,
   "id": "de0f5e2a-11a1-4ca3-95d1-3335cdaf2f06",
   "metadata": {},
   "outputs": [],
   "source": [
    "train_df.to_parquet(preprocessed/\"selected_blocks_train_val_auto_stat_target.parquet\")\n",
    "\n",
    "joblib.dump(transformer_pipelines, preprocessed/\"auto_transformer_pipelines_train_val.pkl\")"
   ]
  },
  {
   "cell_type": "code",
   "execution_count": null,
   "id": "fee78aff-5e19-4057-a2e6-65a8e57414d6",
   "metadata": {},
   "outputs": [],
   "source": []
  },
  {
   "cell_type": "code",
   "execution_count": null,
   "id": "b58e711d-0d05-4b0e-95a9-2ae3ff65b6c4",
   "metadata": {},
   "outputs": [],
   "source": []
  },
  {
   "cell_type": "code",
   "execution_count": null,
   "id": "7d8e8c32-60ff-4078-b2ba-2c71d55c3758",
   "metadata": {},
   "outputs": [],
   "source": []
  }
 ],
 "metadata": {
  "kernelspec": {
   "display_name": "Python (MTSP)",
   "language": "python",
   "name": "mtsp"
  },
  "language_info": {
   "codemirror_mode": {
    "name": "ipython",
    "version": 3
   },
   "file_extension": ".py",
   "mimetype": "text/x-python",
   "name": "python",
   "nbconvert_exporter": "python",
   "pygments_lexer": "ipython3",
   "version": "3.10.18"
  }
 },
 "nbformat": 4,
 "nbformat_minor": 5
}
