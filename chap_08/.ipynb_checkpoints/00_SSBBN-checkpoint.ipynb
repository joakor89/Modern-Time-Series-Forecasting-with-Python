{
 "cells": [
  {
   "cell_type": "markdown",
   "id": "8b043c0b-651e-4dbb-985b-755a700a347d",
   "metadata": {},
   "source": [
    "# Single Step Backtesting Baselines with NIXTLA\n",
    "\n",
    "### Loading Libraries"
   ]
  },
  {
   "cell_type": "code",
   "execution_count": null,
   "id": "0f12c209-d7d3-4bd4-87e5-cefbad31f152",
   "metadata": {},
   "outputs": [],
   "source": [
    "#%pip list"
   ]
  },
  {
   "cell_type": "code",
   "execution_count": null,
   "id": "5e4f0943-7ff6-4256-93d5-5891ef2e1163",
   "metadata": {},
   "outputs": [],
   "source": [
    "%cd ../.."
   ]
  },
  {
   "cell_type": "code",
   "execution_count": null,
   "id": "5f8667c7-fdc2-4920-bd41-15dc8c369eae",
   "metadata": {},
   "outputs": [],
   "source": [
    "# Numerical Computing\n",
    "import numpy as np\n",
    "\n",
    "# Data Manipulation\n",
    "import pandas as pd\n",
    "from pandas.api.types import is_list_like\n",
    "\n",
    "# Data Visualization\n",
    "import seaborn as sns\n",
    "import plotly.io as pio\n",
    "import plotly.express as px\n",
    "import matplotlib.pyplot as plt\n",
    "import plotly.graph_objects as go\n",
    "import plotly.figure_factory as ff\n",
    "from plotly.subplots import make_subplots\n",
    "\n",
    "# Warnings\n",
    "import joblib\n",
    "import warnings\n",
    "import humanize\n",
    "\n",
    "# IO & Requests\n",
    "import time\n",
    "import random\n",
    "import requests\n",
    "from io import StringIO\n",
    "\n",
    "# StatsModels\n",
    "import statsmodels.api as sm\n",
    "from statsmodels.tsa.seasonal import MSTL , DecomposeResult\n",
    "\n",
    "# OS\n",
    "import os\n",
    "import sys\n",
    "import pickleshare\n",
    "import missingno as msno\n",
    "from itertools import cycle\n",
    "from typing import List, Tuple\n",
    "\n",
    "# PyArrow\n",
    "import pyarrow as pa\n",
    "\n",
    "# FuncTools\n",
    "from functools import partial\n",
    "\n",
    "# Path & Notebook Optimizer\n",
    "from pathlib import Path\n",
    "import missingno as msno\n",
    "from tqdm.auto import tqdm\n",
    "\n",
    "# Scikit-Learn\n",
    "from sklearn.decomposition import PCA\n",
    "from sklearn.pipeline import Pipeline\n",
    "from sklearn.metrics import mean_absolute_error\n",
    "from sklearn.preprocessing import StandardScaler\n",
    "from sklearn.preprocessing import PolynomialFeatures\n",
    "from sklearn.linear_model import LinearRegression, Ridge, Lasso\n",
    "\n",
    "# IPython\n",
    "from IPython.display import display, HTML\n",
    "\n",
    "# NIXTLA\n",
    "from statsforecast.core import StatsForecast\n",
    "from utilsforecast.plotting import plot_series\n",
    "from utilsforecast.evaluation import evaluate\n",
    "\n",
    "# Forecast\n",
    "# from datasetsforecast.losses import *\n",
    "from utilsforecast.evaluation import evaluate\n",
    "\n",
    "# SRC\n",
    "from src.utils.general import LogTime\n",
    "from src.utils.data_utils import _get_32_bit_dtype \n",
    "from src.transforms.target_transformations import AutoStationaryTransformer"
   ]
  },
  {
   "cell_type": "code",
   "execution_count": null,
   "id": "cd426776-4d62-4a55-a8f9-dc75fbeb568c",
   "metadata": {},
   "outputs": [],
   "source": [
    "warnings.filterwarnings(\"ignore\", category=UserWarning)\n",
    "\n",
    "warnings.filterwarnings(\"ignore\", category=FutureWarning)"
   ]
  },
  {
   "cell_type": "code",
   "execution_count": null,
   "id": "875f679d-f0bd-43ce-a06b-6d69ea24be20",
   "metadata": {},
   "outputs": [],
   "source": [
    "os.makedirs(\"imgs/chapter_08\", exist_ok=True)\n",
    "\n",
    "preprocessed = Path.home() / \"Desktop\" / \"data\" / \"london_smart_meters\" / \"preprocessed\""
   ]
  },
  {
   "cell_type": "code",
   "execution_count": null,
   "id": "869a7cf3-6846-4eba-9ef6-6c240f1cb253",
   "metadata": {},
   "outputs": [],
   "source": [
    "tqdm.pandas()\n",
    "\n",
    "np.random.seed(0)\n",
    "\n",
    "pio.templates.default = \"plotly_white\"\n",
    "\n",
    "sys.path.append('/Users/joaquinromero/Desktop/MTSF') "
   ]
  },
  {
   "cell_type": "code",
   "execution_count": null,
   "id": "88fc680b-1aab-40fe-8da1-bb2cd1885d0d",
   "metadata": {},
   "outputs": [],
   "source": [
    "from src.window_ops.rolling import (\n",
    "    seasonal_rolling_max,\n",
    "    seasonal_rolling_mean,\n",
    "    seasonal_rolling_min,\n",
    "    seasonal_rolling_std,\n",
    ")"
   ]
  },
  {
   "cell_type": "code",
   "execution_count": null,
   "id": "bae07e86-49bf-4b5b-8d3f-203825c80ccc",
   "metadata": {},
   "outputs": [],
   "source": [
    "from statsforecast.core import StatsForecast\n",
    "from utilsforecast.plotting import plot_series\n",
    "from utilsforecast.evaluation import evaluate\n",
    "from utilsforecast.losses import *\n",
    "from statsforecast.models import (\n",
    "    Naive,\n",
    "    SeasonalNaive,\n",
    "    HoltWinters,\n",
    "    ETS,\n",
    "    AutoETS,\n",
    "    ARIMA,\n",
    "    Theta,\n",
    "    TBATS,\n",
    "    MSTL\n",
    "\n",
    ")"
   ]
  },
  {
   "cell_type": "code",
   "execution_count": null,
   "id": "18ad331d-0964-471e-abf7-d1ad0986a525",
   "metadata": {},
   "outputs": [],
   "source": [
    "from functools import partial\n",
    "from src.utils.ts_utils import forecast_bias_aggregate, forecast_bias_NIXTLA\n",
    "from src.utils.general import LogTime\n",
    "from src.utils import plotting_utils"
   ]
  },
  {
   "cell_type": "code",
   "execution_count": null,
   "id": "f365f10d-edde-438e-9b5d-62d6093a86cd",
   "metadata": {},
   "outputs": [],
   "source": [
    "# %load_ext autoreload\n",
    "\n",
    "# %autoreload 2"
   ]
  },
  {
   "cell_type": "code",
   "execution_count": null,
   "id": "72b21089-5db7-4a65-b32d-cb05bde6d6ab",
   "metadata": {},
   "outputs": [],
   "source": [
    "if 'NIXTLA_ID_AS_COL' in os.environ:\n",
    "    del os.environ['NIXTLA_ID_AS_COL']\n",
    "os.environ['NIXTLA_ID_AS_COL'] = '1'"
   ]
  },
  {
   "cell_type": "code",
   "execution_count": null,
   "id": "1213f806-0b1b-48d9-995b-21404d04a91e",
   "metadata": {},
   "outputs": [],
   "source": [
    "def format_plot(fig, legends = None, xlabel=\"Time\", ylabel=\"Value\", title=\"\"):\n",
    "    if legends:\n",
    "        names = cycle(legends)\n",
    "        fig.for_each_trace(lambda t:  t.update(name = next(names)))\n",
    "    fig.update_layout(\n",
    "            autosize=False,\n",
    "            width=900,\n",
    "            height=500,\n",
    "            title_text=title,\n",
    "            title={\n",
    "            'x':0.5,\n",
    "            'xanchor': 'center',\n",
    "            'yanchor': 'top'},\n",
    "            titlefont={\n",
    "                \"size\": 20\n",
    "            },\n",
    "            legend_title = None,\n",
    "            yaxis=dict(\n",
    "                title_text=ylabel,\n",
    "                titlefont=dict(size=12),\n",
    "            ),\n",
    "            xaxis=dict(\n",
    "                title_text=xlabel,\n",
    "                titlefont=dict(size=12),\n",
    "            )\n",
    "        )\n",
    "    return fig"
   ]
  },
  {
   "cell_type": "code",
   "execution_count": null,
   "id": "798ad720-3705-4ef4-9d91-e5933bbd102e",
   "metadata": {},
   "outputs": [],
   "source": [
    "# Reading the missing value imputed and train test split data\n",
    "try:\n",
    "    train_df = pd.read_parquet(preprocessed/\"selected_blocks_train_missing_imputed.parquet\")\n",
    "    val_df = pd.read_parquet(preprocessed/\"selected_blocks_val_missing_imputed.parquet\")\n",
    "    test_df = pd.read_parquet(preprocessed/\"selected_blocks_test_missing_imputed.parquet\")\n",
    "\n",
    "    print(\"Train Min and Max Date\",train_df.timestamp.min(), train_df.timestamp.max())\n",
    "    print(\"Val Min and Max Date\",val_df.timestamp.min(), val_df.timestamp.max())\n",
    "    print(\"Test Min and Max Date\",test_df.timestamp.min(), test_df.timestamp.max())\n",
    "except FileNotFoundError:\n",
    "    display(HTML(\"\"\"\n",
    "    <div class=\"alert alert-block alert-warning\">\n",
    "    <b>Warning!</b> File not found. Please make sure you have run 01-Feature Engineering.ipynb in Chapter06\n",
    "    </div>\n",
    "    \"\"\"))\n",
    "    \n",
    "# # #Choosing a smaller backtesting window because of runtime issues\n",
    "# backtesting = test_df[test_df.timestamp.between(pd.Timestamp(\"2014-01-01\"),pd.Timestamp(\"2014-01-08\"))]\n",
    "# print(\"Backtesting DF Min and Max Date\",backtesting.timestamp.min(), backtesting.timestamp.max())"
   ]
  },
  {
   "cell_type": "code",
   "execution_count": null,
   "id": "99246d0c-4336-4c4c-bdcb-961e2af89d65",
   "metadata": {},
   "outputs": [],
   "source": [
    "len(train_df.LCLid.unique())"
   ]
  },
  {
   "cell_type": "code",
   "execution_count": null,
   "id": "862a6140-5c6e-4712-bd3e-2b3735ebd297",
   "metadata": {},
   "outputs": [],
   "source": [
    "train_df.head()"
   ]
  },
  {
   "cell_type": "markdown",
   "id": "4190c938-2ec3-468e-9d75-d3993b87f740",
   "metadata": {},
   "source": [
    "### Running Baseline Forecast for All Consumers"
   ]
  },
  {
   "cell_type": "code",
   "execution_count": null,
   "id": "20db640d-3e03-49ac-9cd9-5f210b6073d1",
   "metadata": {},
   "outputs": [],
   "source": [
    "lcl_ids = sorted(train_df.LCLid.unique())"
   ]
  },
  {
   "cell_type": "markdown",
   "id": "21eed3c0-885d-4aa8-b755-156b81c806b8",
   "metadata": {},
   "source": [
    "#### Naive Forecast"
   ]
  },
  {
   "cell_type": "code",
   "execution_count": null,
   "id": "48b2d777-7ab2-4f6f-8b8b-df4d8f54a8c3",
   "metadata": {},
   "outputs": [],
   "source": [
    "#from src.utils.ts_utils import darts_metrics_adapter"
   ]
  },
  {
   "cell_type": "code",
   "execution_count": null,
   "id": "e2757cdc-fbc4-4729-b90f-911569f0d3e2",
   "metadata": {},
   "outputs": [],
   "source": [
    "models =  [Naive(), \n",
    "                SeasonalNaive(season_length=48*7)\n",
    "                ]\n",
    "\n",
    "model_names = [model.__class__.__name__ for model in models]\n",
    "\n",
    "sf = StatsForecast(\n",
    "    models=models,\n",
    "    freq='30min',\n",
    "    n_jobs=-1,\n",
    ")"
   ]
  },
  {
   "cell_type": "code",
   "execution_count": null,
   "id": "1d7a92e3-905a-4663-9e58-51b8485fc8c5",
   "metadata": {},
   "outputs": [],
   "source": [
    "tr = train_df[[\"LCLid\",\"timestamp\",\"energy_consumption\"]]\n",
    "vl = val_df[[\"LCLid\",\"timestamp\",\"energy_consumption\"]]\n",
    "ts = test_df[[\"LCLid\",\"timestamp\",\"energy_consumption\"]]\n",
    "\n",
    "tr_vl = pd.concat([tr, vl]) # Creating the full training + validation dataset for cross validation\n",
    "tr_vl_ts = pd.concat([tr, vl, ts]) # Creating the full training + validation + test dataset for cross validation\n",
    "\n",
    "tr_vl['LCLid'] = tr_vl['LCLid'].astype(str)\n",
    "tr_vl_ts['LCLid'] = tr_vl_ts['LCLid'].astype(str)"
   ]
  },
  {
   "cell_type": "code",
   "execution_count": null,
   "id": "a147ee99-ef52-4f09-8a09-39a53ba75b8c",
   "metadata": {},
   "outputs": [],
   "source": [
    "tr_vl.head()"
   ]
  },
  {
   "cell_type": "code",
   "execution_count": null,
   "id": "7579814c-ea96-44df-a4c9-2c23c988925b",
   "metadata": {},
   "outputs": [],
   "source": [
    "crossvalidation_val_df = sf.cross_validation(\n",
    "    df = tr_vl,\n",
    "    h = 1,\n",
    "    step_size = 1,\n",
    "    n_windows = len(vl.timestamp.unique()),\n",
    "    id_col = 'LCLid',\n",
    "    time_col = 'timestamp',\n",
    "    target_col = 'energy_consumption',\n",
    "\n",
    "  )"
   ]
  },
  {
   "cell_type": "code",
   "execution_count": null,
   "id": "205cd9d6-a8f9-43bc-8a45-84e960a988ce",
   "metadata": {},
   "outputs": [],
   "source": [
    "crossvalidation_val_df.head()"
   ]
  },
  {
   "cell_type": "code",
   "execution_count": null,
   "id": "681e5163-675b-46c3-8262-208cc917acaa",
   "metadata": {},
   "outputs": [],
   "source": [
    "crossvalidation_test_df = sf.cross_validation(\n",
    "    df = tr_vl_ts,\n",
    "    h = 1,\n",
    "    step_size = 1,\n",
    "    n_windows = len(ts.timestamp.unique()),\n",
    "    id_col = 'LCLid',\n",
    "    time_col = 'timestamp',\n",
    "    target_col = 'energy_consumption',\n",
    "\n",
    "  )"
   ]
  },
  {
   "cell_type": "code",
   "execution_count": null,
   "id": "bd303fb7-e8be-4d66-9bec-37eb8404412f",
   "metadata": {},
   "outputs": [],
   "source": [
    "crossvalidation_val_df.head(3)"
   ]
  },
  {
   "cell_type": "code",
   "execution_count": null,
   "id": "77c170a9-4e60-40b2-9566-4c160c8e1eca",
   "metadata": {},
   "outputs": [],
   "source": [
    "crossvalidation_test_df.head(3)"
   ]
  },
  {
   "cell_type": "code",
   "execution_count": null,
   "id": "60bdec85-c35e-4a47-998a-846650d625eb",
   "metadata": {},
   "outputs": [],
   "source": [
    "fcst_mase = partial(mase, seasonality=1)\n",
    "fcst_mase.__name__ = \"mase\"\n",
    "forecast_bias_NIXTLA.__name__ = \"forecast_bias\"\n",
    "\n",
    "baseline_val_metrics_df = evaluate(\n",
    "                        df   = crossvalidation_val_df.drop(['cutoff'], axis =1 ), \n",
    "                        metrics  = [mse, mae, rmse, fcst_mase, forecast_bias_NIXTLA],\n",
    "                        models  = model_names,\n",
    "                        train_df  = tr_vl[['timestamp', 'LCLid', 'energy_consumption']],\n",
    "                        id_col = 'LCLid',\n",
    "                        time_col = 'timestamp',\n",
    "                        target_col = 'energy_consumption'\n",
    "                         )\n",
    "baseline_val_metrics_df.head()"
   ]
  },
  {
   "cell_type": "code",
   "execution_count": null,
   "id": "59b479cc-53d5-4f0d-9a1f-b08b5374f0c6",
   "metadata": {},
   "outputs": [],
   "source": [
    "baseline_val_metrics_df[(baseline_val_metrics_df.LCLid =='MAC000066') & (baseline_val_metrics_df.metric=='forecast_bias')]"
   ]
  },
  {
   "cell_type": "code",
   "execution_count": null,
   "id": "2c89a4e8-21d3-41b0-861a-2c873968bcd4",
   "metadata": {},
   "outputs": [],
   "source": [
    "baseline_val_metrics_df_pivot = (baseline_val_metrics_df\n",
    "    .melt(id_vars = ['LCLid','metric'], value_vars = model_names, var_name ='Algorithm', value_name='score')\n",
    "    .pivot_table(index = ['LCLid','Algorithm'], columns = 'metric', values = 'score', observed = 'True')\n",
    ").reset_index()\n",
    "baseline_val_metrics_df_pivot.head(10)"
   ]
  },
  {
   "cell_type": "code",
   "execution_count": null,
   "id": "3848e41b-6cb5-482e-ba0e-ff790fd77ee5",
   "metadata": {},
   "outputs": [],
   "source": [
    "[model.__class__.__name__ for model in models]"
   ]
  },
  {
   "cell_type": "code",
   "execution_count": null,
   "id": "7dfe58c1-3aa4-4f41-9d40-25590deecc24",
   "metadata": {},
   "outputs": [],
   "source": [
    "baseline_test_metrics_df =  evaluate(\n",
    "                        df   = crossvalidation_test_df.drop(['cutoff'], axis =1 ), \n",
    "                        metrics  = [mse, mae, rmse, fcst_mase, forecast_bias_NIXTLA],\n",
    "                        models  = model_names,\n",
    "                        train_df  = tr_vl[['timestamp', 'LCLid', 'energy_consumption']],\n",
    "                        id_col = 'LCLid',\n",
    "                        time_col = 'timestamp',\n",
    "                        target_col = 'energy_consumption'\n",
    "                         )\n",
    "baseline_test_metrics_df.head()"
   ]
  },
  {
   "cell_type": "code",
   "execution_count": null,
   "id": "efe23a36-5a27-4e8b-9469-d9d8cdac3e7f",
   "metadata": {},
   "outputs": [],
   "source": [
    "baseline_test_metrics_df_pivot = (baseline_test_metrics_df\n",
    "    .melt(id_vars = ['LCLid','metric'], value_vars = model_names, var_name ='Algorithm', value_name='score')\n",
    "    .pivot_table(index = ['LCLid','Algorithm'], columns = 'metric', values = 'score', observed = 'True')\n",
    ").reset_index()\n",
    "baseline_test_metrics_df_pivot.head(10)"
   ]
  },
  {
   "cell_type": "code",
   "execution_count": null,
   "id": "7a63fd15-2c00-4863-a6de-88290f6d5a57",
   "metadata": {},
   "outputs": [],
   "source": [
    "# Clean up\n",
    "naive_pred_val_df = (crossvalidation_val_df\n",
    "                     .rename(columns = {'y':'energy_consumption','Naive':'naive_predictions'})\n",
    "                     .drop(['cutoff','SeasonalNaive'],axis=1).set_index('timestamp')\n",
    ")\n",
    "\n",
    "naive_pred_test_df = (crossvalidation_test_df\n",
    "                     .rename(columns = {'y':'energy_consumption','Naive':'naive_predictions'})\n",
    "                     .drop(['cutoff','SeasonalNaive'],axis=1).set_index('timestamp')\n",
    ")\n",
    "\n",
    "snaive_pred_val_df = (crossvalidation_val_df\n",
    "                     .rename(columns = {'y':'energy_consumption','SeasonalNaive':'snaive_predictions'})\n",
    "                     .drop(['cutoff','Naive'],axis=1).set_index('timestamp')\n",
    ")\n",
    "\n",
    "snaive_pred_test_df = (crossvalidation_test_df\n",
    "                     .rename(columns = {'y':'energy_consumption','SeasonalNaive':'snaive_predictions'})\n",
    "                     .drop(['cutoff','Naive'],axis=1).set_index('timestamp')\n",
    ")\n",
    "\n",
    "baseline_metrics_val_df = baseline_val_metrics_df_pivot.copy()\n",
    "baseline_metrics_test_df = baseline_test_metrics_df_pivot.copy()\n",
    "                            "
   ]
  },
  {
   "cell_type": "markdown",
   "id": "1ab7e632-6170-47cd-96c8-0c2b99ea1467",
   "metadata": {},
   "source": [
    "### Overall Metrics"
   ]
  },
  {
   "cell_type": "code",
   "execution_count": null,
   "id": "720ed34d-f081-45ea-ab0b-459c5f6955c8",
   "metadata": {},
   "outputs": [],
   "source": [
    "from src.utils import ts_utils"
   ]
  },
  {
   "cell_type": "code",
   "execution_count": null,
   "id": "ea1b7424-7e20-486b-bbe6-a0446145edb4",
   "metadata": {},
   "outputs": [],
   "source": [
    "overall_metrics_naive_val = {\n",
    "    \"MAE\": ts_utils.mae(crossvalidation_val_df[\"energy_consumption\"], crossvalidation_val_df[\"Naive\"]),\n",
    "    \"MSE\": ts_utils.mse(crossvalidation_val_df[\"energy_consumption\"], crossvalidation_val_df[\"Naive\"]),\n",
    "    \"meanMASE\": baseline_val_metrics_df[baseline_val_metrics_df.metric =='mase'][\"Naive\"].mean(),\n",
    "    \"Forecast Bias\": ts_utils.forecast_bias_aggregate(crossvalidation_val_df[\"energy_consumption\"], crossvalidation_val_df[\"Naive\"])\n",
    "}\n",
    "\n",
    "overall_metrics_naive_val"
   ]
  },
  {
   "cell_type": "code",
   "execution_count": null,
   "id": "d2f55c28-03a1-473f-8d21-e43859e7fe9c",
   "metadata": {},
   "outputs": [],
   "source": [
    "overall_metrics_snaive_val = {\n",
    "    \"MAE\": ts_utils.mae(crossvalidation_val_df[\"energy_consumption\"], crossvalidation_val_df[\"SeasonalNaive\"]),\n",
    "    \"MSE\": ts_utils.mse(crossvalidation_val_df[\"energy_consumption\"], crossvalidation_val_df[\"SeasonalNaive\"]),\n",
    "    \"meanMASE\": baseline_val_metrics_df[baseline_val_metrics_df.metric =='mase'][\"SeasonalNaive\"].mean(),\n",
    "    \"Forecast Bias\": ts_utils.forecast_bias_aggregate(crossvalidation_val_df[\"energy_consumption\"], crossvalidation_val_df[\"SeasonalNaive\"])\n",
    "}\n",
    "overall_metrics_snaive_val"
   ]
  },
  {
   "cell_type": "code",
   "execution_count": null,
   "id": "984e5003-6f96-442c-9fad-0751822d01e3",
   "metadata": {},
   "outputs": [],
   "source": [
    "overall_metrics_naive_test = {\n",
    "    \"MAE\": ts_utils.mae(crossvalidation_test_df[\"energy_consumption\"], crossvalidation_test_df[\"Naive\"]),\n",
    "    \"MSE\": ts_utils.mse(crossvalidation_test_df[\"energy_consumption\"], crossvalidation_test_df[\"Naive\"]),\n",
    "    \"meanMASE\": baseline_test_metrics_df[baseline_test_metrics_df.metric =='mase'][\"Naive\"].mean(),\n",
    "    \"Forecast Bias\": ts_utils.forecast_bias_aggregate(crossvalidation_test_df[\"energy_consumption\"], crossvalidation_test_df[\"Naive\"])\n",
    "}\n",
    "\n",
    "overall_metrics_naive_test"
   ]
  },
  {
   "cell_type": "code",
   "execution_count": null,
   "id": "c2b01b70-10aa-4dd4-8272-14dc0a5d7202",
   "metadata": {},
   "outputs": [],
   "source": [
    "overall_metrics_snaive_test = {\n",
    "    \"MAE\": ts_utils.mae(crossvalidation_test_df[\"energy_consumption\"], crossvalidation_test_df[\"SeasonalNaive\"]),\n",
    "    \"MSE\": ts_utils.mse(crossvalidation_test_df[\"energy_consumption\"], crossvalidation_test_df[\"SeasonalNaive\"]),\n",
    "    \"meanMASE\": baseline_test_metrics_df[baseline_test_metrics_df.metric =='mase'][\"SeasonalNaive\"].mean(),\n",
    "    \"Forecast Bias\": ts_utils.forecast_bias_aggregate(crossvalidation_test_df[\"energy_consumption\"], crossvalidation_test_df[\"SeasonalNaive\"])\n",
    "}\n",
    "overall_metrics_snaive_test"
   ]
  },
  {
   "cell_type": "markdown",
   "id": "6e1100a7-bf65-4f16-b0de-d39fdc685caf",
   "metadata": {},
   "source": [
    "### Baseline Forecast Evaluation"
   ]
  },
  {
   "cell_type": "code",
   "execution_count": null,
   "id": "814a48f1-db20-414e-82f8-24600a48fa93",
   "metadata": {},
   "outputs": [],
   "source": [
    "agg_metric_val_df = pd.DataFrame([overall_metrics_naive_val, overall_metrics_snaive_val], index=[\"Naive\",\"Seasonal Naive\"])\n",
    "\n",
    "agg_metric_val_df.style.format({\"MAE\": \"{:.3f}\", \n",
    "                          \"MSE\": \"{:.3f}\", \n",
    "                          \"meanMASE\": \"{:.3f}\", \n",
    "                          \"Forecast Bias\": \"{:.2f}%\"}).highlight_min(color='lightgreen')"
   ]
  },
  {
   "cell_type": "code",
   "execution_count": null,
   "id": "4735a50f-816a-439d-be83-1afe9a8add38",
   "metadata": {},
   "outputs": [],
   "source": [
    "agg_metric_test_df = pd.DataFrame([overall_metrics_naive_test, overall_metrics_snaive_test], index=[\"Naive\",\"Seasonal Naive\"])\n",
    "\n",
    "agg_metric_test_df.style.format({\"MAE\": \"{:.3f}\", \n",
    "                          \"MSE\": \"{:.3f}\", \n",
    "                          \"meanMASE\": \"{:.3f}\", \n",
    "                          \"Forecast Bias\": \"{:.2f}%\"}).highlight_min(color='lightgreen')"
   ]
  },
  {
   "cell_type": "code",
   "execution_count": null,
   "id": "8b0f852d-cf53-437d-b509-701e45bbd9be",
   "metadata": {},
   "outputs": [],
   "source": []
  },
  {
   "cell_type": "code",
   "execution_count": null,
   "id": "8bbf0944-6952-4d32-a5ee-6b4e3af8a7a4",
   "metadata": {},
   "outputs": [],
   "source": []
  },
  {
   "cell_type": "code",
   "execution_count": null,
   "id": "9d776e0d-490a-4ac8-a1be-1cf8872553b1",
   "metadata": {},
   "outputs": [],
   "source": []
  },
  {
   "cell_type": "code",
   "execution_count": null,
   "id": "f4948884-f28e-40b4-a0b3-20282863ba68",
   "metadata": {},
   "outputs": [],
   "source": []
  },
  {
   "cell_type": "code",
   "execution_count": null,
   "id": "676b3216-3061-4767-8ead-39189ef0e820",
   "metadata": {},
   "outputs": [],
   "source": []
  },
  {
   "cell_type": "code",
   "execution_count": null,
   "id": "1bc7f75b-b1ce-485d-9cec-9275ea7e39f0",
   "metadata": {},
   "outputs": [],
   "source": []
  },
  {
   "cell_type": "code",
   "execution_count": null,
   "id": "d15d4904-d4f4-4b95-984d-fbd52c23888d",
   "metadata": {},
   "outputs": [],
   "source": []
  },
  {
   "cell_type": "code",
   "execution_count": null,
   "id": "fee98f2f-cb0d-4f39-b81b-4018f59b0ea5",
   "metadata": {},
   "outputs": [],
   "source": []
  },
  {
   "cell_type": "code",
   "execution_count": null,
   "id": "4f752b5c-3399-4d85-93d0-e0d865ce1ff6",
   "metadata": {},
   "outputs": [],
   "source": []
  },
  {
   "cell_type": "code",
   "execution_count": null,
   "id": "177ce8af-f93b-4485-8c27-a60b1bc26f04",
   "metadata": {},
   "outputs": [],
   "source": []
  },
  {
   "cell_type": "code",
   "execution_count": null,
   "id": "24df4a2b-51eb-4d9e-b761-7efa86a0377c",
   "metadata": {},
   "outputs": [],
   "source": []
  },
  {
   "cell_type": "code",
   "execution_count": null,
   "id": "f5fdbfff-a2cd-417c-a43b-87e5aa6fa766",
   "metadata": {},
   "outputs": [],
   "source": []
  },
  {
   "cell_type": "code",
   "execution_count": null,
   "id": "2e8fe765-8c04-4f15-b8e2-8873e9d23ca6",
   "metadata": {},
   "outputs": [],
   "source": []
  },
  {
   "cell_type": "code",
   "execution_count": null,
   "id": "dd4f1674-a73a-434b-8d3e-a1695e67c622",
   "metadata": {},
   "outputs": [],
   "source": []
  },
  {
   "cell_type": "code",
   "execution_count": null,
   "id": "63abb6b2-7209-4f51-a95b-9f8b4f6291ad",
   "metadata": {},
   "outputs": [],
   "source": []
  },
  {
   "cell_type": "code",
   "execution_count": null,
   "id": "fea80b8d-e64c-4e5a-94ec-c90a154e39e3",
   "metadata": {},
   "outputs": [],
   "source": []
  }
 ],
 "metadata": {
  "kernelspec": {
   "display_name": "Python (MTSP)",
   "language": "python",
   "name": "mtsp"
  },
  "language_info": {
   "codemirror_mode": {
    "name": "ipython",
    "version": 3
   },
   "file_extension": ".py",
   "mimetype": "text/x-python",
   "name": "python",
   "nbconvert_exporter": "python",
   "pygments_lexer": "ipython3",
   "version": "3.10.18"
  }
 },
 "nbformat": 4,
 "nbformat_minor": 5
}
