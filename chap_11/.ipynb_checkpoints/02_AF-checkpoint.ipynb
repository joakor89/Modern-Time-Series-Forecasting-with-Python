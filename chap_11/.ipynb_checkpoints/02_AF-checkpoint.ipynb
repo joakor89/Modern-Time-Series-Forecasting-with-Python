{
 "cells": [
  {
   "cell_type": "markdown",
   "id": "6b17f7b1-a11b-488f-a85b-d5eb7319e480",
   "metadata": {},
   "source": [
    "# Activation Functions\n",
    "\n",
    "### Loading Libraries"
   ]
  },
  {
   "cell_type": "code",
   "execution_count": 2,
   "id": "29c21b07-d407-4dd6-8191-d68eae217708",
   "metadata": {},
   "outputs": [
    {
     "name": "stdout",
     "output_type": "stream",
     "text": [
      "/Users/joaquinromero/Desktop\n"
     ]
    }
   ],
   "source": [
    "%cd ../.."
   ]
  },
  {
   "cell_type": "code",
   "execution_count": 3,
   "id": "95c3df02-d204-49f1-b8e3-c26c4ed8a5ea",
   "metadata": {},
   "outputs": [],
   "source": [
    "# Numerical Computing\n",
    "import numpy as np\n",
    "\n",
    "# OS\n",
    "import os\n",
    "\n",
    "# Data Visualization\n",
    "import plotly.express as px\n",
    "import plotly.graph_objs as go\n",
    "import matplotlib.pyplot as plt\n",
    "\n",
    "# PyTorch\n",
    "import torch\n"
   ]
  },
  {
   "cell_type": "code",
   "execution_count": 4,
   "id": "1795900e-98f7-46b1-a189-bca46320551b",
   "metadata": {},
   "outputs": [],
   "source": [
    "np.random.seed(42)"
   ]
  },
  {
   "cell_type": "code",
   "execution_count": 5,
   "id": "0c053c04-4ab3-4d8e-ac23-e3e244afaca6",
   "metadata": {},
   "outputs": [],
   "source": [
    "os.makedirs(\"imgs/chapter_11\", exist_ok=True)"
   ]
  },
  {
   "cell_type": "markdown",
   "id": "7b8e11d0-6705-4d63-81d9-e9cd6c31cc8c",
   "metadata": {},
   "source": [
    "#### Helper Functions"
   ]
  },
  {
   "cell_type": "code",
   "execution_count": 6,
   "id": "bc293249-dd95-4f4d-8172-d1b4b790ade1",
   "metadata": {},
   "outputs": [],
   "source": [
    "def sample_grid(M=500, x_max=2.0):\n",
    "    ii, jj = torch.meshgrid(torch.linspace(-x_max, x_max, M,),\n",
    "                          torch.linspace(-x_max, x_max, M))\n",
    "    X_all = torch.cat([ii.unsqueeze(-1),\n",
    "                     jj.unsqueeze(-1)],\n",
    "                     dim=-1).view(-1, 2)\n",
    "    return X_all\n",
    "\n",
    "# This function assigns a unique color based on position\n",
    "def colorizer(x, y):\n",
    "    \"\"\"\n",
    "    Map x-y coordinates to a rgb color\n",
    "    \"\"\"\n",
    "    r = min(1, 1-y/3)\n",
    "    g = min(1, 1+y/3)\n",
    "    b = 1/4 + x/16\n",
    "    return (r, g, b)"
   ]
  },
  {
   "cell_type": "code",
   "execution_count": 7,
   "id": "b947b4d0-4a92-4099-870a-ac4b6c3a3c0a",
   "metadata": {},
   "outputs": [],
   "source": [
    "# def plot_grid(activation, activation_name, xygrid, colors, figsize=(15,5)):\n",
    "#     plt.rcParams.update({'font.size': 16})\n",
    "#     titles = [\"Original Vector Space\", \"Activated Vector Space\"]\n",
    "#     xygrids = [xygrid, activation(xygrid)]\n",
    "#     c = len(xygrids)\n",
    "#     fig, axes = plt.subplots(1, c+1, figsize=figsize, facecolor=\"w\")\n",
    "#     x = torch.linspace(-10, 10, 50)\n",
    "#     y = activation(x)\n",
    "#     axes[0].set_xlabel('Input')\n",
    "#     axes[0].set_ylabel('Output')\n",
    "#     axes[0].set_title(f'{activation_name} Activation Function')\n",
    "#     axes[0].plot(x, y)\n",
    "#     axes[0].axvline(x=0, c=\"grey\")\n",
    "#     axes[0].axhline(y=0, c=\"grey\")\n",
    "#     # Plot grid points \n",
    "#     # plt.figure()\n",
    "#     for ax, xygrid, title in zip(axes[1:], xygrids, titles):\n",
    "#         ax.scatter(xygrid[:,0], xygrid[:,1], s=36, c=colors, edgecolor=\"none\")\n",
    "#         # Set axis limits\n",
    "#         ax.grid(True)\n",
    "#         # ax1.axis(\"equal\")\n",
    "#         ax.set_title(title)\n",
    "#         ax.set_aspect('equal')\n",
    "#     axes[1].get_shared_x_axes().join(axes[1], axes[2])\n",
    "#     axes[1].get_shared_y_axes().join(axes[1], axes[2])\n",
    "#     plt.tight_layout()\n",
    "#     return fig\n",
    "\n",
    "import matplotlib.pyplot as plt\n",
    "import torch\n",
    "\n",
    "def plot_grid(activation, activation_name, xygrid, colors, figsize=(15,5)):\n",
    "    plt.rcParams.update({'font.size': 16})\n",
    "    titles = [\"Original Vector Space\", \"Activated Vector Space\"]\n",
    "    xygrids = [xygrid, activation(xygrid)]\n",
    "    c = len(xygrids)\n",
    "    \n",
    "    fig, axes = plt.subplots(1, c+1, figsize=figsize, facecolor=\"w\", sharex=True, sharey=True)\n",
    "    \n",
    "    x = torch.linspace(-10, 10, 50)\n",
    "    y = activation(x)\n",
    "    \n",
    "    axes[0].set_xlabel('Input')\n",
    "    axes[0].set_ylabel('Output')\n",
    "    axes[0].set_title(f'{activation_name} Activation Function')\n",
    "    axes[0].plot(x, y)\n",
    "    axes[0].axvline(x=0, c=\"grey\")\n",
    "    axes[0].axhline(y=0, c=\"grey\")\n",
    "    \n",
    "    for ax, xygrid, title in zip(axes[1:], xygrids, titles):\n",
    "        ax.scatter(xygrid[:,0], xygrid[:,1], s=36, c=colors, edgecolor=\"none\")\n",
    "        ax.grid(True)\n",
    "        ax.set_title(title)\n",
    "        ax.set_aspect('equal')\n",
    "    \n",
    "    plt.tight_layout()\n",
    "    return fig"
   ]
  },
  {
   "cell_type": "markdown",
   "id": "b7400520-37fc-47f0-8b2d-6c3c84c4511c",
   "metadata": {},
   "source": [
    "### Activation Functions"
   ]
  },
  {
   "cell_type": "code",
   "execution_count": 8,
   "id": "9debabb8-cd24-4604-ac25-db9e5f642e99",
   "metadata": {},
   "outputs": [
    {
     "name": "stderr",
     "output_type": "stream",
     "text": [
      "/opt/anaconda3/envs/MTSP/lib/python3.10/site-packages/torch/functional.py:554: UserWarning: torch.meshgrid: in an upcoming release, it will be required to pass the indexing argument. (Triggered internally at /Users/runner/work/pytorch/pytorch/pytorch/aten/src/ATen/native/TensorShape.cpp:4316.)\n",
      "  return _VF.meshgrid(tensors, **kwargs)  # type: ignore[attr-defined]\n"
     ]
    }
   ],
   "source": [
    "xygrid = sample_grid(M =20, x_max=2)\n",
    "\n",
    "# Map grid coordinates to colors\n",
    "colors = list(map(colorizer, xygrid[:,0], xygrid[:,1]))"
   ]
  },
  {
   "cell_type": "code",
   "execution_count": null,
   "id": "77a22281-565d-4094-a490-cb59eae679b8",
   "metadata": {},
   "outputs": [],
   "source": []
  },
  {
   "cell_type": "code",
   "execution_count": null,
   "id": "87135544-fa5b-4cb3-9452-d9b58416a94c",
   "metadata": {},
   "outputs": [],
   "source": []
  },
  {
   "cell_type": "code",
   "execution_count": null,
   "id": "80cc07ab-9aa6-4d6d-85df-e6c0e09d8231",
   "metadata": {},
   "outputs": [],
   "source": []
  },
  {
   "cell_type": "code",
   "execution_count": null,
   "id": "a6d08357-27df-4681-a4f9-9db5517becaf",
   "metadata": {},
   "outputs": [],
   "source": []
  },
  {
   "cell_type": "code",
   "execution_count": null,
   "id": "d391a02a-1402-4c9d-b018-5a358a42829c",
   "metadata": {},
   "outputs": [],
   "source": []
  },
  {
   "cell_type": "code",
   "execution_count": null,
   "id": "19ef0a13-3608-48df-ac97-610fddd409a9",
   "metadata": {},
   "outputs": [],
   "source": []
  },
  {
   "cell_type": "code",
   "execution_count": null,
   "id": "8a70fc25-258c-4eaf-8fff-4e30511e8cab",
   "metadata": {},
   "outputs": [],
   "source": []
  },
  {
   "cell_type": "code",
   "execution_count": null,
   "id": "faa99214-2552-49db-b7f2-d24019b7ac1b",
   "metadata": {},
   "outputs": [],
   "source": []
  },
  {
   "cell_type": "code",
   "execution_count": null,
   "id": "8684dafd-5b37-4cbc-9f55-d59dd58d41d8",
   "metadata": {},
   "outputs": [],
   "source": []
  }
 ],
 "metadata": {
  "kernelspec": {
   "display_name": "Python (MTSP)",
   "language": "python",
   "name": "mtsp"
  },
  "language_info": {
   "codemirror_mode": {
    "name": "ipython",
    "version": 3
   },
   "file_extension": ".py",
   "mimetype": "text/x-python",
   "name": "python",
   "nbconvert_exporter": "python",
   "pygments_lexer": "ipython3",
   "version": "3.10.18"
  }
 },
 "nbformat": 4,
 "nbformat_minor": 5
}
