{
 "cells": [
  {
   "cell_type": "markdown",
   "id": "a0e6a86e-3562-4cf9-b619-162982c73fa4",
   "metadata": {},
   "source": [
    "# Gradient Descend\n",
    "\n",
    "### Loading Libraries"
   ]
  },
  {
   "cell_type": "code",
   "execution_count": 1,
   "id": "a3a476ab-efd9-4afb-84bb-9548b39682d7",
   "metadata": {},
   "outputs": [
    {
     "name": "stdout",
     "output_type": "stream",
     "text": [
      "/Users/joaquinromero/Desktop\n"
     ]
    }
   ],
   "source": [
    "%cd ../.."
   ]
  },
  {
   "cell_type": "code",
   "execution_count": 19,
   "id": "24b26390-0bb9-4f95-8ad7-175c5b182fff",
   "metadata": {},
   "outputs": [],
   "source": [
    "# Numerical Computing\n",
    "import numpy as np\n",
    "\n",
    "# OS\n",
    "import os\n",
    "\n",
    "# Data Visualization\n",
    "from PIL import Image\n",
    "import plotly.express as px\n",
    "import plotly.graph_objects as go\n",
    "\n",
    "# Copy\n",
    "from copy import deepcopy"
   ]
  },
  {
   "cell_type": "code",
   "execution_count": 3,
   "id": "a25acf07-6801-4020-a8f8-7f4687af1eea",
   "metadata": {},
   "outputs": [],
   "source": [
    "np.random.seed(42)"
   ]
  },
  {
   "cell_type": "code",
   "execution_count": 4,
   "id": "b82933ed-e691-421f-a40f-611af1ba61e2",
   "metadata": {},
   "outputs": [],
   "source": [
    "os.makedirs(\"imgs/chapter_11\", exist_ok=True)"
   ]
  },
  {
   "cell_type": "code",
   "execution_count": 5,
   "id": "c365a726-b982-4a59-9c92-094ec768e47d",
   "metadata": {},
   "outputs": [],
   "source": [
    "mesh_size = 1\n",
    "\n",
    "font_size=14"
   ]
  },
  {
   "cell_type": "markdown",
   "id": "98cd9e6b-35a3-45a4-a93d-c58857d525d6",
   "metadata": {},
   "source": [
    "### Loss Function"
   ]
  },
  {
   "cell_type": "code",
   "execution_count": 6,
   "id": "1196e845-8a78-444b-a335-08577ed199c2",
   "metadata": {},
   "outputs": [],
   "source": [
    "def loss_function(a,b):\n",
    "    return (a-8)**2 + (b-2)**2"
   ]
  },
  {
   "cell_type": "markdown",
   "id": "bf2225b9-9866-4d90-9aa2-4f36aa0b6a2b",
   "metadata": {},
   "source": [
    "### Plotting Function"
   ]
  },
  {
   "cell_type": "code",
   "execution_count": 8,
   "id": "be1ac827-a4ea-4295-8681-0c7e0b3d3185",
   "metadata": {},
   "outputs": [],
   "source": [
    "# # Create a mesh grid on which we will run our model\n",
    "# a_min, a_max = -30, 30\n",
    "# b_min, b_max = -30, 30\n",
    "# arange = np.arange(a_min, a_max, mesh_size)\n",
    "# brange = np.arange(b_min, b_max, mesh_size)\n",
    "# aa, bb = np.meshgrid(arange, brange)\n",
    "# loss = loss_function(aa, bb)\n",
    "\n",
    "# fig = go.Figure(\n",
    "#     data=[go.Surface(x=arange, y=brange, z=loss, name=\"Loss\", colorscale=\"dense\")]\n",
    "# )\n",
    "# camera = dict(\n",
    "#     up=dict(x=0, y=0, z=1),\n",
    "#     center=dict(x=0, y=0, z=0),\n",
    "#     eye=dict(x=-1.2, y=1.5, z=1.8)\n",
    "# )\n",
    "# fig.update_layout(\n",
    "#     autosize=False,\n",
    "#     width=900,\n",
    "#     height=900,\n",
    "#     title_text=r\"$\\LARGE{\\text{Loss Surface for }\\mathcal{L}(a,b) = (a-8)^2 + (b-2)^2}$\",\n",
    "#     titlefont={\"size\": 20},\n",
    "#     title_x=0.5,\n",
    "#     scene_camera=camera,\n",
    "#     scene=dict(\n",
    "#         xaxis_title=\"a\",\n",
    "#         yaxis_title=\"b\",\n",
    "#         zaxis_title=\"Loss\",\n",
    "#         yaxis=dict(\n",
    "#             titlefont=dict(size=font_size+5),\n",
    "#             tickfont=dict(size=font_size-2),\n",
    "#         ),\n",
    "#         xaxis=dict(\n",
    "#             titlefont=dict(size=font_size+5),\n",
    "#             tickfont=dict(size=font_size-2),\n",
    "#         ),\n",
    "#         zaxis=dict(\n",
    "#             titlefont=dict(size=font_size+5),\n",
    "#             tickfont=dict(size=font_size-2),\n",
    "#         ),\n",
    "#     ),\n",
    "# )\n",
    "# fig.write_image(\"imgs/chapter_11/loss_surface.png\")\n",
    "# fig.show()"
   ]
  },
  {
   "cell_type": "code",
   "execution_count": 12,
   "id": "2422ae28-4432-4c9a-be10-6829a74da7ce",
   "metadata": {},
   "outputs": [
    {
     "data": {
      "application/vnd.plotly.v1+json": {
       "config": {
        "plotlyServerURL": "https://plot.ly"
       },
       "data": [
        {
         "colorscale": [
          [
           0,
           "rgb(230, 240, 240)"
          ],
          [
           0.09090909090909091,
           "rgb(191, 221, 229)"
          ],
          [
           0.18181818181818182,
           "rgb(156, 201, 226)"
          ],
          [
           0.2727272727272727,
           "rgb(129, 180, 227)"
          ],
          [
           0.36363636363636365,
           "rgb(115, 154, 228)"
          ],
          [
           0.45454545454545453,
           "rgb(117, 127, 221)"
          ],
          [
           0.5454545454545454,
           "rgb(120, 100, 202)"
          ],
          [
           0.6363636363636364,
           "rgb(119, 74, 175)"
          ],
          [
           0.7272727272727273,
           "rgb(113, 50, 141)"
          ],
          [
           0.8181818181818182,
           "rgb(100, 31, 104)"
          ],
          [
           0.9090909090909091,
           "rgb(80, 20, 66)"
          ],
          [
           1,
           "rgb(54, 14, 36)"
          ]
         ],
         "name": "Loss",
         "type": "surface",
         "x": {
          "bdata": "4uPk5ebn6Onq6+zt7u/w8fLz9PX29/j5+vv8/f7/AAECAwQFBgcICQoLDA0ODxAREhMUFRYXGBkaGxwd",
          "dtype": "i1"
         },
         "y": {
          "bdata": "4uPk5ebn6Onq6+zt7u/w8fLz9PX29/j5+vv8/f7/AAECAwQFBgcICQoLDA0ODxAREhMUFRYXGBkaGxwd",
          "dtype": "i1"
         },
         "z": {
          "bdata": "pAlZCRAJyQiECEEIAAjBB4QHSQcQB9kGpAZxBkAGEQbkBbkFkAVpBUQFIQUABeEExASpBJAEeQRkBFEEQAQxBCQEGQQQBAkEBAQBBAAEAQQEBAkEEAQZBCQEMQRABFEEZAR5BJAEqQTEBOEEAAUhBUQFaQWQBbkFZQkaCdEIighFCAIIwQeCB0UHCgfRBpoGZQYyBgEG0gWlBXoFUQUqBQUF4gTBBKIEhQRqBFEEOgQlBBIEAQTyA+UD2gPRA8oDxQPCA8EDwgPFA8oD0QPaA+UD8gMBBBIEJQQ6BFEEagSFBKIEwQTiBAUFKgVRBXoFKAndCJQITQgICMUHhAdFBwgHzQaUBl0GKAb1BcQFlQVoBT0FFAXtBMgEpQSEBGUESAQtBBQE/QPoA9UDxAO1A6gDnQOUA40DiAOFA4QDhQOIA40DlAOdA6gDtQPEA9UD6AP9AxQELQRIBGUEhASlBMgE7QQUBT0F7QiiCFkIEgjNB4oHSQcKB80GkgZZBiIG7QW6BYkFWgUtBQIF2QSyBI0EagRJBCoEDQTyA9kDwgOtA5oDiQN6A20DYgNZA1IDTQNKA0kDSgNNA1IDWQNiA20DegOJA5oDrQPCA9kD8gMNBCoESQRqBI0EsgTZBAIFtAhpCCAI2QeUB1EHEAfRBpQGWQYgBukFtAWBBVAFIQX0BMkEoAR5BFQEMQQQBPED1AO5A6ADiQN0A2EDUANBAzQDKQMgAxkDFAMRAxADEQMUAxkDIAMpAzQDQQNQA2EDdAOJA6ADuQPUA/EDEAQxBFQEeQSgBMkEfQgyCOkHogddBxoH2QaaBl0GIgbpBbIFfQVKBRkF6gS9BJIEaQRCBB0E+gPZA7oDnQOCA2kDUgM9AyoDGQMKA/0C8gLpAuIC3QLaAtkC2gLdAuIC6QLyAv0CCgMZAyoDPQNSA2kDggOdA7oD2QP6Ax0EQgRpBJIESAj9B7QHbQcoB+UGpAZlBigG7QW0BX0FSAUVBeQEtQSIBF0ENAQNBOgDxQOkA4UDaANNAzQDHQMIA/UC5ALVAsgCvQK0Aq0CqAKlAqQCpQKoAq0CtAK9AsgC1QLkAvUCCAMdAzQDTQNoA4UDpAPFA+gDDQQ0BF0EFQjKB4EHOgf1BrIGcQYyBvUFugWBBUoFFQXiBLEEggRVBCoEAQTaA7UDkgNxA1IDNQMaAwED6gLVAsICsQKiApUCigKBAnoCdQJyAnECcgJ1AnoCgQKKApUCogKxAsIC1QLqAgEDGgM1A1IDcQOSA7UD2gMBBCoE5AeZB1AHCQfEBoEGQAYBBsQFiQVQBRkF5ASxBIAEUQQkBPkD0AOpA4QDYQNAAyEDBAPpAtACuQKkApECgAJxAmQCWQJQAkkCRAJBAkACQQJEAkkCUAJZAmQCcQKAApECpAK5AtAC6QIEAyEDQANhA4QDqQPQA/kDtQdqByEH2gaVBlIGEQbSBZUFWgUhBeoEtQSCBFEEIgT1A8oDoQN6A1UDMgMRA/IC1QK6AqECigJ1AmICUQJCAjUCKgIhAhoCFQISAhECEgIVAhoCIQIqAjUCQgJRAmICdQKKAqECugLVAvICEQMyA1UDegOhA8oDiAc9B/QGrQZoBiUG5AWlBWgFLQX0BL0EiARVBCQE9QPIA50DdANNAygDBQPkAsUCqAKNAnQCXQJIAjUCJAIVAggC/QH0Ae0B6AHlAeQB5QHoAe0B9AH9AQgCFQIkAjUCSAJdAnQCjQKoAsUC5AIFAygDTQN0A50DXQcSB8kGggY9BvoFuQV6BT0FAgXJBJIEXQQqBPkDygOdA3IDSQMiA/0C2gK5ApoCfQJiAkkCMgIdAgoC+QHqAd0B0gHJAcIBvQG6AbkBugG9AcIByQHSAd0B6gH5AQoCHQIyAkkCYgJ9ApoCuQLaAv0CIgNJA3IDNAfpBqAGWQYUBtEFkAVRBRQF2QSgBGkENAQBBNADoQN0A0kDIAP5AtQCsQKQAnECVAI5AiACCQL0AeEB0AHBAbQBqQGgAZkBlAGRAZABkQGUAZkBoAGpAbQBwQHQAeEB9AEJAiACOQJUAnECkAKxAtQC+QIgA0kDDQfCBnkGMgbtBaoFaQUqBe0EsgR5BEIEDQTaA6kDegNNAyID+QLSAq0CigJpAkoCLQISAvkB4gHNAboBqQGaAY0BggF5AXIBbQFqAWkBagFtAXIBeQGCAY0BmgGpAboBzQHiAfkBEgItAkoCaQKKAq0C0gL5AiID6AadBlQGDQbIBYUFRAUFBcgEjQRUBB0E6AO1A4QDVQMoA/0C1AKtAogCZQJEAiUCCALtAdQBvQGoAZUBhAF1AWgBXQFUAU0BSAFFAUQBRQFIAU0BVAFdAWgBdQGEAZUBqAG9AdQB7QEIAiUCRAJlAogCrQLUAv0CxQZ6BjEG6gWlBWIFIQXiBKUEagQxBPoDxQOSA2EDMgMFA9oCsQKKAmUCQgIhAgIC5QHKAbEBmgGFAXIBYQFSAUUBOgExASoBJQEiASEBIgElASoBMQE6AUUBUgFhAXIBhQGaAbEBygHlAQICIQJCAmUCigKxAtoCpAZZBhAGyQWEBUEFAAXBBIQESQQQBNkDpANxA0ADEQPkArkCkAJpAkQCIQIAAuEBxAGpAZABeQFkAVEBQAExASQBGQEQAQkBBAEBAQABAQEEAQkBEAEZASQBMQFAAVEBZAF5AZABqQHEAeEBAAIhAkQCaQKQArkChQY6BvEFqgVlBSIF4QSiBGUEKgTxA7oDhQNSAyED8gLFApoCcQJKAiUCAgLhAcIBpQGKAXEBWgFFATIBIQESAQUB+gDxAOoA5QDiAOEA4gDlAOoA8QD6AAUBEgEhATIBRQFaAXEBigGlAcIB4QECAiUCSgJxApoCaAYdBtQFjQVIBQUFxASFBEgEDQTUA50DaAM1AwQD1QKoAn0CVAItAggC5QHEAaUBiAFtAVQBPQEoARUBBAH1AOgA3QDUAM0AyADFAMQAxQDIAM0A1ADdAOgA9QAEARUBKAE9AVQBbQGIAaUBxAHlAQgCLQJUAn0CTQYCBrkFcgUtBeoEqQRqBC0E8gO5A4IDTQMaA+kCugKNAmICOQISAu0BygGpAYoBbQFSATkBIgENAfoA6QDaAM0AwgC5ALIArQCqAKkAqgCtALIAuQDCAM0A2gDpAPoADQEiATkBUgFtAYoBqQHKAe0BEgI5AmICNAbpBaAFWQUUBdEEkARRBBQE2QOgA2kDNAMBA9ACoQJ0AkkCIAL5AdQBsQGQAXEBVAE5ASABCQH0AOEA0ADBALQAqQCgAJkAlACRAJAAkQCUAJkAoACpALQAwQDQAOEA9AAJASABOQFUAXEBkAGxAdQB+QEgAkkCHQbSBYkFQgX9BLoEeQQ6BP0DwgOJA1IDHQPqArkCigJdAjICCQLiAb0BmgF5AVoBPQEiAQkB8gDdAMoAuQCqAJ0AkgCJAIIAfQB6AHkAegB9AIIAiQCSAJ0AqgC5AMoA3QDyAAkBIgE9AVoBeQGaAb0B4gEJAjICCAa9BXQFLQXoBKUEZAQlBOgDrQN0Az0DCAPVAqQCdQJIAh0C9AHNAagBhQFkAUUBKAENAfQA3QDIALUApACVAIgAfQB0AG0AaABlAGQAZQBoAG0AdAB9AIgAlQCkALUAyADdAPQADQEoAUUBZAGFAagBzQH0AR0C9QWqBWEFGgXVBJIEUQQSBNUDmgNhAyoD9QLCApECYgI1AgoC4QG6AZUBcgFRATIBFQH6AOEAygC1AKIAkQCCAHUAagBhAFoAVQBSAFEAUgBVAFoAYQBqAHUAggCRAKIAtQDKAOEA+gAVATIBUQFyAZUBugHhAQoC5AWZBVAFCQXEBIEEQAQBBMQDiQNQAxkD5AKxAoACUQIkAvkB0AGpAYQBYQFAASEBBAHpANAAuQCkAJEAgABxAGQAWQBQAEkARABBAEAAQQBEAEkAUABZAGQAcQCAAJEApAC5ANAA6QAEASEBQAFhAYQBqQHQAfkB1QWKBUEF+gS1BHIEMQTyA7UDegNBAwoD1QKiAnECQgIVAuoBwQGaAXUBUgExARIB9QDaAMEAqgCVAIIAcQBiAFUASgBBADoANQAyADEAMgA1ADoAQQBKAFUAYgBxAIIAlQCqAMEA2gD1ABIBMQFSAXUBmgHBAeoByAV9BTQF7QSoBGUEJATlA6gDbQM0A/0CyAKVAmQCNQIIAt0BtAGNAWgBRQEkAQUB6ADNALQAnQCIAHUAZABVAEgAPQA0AC0AKAAlACQAJQAoAC0ANAA9AEgAVQBkAHUAiACdALQAzQDoAAUBJAFFAWgBjQG0Ad0BvQVyBSkF4gSdBFoEGQTaA50DYgMpA/ICvQKKAlkCKgL9AdIBqQGCAV0BOgEZAfoA3QDCAKkAkgB9AGoAWQBKAD0AMgApACIAHQAaABkAGgAdACIAKQAyAD0ASgBZAGoAfQCSAKkAwgDdAPoAGQE6AV0BggGpAdIBtAVpBSAF2QSUBFEEEATRA5QDWQMgA+kCtAKBAlACIQL0AckBoAF5AVQBMQEQAfEA1AC5AKAAiQB0AGEAUABBADQAKQAgABkAFAARABAAEQAUABkAIAApADQAQQBQAGEAdACJAKAAuQDUAPEAEAExAVQBeQGgAckBrQViBRkF0gSNBEoECQTKA40DUgMZA+ICrQJ6AkkCGgLtAcIBmQFyAU0BKgEJAeoAzQCyAJkAggBtAFoASQA6AC0AIgAZABIADQAKAAkACgANABIAGQAiAC0AOgBJAFoAbQCCAJkAsgDNAOoACQEqAU0BcgGZAcIBqAVdBRQFzQSIBEUEBATFA4gDTQMUA90CqAJ1AkQCFQLoAb0BlAFtAUgBJQEEAeUAyACtAJQAfQBoAFUARAA1ACgAHQAUAA0ACAAFAAQABQAIAA0AFAAdACgANQBEAFUAaAB9AJQArQDIAOUABAElAUgBbQGUAb0BpQVaBREFygSFBEIEAQTCA4UDSgMRA9oCpQJyAkECEgLlAboBkQFqAUUBIgEBAeIAxQCqAJEAegBlAFIAQQAyACUAGgARAAoABQACAAEAAgAFAAoAEQAaACUAMgBBAFIAZQB6AJEAqgDFAOIAAQEiAUUBagGRAboBpAVZBRAFyQSEBEEEAATBA4QDSQMQA9kCpAJxAkACEQLkAbkBkAFpAUQBIQEAAeEAxACpAJAAeQBkAFEAQAAxACQAGQAQAAkABAABAAAAAQAEAAkAEAAZACQAMQBAAFEAZAB5AJAAqQDEAOEAAAEhAUQBaQGQAbkBpQVaBREFygSFBEIEAQTCA4UDSgMRA9oCpQJyAkECEgLlAboBkQFqAUUBIgEBAeIAxQCqAJEAegBlAFIAQQAyACUAGgARAAoABQACAAEAAgAFAAoAEQAaACUAMgBBAFIAZQB6AJEAqgDFAOIAAQEiAUUBagGRAboBqAVdBRQFzQSIBEUEBATFA4gDTQMUA90CqAJ1AkQCFQLoAb0BlAFtAUgBJQEEAeUAyACtAJQAfQBoAFUARAA1ACgAHQAUAA0ACAAFAAQABQAIAA0AFAAdACgANQBEAFUAaAB9AJQArQDIAOUABAElAUgBbQGUAb0BrQViBRkF0gSNBEoECQTKA40DUgMZA+ICrQJ6AkkCGgLtAcIBmQFyAU0BKgEJAeoAzQCyAJkAggBtAFoASQA6AC0AIgAZABIADQAKAAkACgANABIAGQAiAC0AOgBJAFoAbQCCAJkAsgDNAOoACQEqAU0BcgGZAcIBtAVpBSAF2QSUBFEEEATRA5QDWQMgA+kCtAKBAlACIQL0AckBoAF5AVQBMQEQAfEA1AC5AKAAiQB0AGEAUABBADQAKQAgABkAFAARABAAEQAUABkAIAApADQAQQBQAGEAdACJAKAAuQDUAPEAEAExAVQBeQGgAckBvQVyBSkF4gSdBFoEGQTaA50DYgMpA/ICvQKKAlkCKgL9AdIBqQGCAV0BOgEZAfoA3QDCAKkAkgB9AGoAWQBKAD0AMgApACIAHQAaABkAGgAdACIAKQAyAD0ASgBZAGoAfQCSAKkAwgDdAPoAGQE6AV0BggGpAdIByAV9BTQF7QSoBGUEJATlA6gDbQM0A/0CyAKVAmQCNQIIAt0BtAGNAWgBRQEkAQUB6ADNALQAnQCIAHUAZABVAEgAPQA0AC0AKAAlACQAJQAoAC0ANAA9AEgAVQBkAHUAiACdALQAzQDoAAUBJAFFAWgBjQG0Ad0B1QWKBUEF+gS1BHIEMQTyA7UDegNBAwoD1QKiAnECQgIVAuoBwQGaAXUBUgExARIB9QDaAMEAqgCVAIIAcQBiAFUASgBBADoANQAyADEAMgA1ADoAQQBKAFUAYgBxAIIAlQCqAMEA2gD1ABIBMQFSAXUBmgHBAeoB5AWZBVAFCQXEBIEEQAQBBMQDiQNQAxkD5AKxAoACUQIkAvkB0AGpAYQBYQFAASEBBAHpANAAuQCkAJEAgABxAGQAWQBQAEkARABBAEAAQQBEAEkAUABZAGQAcQCAAJEApAC5ANAA6QAEASEBQAFhAYQBqQHQAfkB9QWqBWEFGgXVBJIEUQQSBNUDmgNhAyoD9QLCApECYgI1AgoC4QG6AZUBcgFRATIBFQH6AOEAygC1AKIAkQCCAHUAagBhAFoAVQBSAFEAUgBVAFoAYQBqAHUAggCRAKIAtQDKAOEA+gAVATIBUQFyAZUBugHhAQoCCAa9BXQFLQXoBKUEZAQlBOgDrQN0Az0DCAPVAqQCdQJIAh0C9AHNAagBhQFkAUUBKAENAfQA3QDIALUApACVAIgAfQB0AG0AaABlAGQAZQBoAG0AdAB9AIgAlQCkALUAyADdAPQADQEoAUUBZAGFAagBzQH0AR0CHQbSBYkFQgX9BLoEeQQ6BP0DwgOJA1IDHQPqArkCigJdAjICCQLiAb0BmgF5AVoBPQEiAQkB8gDdAMoAuQCqAJ0AkgCJAIIAfQB6AHkAegB9AIIAiQCSAJ0AqgC5AMoA3QDyAAkBIgE9AVoBeQGaAb0B4gEJAjICNAbpBaAFWQUUBdEEkARRBBQE2QOgA2kDNAMBA9ACoQJ0AkkCIAL5AdQBsQGQAXEBVAE5ASABCQH0AOEA0ADBALQAqQCgAJkAlACRAJAAkQCUAJkAoACpALQAwQDQAOEA9AAJASABOQFUAXEBkAGxAdQB+QEgAkkCTQYCBrkFcgUtBeoEqQRqBC0E8gO5A4IDTQMaA+kCugKNAmICOQISAu0BygGpAYoBbQFSATkBIgENAfoA6QDaAM0AwgC5ALIArQCqAKkAqgCtALIAuQDCAM0A2gDpAPoADQEiATkBUgFtAYoBqQHKAe0BEgI5AmICaAYdBtQFjQVIBQUFxASFBEgEDQTUA50DaAM1AwQD1QKoAn0CVAItAggC5QHEAaUBiAFtAVQBPQEoARUBBAH1AOgA3QDUAM0AyADFAMQAxQDIAM0A1ADdAOgA9QAEARUBKAE9AVQBbQGIAaUBxAHlAQgCLQJUAn0ChQY6BvEFqgVlBSIF4QSiBGUEKgTxA7oDhQNSAyED8gLFApoCcQJKAiUCAgLhAcIBpQGKAXEBWgFFATIBIQESAQUB+gDxAOoA5QDiAOEA4gDlAOoA8QD6AAUBEgEhATIBRQFaAXEBigGlAcIB4QECAiUCSgJxApoCpAZZBhAGyQWEBUEFAAXBBIQESQQQBNkDpANxA0ADEQPkArkCkAJpAkQCIQIAAuEBxAGpAZABeQFkAVEBQAExASQBGQEQAQkBBAEBAQABAQEEAQkBEAEZASQBMQFAAVEBZAF5AZABqQHEAeEBAAIhAkQCaQKQArkCxQZ6BjEG6gWlBWIFIQXiBKUEagQxBPoDxQOSA2EDMgMFA9oCsQKKAmUCQgIhAgIC5QHKAbEBmgGFAXIBYQFSAUUBOgExASoBJQEiASEBIgElASoBMQE6AUUBUgFhAXIBhQGaAbEBygHlAQICIQJCAmUCigKxAtoC6AadBlQGDQbIBYUFRAUFBcgEjQRUBB0E6AO1A4QDVQMoA/0C1AKtAogCZQJEAiUCCALtAdQBvQGoAZUBhAF1AWgBXQFUAU0BSAFFAUQBRQFIAU0BVAFdAWgBdQGEAZUBqAG9AdQB7QEIAiUCRAJlAogCrQLUAv0CDQfCBnkGMgbtBaoFaQUqBe0EsgR5BEIEDQTaA6kDegNNAyID+QLSAq0CigJpAkoCLQISAvkB4gHNAboBqQGaAY0BggF5AXIBbQFqAWkBagFtAXIBeQGCAY0BmgGpAboBzQHiAfkBEgItAkoCaQKKAq0C0gL5AiIDNAfpBqAGWQYUBtEFkAVRBRQF2QSgBGkENAQBBNADoQN0A0kDIAP5AtQCsQKQAnECVAI5AiACCQL0AeEB0AHBAbQBqQGgAZkBlAGRAZABkQGUAZkBoAGpAbQBwQHQAeEB9AEJAiACOQJUAnECkAKxAtQC+QIgA0kDXQcSB8kGggY9BvoFuQV6BT0FAgXJBJIEXQQqBPkDygOdA3IDSQMiA/0C2gK5ApoCfQJiAkkCMgIdAgoC+QHqAd0B0gHJAcIBvQG6AbkBugG9AcIByQHSAd0B6gH5AQoCHQIyAkkCYgJ9ApoCuQLaAv0CIgNJA3IDiAc9B/QGrQZoBiUG5AWlBWgFLQX0BL0EiARVBCQE9QPIA50DdANNAygDBQPkAsUCqAKNAnQCXQJIAjUCJAIVAggC/QH0Ae0B6AHlAeQB5QHoAe0B9AH9AQgCFQIkAjUCSAJdAnQCjQKoAsUC5AIFAygDTQN0A50DtQdqByEH2gaVBlIGEQbSBZUFWgUhBeoEtQSCBFEEIgT1A8oDoQN6A1UDMgMRA/IC1QK6AqECigJ1AmICUQJCAjUCKgIhAhoCFQISAhECEgIVAhoCIQIqAjUCQgJRAmICdQKKAqECugLVAvICEQMyA1UDegOhA8oD5AeZB1AHCQfEBoEGQAYBBsQFiQVQBRkF5ASxBIAEUQQkBPkD0AOpA4QDYQNAAyEDBAPpAtACuQKkApECgAJxAmQCWQJQAkkCRAJBAkACQQJEAkkCUAJZAmQCcQKAApECpAK5AtAC6QIEAyEDQANhA4QDqQPQA/kDFQjKB4EHOgf1BrIGcQYyBvUFugWBBUoFFQXiBLEEggRVBCoEAQTaA7UDkgNxA1IDNQMaAwED6gLVAsICsQKiApUCigKBAnoCdQJyAnECcgJ1AnoCgQKKApUCogKxAsIC1QLqAgEDGgM1A1IDcQOSA7UD2gMBBCoESAj9B7QHbQcoB+UGpAZlBigG7QW0BX0FSAUVBeQEtQSIBF0ENAQNBOgDxQOkA4UDaANNAzQDHQMIA/UC5ALVAsgCvQK0Aq0CqAKlAqQCpQKoAq0CtAK9AsgC1QLkAvUCCAMdAzQDTQNoA4UDpAPFA+gDDQQ0BF0EfQgyCOkHogddBxoH2QaaBl0GIgbpBbIFfQVKBRkF6gS9BJIEaQRCBB0E+gPZA7oDnQOCA2kDUgM9AyoDGQMKA/0C8gLpAuIC3QLaAtkC2gLdAuIC6QLyAv0CCgMZAyoDPQNSA2kDggOdA7oD2QP6Ax0EQgRpBJIE",
          "dtype": "i2",
          "shape": "60, 60"
         }
        }
       ],
       "layout": {
        "autosize": false,
        "height": 900,
        "scene": {
         "camera": {
          "center": {
           "x": 0,
           "y": 0,
           "z": 0
          },
          "eye": {
           "x": -1.2,
           "y": 1.5,
           "z": 1.8
          },
          "up": {
           "x": 0,
           "y": 0,
           "z": 1
          }
         },
         "xaxis": {
          "tickfont": {
           "size": 12
          },
          "title": {
           "font": {
            "size": 19
           },
           "text": "a"
          }
         },
         "yaxis": {
          "tickfont": {
           "size": 12
          },
          "title": {
           "font": {
            "size": 19
           },
           "text": "b"
          }
         },
         "zaxis": {
          "tickfont": {
           "size": 12
          },
          "title": {
           "font": {
            "size": 19
           },
           "text": "Loss"
          }
         }
        },
        "template": {
         "data": {
          "bar": [
           {
            "error_x": {
             "color": "#2a3f5f"
            },
            "error_y": {
             "color": "#2a3f5f"
            },
            "marker": {
             "line": {
              "color": "#E5ECF6",
              "width": 0.5
             },
             "pattern": {
              "fillmode": "overlay",
              "size": 10,
              "solidity": 0.2
             }
            },
            "type": "bar"
           }
          ],
          "barpolar": [
           {
            "marker": {
             "line": {
              "color": "#E5ECF6",
              "width": 0.5
             },
             "pattern": {
              "fillmode": "overlay",
              "size": 10,
              "solidity": 0.2
             }
            },
            "type": "barpolar"
           }
          ],
          "carpet": [
           {
            "aaxis": {
             "endlinecolor": "#2a3f5f",
             "gridcolor": "white",
             "linecolor": "white",
             "minorgridcolor": "white",
             "startlinecolor": "#2a3f5f"
            },
            "baxis": {
             "endlinecolor": "#2a3f5f",
             "gridcolor": "white",
             "linecolor": "white",
             "minorgridcolor": "white",
             "startlinecolor": "#2a3f5f"
            },
            "type": "carpet"
           }
          ],
          "choropleth": [
           {
            "colorbar": {
             "outlinewidth": 0,
             "ticks": ""
            },
            "type": "choropleth"
           }
          ],
          "contour": [
           {
            "colorbar": {
             "outlinewidth": 0,
             "ticks": ""
            },
            "colorscale": [
             [
              0,
              "#0d0887"
             ],
             [
              0.1111111111111111,
              "#46039f"
             ],
             [
              0.2222222222222222,
              "#7201a8"
             ],
             [
              0.3333333333333333,
              "#9c179e"
             ],
             [
              0.4444444444444444,
              "#bd3786"
             ],
             [
              0.5555555555555556,
              "#d8576b"
             ],
             [
              0.6666666666666666,
              "#ed7953"
             ],
             [
              0.7777777777777778,
              "#fb9f3a"
             ],
             [
              0.8888888888888888,
              "#fdca26"
             ],
             [
              1,
              "#f0f921"
             ]
            ],
            "type": "contour"
           }
          ],
          "contourcarpet": [
           {
            "colorbar": {
             "outlinewidth": 0,
             "ticks": ""
            },
            "type": "contourcarpet"
           }
          ],
          "heatmap": [
           {
            "colorbar": {
             "outlinewidth": 0,
             "ticks": ""
            },
            "colorscale": [
             [
              0,
              "#0d0887"
             ],
             [
              0.1111111111111111,
              "#46039f"
             ],
             [
              0.2222222222222222,
              "#7201a8"
             ],
             [
              0.3333333333333333,
              "#9c179e"
             ],
             [
              0.4444444444444444,
              "#bd3786"
             ],
             [
              0.5555555555555556,
              "#d8576b"
             ],
             [
              0.6666666666666666,
              "#ed7953"
             ],
             [
              0.7777777777777778,
              "#fb9f3a"
             ],
             [
              0.8888888888888888,
              "#fdca26"
             ],
             [
              1,
              "#f0f921"
             ]
            ],
            "type": "heatmap"
           }
          ],
          "histogram": [
           {
            "marker": {
             "pattern": {
              "fillmode": "overlay",
              "size": 10,
              "solidity": 0.2
             }
            },
            "type": "histogram"
           }
          ],
          "histogram2d": [
           {
            "colorbar": {
             "outlinewidth": 0,
             "ticks": ""
            },
            "colorscale": [
             [
              0,
              "#0d0887"
             ],
             [
              0.1111111111111111,
              "#46039f"
             ],
             [
              0.2222222222222222,
              "#7201a8"
             ],
             [
              0.3333333333333333,
              "#9c179e"
             ],
             [
              0.4444444444444444,
              "#bd3786"
             ],
             [
              0.5555555555555556,
              "#d8576b"
             ],
             [
              0.6666666666666666,
              "#ed7953"
             ],
             [
              0.7777777777777778,
              "#fb9f3a"
             ],
             [
              0.8888888888888888,
              "#fdca26"
             ],
             [
              1,
              "#f0f921"
             ]
            ],
            "type": "histogram2d"
           }
          ],
          "histogram2dcontour": [
           {
            "colorbar": {
             "outlinewidth": 0,
             "ticks": ""
            },
            "colorscale": [
             [
              0,
              "#0d0887"
             ],
             [
              0.1111111111111111,
              "#46039f"
             ],
             [
              0.2222222222222222,
              "#7201a8"
             ],
             [
              0.3333333333333333,
              "#9c179e"
             ],
             [
              0.4444444444444444,
              "#bd3786"
             ],
             [
              0.5555555555555556,
              "#d8576b"
             ],
             [
              0.6666666666666666,
              "#ed7953"
             ],
             [
              0.7777777777777778,
              "#fb9f3a"
             ],
             [
              0.8888888888888888,
              "#fdca26"
             ],
             [
              1,
              "#f0f921"
             ]
            ],
            "type": "histogram2dcontour"
           }
          ],
          "mesh3d": [
           {
            "colorbar": {
             "outlinewidth": 0,
             "ticks": ""
            },
            "type": "mesh3d"
           }
          ],
          "parcoords": [
           {
            "line": {
             "colorbar": {
              "outlinewidth": 0,
              "ticks": ""
             }
            },
            "type": "parcoords"
           }
          ],
          "pie": [
           {
            "automargin": true,
            "type": "pie"
           }
          ],
          "scatter": [
           {
            "fillpattern": {
             "fillmode": "overlay",
             "size": 10,
             "solidity": 0.2
            },
            "type": "scatter"
           }
          ],
          "scatter3d": [
           {
            "line": {
             "colorbar": {
              "outlinewidth": 0,
              "ticks": ""
             }
            },
            "marker": {
             "colorbar": {
              "outlinewidth": 0,
              "ticks": ""
             }
            },
            "type": "scatter3d"
           }
          ],
          "scattercarpet": [
           {
            "marker": {
             "colorbar": {
              "outlinewidth": 0,
              "ticks": ""
             }
            },
            "type": "scattercarpet"
           }
          ],
          "scattergeo": [
           {
            "marker": {
             "colorbar": {
              "outlinewidth": 0,
              "ticks": ""
             }
            },
            "type": "scattergeo"
           }
          ],
          "scattergl": [
           {
            "marker": {
             "colorbar": {
              "outlinewidth": 0,
              "ticks": ""
             }
            },
            "type": "scattergl"
           }
          ],
          "scattermap": [
           {
            "marker": {
             "colorbar": {
              "outlinewidth": 0,
              "ticks": ""
             }
            },
            "type": "scattermap"
           }
          ],
          "scattermapbox": [
           {
            "marker": {
             "colorbar": {
              "outlinewidth": 0,
              "ticks": ""
             }
            },
            "type": "scattermapbox"
           }
          ],
          "scatterpolar": [
           {
            "marker": {
             "colorbar": {
              "outlinewidth": 0,
              "ticks": ""
             }
            },
            "type": "scatterpolar"
           }
          ],
          "scatterpolargl": [
           {
            "marker": {
             "colorbar": {
              "outlinewidth": 0,
              "ticks": ""
             }
            },
            "type": "scatterpolargl"
           }
          ],
          "scatterternary": [
           {
            "marker": {
             "colorbar": {
              "outlinewidth": 0,
              "ticks": ""
             }
            },
            "type": "scatterternary"
           }
          ],
          "surface": [
           {
            "colorbar": {
             "outlinewidth": 0,
             "ticks": ""
            },
            "colorscale": [
             [
              0,
              "#0d0887"
             ],
             [
              0.1111111111111111,
              "#46039f"
             ],
             [
              0.2222222222222222,
              "#7201a8"
             ],
             [
              0.3333333333333333,
              "#9c179e"
             ],
             [
              0.4444444444444444,
              "#bd3786"
             ],
             [
              0.5555555555555556,
              "#d8576b"
             ],
             [
              0.6666666666666666,
              "#ed7953"
             ],
             [
              0.7777777777777778,
              "#fb9f3a"
             ],
             [
              0.8888888888888888,
              "#fdca26"
             ],
             [
              1,
              "#f0f921"
             ]
            ],
            "type": "surface"
           }
          ],
          "table": [
           {
            "cells": {
             "fill": {
              "color": "#EBF0F8"
             },
             "line": {
              "color": "white"
             }
            },
            "header": {
             "fill": {
              "color": "#C8D4E3"
             },
             "line": {
              "color": "white"
             }
            },
            "type": "table"
           }
          ]
         },
         "layout": {
          "annotationdefaults": {
           "arrowcolor": "#2a3f5f",
           "arrowhead": 0,
           "arrowwidth": 1
          },
          "autotypenumbers": "strict",
          "coloraxis": {
           "colorbar": {
            "outlinewidth": 0,
            "ticks": ""
           }
          },
          "colorscale": {
           "diverging": [
            [
             0,
             "#8e0152"
            ],
            [
             0.1,
             "#c51b7d"
            ],
            [
             0.2,
             "#de77ae"
            ],
            [
             0.3,
             "#f1b6da"
            ],
            [
             0.4,
             "#fde0ef"
            ],
            [
             0.5,
             "#f7f7f7"
            ],
            [
             0.6,
             "#e6f5d0"
            ],
            [
             0.7,
             "#b8e186"
            ],
            [
             0.8,
             "#7fbc41"
            ],
            [
             0.9,
             "#4d9221"
            ],
            [
             1,
             "#276419"
            ]
           ],
           "sequential": [
            [
             0,
             "#0d0887"
            ],
            [
             0.1111111111111111,
             "#46039f"
            ],
            [
             0.2222222222222222,
             "#7201a8"
            ],
            [
             0.3333333333333333,
             "#9c179e"
            ],
            [
             0.4444444444444444,
             "#bd3786"
            ],
            [
             0.5555555555555556,
             "#d8576b"
            ],
            [
             0.6666666666666666,
             "#ed7953"
            ],
            [
             0.7777777777777778,
             "#fb9f3a"
            ],
            [
             0.8888888888888888,
             "#fdca26"
            ],
            [
             1,
             "#f0f921"
            ]
           ],
           "sequentialminus": [
            [
             0,
             "#0d0887"
            ],
            [
             0.1111111111111111,
             "#46039f"
            ],
            [
             0.2222222222222222,
             "#7201a8"
            ],
            [
             0.3333333333333333,
             "#9c179e"
            ],
            [
             0.4444444444444444,
             "#bd3786"
            ],
            [
             0.5555555555555556,
             "#d8576b"
            ],
            [
             0.6666666666666666,
             "#ed7953"
            ],
            [
             0.7777777777777778,
             "#fb9f3a"
            ],
            [
             0.8888888888888888,
             "#fdca26"
            ],
            [
             1,
             "#f0f921"
            ]
           ]
          },
          "colorway": [
           "#636efa",
           "#EF553B",
           "#00cc96",
           "#ab63fa",
           "#FFA15A",
           "#19d3f3",
           "#FF6692",
           "#B6E880",
           "#FF97FF",
           "#FECB52"
          ],
          "font": {
           "color": "#2a3f5f"
          },
          "geo": {
           "bgcolor": "white",
           "lakecolor": "white",
           "landcolor": "#E5ECF6",
           "showlakes": true,
           "showland": true,
           "subunitcolor": "white"
          },
          "hoverlabel": {
           "align": "left"
          },
          "hovermode": "closest",
          "mapbox": {
           "style": "light"
          },
          "paper_bgcolor": "white",
          "plot_bgcolor": "#E5ECF6",
          "polar": {
           "angularaxis": {
            "gridcolor": "white",
            "linecolor": "white",
            "ticks": ""
           },
           "bgcolor": "#E5ECF6",
           "radialaxis": {
            "gridcolor": "white",
            "linecolor": "white",
            "ticks": ""
           }
          },
          "scene": {
           "xaxis": {
            "backgroundcolor": "#E5ECF6",
            "gridcolor": "white",
            "gridwidth": 2,
            "linecolor": "white",
            "showbackground": true,
            "ticks": "",
            "zerolinecolor": "white"
           },
           "yaxis": {
            "backgroundcolor": "#E5ECF6",
            "gridcolor": "white",
            "gridwidth": 2,
            "linecolor": "white",
            "showbackground": true,
            "ticks": "",
            "zerolinecolor": "white"
           },
           "zaxis": {
            "backgroundcolor": "#E5ECF6",
            "gridcolor": "white",
            "gridwidth": 2,
            "linecolor": "white",
            "showbackground": true,
            "ticks": "",
            "zerolinecolor": "white"
           }
          },
          "shapedefaults": {
           "line": {
            "color": "#2a3f5f"
           }
          },
          "ternary": {
           "aaxis": {
            "gridcolor": "white",
            "linecolor": "white",
            "ticks": ""
           },
           "baxis": {
            "gridcolor": "white",
            "linecolor": "white",
            "ticks": ""
           },
           "bgcolor": "#E5ECF6",
           "caxis": {
            "gridcolor": "white",
            "linecolor": "white",
            "ticks": ""
           }
          },
          "title": {
           "x": 0.05
          },
          "xaxis": {
           "automargin": true,
           "gridcolor": "white",
           "linecolor": "white",
           "ticks": "",
           "title": {
            "standoff": 15
           },
           "zerolinecolor": "white",
           "zerolinewidth": 2
          },
          "yaxis": {
           "automargin": true,
           "gridcolor": "white",
           "linecolor": "white",
           "ticks": "",
           "title": {
            "standoff": 15
           },
           "zerolinecolor": "white",
           "zerolinewidth": 2
          }
         }
        },
        "title": {
         "font": {
          "size": 20
         },
         "text": "$\\LARGE{\\text{Loss Surface for }\\mathcal{L}(a,b) = (a-8)^2 + (b-2)^2}$",
         "x": 0.5,
         "xanchor": "center"
        },
        "width": 900
       }
      }
     },
     "metadata": {},
     "output_type": "display_data"
    }
   ],
   "source": [
    "import numpy as np\n",
    "import plotly.graph_objects as go\n",
    "\n",
    "# Parámetros\n",
    "a_min, a_max = -30, 30\n",
    "b_min, b_max = -30, 30\n",
    "mesh_size = 1\n",
    "font_size = 14\n",
    "\n",
    "# Grid\n",
    "arange = np.arange(a_min, a_max, mesh_size)\n",
    "brange = np.arange(b_min, b_max, mesh_size)\n",
    "aa, bb = np.meshgrid(arange, brange)\n",
    "\n",
    "# Función de pérdida\n",
    "def loss_function(a, b):\n",
    "    return (a - 8) ** 2 + (b - 2) ** 2\n",
    "\n",
    "loss = loss_function(aa, bb)\n",
    "\n",
    "# Figura\n",
    "fig = go.Figure(\n",
    "    data=[go.Surface(x=arange, y=brange, z=loss, name=\"Loss\", colorscale=\"dense\")]\n",
    ")\n",
    "\n",
    "camera = dict(\n",
    "    up=dict(x=0, y=0, z=1),\n",
    "    center=dict(x=0, y=0, z=0),\n",
    "    eye=dict(x=-1.2, y=1.5, z=1.8)\n",
    ")\n",
    "\n",
    "fig.update_layout(\n",
    "    autosize=False,\n",
    "    width=900,\n",
    "    height=900,\n",
    "    title={\n",
    "        \"text\": r\"$\\LARGE{\\text{Loss Surface for }\\mathcal{L}(a,b) = (a-8)^2 + (b-2)^2}$\",\n",
    "        \"font\": {\"size\": 20},\n",
    "        \"x\": 0.5,\n",
    "        \"xanchor\": \"center\"\n",
    "    },\n",
    "    scene_camera=camera,\n",
    "    scene=dict(\n",
    "        xaxis=dict(\n",
    "            title=dict(text=\"a\", font=dict(size=font_size + 5)),\n",
    "            tickfont=dict(size=font_size - 2),\n",
    "        ),\n",
    "        yaxis=dict(\n",
    "            title=dict(text=\"b\", font=dict(size=font_size + 5)),\n",
    "            tickfont=dict(size=font_size - 2),\n",
    "        ),\n",
    "        zaxis=dict(\n",
    "            title=dict(text=\"Loss\", font=dict(size=font_size + 5)),\n",
    "            tickfont=dict(size=font_size - 2),\n",
    "        ),\n",
    "    ),\n",
    ")\n",
    "\n",
    "fig.write_image(\"imgs/chapter_11/loss_surface.png\")\n",
    "fig.show()"
   ]
  },
  {
   "cell_type": "markdown",
   "id": "a923804a-19f0-46d1-8a45-c42492c4f947",
   "metadata": {},
   "source": [
    "## Gradient Descent"
   ]
  },
  {
   "cell_type": "code",
   "execution_count": 13,
   "id": "3fcd8b32-672f-4aa5-9fcf-3b1234502e32",
   "metadata": {},
   "outputs": [],
   "source": [
    "def gradient(a, b):\n",
    "    return 2*(a-8), 2*(b-2)"
   ]
  },
  {
   "cell_type": "markdown",
   "id": "467fd6dd-e4af-4099-9b28-85226ee7e013",
   "metadata": {},
   "source": [
    "### Optimizing"
   ]
  },
  {
   "cell_type": "code",
   "execution_count": 14,
   "id": "9504c9d1-a6a8-435a-8ee7-3e70e57501e6",
   "metadata": {},
   "outputs": [
    {
     "name": "stdout",
     "output_type": "stream",
     "text": [
      "The optimal value is found at  8.000000000000005 2.000000002230101\n"
     ]
    }
   ],
   "source": [
    "# maximum number of iterations that can be done\n",
    "maximum_iterations = 500\n",
    "\n",
    "# current iteration\n",
    "current_iteration = 0\n",
    "\n",
    "# Learning Rate\n",
    "learning_rate = 0.01\n",
    "\n",
    "#Initial value of a, b\n",
    "current_a_value = 28\n",
    "current_b_value = 27\n",
    "\n",
    "#Initializing list variables to store the optimization path\n",
    "opt_path_a = [current_a_value]\n",
    "opt_path_b = [current_b_value]\n",
    "opt_path_loss = [loss_function(current_a_value, current_b_value)]\n",
    "\n",
    "while current_iteration < maximum_iterations:\n",
    "    previous_a_value = current_a_value \n",
    "    previous_b_value = current_b_value\n",
    "    # Calculating he gradients at current values\n",
    "    gradient_a, gradient_b = gradient(previous_a_value, previous_b_value)\n",
    "    # Adjusting the parameters using the gradients\n",
    "    current_a_value = current_a_value - learning_rate * gradient_a * (previous_a_value)\n",
    "    current_b_value = current_b_value - learning_rate * gradient_b * (previous_b_value)\n",
    "    current_iteration = current_iteration + 1\n",
    "    opt_path_a.append(current_a_value)\n",
    "    opt_path_b.append(current_b_value)\n",
    "    opt_path_loss.append(loss_function(current_a_value, current_b_value))\n",
    "    \n",
    "print(\"The optimal value is found at \", current_a_value, current_b_value)"
   ]
  },
  {
   "cell_type": "code",
   "execution_count": 16,
   "id": "bfd389b9-34c3-4f92-9699-dc8ef62d4898",
   "metadata": {},
   "outputs": [],
   "source": [
    "# fig = go.Figure(data=[\n",
    "#     go.Surface(x=arange, y=brange, z=loss, name='Loss', colorscale=\"dense\"),\n",
    "#     go.Scatter3d(\n",
    "#     x=opt_path_a, y=opt_path_b, z=opt_path_loss,\n",
    "#         mode=\"lines+markers\",\n",
    "#     marker=dict(\n",
    "#         size=4,\n",
    "#         color=\"grey\",\n",
    "#     ),\n",
    "#     line=dict(\n",
    "#         color='red',\n",
    "#         width=5\n",
    "#     )\n",
    "# )\n",
    "# ])\n",
    "# fig.update_layout(\n",
    "#     autosize=False,\n",
    "#     width=900,\n",
    "#     height=900,\n",
    "#     title_text=\"Gradient Descent\",\n",
    "#     titlefont={\"size\": 25},\n",
    "#     title_x=0.5,\n",
    "#     scene_camera=camera,\n",
    "#     scene=dict(\n",
    "#         xaxis_title='a',\n",
    "#         yaxis_title='b',\n",
    "#         zaxis_title='Loss',\n",
    "#         yaxis=dict(\n",
    "#         titlefont=dict(size=font_size+5),\n",
    "#         tickfont=dict(size=font_size-2),\n",
    "#         ),\n",
    "#         xaxis=dict(\n",
    "#             titlefont=dict(size=font_size+5),\n",
    "#             tickfont=dict(size=font_size-2),\n",
    "#         ),\n",
    "#         zaxis=dict(\n",
    "#             titlefont=dict(size=font_size+5),\n",
    "#             tickfont=dict(size=font_size-2),\n",
    "#         ),\n",
    "#         annotations=[\n",
    "#         dict(\n",
    "#             x=opt_path_a[0],\n",
    "#             y=opt_path_b[0],\n",
    "#             z=opt_path_loss[0],\n",
    "#             text=\"Starting Point\",\n",
    "#             textangle=0,\n",
    "#             ax=10,\n",
    "#             ay=-75,\n",
    "#             font=dict(\n",
    "#                 color=\"black\",\n",
    "#                 size=font_size+4\n",
    "#             ),\n",
    "#             arrowcolor=\"black\",\n",
    "#             arrowsize=3,\n",
    "#             arrowwidth=1,\n",
    "#             arrowhead=1),\n",
    "#         dict(\n",
    "#             x=opt_path_a[-1],\n",
    "#             y=opt_path_b[-1],\n",
    "#             z=opt_path_loss[-1],\n",
    "#             text=\"Optimal Point\",\n",
    "#             textangle=0,\n",
    "#             ax=0,\n",
    "#             ay=-75,\n",
    "#             font=dict(\n",
    "#                 color=\"black\",\n",
    "#                 size=font_size+4\n",
    "#             ),\n",
    "#             arrowcolor=\"black\",\n",
    "#             arrowsize=3,\n",
    "#             arrowwidth=1,\n",
    "#             arrowhead=1),\n",
    "#         ]\n",
    "#     ),\n",
    "    \n",
    "# )\n",
    "# fig.write_image(\"imgs/chapter_11/gradient_descent.png\")\n",
    "# fig.show()"
   ]
  },
  {
   "cell_type": "code",
   "execution_count": 17,
   "id": "f7dfba14-6d1b-4a12-a70e-d52cd84d6f13",
   "metadata": {},
   "outputs": [
    {
     "data": {
      "application/vnd.plotly.v1+json": {
       "config": {
        "plotlyServerURL": "https://plot.ly"
       },
       "data": [
        {
         "colorscale": [
          [
           0,
           "rgb(230, 240, 240)"
          ],
          [
           0.09090909090909091,
           "rgb(191, 221, 229)"
          ],
          [
           0.18181818181818182,
           "rgb(156, 201, 226)"
          ],
          [
           0.2727272727272727,
           "rgb(129, 180, 227)"
          ],
          [
           0.36363636363636365,
           "rgb(115, 154, 228)"
          ],
          [
           0.45454545454545453,
           "rgb(117, 127, 221)"
          ],
          [
           0.5454545454545454,
           "rgb(120, 100, 202)"
          ],
          [
           0.6363636363636364,
           "rgb(119, 74, 175)"
          ],
          [
           0.7272727272727273,
           "rgb(113, 50, 141)"
          ],
          [
           0.8181818181818182,
           "rgb(100, 31, 104)"
          ],
          [
           0.9090909090909091,
           "rgb(80, 20, 66)"
          ],
          [
           1,
           "rgb(54, 14, 36)"
          ]
         ],
         "name": "Loss",
         "type": "surface",
         "x": {
          "bdata": "4uPk5ebn6Onq6+zt7u/w8fLz9PX29/j5+vv8/f7/AAECAwQFBgcICQoLDA0ODxAREhMUFRYXGBkaGxwd",
          "dtype": "i1"
         },
         "y": {
          "bdata": "4uPk5ebn6Onq6+zt7u/w8fLz9PX29/j5+vv8/f7/AAECAwQFBgcICQoLDA0ODxAREhMUFRYXGBkaGxwd",
          "dtype": "i1"
         },
         "z": {
          "bdata": "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",
          "dtype": "i2",
          "shape": "60, 60"
         }
        },
        {
         "line": {
          "color": "red",
          "width": 5
         },
         "marker": {
          "color": "grey",
          "size": 4
         },
         "mode": "lines+markers",
         "type": "scatter3d",
         "x": [
          28,
          16.799999999999997,
          13.8432,
          12.225428275199999,
          11.192274868990806,
          10.477698513168471,
          9.95848695261837,
          9.568415617327904,
          9.268270567581878,
          9.033177072116889,
          8.846519643331225,
          8.696744590267317,
          8.575556395343211,
          8.476842068803888,
          8.395999770623643,
          8.32950349095718,
          8.274611481392972,
          8.229165415055839,
          8.19144861289775,
          8.1600837834065,
          8.133957841707266,
          8.112165692967006,
          8.09396755923871,
          8.07875615171673,
          8.066031116813388,
          8.055378935955494,
          8.046456969671663,
          8.038980689523575,
          8.032713389316688,
          8.027457843709207,
          8.023049510052111,
          8.0193509628455,
          8.01624731959496,
          8.013642468951886,
          8.011455951580402,
          8.009620374551005,
          8.008079263590714,
          8.006785275926196,
          8.005698710978617,
          8.004786267715902,
          8.004020006714185,
          8.003376482430836,
          8.00283601722923,
          8.00238209361268,
          8.00200084514725,
          8.001680629856065,
          8.00141167258876,
          8.00118576511817,
          8.000996014578483,
          8.000836632405026,
          8.000702757221147,
          8.000590306188409,
          8.000495850229035,
          8.00041650927504,
          8.000349864321434,
          8.000293883581904,
          8.000246860481449,
          8.000207361585614,
          8.00017418287194,
          8.000146313005635,
          8.000122902496583,
          8.00010323779503,
          8.000086719534664,
          8.000072844258712,
          8.000061189071193,
          8.00005139874492,
          8.000043174892896,
          8.000036266872751,
          8.000030464146805,
          8.000025589864755,
          8.000021495473298,
          8.00001805618833,
          8.000015167191677,
          8.000012740436407,
          8.000010701963335,
          8.000008989646911,
          8.00000755130179,
          8.000006343092362,
          8.00000532819678,
          8.000004475684728,
          8.00000375957477,
          8.000003158042524,
          8.000002652755521,
          8.000002228314496,
          8.000001871784077,
          8.000001572298554,
          8.000001320730735,
          8.000001109413782,
          8.000000931907552,
          8.000000782802326,
          8.000000657553942,
          8.000000552345302,
          8.000000463970048,
          8.000000389734836,
          8.00000032737726,
          8.000000274996896,
          8.000000230997392,
          8.000000194037808,
          8.000000162991759,
          8.000000136913076,
          8.000000115006983,
          8.000000096605866,
          8.000000081148928,
          8.000000068165098,
          8.000000057258683,
          8.000000048097293,
          8.000000040401726,
          8.00000003393745,
          8.000000028507458,
          8.000000023946264,
          8.00000002011486,
          8.000000016896482,
          8.000000014193045,
          8.000000011922157,
          8.000000010014613,
          8.000000008412275,
          8.000000007066312,
          8.000000005935702,
          8.00000000498599,
          8.000000004188232,
          8.000000003518116,
          8.000000002955217,
          8.000000002482382,
          8.000000002085201,
          8.00000000175157,
          8.000000001471319,
          8.000000001235907,
          8.000000001038162,
          8.000000000872056,
          8.000000000732527,
          8.000000000615323,
          8.000000000516872,
          8.000000000434172,
          8.000000000364704,
          8.00000000030635,
          8.000000000257334,
          8.00000000021616,
          8.000000000181574,
          8.000000000152522,
          8.000000000128118,
          8.000000000107619,
          8.0000000000904,
          8.000000000075936,
          8.000000000063785,
          8.00000000005358,
          8.000000000045008,
          8.000000000037806,
          8.000000000031758,
          8.000000000026677,
          8.000000000022409,
          8.000000000018824,
          8.000000000015811,
          8.000000000013282,
          8.000000000011157,
          8.000000000009372,
          8.000000000007873,
          8.000000000006613,
          8.000000000005555,
          8.000000000004666,
          8.00000000000392,
          8.000000000003293,
          8.000000000002766,
          8.000000000002323,
          8.000000000001952,
          8.00000000000164,
          8.000000000001377,
          8.000000000001156,
          8.000000000000972,
          8.000000000000815,
          8.000000000000686,
          8.000000000000576,
          8.000000000000483,
          8.000000000000405,
          8.000000000000341,
          8.000000000000286,
          8.00000000000024,
          8.0000000000002,
          8.000000000000169,
          8.000000000000142,
          8.000000000000119,
          8.0000000000001,
          8.000000000000083,
          8.00000000000007,
          8.000000000000059,
          8.00000000000005,
          8.000000000000043,
          8.000000000000036,
          8.00000000000003,
          8.000000000000025,
          8.000000000000021,
          8.000000000000018,
          8.000000000000014,
          8.000000000000012,
          8.00000000000001,
          8.000000000000009,
          8.000000000000007,
          8.000000000000005,
          8.000000000000005,
          8.000000000000005,
          8.000000000000005,
          8.000000000000005,
          8.000000000000005,
          8.000000000000005,
          8.000000000000005,
          8.000000000000005,
          8.000000000000005,
          8.000000000000005,
          8.000000000000005,
          8.000000000000005,
          8.000000000000005,
          8.000000000000005,
          8.000000000000005,
          8.000000000000005,
          8.000000000000005,
          8.000000000000005,
          8.000000000000005,
          8.000000000000005,
          8.000000000000005,
          8.000000000000005,
          8.000000000000005,
          8.000000000000005,
          8.000000000000005,
          8.000000000000005,
          8.000000000000005,
          8.000000000000005,
          8.000000000000005,
          8.000000000000005,
          8.000000000000005,
          8.000000000000005,
          8.000000000000005,
          8.000000000000005,
          8.000000000000005,
          8.000000000000005,
          8.000000000000005,
          8.000000000000005,
          8.000000000000005,
          8.000000000000005,
          8.000000000000005,
          8.000000000000005,
          8.000000000000005,
          8.000000000000005,
          8.000000000000005,
          8.000000000000005,
          8.000000000000005,
          8.000000000000005,
          8.000000000000005,
          8.000000000000005,
          8.000000000000005,
          8.000000000000005,
          8.000000000000005,
          8.000000000000005,
          8.000000000000005,
          8.000000000000005,
          8.000000000000005,
          8.000000000000005,
          8.000000000000005,
          8.000000000000005,
          8.000000000000005,
          8.000000000000005,
          8.000000000000005,
          8.000000000000005,
          8.000000000000005,
          8.000000000000005,
          8.000000000000005,
          8.000000000000005,
          8.000000000000005,
          8.000000000000005,
          8.000000000000005,
          8.000000000000005,
          8.000000000000005,
          8.000000000000005,
          8.000000000000005,
          8.000000000000005,
          8.000000000000005,
          8.000000000000005,
          8.000000000000005,
          8.000000000000005,
          8.000000000000005,
          8.000000000000005,
          8.000000000000005,
          8.000000000000005,
          8.000000000000005,
          8.000000000000005,
          8.000000000000005,
          8.000000000000005,
          8.000000000000005,
          8.000000000000005,
          8.000000000000005,
          8.000000000000005,
          8.000000000000005,
          8.000000000000005,
          8.000000000000005,
          8.000000000000005,
          8.000000000000005,
          8.000000000000005,
          8.000000000000005,
          8.000000000000005,
          8.000000000000005,
          8.000000000000005,
          8.000000000000005,
          8.000000000000005,
          8.000000000000005,
          8.000000000000005,
          8.000000000000005,
          8.000000000000005,
          8.000000000000005,
          8.000000000000005,
          8.000000000000005,
          8.000000000000005,
          8.000000000000005,
          8.000000000000005,
          8.000000000000005,
          8.000000000000005,
          8.000000000000005,
          8.000000000000005,
          8.000000000000005,
          8.000000000000005,
          8.000000000000005,
          8.000000000000005,
          8.000000000000005,
          8.000000000000005,
          8.000000000000005,
          8.000000000000005,
          8.000000000000005,
          8.000000000000005,
          8.000000000000005,
          8.000000000000005,
          8.000000000000005,
          8.000000000000005,
          8.000000000000005,
          8.000000000000005,
          8.000000000000005,
          8.000000000000005,
          8.000000000000005,
          8.000000000000005,
          8.000000000000005,
          8.000000000000005,
          8.000000000000005,
          8.000000000000005,
          8.000000000000005,
          8.000000000000005,
          8.000000000000005,
          8.000000000000005,
          8.000000000000005,
          8.000000000000005,
          8.000000000000005,
          8.000000000000005,
          8.000000000000005,
          8.000000000000005,
          8.000000000000005,
          8.000000000000005,
          8.000000000000005,
          8.000000000000005,
          8.000000000000005,
          8.000000000000005,
          8.000000000000005,
          8.000000000000005,
          8.000000000000005,
          8.000000000000005,
          8.000000000000005,
          8.000000000000005,
          8.000000000000005,
          8.000000000000005,
          8.000000000000005,
          8.000000000000005,
          8.000000000000005,
          8.000000000000005,
          8.000000000000005,
          8.000000000000005,
          8.000000000000005,
          8.000000000000005,
          8.000000000000005,
          8.000000000000005,
          8.000000000000005,
          8.000000000000005,
          8.000000000000005,
          8.000000000000005,
          8.000000000000005,
          8.000000000000005,
          8.000000000000005,
          8.000000000000005,
          8.000000000000005,
          8.000000000000005,
          8.000000000000005,
          8.000000000000005,
          8.000000000000005,
          8.000000000000005,
          8.000000000000005,
          8.000000000000005,
          8.000000000000005,
          8.000000000000005,
          8.000000000000005,
          8.000000000000005,
          8.000000000000005,
          8.000000000000005,
          8.000000000000005,
          8.000000000000005,
          8.000000000000005,
          8.000000000000005,
          8.000000000000005,
          8.000000000000005,
          8.000000000000005,
          8.000000000000005,
          8.000000000000005,
          8.000000000000005,
          8.000000000000005,
          8.000000000000005,
          8.000000000000005,
          8.000000000000005,
          8.000000000000005,
          8.000000000000005,
          8.000000000000005,
          8.000000000000005,
          8.000000000000005,
          8.000000000000005,
          8.000000000000005,
          8.000000000000005,
          8.000000000000005,
          8.000000000000005,
          8.000000000000005,
          8.000000000000005,
          8.000000000000005,
          8.000000000000005,
          8.000000000000005,
          8.000000000000005,
          8.000000000000005,
          8.000000000000005,
          8.000000000000005,
          8.000000000000005,
          8.000000000000005,
          8.000000000000005,
          8.000000000000005,
          8.000000000000005,
          8.000000000000005,
          8.000000000000005,
          8.000000000000005,
          8.000000000000005,
          8.000000000000005,
          8.000000000000005,
          8.000000000000005,
          8.000000000000005,
          8.000000000000005,
          8.000000000000005,
          8.000000000000005,
          8.000000000000005,
          8.000000000000005,
          8.000000000000005,
          8.000000000000005,
          8.000000000000005,
          8.000000000000005,
          8.000000000000005,
          8.000000000000005,
          8.000000000000005,
          8.000000000000005,
          8.000000000000005,
          8.000000000000005,
          8.000000000000005,
          8.000000000000005,
          8.000000000000005,
          8.000000000000005,
          8.000000000000005,
          8.000000000000005,
          8.000000000000005,
          8.000000000000005,
          8.000000000000005,
          8.000000000000005,
          8.000000000000005,
          8.000000000000005,
          8.000000000000005,
          8.000000000000005,
          8.000000000000005,
          8.000000000000005,
          8.000000000000005,
          8.000000000000005,
          8.000000000000005,
          8.000000000000005,
          8.000000000000005,
          8.000000000000005,
          8.000000000000005,
          8.000000000000005,
          8.000000000000005,
          8.000000000000005,
          8.000000000000005,
          8.000000000000005,
          8.000000000000005,
          8.000000000000005,
          8.000000000000005,
          8.000000000000005,
          8.000000000000005,
          8.000000000000005,
          8.000000000000005,
          8.000000000000005,
          8.000000000000005,
          8.000000000000005,
          8.000000000000005,
          8.000000000000005,
          8.000000000000005,
          8.000000000000005,
          8.000000000000005,
          8.000000000000005,
          8.000000000000005
         ],
         "y": [
          27,
          13.5,
          10.395,
          8.6496795,
          7.499327570945595,
          6.674502393456524,
          6.050502845189647,
          5.560351265404273,
          5.164415192126786,
          4.837568114278458,
          4.563029533643924,
          4.3291259444915475,
          4.127464353405813,
          3.951843687769332,
          3.797576064628859,
          3.661047427881173,
          3.5394239596125128,
          3.4304504786794308,
          3.3323086880931694,
          3.243515411762072,
          3.162848183705793,
          3.0892899383906043,
          3.0219872894574,
          2.9602186374828543,
          2.9033694953481515,
          2.850913186631714,
          2.8023955941427707,
          2.7574229965870654,
          2.715652284808404,
          2.676783029561038,
          2.64055100299656,
          2.6067228511278997,
          2.5750916847211682,
          2.5454734084156128,
          2.5177036472932173,
          2.4916351600730744,
          2.46713565105775,
          2.444085910685657,
          2.4223782283368407,
          2.4019150318479077,
          2.382607716717485,
          2.3643756347509504,
          2.347145217296909,
          2.3308492125671902,
          2.315426020035376,
          2.300819107751654,
          2.2869765007298177,
          2.2738503304612023,
          2.26139643717288,
          2.2495740177386314,
          2.238345313222482,
          2.22767533092688,
          2.2175315965635516,
          2.20788393279094,
          2.1987042608890497,
          2.1899664227875784,
          2.181646021040341,
          2.173720274659532,
          2.1661678889965947,
          2.158968938090059,
          2.1521047581009074,
          2.1455578506281325,
          2.1393117948454177,
          2.1333511675279397,
          2.1276614701492007,
          2.1222290623240196,
          2.1170411009575267,
          2.1120854845329586,
          2.1073508020347806,
          2.102826286059439,
          2.098501769714966,
          2.094367646953628,
          2.0904148360196517,
          2.0866347457274164,
          2.0830192443149746,
          2.079560630643843,
          2.0762516075391204,
          2.0730852570845095,
          2.070055017705067,
          2.067154662886751,
          2.0643782813963325,
          2.0617202588781685,
          2.059175260715922,
          2.0567382160576693,
          2.0544043029121344,
          2.052168934232142,
          2.0500277449088777,
          2.047976579607309,
          2.0460114813792005,
          2.0441286809956583,
          2.0423245869461035,
          2.0405957760550564,
          2.0389389846721837,
          2.0373511003947504,
          2.0358291542849463,
          2.0343703135476128,
          2.032971874636641,
          2.0316312567608343,
          2.030345995762316,
          2.029113738342647,
          2.0279322366137356,
          2.026799342952341,
          2.025713005138594,
          2.024671261760385,
          2.023672237866833,
          2.022714140855247,
          2.0217952565771413,
          2.0209139456498706,
          2.0200686399614227,
          2.0192578393567677,
          2.018480108494963,
          2.017734073866965,
          2.017018420964768,
          2.0163318915931345,
          2.015673281315749,
          2.015041437028175,
          2.0144352546504907,
          2.0138536769329347,
          2.013295691368326,
          2.0127603282054136,
          2.012246658557679,
          2.011753792602455,
          2.0112808778655458,
          2.0108270975868154,
          2.0103916691625,
          2.0099738426602403,
          2.0095728994030826,
          2.0091881506188995,
          2.0088189361519078,
          2.0084646232331345,
          2.0081246053068793,
          2.0077983009103764,
          2.0074851526040196,
          2.0071846259496686,
          2.0068962085346813,
          2.006619409039451,
          2.006353756346352,
          2.006098798688104,
          2.0058541028336707,
          2.005619253309924,
          2.005393851657372,
          2.005177515718363,
          2.0049698789562482,
          2.0047705898040613,
          2.0045793110413572,
          2.0043957191979107,
          2.004219503983049,
          2.00405036773945,
          2.0038880249202955,
          2.0037322015887282,
          2.003582634938605,
          2.0034390728355986,
          2.003301273377735,
          2.0031690044745076,
          2.00304204344374,
          2.002920176625424,
          2.0028031990117765,
          2.0026909138928115,
          2.0025831325167474,
          2.0024796737646056,
          2.0023803638383817,
          2.002285035962206,
          2.002193530095931,
          2.002105692660608,
          2.002021376275352,
          2.0019404395050966,
          2.0018627466187833,
          2.0017881673575326,
          2.0017165767123815,
          2.001647854711174,
          2.001581886214224,
          2.001518560718375,
          2.001457772169107,
          2.0013994187803488,
          2.0013434028616763,
          2.0012896306525843,
          2.0012380121635367,
          2.0011884610235127,
          2.0011408943337803,
          2.0010952325276317,
          2.0010513992358407,
          2.0010093211576,
          2.0009689279367118,
          2.0009301520428164,
          2.0008929286574473,
          2.0008571955647176,
          2.0008228930464442,
          2.000789963781527,
          2.0007583527494104,
          2.000728007137456,
          2.00069887625207,
          2.000670911433427,
          2.000644065973647,
          2.0006182950382816,
          2.0005935555909753,
          2.0005698063211717,
          2.00054700757474,
          2.0005251212874047,
          2.0005041109208612,
          2.0004839414014706,
          2.000464579061426,
          2.000445991582295,
          2.0004281479408332,
          2.0004110183569868,
          2.0003945742439857,
          2.00037878816045,
          2.0003636337644224,
          2.000349085769255,
          2.0003351199012673,
          2.0003217128591095,
          2.000308842274762,
          2.0002964866761004,
          2.0002846254509694,
          2.0002732388126976,
          2.0002623077670005,
          2.000251814080213,
          2.0002417402487978,
          2.000232069470079,
          2.000222785614151,
          2.0002138731969166,
          2.000205317354205,
          2.0001971038169324,
          2.000189218887257,
          2.000181649415691,
          2.000174382779133,
          2.000167406859781,
          2.0001607100248884,
          2.0001542811073385,
          2.0001481093869917,
          2.000142184572784,
          2.0001364967855437,
          2.0001310365414944,
          2.000125794736423,
          2.00012076263048,
          2.0001159318335886,
          2.0001112942914414,
          2.0001068422720554,
          2.000102568352868,
          2.000098465408348,
          2.000094526598105,
          2.0000907453554753,
          2.000087115376562,
          2.0000836306097174,
          2.000080285245447,
          2.0000770737067146,
          2.0000739906396388,
          2.000071030904561,
          2.000068189567471,
          2.0000654618917757,
          2.0000628433303995,
          2.000060329518198,
          2.000057916264677,
          2.000055599547004,
          2.0000533755032976,
          2.000051240426187,
          2.000049190756628,
          2.0000472230779685,
          2.0000453341102493,
          2.0000435207047356,
          2.000041779838665,
          2.0000401086102073,
          2.000038504233625,
          2.0000369640346287,
          2.000035485445917,
          2.000034066002896,
          2.00003270333957,
          2.0000313951845974,
          2.0000301393575004,
          2.0000289337650328,
          2.000027776397688,
          2.00002666532635,
          2.000025598699075,
          2.0000245747380063,
          2.0000235917364075,
          2.0000226480558196,
          2.000021742123328,
          2.0000208724289403,
          2.0000200375230697,
          2.0000192360141167,
          2.0000184665661513,
          2.000017727896685,
          2.000017018774532,
          2.000016338017758,
          2.000015684491709,
          2.0000150571071207,
          2.0000144548183014,
          2.0000138766213906,
          2.0000133215526836,
          2.000012788687027,
          2.000012277136275,
          2.0000117860478097,
          2.0000113146031193,
          2.0000108620164343,
          2.000010427533417,
          2.000010010429906,
          2.0000096100107054,
          2.00000922560843,
          2.0000088565823906,
          2.000008502317526,
          2.0000081622233794,
          2.0000078357331117,
          2.000007522302559,
          2.000007221409325,
          2.0000069325519094,
          2.000006655248872,
          2.000006389038031,
          2.0000061334756936,
          2.0000058881359135,
          2.0000056526097834,
          2.000005426504753,
          2.000005209443974,
          2.0000050010656722,
          2.0000048010225453,
          2.0000046089811825,
          2.0000044246215105,
          2.0000042476362587,
          2.0000040777304475,
          2.000003914620897,
          2.000003758035755,
          2.000003607714042,
          2.0000034634052204,
          2.000003324868772,
          2.0000031918738,
          2.000003064198644,
          2.0000029416305107,
          2.0000028239651173,
          2.000002711006353,
          2.000002602565952,
          2.0000024984631786,
          2.0000023985245265,
          2.0000023025834306,
          2.0000022104799875,
          2.0000021220606903,
          2.000002037178173,
          2.000001955690963,
          2.000001877463248,
          2.0000018023646478,
          2.000001730269997,
          2.0000016610591373,
          2.000001594616717,
          2.000001530831997,
          2.0000014695986703,
          2.00000141081468,
          2.000001354382053,
          2.0000013002067343,
          2.0000012481984313,
          2.000001198270463,
          2.0000011503396156,
          2.0000011043260044,
          2.0000010601529397,
          2.0000010177467997,
          2.000000977036907,
          2.0000009379554116,
          2.0000009004371777,
          2.0000008644196745,
          2.0000008298428726,
          2.000000796649144,
          2.0000007647831657,
          2.0000007341918273,
          2.0000007048241435,
          2.000000676631168,
          2.000000649565912,
          2.0000006235832672,
          2.0000005986399287,
          2.0000005746943246,
          2.000000551706545,
          2.000000529638277,
          2.00000050845274,
          2.000000488114625,
          2.000000468590035,
          2.0000004498464294,
          2.0000004318525684,
          2.000000414578462,
          2.00000039799532,
          2.0000003820755037,
          2.000000366792481,
          2.0000003521207788,
          2.000000338035945,
          2.000000324514505,
          2.0000003115339227,
          2.0000002990725636,
          2.000000287109659,
          2.000000275625271,
          2.0000002646002586,
          2.0000002540162467,
          2.0000002438555957,
          2.0000002341013707,
          2.000000224737315,
          2.0000002157478214,
          2.0000002071179077,
          2.0000001988331904,
          2.000000190879862,
          2.000000183244667,
          2.0000001759148796,
          2.000000168878284,
          2.000000162123152,
          2.000000155638225,
          2.0000001494126955,
          2.0000001434361874,
          2.0000001376987395,
          2.0000001321907894,
          2.0000001269031573,
          2.0000001218270307,
          2.000000116953949,
          2.000000112275791,
          2.000000107784759,
          2.000000103473368,
          2.000000099334433,
          2.0000000953610555,
          2.000000091546613,
          2.0000000878847484,
          2.000000084369358,
          2.0000000809945835,
          2.0000000777548,
          2.000000074644608,
          2.0000000716588233,
          2.0000000687924704,
          2.0000000660407715,
          2.0000000633991406,
          2.000000060863175,
          2.0000000584286477,
          2.0000000560915017,
          2.0000000538478417,
          2.000000051693928,
          2.0000000496261707,
          2.000000047641124,
          2.000000045735479,
          2.0000000439060597,
          2.0000000421498174,
          2.0000000404638247,
          2.000000038845272,
          2.000000037291461,
          2.0000000357998027,
          2.0000000343678104,
          2.000000032993098,
          2.000000031673374,
          2.000000030406439,
          2.0000000291901814,
          2.000000028022574,
          2.000000026901671,
          2.0000000258256043,
          2.00000002479258,
          2.000000023800877,
          2.000000022848842,
          2.000000021934888,
          2.0000000210574926,
          2.000000020215193,
          2.0000000194065852,
          2.0000000186303217,
          2.000000017885109,
          2.0000000171697048,
          2.0000000164829164,
          2.0000000158235998,
          2.000000015190656,
          2.0000000145830295,
          2.000000013999708,
          2.0000000134397196,
          2.000000012902131,
          2.0000000123860455,
          2.0000000118906036,
          2.0000000114149796,
          2.0000000109583804,
          2.0000000105200453,
          2.0000000100992437,
          2.000000009695274,
          2.000000009307463,
          2.000000008935164,
          2.0000000085777576,
          2.000000008234647,
          2.0000000079052613,
          2.0000000075890507,
          2.0000000072854887,
          2.0000000069940693,
          2.0000000067143064,
          2.000000006445734,
          2.000000006187905,
          2.0000000059403886,
          2.000000005702773,
          2.000000005474662,
          2.0000000052556755,
          2.0000000050454485,
          2.0000000048436304,
          2.0000000046498854,
          2.00000000446389,
          2.0000000042853348,
          2.000000004113921,
          2.0000000039493644,
          2.00000000379139,
          2.0000000036397343,
          2.000000003494145,
          2.000000003354379,
          2.0000000032202037,
          2.0000000030913956,
          2.00000000296774,
          2.0000000028490303,
          2.000000002735069,
          2.0000000026256664,
          2.0000000025206397,
          2.000000002419814,
          2.0000000023230218,
          2.000000002230101
         ],
         "z": [
          1025,
          209.68999999999994,
          104.61901123999999,
          62.07248156157988,
          40.433222571752644,
          27.98996254858802,
          20.242244442465818,
          15.136028681743875,
          11.62203374075726,
          9.11924766551783,
          7.285715896876615,
          5.910280689370413,
          4.857369739232885,
          4.037072140066158,
          3.3880955264605537,
          2.867651108223629,
          2.44523759314191,
          2.0987053594119276,
          1.8116990117490146,
          1.5719573969995346,
          1.370160601702731,
          1.199133712557775,
          1.053287922001764,
          0.9282223632026577,
          0.8204365535131971,
          0.7271200777313006,
          0.6459969395308038,
          0.575209089914663,
          0.5132283585920742,
          0.45878920228297604,
          0.41083686735354163,
          0.3684870778438155,
          0.33099442122945233,
          0.29772735624764907,
          0.2681483052473124,
          0.2417976822265791,
          0.21828099098931603,
          0.1972583360389039,
          0.17843584307978613,
          0.16155860118395293,
          0.1464048253457494,
          0.13278100383376373,
          0.12051784488584277,
          0.1094668758263094,
          0.09949757749666072,
          0.09049496010521432,
          0.08235750479062894,
          0.07499540953262518,
          0.06832908941171599,
          0.06228789028398385,
          0.056808982202834916,
          0.05183640477406048,
          0.047320241370937405,
          0.0432159029926042,
          0.03948350570050693,
          0.03608732815426868,
          0.03299533789988539,
          0.030178776826610385,
          0.02761179767325751,
          0.025271144684976685,
          0.023135872541959222,
          0.021187098537524065,
          0.019407783703329434,
          0.01778253918735068,
          0.016297454704757696,
          0.014939946318440058,
          0.013698621177421341,
          0.012563157158274168,
          0.011524195625574904,
          0.01057324575961878,
          0.009702599099035597,
          0.008905253117590531,
          0.008174842802504214,
          0.0075055793295728075,
          0.00689219504116147,
          0.006329894029259797,
          0.005814307709322204,
          0.005341454843343671,
          0.004907705534046956,
          0.004509748767464954,
          0.004144563129679774,
          0.0038093903659613647,
          0.0035017114878344462,
          0.003219225166372144,
          0.002959828178858849,
          0.0027215977013896656,
          0.0025027752624120717,
          0.002301752192047262,
          0.002117056419576968,
          0.0019473404870293495,
          0.0017913706605906543,
          0.001648017033817374,
          0.0015162445275158259,
          0.0013951047008506185,
          0.0012837282968816588,
          0.0011813184534368376,
          0.0010871445171077429,
          0.0010005364043074786,
          0.0009208794588330536,
          0.0008476097603028703,
          0.0007802098422589361,
          0.0007182047826865332,
          0.0006611586332639513,
          0.0006086711568540832,
          0.0005603748456271918,
          0.0005159321947943208,
          0.00047503320926505426,
          0.00043739312264689276,
          0.0004027503099020255,
          0.00037086437669164537,
          0.0003415144099860107,
          0.0003144973759192531,
          0.00028962665213426095,
          0.0002667306830100404,
          0.0002456517472027059,
          0.0002262448278726267,
          0.00020837657682456242,
          0.00019192436456216252,
          0.0001767754089618028,
          0.00016282597590989187,
          0.0001499806458283801,
          0.00013815164054153237,
          0.00012725820541736662,
          0.00011722604215442901,
          0.00010798678798285432,
          9.94775374112307e-05,
          9.164040298154056e-05,
          8.442211179558524e-05,
          7.777363485142648e-05,
          7.164984647892023e-05,
          6.600921139257177e-05,
          6.081349708877712e-05,
          5.60275095054617e-05,
          5.161885003665188e-05,
          4.755769215381149e-05,
          4.381657603156446e-05,
          4.0370219708808955e-05,
          3.719534543801682e-05,
          3.4270519987191525e-05,
          3.157600776109146e-05,
          2.909363570173403e-05,
          2.6806669013894807e-05,
          2.4699696839759007e-05,
          2.2758527078613724e-05,
          2.0970089613496203e-05,
          1.932234726688076e-05,
          1.7804213862966752e-05,
          1.640547882477641e-05,
          1.5116737780838801e-05,
          1.3929328698905474e-05,
          1.2835273103313256e-05,
          1.1827221968552424e-05,
          1.089840591454261e-05,
          1.0042589359449384e-05,
          9.25402831360108e-06,
          8.527431523673272e-06,
          7.857924699624761e-06,
          7.241017578525986e-06,
          6.672573599077525e-06,
          6.148781978873116e-06,
          5.666132003075231e-06,
          5.221389348575589e-06,
          4.811574281754263e-06,
          4.433941580937484e-06,
          4.085962046555181e-06,
          3.7653054729395058e-06,
          3.4698249657885166e-06,
          3.197542498545199e-06,
          2.9466356094903306e-06,
          2.715425149138389e-06,
          2.502363994752128e-06,
          2.3060266553921875e-06,
          2.125099697023339e-06,
          1.9583729227928423e-06,
          1.8047312487601658e-06,
          1.6631472200848797e-06,
          1.5326741170648077e-06,
          1.4124396044087731e-06,
          1.3016398808519595e-06,
          1.1995342895824394e-06,
          1.105440353126501e-06,
          1.018729199178772e-06,
          9.388213465405317e-07,
          8.651828227555861e-07,
          7.973215872905989e-07,
          7.347842361715916e-07,
          6.771529658862633e-07,
          6.240427761247236e-07,
          5.750988925382899e-07,
          5.299943921869106e-07,
          4.884280157072424e-07,
          4.5012215150294e-07,
          4.1482097840967363e-07,
          3.8228875436363415e-07,
          3.5230823957802823e-07,
          3.246792436471705e-07,
          2.9921728682296033e-07,
          2.7575236648554107e-07,
          2.541278205315499e-07,
          2.3419928005729625e-07,
          2.158337043154077e-07,
          1.9890849147797006e-07,
          1.8331065923973886e-07,
          1.689360897800946e-07,
          1.5568883401688782e-07,
          1.4348047049693083e-07,
          1.322295146279972e-07,
          1.2186087429648517e-07,
          1.1230534822542727e-07,
          1.034991637164317e-07,
          9.538355068011191e-08,
          8.790434910505318e-08,
          8.101164733954074e-08,
          7.465944876438587e-08,
          6.880536462880739e-08,
          6.341033099352915e-08,
          5.8438347888798294e-08,
          5.385623894276304e-08,
          4.963342987264313e-08,
          4.5741744359313796e-08,
          4.215521593771096e-08,
          3.884991464931588e-08,
          3.580378729477013e-08,
          3.2996510220877205e-08,
          3.0409353658209816e-08,
          2.80250567016628e-08,
          2.5827712099622912e-08,
          2.3802660081595397e-08,
          2.193639051506421e-08,
          2.0216452737777713e-08,
          1.8631372463770235e-08,
          1.7170575206807887e-08,
          1.5824315711743632e-08,
          1.4583612920448547e-08,
          1.3440190039214981e-08,
          1.2386419307445634e-08,
          1.1415271097954576e-08,
          1.0520267010039518e-08,
          9.695436641097437e-09,
          8.935277749292493e-09,
          8.23471954033194e-09,
          7.589088833505647e-09,
          6.994078881702221e-09,
          6.445720636468705e-09,
          5.940356266730386e-09,
          5.474614754152048e-09,
          5.04538940273153e-09,
          4.6498171118532664e-09,
          4.285259274853161e-09,
          3.949284175703256e-09,
          3.639650766004036e-09,
          3.3542937141355922e-09,
          3.0913096270701837e-09,
          2.8489443522772274e-09,
          2.6255812758236067e-09,
          2.4197305376365773e-09,
          2.2300190928143224e-09,
          2.0551815520972887e-09,
          1.8940517406803862e-09,
          1.7455549188865384e-09,
          1.6087006127621137e-09,
          1.482576007053086e-09,
          1.3663398560329897e-09,
          1.2592168719145102e-09,
          1.160492553303808e-09,
          1.0695084190420152e-09,
          9.856576159037268e-10,
          9.083808705370837e-10,
          8.371627589714353e-10,
          7.715282685296844e-10,
          7.110396293570647e-10,
          6.55293394339915e-10,
          6.039177480793743e-10,
          5.565700267226377e-10,
          5.129344324095605e-10,
          4.727199268077973e-10,
          4.3565828986924266e-10,
          4.01502330767615e-10,
          3.7002423909733734e-10,
          3.4101406542191925e-10,
          3.1427832086908474e-10,
          2.896386865663834e-10,
          2.669308242541836e-10,
          2.460032801686586e-10,
          2.2671647484381898e-10,
          2.0894177212717353e-10,
          1.925606212188733e-10,
          1.7746376590277403e-10,
          1.6355051587822072e-10,
          1.507280751189184e-10,
          1.3891092297287035e-10,
          1.280202437476525e-10,
          1.1798340101897587e-10,
          1.0873345316638132e-10,
          1.0020870690080501e-10,
          9.235230575847483e-11,
          8.511185090526806e-11,
          7.843905164116248e-11,
          7.228940331338274e-11,
          6.662189049529431e-11,
          6.139871339769859e-11,
          5.6585035790205166e-11,
          5.214875264189135e-11,
          4.806027597683203e-11,
          4.42923375482658e-11,
          4.081980696250768e-11,
          3.761952408348367e-11,
          3.4670144535991156e-11,
          3.1951997362909783e-11,
          2.944695383545211e-11,
          2.7138306517981466e-11,
          2.501065785815628e-11,
          2.304981748045665e-11,
          2.1242707540506816e-11,
          1.957727551129075e-11,
          1.80424137864366e-11,
          1.6627885602688886e-11,
          1.53242567689224e-11,
          1.4122832736087059e-11,
          1.3015600610108864e-11,
          1.199517572065326e-11,
          1.1054752350083188e-11,
          1.0188058354710199e-11,
          9.38931333083367e-12,
          8.65319006167683e-12,
          7.974778983752837e-12,
          7.349555447005806e-12,
          6.773349534932286e-12,
          6.242318254662611e-12,
          5.752919904451703e-12,
          5.301890454833133e-12,
          4.886221775123336e-12,
          4.5031415732291936e-12,
          4.150094907814722e-12,
          3.8247271425699725e-12,
          3.5248682475118346e-12,
          3.2485183234648604e-12,
          2.993834262718509e-12,
          2.759117457766684e-12,
          2.542802473795971e-12,
          2.3434466035447764e-12,
          2.1597202517819504e-12,
          1.990398061844305e-12,
          1.8343507459648035e-12,
          1.690537551862433e-12,
          1.5579993238514905e-12,
          1.4358521021492194e-12,
          1.3232812311341179e-12,
          1.2195359240375254e-12,
          1.1239242554657322e-12,
          1.0358085483509201e-12,
          9.546011175132473e-13,
          8.797603540781228e-13,
          8.10787111000232e-13,
          7.472213736742309e-13,
          6.886391932723042e-13,
          6.346498586134942e-13,
          5.848932905157834e-13,
          5.390376393240818e-13,
          4.967770732516414e-13,
          4.578297374873903e-13,
          4.219358742528437e-13,
          3.8885609118820987e-13,
          3.583697642811506e-13,
          3.3027356669669705e-13,
          3.043801116782671e-13,
          2.805167042428223e-13,
          2.5852418872329944e-13,
          2.382558872984114e-13,
          2.195766211061658e-13,
          2.023618100799305e-13,
          1.8649664080965966e-13,
          1.7187530097403583e-13,
          1.5840027459216347e-13,
          1.4598169051221669e-13,
          1.3453672399533371e-13,
          1.2398904283252466e-13,
          1.1426830012107513e-13,
          1.0530966398503616e-13,
          9.70533849672566e-14,
          8.944439830017546e-14,
          8.2431956382022e-14,
          7.596929004203816e-14,
          7.001329684729781e-14,
          6.452425358934078e-14,
          5.946555156213652e-14,
          5.4803451779063184e-14,
          5.050686074440241e-14,
          4.654712243280673e-14,
          4.28978276955926e-14,
          3.9534637587483675e-14,
          3.6435121770056855e-14,
          3.357860798240853e-14,
          3.094604484784838e-14,
          2.851987473978468e-14,
          2.6283916347074026e-14,
          2.422325707322944e-14,
          2.232415359129133e-14,
          2.057393984781655e-14,
          1.8960942865906895e-14,
          1.747440480902535e-14,
          1.6104411336742588e-14,
          1.4841825405706827e-14,
          1.3678226231573828e-14,
          1.2605853219230532e-14,
          1.1617554250257183e-14,
          1.070673790513421e-14,
          9.867329603964737e-15,
          9.093730905419515e-15,
          8.380782343891624e-15,
          7.72372899564135e-15,
          7.118188597422044e-15,
          6.560122553834045e-15,
          6.045808912464593e-15,
          5.571817477815916e-15,
          5.134986959550989e-15,
          4.732403981922194e-15,
          4.361383502700777e-15,
          4.019451029331869e-15,
          3.704326064307664e-15,
          3.4139068718047095e-15,
          3.146256559105829e-15,
          2.8995900601764116e-15,
          2.6722621719105246e-15,
          2.462756821158893e-15,
          2.2696766897651435e-15,
          2.091734035662708e-15,
          1.9277420763477575e-15,
          1.7766071080443318e-15,
          1.6373211122112224e-15,
          1.508955148054355e-15,
          1.3906530657717547e-15,
          1.2816258717745738e-15,
          1.1811463899965605e-15,
          1.0885445177094336e-15,
          1.0032026297715448e-15,
          9.245515414369505e-16,
          8.520666891808165e-16,
          7.852646557712336e-16,
          7.236999086702498e-16,
          6.669618385830338e-16,
          6.146720225108417e-16,
          5.66481737637148e-16,
          5.220695775239371e-16,
          4.811393171910762e-16,
          4.4341799621952293e-16,
          4.08654031061418e-16,
          3.7661555019998216e-16,
          3.4708888775489584e-16,
          3.198771221319478e-16,
          2.9479876185670977e-16,
          2.71686531900056e-16,
          2.5038630948559543e-16,
          2.30756024980649e-16,
          2.1266474795932878e-16,
          1.9599182575088506e-16,
          1.8062606183727032e-16,
          1.664649822562367e-16,
          1.5341412368698333e-16,
          1.4138645427773055e-16,
          1.3030175991223256e-16,
          1.2008610154579588e-16,
          1.1067135267959605e-16,
          1.0199472257628723e-16,
          9.399833632630854e-17,
          8.662886378232061e-17,
          7.983715863970329e-17,
          7.357792570709595e-17,
          6.780941428378778e-17,
          6.249315676564364e-17,
          5.75936908486642e-17,
          5.3078344968466043e-17,
          4.891700570469158e-17,
          4.508191102620547e-17,
          4.154748897275471e-17,
          3.829016649680859e-17,
          3.5288217021371024e-17,
          3.2521618983468994e-17,
          2.997192463866445e-17,
          2.7622124439961665e-17,
          2.545655060087225e-17,
          2.3460755312962867e-17,
          2.1621433913597014e-17,
          1.992631523925479e-17,
          1.8364093951447484e-17,
          1.692434767025363e-17,
          1.559747909352719e-17,
          1.437463713668856e-17,
          1.3247665714483741e-17,
          1.2209049094881339e-17,
          1.1251858454130022e-17,
          1.0369711607282264e-17,
          9.556726656587291e-18,
          8.807479708454265e-18,
          8.11697390662101e-18,
          7.480602763667454e-18,
          6.894123786845372e-18,
          6.3536244819589216e-18,
          5.855500408544636e-18,
          5.396430166880666e-18,
          4.973350437944955e-18
         ]
        }
       ],
       "layout": {
        "autosize": false,
        "height": 900,
        "scene": {
         "annotations": [
          {
           "arrowcolor": "black",
           "arrowhead": 1,
           "arrowsize": 3,
           "arrowwidth": 1,
           "ax": 10,
           "ay": -75,
           "font": {
            "color": "black",
            "size": 18
           },
           "text": "Starting Point",
           "textangle": 0,
           "x": 28,
           "y": 27,
           "z": 1025
          },
          {
           "arrowcolor": "black",
           "arrowhead": 1,
           "arrowsize": 3,
           "arrowwidth": 1,
           "ax": 0,
           "ay": -75,
           "font": {
            "color": "black",
            "size": 18
           },
           "text": "Optimal Point",
           "textangle": 0,
           "x": 8.000000000000005,
           "y": 2.000000002230101,
           "z": 4.973350437944955e-18
          }
         ],
         "camera": {
          "center": {
           "x": 0,
           "y": 0,
           "z": 0
          },
          "eye": {
           "x": -1.2,
           "y": 1.5,
           "z": 1.8
          },
          "up": {
           "x": 0,
           "y": 0,
           "z": 1
          }
         },
         "xaxis": {
          "tickfont": {
           "size": 12
          },
          "title": {
           "font": {
            "size": 19
           },
           "text": "a"
          }
         },
         "yaxis": {
          "tickfont": {
           "size": 12
          },
          "title": {
           "font": {
            "size": 19
           },
           "text": "b"
          }
         },
         "zaxis": {
          "tickfont": {
           "size": 12
          },
          "title": {
           "font": {
            "size": 19
           },
           "text": "Loss"
          }
         }
        },
        "template": {
         "data": {
          "bar": [
           {
            "error_x": {
             "color": "#2a3f5f"
            },
            "error_y": {
             "color": "#2a3f5f"
            },
            "marker": {
             "line": {
              "color": "#E5ECF6",
              "width": 0.5
             },
             "pattern": {
              "fillmode": "overlay",
              "size": 10,
              "solidity": 0.2
             }
            },
            "type": "bar"
           }
          ],
          "barpolar": [
           {
            "marker": {
             "line": {
              "color": "#E5ECF6",
              "width": 0.5
             },
             "pattern": {
              "fillmode": "overlay",
              "size": 10,
              "solidity": 0.2
             }
            },
            "type": "barpolar"
           }
          ],
          "carpet": [
           {
            "aaxis": {
             "endlinecolor": "#2a3f5f",
             "gridcolor": "white",
             "linecolor": "white",
             "minorgridcolor": "white",
             "startlinecolor": "#2a3f5f"
            },
            "baxis": {
             "endlinecolor": "#2a3f5f",
             "gridcolor": "white",
             "linecolor": "white",
             "minorgridcolor": "white",
             "startlinecolor": "#2a3f5f"
            },
            "type": "carpet"
           }
          ],
          "choropleth": [
           {
            "colorbar": {
             "outlinewidth": 0,
             "ticks": ""
            },
            "type": "choropleth"
           }
          ],
          "contour": [
           {
            "colorbar": {
             "outlinewidth": 0,
             "ticks": ""
            },
            "colorscale": [
             [
              0,
              "#0d0887"
             ],
             [
              0.1111111111111111,
              "#46039f"
             ],
             [
              0.2222222222222222,
              "#7201a8"
             ],
             [
              0.3333333333333333,
              "#9c179e"
             ],
             [
              0.4444444444444444,
              "#bd3786"
             ],
             [
              0.5555555555555556,
              "#d8576b"
             ],
             [
              0.6666666666666666,
              "#ed7953"
             ],
             [
              0.7777777777777778,
              "#fb9f3a"
             ],
             [
              0.8888888888888888,
              "#fdca26"
             ],
             [
              1,
              "#f0f921"
             ]
            ],
            "type": "contour"
           }
          ],
          "contourcarpet": [
           {
            "colorbar": {
             "outlinewidth": 0,
             "ticks": ""
            },
            "type": "contourcarpet"
           }
          ],
          "heatmap": [
           {
            "colorbar": {
             "outlinewidth": 0,
             "ticks": ""
            },
            "colorscale": [
             [
              0,
              "#0d0887"
             ],
             [
              0.1111111111111111,
              "#46039f"
             ],
             [
              0.2222222222222222,
              "#7201a8"
             ],
             [
              0.3333333333333333,
              "#9c179e"
             ],
             [
              0.4444444444444444,
              "#bd3786"
             ],
             [
              0.5555555555555556,
              "#d8576b"
             ],
             [
              0.6666666666666666,
              "#ed7953"
             ],
             [
              0.7777777777777778,
              "#fb9f3a"
             ],
             [
              0.8888888888888888,
              "#fdca26"
             ],
             [
              1,
              "#f0f921"
             ]
            ],
            "type": "heatmap"
           }
          ],
          "histogram": [
           {
            "marker": {
             "pattern": {
              "fillmode": "overlay",
              "size": 10,
              "solidity": 0.2
             }
            },
            "type": "histogram"
           }
          ],
          "histogram2d": [
           {
            "colorbar": {
             "outlinewidth": 0,
             "ticks": ""
            },
            "colorscale": [
             [
              0,
              "#0d0887"
             ],
             [
              0.1111111111111111,
              "#46039f"
             ],
             [
              0.2222222222222222,
              "#7201a8"
             ],
             [
              0.3333333333333333,
              "#9c179e"
             ],
             [
              0.4444444444444444,
              "#bd3786"
             ],
             [
              0.5555555555555556,
              "#d8576b"
             ],
             [
              0.6666666666666666,
              "#ed7953"
             ],
             [
              0.7777777777777778,
              "#fb9f3a"
             ],
             [
              0.8888888888888888,
              "#fdca26"
             ],
             [
              1,
              "#f0f921"
             ]
            ],
            "type": "histogram2d"
           }
          ],
          "histogram2dcontour": [
           {
            "colorbar": {
             "outlinewidth": 0,
             "ticks": ""
            },
            "colorscale": [
             [
              0,
              "#0d0887"
             ],
             [
              0.1111111111111111,
              "#46039f"
             ],
             [
              0.2222222222222222,
              "#7201a8"
             ],
             [
              0.3333333333333333,
              "#9c179e"
             ],
             [
              0.4444444444444444,
              "#bd3786"
             ],
             [
              0.5555555555555556,
              "#d8576b"
             ],
             [
              0.6666666666666666,
              "#ed7953"
             ],
             [
              0.7777777777777778,
              "#fb9f3a"
             ],
             [
              0.8888888888888888,
              "#fdca26"
             ],
             [
              1,
              "#f0f921"
             ]
            ],
            "type": "histogram2dcontour"
           }
          ],
          "mesh3d": [
           {
            "colorbar": {
             "outlinewidth": 0,
             "ticks": ""
            },
            "type": "mesh3d"
           }
          ],
          "parcoords": [
           {
            "line": {
             "colorbar": {
              "outlinewidth": 0,
              "ticks": ""
             }
            },
            "type": "parcoords"
           }
          ],
          "pie": [
           {
            "automargin": true,
            "type": "pie"
           }
          ],
          "scatter": [
           {
            "fillpattern": {
             "fillmode": "overlay",
             "size": 10,
             "solidity": 0.2
            },
            "type": "scatter"
           }
          ],
          "scatter3d": [
           {
            "line": {
             "colorbar": {
              "outlinewidth": 0,
              "ticks": ""
             }
            },
            "marker": {
             "colorbar": {
              "outlinewidth": 0,
              "ticks": ""
             }
            },
            "type": "scatter3d"
           }
          ],
          "scattercarpet": [
           {
            "marker": {
             "colorbar": {
              "outlinewidth": 0,
              "ticks": ""
             }
            },
            "type": "scattercarpet"
           }
          ],
          "scattergeo": [
           {
            "marker": {
             "colorbar": {
              "outlinewidth": 0,
              "ticks": ""
             }
            },
            "type": "scattergeo"
           }
          ],
          "scattergl": [
           {
            "marker": {
             "colorbar": {
              "outlinewidth": 0,
              "ticks": ""
             }
            },
            "type": "scattergl"
           }
          ],
          "scattermap": [
           {
            "marker": {
             "colorbar": {
              "outlinewidth": 0,
              "ticks": ""
             }
            },
            "type": "scattermap"
           }
          ],
          "scattermapbox": [
           {
            "marker": {
             "colorbar": {
              "outlinewidth": 0,
              "ticks": ""
             }
            },
            "type": "scattermapbox"
           }
          ],
          "scatterpolar": [
           {
            "marker": {
             "colorbar": {
              "outlinewidth": 0,
              "ticks": ""
             }
            },
            "type": "scatterpolar"
           }
          ],
          "scatterpolargl": [
           {
            "marker": {
             "colorbar": {
              "outlinewidth": 0,
              "ticks": ""
             }
            },
            "type": "scatterpolargl"
           }
          ],
          "scatterternary": [
           {
            "marker": {
             "colorbar": {
              "outlinewidth": 0,
              "ticks": ""
             }
            },
            "type": "scatterternary"
           }
          ],
          "surface": [
           {
            "colorbar": {
             "outlinewidth": 0,
             "ticks": ""
            },
            "colorscale": [
             [
              0,
              "#0d0887"
             ],
             [
              0.1111111111111111,
              "#46039f"
             ],
             [
              0.2222222222222222,
              "#7201a8"
             ],
             [
              0.3333333333333333,
              "#9c179e"
             ],
             [
              0.4444444444444444,
              "#bd3786"
             ],
             [
              0.5555555555555556,
              "#d8576b"
             ],
             [
              0.6666666666666666,
              "#ed7953"
             ],
             [
              0.7777777777777778,
              "#fb9f3a"
             ],
             [
              0.8888888888888888,
              "#fdca26"
             ],
             [
              1,
              "#f0f921"
             ]
            ],
            "type": "surface"
           }
          ],
          "table": [
           {
            "cells": {
             "fill": {
              "color": "#EBF0F8"
             },
             "line": {
              "color": "white"
             }
            },
            "header": {
             "fill": {
              "color": "#C8D4E3"
             },
             "line": {
              "color": "white"
             }
            },
            "type": "table"
           }
          ]
         },
         "layout": {
          "annotationdefaults": {
           "arrowcolor": "#2a3f5f",
           "arrowhead": 0,
           "arrowwidth": 1
          },
          "autotypenumbers": "strict",
          "coloraxis": {
           "colorbar": {
            "outlinewidth": 0,
            "ticks": ""
           }
          },
          "colorscale": {
           "diverging": [
            [
             0,
             "#8e0152"
            ],
            [
             0.1,
             "#c51b7d"
            ],
            [
             0.2,
             "#de77ae"
            ],
            [
             0.3,
             "#f1b6da"
            ],
            [
             0.4,
             "#fde0ef"
            ],
            [
             0.5,
             "#f7f7f7"
            ],
            [
             0.6,
             "#e6f5d0"
            ],
            [
             0.7,
             "#b8e186"
            ],
            [
             0.8,
             "#7fbc41"
            ],
            [
             0.9,
             "#4d9221"
            ],
            [
             1,
             "#276419"
            ]
           ],
           "sequential": [
            [
             0,
             "#0d0887"
            ],
            [
             0.1111111111111111,
             "#46039f"
            ],
            [
             0.2222222222222222,
             "#7201a8"
            ],
            [
             0.3333333333333333,
             "#9c179e"
            ],
            [
             0.4444444444444444,
             "#bd3786"
            ],
            [
             0.5555555555555556,
             "#d8576b"
            ],
            [
             0.6666666666666666,
             "#ed7953"
            ],
            [
             0.7777777777777778,
             "#fb9f3a"
            ],
            [
             0.8888888888888888,
             "#fdca26"
            ],
            [
             1,
             "#f0f921"
            ]
           ],
           "sequentialminus": [
            [
             0,
             "#0d0887"
            ],
            [
             0.1111111111111111,
             "#46039f"
            ],
            [
             0.2222222222222222,
             "#7201a8"
            ],
            [
             0.3333333333333333,
             "#9c179e"
            ],
            [
             0.4444444444444444,
             "#bd3786"
            ],
            [
             0.5555555555555556,
             "#d8576b"
            ],
            [
             0.6666666666666666,
             "#ed7953"
            ],
            [
             0.7777777777777778,
             "#fb9f3a"
            ],
            [
             0.8888888888888888,
             "#fdca26"
            ],
            [
             1,
             "#f0f921"
            ]
           ]
          },
          "colorway": [
           "#636efa",
           "#EF553B",
           "#00cc96",
           "#ab63fa",
           "#FFA15A",
           "#19d3f3",
           "#FF6692",
           "#B6E880",
           "#FF97FF",
           "#FECB52"
          ],
          "font": {
           "color": "#2a3f5f"
          },
          "geo": {
           "bgcolor": "white",
           "lakecolor": "white",
           "landcolor": "#E5ECF6",
           "showlakes": true,
           "showland": true,
           "subunitcolor": "white"
          },
          "hoverlabel": {
           "align": "left"
          },
          "hovermode": "closest",
          "mapbox": {
           "style": "light"
          },
          "paper_bgcolor": "white",
          "plot_bgcolor": "#E5ECF6",
          "polar": {
           "angularaxis": {
            "gridcolor": "white",
            "linecolor": "white",
            "ticks": ""
           },
           "bgcolor": "#E5ECF6",
           "radialaxis": {
            "gridcolor": "white",
            "linecolor": "white",
            "ticks": ""
           }
          },
          "scene": {
           "xaxis": {
            "backgroundcolor": "#E5ECF6",
            "gridcolor": "white",
            "gridwidth": 2,
            "linecolor": "white",
            "showbackground": true,
            "ticks": "",
            "zerolinecolor": "white"
           },
           "yaxis": {
            "backgroundcolor": "#E5ECF6",
            "gridcolor": "white",
            "gridwidth": 2,
            "linecolor": "white",
            "showbackground": true,
            "ticks": "",
            "zerolinecolor": "white"
           },
           "zaxis": {
            "backgroundcolor": "#E5ECF6",
            "gridcolor": "white",
            "gridwidth": 2,
            "linecolor": "white",
            "showbackground": true,
            "ticks": "",
            "zerolinecolor": "white"
           }
          },
          "shapedefaults": {
           "line": {
            "color": "#2a3f5f"
           }
          },
          "ternary": {
           "aaxis": {
            "gridcolor": "white",
            "linecolor": "white",
            "ticks": ""
           },
           "baxis": {
            "gridcolor": "white",
            "linecolor": "white",
            "ticks": ""
           },
           "bgcolor": "#E5ECF6",
           "caxis": {
            "gridcolor": "white",
            "linecolor": "white",
            "ticks": ""
           }
          },
          "title": {
           "x": 0.05
          },
          "xaxis": {
           "automargin": true,
           "gridcolor": "white",
           "linecolor": "white",
           "ticks": "",
           "title": {
            "standoff": 15
           },
           "zerolinecolor": "white",
           "zerolinewidth": 2
          },
          "yaxis": {
           "automargin": true,
           "gridcolor": "white",
           "linecolor": "white",
           "ticks": "",
           "title": {
            "standoff": 15
           },
           "zerolinecolor": "white",
           "zerolinewidth": 2
          }
         }
        },
        "title": {
         "font": {
          "size": 25
         },
         "text": "Gradient Descent",
         "x": 0.5,
         "xanchor": "center"
        },
        "width": 900
       }
      },
      "image/png": "[encoded data removed]"
     },
     "metadata": {},
     "output_type": "display_data"
    }
   ],
   "source": [
    "fig = go.Figure(data=[\n",
    "    go.Surface(x=arange, y=brange, z=loss, name='Loss', colorscale=\"dense\"),\n",
    "    go.Scatter3d(\n",
    "        x=opt_path_a, y=opt_path_b, z=opt_path_loss,\n",
    "        mode=\"lines+markers\",\n",
    "        marker=dict(size=4, color=\"grey\"),\n",
    "        line=dict(color='red', width=5)\n",
    "    )\n",
    "])\n",
    "\n",
    "fig.update_layout(\n",
    "    autosize=False,\n",
    "    width=900,\n",
    "    height=900,\n",
    "    title=dict(\n",
    "        text=\"Gradient Descent\",\n",
    "        font=dict(size=25),\n",
    "        x=0.5,\n",
    "        xanchor=\"center\"\n",
    "    ),\n",
    "    scene_camera=camera,\n",
    "    scene=dict(\n",
    "        xaxis=dict(\n",
    "            title=dict(text=\"a\", font=dict(size=font_size + 5)),\n",
    "            tickfont=dict(size=font_size - 2),\n",
    "        ),\n",
    "        yaxis=dict(\n",
    "            title=dict(text=\"b\", font=dict(size=font_size + 5)),\n",
    "            tickfont=dict(size=font_size - 2),\n",
    "        ),\n",
    "        zaxis=dict(\n",
    "            title=dict(text=\"Loss\", font=dict(size=font_size + 5)),\n",
    "            tickfont=dict(size=font_size - 2),\n",
    "        ),\n",
    "        annotations=[\n",
    "            dict(\n",
    "                x=opt_path_a[0],\n",
    "                y=opt_path_b[0],\n",
    "                z=opt_path_loss[0],\n",
    "                text=\"Starting Point\",\n",
    "                textangle=0,\n",
    "                ax=10,\n",
    "                ay=-75,\n",
    "                font=dict(color=\"black\", size=font_size + 4),\n",
    "                arrowcolor=\"black\",\n",
    "                arrowsize=3,\n",
    "                arrowwidth=1,\n",
    "                arrowhead=1\n",
    "            ),\n",
    "            dict(\n",
    "                x=opt_path_a[-1],\n",
    "                y=opt_path_b[-1],\n",
    "                z=opt_path_loss[-1],\n",
    "                text=\"Optimal Point\",\n",
    "                textangle=0,\n",
    "                ax=0,\n",
    "                ay=-75,\n",
    "                font=dict(color=\"black\", size=font_size + 4),\n",
    "                arrowcolor=\"black\",\n",
    "                arrowsize=3,\n",
    "                arrowwidth=1,\n",
    "                arrowhead=1\n",
    "            )\n",
    "        ]\n",
    "    )\n",
    ")\n",
    "\n",
    "fig.write_image(\"imgs/chapter_11/gradient_descent.png\")\n",
    "fig.show()"
   ]
  },
  {
   "cell_type": "code",
   "execution_count": 20,
   "id": "76ad04ae-0988-4717-a399-3f780e4ed7a6",
   "metadata": {},
   "outputs": [],
   "source": [
    "margin = 50\n",
    "\n",
    "loss_surface = Image.open(\"imgs/chapter_11/loss_surface.png\")\n",
    "w_1, h = loss_surface.size\n",
    "loss_surface = loss_surface.crop((0,0,w_1-90,h))\n",
    "w_1, h = loss_surface.size\n",
    "g_des = Image.open(\"imgs/chapter_11/gradient_descent.png\")\n",
    "w_2, _ = g_des.size\n",
    "\n",
    "new_im = Image.new('RGB', (w_1+w_2+2*margin,h+2*margin), (250,250,250))\n",
    "\n",
    "new_im.paste(loss_surface, (margin,margin))\n",
    "new_im.paste(g_des, (w_1,margin))\n",
    "\n",
    "new_im.save(\"imgs/chapter_11/loss_surface_descent.png\", format=\"png\")"
   ]
  },
  {
   "cell_type": "code",
   "execution_count": null,
   "id": "f4bb588e-a40e-4de1-b19a-d812d5fe9d40",
   "metadata": {},
   "outputs": [],
   "source": []
  },
  {
   "cell_type": "code",
   "execution_count": null,
   "id": "22e95cd1-cc4a-42ab-b11e-fa5bb4ec09c1",
   "metadata": {},
   "outputs": [],
   "source": []
  },
  {
   "cell_type": "code",
   "execution_count": null,
   "id": "5969b524-a4c7-453b-a6f2-64b217bbb329",
   "metadata": {},
   "outputs": [],
   "source": []
  }
 ],
 "metadata": {
  "kernelspec": {
   "display_name": "Python (MTSP)",
   "language": "python",
   "name": "mtsp"
  },
  "language_info": {
   "codemirror_mode": {
    "name": "ipython",
    "version": 3
   },
   "file_extension": ".py",
   "mimetype": "text/x-python",
   "name": "python",
   "nbconvert_exporter": "python",
   "pygments_lexer": "ipython3",
   "version": "3.10.18"
  }
 },
 "nbformat": 4,
 "nbformat_minor": 5
}
