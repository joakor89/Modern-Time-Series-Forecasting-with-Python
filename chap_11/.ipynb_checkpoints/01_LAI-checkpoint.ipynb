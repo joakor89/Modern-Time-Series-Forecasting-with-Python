{
 "cells": [
  {
   "cell_type": "markdown",
   "id": "aff299d4-dae5-47b0-a2e2-1fd1bb284888",
   "metadata": {},
   "source": [
    "# Linear Algebra Intuition\n",
    "\n",
    "### Loading Libraries"
   ]
  },
  {
   "cell_type": "code",
   "execution_count": 1,
   "id": "06658d99-6b30-4a12-9596-13a5ff9abed1",
   "metadata": {},
   "outputs": [],
   "source": [
    "# Numerical Computing\n",
    "import numpy as np\n",
    "\n",
    "# Data Manipulation\n",
    "import pandas as pd\n",
    "\n",
    "# Data Visualization\n",
    "import plotly.express as px\n",
    "import plotly.graph_objs as go\n",
    "import matplotlib.pyplot as plt\n",
    "\n",
    "# PyTorch\n",
    "import torch"
   ]
  },
  {
   "cell_type": "code",
   "execution_count": 2,
   "id": "a5308aba-024f-4eed-bafb-c0e611e92cf4",
   "metadata": {},
   "outputs": [],
   "source": [
    "np.random.seed(42)"
   ]
  },
  {
   "cell_type": "markdown",
   "id": "00507a75-d775-42a2-abd6-a1ccb0a25412",
   "metadata": {},
   "source": [
    "### Helper Functions"
   ]
  },
  {
   "cell_type": "code",
   "execution_count": 3,
   "id": "80c65975-d710-4e8e-b3e0-108a7fae3226",
   "metadata": {},
   "outputs": [],
   "source": [
    "def sample_grid(M=500, x_max=2.0):\n",
    "    ii, jj = torch.meshgrid(torch.linspace(-x_max, x_max, M,),\n",
    "                          torch.linspace(-x_max, x_max, M))\n",
    "    X_all = torch.cat([ii.unsqueeze(-1),\n",
    "                     jj.unsqueeze(-1)],\n",
    "                     dim=-1).view(-1, 2)\n",
    "    return X_all\n",
    "\n",
    "# This function assigns a unique color based on position\n",
    "def colorizer(x, y):\n",
    "    \"\"\"\n",
    "    Map x-y coordinates to a rgb color\n",
    "    \"\"\"\n",
    "    r = min(1, 1-y/3)\n",
    "    g = min(1, 1+y/3)\n",
    "    b = 1/4 + x/16\n",
    "    return (r, g, b)"
   ]
  },
  {
   "cell_type": "code",
   "execution_count": 4,
   "id": "1dbfc46e-17e5-42d3-8441-68f8874235e8",
   "metadata": {},
   "outputs": [],
   "source": [
    "def plot_vector_points(vector_points, names, title=\"Vectors\", width=600, height=600, font_size=15, axis_range = [-1,1]):\n",
    "    layout1= go.Layout(title=go.layout.Title(text=title,x=0.5),\n",
    "            xaxis={'title':'x', 'range':axis_range},\n",
    "            yaxis={'title':'y','range':axis_range})\n",
    "    point_plots = []\n",
    "    for (x,y), name in zip(vector_points, names):\n",
    "        point_plot=[\n",
    "          go.Scatter(x=[0,x],\n",
    "                     y=[0,y],\n",
    "                     name=name,\n",
    "                    ),\n",
    "        ]\n",
    "        point_plots += point_plot\n",
    "\n",
    "    fig = go.Figure(data=point_plots, layout=layout1)\n",
    "    fig.update_layout(\n",
    "        autosize=False,\n",
    "        width=width,\n",
    "        height=height,\n",
    "        title_text=title,\n",
    "        titlefont={\"size\": 20},\n",
    "        legend_title=None,\n",
    "        showlegend=False,\n",
    "        yaxis=dict(\n",
    "            titlefont=dict(size=font_size),\n",
    "            tickfont=dict(size=font_size),\n",
    "        ),\n",
    "        xaxis=dict(\n",
    "            titlefont=dict(size=font_size),\n",
    "            tickfont=dict(size=font_size),\n",
    "        )\n",
    "    )\n",
    "    for (x,y), name in zip(vector_points, names):\n",
    "        fig.add_annotation(x=x, y=y, text=f\"{name}-> [{x:.2f}, {y:.2f}]\", font=dict(\n",
    "            size=font_size,\n",
    "            ),\n",
    "        arrowhead=2,\n",
    "        arrowsize=1,\n",
    "        arrowwidth=2,\n",
    "        arrowcolor=\"#636363\",)\n",
    "    return fig\n",
    "\n",
    "def plot_grid(xygrids, titles, colors, figsize=(16,8)):\n",
    "    assert len(xygrids)>1\n",
    "    c = len(xygrids)\n",
    "    fig, axes = plt.subplots(1, c, figsize=figsize, facecolor=\"w\", sharey=True, sharex=True)\n",
    "    # Plot grid points \n",
    "    # plt.figure()\n",
    "    for ax, xygrid, title in zip(axes, xygrids, titles):\n",
    "        ax.scatter(xygrid[:,0], xygrid[:,1], s=36, c=colors, edgecolor=\"none\")\n",
    "        # Set axis limits\n",
    "        ax.grid(True)\n",
    "        # ax1.axis(\"equal\")\n",
    "        ax.set_title(title)\n",
    "        ax.set_aspect('equal')\n",
    "    plt.show()"
   ]
  },
  {
   "cell_type": "code",
   "execution_count": null,
   "id": "6e712c03-ac53-4199-9aaf-410fb7d0217d",
   "metadata": {},
   "outputs": [],
   "source": []
  },
  {
   "cell_type": "code",
   "execution_count": null,
   "id": "7e065675-c527-4aab-bf5a-f2cd9ea2cca9",
   "metadata": {},
   "outputs": [],
   "source": []
  },
  {
   "cell_type": "code",
   "execution_count": null,
   "id": "3382dd0d-0b53-4195-bee4-0bbc4b1d115a",
   "metadata": {},
   "outputs": [],
   "source": []
  },
  {
   "cell_type": "code",
   "execution_count": null,
   "id": "2e88003d-a50b-4e6c-9112-df3b30a91237",
   "metadata": {},
   "outputs": [],
   "source": []
  },
  {
   "cell_type": "code",
   "execution_count": null,
   "id": "8585bd60-8176-461f-8847-ed6d82c8cae0",
   "metadata": {},
   "outputs": [],
   "source": []
  },
  {
   "cell_type": "code",
   "execution_count": null,
   "id": "4f081b7c-ecff-4f83-8ee4-63d5403bd319",
   "metadata": {},
   "outputs": [],
   "source": []
  },
  {
   "cell_type": "code",
   "execution_count": null,
   "id": "283ea9ff-2dfe-4134-987f-10e5bb7deaa0",
   "metadata": {},
   "outputs": [],
   "source": []
  },
  {
   "cell_type": "code",
   "execution_count": null,
   "id": "a2b15745-fb6e-4548-8223-64d31cbf32aa",
   "metadata": {},
   "outputs": [],
   "source": []
  },
  {
   "cell_type": "code",
   "execution_count": null,
   "id": "f3553b24-9f8d-4b93-9e9f-73a573dfb874",
   "metadata": {},
   "outputs": [],
   "source": []
  },
  {
   "cell_type": "code",
   "execution_count": null,
   "id": "e37f16cc-8a47-4923-82c3-8558f4b64647",
   "metadata": {},
   "outputs": [],
   "source": []
  },
  {
   "cell_type": "code",
   "execution_count": null,
   "id": "e3534805-1610-4753-a058-f0216cc52d0a",
   "metadata": {},
   "outputs": [],
   "source": []
  },
  {
   "cell_type": "code",
   "execution_count": null,
   "id": "6119dbbc-70a8-4d5e-ba21-67afff40ef88",
   "metadata": {},
   "outputs": [],
   "source": []
  },
  {
   "cell_type": "code",
   "execution_count": null,
   "id": "9fe5e516-6f82-4ef6-b74d-96e6f5a762f2",
   "metadata": {},
   "outputs": [],
   "source": []
  },
  {
   "cell_type": "code",
   "execution_count": null,
   "id": "9d64d161-b75f-461e-872f-6260564d248b",
   "metadata": {},
   "outputs": [],
   "source": []
  },
  {
   "cell_type": "code",
   "execution_count": null,
   "id": "4de2bb8a-b8f7-435c-b538-a06680a8f104",
   "metadata": {},
   "outputs": [],
   "source": []
  },
  {
   "cell_type": "code",
   "execution_count": null,
   "id": "20ce72aa-cd4f-4a13-81cc-60fdbfee11f1",
   "metadata": {},
   "outputs": [],
   "source": []
  },
  {
   "cell_type": "code",
   "execution_count": null,
   "id": "4ccdfd57-85db-4492-9943-0f6a9fe005c0",
   "metadata": {},
   "outputs": [],
   "source": []
  },
  {
   "cell_type": "code",
   "execution_count": null,
   "id": "12f70cc9-d3ca-4ea7-82d5-aad633c86d18",
   "metadata": {},
   "outputs": [],
   "source": []
  },
  {
   "cell_type": "code",
   "execution_count": null,
   "id": "0b721ae4-8e3b-4190-83dc-c00af19f96f6",
   "metadata": {},
   "outputs": [],
   "source": []
  },
  {
   "cell_type": "code",
   "execution_count": null,
   "id": "df1a4fa2-7211-48e5-aebd-a7fac23138b4",
   "metadata": {},
   "outputs": [],
   "source": []
  },
  {
   "cell_type": "code",
   "execution_count": null,
   "id": "175ace4f-4f62-486b-a747-6b738446eaa9",
   "metadata": {},
   "outputs": [],
   "source": []
  },
  {
   "cell_type": "code",
   "execution_count": null,
   "id": "cbc13c5f-9ba2-4c25-95a2-54ddd6e9e7f8",
   "metadata": {},
   "outputs": [],
   "source": []
  },
  {
   "cell_type": "code",
   "execution_count": null,
   "id": "fcebaae2-7658-437e-ae5d-d8d738a8837a",
   "metadata": {},
   "outputs": [],
   "source": []
  },
  {
   "cell_type": "code",
   "execution_count": null,
   "id": "a242d4c4-9817-4604-9cd7-01d6402b1919",
   "metadata": {},
   "outputs": [],
   "source": []
  },
  {
   "cell_type": "code",
   "execution_count": null,
   "id": "3805f390-9f07-40b3-8710-14532c8ceac8",
   "metadata": {},
   "outputs": [],
   "source": []
  },
  {
   "cell_type": "code",
   "execution_count": null,
   "id": "8154129c-2894-4e10-9fac-8fdbf4d5c706",
   "metadata": {},
   "outputs": [],
   "source": []
  },
  {
   "cell_type": "code",
   "execution_count": null,
   "id": "ce1d3249-8233-4afa-83ae-8e4e6436c38c",
   "metadata": {},
   "outputs": [],
   "source": []
  },
  {
   "cell_type": "code",
   "execution_count": null,
   "id": "18c11fae-49ec-43a0-8025-a0a394dd8fc7",
   "metadata": {},
   "outputs": [],
   "source": []
  },
  {
   "cell_type": "code",
   "execution_count": null,
   "id": "4390508c-de44-4d12-b725-fa1f781876c0",
   "metadata": {},
   "outputs": [],
   "source": []
  }
 ],
 "metadata": {
  "kernelspec": {
   "display_name": "Python (MTSP)",
   "language": "python",
   "name": "mtsp"
  },
  "language_info": {
   "codemirror_mode": {
    "name": "ipython",
    "version": 3
   },
   "file_extension": ".py",
   "mimetype": "text/x-python",
   "name": "python",
   "nbconvert_exporter": "python",
   "pygments_lexer": "ipython3",
   "version": "3.10.18"
  }
 },
 "nbformat": 4,
 "nbformat_minor": 5
}
