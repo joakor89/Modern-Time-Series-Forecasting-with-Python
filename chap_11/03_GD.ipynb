{
 "cells": [
  {
   "cell_type": "markdown",
   "id": "a0e6a86e-3562-4cf9-b619-162982c73fa4",
   "metadata": {},
   "source": [
    "# Gradient Descend\n",
    "\n",
    "### Loading Libraries"
   ]
  },
  {
   "cell_type": "code",
   "execution_count": 1,
   "id": "a3a476ab-efd9-4afb-84bb-9548b39682d7",
   "metadata": {},
   "outputs": [
    {
     "name": "stdout",
     "output_type": "stream",
     "text": [
      "/Users/joaquinromero/Desktop\n"
     ]
    }
   ],
   "source": [
    "%cd ../.."
   ]
  },
  {
   "cell_type": "code",
   "execution_count": 2,
   "id": "24b26390-0bb9-4f95-8ad7-175c5b182fff",
   "metadata": {},
   "outputs": [],
   "source": [
    "# Numerical Computing\n",
    "import numpy as np\n",
    "\n",
    "# OS\n",
    "import os\n",
    "\n",
    "# Data Visualization\n",
    "import plotly.express as px\n",
    "import plotly.graph_objects as go\n",
    "\n",
    "# Copy\n",
    "from copy import deepcopy"
   ]
  },
  {
   "cell_type": "code",
   "execution_count": 3,
   "id": "a25acf07-6801-4020-a8f8-7f4687af1eea",
   "metadata": {},
   "outputs": [],
   "source": [
    "np.random.seed(42)"
   ]
  },
  {
   "cell_type": "code",
   "execution_count": 4,
   "id": "b82933ed-e691-421f-a40f-611af1ba61e2",
   "metadata": {},
   "outputs": [],
   "source": [
    "os.makedirs(\"imgs/chapter_11\", exist_ok=True)"
   ]
  },
  {
   "cell_type": "code",
   "execution_count": 5,
   "id": "c365a726-b982-4a59-9c92-094ec768e47d",
   "metadata": {},
   "outputs": [],
   "source": [
    "mesh_size = 1\n",
    "\n",
    "font_size=14"
   ]
  },
  {
   "cell_type": "markdown",
   "id": "98cd9e6b-35a3-45a4-a93d-c58857d525d6",
   "metadata": {},
   "source": [
    "### Loss Function"
   ]
  },
  {
   "cell_type": "code",
   "execution_count": 6,
   "id": "1196e845-8a78-444b-a335-08577ed199c2",
   "metadata": {},
   "outputs": [],
   "source": [
    "def loss_function(a,b):\n",
    "    return (a-8)**2 + (b-2)**2"
   ]
  },
  {
   "cell_type": "markdown",
   "id": "bf2225b9-9866-4d90-9aa2-4f36aa0b6a2b",
   "metadata": {},
   "source": [
    "### Plotting Function"
   ]
  },
  {
   "cell_type": "code",
   "execution_count": 8,
   "id": "be1ac827-a4ea-4295-8681-0c7e0b3d3185",
   "metadata": {},
   "outputs": [],
   "source": [
    "# # Create a mesh grid on which we will run our model\n",
    "# a_min, a_max = -30, 30\n",
    "# b_min, b_max = -30, 30\n",
    "# arange = np.arange(a_min, a_max, mesh_size)\n",
    "# brange = np.arange(b_min, b_max, mesh_size)\n",
    "# aa, bb = np.meshgrid(arange, brange)\n",
    "# loss = loss_function(aa, bb)\n",
    "\n",
    "# fig = go.Figure(\n",
    "#     data=[go.Surface(x=arange, y=brange, z=loss, name=\"Loss\", colorscale=\"dense\")]\n",
    "# )\n",
    "# camera = dict(\n",
    "#     up=dict(x=0, y=0, z=1),\n",
    "#     center=dict(x=0, y=0, z=0),\n",
    "#     eye=dict(x=-1.2, y=1.5, z=1.8)\n",
    "# )\n",
    "# fig.update_layout(\n",
    "#     autosize=False,\n",
    "#     width=900,\n",
    "#     height=900,\n",
    "#     title_text=r\"$\\LARGE{\\text{Loss Surface for }\\mathcal{L}(a,b) = (a-8)^2 + (b-2)^2}$\",\n",
    "#     titlefont={\"size\": 20},\n",
    "#     title_x=0.5,\n",
    "#     scene_camera=camera,\n",
    "#     scene=dict(\n",
    "#         xaxis_title=\"a\",\n",
    "#         yaxis_title=\"b\",\n",
    "#         zaxis_title=\"Loss\",\n",
    "#         yaxis=dict(\n",
    "#             titlefont=dict(size=font_size+5),\n",
    "#             tickfont=dict(size=font_size-2),\n",
    "#         ),\n",
    "#         xaxis=dict(\n",
    "#             titlefont=dict(size=font_size+5),\n",
    "#             tickfont=dict(size=font_size-2),\n",
    "#         ),\n",
    "#         zaxis=dict(\n",
    "#             titlefont=dict(size=font_size+5),\n",
    "#             tickfont=dict(size=font_size-2),\n",
    "#         ),\n",
    "#     ),\n",
    "# )\n",
    "# fig.write_image(\"imgs/chapter_11/loss_surface.png\")\n",
    "# fig.show()"
   ]
  },
  {
   "cell_type": "code",
   "execution_count": 12,
   "id": "2422ae28-4432-4c9a-be10-6829a74da7ce",
   "metadata": {},
   "outputs": [
    {
     "data": {
      "application/vnd.plotly.v1+json": {
       "config": {
        "plotlyServerURL": "https://plot.ly"
       },
       "data": [
        {
         "colorscale": [
          [
           0,
           "rgb(230, 240, 240)"
          ],
          [
           0.09090909090909091,
           "rgb(191, 221, 229)"
          ],
          [
           0.18181818181818182,
           "rgb(156, 201, 226)"
          ],
          [
           0.2727272727272727,
           "rgb(129, 180, 227)"
          ],
          [
           0.36363636363636365,
           "rgb(115, 154, 228)"
          ],
          [
           0.45454545454545453,
           "rgb(117, 127, 221)"
          ],
          [
           0.5454545454545454,
           "rgb(120, 100, 202)"
          ],
          [
           0.6363636363636364,
           "rgb(119, 74, 175)"
          ],
          [
           0.7272727272727273,
           "rgb(113, 50, 141)"
          ],
          [
           0.8181818181818182,
           "rgb(100, 31, 104)"
          ],
          [
           0.9090909090909091,
           "rgb(80, 20, 66)"
          ],
          [
           1,
           "rgb(54, 14, 36)"
          ]
         ],
         "name": "Loss",
         "type": "surface",
         "x": {
          "bdata": "4uPk5ebn6Onq6+zt7u/w8fLz9PX29/j5+vv8/f7/AAECAwQFBgcICQoLDA0ODxAREhMUFRYXGBkaGxwd",
          "dtype": "i1"
         },
         "y": {
          "bdata": "4uPk5ebn6Onq6+zt7u/w8fLz9PX29/j5+vv8/f7/AAECAwQFBgcICQoLDA0ODxAREhMUFRYXGBkaGxwd",
          "dtype": "i1"
         },
         "z": {
          "bdata": "pAlZCRAJyQiECEEIAAjBB4QHSQcQB9kGpAZxBkAGEQbkBbkFkAVpBUQFIQUABeEExASpBJAEeQRkBFEEQAQxBCQEGQQQBAkEBAQBBAAEAQQEBAkEEAQZBCQEMQRABFEEZAR5BJAEqQTEBOEEAAUhBUQFaQWQBbkFZQkaCdEIighFCAIIwQeCB0UHCgfRBpoGZQYyBgEG0gWlBXoFUQUqBQUF4gTBBKIEhQRqBFEEOgQlBBIEAQTyA+UD2gPRA8oDxQPCA8EDwgPFA8oD0QPaA+UD8gMBBBIEJQQ6BFEEagSFBKIEwQTiBAUFKgVRBXoFKAndCJQITQgICMUHhAdFBwgHzQaUBl0GKAb1BcQFlQVoBT0FFAXtBMgEpQSEBGUESAQtBBQE/QPoA9UDxAO1A6gDnQOUA40DiAOFA4QDhQOIA40DlAOdA6gDtQPEA9UD6AP9AxQELQRIBGUEhASlBMgE7QQUBT0F7QiiCFkIEgjNB4oHSQcKB80GkgZZBiIG7QW6BYkFWgUtBQIF2QSyBI0EagRJBCoEDQTyA9kDwgOtA5oDiQN6A20DYgNZA1IDTQNKA0kDSgNNA1IDWQNiA20DegOJA5oDrQPCA9kD8gMNBCoESQRqBI0EsgTZBAIFtAhpCCAI2QeUB1EHEAfRBpQGWQYgBukFtAWBBVAFIQX0BMkEoAR5BFQEMQQQBPED1AO5A6ADiQN0A2EDUANBAzQDKQMgAxkDFAMRAxADEQMUAxkDIAMpAzQDQQNQA2EDdAOJA6ADuQPUA/EDEAQxBFQEeQSgBMkEfQgyCOkHogddBxoH2QaaBl0GIgbpBbIFfQVKBRkF6gS9BJIEaQRCBB0E+gPZA7oDnQOCA2kDUgM9AyoDGQMKA/0C8gLpAuIC3QLaAtkC2gLdAuIC6QLyAv0CCgMZAyoDPQNSA2kDggOdA7oD2QP6Ax0EQgRpBJIESAj9B7QHbQcoB+UGpAZlBigG7QW0BX0FSAUVBeQEtQSIBF0ENAQNBOgDxQOkA4UDaANNAzQDHQMIA/UC5ALVAsgCvQK0Aq0CqAKlAqQCpQKoAq0CtAK9AsgC1QLkAvUCCAMdAzQDTQNoA4UDpAPFA+gDDQQ0BF0EFQjKB4EHOgf1BrIGcQYyBvUFugWBBUoFFQXiBLEEggRVBCoEAQTaA7UDkgNxA1IDNQMaAwED6gLVAsICsQKiApUCigKBAnoCdQJyAnECcgJ1AnoCgQKKApUCogKxAsIC1QLqAgEDGgM1A1IDcQOSA7UD2gMBBCoE5AeZB1AHCQfEBoEGQAYBBsQFiQVQBRkF5ASxBIAEUQQkBPkD0AOpA4QDYQNAAyEDBAPpAtACuQKkApECgAJxAmQCWQJQAkkCRAJBAkACQQJEAkkCUAJZAmQCcQKAApECpAK5AtAC6QIEAyEDQANhA4QDqQPQA/kDtQdqByEH2gaVBlIGEQbSBZUFWgUhBeoEtQSCBFEEIgT1A8oDoQN6A1UDMgMRA/IC1QK6AqECigJ1AmICUQJCAjUCKgIhAhoCFQISAhECEgIVAhoCIQIqAjUCQgJRAmICdQKKAqECugLVAvICEQMyA1UDegOhA8oDiAc9B/QGrQZoBiUG5AWlBWgFLQX0BL0EiARVBCQE9QPIA50DdANNAygDBQPkAsUCqAKNAnQCXQJIAjUCJAIVAggC/QH0Ae0B6AHlAeQB5QHoAe0B9AH9AQgCFQIkAjUCSAJdAnQCjQKoAsUC5AIFAygDTQN0A50DXQcSB8kGggY9BvoFuQV6BT0FAgXJBJIEXQQqBPkDygOdA3IDSQMiA/0C2gK5ApoCfQJiAkkCMgIdAgoC+QHqAd0B0gHJAcIBvQG6AbkBugG9AcIByQHSAd0B6gH5AQoCHQIyAkkCYgJ9ApoCuQLaAv0CIgNJA3IDNAfpBqAGWQYUBtEFkAVRBRQF2QSgBGkENAQBBNADoQN0A0kDIAP5AtQCsQKQAnECVAI5AiACCQL0AeEB0AHBAbQBqQGgAZkBlAGRAZABkQGUAZkBoAGpAbQBwQHQAeEB9AEJAiACOQJUAnECkAKxAtQC+QIgA0kDDQfCBnkGMgbtBaoFaQUqBe0EsgR5BEIEDQTaA6kDegNNAyID+QLSAq0CigJpAkoCLQISAvkB4gHNAboBqQGaAY0BggF5AXIBbQFqAWkBagFtAXIBeQGCAY0BmgGpAboBzQHiAfkBEgItAkoCaQKKAq0C0gL5AiID6AadBlQGDQbIBYUFRAUFBcgEjQRUBB0E6AO1A4QDVQMoA/0C1AKtAogCZQJEAiUCCALtAdQBvQGoAZUBhAF1AWgBXQFUAU0BSAFFAUQBRQFIAU0BVAFdAWgBdQGEAZUBqAG9AdQB7QEIAiUCRAJlAogCrQLUAv0CxQZ6BjEG6gWlBWIFIQXiBKUEagQxBPoDxQOSA2EDMgMFA9oCsQKKAmUCQgIhAgIC5QHKAbEBmgGFAXIBYQFSAUUBOgExASoBJQEiASEBIgElASoBMQE6AUUBUgFhAXIBhQGaAbEBygHlAQICIQJCAmUCigKxAtoCpAZZBhAGyQWEBUEFAAXBBIQESQQQBNkDpANxA0ADEQPkArkCkAJpAkQCIQIAAuEBxAGpAZABeQFkAVEBQAExASQBGQEQAQkBBAEBAQABAQEEAQkBEAEZASQBMQFAAVEBZAF5AZABqQHEAeEBAAIhAkQCaQKQArkChQY6BvEFqgVlBSIF4QSiBGUEKgTxA7oDhQNSAyED8gLFApoCcQJKAiUCAgLhAcIBpQGKAXEBWgFFATIBIQESAQUB+gDxAOoA5QDiAOEA4gDlAOoA8QD6AAUBEgEhATIBRQFaAXEBigGlAcIB4QECAiUCSgJxApoCaAYdBtQFjQVIBQUFxASFBEgEDQTUA50DaAM1AwQD1QKoAn0CVAItAggC5QHEAaUBiAFtAVQBPQEoARUBBAH1AOgA3QDUAM0AyADFAMQAxQDIAM0A1ADdAOgA9QAEARUBKAE9AVQBbQGIAaUBxAHlAQgCLQJUAn0CTQYCBrkFcgUtBeoEqQRqBC0E8gO5A4IDTQMaA+kCugKNAmICOQISAu0BygGpAYoBbQFSATkBIgENAfoA6QDaAM0AwgC5ALIArQCqAKkAqgCtALIAuQDCAM0A2gDpAPoADQEiATkBUgFtAYoBqQHKAe0BEgI5AmICNAbpBaAFWQUUBdEEkARRBBQE2QOgA2kDNAMBA9ACoQJ0AkkCIAL5AdQBsQGQAXEBVAE5ASABCQH0AOEA0ADBALQAqQCgAJkAlACRAJAAkQCUAJkAoACpALQAwQDQAOEA9AAJASABOQFUAXEBkAGxAdQB+QEgAkkCHQbSBYkFQgX9BLoEeQQ6BP0DwgOJA1IDHQPqArkCigJdAjICCQLiAb0BmgF5AVoBPQEiAQkB8gDdAMoAuQCqAJ0AkgCJAIIAfQB6AHkAegB9AIIAiQCSAJ0AqgC5AMoA3QDyAAkBIgE9AVoBeQGaAb0B4gEJAjICCAa9BXQFLQXoBKUEZAQlBOgDrQN0Az0DCAPVAqQCdQJIAh0C9AHNAagBhQFkAUUBKAENAfQA3QDIALUApACVAIgAfQB0AG0AaABlAGQAZQBoAG0AdAB9AIgAlQCkALUAyADdAPQADQEoAUUBZAGFAagBzQH0AR0C9QWqBWEFGgXVBJIEUQQSBNUDmgNhAyoD9QLCApECYgI1AgoC4QG6AZUBcgFRATIBFQH6AOEAygC1AKIAkQCCAHUAagBhAFoAVQBSAFEAUgBVAFoAYQBqAHUAggCRAKIAtQDKAOEA+gAVATIBUQFyAZUBugHhAQoC5AWZBVAFCQXEBIEEQAQBBMQDiQNQAxkD5AKxAoACUQIkAvkB0AGpAYQBYQFAASEBBAHpANAAuQCkAJEAgABxAGQAWQBQAEkARABBAEAAQQBEAEkAUABZAGQAcQCAAJEApAC5ANAA6QAEASEBQAFhAYQBqQHQAfkB1QWKBUEF+gS1BHIEMQTyA7UDegNBAwoD1QKiAnECQgIVAuoBwQGaAXUBUgExARIB9QDaAMEAqgCVAIIAcQBiAFUASgBBADoANQAyADEAMgA1ADoAQQBKAFUAYgBxAIIAlQCqAMEA2gD1ABIBMQFSAXUBmgHBAeoByAV9BTQF7QSoBGUEJATlA6gDbQM0A/0CyAKVAmQCNQIIAt0BtAGNAWgBRQEkAQUB6ADNALQAnQCIAHUAZABVAEgAPQA0AC0AKAAlACQAJQAoAC0ANAA9AEgAVQBkAHUAiACdALQAzQDoAAUBJAFFAWgBjQG0Ad0BvQVyBSkF4gSdBFoEGQTaA50DYgMpA/ICvQKKAlkCKgL9AdIBqQGCAV0BOgEZAfoA3QDCAKkAkgB9AGoAWQBKAD0AMgApACIAHQAaABkAGgAdACIAKQAyAD0ASgBZAGoAfQCSAKkAwgDdAPoAGQE6AV0BggGpAdIBtAVpBSAF2QSUBFEEEATRA5QDWQMgA+kCtAKBAlACIQL0AckBoAF5AVQBMQEQAfEA1AC5AKAAiQB0AGEAUABBADQAKQAgABkAFAARABAAEQAUABkAIAApADQAQQBQAGEAdACJAKAAuQDUAPEAEAExAVQBeQGgAckBrQViBRkF0gSNBEoECQTKA40DUgMZA+ICrQJ6AkkCGgLtAcIBmQFyAU0BKgEJAeoAzQCyAJkAggBtAFoASQA6AC0AIgAZABIADQAKAAkACgANABIAGQAiAC0AOgBJAFoAbQCCAJkAsgDNAOoACQEqAU0BcgGZAcIBqAVdBRQFzQSIBEUEBATFA4gDTQMUA90CqAJ1AkQCFQLoAb0BlAFtAUgBJQEEAeUAyACtAJQAfQBoAFUARAA1ACgAHQAUAA0ACAAFAAQABQAIAA0AFAAdACgANQBEAFUAaAB9AJQArQDIAOUABAElAUgBbQGUAb0BpQVaBREFygSFBEIEAQTCA4UDSgMRA9oCpQJyAkECEgLlAboBkQFqAUUBIgEBAeIAxQCqAJEAegBlAFIAQQAyACUAGgARAAoABQACAAEAAgAFAAoAEQAaACUAMgBBAFIAZQB6AJEAqgDFAOIAAQEiAUUBagGRAboBpAVZBRAFyQSEBEEEAATBA4QDSQMQA9kCpAJxAkACEQLkAbkBkAFpAUQBIQEAAeEAxACpAJAAeQBkAFEAQAAxACQAGQAQAAkABAABAAAAAQAEAAkAEAAZACQAMQBAAFEAZAB5AJAAqQDEAOEAAAEhAUQBaQGQAbkBpQVaBREFygSFBEIEAQTCA4UDSgMRA9oCpQJyAkECEgLlAboBkQFqAUUBIgEBAeIAxQCqAJEAegBlAFIAQQAyACUAGgARAAoABQACAAEAAgAFAAoAEQAaACUAMgBBAFIAZQB6AJEAqgDFAOIAAQEiAUUBagGRAboBqAVdBRQFzQSIBEUEBATFA4gDTQMUA90CqAJ1AkQCFQLoAb0BlAFtAUgBJQEEAeUAyACtAJQAfQBoAFUARAA1ACgAHQAUAA0ACAAFAAQABQAIAA0AFAAdACgANQBEAFUAaAB9AJQArQDIAOUABAElAUgBbQGUAb0BrQViBRkF0gSNBEoECQTKA40DUgMZA+ICrQJ6AkkCGgLtAcIBmQFyAU0BKgEJAeoAzQCyAJkAggBtAFoASQA6AC0AIgAZABIADQAKAAkACgANABIAGQAiAC0AOgBJAFoAbQCCAJkAsgDNAOoACQEqAU0BcgGZAcIBtAVpBSAF2QSUBFEEEATRA5QDWQMgA+kCtAKBAlACIQL0AckBoAF5AVQBMQEQAfEA1AC5AKAAiQB0AGEAUABBADQAKQAgABkAFAARABAAEQAUABkAIAApADQAQQBQAGEAdACJAKAAuQDUAPEAEAExAVQBeQGgAckBvQVyBSkF4gSdBFoEGQTaA50DYgMpA/ICvQKKAlkCKgL9AdIBqQGCAV0BOgEZAfoA3QDCAKkAkgB9AGoAWQBKAD0AMgApACIAHQAaABkAGgAdACIAKQAyAD0ASgBZAGoAfQCSAKkAwgDdAPoAGQE6AV0BggGpAdIByAV9BTQF7QSoBGUEJATlA6gDbQM0A/0CyAKVAmQCNQIIAt0BtAGNAWgBRQEkAQUB6ADNALQAnQCIAHUAZABVAEgAPQA0AC0AKAAlACQAJQAoAC0ANAA9AEgAVQBkAHUAiACdALQAzQDoAAUBJAFFAWgBjQG0Ad0B1QWKBUEF+gS1BHIEMQTyA7UDegNBAwoD1QKiAnECQgIVAuoBwQGaAXUBUgExARIB9QDaAMEAqgCVAIIAcQBiAFUASgBBADoANQAyADEAMgA1ADoAQQBKAFUAYgBxAIIAlQCqAMEA2gD1ABIBMQFSAXUBmgHBAeoB5AWZBVAFCQXEBIEEQAQBBMQDiQNQAxkD5AKxAoACUQIkAvkB0AGpAYQBYQFAASEBBAHpANAAuQCkAJEAgABxAGQAWQBQAEkARABBAEAAQQBEAEkAUABZAGQAcQCAAJEApAC5ANAA6QAEASEBQAFhAYQBqQHQAfkB9QWqBWEFGgXVBJIEUQQSBNUDmgNhAyoD9QLCApECYgI1AgoC4QG6AZUBcgFRATIBFQH6AOEAygC1AKIAkQCCAHUAagBhAFoAVQBSAFEAUgBVAFoAYQBqAHUAggCRAKIAtQDKAOEA+gAVATIBUQFyAZUBugHhAQoCCAa9BXQFLQXoBKUEZAQlBOgDrQN0Az0DCAPVAqQCdQJIAh0C9AHNAagBhQFkAUUBKAENAfQA3QDIALUApACVAIgAfQB0AG0AaABlAGQAZQBoAG0AdAB9AIgAlQCkALUAyADdAPQADQEoAUUBZAGFAagBzQH0AR0CHQbSBYkFQgX9BLoEeQQ6BP0DwgOJA1IDHQPqArkCigJdAjICCQLiAb0BmgF5AVoBPQEiAQkB8gDdAMoAuQCqAJ0AkgCJAIIAfQB6AHkAegB9AIIAiQCSAJ0AqgC5AMoA3QDyAAkBIgE9AVoBeQGaAb0B4gEJAjICNAbpBaAFWQUUBdEEkARRBBQE2QOgA2kDNAMBA9ACoQJ0AkkCIAL5AdQBsQGQAXEBVAE5ASABCQH0AOEA0ADBALQAqQCgAJkAlACRAJAAkQCUAJkAoACpALQAwQDQAOEA9AAJASABOQFUAXEBkAGxAdQB+QEgAkkCTQYCBrkFcgUtBeoEqQRqBC0E8gO5A4IDTQMaA+kCugKNAmICOQISAu0BygGpAYoBbQFSATkBIgENAfoA6QDaAM0AwgC5ALIArQCqAKkAqgCtALIAuQDCAM0A2gDpAPoADQEiATkBUgFtAYoBqQHKAe0BEgI5AmICaAYdBtQFjQVIBQUFxASFBEgEDQTUA50DaAM1AwQD1QKoAn0CVAItAggC5QHEAaUBiAFtAVQBPQEoARUBBAH1AOgA3QDUAM0AyADFAMQAxQDIAM0A1ADdAOgA9QAEARUBKAE9AVQBbQGIAaUBxAHlAQgCLQJUAn0ChQY6BvEFqgVlBSIF4QSiBGUEKgTxA7oDhQNSAyED8gLFApoCcQJKAiUCAgLhAcIBpQGKAXEBWgFFATIBIQESAQUB+gDxAOoA5QDiAOEA4gDlAOoA8QD6AAUBEgEhATIBRQFaAXEBigGlAcIB4QECAiUCSgJxApoCpAZZBhAGyQWEBUEFAAXBBIQESQQQBNkDpANxA0ADEQPkArkCkAJpAkQCIQIAAuEBxAGpAZABeQFkAVEBQAExASQBGQEQAQkBBAEBAQABAQEEAQkBEAEZASQBMQFAAVEBZAF5AZABqQHEAeEBAAIhAkQCaQKQArkCxQZ6BjEG6gWlBWIFIQXiBKUEagQxBPoDxQOSA2EDMgMFA9oCsQKKAmUCQgIhAgIC5QHKAbEBmgGFAXIBYQFSAUUBOgExASoBJQEiASEBIgElASoBMQE6AUUBUgFhAXIBhQGaAbEBygHlAQICIQJCAmUCigKxAtoC6AadBlQGDQbIBYUFRAUFBcgEjQRUBB0E6AO1A4QDVQMoA/0C1AKtAogCZQJEAiUCCALtAdQBvQGoAZUBhAF1AWgBXQFUAU0BSAFFAUQBRQFIAU0BVAFdAWgBdQGEAZUBqAG9AdQB7QEIAiUCRAJlAogCrQLUAv0CDQfCBnkGMgbtBaoFaQUqBe0EsgR5BEIEDQTaA6kDegNNAyID+QLSAq0CigJpAkoCLQISAvkB4gHNAboBqQGaAY0BggF5AXIBbQFqAWkBagFtAXIBeQGCAY0BmgGpAboBzQHiAfkBEgItAkoCaQKKAq0C0gL5AiIDNAfpBqAGWQYUBtEFkAVRBRQF2QSgBGkENAQBBNADoQN0A0kDIAP5AtQCsQKQAnECVAI5AiACCQL0AeEB0AHBAbQBqQGgAZkBlAGRAZABkQGUAZkBoAGpAbQBwQHQAeEB9AEJAiACOQJUAnECkAKxAtQC+QIgA0kDXQcSB8kGggY9BvoFuQV6BT0FAgXJBJIEXQQqBPkDygOdA3IDSQMiA/0C2gK5ApoCfQJiAkkCMgIdAgoC+QHqAd0B0gHJAcIBvQG6AbkBugG9AcIByQHSAd0B6gH5AQoCHQIyAkkCYgJ9ApoCuQLaAv0CIgNJA3IDiAc9B/QGrQZoBiUG5AWlBWgFLQX0BL0EiARVBCQE9QPIA50DdANNAygDBQPkAsUCqAKNAnQCXQJIAjUCJAIVAggC/QH0Ae0B6AHlAeQB5QHoAe0B9AH9AQgCFQIkAjUCSAJdAnQCjQKoAsUC5AIFAygDTQN0A50DtQdqByEH2gaVBlIGEQbSBZUFWgUhBeoEtQSCBFEEIgT1A8oDoQN6A1UDMgMRA/IC1QK6AqECigJ1AmICUQJCAjUCKgIhAhoCFQISAhECEgIVAhoCIQIqAjUCQgJRAmICdQKKAqECugLVAvICEQMyA1UDegOhA8oD5AeZB1AHCQfEBoEGQAYBBsQFiQVQBRkF5ASxBIAEUQQkBPkD0AOpA4QDYQNAAyEDBAPpAtACuQKkApECgAJxAmQCWQJQAkkCRAJBAkACQQJEAkkCUAJZAmQCcQKAApECpAK5AtAC6QIEAyEDQANhA4QDqQPQA/kDFQjKB4EHOgf1BrIGcQYyBvUFugWBBUoFFQXiBLEEggRVBCoEAQTaA7UDkgNxA1IDNQMaAwED6gLVAsICsQKiApUCigKBAnoCdQJyAnECcgJ1AnoCgQKKApUCogKxAsIC1QLqAgEDGgM1A1IDcQOSA7UD2gMBBCoESAj9B7QHbQcoB+UGpAZlBigG7QW0BX0FSAUVBeQEtQSIBF0ENAQNBOgDxQOkA4UDaANNAzQDHQMIA/UC5ALVAsgCvQK0Aq0CqAKlAqQCpQKoAq0CtAK9AsgC1QLkAvUCCAMdAzQDTQNoA4UDpAPFA+gDDQQ0BF0EfQgyCOkHogddBxoH2QaaBl0GIgbpBbIFfQVKBRkF6gS9BJIEaQRCBB0E+gPZA7oDnQOCA2kDUgM9AyoDGQMKA/0C8gLpAuIC3QLaAtkC2gLdAuIC6QLyAv0CCgMZAyoDPQNSA2kDggOdA7oD2QP6Ax0EQgRpBJIE",
          "dtype": "i2",
          "shape": "60, 60"
         }
        }
       ],
       "layout": {
        "autosize": false,
        "height": 900,
        "scene": {
         "camera": {
          "center": {
           "x": 0,
           "y": 0,
           "z": 0
          },
          "eye": {
           "x": -1.2,
           "y": 1.5,
           "z": 1.8
          },
          "up": {
           "x": 0,
           "y": 0,
           "z": 1
          }
         },
         "xaxis": {
          "tickfont": {
           "size": 12
          },
          "title": {
           "font": {
            "size": 19
           },
           "text": "a"
          }
         },
         "yaxis": {
          "tickfont": {
           "size": 12
          },
          "title": {
           "font": {
            "size": 19
           },
           "text": "b"
          }
         },
         "zaxis": {
          "tickfont": {
           "size": 12
          },
          "title": {
           "font": {
            "size": 19
           },
           "text": "Loss"
          }
         }
        },
        "template": {
         "data": {
          "bar": [
           {
            "error_x": {
             "color": "#2a3f5f"
            },
            "error_y": {
             "color": "#2a3f5f"
            },
            "marker": {
             "line": {
              "color": "#E5ECF6",
              "width": 0.5
             },
             "pattern": {
              "fillmode": "overlay",
              "size": 10,
              "solidity": 0.2
             }
            },
            "type": "bar"
           }
          ],
          "barpolar": [
           {
            "marker": {
             "line": {
              "color": "#E5ECF6",
              "width": 0.5
             },
             "pattern": {
              "fillmode": "overlay",
              "size": 10,
              "solidity": 0.2
             }
            },
            "type": "barpolar"
           }
          ],
          "carpet": [
           {
            "aaxis": {
             "endlinecolor": "#2a3f5f",
             "gridcolor": "white",
             "linecolor": "white",
             "minorgridcolor": "white",
             "startlinecolor": "#2a3f5f"
            },
            "baxis": {
             "endlinecolor": "#2a3f5f",
             "gridcolor": "white",
             "linecolor": "white",
             "minorgridcolor": "white",
             "startlinecolor": "#2a3f5f"
            },
            "type": "carpet"
           }
          ],
          "choropleth": [
           {
            "colorbar": {
             "outlinewidth": 0,
             "ticks": ""
            },
            "type": "choropleth"
           }
          ],
          "contour": [
           {
            "colorbar": {
             "outlinewidth": 0,
             "ticks": ""
            },
            "colorscale": [
             [
              0,
              "#0d0887"
             ],
             [
              0.1111111111111111,
              "#46039f"
             ],
             [
              0.2222222222222222,
              "#7201a8"
             ],
             [
              0.3333333333333333,
              "#9c179e"
             ],
             [
              0.4444444444444444,
              "#bd3786"
             ],
             [
              0.5555555555555556,
              "#d8576b"
             ],
             [
              0.6666666666666666,
              "#ed7953"
             ],
             [
              0.7777777777777778,
              "#fb9f3a"
             ],
             [
              0.8888888888888888,
              "#fdca26"
             ],
             [
              1,
              "#f0f921"
             ]
            ],
            "type": "contour"
           }
          ],
          "contourcarpet": [
           {
            "colorbar": {
             "outlinewidth": 0,
             "ticks": ""
            },
            "type": "contourcarpet"
           }
          ],
          "heatmap": [
           {
            "colorbar": {
             "outlinewidth": 0,
             "ticks": ""
            },
            "colorscale": [
             [
              0,
              "#0d0887"
             ],
             [
              0.1111111111111111,
              "#46039f"
             ],
             [
              0.2222222222222222,
              "#7201a8"
             ],
             [
              0.3333333333333333,
              "#9c179e"
             ],
             [
              0.4444444444444444,
              "#bd3786"
             ],
             [
              0.5555555555555556,
              "#d8576b"
             ],
             [
              0.6666666666666666,
              "#ed7953"
             ],
             [
              0.7777777777777778,
              "#fb9f3a"
             ],
             [
              0.8888888888888888,
              "#fdca26"
             ],
             [
              1,
              "#f0f921"
             ]
            ],
            "type": "heatmap"
           }
          ],
          "histogram": [
           {
            "marker": {
             "pattern": {
              "fillmode": "overlay",
              "size": 10,
              "solidity": 0.2
             }
            },
            "type": "histogram"
           }
          ],
          "histogram2d": [
           {
            "colorbar": {
             "outlinewidth": 0,
             "ticks": ""
            },
            "colorscale": [
             [
              0,
              "#0d0887"
             ],
             [
              0.1111111111111111,
              "#46039f"
             ],
             [
              0.2222222222222222,
              "#7201a8"
             ],
             [
              0.3333333333333333,
              "#9c179e"
             ],
             [
              0.4444444444444444,
              "#bd3786"
             ],
             [
              0.5555555555555556,
              "#d8576b"
             ],
             [
              0.6666666666666666,
              "#ed7953"
             ],
             [
              0.7777777777777778,
              "#fb9f3a"
             ],
             [
              0.8888888888888888,
              "#fdca26"
             ],
             [
              1,
              "#f0f921"
             ]
            ],
            "type": "histogram2d"
           }
          ],
          "histogram2dcontour": [
           {
            "colorbar": {
             "outlinewidth": 0,
             "ticks": ""
            },
            "colorscale": [
             [
              0,
              "#0d0887"
             ],
             [
              0.1111111111111111,
              "#46039f"
             ],
             [
              0.2222222222222222,
              "#7201a8"
             ],
             [
              0.3333333333333333,
              "#9c179e"
             ],
             [
              0.4444444444444444,
              "#bd3786"
             ],
             [
              0.5555555555555556,
              "#d8576b"
             ],
             [
              0.6666666666666666,
              "#ed7953"
             ],
             [
              0.7777777777777778,
              "#fb9f3a"
             ],
             [
              0.8888888888888888,
              "#fdca26"
             ],
             [
              1,
              "#f0f921"
             ]
            ],
            "type": "histogram2dcontour"
           }
          ],
          "mesh3d": [
           {
            "colorbar": {
             "outlinewidth": 0,
             "ticks": ""
            },
            "type": "mesh3d"
           }
          ],
          "parcoords": [
           {
            "line": {
             "colorbar": {
              "outlinewidth": 0,
              "ticks": ""
             }
            },
            "type": "parcoords"
           }
          ],
          "pie": [
           {
            "automargin": true,
            "type": "pie"
           }
          ],
          "scatter": [
           {
            "fillpattern": {
             "fillmode": "overlay",
             "size": 10,
             "solidity": 0.2
            },
            "type": "scatter"
           }
          ],
          "scatter3d": [
           {
            "line": {
             "colorbar": {
              "outlinewidth": 0,
              "ticks": ""
             }
            },
            "marker": {
             "colorbar": {
              "outlinewidth": 0,
              "ticks": ""
             }
            },
            "type": "scatter3d"
           }
          ],
          "scattercarpet": [
           {
            "marker": {
             "colorbar": {
              "outlinewidth": 0,
              "ticks": ""
             }
            },
            "type": "scattercarpet"
           }
          ],
          "scattergeo": [
           {
            "marker": {
             "colorbar": {
              "outlinewidth": 0,
              "ticks": ""
             }
            },
            "type": "scattergeo"
           }
          ],
          "scattergl": [
           {
            "marker": {
             "colorbar": {
              "outlinewidth": 0,
              "ticks": ""
             }
            },
            "type": "scattergl"
           }
          ],
          "scattermap": [
           {
            "marker": {
             "colorbar": {
              "outlinewidth": 0,
              "ticks": ""
             }
            },
            "type": "scattermap"
           }
          ],
          "scattermapbox": [
           {
            "marker": {
             "colorbar": {
              "outlinewidth": 0,
              "ticks": ""
             }
            },
            "type": "scattermapbox"
           }
          ],
          "scatterpolar": [
           {
            "marker": {
             "colorbar": {
              "outlinewidth": 0,
              "ticks": ""
             }
            },
            "type": "scatterpolar"
           }
          ],
          "scatterpolargl": [
           {
            "marker": {
             "colorbar": {
              "outlinewidth": 0,
              "ticks": ""
             }
            },
            "type": "scatterpolargl"
           }
          ],
          "scatterternary": [
           {
            "marker": {
             "colorbar": {
              "outlinewidth": 0,
              "ticks": ""
             }
            },
            "type": "scatterternary"
           }
          ],
          "surface": [
           {
            "colorbar": {
             "outlinewidth": 0,
             "ticks": ""
            },
            "colorscale": [
             [
              0,
              "#0d0887"
             ],
             [
              0.1111111111111111,
              "#46039f"
             ],
             [
              0.2222222222222222,
              "#7201a8"
             ],
             [
              0.3333333333333333,
              "#9c179e"
             ],
             [
              0.4444444444444444,
              "#bd3786"
             ],
             [
              0.5555555555555556,
              "#d8576b"
             ],
             [
              0.6666666666666666,
              "#ed7953"
             ],
             [
              0.7777777777777778,
              "#fb9f3a"
             ],
             [
              0.8888888888888888,
              "#fdca26"
             ],
             [
              1,
              "#f0f921"
             ]
            ],
            "type": "surface"
           }
          ],
          "table": [
           {
            "cells": {
             "fill": {
              "color": "#EBF0F8"
             },
             "line": {
              "color": "white"
             }
            },
            "header": {
             "fill": {
              "color": "#C8D4E3"
             },
             "line": {
              "color": "white"
             }
            },
            "type": "table"
           }
          ]
         },
         "layout": {
          "annotationdefaults": {
           "arrowcolor": "#2a3f5f",
           "arrowhead": 0,
           "arrowwidth": 1
          },
          "autotypenumbers": "strict",
          "coloraxis": {
           "colorbar": {
            "outlinewidth": 0,
            "ticks": ""
           }
          },
          "colorscale": {
           "diverging": [
            [
             0,
             "#8e0152"
            ],
            [
             0.1,
             "#c51b7d"
            ],
            [
             0.2,
             "#de77ae"
            ],
            [
             0.3,
             "#f1b6da"
            ],
            [
             0.4,
             "#fde0ef"
            ],
            [
             0.5,
             "#f7f7f7"
            ],
            [
             0.6,
             "#e6f5d0"
            ],
            [
             0.7,
             "#b8e186"
            ],
            [
             0.8,
             "#7fbc41"
            ],
            [
             0.9,
             "#4d9221"
            ],
            [
             1,
             "#276419"
            ]
           ],
           "sequential": [
            [
             0,
             "#0d0887"
            ],
            [
             0.1111111111111111,
             "#46039f"
            ],
            [
             0.2222222222222222,
             "#7201a8"
            ],
            [
             0.3333333333333333,
             "#9c179e"
            ],
            [
             0.4444444444444444,
             "#bd3786"
            ],
            [
             0.5555555555555556,
             "#d8576b"
            ],
            [
             0.6666666666666666,
             "#ed7953"
            ],
            [
             0.7777777777777778,
             "#fb9f3a"
            ],
            [
             0.8888888888888888,
             "#fdca26"
            ],
            [
             1,
             "#f0f921"
            ]
           ],
           "sequentialminus": [
            [
             0,
             "#0d0887"
            ],
            [
             0.1111111111111111,
             "#46039f"
            ],
            [
             0.2222222222222222,
             "#7201a8"
            ],
            [
             0.3333333333333333,
             "#9c179e"
            ],
            [
             0.4444444444444444,
             "#bd3786"
            ],
            [
             0.5555555555555556,
             "#d8576b"
            ],
            [
             0.6666666666666666,
             "#ed7953"
            ],
            [
             0.7777777777777778,
             "#fb9f3a"
            ],
            [
             0.8888888888888888,
             "#fdca26"
            ],
            [
             1,
             "#f0f921"
            ]
           ]
          },
          "colorway": [
           "#636efa",
           "#EF553B",
           "#00cc96",
           "#ab63fa",
           "#FFA15A",
           "#19d3f3",
           "#FF6692",
           "#B6E880",
           "#FF97FF",
           "#FECB52"
          ],
          "font": {
           "color": "#2a3f5f"
          },
          "geo": {
           "bgcolor": "white",
           "lakecolor": "white",
           "landcolor": "#E5ECF6",
           "showlakes": true,
           "showland": true,
           "subunitcolor": "white"
          },
          "hoverlabel": {
           "align": "left"
          },
          "hovermode": "closest",
          "mapbox": {
           "style": "light"
          },
          "paper_bgcolor": "white",
          "plot_bgcolor": "#E5ECF6",
          "polar": {
           "angularaxis": {
            "gridcolor": "white",
            "linecolor": "white",
            "ticks": ""
           },
           "bgcolor": "#E5ECF6",
           "radialaxis": {
            "gridcolor": "white",
            "linecolor": "white",
            "ticks": ""
           }
          },
          "scene": {
           "xaxis": {
            "backgroundcolor": "#E5ECF6",
            "gridcolor": "white",
            "gridwidth": 2,
            "linecolor": "white",
            "showbackground": true,
            "ticks": "",
            "zerolinecolor": "white"
           },
           "yaxis": {
            "backgroundcolor": "#E5ECF6",
            "gridcolor": "white",
            "gridwidth": 2,
            "linecolor": "white",
            "showbackground": true,
            "ticks": "",
            "zerolinecolor": "white"
           },
           "zaxis": {
            "backgroundcolor": "#E5ECF6",
            "gridcolor": "white",
            "gridwidth": 2,
            "linecolor": "white",
            "showbackground": true,
            "ticks": "",
            "zerolinecolor": "white"
           }
          },
          "shapedefaults": {
           "line": {
            "color": "#2a3f5f"
           }
          },
          "ternary": {
           "aaxis": {
            "gridcolor": "white",
            "linecolor": "white",
            "ticks": ""
           },
           "baxis": {
            "gridcolor": "white",
            "linecolor": "white",
            "ticks": ""
           },
           "bgcolor": "#E5ECF6",
           "caxis": {
            "gridcolor": "white",
            "linecolor": "white",
            "ticks": ""
           }
          },
          "title": {
           "x": 0.05
          },
          "xaxis": {
           "automargin": true,
           "gridcolor": "white",
           "linecolor": "white",
           "ticks": "",
           "title": {
            "standoff": 15
           },
           "zerolinecolor": "white",
           "zerolinewidth": 2
          },
          "yaxis": {
           "automargin": true,
           "gridcolor": "white",
           "linecolor": "white",
           "ticks": "",
           "title": {
            "standoff": 15
           },
           "zerolinecolor": "white",
           "zerolinewidth": 2
          }
         }
        },
        "title": {
         "font": {
          "size": 20
         },
         "text": "$\\LARGE{\\text{Loss Surface for }\\mathcal{L}(a,b) = (a-8)^2 + (b-2)^2}$",
         "x": 0.5,
         "xanchor": "center"
        },
        "width": 900
       }
      }
     },
     "metadata": {},
     "output_type": "display_data"
    }
   ],
   "source": [
    "import numpy as np\n",
    "import plotly.graph_objects as go\n",
    "\n",
    "# Parámetros\n",
    "a_min, a_max = -30, 30\n",
    "b_min, b_max = -30, 30\n",
    "mesh_size = 1\n",
    "font_size = 14\n",
    "\n",
    "# Grid\n",
    "arange = np.arange(a_min, a_max, mesh_size)\n",
    "brange = np.arange(b_min, b_max, mesh_size)\n",
    "aa, bb = np.meshgrid(arange, brange)\n",
    "\n",
    "# Función de pérdida\n",
    "def loss_function(a, b):\n",
    "    return (a - 8) ** 2 + (b - 2) ** 2\n",
    "\n",
    "loss = loss_function(aa, bb)\n",
    "\n",
    "# Figura\n",
    "fig = go.Figure(\n",
    "    data=[go.Surface(x=arange, y=brange, z=loss, name=\"Loss\", colorscale=\"dense\")]\n",
    ")\n",
    "\n",
    "camera = dict(\n",
    "    up=dict(x=0, y=0, z=1),\n",
    "    center=dict(x=0, y=0, z=0),\n",
    "    eye=dict(x=-1.2, y=1.5, z=1.8)\n",
    ")\n",
    "\n",
    "fig.update_layout(\n",
    "    autosize=False,\n",
    "    width=900,\n",
    "    height=900,\n",
    "    title={\n",
    "        \"text\": r\"$\\LARGE{\\text{Loss Surface for }\\mathcal{L}(a,b) = (a-8)^2 + (b-2)^2}$\",\n",
    "        \"font\": {\"size\": 20},\n",
    "        \"x\": 0.5,\n",
    "        \"xanchor\": \"center\"\n",
    "    },\n",
    "    scene_camera=camera,\n",
    "    scene=dict(\n",
    "        xaxis=dict(\n",
    "            title=dict(text=\"a\", font=dict(size=font_size + 5)),\n",
    "            tickfont=dict(size=font_size - 2),\n",
    "        ),\n",
    "        yaxis=dict(\n",
    "            title=dict(text=\"b\", font=dict(size=font_size + 5)),\n",
    "            tickfont=dict(size=font_size - 2),\n",
    "        ),\n",
    "        zaxis=dict(\n",
    "            title=dict(text=\"Loss\", font=dict(size=font_size + 5)),\n",
    "            tickfont=dict(size=font_size - 2),\n",
    "        ),\n",
    "    ),\n",
    ")\n",
    "\n",
    "fig.write_image(\"imgs/chapter_11/loss_surface.png\")\n",
    "fig.show()"
   ]
  },
  {
   "cell_type": "markdown",
   "id": "a923804a-19f0-46d1-8a45-c42492c4f947",
   "metadata": {},
   "source": [
    "## Gradient Descent"
   ]
  },
  {
   "cell_type": "code",
   "execution_count": 13,
   "id": "3fcd8b32-672f-4aa5-9fcf-3b1234502e32",
   "metadata": {},
   "outputs": [],
   "source": [
    "def gradient(a, b):\n",
    "    return 2*(a-8), 2*(b-2)"
   ]
  },
  {
   "cell_type": "markdown",
   "id": "467fd6dd-e4af-4099-9b28-85226ee7e013",
   "metadata": {},
   "source": [
    "### Optimizing"
   ]
  },
  {
   "cell_type": "code",
   "execution_count": null,
   "id": "9504c9d1-a6a8-435a-8ee7-3e70e57501e6",
   "metadata": {},
   "outputs": [],
   "source": []
  },
  {
   "cell_type": "code",
   "execution_count": null,
   "id": "bfd389b9-34c3-4f92-9699-dc8ef62d4898",
   "metadata": {},
   "outputs": [],
   "source": []
  },
  {
   "cell_type": "code",
   "execution_count": null,
   "id": "f7dfba14-6d1b-4a12-a70e-d52cd84d6f13",
   "metadata": {},
   "outputs": [],
   "source": []
  },
  {
   "cell_type": "code",
   "execution_count": null,
   "id": "76ad04ae-0988-4717-a399-3f780e4ed7a6",
   "metadata": {},
   "outputs": [],
   "source": []
  },
  {
   "cell_type": "code",
   "execution_count": null,
   "id": "f4bb588e-a40e-4de1-b19a-d812d5fe9d40",
   "metadata": {},
   "outputs": [],
   "source": []
  },
  {
   "cell_type": "code",
   "execution_count": null,
   "id": "22e95cd1-cc4a-42ab-b11e-fa5bb4ec09c1",
   "metadata": {},
   "outputs": [],
   "source": []
  },
  {
   "cell_type": "code",
   "execution_count": null,
   "id": "5969b524-a4c7-453b-a6f2-64b217bbb329",
   "metadata": {},
   "outputs": [],
   "source": []
  }
 ],
 "metadata": {
  "kernelspec": {
   "display_name": "Python (MTSP)",
   "language": "python",
   "name": "mtsp"
  },
  "language_info": {
   "codemirror_mode": {
    "name": "ipython",
    "version": 3
   },
   "file_extension": ".py",
   "mimetype": "text/x-python",
   "name": "python",
   "nbconvert_exporter": "python",
   "pygments_lexer": "ipython3",
   "version": "3.10.18"
  }
 },
 "nbformat": 4,
 "nbformat_minor": 5
}
