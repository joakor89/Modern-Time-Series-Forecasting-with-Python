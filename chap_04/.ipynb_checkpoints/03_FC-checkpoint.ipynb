{
 "cells": [
  {
   "cell_type": "markdown",
   "id": "3b02e63c-b60d-4c64-ac9f-e429d1eb1400",
   "metadata": {},
   "source": [
    "# Forecastability\n",
    "\n",
    "### Loading Libraries"
   ]
  },
  {
   "cell_type": "code",
   "execution_count": 1,
   "id": "363711ad-52ab-4c61-9b1f-ecf36c85a4e4",
   "metadata": {},
   "outputs": [
    {
     "name": "stdout",
     "output_type": "stream",
     "text": [
      "/Users/joaquinromero/Desktop\n"
     ]
    }
   ],
   "source": [
    "%cd ../.."
   ]
  },
  {
   "cell_type": "code",
   "execution_count": 2,
   "id": "fd8b162b-fd6a-418c-80de-17ce2ba7f76b",
   "metadata": {},
   "outputs": [],
   "source": [
    "# Numerical Computing\n",
    "import numpy as np\n",
    "\n",
    "# Data Manipulation\n",
    "import pandas as pd\n",
    "\n",
    "# Data Visualization\n",
    "import seaborn as sns\n",
    "import plotly.io as pio\n",
    "import plotly.express as px\n",
    "import matplotlib.pyplot as plt\n",
    "import plotly.graph_objects as go\n",
    "import plotly.figure_factory as ff\n",
    "\n",
    "# Warnings\n",
    "import warnings\n",
    "import humanize\n",
    "\n",
    "# IO & Requests\n",
    "import time\n",
    "import random\n",
    "import requests\n",
    "from io import StringIO\n",
    "\n",
    "# StatsModels\n",
    "import statsmodels.api as sm\n",
    "from statsmodels.tsa.seasonal import MSTL , DecomposeResult\n",
    "\n",
    "# OS\n",
    "import os\n",
    "import sys\n",
    "import pickleshare\n",
    "import missingno as msno\n",
    "from itertools import cycle\n",
    "\n",
    "# PyArrow\n",
    "import pyarrow as pa\n",
    "\n",
    "# FuncTools\n",
    "from functools import partial\n",
    "\n",
    "# Path & Notebook Optimizer\n",
    "from pathlib import Path\n",
    "import missingno as msno\n",
    "from tqdm.auto import tqdm\n",
    "\n",
    "# Scikit-Learn\n",
    "from sklearn.pipeline import Pipeline\n",
    "from sklearn.decomposition import PCA\n",
    "from sklearn.metrics import mean_absolute_error\n",
    "from sklearn.preprocessing import StandardScaler\n",
    "from sklearn.preprocessing import PolynomialFeatures\n",
    "from sklearn.linear_model import LinearRegression, Ridge, Lasso\n",
    "\n",
    "# IPython\n",
    "from IPython.display import display, HTML\n",
    "\n",
    "# NIXTLA\n",
    "from statsforecast.core import StatsForecast\n",
    "from utilsforecast.plotting import plot_series\n",
    "from utilsforecast.evaluation import evaluate\n",
    "\n",
    "# Custom Libraries\n",
    "from src.utils import plotting_utils\n",
    "# from src.utils.ts_utils import forecast_bias\n",
    "\n",
    "# Forecast\n",
    "# from datasetsforecast.losses import *\n",
    "from utilsforecast.evaluation import evaluate\n",
    "# from statsforecast.losses import mse, mae, mape, rmse, smape, mase\n",
    "\n",
    "# Custom Libraries\n",
    "from src.utils import plotting_utils\n",
    "\n",
    "from src.utils.ts_utils_updated import (\n",
    "    forecast_bias,\n",
    "    forecast_bias_aggregate,\n",
    "    metrics_adapter,\n",
    "    smape,\n",
    "    rmse,\n",
    "    mae,\n",
    "    mse,\n",
    "    mase,\n",
    "    average_length,\n",
    ")\n",
    "\n",
    "from statsforecast.models import (\n",
    "    Naive,\n",
    "    SeasonalNaive,\n",
    "    HistoricAverage,\n",
    "    WindowAverage,\n",
    "    SeasonalWindowAverage,\n",
    "    RandomWalkWithDrift,\n",
    "    HoltWinters,\n",
    "    AutoETS,\n",
    "    AutoARIMA,\n",
    "    ARIMA,\n",
    "    AutoTheta,\n",
    "    DynamicTheta,\n",
    "    DynamicOptimizedTheta,\n",
    "    Theta,\n",
    "    OptimizedTheta,\n",
    "    TBATS,\n",
    "    AutoTBATS,\n",
    "    MSTL\n",
    ")"
   ]
  },
  {
   "cell_type": "code",
   "execution_count": 3,
   "id": "6a301f97-a362-425c-96b8-b530b92f5a36",
   "metadata": {},
   "outputs": [],
   "source": [
    "# from darts.models import Theta\n",
    "# from darts.utils.utils import ModelMode, SeasonalityMode"
   ]
  },
  {
   "cell_type": "code",
   "execution_count": 4,
   "id": "f9838f63-48eb-4523-bcf6-079647280889",
   "metadata": {},
   "outputs": [
    {
     "name": "stdout",
     "output_type": "stream",
     "text": [
      "Requirement already satisfied: statsforecast in /opt/anaconda3/envs/MTSP/lib/python3.10/site-packages (2.0.2)\n",
      "Requirement already satisfied: cloudpickle in /opt/anaconda3/envs/MTSP/lib/python3.10/site-packages (from statsforecast) (3.1.1)\n",
      "Requirement already satisfied: coreforecast>=0.0.12 in /opt/anaconda3/envs/MTSP/lib/python3.10/site-packages (from statsforecast) (0.0.16)\n",
      "Requirement already satisfied: numba>=0.55.0 in /opt/anaconda3/envs/MTSP/lib/python3.10/site-packages (from statsforecast) (0.61.2)\n",
      "Requirement already satisfied: numpy>=1.21.6 in /opt/anaconda3/envs/MTSP/lib/python3.10/site-packages (from statsforecast) (1.26.4)\n",
      "Requirement already satisfied: pandas>=1.3.5 in /opt/anaconda3/envs/MTSP/lib/python3.10/site-packages (from statsforecast) (2.3.1)\n",
      "Requirement already satisfied: scipy<1.16.0,>=1.7.3 in /opt/anaconda3/envs/MTSP/lib/python3.10/site-packages (from statsforecast) (1.15.3)\n",
      "Requirement already satisfied: statsmodels>=0.13.2 in /opt/anaconda3/envs/MTSP/lib/python3.10/site-packages (from statsforecast) (0.14.4)\n",
      "Requirement already satisfied: tqdm in /opt/anaconda3/envs/MTSP/lib/python3.10/site-packages (from statsforecast) (4.67.1)\n",
      "Requirement already satisfied: fugue>=0.8.1 in /opt/anaconda3/envs/MTSP/lib/python3.10/site-packages (from statsforecast) (0.9.1)\n",
      "Requirement already satisfied: utilsforecast>=0.1.4 in /opt/anaconda3/envs/MTSP/lib/python3.10/site-packages (from statsforecast) (0.2.12)\n",
      "Requirement already satisfied: threadpoolctl>=3 in /opt/anaconda3/envs/MTSP/lib/python3.10/site-packages (from statsforecast) (3.6.0)\n",
      "Requirement already satisfied: triad>=0.9.7 in /opt/anaconda3/envs/MTSP/lib/python3.10/site-packages (from fugue>=0.8.1->statsforecast) (0.9.8)\n",
      "Requirement already satisfied: adagio>=0.2.4 in /opt/anaconda3/envs/MTSP/lib/python3.10/site-packages (from fugue>=0.8.1->statsforecast) (0.2.6)\n",
      "Requirement already satisfied: llvmlite<0.45,>=0.44.0dev0 in /opt/anaconda3/envs/MTSP/lib/python3.10/site-packages (from numba>=0.55.0->statsforecast) (0.44.0)\n",
      "Requirement already satisfied: python-dateutil>=2.8.2 in /opt/anaconda3/envs/MTSP/lib/python3.10/site-packages (from pandas>=1.3.5->statsforecast) (2.9.0.post0)\n",
      "Requirement already satisfied: pytz>=2020.1 in /opt/anaconda3/envs/MTSP/lib/python3.10/site-packages (from pandas>=1.3.5->statsforecast) (2025.2)\n",
      "Requirement already satisfied: tzdata>=2022.7 in /opt/anaconda3/envs/MTSP/lib/python3.10/site-packages (from pandas>=1.3.5->statsforecast) (2025.2)\n",
      "Requirement already satisfied: six>=1.5 in /opt/anaconda3/envs/MTSP/lib/python3.10/site-packages (from python-dateutil>=2.8.2->pandas>=1.3.5->statsforecast) (1.17.0)\n",
      "Requirement already satisfied: patsy>=0.5.6 in /opt/anaconda3/envs/MTSP/lib/python3.10/site-packages (from statsmodels>=0.13.2->statsforecast) (1.0.1)\n",
      "Requirement already satisfied: packaging>=21.3 in /opt/anaconda3/envs/MTSP/lib/python3.10/site-packages (from statsmodels>=0.13.2->statsforecast) (24.2)\n",
      "Requirement already satisfied: pyarrow>=6.0.1 in /opt/anaconda3/envs/MTSP/lib/python3.10/site-packages (from triad>=0.9.7->fugue>=0.8.1->statsforecast) (15.0.2)\n",
      "Requirement already satisfied: fsspec>=2022.5.0 in /opt/anaconda3/envs/MTSP/lib/python3.10/site-packages (from triad>=0.9.7->fugue>=0.8.1->statsforecast) (2025.7.0)\n",
      "Requirement already satisfied: fs in /opt/anaconda3/envs/MTSP/lib/python3.10/site-packages (from triad>=0.9.7->fugue>=0.8.1->statsforecast) (2.4.16)\n",
      "Requirement already satisfied: appdirs~=1.4.3 in /opt/anaconda3/envs/MTSP/lib/python3.10/site-packages (from fs->triad>=0.9.7->fugue>=0.8.1->statsforecast) (1.4.4)\n",
      "Requirement already satisfied: setuptools in /opt/anaconda3/envs/MTSP/lib/python3.10/site-packages (from fs->triad>=0.9.7->fugue>=0.8.1->statsforecast) (78.1.1)\n"
     ]
    }
   ],
   "source": [
    "!pip install statsforecast"
   ]
  },
  {
   "cell_type": "code",
   "execution_count": 5,
   "id": "c4cd80fe-f178-4eba-ab2c-ce33a5eb6282",
   "metadata": {},
   "outputs": [],
   "source": [
    "tqdm.pandas()\n",
    "\n",
    "np.random.seed(0)\n",
    "\n",
    "pio.templates.default = \"plotly_white\"\n",
    "\n",
    "sys.path.append('/Users/joaquinromero/Desktop/MTSF')"
   ]
  },
  {
   "cell_type": "code",
   "execution_count": 6,
   "id": "125c4332-ba6d-4b55-9b58-2bfe831244a9",
   "metadata": {},
   "outputs": [],
   "source": [
    "warnings.filterwarnings(\"ignore\", category=UserWarning)\n",
    "\n",
    "warnings.filterwarnings(\"ignore\", category=FutureWarning)\n",
    "\n",
    "warnings.filterwarnings(\"ignore\", message=\"'force_all_finite' was renamed to 'ensure_all_finite'\")"
   ]
  },
  {
   "cell_type": "code",
   "execution_count": 7,
   "id": "8511eb0b-b93d-4a04-8920-d8607199c0e6",
   "metadata": {},
   "outputs": [],
   "source": [
    "if 'NIXTLA_ID_AS_COL' in os.environ:\n",
    "    del os.environ['NIXTLA_ID_AS_COL']\n",
    "    \n",
    "os.environ['NIXTLA_ID_AS_COL'] = '1'"
   ]
  },
  {
   "cell_type": "code",
   "execution_count": 8,
   "id": "daccd057-5b4d-47ff-b752-b7d3f863311d",
   "metadata": {},
   "outputs": [],
   "source": [
    "os.makedirs(\"imgs/chapter_04\", exist_ok=True)\n",
    "preprocessed = Path.home() / \"Desktop\" / \"data\" / \"london_smart_meters\" / \"preprocessed\"\n",
    "\n",
    "output = Path(\"data/london_smart_meters/output\")"
   ]
  },
  {
   "cell_type": "code",
   "execution_count": 9,
   "id": "07526cd4-14e7-4965-bb71-603b56ed7c9f",
   "metadata": {},
   "outputs": [],
   "source": [
    "from itertools import cycle\n",
    "\n",
    "def format_plot(fig, legends=None, xlabel=\"Time\", ylabel=\"Value\"):\n",
    "    if legends:\n",
    "        names = cycle(legends)\n",
    "        fig.for_each_trace(lambda t: t.update(name=next(names)))\n",
    "\n",
    "    fig.update_layout(\n",
    "        autosize=False,\n",
    "        width=900,\n",
    "        height=500,\n",
    "        title=dict(\n",
    "            text=fig.layout.title.text if fig.layout.title.text else '',\n",
    "            x=0.5,\n",
    "            xanchor='center',\n",
    "            yanchor='top',\n",
    "            font=dict(size=20)\n",
    "        ),\n",
    "        legend_title=None,\n",
    "        xaxis=dict(\n",
    "            title=dict(\n",
    "                text=xlabel,\n",
    "                font=dict(size=12)\n",
    "            )\n",
    "        ),\n",
    "        yaxis=dict(\n",
    "            title=dict(\n",
    "                text=ylabel,\n",
    "                font=dict(size=12)\n",
    "            )\n",
    "        )\n",
    "    )\n",
    "    return fig"
   ]
  },
  {
   "cell_type": "markdown",
   "id": "97eb9388-9c33-492a-93c3-84f73741927b",
   "metadata": {},
   "source": [
    "## Reading & Selecting Households"
   ]
  },
  {
   "cell_type": "code",
   "execution_count": 10,
   "id": "c2e44cdf-4704-4158-9506-dc1947c7644a",
   "metadata": {},
   "outputs": [],
   "source": [
    "try:\n",
    "    lclid_acorn_map = pd.read_pickle(\"data/london_smart_meters/preprocessed/london_smart_meters_lclid_acorn_map.pkl\")\n",
    "except FileNotFoundError:\n",
    "    display(HTML(\"\"\"\n",
    "    <div class=\"alert alert-block alert-warning\">\n",
    "    <b>Warning!</b> File not found. Please make sure you have run 02 - Preprocessing London Smart Meter Dataset.ipynb in Chapter02\n",
    "    </div>\n",
    "    \"\"\"))"
   ]
  },
  {
   "cell_type": "code",
   "execution_count": 11,
   "id": "0537b8e4-0c77-4895-8d4f-df35c3adf1a9",
   "metadata": {},
   "outputs": [],
   "source": [
    "affluent_households = lclid_acorn_map.loc[lclid_acorn_map.Acorn_grouped==\"Affluent\", [\"LCLid\",'file']]\n",
    "\n",
    "adversity_households = lclid_acorn_map.loc[lclid_acorn_map.Acorn_grouped==\"Adversity\", [\"LCLid\",'file']]\n",
    "\n",
    "comfortable_households = lclid_acorn_map.loc[lclid_acorn_map.Acorn_grouped==\"Comfortable\", [\"LCLid\",'file']]"
   ]
  },
  {
   "cell_type": "code",
   "execution_count": 12,
   "id": "a3d2a2d0-ff50-4668-af78-7c1e92ab50d9",
   "metadata": {},
   "outputs": [],
   "source": [
    "size = 50\n",
    "\n",
    "selected_households = pd.concat(\n",
    "    [\n",
    "        affluent_households.sample(size, random_state=76),\n",
    "        comfortable_households.sample(size, random_state=76),\n",
    "        adversity_households.sample(size, random_state=76),\n",
    "    ]\n",
    ")\n",
    "selected_households['block']=selected_households.file.str.split(\"_\", expand=True).iloc[:,1].astype(int)"
   ]
  },
  {
   "cell_type": "code",
   "execution_count": 13,
   "id": "a92dcde6-8ed3-4d84-88df-5b49d57128c2",
   "metadata": {},
   "outputs": [],
   "source": [
    "# Extracting The Paths to The Different Blocks and Extracting The Starting and Ending Blocks\n",
    "path_blocks = [\n",
    "    (p, *list(map(int, p.name.split(\"_\")[5].split(\".\")[0].split(\"-\"))))\n",
    "    for p in Path(\"data/london_smart_meters/preprocessed\").glob(\n",
    "        \"london_smart_meters_merged_block*\"\n",
    "    )\n",
    "]"
   ]
  },
  {
   "cell_type": "code",
   "execution_count": 14,
   "id": "b212d421-e1ce-41a3-8e4d-03516e69ef57",
   "metadata": {},
   "outputs": [
    {
     "data": {
      "application/vnd.jupyter.widget-view+json": {
       "model_id": "7463a0811a874357908a985b43c1047f",
       "version_major": 2,
       "version_minor": 0
      },
      "text/plain": [
       "  0%|          | 0/14 [00:00<?, ?it/s]"
      ]
     },
     "metadata": {},
     "output_type": "display_data"
    }
   ],
   "source": [
    "household_df_l = []\n",
    "\n",
    "for path, start_b, end_b in tqdm(path_blocks):\n",
    "    block_df = pd.read_parquet(path)\n",
    "    selected_households['block'].between\n",
    "    mask = selected_households['block'].between(start_b, end_b)\n",
    "    lclids = selected_households.loc[mask, \"LCLid\"]\n",
    "    household_df_l.append(block_df.loc[block_df.LCLid.isin(lclids)])"
   ]
  },
  {
   "cell_type": "code",
   "execution_count": 15,
   "id": "24b99f62-2ecd-4cc3-b0e4-26afddce20a1",
   "metadata": {},
   "outputs": [
    {
     "data": {
      "text/html": [
       "<div>\n",
       "<style scoped>\n",
       "    .dataframe tbody tr th:only-of-type {\n",
       "        vertical-align: middle;\n",
       "    }\n",
       "\n",
       "    .dataframe tbody tr th {\n",
       "        vertical-align: top;\n",
       "    }\n",
       "\n",
       "    .dataframe thead th {\n",
       "        text-align: right;\n",
       "    }\n",
       "</style>\n",
       "<table border=\"1\" class=\"dataframe\">\n",
       "  <thead>\n",
       "    <tr style=\"text-align: right;\">\n",
       "      <th></th>\n",
       "      <th>LCLid</th>\n",
       "      <th>start_timestamp</th>\n",
       "      <th>frequency</th>\n",
       "      <th>energy_consumption</th>\n",
       "      <th>series_length</th>\n",
       "      <th>stdorToU</th>\n",
       "      <th>Acorn</th>\n",
       "      <th>Acorn_grouped</th>\n",
       "      <th>file</th>\n",
       "      <th>holidays</th>\n",
       "      <th>...</th>\n",
       "      <th>windBearing</th>\n",
       "      <th>temperature</th>\n",
       "      <th>dewPoint</th>\n",
       "      <th>pressure</th>\n",
       "      <th>apparentTemperature</th>\n",
       "      <th>windSpeed</th>\n",
       "      <th>precipType</th>\n",
       "      <th>icon</th>\n",
       "      <th>humidity</th>\n",
       "      <th>summary</th>\n",
       "    </tr>\n",
       "  </thead>\n",
       "  <tbody>\n",
       "    <tr>\n",
       "      <th>57</th>\n",
       "      <td>MAC000768</td>\n",
       "      <td>2012-04-21</td>\n",
       "      <td>30min</td>\n",
       "      <td>[0.8440000000000001, 0.265, 0.262, 0.233999999...</td>\n",
       "      <td>32544</td>\n",
       "      <td>Std</td>\n",
       "      <td>ACORN-A</td>\n",
       "      <td>Affluent</td>\n",
       "      <td>block_1</td>\n",
       "      <td>[NO_HOLIDAY, NO_HOLIDAY, NO_HOLIDAY, NO_HOLIDA...</td>\n",
       "      <td>...</td>\n",
       "      <td>[251, 251, 251, 251, 246, 246, 242, 242, 244, ...</td>\n",
       "      <td>[6.42, 6.42, 6.2, 6.2, 5.68, 5.68, 5.16, 5.16,...</td>\n",
       "      <td>[3.54, 3.54, 3.61, 3.61, 3.52, 3.52, 3.11, 3.1...</td>\n",
       "      <td>[994.96, 994.96, 994.98, 994.98, 994.82, 994.8...</td>\n",
       "      <td>[3.79, 3.79, 3.67, 3.67, 3.15, 3.15, 2.61, 2.6...</td>\n",
       "      <td>[3.64, 3.64, 3.42, 3.42, 3.25, 3.25, 3.13, 3.1...</td>\n",
       "      <td>[rain, rain, rain, rain, rain, rain, rain, rai...</td>\n",
       "      <td>[partly-cloudy-night, partly-cloudy-night, par...</td>\n",
       "      <td>[0.82, 0.82, 0.83, 0.83, 0.86, 0.86, 0.87, 0.8...</td>\n",
       "      <td>[Partly Cloudy, Partly Cloudy, Partly Cloudy, ...</td>\n",
       "    </tr>\n",
       "    <tr>\n",
       "      <th>63</th>\n",
       "      <td>MAC000948</td>\n",
       "      <td>2012-05-02</td>\n",
       "      <td>30min</td>\n",
       "      <td>[0.008, 0.009, 0.008, 0.008, 0.008, 0.009, 0.0...</td>\n",
       "      <td>32016</td>\n",
       "      <td>Std</td>\n",
       "      <td>ACORN-A</td>\n",
       "      <td>Affluent</td>\n",
       "      <td>block_1</td>\n",
       "      <td>[NO_HOLIDAY, NO_HOLIDAY, NO_HOLIDAY, NO_HOLIDA...</td>\n",
       "      <td>...</td>\n",
       "      <td>[351, 351, 0, 0, 0, 0, 351, 351, 348, 348, 3, ...</td>\n",
       "      <td>[11.81, 11.81, 11.12, 11.12, 11.2, 11.2, 11.18...</td>\n",
       "      <td>[10.47, 10.47, 10.15, 10.15, 9.89, 9.89, 9.29,...</td>\n",
       "      <td>[1021.42, 1021.42, 1021.44, 1021.44, 1021.33, ...</td>\n",
       "      <td>[11.81, 11.81, 11.12, 11.12, 11.2, 11.2, 11.18...</td>\n",
       "      <td>[2.53, 2.53, 2.41, 2.41, 2.06, 2.06, 2.98, 2.9...</td>\n",
       "      <td>[rain, rain, rain, rain, rain, rain, rain, rai...</td>\n",
       "      <td>[partly-cloudy-night, partly-cloudy-night, par...</td>\n",
       "      <td>[0.91, 0.91, 0.94, 0.94, 0.92, 0.92, 0.88, 0.8...</td>\n",
       "      <td>[Mostly Cloudy, Mostly Cloudy, Mostly Cloudy, ...</td>\n",
       "    </tr>\n",
       "    <tr>\n",
       "      <th>2827</th>\n",
       "      <td>MAC003299</td>\n",
       "      <td>2012-09-25</td>\n",
       "      <td>30min</td>\n",
       "      <td>[0.254, 0.201, 0.183, 0.2189999999999999, 0.18...</td>\n",
       "      <td>25008</td>\n",
       "      <td>Std</td>\n",
       "      <td>ACORN-C</td>\n",
       "      <td>Affluent</td>\n",
       "      <td>block_5</td>\n",
       "      <td>[NO_HOLIDAY, NO_HOLIDAY, NO_HOLIDAY, NO_HOLIDA...</td>\n",
       "      <td>...</td>\n",
       "      <td>[220, 220, 218, 218, 215, 215, 211, 211, 207, ...</td>\n",
       "      <td>[10.93, 10.93, 10.81, 10.81, 10.27, 10.27, 10....</td>\n",
       "      <td>[7.76, 7.76, 8.07, 8.07, 8.04, 8.04, 7.62, 7.6...</td>\n",
       "      <td>[989.26, 989.26, 989.27, 989.27, 989.0, 989.0,...</td>\n",
       "      <td>[10.93, 10.93, 10.81, 10.81, 10.27, 10.27, 10....</td>\n",
       "      <td>[4.9, 4.9, 4.98, 4.98, 4.45, 4.45, 4.51, 4.51,...</td>\n",
       "      <td>[rain, rain, rain, rain, rain, rain, rain, rai...</td>\n",
       "      <td>[clear-night, clear-night, clear-night, clear-...</td>\n",
       "      <td>[0.81, 0.81, 0.83, 0.83, 0.86, 0.86, 0.84, 0.8...</td>\n",
       "      <td>[Clear, Clear, Clear, Clear, Clear, Clear, Cle...</td>\n",
       "    </tr>\n",
       "    <tr>\n",
       "      <th>3389</th>\n",
       "      <td>MAC003157</td>\n",
       "      <td>2012-07-15</td>\n",
       "      <td>30min</td>\n",
       "      <td>[0.181, 0.126, 0.13, 0.134, 0.18, 0.179, 0.118...</td>\n",
       "      <td>28464</td>\n",
       "      <td>ToU</td>\n",
       "      <td>ACORN-C</td>\n",
       "      <td>Affluent</td>\n",
       "      <td>block_6</td>\n",
       "      <td>[NO_HOLIDAY, NO_HOLIDAY, NO_HOLIDAY, NO_HOLIDA...</td>\n",
       "      <td>...</td>\n",
       "      <td>[250, 250, 259, 259, 267, 267, 284, 284, 286, ...</td>\n",
       "      <td>[12.72, 12.72, 12.72, 12.72, 12.98, 12.98, 12....</td>\n",
       "      <td>[12.01, 12.01, 12.0, 12.0, 12.32, 12.32, 11.83...</td>\n",
       "      <td>[1011.2, 1011.2, 1011.17, 1011.17, 1011.23, 10...</td>\n",
       "      <td>[12.72, 12.72, 12.72, 12.72, 12.98, 12.98, 12....</td>\n",
       "      <td>[1.73, 1.73, 2.15, 2.15, 2.31, 2.31, 2.28, 2.2...</td>\n",
       "      <td>[rain, rain, rain, rain, rain, rain, rain, rai...</td>\n",
       "      <td>[clear-night, clear-night, partly-cloudy-night...</td>\n",
       "      <td>[0.95, 0.95, 0.95, 0.95, 0.96, 0.96, 0.95, 0.9...</td>\n",
       "      <td>[Clear, Clear, Partly Cloudy, Partly Cloudy, P...</td>\n",
       "    </tr>\n",
       "    <tr>\n",
       "      <th>3916</th>\n",
       "      <td>MAC000193</td>\n",
       "      <td>2012-01-01</td>\n",
       "      <td>30min</td>\n",
       "      <td>[0.368, 0.386, 0.17, 0.021, 0.038, 0.038, 0.02...</td>\n",
       "      <td>37872</td>\n",
       "      <td>ToU</td>\n",
       "      <td>ACORN-D</td>\n",
       "      <td>Affluent</td>\n",
       "      <td>block_7</td>\n",
       "      <td>[NO_HOLIDAY, NO_HOLIDAY, NO_HOLIDAY, NO_HOLIDA...</td>\n",
       "      <td>...</td>\n",
       "      <td>[229, 229, 238, 238, 229, 229, 231, 231, 227, ...</td>\n",
       "      <td>[12.12, 12.12, 12.59, 12.59, 12.45, 12.45, 12....</td>\n",
       "      <td>[10.97, 10.97, 11.02, 11.02, 11.04, 11.04, 10....</td>\n",
       "      <td>[1008.1, 1008.1, 1007.88, 1007.88, 1007.95, 10...</td>\n",
       "      <td>[12.12, 12.12, 12.59, 12.59, 12.45, 12.45, 12....</td>\n",
       "      <td>[5.9, 5.9, 6.06, 6.06, 5.31, 5.31, 4.68, 4.68,...</td>\n",
       "      <td>[rain, rain, rain, rain, rain, rain, rain, rai...</td>\n",
       "      <td>[partly-cloudy-night, partly-cloudy-night, clo...</td>\n",
       "      <td>[0.93, 0.93, 0.9, 0.9, 0.91, 0.91, 0.93, 0.93,...</td>\n",
       "      <td>[Mostly Cloudy, Mostly Cloudy, Overcast, Overc...</td>\n",
       "    </tr>\n",
       "  </tbody>\n",
       "</table>\n",
       "<p>5 rows × 21 columns</p>\n",
       "</div>"
      ],
      "text/plain": [
       "          LCLid start_timestamp frequency  \\\n",
       "57    MAC000768      2012-04-21     30min   \n",
       "63    MAC000948      2012-05-02     30min   \n",
       "2827  MAC003299      2012-09-25     30min   \n",
       "3389  MAC003157      2012-07-15     30min   \n",
       "3916  MAC000193      2012-01-01     30min   \n",
       "\n",
       "                                     energy_consumption  series_length  \\\n",
       "57    [0.8440000000000001, 0.265, 0.262, 0.233999999...          32544   \n",
       "63    [0.008, 0.009, 0.008, 0.008, 0.008, 0.009, 0.0...          32016   \n",
       "2827  [0.254, 0.201, 0.183, 0.2189999999999999, 0.18...          25008   \n",
       "3389  [0.181, 0.126, 0.13, 0.134, 0.18, 0.179, 0.118...          28464   \n",
       "3916  [0.368, 0.386, 0.17, 0.021, 0.038, 0.038, 0.02...          37872   \n",
       "\n",
       "     stdorToU    Acorn Acorn_grouped     file  \\\n",
       "57        Std  ACORN-A      Affluent  block_1   \n",
       "63        Std  ACORN-A      Affluent  block_1   \n",
       "2827      Std  ACORN-C      Affluent  block_5   \n",
       "3389      ToU  ACORN-C      Affluent  block_6   \n",
       "3916      ToU  ACORN-D      Affluent  block_7   \n",
       "\n",
       "                                               holidays  ...  \\\n",
       "57    [NO_HOLIDAY, NO_HOLIDAY, NO_HOLIDAY, NO_HOLIDA...  ...   \n",
       "63    [NO_HOLIDAY, NO_HOLIDAY, NO_HOLIDAY, NO_HOLIDA...  ...   \n",
       "2827  [NO_HOLIDAY, NO_HOLIDAY, NO_HOLIDAY, NO_HOLIDA...  ...   \n",
       "3389  [NO_HOLIDAY, NO_HOLIDAY, NO_HOLIDAY, NO_HOLIDA...  ...   \n",
       "3916  [NO_HOLIDAY, NO_HOLIDAY, NO_HOLIDAY, NO_HOLIDA...  ...   \n",
       "\n",
       "                                            windBearing  \\\n",
       "57    [251, 251, 251, 251, 246, 246, 242, 242, 244, ...   \n",
       "63    [351, 351, 0, 0, 0, 0, 351, 351, 348, 348, 3, ...   \n",
       "2827  [220, 220, 218, 218, 215, 215, 211, 211, 207, ...   \n",
       "3389  [250, 250, 259, 259, 267, 267, 284, 284, 286, ...   \n",
       "3916  [229, 229, 238, 238, 229, 229, 231, 231, 227, ...   \n",
       "\n",
       "                                            temperature  \\\n",
       "57    [6.42, 6.42, 6.2, 6.2, 5.68, 5.68, 5.16, 5.16,...   \n",
       "63    [11.81, 11.81, 11.12, 11.12, 11.2, 11.2, 11.18...   \n",
       "2827  [10.93, 10.93, 10.81, 10.81, 10.27, 10.27, 10....   \n",
       "3389  [12.72, 12.72, 12.72, 12.72, 12.98, 12.98, 12....   \n",
       "3916  [12.12, 12.12, 12.59, 12.59, 12.45, 12.45, 12....   \n",
       "\n",
       "                                               dewPoint  \\\n",
       "57    [3.54, 3.54, 3.61, 3.61, 3.52, 3.52, 3.11, 3.1...   \n",
       "63    [10.47, 10.47, 10.15, 10.15, 9.89, 9.89, 9.29,...   \n",
       "2827  [7.76, 7.76, 8.07, 8.07, 8.04, 8.04, 7.62, 7.6...   \n",
       "3389  [12.01, 12.01, 12.0, 12.0, 12.32, 12.32, 11.83...   \n",
       "3916  [10.97, 10.97, 11.02, 11.02, 11.04, 11.04, 10....   \n",
       "\n",
       "                                               pressure  \\\n",
       "57    [994.96, 994.96, 994.98, 994.98, 994.82, 994.8...   \n",
       "63    [1021.42, 1021.42, 1021.44, 1021.44, 1021.33, ...   \n",
       "2827  [989.26, 989.26, 989.27, 989.27, 989.0, 989.0,...   \n",
       "3389  [1011.2, 1011.2, 1011.17, 1011.17, 1011.23, 10...   \n",
       "3916  [1008.1, 1008.1, 1007.88, 1007.88, 1007.95, 10...   \n",
       "\n",
       "                                    apparentTemperature  \\\n",
       "57    [3.79, 3.79, 3.67, 3.67, 3.15, 3.15, 2.61, 2.6...   \n",
       "63    [11.81, 11.81, 11.12, 11.12, 11.2, 11.2, 11.18...   \n",
       "2827  [10.93, 10.93, 10.81, 10.81, 10.27, 10.27, 10....   \n",
       "3389  [12.72, 12.72, 12.72, 12.72, 12.98, 12.98, 12....   \n",
       "3916  [12.12, 12.12, 12.59, 12.59, 12.45, 12.45, 12....   \n",
       "\n",
       "                                              windSpeed  \\\n",
       "57    [3.64, 3.64, 3.42, 3.42, 3.25, 3.25, 3.13, 3.1...   \n",
       "63    [2.53, 2.53, 2.41, 2.41, 2.06, 2.06, 2.98, 2.9...   \n",
       "2827  [4.9, 4.9, 4.98, 4.98, 4.45, 4.45, 4.51, 4.51,...   \n",
       "3389  [1.73, 1.73, 2.15, 2.15, 2.31, 2.31, 2.28, 2.2...   \n",
       "3916  [5.9, 5.9, 6.06, 6.06, 5.31, 5.31, 4.68, 4.68,...   \n",
       "\n",
       "                                             precipType  \\\n",
       "57    [rain, rain, rain, rain, rain, rain, rain, rai...   \n",
       "63    [rain, rain, rain, rain, rain, rain, rain, rai...   \n",
       "2827  [rain, rain, rain, rain, rain, rain, rain, rai...   \n",
       "3389  [rain, rain, rain, rain, rain, rain, rain, rai...   \n",
       "3916  [rain, rain, rain, rain, rain, rain, rain, rai...   \n",
       "\n",
       "                                                   icon  \\\n",
       "57    [partly-cloudy-night, partly-cloudy-night, par...   \n",
       "63    [partly-cloudy-night, partly-cloudy-night, par...   \n",
       "2827  [clear-night, clear-night, clear-night, clear-...   \n",
       "3389  [clear-night, clear-night, partly-cloudy-night...   \n",
       "3916  [partly-cloudy-night, partly-cloudy-night, clo...   \n",
       "\n",
       "                                               humidity  \\\n",
       "57    [0.82, 0.82, 0.83, 0.83, 0.86, 0.86, 0.87, 0.8...   \n",
       "63    [0.91, 0.91, 0.94, 0.94, 0.92, 0.92, 0.88, 0.8...   \n",
       "2827  [0.81, 0.81, 0.83, 0.83, 0.86, 0.86, 0.84, 0.8...   \n",
       "3389  [0.95, 0.95, 0.95, 0.95, 0.96, 0.96, 0.95, 0.9...   \n",
       "3916  [0.93, 0.93, 0.9, 0.9, 0.91, 0.91, 0.93, 0.93,...   \n",
       "\n",
       "                                                summary  \n",
       "57    [Partly Cloudy, Partly Cloudy, Partly Cloudy, ...  \n",
       "63    [Mostly Cloudy, Mostly Cloudy, Mostly Cloudy, ...  \n",
       "2827  [Clear, Clear, Clear, Clear, Clear, Clear, Cle...  \n",
       "3389  [Clear, Clear, Partly Cloudy, Partly Cloudy, P...  \n",
       "3916  [Mostly Cloudy, Mostly Cloudy, Overcast, Overc...  \n",
       "\n",
       "[5 rows x 21 columns]"
      ]
     },
     "execution_count": 15,
     "metadata": {},
     "output_type": "execute_result"
    }
   ],
   "source": [
    "block_df = pd.concat(household_df_l)\n",
    "\n",
    "del household_df_l\n",
    "block_df.head()"
   ]
  },
  {
   "cell_type": "markdown",
   "id": "c2d17d32-1ced-4522-8189-09a5e434f430",
   "metadata": {},
   "source": [
    "### Filling in Missing Values"
   ]
  },
  {
   "cell_type": "code",
   "execution_count": 16,
   "id": "531a5731-22cd-4808-8bdc-3921aace56b7",
   "metadata": {},
   "outputs": [],
   "source": [
    "from src.imputation.interpolation import SeasonalInterpolation"
   ]
  },
  {
   "cell_type": "code",
   "execution_count": 17,
   "id": "8d841df5-f1e5-4111-8754-30f852e11ce2",
   "metadata": {},
   "outputs": [
    {
     "data": {
      "application/vnd.jupyter.widget-view+json": {
       "model_id": "9e9ccc366f844e7a9327e881612e6e48",
       "version_major": 2,
       "version_minor": 0
      },
      "text/plain": [
       "  0%|          | 0/150 [00:00<?, ?it/s]"
      ]
     },
     "metadata": {},
     "output_type": "display_data"
    }
   ],
   "source": [
    "block_df.energy_consumption = block_df.energy_consumption.progress_apply(lambda x: SeasonalInterpolation(seasonal_period=48*7).fit_transform(x.reshape(-1,1)).squeeze())"
   ]
  },
  {
   "cell_type": "markdown",
   "id": "393b38aa-9431-4a0d-af9a-1e500850ce25",
   "metadata": {},
   "source": [
    "## Deseasonalizing and Detrending"
   ]
  },
  {
   "cell_type": "code",
   "execution_count": 18,
   "id": "89d2bd18-f34e-4c60-99f8-d016f2364779",
   "metadata": {},
   "outputs": [],
   "source": [
    "from src.decomposition.seasonal import MultiSeasonalDecomposition"
   ]
  },
  {
   "cell_type": "code",
   "execution_count": 19,
   "id": "068c9203-7b2d-4fae-b0a5-83131ef3e938",
   "metadata": {},
   "outputs": [
    {
     "data": {
      "application/vnd.jupyter.widget-view+json": {
       "model_id": "b832ba5cb27542548d25c2bef347a27a",
       "version_major": 2,
       "version_minor": 0
      },
      "text/plain": [
       "  0%|          | 0/150 [00:00<?, ?it/s]"
      ]
     },
     "metadata": {},
     "output_type": "display_data"
    }
   ],
   "source": [
    "def make_stationary(row):\n",
    "#     print(row)\n",
    "    # Order of row: LCLid, timestamp, frequency, energy_consumption\n",
    "    ts = row[3]\n",
    "    dates = pd.date_range(start=row[1], freq=row[2], periods=len(ts))\n",
    "    stl = MultiSeasonalDecomposition(seasonal_model=\"fourier\",seasonality_periods=[\"day_of_year\", \"day_of_week\", \"hour\"], model = \"additive\", n_fourier_terms=10)\n",
    "    res = stl.fit(pd.Series(ts, index=dates))\n",
    "    return res.resid.values# + res.trend.values\n",
    "\n",
    "with warnings.catch_warnings():\n",
    "    warnings.filterwarnings(\"ignore\", category=DeprecationWarning) \n",
    "    block_df['residuals'] =[make_stationary(r) for r in tqdm(zip(*block_df.to_dict(\"list\").values()), total=len(block_df))]"
   ]
  },
  {
   "cell_type": "markdown",
   "id": "19ea4bab-576b-4f1b-8ebc-16bd845a605d",
   "metadata": {},
   "source": [
    "## Forecastability Metrics\n",
    "\n",
    "### Coefficient of Variation"
   ]
  },
  {
   "cell_type": "code",
   "execution_count": 20,
   "id": "4c8889dd-d7e7-4a13-98b5-b45902bb64e5",
   "metadata": {},
   "outputs": [],
   "source": [
    "from src.forecastability.cov import calc_cov"
   ]
  },
  {
   "cell_type": "code",
   "execution_count": 21,
   "id": "fad0b9cd-a55b-438e-9390-dab96518ecfe",
   "metadata": {},
   "outputs": [
    {
     "data": {
      "application/vnd.jupyter.widget-view+json": {
       "model_id": "35327fc19f9445799ef2ee961ad7f122",
       "version_major": 2,
       "version_minor": 0
      },
      "text/plain": [
       "  0%|          | 0/150 [00:00<?, ?it/s]"
      ]
     },
     "metadata": {},
     "output_type": "display_data"
    }
   ],
   "source": [
    "block_df[\"cov\"] = block_df.progress_apply(lambda x: calc_cov(x['energy_consumption']), axis=1)"
   ]
  },
  {
   "cell_type": "code",
   "execution_count": 22,
   "id": "4ce71356-40df-4ea7-b02b-c5e9121eff0b",
   "metadata": {},
   "outputs": [
    {
     "data": {
      "application/vnd.plotly.v1+json": {
       "config": {
        "plotlyServerURL": "https://plot.ly"
       },
       "data": [
        {
         "bingroup": "x",
         "hovertemplate": "x=%{x}<br>count=%{y}<extra></extra>",
         "legendgroup": "",
         "marker": {
          "color": "#636efa",
          "pattern": {
           "shape": ""
          }
         },
         "name": "",
         "orientation": "v",
         "showlegend": false,
         "type": "histogram",
         "x": {
          "bdata": "nXI95DZ17D8rEqPVvD7pPxl3J2v4quU/heAUEIOc5j+2XlH72R/2P40Czpo0wuM/eDsHeeIn8T/TkesAwwDvPzU169kun+g/9D8rsap07T+8gUR+vFfoPy8+AMPTzes/tOMpv6xH7T8f4BIWNE3nP0wZECVFDfg/oFNi8MgDAkAQXpL5f/XxP6o5UnUdnuo/gfdWOeRX4T9xt7zRpBLrPxJvbaPxFOg/QiuD5Abf8D/rPLgjWvTrP0ApXPTDuvQ/jxRXXKsE9j+isXlOLLzmP4ux6LOWcPA/d7JPoZFL6D9bNjvcbVnvP9+hxxbNKfM/aXpjWK+E7D9O5vMEMM70P8WjgUWNCOc/TQGKBaJJ6T81XyEC7M/uPySkkBd4iOw/sSvUCP9V7z8a7OqSQmT2P3k8uFvqYu4/Y/O5A6aR8z9bozW3ZpHZPyYd4MEB8/U/67MAj+oD8T9G6j1CKSz8Py2tYrmRuABA3yIPJBmo7D/QOtHLAO7pPz2zJ2N4JgNAtaU7GqxQ5z8iq66E4mMCQBcSR89R4/g/0r7u0Cqs7D+xsf1B0/rlP4GNfSSwi/A/kN7kD9io6T9rAxpDzdbqP3ki29hoSOY/b0RqlNAu5j/6MJFY26LhPzgRU2N9wus/7uK+HlF0+D8wOMDJ18noP4t79opue+g/x7Xzj3wl8T9LPgENp6XwP/JoOrq6ieM/8rG5FCmE6j9NLggV7rfrP6xenJlSeuc/CwZ0C2849j8bW9VbP8PiPzu1JnkjfOM/5CIoesZy8z8fH8ZNMLfzPwgSR2E0mu0/659EhEMj8T+Q9S8VVETqP7rgmDX4tfM/BqPq5t9T7z+/BG1F/9/sP2dNHImPbfA/neMLAU7k5T/3rbGTBCHuP0z08SgG9fU/6SnrUgrI6z/BshX5GZnoP/6X2bnVmu8/F70zU48o6z+0laDKUlLrPxpKf26/AuY/4kD53+C88D9NrOAKD43pP/kDIChrUPM/3rSiFs1X7T9oNn37oYDlPybkoswQPvc/FNxlD29S9j8LulPmiarrP7aIBD5HWPI/Vg+A18Vg7z/cudF/+Af9P4snal9w2vM/I+UWm8vq6j97BsczXR3zP0XVtmyyXO0/BLq/LXBA9D/BtWV84cb2P2W5wLJA5u8/K+8yg8eP8z++3qGq8g32PzPj+BBXLPs/BbwzYmQt4z9vod1X6HTvP35kcf6IgeA/Ylralydn+z8NTbTgd3DyP9zomtJXrPc/pzla1rVy9T8dEUexkZD2P3ft5H/bhPQ/4hKlW0Cs7D++gdoWs4fyP66Xqd1M1vA/0v1/Ysky8D9le00ygkzyP3JZcG7v7PM/ODz/AOO1+D99Ijs1He38P7Fj5ygYvfA/I3mfyO/F9z/q+OJHmf7lPxfocVfpAPY/y70Hrnpa8z91hRq9XZTqP85u8dr/J+4/xJfCia/p6j97VHLSuSXjP04Ij6I2a/U/MVAGTRdB/z8U/YtWM+7sPwq+tPGG9PI/BMwQySmX5j8+MIHWLNblP+eGkMFJdfE/+n12IgU+5T+Vq3FveoXkP715YID2wO8/dgQk7lgn7z963wem1Wb2P7Zco9P2d+w/",
          "dtype": "f8"
         },
         "xaxis": "x",
         "yaxis": "y"
        }
       ],
       "layout": {
        "autosize": false,
        "barmode": "relative",
        "height": 500,
        "legend": {
         "title": {},
         "tracegroupgap": 0
        },
        "template": {
         "data": {
          "bar": [
           {
            "error_x": {
             "color": "#2a3f5f"
            },
            "error_y": {
             "color": "#2a3f5f"
            },
            "marker": {
             "line": {
              "color": "white",
              "width": 0.5
             },
             "pattern": {
              "fillmode": "overlay",
              "size": 10,
              "solidity": 0.2
             }
            },
            "type": "bar"
           }
          ],
          "barpolar": [
           {
            "marker": {
             "line": {
              "color": "white",
              "width": 0.5
             },
             "pattern": {
              "fillmode": "overlay",
              "size": 10,
              "solidity": 0.2
             }
            },
            "type": "barpolar"
           }
          ],
          "carpet": [
           {
            "aaxis": {
             "endlinecolor": "#2a3f5f",
             "gridcolor": "#C8D4E3",
             "linecolor": "#C8D4E3",
             "minorgridcolor": "#C8D4E3",
             "startlinecolor": "#2a3f5f"
            },
            "baxis": {
             "endlinecolor": "#2a3f5f",
             "gridcolor": "#C8D4E3",
             "linecolor": "#C8D4E3",
             "minorgridcolor": "#C8D4E3",
             "startlinecolor": "#2a3f5f"
            },
            "type": "carpet"
           }
          ],
          "choropleth": [
           {
            "colorbar": {
             "outlinewidth": 0,
             "ticks": ""
            },
            "type": "choropleth"
           }
          ],
          "contour": [
           {
            "colorbar": {
             "outlinewidth": 0,
             "ticks": ""
            },
            "colorscale": [
             [
              0,
              "#0d0887"
             ],
             [
              0.1111111111111111,
              "#46039f"
             ],
             [
              0.2222222222222222,
              "#7201a8"
             ],
             [
              0.3333333333333333,
              "#9c179e"
             ],
             [
              0.4444444444444444,
              "#bd3786"
             ],
             [
              0.5555555555555556,
              "#d8576b"
             ],
             [
              0.6666666666666666,
              "#ed7953"
             ],
             [
              0.7777777777777778,
              "#fb9f3a"
             ],
             [
              0.8888888888888888,
              "#fdca26"
             ],
             [
              1,
              "#f0f921"
             ]
            ],
            "type": "contour"
           }
          ],
          "contourcarpet": [
           {
            "colorbar": {
             "outlinewidth": 0,
             "ticks": ""
            },
            "type": "contourcarpet"
           }
          ],
          "heatmap": [
           {
            "colorbar": {
             "outlinewidth": 0,
             "ticks": ""
            },
            "colorscale": [
             [
              0,
              "#0d0887"
             ],
             [
              0.1111111111111111,
              "#46039f"
             ],
             [
              0.2222222222222222,
              "#7201a8"
             ],
             [
              0.3333333333333333,
              "#9c179e"
             ],
             [
              0.4444444444444444,
              "#bd3786"
             ],
             [
              0.5555555555555556,
              "#d8576b"
             ],
             [
              0.6666666666666666,
              "#ed7953"
             ],
             [
              0.7777777777777778,
              "#fb9f3a"
             ],
             [
              0.8888888888888888,
              "#fdca26"
             ],
             [
              1,
              "#f0f921"
             ]
            ],
            "type": "heatmap"
           }
          ],
          "histogram": [
           {
            "marker": {
             "pattern": {
              "fillmode": "overlay",
              "size": 10,
              "solidity": 0.2
             }
            },
            "type": "histogram"
           }
          ],
          "histogram2d": [
           {
            "colorbar": {
             "outlinewidth": 0,
             "ticks": ""
            },
            "colorscale": [
             [
              0,
              "#0d0887"
             ],
             [
              0.1111111111111111,
              "#46039f"
             ],
             [
              0.2222222222222222,
              "#7201a8"
             ],
             [
              0.3333333333333333,
              "#9c179e"
             ],
             [
              0.4444444444444444,
              "#bd3786"
             ],
             [
              0.5555555555555556,
              "#d8576b"
             ],
             [
              0.6666666666666666,
              "#ed7953"
             ],
             [
              0.7777777777777778,
              "#fb9f3a"
             ],
             [
              0.8888888888888888,
              "#fdca26"
             ],
             [
              1,
              "#f0f921"
             ]
            ],
            "type": "histogram2d"
           }
          ],
          "histogram2dcontour": [
           {
            "colorbar": {
             "outlinewidth": 0,
             "ticks": ""
            },
            "colorscale": [
             [
              0,
              "#0d0887"
             ],
             [
              0.1111111111111111,
              "#46039f"
             ],
             [
              0.2222222222222222,
              "#7201a8"
             ],
             [
              0.3333333333333333,
              "#9c179e"
             ],
             [
              0.4444444444444444,
              "#bd3786"
             ],
             [
              0.5555555555555556,
              "#d8576b"
             ],
             [
              0.6666666666666666,
              "#ed7953"
             ],
             [
              0.7777777777777778,
              "#fb9f3a"
             ],
             [
              0.8888888888888888,
              "#fdca26"
             ],
             [
              1,
              "#f0f921"
             ]
            ],
            "type": "histogram2dcontour"
           }
          ],
          "mesh3d": [
           {
            "colorbar": {
             "outlinewidth": 0,
             "ticks": ""
            },
            "type": "mesh3d"
           }
          ],
          "parcoords": [
           {
            "line": {
             "colorbar": {
              "outlinewidth": 0,
              "ticks": ""
             }
            },
            "type": "parcoords"
           }
          ],
          "pie": [
           {
            "automargin": true,
            "type": "pie"
           }
          ],
          "scatter": [
           {
            "fillpattern": {
             "fillmode": "overlay",
             "size": 10,
             "solidity": 0.2
            },
            "type": "scatter"
           }
          ],
          "scatter3d": [
           {
            "line": {
             "colorbar": {
              "outlinewidth": 0,
              "ticks": ""
             }
            },
            "marker": {
             "colorbar": {
              "outlinewidth": 0,
              "ticks": ""
             }
            },
            "type": "scatter3d"
           }
          ],
          "scattercarpet": [
           {
            "marker": {
             "colorbar": {
              "outlinewidth": 0,
              "ticks": ""
             }
            },
            "type": "scattercarpet"
           }
          ],
          "scattergeo": [
           {
            "marker": {
             "colorbar": {
              "outlinewidth": 0,
              "ticks": ""
             }
            },
            "type": "scattergeo"
           }
          ],
          "scattergl": [
           {
            "marker": {
             "colorbar": {
              "outlinewidth": 0,
              "ticks": ""
             }
            },
            "type": "scattergl"
           }
          ],
          "scattermap": [
           {
            "marker": {
             "colorbar": {
              "outlinewidth": 0,
              "ticks": ""
             }
            },
            "type": "scattermap"
           }
          ],
          "scattermapbox": [
           {
            "marker": {
             "colorbar": {
              "outlinewidth": 0,
              "ticks": ""
             }
            },
            "type": "scattermapbox"
           }
          ],
          "scatterpolar": [
           {
            "marker": {
             "colorbar": {
              "outlinewidth": 0,
              "ticks": ""
             }
            },
            "type": "scatterpolar"
           }
          ],
          "scatterpolargl": [
           {
            "marker": {
             "colorbar": {
              "outlinewidth": 0,
              "ticks": ""
             }
            },
            "type": "scatterpolargl"
           }
          ],
          "scatterternary": [
           {
            "marker": {
             "colorbar": {
              "outlinewidth": 0,
              "ticks": ""
             }
            },
            "type": "scatterternary"
           }
          ],
          "surface": [
           {
            "colorbar": {
             "outlinewidth": 0,
             "ticks": ""
            },
            "colorscale": [
             [
              0,
              "#0d0887"
             ],
             [
              0.1111111111111111,
              "#46039f"
             ],
             [
              0.2222222222222222,
              "#7201a8"
             ],
             [
              0.3333333333333333,
              "#9c179e"
             ],
             [
              0.4444444444444444,
              "#bd3786"
             ],
             [
              0.5555555555555556,
              "#d8576b"
             ],
             [
              0.6666666666666666,
              "#ed7953"
             ],
             [
              0.7777777777777778,
              "#fb9f3a"
             ],
             [
              0.8888888888888888,
              "#fdca26"
             ],
             [
              1,
              "#f0f921"
             ]
            ],
            "type": "surface"
           }
          ],
          "table": [
           {
            "cells": {
             "fill": {
              "color": "#EBF0F8"
             },
             "line": {
              "color": "white"
             }
            },
            "header": {
             "fill": {
              "color": "#C8D4E3"
             },
             "line": {
              "color": "white"
             }
            },
            "type": "table"
           }
          ]
         },
         "layout": {
          "annotationdefaults": {
           "arrowcolor": "#2a3f5f",
           "arrowhead": 0,
           "arrowwidth": 1
          },
          "autotypenumbers": "strict",
          "coloraxis": {
           "colorbar": {
            "outlinewidth": 0,
            "ticks": ""
           }
          },
          "colorscale": {
           "diverging": [
            [
             0,
             "#8e0152"
            ],
            [
             0.1,
             "#c51b7d"
            ],
            [
             0.2,
             "#de77ae"
            ],
            [
             0.3,
             "#f1b6da"
            ],
            [
             0.4,
             "#fde0ef"
            ],
            [
             0.5,
             "#f7f7f7"
            ],
            [
             0.6,
             "#e6f5d0"
            ],
            [
             0.7,
             "#b8e186"
            ],
            [
             0.8,
             "#7fbc41"
            ],
            [
             0.9,
             "#4d9221"
            ],
            [
             1,
             "#276419"
            ]
           ],
           "sequential": [
            [
             0,
             "#0d0887"
            ],
            [
             0.1111111111111111,
             "#46039f"
            ],
            [
             0.2222222222222222,
             "#7201a8"
            ],
            [
             0.3333333333333333,
             "#9c179e"
            ],
            [
             0.4444444444444444,
             "#bd3786"
            ],
            [
             0.5555555555555556,
             "#d8576b"
            ],
            [
             0.6666666666666666,
             "#ed7953"
            ],
            [
             0.7777777777777778,
             "#fb9f3a"
            ],
            [
             0.8888888888888888,
             "#fdca26"
            ],
            [
             1,
             "#f0f921"
            ]
           ],
           "sequentialminus": [
            [
             0,
             "#0d0887"
            ],
            [
             0.1111111111111111,
             "#46039f"
            ],
            [
             0.2222222222222222,
             "#7201a8"
            ],
            [
             0.3333333333333333,
             "#9c179e"
            ],
            [
             0.4444444444444444,
             "#bd3786"
            ],
            [
             0.5555555555555556,
             "#d8576b"
            ],
            [
             0.6666666666666666,
             "#ed7953"
            ],
            [
             0.7777777777777778,
             "#fb9f3a"
            ],
            [
             0.8888888888888888,
             "#fdca26"
            ],
            [
             1,
             "#f0f921"
            ]
           ]
          },
          "colorway": [
           "#636efa",
           "#EF553B",
           "#00cc96",
           "#ab63fa",
           "#FFA15A",
           "#19d3f3",
           "#FF6692",
           "#B6E880",
           "#FF97FF",
           "#FECB52"
          ],
          "font": {
           "color": "#2a3f5f"
          },
          "geo": {
           "bgcolor": "white",
           "lakecolor": "white",
           "landcolor": "white",
           "showlakes": true,
           "showland": true,
           "subunitcolor": "#C8D4E3"
          },
          "hoverlabel": {
           "align": "left"
          },
          "hovermode": "closest",
          "mapbox": {
           "style": "light"
          },
          "paper_bgcolor": "white",
          "plot_bgcolor": "white",
          "polar": {
           "angularaxis": {
            "gridcolor": "#EBF0F8",
            "linecolor": "#EBF0F8",
            "ticks": ""
           },
           "bgcolor": "white",
           "radialaxis": {
            "gridcolor": "#EBF0F8",
            "linecolor": "#EBF0F8",
            "ticks": ""
           }
          },
          "scene": {
           "xaxis": {
            "backgroundcolor": "white",
            "gridcolor": "#DFE8F3",
            "gridwidth": 2,
            "linecolor": "#EBF0F8",
            "showbackground": true,
            "ticks": "",
            "zerolinecolor": "#EBF0F8"
           },
           "yaxis": {
            "backgroundcolor": "white",
            "gridcolor": "#DFE8F3",
            "gridwidth": 2,
            "linecolor": "#EBF0F8",
            "showbackground": true,
            "ticks": "",
            "zerolinecolor": "#EBF0F8"
           },
           "zaxis": {
            "backgroundcolor": "white",
            "gridcolor": "#DFE8F3",
            "gridwidth": 2,
            "linecolor": "#EBF0F8",
            "showbackground": true,
            "ticks": "",
            "zerolinecolor": "#EBF0F8"
           }
          },
          "shapedefaults": {
           "line": {
            "color": "#2a3f5f"
           }
          },
          "ternary": {
           "aaxis": {
            "gridcolor": "#DFE8F3",
            "linecolor": "#A2B1C6",
            "ticks": ""
           },
           "baxis": {
            "gridcolor": "#DFE8F3",
            "linecolor": "#A2B1C6",
            "ticks": ""
           },
           "bgcolor": "white",
           "caxis": {
            "gridcolor": "#DFE8F3",
            "linecolor": "#A2B1C6",
            "ticks": ""
           }
          },
          "title": {
           "x": 0.05
          },
          "xaxis": {
           "automargin": true,
           "gridcolor": "#EBF0F8",
           "linecolor": "#EBF0F8",
           "ticks": "",
           "title": {
            "standoff": 15
           },
           "zerolinecolor": "#EBF0F8",
           "zerolinewidth": 2
          },
          "yaxis": {
           "automargin": true,
           "gridcolor": "#EBF0F8",
           "linecolor": "#EBF0F8",
           "ticks": "",
           "title": {
            "standoff": 15
           },
           "zerolinecolor": "#EBF0F8",
           "zerolinewidth": 2
          }
         }
        },
        "title": {
         "font": {
          "size": 20
         },
         "text": "Distribution of Coefficient of Variation",
         "x": 0.5,
         "xanchor": "center",
         "yanchor": "top"
        },
        "width": 900,
        "xaxis": {
         "anchor": "y",
         "domain": [
          0,
          1
         ],
         "title": {
          "font": {
           "size": 12
          },
          "text": "Coefficient of Variation"
         }
        },
        "yaxis": {
         "anchor": "x",
         "domain": [
          0,
          1
         ],
         "title": {
          "font": {
           "size": 12
          },
          "text": ""
         }
        }
       }
      },
      "image/png": "[encoded data removed]"
     },
     "metadata": {},
     "output_type": "display_data"
    }
   ],
   "source": [
    "fig = px.histogram(x=block_df[\"cov\"], title=\"Distribution of Coefficient of Variation\")\n",
    "fig = format_plot(fig, xlabel=\"Coefficient of Variation\", ylabel=\"\")\n",
    "# fig.write_image(\"imgs/chapter_4/cov.png\")\n",
    "fig.show()"
   ]
  },
  {
   "cell_type": "markdown",
   "id": "6158a241-547c-4dfa-bc4f-33f69c385386",
   "metadata": {},
   "source": [
    "### Residual Variability"
   ]
  },
  {
   "cell_type": "code",
   "execution_count": 23,
   "id": "52c21469-e816-48bc-b992-c72923124220",
   "metadata": {},
   "outputs": [],
   "source": [
    "from src.forecastability.cov import calc_norm_sd"
   ]
  },
  {
   "cell_type": "code",
   "execution_count": 24,
   "id": "8d719bd1-4cca-41a4-b4bb-860e04b98dbc",
   "metadata": {},
   "outputs": [
    {
     "data": {
      "application/vnd.jupyter.widget-view+json": {
       "model_id": "d066424e61b84afeb1010592f936c813",
       "version_major": 2,
       "version_minor": 0
      },
      "text/plain": [
       "  0%|          | 0/150 [00:00<?, ?it/s]"
      ]
     },
     "metadata": {},
     "output_type": "display_data"
    }
   ],
   "source": [
    "block_df[\"residual_variability\"] = block_df.progress_apply(lambda x: calc_norm_sd(x['residuals'],x['energy_consumption']), axis=1)"
   ]
  },
  {
   "cell_type": "code",
   "execution_count": 25,
   "id": "ef32e4bd-8fac-4e7b-b79e-3b68cf541816",
   "metadata": {},
   "outputs": [
    {
     "data": {
      "application/vnd.plotly.v1+json": {
       "config": {
        "plotlyServerURL": "https://plot.ly"
       },
       "data": [
        {
         "bingroup": "x",
         "hovertemplate": "x=%{x}<br>count=%{y}<extra></extra>",
         "legendgroup": "",
         "marker": {
          "color": "#636efa",
          "pattern": {
           "shape": ""
          }
         },
         "name": "",
         "orientation": "v",
         "showlegend": false,
         "type": "histogram",
         "x": {
          "bdata": "9JXHGmAw6T+Mt3zFl5bmP7eDRFrbS+I/uZt6eeH44T9Spfd1kdHyP5hGEQsv1t4/4fQ8iYVO7T+vfl4QWqDpP1mCVugIMuY/R5A4GsMI7D/zD6mCVSnlPwEyvK3bseg/bKVa/YSJ6j8DtdlU0fHjP2nVgfC5z/c/DOqC/9R2/T+GVkIxOCLwPxWxDlwgTuM/LvLb+lWH3z+iX/vkQxjpP7hv2cOYKeQ/X07MBgF87D+hN5sUNIblP5gGzpsaoPE/Vn4J2qQV8z8MZv4RcXzkP83FqXiTNuo/7D8fTa2C5D8ZYA5VjMrqP7UBIOo8IPE/aYco2nNl6j8wEipOLy/vP5A5muaYPuQ/bFkDWcrg5j94EwkiL2rqP2caKHY3F+g/JqissTAJ5D8cAiidZI70P6JOfQK41OQ/z/dTN4s/8D/qR9d0s1bYP7AmtOSFrPI/xt8rjClL7z9X0E7tBYf7P1X6VK4h/f4/gQwPWYKx5z/e3M8n86HnPzOtYGS8gABAJgQOdbFQ5T9U5dyYW2YBQDKrMYtEPvc/HeXBRws56T/Bw5OLGSDhP59q3JcVR+s/vy5Bq5hW5j+8Cm6Ly+3nP0fsBOHumOM/MY7N5+RS4j8vcVVt6SXgP02/36Aqg+Y/9Gfnfp6w9j9wvewAwbDmP4eF8e9CpeM/G6NfJJkH7z/wZ5Nn6L7uPxXR69xhhN8/B3zK11Un5j9Fo/Buo5voPwygbGeWr+A/IO0w9lkb8z8iUNg8Xx3gPzlZ8jeTCOA/2a8KEE6R8D+LpQ9lBiXxPzvza1hWvOk/CVUXSswU7j8v9tJdxeDkP752XbY4jPE/Aj6TGaZY7D852CQo8RzoPzmSbDcxTOk/zMmoRF494z/2fctUEuDqPzN+69CqC/A/tBOaYMmA6T92e8B6c3HiP+rx1B4DYOs/+xVEINNS6T8L6E8bZlboP5NnJhEIyOM/GMUXgtKi7z/jLn4ke4fmP/iorw/HzvA/8W6MYl2s6T+TPZRuMpLjP9BMGmh1Bvc/jO9shDVe9T8jah77p23oP/Cuvh901+8/I7a0DxJE6z98b3QYjE/5P/oAZqdO2PE/5pFPN3W85j+ExhwLbXnwP0ZaJob9Puo/V+88RZDC7j8TVN+ysuL0PzIjO8wS++g/POHqQQEb8j98G8spA6DyP6Iy9r2X7Pc/gbtzKXOR3T8i+hy6iZTsP1+WxlgA2t0/8JNs11y49z96o2TlTVPwPwRKg9lQcvQ/A3Y6Q4Q28T+OgBdtxkTzP8lVQ9QWpfA/q5uaeJT05j+jRizLI6HwP9YvVZTL0O0/R92laz1K6T9oOgRrMzrxPzQly9vKz+w/tesxkaLr9T+idmraemD8P0nr/OnP/Ow/SJn1bGlH9j/m8yrneTfjP/8QRRAGgvU/Wg79BObk8D9Xo/IglP/kP7Gefu0TzOs/iB2eVBum4z8ytsXhKi3eP4jPZz0FTPQ/dkVbz/3C+D8qoK3jt/LmP2CFf4NTXvI/VqnYtCSS4T+wpQxIdvLjP/NsbCS2+u8//ujlYCQz4z9BFQNbXJbiP0wRE3VoFus/Kkpw7g7z5z92maxYpW/0P6WJkqBZYuc/",
          "dtype": "f8"
         },
         "xaxis": "x",
         "yaxis": "y"
        }
       ],
       "layout": {
        "autosize": false,
        "barmode": "relative",
        "height": 500,
        "legend": {
         "title": {},
         "tracegroupgap": 0
        },
        "template": {
         "data": {
          "bar": [
           {
            "error_x": {
             "color": "#2a3f5f"
            },
            "error_y": {
             "color": "#2a3f5f"
            },
            "marker": {
             "line": {
              "color": "white",
              "width": 0.5
             },
             "pattern": {
              "fillmode": "overlay",
              "size": 10,
              "solidity": 0.2
             }
            },
            "type": "bar"
           }
          ],
          "barpolar": [
           {
            "marker": {
             "line": {
              "color": "white",
              "width": 0.5
             },
             "pattern": {
              "fillmode": "overlay",
              "size": 10,
              "solidity": 0.2
             }
            },
            "type": "barpolar"
           }
          ],
          "carpet": [
           {
            "aaxis": {
             "endlinecolor": "#2a3f5f",
             "gridcolor": "#C8D4E3",
             "linecolor": "#C8D4E3",
             "minorgridcolor": "#C8D4E3",
             "startlinecolor": "#2a3f5f"
            },
            "baxis": {
             "endlinecolor": "#2a3f5f",
             "gridcolor": "#C8D4E3",
             "linecolor": "#C8D4E3",
             "minorgridcolor": "#C8D4E3",
             "startlinecolor": "#2a3f5f"
            },
            "type": "carpet"
           }
          ],
          "choropleth": [
           {
            "colorbar": {
             "outlinewidth": 0,
             "ticks": ""
            },
            "type": "choropleth"
           }
          ],
          "contour": [
           {
            "colorbar": {
             "outlinewidth": 0,
             "ticks": ""
            },
            "colorscale": [
             [
              0,
              "#0d0887"
             ],
             [
              0.1111111111111111,
              "#46039f"
             ],
             [
              0.2222222222222222,
              "#7201a8"
             ],
             [
              0.3333333333333333,
              "#9c179e"
             ],
             [
              0.4444444444444444,
              "#bd3786"
             ],
             [
              0.5555555555555556,
              "#d8576b"
             ],
             [
              0.6666666666666666,
              "#ed7953"
             ],
             [
              0.7777777777777778,
              "#fb9f3a"
             ],
             [
              0.8888888888888888,
              "#fdca26"
             ],
             [
              1,
              "#f0f921"
             ]
            ],
            "type": "contour"
           }
          ],
          "contourcarpet": [
           {
            "colorbar": {
             "outlinewidth": 0,
             "ticks": ""
            },
            "type": "contourcarpet"
           }
          ],
          "heatmap": [
           {
            "colorbar": {
             "outlinewidth": 0,
             "ticks": ""
            },
            "colorscale": [
             [
              0,
              "#0d0887"
             ],
             [
              0.1111111111111111,
              "#46039f"
             ],
             [
              0.2222222222222222,
              "#7201a8"
             ],
             [
              0.3333333333333333,
              "#9c179e"
             ],
             [
              0.4444444444444444,
              "#bd3786"
             ],
             [
              0.5555555555555556,
              "#d8576b"
             ],
             [
              0.6666666666666666,
              "#ed7953"
             ],
             [
              0.7777777777777778,
              "#fb9f3a"
             ],
             [
              0.8888888888888888,
              "#fdca26"
             ],
             [
              1,
              "#f0f921"
             ]
            ],
            "type": "heatmap"
           }
          ],
          "histogram": [
           {
            "marker": {
             "pattern": {
              "fillmode": "overlay",
              "size": 10,
              "solidity": 0.2
             }
            },
            "type": "histogram"
           }
          ],
          "histogram2d": [
           {
            "colorbar": {
             "outlinewidth": 0,
             "ticks": ""
            },
            "colorscale": [
             [
              0,
              "#0d0887"
             ],
             [
              0.1111111111111111,
              "#46039f"
             ],
             [
              0.2222222222222222,
              "#7201a8"
             ],
             [
              0.3333333333333333,
              "#9c179e"
             ],
             [
              0.4444444444444444,
              "#bd3786"
             ],
             [
              0.5555555555555556,
              "#d8576b"
             ],
             [
              0.6666666666666666,
              "#ed7953"
             ],
             [
              0.7777777777777778,
              "#fb9f3a"
             ],
             [
              0.8888888888888888,
              "#fdca26"
             ],
             [
              1,
              "#f0f921"
             ]
            ],
            "type": "histogram2d"
           }
          ],
          "histogram2dcontour": [
           {
            "colorbar": {
             "outlinewidth": 0,
             "ticks": ""
            },
            "colorscale": [
             [
              0,
              "#0d0887"
             ],
             [
              0.1111111111111111,
              "#46039f"
             ],
             [
              0.2222222222222222,
              "#7201a8"
             ],
             [
              0.3333333333333333,
              "#9c179e"
             ],
             [
              0.4444444444444444,
              "#bd3786"
             ],
             [
              0.5555555555555556,
              "#d8576b"
             ],
             [
              0.6666666666666666,
              "#ed7953"
             ],
             [
              0.7777777777777778,
              "#fb9f3a"
             ],
             [
              0.8888888888888888,
              "#fdca26"
             ],
             [
              1,
              "#f0f921"
             ]
            ],
            "type": "histogram2dcontour"
           }
          ],
          "mesh3d": [
           {
            "colorbar": {
             "outlinewidth": 0,
             "ticks": ""
            },
            "type": "mesh3d"
           }
          ],
          "parcoords": [
           {
            "line": {
             "colorbar": {
              "outlinewidth": 0,
              "ticks": ""
             }
            },
            "type": "parcoords"
           }
          ],
          "pie": [
           {
            "automargin": true,
            "type": "pie"
           }
          ],
          "scatter": [
           {
            "fillpattern": {
             "fillmode": "overlay",
             "size": 10,
             "solidity": 0.2
            },
            "type": "scatter"
           }
          ],
          "scatter3d": [
           {
            "line": {
             "colorbar": {
              "outlinewidth": 0,
              "ticks": ""
             }
            },
            "marker": {
             "colorbar": {
              "outlinewidth": 0,
              "ticks": ""
             }
            },
            "type": "scatter3d"
           }
          ],
          "scattercarpet": [
           {
            "marker": {
             "colorbar": {
              "outlinewidth": 0,
              "ticks": ""
             }
            },
            "type": "scattercarpet"
           }
          ],
          "scattergeo": [
           {
            "marker": {
             "colorbar": {
              "outlinewidth": 0,
              "ticks": ""
             }
            },
            "type": "scattergeo"
           }
          ],
          "scattergl": [
           {
            "marker": {
             "colorbar": {
              "outlinewidth": 0,
              "ticks": ""
             }
            },
            "type": "scattergl"
           }
          ],
          "scattermap": [
           {
            "marker": {
             "colorbar": {
              "outlinewidth": 0,
              "ticks": ""
             }
            },
            "type": "scattermap"
           }
          ],
          "scattermapbox": [
           {
            "marker": {
             "colorbar": {
              "outlinewidth": 0,
              "ticks": ""
             }
            },
            "type": "scattermapbox"
           }
          ],
          "scatterpolar": [
           {
            "marker": {
             "colorbar": {
              "outlinewidth": 0,
              "ticks": ""
             }
            },
            "type": "scatterpolar"
           }
          ],
          "scatterpolargl": [
           {
            "marker": {
             "colorbar": {
              "outlinewidth": 0,
              "ticks": ""
             }
            },
            "type": "scatterpolargl"
           }
          ],
          "scatterternary": [
           {
            "marker": {
             "colorbar": {
              "outlinewidth": 0,
              "ticks": ""
             }
            },
            "type": "scatterternary"
           }
          ],
          "surface": [
           {
            "colorbar": {
             "outlinewidth": 0,
             "ticks": ""
            },
            "colorscale": [
             [
              0,
              "#0d0887"
             ],
             [
              0.1111111111111111,
              "#46039f"
             ],
             [
              0.2222222222222222,
              "#7201a8"
             ],
             [
              0.3333333333333333,
              "#9c179e"
             ],
             [
              0.4444444444444444,
              "#bd3786"
             ],
             [
              0.5555555555555556,
              "#d8576b"
             ],
             [
              0.6666666666666666,
              "#ed7953"
             ],
             [
              0.7777777777777778,
              "#fb9f3a"
             ],
             [
              0.8888888888888888,
              "#fdca26"
             ],
             [
              1,
              "#f0f921"
             ]
            ],
            "type": "surface"
           }
          ],
          "table": [
           {
            "cells": {
             "fill": {
              "color": "#EBF0F8"
             },
             "line": {
              "color": "white"
             }
            },
            "header": {
             "fill": {
              "color": "#C8D4E3"
             },
             "line": {
              "color": "white"
             }
            },
            "type": "table"
           }
          ]
         },
         "layout": {
          "annotationdefaults": {
           "arrowcolor": "#2a3f5f",
           "arrowhead": 0,
           "arrowwidth": 1
          },
          "autotypenumbers": "strict",
          "coloraxis": {
           "colorbar": {
            "outlinewidth": 0,
            "ticks": ""
           }
          },
          "colorscale": {
           "diverging": [
            [
             0,
             "#8e0152"
            ],
            [
             0.1,
             "#c51b7d"
            ],
            [
             0.2,
             "#de77ae"
            ],
            [
             0.3,
             "#f1b6da"
            ],
            [
             0.4,
             "#fde0ef"
            ],
            [
             0.5,
             "#f7f7f7"
            ],
            [
             0.6,
             "#e6f5d0"
            ],
            [
             0.7,
             "#b8e186"
            ],
            [
             0.8,
             "#7fbc41"
            ],
            [
             0.9,
             "#4d9221"
            ],
            [
             1,
             "#276419"
            ]
           ],
           "sequential": [
            [
             0,
             "#0d0887"
            ],
            [
             0.1111111111111111,
             "#46039f"
            ],
            [
             0.2222222222222222,
             "#7201a8"
            ],
            [
             0.3333333333333333,
             "#9c179e"
            ],
            [
             0.4444444444444444,
             "#bd3786"
            ],
            [
             0.5555555555555556,
             "#d8576b"
            ],
            [
             0.6666666666666666,
             "#ed7953"
            ],
            [
             0.7777777777777778,
             "#fb9f3a"
            ],
            [
             0.8888888888888888,
             "#fdca26"
            ],
            [
             1,
             "#f0f921"
            ]
           ],
           "sequentialminus": [
            [
             0,
             "#0d0887"
            ],
            [
             0.1111111111111111,
             "#46039f"
            ],
            [
             0.2222222222222222,
             "#7201a8"
            ],
            [
             0.3333333333333333,
             "#9c179e"
            ],
            [
             0.4444444444444444,
             "#bd3786"
            ],
            [
             0.5555555555555556,
             "#d8576b"
            ],
            [
             0.6666666666666666,
             "#ed7953"
            ],
            [
             0.7777777777777778,
             "#fb9f3a"
            ],
            [
             0.8888888888888888,
             "#fdca26"
            ],
            [
             1,
             "#f0f921"
            ]
           ]
          },
          "colorway": [
           "#636efa",
           "#EF553B",
           "#00cc96",
           "#ab63fa",
           "#FFA15A",
           "#19d3f3",
           "#FF6692",
           "#B6E880",
           "#FF97FF",
           "#FECB52"
          ],
          "font": {
           "color": "#2a3f5f"
          },
          "geo": {
           "bgcolor": "white",
           "lakecolor": "white",
           "landcolor": "white",
           "showlakes": true,
           "showland": true,
           "subunitcolor": "#C8D4E3"
          },
          "hoverlabel": {
           "align": "left"
          },
          "hovermode": "closest",
          "mapbox": {
           "style": "light"
          },
          "paper_bgcolor": "white",
          "plot_bgcolor": "white",
          "polar": {
           "angularaxis": {
            "gridcolor": "#EBF0F8",
            "linecolor": "#EBF0F8",
            "ticks": ""
           },
           "bgcolor": "white",
           "radialaxis": {
            "gridcolor": "#EBF0F8",
            "linecolor": "#EBF0F8",
            "ticks": ""
           }
          },
          "scene": {
           "xaxis": {
            "backgroundcolor": "white",
            "gridcolor": "#DFE8F3",
            "gridwidth": 2,
            "linecolor": "#EBF0F8",
            "showbackground": true,
            "ticks": "",
            "zerolinecolor": "#EBF0F8"
           },
           "yaxis": {
            "backgroundcolor": "white",
            "gridcolor": "#DFE8F3",
            "gridwidth": 2,
            "linecolor": "#EBF0F8",
            "showbackground": true,
            "ticks": "",
            "zerolinecolor": "#EBF0F8"
           },
           "zaxis": {
            "backgroundcolor": "white",
            "gridcolor": "#DFE8F3",
            "gridwidth": 2,
            "linecolor": "#EBF0F8",
            "showbackground": true,
            "ticks": "",
            "zerolinecolor": "#EBF0F8"
           }
          },
          "shapedefaults": {
           "line": {
            "color": "#2a3f5f"
           }
          },
          "ternary": {
           "aaxis": {
            "gridcolor": "#DFE8F3",
            "linecolor": "#A2B1C6",
            "ticks": ""
           },
           "baxis": {
            "gridcolor": "#DFE8F3",
            "linecolor": "#A2B1C6",
            "ticks": ""
           },
           "bgcolor": "white",
           "caxis": {
            "gridcolor": "#DFE8F3",
            "linecolor": "#A2B1C6",
            "ticks": ""
           }
          },
          "title": {
           "x": 0.05
          },
          "xaxis": {
           "automargin": true,
           "gridcolor": "#EBF0F8",
           "linecolor": "#EBF0F8",
           "ticks": "",
           "title": {
            "standoff": 15
           },
           "zerolinecolor": "#EBF0F8",
           "zerolinewidth": 2
          },
          "yaxis": {
           "automargin": true,
           "gridcolor": "#EBF0F8",
           "linecolor": "#EBF0F8",
           "ticks": "",
           "title": {
            "standoff": 15
           },
           "zerolinecolor": "#EBF0F8",
           "zerolinewidth": 2
          }
         }
        },
        "title": {
         "font": {
          "size": 20
         },
         "text": "Distribution of Residual Variability",
         "x": 0.5,
         "xanchor": "center",
         "yanchor": "top"
        },
        "width": 900,
        "xaxis": {
         "anchor": "y",
         "domain": [
          0,
          1
         ],
         "title": {
          "font": {
           "size": 12
          },
          "text": "Residual Variability"
         }
        },
        "yaxis": {
         "anchor": "x",
         "domain": [
          0,
          1
         ],
         "title": {
          "font": {
           "size": 12
          },
          "text": ""
         }
        }
       }
      }
     },
     "metadata": {},
     "output_type": "display_data"
    }
   ],
   "source": [
    "fig = px.histogram(x=block_df[\"residual_variability\"], title=\"Distribution of Residual Variability\")\n",
    "fig = format_plot(fig, xlabel=\"Residual Variability\", ylabel=\"\")\n",
    "# fig.write_image(\"imgs/chapter_4/rv.png\")\n",
    "fig.show()"
   ]
  },
  {
   "cell_type": "markdown",
   "id": "314e86d9-b542-4780-aa21-70709c077ec5",
   "metadata": {},
   "source": [
    "### Spectral Entropy"
   ]
  },
  {
   "cell_type": "code",
   "execution_count": 30,
   "id": "ea17b7f6-99ca-4e7c-a5f1-13ffd29f57bf",
   "metadata": {},
   "outputs": [
    {
     "ename": "ModuleNotFoundError",
     "evalue": "No module named 'datasetsforecast'",
     "output_type": "error",
     "traceback": [
      "\u001b[0;31m---------------------------------------------------------------------------\u001b[0m",
      "\u001b[0;31mModuleNotFoundError\u001b[0m                       Traceback (most recent call last)",
      "Cell \u001b[0;32mIn[30], line 4\u001b[0m\n\u001b[1;32m      1\u001b[0m \u001b[38;5;66;03m# import sys\u001b[39;00m\n\u001b[1;32m      2\u001b[0m \u001b[38;5;66;03m# sys.path.append('/Users/joaquinromero/Desktop/MTSF')\u001b[39;00m\n\u001b[0;32m----> 4\u001b[0m \u001b[38;5;28;01mfrom\u001b[39;00m\u001b[38;5;250m \u001b[39m\u001b[38;5;21;01msrc\u001b[39;00m\u001b[38;5;21;01m.\u001b[39;00m\u001b[38;5;21;01mforecastability\u001b[39;00m\u001b[38;5;21;01m.\u001b[39;00m\u001b[38;5;21;01mentropy\u001b[39;00m\u001b[38;5;250m \u001b[39m\u001b[38;5;28;01mimport\u001b[39;00m spectral_entropy\n",
      "File \u001b[0;32m~/Desktop/src/forecastability/entropy.py:11\u001b[0m\n\u001b[1;32m      8\u001b[0m \u001b[38;5;28;01mfrom\u001b[39;00m\u001b[38;5;250m \u001b[39m\u001b[38;5;21;01mnumba\u001b[39;00m\u001b[38;5;250m \u001b[39m\u001b[38;5;28;01mimport\u001b[39;00m njit\n\u001b[1;32m      9\u001b[0m \u001b[38;5;28;01mfrom\u001b[39;00m\u001b[38;5;250m \u001b[39m\u001b[38;5;21;01mscipy\u001b[39;00m\u001b[38;5;21;01m.\u001b[39;00m\u001b[38;5;21;01msignal\u001b[39;00m\u001b[38;5;250m \u001b[39m\u001b[38;5;28;01mimport\u001b[39;00m periodogram\n\u001b[0;32m---> 11\u001b[0m \u001b[38;5;28;01mfrom\u001b[39;00m\u001b[38;5;250m \u001b[39m\u001b[38;5;21;01msrc\u001b[39;00m\u001b[38;5;21;01m.\u001b[39;00m\u001b[38;5;21;01mutils\u001b[39;00m\u001b[38;5;21;01m.\u001b[39;00m\u001b[38;5;21;01mts_utils\u001b[39;00m\u001b[38;5;250m \u001b[39m\u001b[38;5;28;01mimport\u001b[39;00m make_stationary\n\u001b[1;32m     14\u001b[0m \u001b[38;5;129m@np\u001b[39m\u001b[38;5;241m.\u001b[39mvectorize\n\u001b[1;32m     15\u001b[0m \u001b[38;5;28;01mdef\u001b[39;00m\u001b[38;5;250m \u001b[39m\u001b[38;5;21m_xlog2x\u001b[39m(x):\n\u001b[1;32m     16\u001b[0m \u001b[38;5;250m    \u001b[39m\u001b[38;5;124;03m\"\"\"Returns x log2 x if x is positive, 0 if x == 0, and np.nan\u001b[39;00m\n\u001b[1;32m     17\u001b[0m \u001b[38;5;124;03m    otherwise. This handles the case when the power spectrum density\u001b[39;00m\n\u001b[1;32m     18\u001b[0m \u001b[38;5;124;03m    takes any zero value.\u001b[39;00m\n\u001b[1;32m     19\u001b[0m \u001b[38;5;124;03m    \"\"\"\u001b[39;00m\n",
      "File \u001b[0;32m~/Desktop/src/utils/ts_utils.py:30\u001b[0m\n\u001b[1;32m     25\u001b[0m         \u001b[38;5;28;01mreturn\u001b[39;00m stationary, partial(inverse_transform, x\u001b[38;5;241m=\u001b[39mx)\n\u001b[1;32m     27\u001b[0m \u001b[38;5;66;03m#from darts import TimeSeries\u001b[39;00m\n\u001b[1;32m     28\u001b[0m \u001b[38;5;66;03m#from darts.metrics.metrics import _get_values_or_raise\u001b[39;00m\n\u001b[1;32m     29\u001b[0m \u001b[38;5;66;03m#from darts.metrics import metrics as dart_metrics\u001b[39;00m\n\u001b[0;32m---> 30\u001b[0m \u001b[38;5;28;01mfrom\u001b[39;00m\u001b[38;5;250m \u001b[39m\u001b[38;5;21;01mdatasetsforecast\u001b[39;00m\u001b[38;5;21;01m.\u001b[39;00m\u001b[38;5;21;01mlosses\u001b[39;00m\u001b[38;5;250m \u001b[39m\u001b[38;5;28;01mimport\u001b[39;00m \u001b[38;5;241m*\u001b[39m\n\u001b[1;32m     31\u001b[0m \u001b[38;5;28;01mfrom\u001b[39;00m\u001b[38;5;250m \u001b[39m\u001b[38;5;21;01mtyping\u001b[39;00m\u001b[38;5;250m \u001b[39m\u001b[38;5;28;01mimport\u001b[39;00m Optional, Tuple, Union, Sequence, Callable, cast\n\u001b[1;32m     32\u001b[0m \u001b[38;5;28;01mfrom\u001b[39;00m\u001b[38;5;250m \u001b[39m\u001b[38;5;21;01msrc\u001b[39;00m\u001b[38;5;21;01m.\u001b[39;00m\u001b[38;5;21;01mutils\u001b[39;00m\u001b[38;5;21;01m.\u001b[39;00m\u001b[38;5;21;01mdata_utils\u001b[39;00m\u001b[38;5;250m \u001b[39m\u001b[38;5;28;01mimport\u001b[39;00m is_datetime_dtypes\n",
      "\u001b[0;31mModuleNotFoundError\u001b[0m: No module named 'datasetsforecast'"
     ]
    }
   ],
   "source": [
    "# import sys\n",
    "# sys.path.append('/Users/joaquinromero/Desktop/MTSF')\n",
    "\n",
    "from src.forecastability.entropy import spectral_entropy"
   ]
  },
  {
   "cell_type": "code",
   "execution_count": 39,
   "id": "172f84c4-cb7e-4fda-85d2-557bd823adbf",
   "metadata": {},
   "outputs": [
    {
     "ename": "NameError",
     "evalue": "name 'spectral_entropy' is not defined",
     "output_type": "error",
     "traceback": [
      "\u001b[0;31m---------------------------------------------------------------------------\u001b[0m",
      "\u001b[0;31mNameError\u001b[0m                                 Traceback (most recent call last)",
      "File \u001b[0;32m<timed exec>:1\u001b[0m\n",
      "\u001b[0;31mNameError\u001b[0m: name 'spectral_entropy' is not defined"
     ]
    }
   ],
   "source": [
    "%%time\n",
    "block_df[\"residual_spectral_entropy\"] = block_df.residuals.progress_apply(spectral_entropy)"
   ]
  },
  {
   "cell_type": "code",
   "execution_count": null,
   "id": "5740ab78-29d8-4fc0-a502-560bab887147",
   "metadata": {},
   "outputs": [],
   "source": [
    "%%time\n",
    "block_df[\"spectral_entropy\"] = block_df.energy_consumption.progress_apply(lambda x: spectral_entropy(x, transform_stationary=True))"
   ]
  },
  {
   "cell_type": "code",
   "execution_count": null,
   "id": "b737dd57-8898-4990-896c-4a0593abc40c",
   "metadata": {},
   "outputs": [],
   "source": [
    "fig = px.histogram(x=block_df[\"spectral_entropy\"], title=\"Distribution of Spectral Entropy\")\n",
    "fig = format_plot(fig, xlabel=\"Spectral Entropy\", ylabel=\"\")\n",
    "# fig.write_image(\"imgs/chapter_4/spectral_entropy.png\")\n",
    "fig.show()"
   ]
  },
  {
   "cell_type": "code",
   "execution_count": null,
   "id": "e542cbe3-c51e-4282-905b-15dd257260fd",
   "metadata": {},
   "outputs": [],
   "source": [
    "fig = px.histogram(x=block_df[\"residual_spectral_entropy\"], title=\"Distribution of Residual Spectral Entropy\")\n",
    "fig = format_plot(fig, xlabel=\"Residual Spectral Entropy\", ylabel=\"\")\n",
    "# fig.write_image(\"imgs/chapter_4/resid_spectral_entropy.png\")\n",
    "fig.show()"
   ]
  },
  {
   "cell_type": "markdown",
   "id": "cb5f64bc-5cf5-439f-a7d6-05bd914b139e",
   "metadata": {},
   "source": [
    "### Kaboudan Metric"
   ]
  },
  {
   "cell_type": "code",
   "execution_count": null,
   "id": "cf69183d-cee9-42c4-b802-cb25985d4e12",
   "metadata": {},
   "outputs": [],
   "source": [
    "#cd ../../"
   ]
  },
  {
   "cell_type": "code",
   "execution_count": null,
   "id": "fa35d9df-8bcb-4f53-bdd4-2a6d55eb5a47",
   "metadata": {},
   "outputs": [],
   "source": [
    "from src.forecastability.kaboudan import kaboudan_metric, modified_kaboudan_metric "
   ]
  },
  {
   "cell_type": "code",
   "execution_count": null,
   "id": "f350eada-a424-44c9-9671-4dec9a83f9d6",
   "metadata": {},
   "outputs": [],
   "source": [
    "%%time\n",
    "block_size = 5\n",
    "freq = '30min'\n",
    "#models = [SeasonalNaive(season_length=48*7)]\n",
    "#models = [SimpleExponentialSmoothing(alpha = 0.4, alias = 'SimpleExponentialSmoothing')]\n",
    "models = [Theta(season_length=48*7, decomposition_type='additive')]\n",
    "\n",
    "\n",
    "  \n",
    "block_df[\"kaboudan_metric\"] = [kaboudan_metric(r[0], \n",
    "                                               model=models[0], \n",
    "                                               block_size=block_size,  \n",
    "                                               backtesting_start=0.5, \n",
    "                                               n_folds=1,\n",
    "                                               freq = freq) \n",
    "                                               for r in tqdm(zip(*block_df[[\"energy_consumption\"]].to_dict(\"list\").values()), total=len(block_df))]\n",
    "\n",
    "block_df[['LCLid','kaboudan_metric']].head()"
   ]
  },
  {
   "cell_type": "code",
   "execution_count": null,
   "id": "856a6a3e-6ff7-45e5-99bf-248034667deb",
   "metadata": {},
   "outputs": [],
   "source": [
    "%%time\n",
    "block_df[\"modified_kaboudan_metric\"] = [modified_kaboudan_metric(r[0], \n",
    "                                               model=models[0], \n",
    "                                               block_size=block_size,  \n",
    "                                               backtesting_start=0.5, \n",
    "                                               n_folds=1,\n",
    "                                               freq = freq) \n",
    "                                               for r in tqdm(zip(*block_df[[\"energy_consumption\"]].to_dict(\"list\").values()), total=len(block_df))]\n",
    "\n",
    "block_df[['LCLid','modified_kaboudan_metric']].head()"
   ]
  },
  {
   "cell_type": "code",
   "execution_count": null,
   "id": "1ebaeb28-707f-40e6-a6c1-31985fb12609",
   "metadata": {},
   "outputs": [],
   "source": [
    "fig = px.histogram(x=block_df[\"modified_kaboudan_metric\"], title=\"Distribution of Modified Kaboudan Metric\")\n",
    "fig = format_plot(fig, xlabel=\"Modified Kaboudan Metric\", ylabel=\"\")\n",
    "# fig.write_image(\"imgs/chapter_4/kaboudan_metric.png\")\n",
    "fig.show()"
   ]
  },
  {
   "cell_type": "markdown",
   "id": "b1011cc0-e7e5-43a0-9cd2-2aec3e60009f",
   "metadata": {},
   "source": [
    "## Analysis"
   ]
  },
  {
   "cell_type": "code",
   "execution_count": null,
   "id": "63295220-5e2f-41b7-9b66-1c3306f1aef9",
   "metadata": {},
   "outputs": [],
   "source": [
    "forecastability_df = block_df[[\"LCLid\",'spectral_entropy', 'residual_spectral_entropy',\n",
    "       'modified_kaboudan_metric', 'cov', \"kaboudan_metric\",\n",
    "       'residual_variability']]\n",
    "rename_dict = {\n",
    "    \"spectral_entropy\": \"Spectral Entropy\",\n",
    "    \"residual_spectral_entropy\" : \"Residual Spectral Entropy\",\n",
    "    \"modified_kaboudan_metric\": \"Modified Kaboudan Metric\",\n",
    "    \"kaboudan_metric\": \"Kaboudan Metric\",\n",
    "    \"cov\": \"Coefficient of Variation\",\n",
    "    \"residual_variability\": \"Residual Variability\",\n",
    "    \n",
    "}\n",
    "forecastability_df.to_pickle(output/\"forecastability_metrics.pkl\")"
   ]
  },
  {
   "cell_type": "code",
   "execution_count": null,
   "id": "981d782f-357f-42a9-be5a-fcdb19e8b7fb",
   "metadata": {},
   "outputs": [],
   "source": [
    "def biplot(item_metrics_df, features, title=\"Loading Plot\"):\n",
    "    X = item_metrics_df[features].dropna()\n",
    "    scaler = StandardScaler()\n",
    "    scaler.fit(X)\n",
    "    X=scaler.transform(X)\n",
    "    pca = PCA(n_components=2, whiten=True)\n",
    "    components = pca.fit_transform(X)\n",
    "    loadings = pca.components_.T * np.sqrt(pca.explained_variance_)\n",
    "    xs = components[:,0]\n",
    "    ys = components[:,1]\n",
    "    scalex = 1.0/(xs.max() - xs.min())\n",
    "    scaley = 1.0/(ys.max() - ys.min())\n",
    "    xl = loadings[:,0]\n",
    "    yl = loadings[:,1]\n",
    "    scalex_loading = 1.0/(xl.max() - xl.min())\n",
    "    scaley_loading = 1.0/(yl.max() - yl.min())\n",
    "    fig = px.scatter(x=xs * scalex, y=ys * scaley, opacity=0, template=\"plotly_white\")\n",
    "    for i, feature in enumerate(features):\n",
    "        fig.add_shape(\n",
    "            type='line',\n",
    "            x0=0, y0=0,\n",
    "            x1=xl[i]* scalex_loading,\n",
    "            y1=yl[i]* scaley_loading,\n",
    "            line=dict(color=\"indigo\",\n",
    "                width=2,\n",
    "                dash=\"dot\")\n",
    "        )\n",
    "        fig.add_annotation(\n",
    "            x=xl[i]* scalex_loading,\n",
    "            y=yl[i]* scaley_loading,\n",
    "            ax=0, ay=0,\n",
    "            xanchor=\"center\",\n",
    "            yanchor=\"bottom\",\n",
    "            text= feature, #\"<b>\"+feature+\"</b>\",\n",
    "            font=dict(\n",
    "            family=\"Open Sans, sans serif\",\n",
    "            size=16,\n",
    "            color=\"MediumPurple\"\n",
    "            ),\n",
    "        )\n",
    "    fig.update_layout(title_text=title, title_x=0.5)\n",
    "    \n",
    "    fig.show()"
   ]
  },
  {
   "cell_type": "markdown",
   "id": "5042d6e4-c7e5-4fb1-8f09-9ca7e0efdf8a",
   "metadata": {},
   "source": [
    "### Rank Correlation of Forecastability Metrics"
   ]
  },
  {
   "cell_type": "code",
   "execution_count": null,
   "id": "5b86cea5-138b-4724-91e0-ccd935b8d20b",
   "metadata": {},
   "outputs": [],
   "source": [
    "def calc_rank(rank_df):\n",
    "    for col in ['spectral_entropy', 'residual_spectral_entropy',\n",
    "       'cov',\"residual_variability\"]:\n",
    "        rank_df[col] = rank_df[col].rank(ascending=True)\n",
    "\n",
    "    for col in ['modified_kaboudan_metric',\"kaboudan_metric\"]:\n",
    "        rank_df[col] = rank_df[col].rank(ascending=False)\n",
    "\n",
    "    return rank_df\n",
    "\n",
    "item_rankings =calc_rank(forecastability_df.drop(columns=\"LCLid\"))\n",
    "item_rankings.rename(columns=rename_dict, inplace=True)\n",
    "item_rankings.rename(index=rename_dict, inplace=True)"
   ]
  },
  {
   "cell_type": "code",
   "execution_count": null,
   "id": "c07c34c5-b5c7-4cb3-b26c-754796e2cfb6",
   "metadata": {},
   "outputs": [],
   "source": [
    "corr_df = item_rankings.corr(method='spearman')\n",
    "# corr_df.style.background_gradient(cmap='coolwarm')"
   ]
  },
  {
   "cell_type": "code",
   "execution_count": null,
   "id": "baaadc3a-3058-439b-a60a-42e7496ee34d",
   "metadata": {},
   "outputs": [],
   "source": [
    "# mask = np.triu(np.ones_like(corr_df, dtype=bool))\n",
    "# df_mask = corr_df.mask(mask).round(2)\n",
    "df_mask = corr_df.round(2)\n",
    "\n",
    "fig = ff.create_annotated_heatmap(z=df_mask.to_numpy(), \n",
    "                                  x=df_mask.columns.tolist(),\n",
    "                                  y=df_mask.columns.tolist(),\n",
    "                                  colorscale=px.colors.diverging.RdYlGn,\n",
    "                                  hoverinfo=\"none\", #Shows hoverinfo for null values\n",
    "                                  showscale=True, ygap=1, xgap=1\n",
    "                                 )\n",
    "\n",
    "fig.update_xaxes(side=\"bottom\")\n",
    "# fig.update_traces(textfont_size=14)\n",
    "fig.update_layout(\n",
    "    title_text='Rank Correlation Plot - Forecastability Metrics', \n",
    "    title_x=0.5, \n",
    "    width=700, \n",
    "    height=700,\n",
    "    xaxis_showgrid=False,\n",
    "    yaxis_showgrid=False,\n",
    "    xaxis_zeroline=False,\n",
    "    yaxis_zeroline=False,\n",
    "    yaxis_autorange='reversed',\n",
    "    template='plotly_white'\n",
    ")\n",
    "\n",
    "# NaN values are not handled automatically and are displayed in the figure\n",
    "# So we need to get rid of the text manually\n",
    "for i in range(len(fig.layout.annotations)):\n",
    "    fig.layout.annotations[i]['font']['size']=15\n",
    "    if fig.layout.annotations[i].text == 'nan':\n",
    "        fig.layout.annotations[i].text = \"\"\n",
    "\n",
    "# fig.write_image(\"imgs/chapter_4/rank_correlation_forecastability.png\")\n",
    "fig.show()"
   ]
  },
  {
   "cell_type": "markdown",
   "id": "f88f23bc-1edf-4a10-b5c2-f170108ccc97",
   "metadata": {},
   "source": [
    "### Rank Correlation of Forecastability vs Forecast Metrics"
   ]
  },
  {
   "cell_type": "code",
   "execution_count": null,
   "id": "03dc3bfd-d5ba-4091-8aea-984bd3066180",
   "metadata": {},
   "outputs": [],
   "source": [
    "base_metric_df = pd.read_pickle(output/\"baseline_test_metrics_df.pkl\")"
   ]
  },
  {
   "cell_type": "code",
   "execution_count": null,
   "id": "9f597f1f-f13b-4858-bb6c-cc7c52061305",
   "metadata": {},
   "outputs": [],
   "source": [
    "base_metric_df.head()"
   ]
  },
  {
   "cell_type": "code",
   "execution_count": null,
   "id": "4446353c-dde1-4bd2-b638-891a920c5033",
   "metadata": {},
   "outputs": [],
   "source": [
    "forecastability_df = forecastability_df.merge(base_metric_df[base_metric_df.Algorithm==\"AutoETS\"], on=\"LCLid\", how='inner')"
   ]
  },
  {
   "cell_type": "code",
   "execution_count": null,
   "id": "65dea312-1e52-49e7-bc33-08ae2a76f177",
   "metadata": {},
   "outputs": [],
   "source": [
    "forecastability_df.head()"
   ]
  },
  {
   "cell_type": "code",
   "execution_count": null,
   "id": "1b5e9540-85f0-4016-80e7-b18c91489743",
   "metadata": {},
   "outputs": [],
   "source": [
    "def calc_rank(rank_df):\n",
    "    for col in ['spectral_entropy', 'residual_spectral_entropy',\n",
    "       'cov',\"residual_variability\"]:\n",
    "        rank_df[col] = rank_df[col].rank(ascending=True)\n",
    "\n",
    "    for col in ['modified_kaboudan_metric',\"kaboudan_metric\", \"mae\", \"mse\", \"mase\"]:\n",
    "        rank_df[col] = rank_df[col].rank(ascending=False)\n",
    "    \n",
    "    # for col in [\"Forecast Bias\"]:\n",
    "    #     rank_df[col] = np.abs(rank_df[col]).rank(ascending=False)\n",
    "\n",
    "    return rank_df\n",
    "\n",
    "item_rankings =calc_rank(forecastability_df.drop(columns=[\"LCLid\",'Algorithm']))\n",
    "item_rankings.rename(columns=rename_dict, inplace=True)\n",
    "item_rankings.rename(index=rename_dict, inplace=True)\n",
    "item_rankings.drop(columns=['Time Elapsed', \"Model\"], inplace=True)\n",
    "corr_df = item_rankings.corr(method='spearman')"
   ]
  },
  {
   "cell_type": "code",
   "execution_count": null,
   "id": "9d228f79-b2a1-475a-85cd-f32403b70cf4",
   "metadata": {},
   "outputs": [],
   "source": [
    "corr_df.head()"
   ]
  },
  {
   "cell_type": "code",
   "execution_count": null,
   "id": "7dd66774-6c5e-4b0f-bd26-bb4c50adc0a5",
   "metadata": {},
   "outputs": [],
   "source": [
    "mask = np.zeros_like(corr_df).astype(bool)\n",
    "mask[:5,:] = True\n",
    "df_mask = corr_df.mask(mask).round(2)\n",
    "\n",
    "fig = ff.create_annotated_heatmap(z=df_mask.to_numpy(), \n",
    "                                  x=df_mask.columns.tolist(),\n",
    "                                  y=df_mask.columns.tolist(),\n",
    "                                  colorscale=px.colors.diverging.RdYlGn,\n",
    "                                  hoverinfo=\"none\", #Shows hoverinfo for null values\n",
    "                                  showscale=True, ygap=1, xgap=1\n",
    "                                 )\n",
    "\n",
    "fig.update_xaxes(side=\"bottom\")\n",
    "# fig.update_traces(textfont_size=14)\n",
    "fig.update_layout(\n",
    "    title_text='Rank Correlation Plot - Forecastability vs Forecast Metrics', \n",
    "    title_x=0.5, \n",
    "    width=700, \n",
    "    height=700,\n",
    "    xaxis_showgrid=False,\n",
    "    yaxis_showgrid=False,\n",
    "    xaxis_zeroline=False,\n",
    "    yaxis_zeroline=False,\n",
    "    # yaxis_autorange='reversed',\n",
    "    xaxis_range=[-0.5,5.5],\n",
    "    yaxis_range=[5.5, 9.5]\n",
    ")\n",
    "\n",
    "# NaN values are not handled automatically and are displayed in the figure\n",
    "# So we need to get rid of the text manually\n",
    "for i in range(len(fig.layout.annotations)):\n",
    "    fig.layout.annotations[i]['font']['size']=15\n",
    "    fig.layout.annotations[i]['font']['color']=\"#000000\"\n",
    "    if fig.layout.annotations[i].text == 'nan':\n",
    "        fig.layout.annotations[i].text = \"\"\n",
    "# fig.write_image(\"imgs/chapter_4/rank_correlation_forecastability_vs_metrics.png\")\n",
    "fig.show()"
   ]
  },
  {
   "cell_type": "code",
   "execution_count": null,
   "id": "fa562d19-d83a-436d-8967-796fd3e2ae33",
   "metadata": {},
   "outputs": [],
   "source": [
    "biplot(item_rankings, features=['Spectral Entropy',\"Residual Spectral Entropy\",\n",
    "       'Modified Kaboudan Metric', 'Coefficient of Variation',\"Kaboudan Metric\",\n",
    "       'Residual Variability', \"mae\", \"mse\", \"mase\"\n",
    "       #,\"Forecast Bias\"\n",
    "       ], title=\"<b>Loading Plot: Forecastability Metrics vs Error Metrics</b>\")"
   ]
  },
  {
   "cell_type": "code",
   "execution_count": null,
   "id": "80596aea-5266-4c0d-ad2c-f8aaf9719c5a",
   "metadata": {},
   "outputs": [],
   "source": []
  },
  {
   "cell_type": "code",
   "execution_count": null,
   "id": "0dfefa00-c32f-46b6-8632-9b9d6e2154b6",
   "metadata": {},
   "outputs": [],
   "source": []
  },
  {
   "cell_type": "code",
   "execution_count": null,
   "id": "2d68ae2c-f22b-427b-8036-4629f966f73c",
   "metadata": {},
   "outputs": [],
   "source": []
  }
 ],
 "metadata": {
  "kernelspec": {
   "display_name": "Python 3 (ipykernel)",
   "language": "python",
   "name": "python3"
  },
  "language_info": {
   "codemirror_mode": {
    "name": "ipython",
    "version": 3
   },
   "file_extension": ".py",
   "mimetype": "text/x-python",
   "name": "python",
   "nbconvert_exporter": "python",
   "pygments_lexer": "ipython3",
   "version": "3.10.18"
  }
 },
 "nbformat": 4,
 "nbformat_minor": 5
}
