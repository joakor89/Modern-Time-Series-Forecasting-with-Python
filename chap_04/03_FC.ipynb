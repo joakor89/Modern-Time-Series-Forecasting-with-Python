{
 "cells": [
  {
   "cell_type": "markdown",
   "id": "3b02e63c-b60d-4c64-ac9f-e429d1eb1400",
   "metadata": {},
   "source": [
    "# Forecastability\n",
    "\n",
    "### Loading Libraries"
   ]
  },
  {
   "cell_type": "code",
   "execution_count": null,
   "id": "363711ad-52ab-4c61-9b1f-ecf36c85a4e4",
   "metadata": {},
   "outputs": [],
   "source": [
    "%cd ../.."
   ]
  },
  {
   "cell_type": "code",
   "execution_count": null,
   "id": "fd8b162b-fd6a-418c-80de-17ce2ba7f76b",
   "metadata": {},
   "outputs": [],
   "source": [
    "# Numerical Computing\n",
    "import numpy as np\n",
    "\n",
    "# Data Manipulation\n",
    "import pandas as pd\n",
    "\n",
    "# Data Visualization\n",
    "import seaborn as sns\n",
    "import plotly.io as pio\n",
    "import plotly.express as px\n",
    "import matplotlib.pyplot as plt\n",
    "import plotly.graph_objects as go\n",
    "import plotly.figure_factory as ff\n",
    "\n",
    "# Warnings\n",
    "import warnings\n",
    "import humanize\n",
    "\n",
    "# IO & Requests\n",
    "import time\n",
    "import random\n",
    "import requests\n",
    "from io import StringIO\n",
    "\n",
    "# StatsModels\n",
    "import statsmodels.api as sm\n",
    "from statsmodels.tsa.seasonal import MSTL , DecomposeResult\n",
    "\n",
    "# OS\n",
    "import os\n",
    "import sys\n",
    "import pickleshare\n",
    "import missingno as msno\n",
    "from itertools import cycle\n",
    "\n",
    "# PyArrow\n",
    "import pyarrow as pa\n",
    "\n",
    "# FuncTools\n",
    "from functools import partial\n",
    "\n",
    "# Path & Notebook Optimizer\n",
    "from pathlib import Path\n",
    "import missingno as msno\n",
    "from tqdm.auto import tqdm\n",
    "\n",
    "# Scikit-Learn\n",
    "from sklearn.decomposition import PCA\n",
    "from sklearn.metrics import mean_absolute_error\n",
    "from sklearn.preprocessing import StandardScaler\n",
    "\n",
    "# IPython\n",
    "from IPython.display import display, HTML\n",
    "\n",
    "# NIXTLA\n",
    "from statsforecast.core import StatsForecast\n",
    "from utilsforecast.plotting import plot_series\n",
    "from utilsforecast.evaluation import evaluate\n",
    "\n",
    "# Forecast\n",
    "# from datasetsforecast.losses import *\n",
    "from utilsforecast.evaluation import evaluate\n",
    "from statsforecast.losses import mse, mae, mape, rmse, smape, mase\n",
    "\n",
    "# Custom Libraries\n",
    "from src.utils import plotting_utils\n",
    "from src.utils.ts_utils import forecast_bias"
   ]
  },
  {
   "cell_type": "code",
   "execution_count": null,
   "id": "6a301f97-a362-425c-96b8-b530b92f5a36",
   "metadata": {},
   "outputs": [],
   "source": [
    "#from darts.models import Theta\n",
    "#from darts.utils.utils import ModelMode, SeasonalityMode"
   ]
  },
  {
   "cell_type": "code",
   "execution_count": null,
   "id": "f9838f63-48eb-4523-bcf6-079647280889",
   "metadata": {},
   "outputs": [],
   "source": [
    "!pip install statsforecast"
   ]
  },
  {
   "cell_type": "code",
   "execution_count": null,
   "id": "c4cd80fe-f178-4eba-ab2c-ce33a5eb6282",
   "metadata": {},
   "outputs": [],
   "source": [
    "tqdm.pandas()\n",
    "\n",
    "random.seed(42)\n",
    "\n",
    "np.random.seed(42)\n",
    "\n",
    "pio.templates.default = \"plotly_white\"\n",
    "\n",
    "sys.path.append('/Users/joaquinromero/Desktop/MTSF')"
   ]
  },
  {
   "cell_type": "code",
   "execution_count": null,
   "id": "125c4332-ba6d-4b55-9b58-2bfe831244a9",
   "metadata": {},
   "outputs": [],
   "source": [
    "warnings.filterwarnings(\"ignore\", category=UserWarning)\n",
    "\n",
    "warnings.filterwarnings(\"ignore\", category=FutureWarning)\n",
    "\n",
    "warnings.filterwarnings(\"ignore\", message=\"'force_all_finite' was renamed to 'ensure_all_finite'\")"
   ]
  },
  {
   "cell_type": "code",
   "execution_count": null,
   "id": "8511eb0b-b93d-4a04-8920-d8607199c0e6",
   "metadata": {},
   "outputs": [],
   "source": [
    "if 'NIXTLA_ID_AS_COL' in os.environ:\n",
    "    del os.environ['NIXTLA_ID_AS_COL']\n",
    "    \n",
    "os.environ['NIXTLA_ID_AS_COL'] = '1'"
   ]
  },
  {
   "cell_type": "code",
   "execution_count": null,
   "id": "daccd057-5b4d-47ff-b752-b7d3f863311d",
   "metadata": {},
   "outputs": [],
   "source": [
    "os.makedirs(\"imgs/chapter_04\", exist_ok=True)\n",
    "preprocessed = Path.home() / \"Desktop\" / \"data\" / \"london_smart_meters\" / \"preprocessed\"\n",
    "\n",
    "output = Path(\"data/london_smart_meters/output\")"
   ]
  },
  {
   "cell_type": "code",
   "execution_count": null,
   "id": "07526cd4-14e7-4965-bb71-603b56ed7c9f",
   "metadata": {},
   "outputs": [],
   "source": [
    "def format_plot(fig, legends = None, xlabel=\"Time\", ylabel=\"Value\"):\n",
    "    if legends:\n",
    "        names = cycle(legends)\n",
    "        fig.for_each_trace(lambda t:  t.update(name = next(names)))\n",
    "    fig.update_layout(\n",
    "            autosize=False,\n",
    "            width=900,\n",
    "            height=500,\n",
    "            title={\n",
    "            'x':0.5,\n",
    "            'xanchor': 'center',\n",
    "            'yanchor': 'top'},\n",
    "            titlefont={\n",
    "                \"size\": 20\n",
    "            },\n",
    "            legend_title = None,\n",
    "            yaxis=dict(\n",
    "                title_text=ylabel,\n",
    "                titlefont=dict(size=12),\n",
    "            ),\n",
    "            xaxis=dict(\n",
    "                title_text=xlabel,\n",
    "                titlefont=dict(size=12),\n",
    "            )\n",
    "        )\n",
    "    return fig"
   ]
  },
  {
   "cell_type": "markdown",
   "id": "97eb9388-9c33-492a-93c3-84f73741927b",
   "metadata": {},
   "source": [
    "## Reading & Selecting Households"
   ]
  },
  {
   "cell_type": "code",
   "execution_count": null,
   "id": "c2e44cdf-4704-4158-9506-dc1947c7644a",
   "metadata": {},
   "outputs": [],
   "source": [
    "try:\n",
    "    lclid_acorn_map = pd.read_pickle(\"data/london_smart_meters/preprocessed/london_smart_meters_lclid_acorn_map.pkl\")\n",
    "except FileNotFoundError:\n",
    "    display(HTML(\"\"\"\n",
    "    <div class=\"alert alert-block alert-warning\">\n",
    "    <b>Warning!</b> File not found. Please make sure you have run 02 - Preprocessing London Smart Meter Dataset.ipynb in Chapter02\n",
    "    </div>\n",
    "    \"\"\"))"
   ]
  },
  {
   "cell_type": "code",
   "execution_count": null,
   "id": "0537b8e4-0c77-4895-8d4f-df35c3adf1a9",
   "metadata": {},
   "outputs": [],
   "source": [
    "affluent_households = lclid_acorn_map.loc[lclid_acorn_map.Acorn_grouped==\"Affluent\", [\"LCLid\",'file']]\n",
    "\n",
    "adversity_households = lclid_acorn_map.loc[lclid_acorn_map.Acorn_grouped==\"Adversity\", [\"LCLid\",'file']]\n",
    "\n",
    "comfortable_households = lclid_acorn_map.loc[lclid_acorn_map.Acorn_grouped==\"Comfortable\", [\"LCLid\",'file']]"
   ]
  },
  {
   "cell_type": "code",
   "execution_count": null,
   "id": "a3d2a2d0-ff50-4668-af78-7c1e92ab50d9",
   "metadata": {},
   "outputs": [],
   "source": [
    "size = 50\n",
    "\n",
    "selected_households = pd.concat(\n",
    "    [\n",
    "        affluent_households.sample(size, random_state=76),\n",
    "        comfortable_households.sample(size, random_state=76),\n",
    "        adversity_households.sample(size, random_state=76),\n",
    "    ]\n",
    ")\n",
    "selected_households['block']=selected_households.file.str.split(\"_\", expand=True).iloc[:,1].astype(int)"
   ]
  },
  {
   "cell_type": "code",
   "execution_count": null,
   "id": "a92dcde6-8ed3-4d84-88df-5b49d57128c2",
   "metadata": {},
   "outputs": [],
   "source": [
    "# Extracting The Paths to The Different Blocks and Extracting The Starting and Ending Blocks\n",
    "path_blocks = [\n",
    "    (p, *list(map(int, p.name.split(\"_\")[5].split(\".\")[0].split(\"-\"))))\n",
    "    for p in Path(\"data/london_smart_meters/preprocessed\").glob(\n",
    "        \"london_smart_meters_merged_block*\"\n",
    "    )\n",
    "]"
   ]
  },
  {
   "cell_type": "code",
   "execution_count": null,
   "id": "b212d421-e1ce-41a3-8e4d-03516e69ef57",
   "metadata": {},
   "outputs": [],
   "source": [
    "household_df_l = []\n",
    "\n",
    "for path, start_b, end_b in tqdm(path_blocks):\n",
    "    block_df = pd.read_parquet(path)\n",
    "    selected_households['block'].between\n",
    "    mask = selected_households['block'].between(start_b, end_b)\n",
    "    lclids = selected_households.loc[mask, \"LCLid\"]\n",
    "    household_df_l.append(block_df.loc[block_df.LCLid.isin(lclids)])"
   ]
  },
  {
   "cell_type": "code",
   "execution_count": null,
   "id": "24b99f62-2ecd-4cc3-b0e4-26afddce20a1",
   "metadata": {},
   "outputs": [],
   "source": [
    "block_df = pd.concat(household_df_l)\n",
    "\n",
    "del household_df_l\n",
    "block_df.head()"
   ]
  },
  {
   "cell_type": "markdown",
   "id": "c2d17d32-1ced-4522-8189-09a5e434f430",
   "metadata": {},
   "source": [
    "### Filling in Missing Values"
   ]
  },
  {
   "cell_type": "code",
   "execution_count": null,
   "id": "531a5731-22cd-4808-8bdc-3921aace56b7",
   "metadata": {},
   "outputs": [],
   "source": [
    "from src.imputation.interpolation import SeasonalInterpolation"
   ]
  },
  {
   "cell_type": "code",
   "execution_count": null,
   "id": "8d841df5-f1e5-4111-8754-30f852e11ce2",
   "metadata": {},
   "outputs": [],
   "source": [
    "block_df.energy_consumption = block_df.energy_consumption.progress_apply(lambda x: SeasonalInterpolation(seasonal_period=48*7).fit_transform(x.reshape(-1,1)).squeeze())"
   ]
  },
  {
   "cell_type": "markdown",
   "id": "393b38aa-9431-4a0d-af9a-1e500850ce25",
   "metadata": {},
   "source": [
    "## Deseasonalize and Detrend"
   ]
  },
  {
   "cell_type": "code",
   "execution_count": null,
   "id": "89d2bd18-f34e-4c60-99f8-d016f2364779",
   "metadata": {},
   "outputs": [],
   "source": [
    "from src.decomposition.seasonal import MultiSeasonalDecomposition"
   ]
  },
  {
   "cell_type": "code",
   "execution_count": null,
   "id": "068c9203-7b2d-4fae-b0a5-83131ef3e938",
   "metadata": {},
   "outputs": [],
   "source": [
    "def make_stationary(row):\n",
    "#     print(row)\n",
    "    # Order of row: LCLid, timestamp, frequency, energy_consumption\n",
    "    ts = row[3]\n",
    "    dates = pd.date_range(start=row[1], freq=row[2], periods=len(ts))\n",
    "    stl = MultiSeasonalDecomposition(seasonal_model=\"fourier\",seasonality_periods=[\"day_of_year\", \"day_of_week\", \"hour\"], model = \"additive\", n_fourier_terms=10)\n",
    "    res = stl.fit(pd.Series(ts, index=dates))\n",
    "    return res.resid.values# + res.trend.values\n",
    "\n",
    "with warnings.catch_warnings():\n",
    "    warnings.filterwarnings(\"ignore\", category=DeprecationWarning) \n",
    "    block_df['residuals'] =[make_stationary(r) for r in tqdm(zip(*block_df.to_dict(\"list\").values()), total=len(block_df))]"
   ]
  },
  {
   "cell_type": "markdown",
   "id": "19ea4bab-576b-4f1b-8ebc-16bd845a605d",
   "metadata": {},
   "source": [
    "## Forecastability Metrics\n",
    "\n",
    "### Coefficient of Variation"
   ]
  },
  {
   "cell_type": "code",
   "execution_count": null,
   "id": "4c8889dd-d7e7-4a13-98b5-b45902bb64e5",
   "metadata": {},
   "outputs": [],
   "source": [
    "from src.forecastability.cov import calc_cov"
   ]
  },
  {
   "cell_type": "code",
   "execution_count": null,
   "id": "fad0b9cd-a55b-438e-9390-dab96518ecfe",
   "metadata": {},
   "outputs": [],
   "source": [
    "block_df[\"cov\"] = block_df.progress_apply(lambda x: calc_cov(x['energy_consumption']), axis=1)"
   ]
  },
  {
   "cell_type": "code",
   "execution_count": null,
   "id": "4ce71356-40df-4ea7-b02b-c5e9121eff0b",
   "metadata": {},
   "outputs": [],
   "source": [
    "fig = px.histogram(x=block_df[\"cov\"], title=\"Distribution of Coefficient of Variation\")\n",
    "fig = format_plot(fig, xlabel=\"Coefficient of Variation\", ylabel=\"\")\n",
    "# fig.write_image(\"imgs/chapter_4/cov.png\")\n",
    "fig.show()"
   ]
  },
  {
   "cell_type": "markdown",
   "id": "6158a241-547c-4dfa-bc4f-33f69c385386",
   "metadata": {},
   "source": [
    "### Residual Variability"
   ]
  },
  {
   "cell_type": "code",
   "execution_count": null,
   "id": "52c21469-e816-48bc-b992-c72923124220",
   "metadata": {},
   "outputs": [],
   "source": [
    "from src.forecastability.cov import calc_norm_sd"
   ]
  },
  {
   "cell_type": "code",
   "execution_count": null,
   "id": "8d719bd1-4cca-41a4-b4bb-860e04b98dbc",
   "metadata": {},
   "outputs": [],
   "source": [
    "block_df[\"residual_variability\"] = block_df.progress_apply(lambda x: calc_norm_sd(x['residuals'],x['energy_consumption']), axis=1)"
   ]
  },
  {
   "cell_type": "code",
   "execution_count": null,
   "id": "ef32e4bd-8fac-4e7b-b79e-3b68cf541816",
   "metadata": {},
   "outputs": [],
   "source": [
    "fig = px.histogram(x=block_df[\"residual_variability\"], title=\"Distribution of Residual Variability\")\n",
    "fig = format_plot(fig, xlabel=\"Residual Variability\", ylabel=\"\")\n",
    "# fig.write_image(\"imgs/chapter_4/rv.png\")\n",
    "fig.show()"
   ]
  },
  {
   "cell_type": "markdown",
   "id": "314e86d9-b542-4780-aa21-70709c077ec5",
   "metadata": {},
   "source": [
    "### Spectral Entropy"
   ]
  },
  {
   "cell_type": "code",
   "execution_count": null,
   "id": "ea17b7f6-99ca-4e7c-a5f1-13ffd29f57bf",
   "metadata": {},
   "outputs": [],
   "source": [
    "from src.forecastability.entropy import spectral_entropy"
   ]
  },
  {
   "cell_type": "code",
   "execution_count": null,
   "id": "172f84c4-cb7e-4fda-85d2-557bd823adbf",
   "metadata": {},
   "outputs": [],
   "source": [
    "%%time\n",
    "block_df[\"residual_spectral_entropy\"] = block_df.residuals.progress_apply(spectral_entropy)"
   ]
  },
  {
   "cell_type": "code",
   "execution_count": null,
   "id": "5740ab78-29d8-4fc0-a502-560bab887147",
   "metadata": {},
   "outputs": [],
   "source": [
    "%%time\n",
    "block_df[\"spectral_entropy\"] = block_df.energy_consumption.progress_apply(lambda x: spectral_entropy(x, transform_stationary=True))"
   ]
  },
  {
   "cell_type": "code",
   "execution_count": null,
   "id": "b737dd57-8898-4990-896c-4a0593abc40c",
   "metadata": {},
   "outputs": [],
   "source": [
    "fig = px.histogram(x=block_df[\"spectral_entropy\"], title=\"Distribution of Spectral Entropy\")\n",
    "fig = format_plot(fig, xlabel=\"Spectral Entropy\", ylabel=\"\")\n",
    "# fig.write_image(\"imgs/chapter_4/spectral_entropy.png\")\n",
    "fig.show()"
   ]
  },
  {
   "cell_type": "code",
   "execution_count": null,
   "id": "e542cbe3-c51e-4282-905b-15dd257260fd",
   "metadata": {},
   "outputs": [],
   "source": [
    "fig = px.histogram(x=block_df[\"residual_spectral_entropy\"], title=\"Distribution of Residual Spectral Entropy\")\n",
    "fig = format_plot(fig, xlabel=\"Residual Spectral Entropy\", ylabel=\"\")\n",
    "# fig.write_image(\"imgs/chapter_4/resid_spectral_entropy.png\")\n",
    "fig.show()"
   ]
  },
  {
   "cell_type": "markdown",
   "id": "cb5f64bc-5cf5-439f-a7d6-05bd914b139e",
   "metadata": {},
   "source": [
    "### Kaboudan Metric"
   ]
  },
  {
   "cell_type": "code",
   "execution_count": null,
   "id": "cf69183d-cee9-42c4-b802-cb25985d4e12",
   "metadata": {},
   "outputs": [],
   "source": [
    "#cd ../../"
   ]
  },
  {
   "cell_type": "code",
   "execution_count": null,
   "id": "fa35d9df-8bcb-4f53-bdd4-2a6d55eb5a47",
   "metadata": {},
   "outputs": [],
   "source": [
    "from src.forecastability.kaboudan import kaboudan_metric, modified_kaboudan_metric "
   ]
  },
  {
   "cell_type": "code",
   "execution_count": null,
   "id": "f350eada-a424-44c9-9671-4dec9a83f9d6",
   "metadata": {},
   "outputs": [],
   "source": [
    "%%time\n",
    "block_size = 5\n",
    "freq = '30min'\n",
    "#models = [SeasonalNaive(season_length=48*7)]\n",
    "#models = [SimpleExponentialSmoothing(alpha = 0.4, alias = 'SimpleExponentialSmoothing')]\n",
    "models = [Theta(season_length=48*7, decomposition_type='additive')]\n",
    "\n",
    "\n",
    "  \n",
    "block_df[\"kaboudan_metric\"] = [kaboudan_metric(r[0], \n",
    "                                               model=models[0], \n",
    "                                               block_size=block_size,  \n",
    "                                               backtesting_start=0.5, \n",
    "                                               n_folds=1,\n",
    "                                               freq = freq) \n",
    "                                               for r in tqdm(zip(*block_df[[\"energy_consumption\"]].to_dict(\"list\").values()), total=len(block_df))]\n",
    "\n",
    "block_df[['LCLid','kaboudan_metric']].head()"
   ]
  },
  {
   "cell_type": "code",
   "execution_count": null,
   "id": "856a6a3e-6ff7-45e5-99bf-248034667deb",
   "metadata": {},
   "outputs": [],
   "source": [
    "%%time\n",
    "block_df[\"modified_kaboudan_metric\"] = [modified_kaboudan_metric(r[0], \n",
    "                                               model=models[0], \n",
    "                                               block_size=block_size,  \n",
    "                                               backtesting_start=0.5, \n",
    "                                               n_folds=1,\n",
    "                                               freq = freq) \n",
    "                                               for r in tqdm(zip(*block_df[[\"energy_consumption\"]].to_dict(\"list\").values()), total=len(block_df))]\n",
    "\n",
    "block_df[['LCLid','modified_kaboudan_metric']].head()"
   ]
  },
  {
   "cell_type": "code",
   "execution_count": null,
   "id": "1ebaeb28-707f-40e6-a6c1-31985fb12609",
   "metadata": {},
   "outputs": [],
   "source": [
    "fig = px.histogram(x=block_df[\"modified_kaboudan_metric\"], title=\"Distribution of Modified Kaboudan Metric\")\n",
    "fig = format_plot(fig, xlabel=\"Modified Kaboudan Metric\", ylabel=\"\")\n",
    "# fig.write_image(\"imgs/chapter_4/kaboudan_metric.png\")\n",
    "fig.show()"
   ]
  },
  {
   "cell_type": "markdown",
   "id": "b1011cc0-e7e5-43a0-9cd2-2aec3e60009f",
   "metadata": {},
   "source": [
    "## Analysis"
   ]
  },
  {
   "cell_type": "code",
   "execution_count": null,
   "id": "63295220-5e2f-41b7-9b66-1c3306f1aef9",
   "metadata": {},
   "outputs": [],
   "source": [
    "forecastability_df = block_df[[\"LCLid\",'spectral_entropy', 'residual_spectral_entropy',\n",
    "       'modified_kaboudan_metric', 'cov', \"kaboudan_metric\",\n",
    "       'residual_variability']]\n",
    "rename_dict = {\n",
    "    \"spectral_entropy\": \"Spectral Entropy\",\n",
    "    \"residual_spectral_entropy\" : \"Residual Spectral Entropy\",\n",
    "    \"modified_kaboudan_metric\": \"Modified Kaboudan Metric\",\n",
    "    \"kaboudan_metric\": \"Kaboudan Metric\",\n",
    "    \"cov\": \"Coefficient of Variation\",\n",
    "    \"residual_variability\": \"Residual Variability\",\n",
    "    \n",
    "}\n",
    "forecastability_df.to_pickle(output/\"forecastability_metrics.pkl\")"
   ]
  },
  {
   "cell_type": "code",
   "execution_count": null,
   "id": "981d782f-357f-42a9-be5a-fcdb19e8b7fb",
   "metadata": {},
   "outputs": [],
   "source": [
    "def biplot(item_metrics_df, features, title=\"Loading Plot\"):\n",
    "    X = item_metrics_df[features].dropna()\n",
    "    scaler = StandardScaler()\n",
    "    scaler.fit(X)\n",
    "    X=scaler.transform(X)\n",
    "    pca = PCA(n_components=2, whiten=True)\n",
    "    components = pca.fit_transform(X)\n",
    "    loadings = pca.components_.T * np.sqrt(pca.explained_variance_)\n",
    "    xs = components[:,0]\n",
    "    ys = components[:,1]\n",
    "    scalex = 1.0/(xs.max() - xs.min())\n",
    "    scaley = 1.0/(ys.max() - ys.min())\n",
    "    xl = loadings[:,0]\n",
    "    yl = loadings[:,1]\n",
    "    scalex_loading = 1.0/(xl.max() - xl.min())\n",
    "    scaley_loading = 1.0/(yl.max() - yl.min())\n",
    "    fig = px.scatter(x=xs * scalex, y=ys * scaley, opacity=0, template=\"plotly_white\")\n",
    "    for i, feature in enumerate(features):\n",
    "        fig.add_shape(\n",
    "            type='line',\n",
    "            x0=0, y0=0,\n",
    "            x1=xl[i]* scalex_loading,\n",
    "            y1=yl[i]* scaley_loading,\n",
    "            line=dict(color=\"indigo\",\n",
    "                width=2,\n",
    "                dash=\"dot\")\n",
    "        )\n",
    "        fig.add_annotation(\n",
    "            x=xl[i]* scalex_loading,\n",
    "            y=yl[i]* scaley_loading,\n",
    "            ax=0, ay=0,\n",
    "            xanchor=\"center\",\n",
    "            yanchor=\"bottom\",\n",
    "            text= feature, #\"<b>\"+feature+\"</b>\",\n",
    "            font=dict(\n",
    "            family=\"Open Sans, sans serif\",\n",
    "            size=16,\n",
    "            color=\"MediumPurple\"\n",
    "            ),\n",
    "        )\n",
    "    fig.update_layout(title_text=title, title_x=0.5)\n",
    "    \n",
    "    fig.show()"
   ]
  },
  {
   "cell_type": "markdown",
   "id": "5042d6e4-c7e5-4fb1-8f09-9ca7e0efdf8a",
   "metadata": {},
   "source": [
    "### Rank Correlation of Forecastability Metrics"
   ]
  },
  {
   "cell_type": "code",
   "execution_count": null,
   "id": "5b86cea5-138b-4724-91e0-ccd935b8d20b",
   "metadata": {},
   "outputs": [],
   "source": [
    "def calc_rank(rank_df):\n",
    "    for col in ['spectral_entropy', 'residual_spectral_entropy',\n",
    "       'cov',\"residual_variability\"]:\n",
    "        rank_df[col] = rank_df[col].rank(ascending=True)\n",
    "\n",
    "    for col in ['modified_kaboudan_metric',\"kaboudan_metric\"]:\n",
    "        rank_df[col] = rank_df[col].rank(ascending=False)\n",
    "\n",
    "    return rank_df\n",
    "\n",
    "item_rankings =calc_rank(forecastability_df.drop(columns=\"LCLid\"))\n",
    "item_rankings.rename(columns=rename_dict, inplace=True)\n",
    "item_rankings.rename(index=rename_dict, inplace=True)"
   ]
  },
  {
   "cell_type": "code",
   "execution_count": null,
   "id": "c07c34c5-b5c7-4cb3-b26c-754796e2cfb6",
   "metadata": {},
   "outputs": [],
   "source": [
    "corr_df = item_rankings.corr(method='spearman')\n",
    "# corr_df.style.background_gradient(cmap='coolwarm')"
   ]
  },
  {
   "cell_type": "code",
   "execution_count": null,
   "id": "baaadc3a-3058-439b-a60a-42e7496ee34d",
   "metadata": {},
   "outputs": [],
   "source": [
    "# mask = np.triu(np.ones_like(corr_df, dtype=bool))\n",
    "# df_mask = corr_df.mask(mask).round(2)\n",
    "df_mask = corr_df.round(2)\n",
    "\n",
    "fig = ff.create_annotated_heatmap(z=df_mask.to_numpy(), \n",
    "                                  x=df_mask.columns.tolist(),\n",
    "                                  y=df_mask.columns.tolist(),\n",
    "                                  colorscale=px.colors.diverging.RdYlGn,\n",
    "                                  hoverinfo=\"none\", #Shows hoverinfo for null values\n",
    "                                  showscale=True, ygap=1, xgap=1\n",
    "                                 )\n",
    "\n",
    "fig.update_xaxes(side=\"bottom\")\n",
    "# fig.update_traces(textfont_size=14)\n",
    "fig.update_layout(\n",
    "    title_text='Rank Correlation Plot - Forecastability Metrics', \n",
    "    title_x=0.5, \n",
    "    width=700, \n",
    "    height=700,\n",
    "    xaxis_showgrid=False,\n",
    "    yaxis_showgrid=False,\n",
    "    xaxis_zeroline=False,\n",
    "    yaxis_zeroline=False,\n",
    "    yaxis_autorange='reversed',\n",
    "    template='plotly_white'\n",
    ")\n",
    "\n",
    "# NaN values are not handled automatically and are displayed in the figure\n",
    "# So we need to get rid of the text manually\n",
    "for i in range(len(fig.layout.annotations)):\n",
    "    fig.layout.annotations[i]['font']['size']=15\n",
    "    if fig.layout.annotations[i].text == 'nan':\n",
    "        fig.layout.annotations[i].text = \"\"\n",
    "\n",
    "# fig.write_image(\"imgs/chapter_4/rank_correlation_forecastability.png\")\n",
    "fig.show()"
   ]
  },
  {
   "cell_type": "markdown",
   "id": "f88f23bc-1edf-4a10-b5c2-f170108ccc97",
   "metadata": {},
   "source": [
    "### Rank Correlation of Forecastability vs Forecast Metrics"
   ]
  },
  {
   "cell_type": "code",
   "execution_count": null,
   "id": "03dc3bfd-d5ba-4091-8aea-984bd3066180",
   "metadata": {},
   "outputs": [],
   "source": [
    "base_metric_df = pd.read_pickle(output/\"baseline_test_metrics_df.pkl\")"
   ]
  },
  {
   "cell_type": "code",
   "execution_count": null,
   "id": "9f597f1f-f13b-4858-bb6c-cc7c52061305",
   "metadata": {},
   "outputs": [],
   "source": [
    "base_metric_df.head()"
   ]
  },
  {
   "cell_type": "code",
   "execution_count": null,
   "id": "4446353c-dde1-4bd2-b638-891a920c5033",
   "metadata": {},
   "outputs": [],
   "source": [
    "forecastability_df = forecastability_df.merge(base_metric_df[base_metric_df.Algorithm==\"AutoETS\"], on=\"LCLid\", how='inner')"
   ]
  },
  {
   "cell_type": "code",
   "execution_count": null,
   "id": "65dea312-1e52-49e7-bc33-08ae2a76f177",
   "metadata": {},
   "outputs": [],
   "source": [
    "forecastability_df.head()"
   ]
  },
  {
   "cell_type": "code",
   "execution_count": null,
   "id": "1b5e9540-85f0-4016-80e7-b18c91489743",
   "metadata": {},
   "outputs": [],
   "source": [
    "def calc_rank(rank_df):\n",
    "    for col in ['spectral_entropy', 'residual_spectral_entropy',\n",
    "       'cov',\"residual_variability\"]:\n",
    "        rank_df[col] = rank_df[col].rank(ascending=True)\n",
    "\n",
    "    for col in ['modified_kaboudan_metric',\"kaboudan_metric\", \"mae\", \"mse\", \"mase\"]:\n",
    "        rank_df[col] = rank_df[col].rank(ascending=False)\n",
    "    \n",
    "    # for col in [\"Forecast Bias\"]:\n",
    "    #     rank_df[col] = np.abs(rank_df[col]).rank(ascending=False)\n",
    "\n",
    "    return rank_df\n",
    "\n",
    "item_rankings =calc_rank(forecastability_df.drop(columns=[\"LCLid\",'Algorithm']))\n",
    "item_rankings.rename(columns=rename_dict, inplace=True)\n",
    "item_rankings.rename(index=rename_dict, inplace=True)\n",
    "item_rankings.drop(columns=['Time Elapsed', \"Model\"], inplace=True)\n",
    "corr_df = item_rankings.corr(method='spearman')"
   ]
  },
  {
   "cell_type": "code",
   "execution_count": null,
   "id": "9d228f79-b2a1-475a-85cd-f32403b70cf4",
   "metadata": {},
   "outputs": [],
   "source": [
    "corr_df.head()"
   ]
  },
  {
   "cell_type": "code",
   "execution_count": null,
   "id": "7dd66774-6c5e-4b0f-bd26-bb4c50adc0a5",
   "metadata": {},
   "outputs": [],
   "source": [
    "mask = np.zeros_like(corr_df).astype(bool)\n",
    "mask[:5,:] = True\n",
    "df_mask = corr_df.mask(mask).round(2)\n",
    "\n",
    "fig = ff.create_annotated_heatmap(z=df_mask.to_numpy(), \n",
    "                                  x=df_mask.columns.tolist(),\n",
    "                                  y=df_mask.columns.tolist(),\n",
    "                                  colorscale=px.colors.diverging.RdYlGn,\n",
    "                                  hoverinfo=\"none\", #Shows hoverinfo for null values\n",
    "                                  showscale=True, ygap=1, xgap=1\n",
    "                                 )\n",
    "\n",
    "fig.update_xaxes(side=\"bottom\")\n",
    "# fig.update_traces(textfont_size=14)\n",
    "fig.update_layout(\n",
    "    title_text='Rank Correlation Plot - Forecastability vs Forecast Metrics', \n",
    "    title_x=0.5, \n",
    "    width=700, \n",
    "    height=700,\n",
    "    xaxis_showgrid=False,\n",
    "    yaxis_showgrid=False,\n",
    "    xaxis_zeroline=False,\n",
    "    yaxis_zeroline=False,\n",
    "    # yaxis_autorange='reversed',\n",
    "    xaxis_range=[-0.5,5.5],\n",
    "    yaxis_range=[5.5, 9.5]\n",
    ")\n",
    "\n",
    "# NaN values are not handled automatically and are displayed in the figure\n",
    "# So we need to get rid of the text manually\n",
    "for i in range(len(fig.layout.annotations)):\n",
    "    fig.layout.annotations[i]['font']['size']=15\n",
    "    fig.layout.annotations[i]['font']['color']=\"#000000\"\n",
    "    if fig.layout.annotations[i].text == 'nan':\n",
    "        fig.layout.annotations[i].text = \"\"\n",
    "# fig.write_image(\"imgs/chapter_4/rank_correlation_forecastability_vs_metrics.png\")\n",
    "fig.show()"
   ]
  },
  {
   "cell_type": "code",
   "execution_count": null,
   "id": "fa562d19-d83a-436d-8967-796fd3e2ae33",
   "metadata": {},
   "outputs": [],
   "source": [
    "biplot(item_rankings, features=['Spectral Entropy',\"Residual Spectral Entropy\",\n",
    "       'Modified Kaboudan Metric', 'Coefficient of Variation',\"Kaboudan Metric\",\n",
    "       'Residual Variability', \"mae\", \"mse\", \"mase\"\n",
    "       #,\"Forecast Bias\"\n",
    "       ], title=\"<b>Loading Plot: Forecastability Metrics vs Error Metrics</b>\")"
   ]
  },
  {
   "cell_type": "code",
   "execution_count": null,
   "id": "80596aea-5266-4c0d-ad2c-f8aaf9719c5a",
   "metadata": {},
   "outputs": [],
   "source": []
  },
  {
   "cell_type": "code",
   "execution_count": null,
   "id": "0dfefa00-c32f-46b6-8632-9b9d6e2154b6",
   "metadata": {},
   "outputs": [],
   "source": []
  },
  {
   "cell_type": "code",
   "execution_count": null,
   "id": "2d68ae2c-f22b-427b-8036-4629f966f73c",
   "metadata": {},
   "outputs": [],
   "source": []
  }
 ],
 "metadata": {
  "kernelspec": {
   "display_name": "Python 3 (ipykernel)",
   "language": "python",
   "name": "python3"
  },
  "language_info": {
   "codemirror_mode": {
    "name": "ipython",
    "version": 3
   },
   "file_extension": ".py",
   "mimetype": "text/x-python",
   "name": "python",
   "nbconvert_exporter": "python",
   "pygments_lexer": "ipython3",
   "version": "3.10.18"
  }
 },
 "nbformat": 4,
 "nbformat_minor": 5
}
