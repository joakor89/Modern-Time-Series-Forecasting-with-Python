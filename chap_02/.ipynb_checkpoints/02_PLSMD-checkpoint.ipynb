{
 "cells": [
  {
   "cell_type": "markdown",
   "id": "6ff172d0-200e-45c7-bd93-12c66a8f739a",
   "metadata": {},
   "source": [
    "# Preprocessing London Smart Meter Dataset\n",
    "\n",
    "### Loading Libraries"
   ]
  },
  {
   "cell_type": "code",
   "execution_count": 15,
   "id": "8784e370-a9e3-4508-8c65-592a4dcc86dd",
   "metadata": {},
   "outputs": [],
   "source": [
    "#Changing The Working Directory to The Root\n",
    "# %cd ../.."
   ]
  },
  {
   "cell_type": "code",
   "execution_count": 28,
   "id": "b80aec8c-5f93-46c6-9e78-8ebafecf32e0",
   "metadata": {},
   "outputs": [],
   "source": [
    "# Numerical Computing\n",
    "import numpy as np\n",
    "\n",
    "# Data Manipulation\n",
    "import pandas as pd\n",
    "\n",
    "# Data Visualization\n",
    "import plotly.io as pio\n",
    "import plotly.express as px\n",
    "import matplotlib.pyplot as plt\n",
    "\n",
    "# OS\n",
    "import os\n",
    "import pickleshare\n",
    "\n",
    "# Path & Notebook Optimizer\n",
    "from pathlib import Path\n",
    "from tqdm.auto import tqdm"
   ]
  },
  {
   "cell_type": "code",
   "execution_count": 19,
   "id": "5ea4c180-0a14-4fc1-9f58-94e04e6d8d3f",
   "metadata": {},
   "outputs": [],
   "source": [
    "%load_ext autoreload\n",
    "%autoreload 2"
   ]
  },
  {
   "cell_type": "code",
   "execution_count": 20,
   "id": "dbbfae4c-c9bf-4ff0-a5aa-6e2b7fc589ad",
   "metadata": {},
   "outputs": [],
   "source": [
    "tqdm.pandas()\n",
    "\n",
    "np.random.seed()\n",
    "\n",
    "pio.templates.default = \"plotly_white\""
   ]
  },
  {
   "cell_type": "code",
   "execution_count": 27,
   "id": "3a101a10-1b1f-4817-9d4e-df7bc7a2022c",
   "metadata": {},
   "outputs": [
    {
     "name": "stdout",
     "output_type": "stream",
     "text": [
      "Requirement already satisfied: pickleshare in /opt/anaconda3/lib/python3.12/site-packages (0.7.5)\n"
     ]
    }
   ],
   "source": [
    "!pip install pickleshare"
   ]
  },
  {
   "cell_type": "markdown",
   "id": "abe5ceb1-dcd0-49cd-9f5a-ec1aee5ea7af",
   "metadata": {},
   "source": [
    "### Reading Data to Pandas Dataframe\n",
    "\n",
    "#### Data Wrangling"
   ]
  },
  {
   "cell_type": "code",
   "execution_count": 38,
   "id": "cdbc3f52-5776-40a2-abb2-7d497b71255d",
   "metadata": {},
   "outputs": [],
   "source": [
    "# os.chdir(\"/Users/joaquinromero/Desktop/MTSF\")"
   ]
  },
  {
   "cell_type": "code",
   "execution_count": 39,
   "id": "e811bdda-af9a-46d1-9719-b8098ddbbdcc",
   "metadata": {},
   "outputs": [],
   "source": [
    "# !pwd"
   ]
  },
  {
   "cell_type": "code",
   "execution_count": 34,
   "id": "883c4582-ffaa-43ac-9e4e-6df000a0c4a0",
   "metadata": {},
   "outputs": [],
   "source": [
    "source_data = Path(\"data/london_smart_meters/\")\n",
    "\n",
    "block_data_path = source_data/\"hhblock_dataset\"/\"hhblock_dataset\""
   ]
  },
  {
   "cell_type": "code",
   "execution_count": 36,
   "id": "ed4a5f57-ba8b-4993-ab58-43792d729e3c",
   "metadata": {},
   "outputs": [],
   "source": [
    "assert block_data_path.is_dir(), \"Please check if the dataset has been downloaded properly. Refer to the Preface of the book or the Readme in the repo for expected data\""
   ]
  },
  {
   "cell_type": "markdown",
   "id": "c144b531-9cf0-4d15-ba7e-afbd122867ab",
   "metadata": {},
   "source": [
    "#### Converting The Half-Hourly Block Level Dataset into a Time Series Data"
   ]
  },
  {
   "cell_type": "code",
   "execution_count": 37,
   "id": "0e719020-4060-48d1-a8b4-e6bb592d3b3b",
   "metadata": {},
   "outputs": [
    {
     "data": {
      "text/html": [
       "<div>\n",
       "<style scoped>\n",
       "    .dataframe tbody tr th:only-of-type {\n",
       "        vertical-align: middle;\n",
       "    }\n",
       "\n",
       "    .dataframe tbody tr th {\n",
       "        vertical-align: top;\n",
       "    }\n",
       "\n",
       "    .dataframe thead th {\n",
       "        text-align: right;\n",
       "    }\n",
       "</style>\n",
       "<table border=\"1\" class=\"dataframe\">\n",
       "  <thead>\n",
       "    <tr style=\"text-align: right;\">\n",
       "      <th></th>\n",
       "      <th>LCLid</th>\n",
       "      <th>day</th>\n",
       "      <th>hh_0</th>\n",
       "      <th>hh_1</th>\n",
       "      <th>hh_2</th>\n",
       "      <th>hh_3</th>\n",
       "      <th>hh_4</th>\n",
       "      <th>hh_5</th>\n",
       "      <th>hh_6</th>\n",
       "      <th>hh_7</th>\n",
       "      <th>...</th>\n",
       "      <th>hh_38</th>\n",
       "      <th>hh_39</th>\n",
       "      <th>hh_40</th>\n",
       "      <th>hh_41</th>\n",
       "      <th>hh_42</th>\n",
       "      <th>hh_43</th>\n",
       "      <th>hh_44</th>\n",
       "      <th>hh_45</th>\n",
       "      <th>hh_46</th>\n",
       "      <th>hh_47</th>\n",
       "    </tr>\n",
       "  </thead>\n",
       "  <tbody>\n",
       "    <tr>\n",
       "      <th>0</th>\n",
       "      <td>MAC000002</td>\n",
       "      <td>2012-10-13</td>\n",
       "      <td>0.263</td>\n",
       "      <td>0.269</td>\n",
       "      <td>0.275</td>\n",
       "      <td>0.256</td>\n",
       "      <td>0.211</td>\n",
       "      <td>0.136</td>\n",
       "      <td>0.161</td>\n",
       "      <td>0.119</td>\n",
       "      <td>...</td>\n",
       "      <td>0.918</td>\n",
       "      <td>0.278</td>\n",
       "      <td>0.267</td>\n",
       "      <td>0.239</td>\n",
       "      <td>0.230</td>\n",
       "      <td>0.233</td>\n",
       "      <td>0.235</td>\n",
       "      <td>0.188</td>\n",
       "      <td>0.259</td>\n",
       "      <td>0.250</td>\n",
       "    </tr>\n",
       "    <tr>\n",
       "      <th>1</th>\n",
       "      <td>MAC000002</td>\n",
       "      <td>2012-10-14</td>\n",
       "      <td>0.262</td>\n",
       "      <td>0.166</td>\n",
       "      <td>0.226</td>\n",
       "      <td>0.088</td>\n",
       "      <td>0.126</td>\n",
       "      <td>0.082</td>\n",
       "      <td>0.123</td>\n",
       "      <td>0.083</td>\n",
       "      <td>...</td>\n",
       "      <td>1.075</td>\n",
       "      <td>0.956</td>\n",
       "      <td>0.821</td>\n",
       "      <td>0.745</td>\n",
       "      <td>0.712</td>\n",
       "      <td>0.511</td>\n",
       "      <td>0.231</td>\n",
       "      <td>0.210</td>\n",
       "      <td>0.278</td>\n",
       "      <td>0.159</td>\n",
       "    </tr>\n",
       "    <tr>\n",
       "      <th>2</th>\n",
       "      <td>MAC000002</td>\n",
       "      <td>2012-10-15</td>\n",
       "      <td>0.192</td>\n",
       "      <td>0.097</td>\n",
       "      <td>0.141</td>\n",
       "      <td>0.083</td>\n",
       "      <td>0.132</td>\n",
       "      <td>0.070</td>\n",
       "      <td>0.130</td>\n",
       "      <td>0.074</td>\n",
       "      <td>...</td>\n",
       "      <td>1.164</td>\n",
       "      <td>0.249</td>\n",
       "      <td>0.225</td>\n",
       "      <td>0.258</td>\n",
       "      <td>0.260</td>\n",
       "      <td>0.334</td>\n",
       "      <td>0.299</td>\n",
       "      <td>0.236</td>\n",
       "      <td>0.241</td>\n",
       "      <td>0.237</td>\n",
       "    </tr>\n",
       "    <tr>\n",
       "      <th>3</th>\n",
       "      <td>MAC000002</td>\n",
       "      <td>2012-10-16</td>\n",
       "      <td>0.237</td>\n",
       "      <td>0.237</td>\n",
       "      <td>0.193</td>\n",
       "      <td>0.118</td>\n",
       "      <td>0.098</td>\n",
       "      <td>0.107</td>\n",
       "      <td>0.094</td>\n",
       "      <td>0.109</td>\n",
       "      <td>...</td>\n",
       "      <td>0.966</td>\n",
       "      <td>0.172</td>\n",
       "      <td>0.192</td>\n",
       "      <td>0.228</td>\n",
       "      <td>0.203</td>\n",
       "      <td>0.211</td>\n",
       "      <td>0.188</td>\n",
       "      <td>0.213</td>\n",
       "      <td>0.157</td>\n",
       "      <td>0.202</td>\n",
       "    </tr>\n",
       "    <tr>\n",
       "      <th>4</th>\n",
       "      <td>MAC000002</td>\n",
       "      <td>2012-10-17</td>\n",
       "      <td>0.157</td>\n",
       "      <td>0.211</td>\n",
       "      <td>0.155</td>\n",
       "      <td>0.169</td>\n",
       "      <td>0.101</td>\n",
       "      <td>0.117</td>\n",
       "      <td>0.084</td>\n",
       "      <td>0.118</td>\n",
       "      <td>...</td>\n",
       "      <td>0.223</td>\n",
       "      <td>0.075</td>\n",
       "      <td>0.230</td>\n",
       "      <td>0.208</td>\n",
       "      <td>0.265</td>\n",
       "      <td>0.377</td>\n",
       "      <td>0.327</td>\n",
       "      <td>0.277</td>\n",
       "      <td>0.288</td>\n",
       "      <td>0.256</td>\n",
       "    </tr>\n",
       "  </tbody>\n",
       "</table>\n",
       "<p>5 rows × 50 columns</p>\n",
       "</div>"
      ],
      "text/plain": [
       "       LCLid        day   hh_0   hh_1   hh_2   hh_3   hh_4   hh_5   hh_6  \\\n",
       "0  MAC000002 2012-10-13  0.263  0.269  0.275  0.256  0.211  0.136  0.161   \n",
       "1  MAC000002 2012-10-14  0.262  0.166  0.226  0.088  0.126  0.082  0.123   \n",
       "2  MAC000002 2012-10-15  0.192  0.097  0.141  0.083  0.132  0.070  0.130   \n",
       "3  MAC000002 2012-10-16  0.237  0.237  0.193  0.118  0.098  0.107  0.094   \n",
       "4  MAC000002 2012-10-17  0.157  0.211  0.155  0.169  0.101  0.117  0.084   \n",
       "\n",
       "    hh_7  ...  hh_38  hh_39  hh_40  hh_41  hh_42  hh_43  hh_44  hh_45  hh_46  \\\n",
       "0  0.119  ...  0.918  0.278  0.267  0.239  0.230  0.233  0.235  0.188  0.259   \n",
       "1  0.083  ...  1.075  0.956  0.821  0.745  0.712  0.511  0.231  0.210  0.278   \n",
       "2  0.074  ...  1.164  0.249  0.225  0.258  0.260  0.334  0.299  0.236  0.241   \n",
       "3  0.109  ...  0.966  0.172  0.192  0.228  0.203  0.211  0.188  0.213  0.157   \n",
       "4  0.118  ...  0.223  0.075  0.230  0.208  0.265  0.377  0.327  0.277  0.288   \n",
       "\n",
       "   hh_47  \n",
       "0  0.250  \n",
       "1  0.159  \n",
       "2  0.237  \n",
       "3  0.202  \n",
       "4  0.256  \n",
       "\n",
       "[5 rows x 50 columns]"
      ]
     },
     "execution_count": 37,
     "metadata": {},
     "output_type": "execute_result"
    }
   ],
   "source": [
    "block_1 = pd.read_csv(block_data_path/\"block_0.csv\", parse_dates=False)\n",
    "\n",
    "block_1['day'] = pd.to_datetime(block_1['day'], yearfirst=True)\n",
    "\n",
    "block_1.head()"
   ]
  },
  {
   "cell_type": "code",
   "execution_count": 40,
   "id": "3b2216be-ba01-4ec1-9124-a73bf58db511",
   "metadata": {},
   "outputs": [
    {
     "data": {
      "text/plain": [
       "LCLid\n",
       "MAC000246   2014-02-27\n",
       "MAC004247   2014-02-27\n",
       "MAC003597   2014-02-27\n",
       "MAC003348   2014-02-27\n",
       "MAC005492   2014-02-27\n",
       "Name: day, dtype: datetime64[ns]"
      ]
     },
     "execution_count": 40,
     "metadata": {},
     "output_type": "execute_result"
    }
   ],
   "source": [
    "#Check End Dates of All Time Series\n",
    "block_1.groupby(\"LCLid\")['day'].max().sample(5)"
   ]
  },
  {
   "cell_type": "code",
   "execution_count": 41,
   "id": "28d18d4e-d68b-4821-ba85-f7dab3f0ba2a",
   "metadata": {},
   "outputs": [
    {
     "data": {
      "application/vnd.jupyter.widget-view+json": {
       "model_id": "dbc35493f9b740499a7b7fea31486947",
       "version_major": 2,
       "version_minor": 0
      },
      "text/plain": [
       "0it [00:00, ?it/s]"
      ]
     },
     "metadata": {},
     "output_type": "display_data"
    },
    {
     "name": "stdout",
     "output_type": "stream",
     "text": [
      "Max Date across all blocks: 2014-02-27 00:00:00\n"
     ]
    }
   ],
   "source": [
    "max_date = None\n",
    "\n",
    "for f in tqdm(block_data_path.glob(\"*.csv\")):\n",
    "    df = pd.read_csv(f, parse_dates=False)\n",
    "    df['day'] = pd.to_datetime(df['day'], yearfirst=True)\n",
    "    if max_date is None:\n",
    "        max_date = df['day'].max()\n",
    "    else:\n",
    "        if df['day'].max()>max_date:\n",
    "            max_date = df['day'].max()\n",
    "\n",
    "print(f\"Max Date across all blocks: {max_date}\")\n",
    "del df"
   ]
  },
  {
   "cell_type": "code",
   "execution_count": 42,
   "id": "00cf8c2f-fd73-4d07-89c3-f5d1503fa3dd",
   "metadata": {},
   "outputs": [
    {
     "data": {
      "text/html": [
       "<div>\n",
       "<style scoped>\n",
       "    .dataframe tbody tr th:only-of-type {\n",
       "        vertical-align: middle;\n",
       "    }\n",
       "\n",
       "    .dataframe tbody tr th {\n",
       "        vertical-align: top;\n",
       "    }\n",
       "\n",
       "    .dataframe thead th {\n",
       "        text-align: right;\n",
       "    }\n",
       "</style>\n",
       "<table border=\"1\" class=\"dataframe\">\n",
       "  <thead>\n",
       "    <tr style=\"text-align: right;\">\n",
       "      <th></th>\n",
       "      <th>LCLid</th>\n",
       "      <th>day</th>\n",
       "      <th>hour_block</th>\n",
       "      <th>energy_consumption</th>\n",
       "      <th>offset</th>\n",
       "    </tr>\n",
       "  </thead>\n",
       "  <tbody>\n",
       "    <tr>\n",
       "      <th>0</th>\n",
       "      <td>MAC000002</td>\n",
       "      <td>2012-10-13</td>\n",
       "      <td>hh_0</td>\n",
       "      <td>0.263</td>\n",
       "      <td>0</td>\n",
       "    </tr>\n",
       "    <tr>\n",
       "      <th>1</th>\n",
       "      <td>MAC000002</td>\n",
       "      <td>2012-10-13</td>\n",
       "      <td>hh_1</td>\n",
       "      <td>0.269</td>\n",
       "      <td>1</td>\n",
       "    </tr>\n",
       "    <tr>\n",
       "      <th>2</th>\n",
       "      <td>MAC000002</td>\n",
       "      <td>2012-10-13</td>\n",
       "      <td>hh_2</td>\n",
       "      <td>0.275</td>\n",
       "      <td>2</td>\n",
       "    </tr>\n",
       "    <tr>\n",
       "      <th>3</th>\n",
       "      <td>MAC000002</td>\n",
       "      <td>2012-10-13</td>\n",
       "      <td>hh_3</td>\n",
       "      <td>0.256</td>\n",
       "      <td>3</td>\n",
       "    </tr>\n",
       "    <tr>\n",
       "      <th>4</th>\n",
       "      <td>MAC000002</td>\n",
       "      <td>2012-10-13</td>\n",
       "      <td>hh_4</td>\n",
       "      <td>0.211</td>\n",
       "      <td>4</td>\n",
       "    </tr>\n",
       "  </tbody>\n",
       "</table>\n",
       "</div>"
      ],
      "text/plain": [
       "       LCLid        day hour_block  energy_consumption  offset\n",
       "0  MAC000002 2012-10-13       hh_0               0.263       0\n",
       "1  MAC000002 2012-10-13       hh_1               0.269       1\n",
       "2  MAC000002 2012-10-13       hh_2               0.275       2\n",
       "3  MAC000002 2012-10-13       hh_3               0.256       3\n",
       "4  MAC000002 2012-10-13       hh_4               0.211       4"
      ]
     },
     "execution_count": 42,
     "metadata": {},
     "output_type": "execute_result"
    }
   ],
   "source": [
    "# Reshaping The Dataframe into The Long Form with Hour Blocks along The Rows\n",
    "block_1 = block_1.set_index(['LCLid', \"day\"]).stack().reset_index().rename(columns={\"level_2\": \"hour_block\", 0: \"energy_consumption\"})\n",
    "\n",
    "# Creating a Numerical Hourblock Column\n",
    "block_1['offset'] = block_1['hour_block'].str.replace(\"hh_\", \"\").astype(int)\n",
    "\n",
    "block_1.head()"
   ]
  },
  {
   "cell_type": "markdown",
   "id": "5c1368d3-fc42-450c-9184-da8498eb9d43",
   "metadata": {},
   "source": [
    "### Compact Form"
   ]
  },
  {
   "cell_type": "code",
   "execution_count": 43,
   "id": "51adaba9-12f9-42ed-8f32-bf2a7e5610e1",
   "metadata": {},
   "outputs": [],
   "source": [
    "def preprocess_compact(x):\n",
    "    start_date = x['day'].min()\n",
    "    name = x['LCLid'].unique()[0]\n",
    "    ### Fill missing dates with NaN ###\n",
    "    # Create a date range from  min to max\n",
    "    dr = pd.date_range(start=x['day'].min(), end=max_date, freq=\"1D\")\n",
    "    # Add hh_0 to hh_47 to columns and with some unstack magic recreating date-hh_x combinations\n",
    "    dr = pd.DataFrame(columns=[f\"hh_{i}\" for i in range(48)], index=dr).unstack().reset_index()\n",
    "    # renaming the columns\n",
    "    dr.columns = [\"hour_block\", \"day\", \"_\"]\n",
    "    # left merging the dataframe to the standard dataframe\n",
    "    # now the missing values will be left as NaN\n",
    "    dr = dr.merge(x, on=['hour_block','day'], how='left')\n",
    "    # sorting the rows\n",
    "    dr.sort_values(['day',\"offset\"], inplace=True)\n",
    "    # extracting the timeseries array\n",
    "    ts = dr['energy_consumption'].values\n",
    "    len_ts = len(ts)\n",
    "    return start_date, name, ts, len_ts"
   ]
  },
  {
   "cell_type": "code",
   "execution_count": 44,
   "id": "4375a9c0-0b0b-44ea-a1f9-59b07cbf5ddb",
   "metadata": {},
   "outputs": [
    {
     "data": {
      "application/vnd.jupyter.widget-view+json": {
       "model_id": "6f49eaaa726a42df9da66e1b6a33ae4f",
       "version_major": 2,
       "version_minor": 0
      },
      "text/plain": [
       "  0%|          | 0/50 [00:00<?, ?it/s]"
      ]
     },
     "metadata": {},
     "output_type": "display_data"
    }
   ],
   "source": [
    "def load_process_block_compact(block_df, freq=\"30min\", ts_identifier=\"series_name\", value_name=\"series_value\"):\n",
    "    grps = block_df.groupby('LCLid')\n",
    "    all_series = []\n",
    "    all_start_dates = []\n",
    "    all_names = []\n",
    "    all_data = {}\n",
    "    all_len = []\n",
    "    for idx, df in tqdm(grps, leave=False):\n",
    "        start_date, name, ts, len_ts = preprocess_compact(df)\n",
    "        all_series.append(ts)\n",
    "        all_start_dates.append(start_date)\n",
    "        all_names.append(name)\n",
    "        all_len.append(len_ts)\n",
    "\n",
    "    all_data[ts_identifier] = all_names\n",
    "    all_data['start_timestamp'] = all_start_dates\n",
    "    all_data['frequency'] = freq\n",
    "    all_data[value_name] = all_series\n",
    "    all_data['series_length'] = all_len\n",
    "    return pd.DataFrame(all_data)\n",
    "\n",
    "block1_compact = load_process_block_compact(block_1, freq=\"30min\", ts_identifier=\"LCLid\", value_name=\"energy_consumption\")\n"
   ]
  },
  {
   "cell_type": "code",
   "execution_count": 45,
   "id": "0415c0ed-3dd2-4156-a3c1-5253e1b5dfa2",
   "metadata": {},
   "outputs": [
    {
     "data": {
      "text/html": [
       "<div>\n",
       "<style scoped>\n",
       "    .dataframe tbody tr th:only-of-type {\n",
       "        vertical-align: middle;\n",
       "    }\n",
       "\n",
       "    .dataframe tbody tr th {\n",
       "        vertical-align: top;\n",
       "    }\n",
       "\n",
       "    .dataframe thead th {\n",
       "        text-align: right;\n",
       "    }\n",
       "</style>\n",
       "<table border=\"1\" class=\"dataframe\">\n",
       "  <thead>\n",
       "    <tr style=\"text-align: right;\">\n",
       "      <th></th>\n",
       "      <th>LCLid</th>\n",
       "      <th>start_timestamp</th>\n",
       "      <th>frequency</th>\n",
       "      <th>energy_consumption</th>\n",
       "      <th>series_length</th>\n",
       "    </tr>\n",
       "  </thead>\n",
       "  <tbody>\n",
       "    <tr>\n",
       "      <th>0</th>\n",
       "      <td>MAC000002</td>\n",
       "      <td>2012-10-13</td>\n",
       "      <td>30min</td>\n",
       "      <td>[0.263, 0.2689999999999999, 0.275, 0.256, 0.21...</td>\n",
       "      <td>24144</td>\n",
       "    </tr>\n",
       "    <tr>\n",
       "      <th>1</th>\n",
       "      <td>MAC000246</td>\n",
       "      <td>2011-12-04</td>\n",
       "      <td>30min</td>\n",
       "      <td>[0.175, 0.098, 0.144, 0.065, 0.071, 0.037, 0.0...</td>\n",
       "      <td>39216</td>\n",
       "    </tr>\n",
       "    <tr>\n",
       "      <th>2</th>\n",
       "      <td>MAC000450</td>\n",
       "      <td>2012-03-23</td>\n",
       "      <td>30min</td>\n",
       "      <td>[1.337, 1.426, 0.996, 0.971, 0.994, 0.952, 0.8...</td>\n",
       "      <td>33936</td>\n",
       "    </tr>\n",
       "    <tr>\n",
       "      <th>3</th>\n",
       "      <td>MAC001074</td>\n",
       "      <td>2012-05-09</td>\n",
       "      <td>30min</td>\n",
       "      <td>[0.18, 0.086, 0.106, 0.173, 0.146, 0.223, 0.21...</td>\n",
       "      <td>31680</td>\n",
       "    </tr>\n",
       "    <tr>\n",
       "      <th>4</th>\n",
       "      <td>MAC003223</td>\n",
       "      <td>2012-09-18</td>\n",
       "      <td>30min</td>\n",
       "      <td>[0.076, 0.079, 0.123, 0.109, 0.051, 0.069, 0.0...</td>\n",
       "      <td>25344</td>\n",
       "    </tr>\n",
       "  </tbody>\n",
       "</table>\n",
       "</div>"
      ],
      "text/plain": [
       "       LCLid start_timestamp frequency  \\\n",
       "0  MAC000002      2012-10-13     30min   \n",
       "1  MAC000246      2011-12-04     30min   \n",
       "2  MAC000450      2012-03-23     30min   \n",
       "3  MAC001074      2012-05-09     30min   \n",
       "4  MAC003223      2012-09-18     30min   \n",
       "\n",
       "                                  energy_consumption  series_length  \n",
       "0  [0.263, 0.2689999999999999, 0.275, 0.256, 0.21...          24144  \n",
       "1  [0.175, 0.098, 0.144, 0.065, 0.071, 0.037, 0.0...          39216  \n",
       "2  [1.337, 1.426, 0.996, 0.971, 0.994, 0.952, 0.8...          33936  \n",
       "3  [0.18, 0.086, 0.106, 0.173, 0.146, 0.223, 0.21...          31680  \n",
       "4  [0.076, 0.079, 0.123, 0.109, 0.051, 0.069, 0.0...          25344  "
      ]
     },
     "execution_count": 45,
     "metadata": {},
     "output_type": "execute_result"
    }
   ],
   "source": [
    "block1_compact.head()"
   ]
  },
  {
   "cell_type": "code",
   "execution_count": 46,
   "id": "9aaeb118-06a7-4801-ba53-90d2d7436d82",
   "metadata": {},
   "outputs": [
    {
     "data": {
      "text/plain": [
       "Index                  128\n",
       "LCLid                 3300\n",
       "start_timestamp        400\n",
       "frequency             3100\n",
       "energy_consumption    6000\n",
       "series_length          400\n",
       "dtype: int64"
      ]
     },
     "metadata": {},
     "output_type": "display_data"
    },
    {
     "name": "stdout",
     "output_type": "stream",
     "text": [
      "Total: 0.0127105712890625 MB\n"
     ]
    }
   ],
   "source": [
    "display(block1_compact.memory_usage(deep=True))\n",
    "\n",
    "print(f\"Total: {block1_compact.memory_usage(deep=True).sum()/1024**2} MB\")"
   ]
  },
  {
   "cell_type": "markdown",
   "id": "4f1f7249-8e94-4b17-9181-4656e1d0be0b",
   "metadata": {},
   "source": [
    "### Expanded Form"
   ]
  },
  {
   "cell_type": "code",
   "execution_count": 47,
   "id": "6092a429-cb60-4fa2-940e-d6d3bc7fbe23",
   "metadata": {},
   "outputs": [],
   "source": [
    "def preprocess_expanded(x):\n",
    "    start_date = x['day'].min()\n",
    "    ### Fill missing dates with NaN ###\n",
    "    # Create a date range from  min to max\n",
    "    dr = pd.date_range(start=x['day'].min(), end=x['day'].max(), freq=\"1D\")\n",
    "    # Add hh_0 to hh_47 to columns and with some unstack magic recreating date-hh_x combinations\n",
    "    dr = pd.DataFrame(columns=[f\"hh_{i}\" for i in range(48)], index=dr).unstack().reset_index()\n",
    "    # renaming the columns\n",
    "    dr.columns = [\"hour_block\", \"day\", \"_\"]\n",
    "    # left merging the dataframe to the standard dataframe\n",
    "    # now the missing values will be left as NaN\n",
    "    dr = dr.merge(x, on=['hour_block','day'], how='left')\n",
    "    dr['series_length'] = len(dr)\n",
    "    return dr"
   ]
  },
  {
   "cell_type": "code",
   "execution_count": 48,
   "id": "ac54bf30-c049-476b-be00-c169d489e462",
   "metadata": {},
   "outputs": [
    {
     "data": {
      "application/vnd.jupyter.widget-view+json": {
       "model_id": "d403a2f4fad943a299f8d54d5d24528e",
       "version_major": 2,
       "version_minor": 0
      },
      "text/plain": [
       "  0%|          | 0/50 [00:00<?, ?it/s]"
      ]
     },
     "metadata": {},
     "output_type": "display_data"
    },
    {
     "name": "stderr",
     "output_type": "stream",
     "text": [
      "/var/folders/m3/3_zd43kn4nn3q52cpx_b38g00000gn/T/ipykernel_84979/1880645514.py:12: PerformanceWarning: Adding/subtracting object-dtype array to DatetimeArray not vectorized.\n",
      "  block_df['timestamp'] = block_df['day'] + block_df['offset']*30*pd.offsets.Minute()\n"
     ]
    }
   ],
   "source": [
    "def load_process_block_expanded(block_df, freq=\"30min\"):\n",
    "    grps = block_df.groupby('LCLid')\n",
    "    all_series = []\n",
    "    for idx, df in tqdm(grps, leave=False):\n",
    "        ts = preprocess_expanded(df)\n",
    "        all_series.append(ts)\n",
    "\n",
    "    block_df = pd.concat(all_series)\n",
    "    # Recreate Offset because there would be null rows now\n",
    "    block_df['offset'] = block_df['hour_block'].str.replace(\"hh_\", \"\").astype(int)\n",
    "    # Creating a datetime column with the date | Will take some time because operation is not vectorized\n",
    "    block_df['timestamp'] = block_df['day'] + block_df['offset']*30*pd.offsets.Minute()\n",
    "    block_df['frequency'] = freq\n",
    "    block_df.sort_values([\"LCLid\",\"timestamp\"], inplace=True)\n",
    "    block_df.drop(columns=[\"_\", \"hour_block\", \"offset\", \"day\"], inplace=True)\n",
    "    return block_df\n",
    "#     del all_series\n",
    "block1_expanded = load_process_block_expanded(block_1, freq=\"30min\")"
   ]
  },
  {
   "cell_type": "code",
   "execution_count": 49,
   "id": "c729c3c3-11eb-45c9-be35-9341df3d9f80",
   "metadata": {},
   "outputs": [
    {
     "data": {
      "text/html": [
       "<div>\n",
       "<style scoped>\n",
       "    .dataframe tbody tr th:only-of-type {\n",
       "        vertical-align: middle;\n",
       "    }\n",
       "\n",
       "    .dataframe tbody tr th {\n",
       "        vertical-align: top;\n",
       "    }\n",
       "\n",
       "    .dataframe thead th {\n",
       "        text-align: right;\n",
       "    }\n",
       "</style>\n",
       "<table border=\"1\" class=\"dataframe\">\n",
       "  <thead>\n",
       "    <tr style=\"text-align: right;\">\n",
       "      <th></th>\n",
       "      <th>LCLid</th>\n",
       "      <th>energy_consumption</th>\n",
       "      <th>series_length</th>\n",
       "      <th>timestamp</th>\n",
       "      <th>frequency</th>\n",
       "    </tr>\n",
       "  </thead>\n",
       "  <tbody>\n",
       "    <tr>\n",
       "      <th>0</th>\n",
       "      <td>MAC000002</td>\n",
       "      <td>0.263</td>\n",
       "      <td>24144</td>\n",
       "      <td>2012-10-13 00:00:00</td>\n",
       "      <td>30min</td>\n",
       "    </tr>\n",
       "    <tr>\n",
       "      <th>503</th>\n",
       "      <td>MAC000002</td>\n",
       "      <td>0.269</td>\n",
       "      <td>24144</td>\n",
       "      <td>2012-10-13 00:30:00</td>\n",
       "      <td>30min</td>\n",
       "    </tr>\n",
       "    <tr>\n",
       "      <th>1006</th>\n",
       "      <td>MAC000002</td>\n",
       "      <td>0.275</td>\n",
       "      <td>24144</td>\n",
       "      <td>2012-10-13 01:00:00</td>\n",
       "      <td>30min</td>\n",
       "    </tr>\n",
       "    <tr>\n",
       "      <th>1509</th>\n",
       "      <td>MAC000002</td>\n",
       "      <td>0.256</td>\n",
       "      <td>24144</td>\n",
       "      <td>2012-10-13 01:30:00</td>\n",
       "      <td>30min</td>\n",
       "    </tr>\n",
       "    <tr>\n",
       "      <th>2012</th>\n",
       "      <td>MAC000002</td>\n",
       "      <td>0.211</td>\n",
       "      <td>24144</td>\n",
       "      <td>2012-10-13 02:00:00</td>\n",
       "      <td>30min</td>\n",
       "    </tr>\n",
       "  </tbody>\n",
       "</table>\n",
       "</div>"
      ],
      "text/plain": [
       "          LCLid  energy_consumption  series_length            timestamp  \\\n",
       "0     MAC000002               0.263          24144  2012-10-13 00:00:00   \n",
       "503   MAC000002               0.269          24144  2012-10-13 00:30:00   \n",
       "1006  MAC000002               0.275          24144  2012-10-13 01:00:00   \n",
       "1509  MAC000002               0.256          24144  2012-10-13 01:30:00   \n",
       "2012  MAC000002               0.211          24144  2012-10-13 02:00:00   \n",
       "\n",
       "     frequency  \n",
       "0        30min  \n",
       "503      30min  \n",
       "1006     30min  \n",
       "1509     30min  \n",
       "2012     30min  "
      ]
     },
     "execution_count": 49,
     "metadata": {},
     "output_type": "execute_result"
    }
   ],
   "source": [
    "block1_expanded.head()"
   ]
  },
  {
   "cell_type": "code",
   "execution_count": null,
   "id": "64defb48-0e8f-446a-a541-d6d4bf58abaa",
   "metadata": {},
   "outputs": [],
   "source": [
    "display(block1_expanded.memory_usage())\n",
    "print(f\"Total: {block1_expanded.memory_usage().sum()/1024**2} MB\")"
   ]
  },
  {
   "cell_type": "code",
   "execution_count": null,
   "id": "bda6814f-f1f1-4979-9fc5-91a19e73863d",
   "metadata": {},
   "outputs": [],
   "source": [
    "del block1_expanded, block_1, block1_compact"
   ]
  },
  {
   "cell_type": "markdown",
   "id": "8a65cc9d-0df2-4ef1-a467-7e2c6a95a812",
   "metadata": {},
   "source": [
    "### Reading & Combining All The Block Data into A Single Dataframe"
   ]
  },
  {
   "cell_type": "code",
   "execution_count": null,
   "id": "e925d1e2-6479-4af3-8b83-7e2ea465f8e5",
   "metadata": {},
   "outputs": [],
   "source": [
    "block_df_l = []\n",
    "for file in tqdm(sorted(list(block_data_path.glob(\"*.csv\"))), desc=\"Processing Blocks..\"):\n",
    "    block_df = pd.read_csv(file, parse_dates=False)\n",
    "    block_df['day'] = pd.to_datetime(block_df['day'], yearfirst=True)\n",
    "    # Taking only from 2012-01-01\n",
    "    block_df = block_df.loc[block_df['day']>=\"2012-01-01\"]\n",
    "    #Reshaping the dataframe into the long form with hour blocks along the rows\n",
    "    block_df = block_df.set_index(['LCLid', \"day\"]).stack().reset_index().rename(columns={\"level_2\": \"hour_block\", 0: \"energy_consumption\"})\n",
    "    #Creating a numerical hourblock column\n",
    "    block_df['offset'] = block_df['hour_block'].str.replace(\"hh_\", \"\").astype(int)\n",
    "    block_df_l.append(load_process_block_compact(block_df, freq=\"30min\", ts_identifier=\"LCLid\", value_name=\"energy_consumption\"))\n"
   ]
  },
  {
   "cell_type": "code",
   "execution_count": null,
   "id": "48d73f13-39af-418a-9ade-6d549aab3179",
   "metadata": {},
   "outputs": [],
   "source": [
    "hhblock_df = pd.concat(block_df_l)\n",
    "del block_df_l\n",
    "display(hhblock_df.memory_usage(deep=True))\n",
    "print(f\"Total: {hhblock_df.memory_usage(deep=True).sum()/1024**2} MB\")"
   ]
  },
  {
   "cell_type": "code",
   "execution_count": null,
   "id": "99c00b86-7996-4d7d-92e3-6ef3af70b719",
   "metadata": {},
   "outputs": [],
   "source": [
    "hhblock_df.head()"
   ]
  },
  {
   "cell_type": "code",
   "execution_count": null,
   "id": "40bdd5c8-2800-4b08-a821-f4248f5f9e0d",
   "metadata": {},
   "outputs": [],
   "source": [
    "### Merging Additional Information\n",
    "\n",
    "#### Household Information"
   ]
  },
  {
   "cell_type": "code",
   "execution_count": null,
   "id": "77122fa7-27f1-43b1-b12c-1790f9584de4",
   "metadata": {},
   "outputs": [],
   "source": [
    "household_info = pd.read_csv(source_data/\"informations_households.csv\")\n",
    "household_info.head()"
   ]
  },
  {
   "cell_type": "code",
   "execution_count": null,
   "id": "5a4ef254-4552-4a03-8f1b-1b99cbb0bc55",
   "metadata": {},
   "outputs": [],
   "source": [
    "hhblock_df = hhblock_df.merge(household_info, on='LCLid', validate=\"one_to_one\")\n",
    "hhblock_df.head()"
   ]
  },
  {
   "cell_type": "markdown",
   "id": "ed8918bc-7450-4cd7-bca1-a588e0d706f5",
   "metadata": {},
   "source": [
    "#### Weather & Bank Holidays"
   ]
  },
  {
   "cell_type": "code",
   "execution_count": null,
   "id": "6f4f9a1d-0431-4108-9ca2-4279d28ec50b",
   "metadata": {},
   "outputs": [],
   "source": [
    "bank_holidays = pd.read_csv(source_data/\"uk_bank_holidays.csv\", parse_dates=False)\n",
    "bank_holidays['Bank holidays'] = pd.to_datetime(bank_holidays['Bank holidays'], yearfirst=True)\n",
    "bank_holidays.set_index(\"Bank holidays\", inplace=True)\n",
    "bank_holidays.head()"
   ]
  },
  {
   "cell_type": "code",
   "execution_count": null,
   "id": "f76d0aa5-f93b-433f-ab73-493e97255d70",
   "metadata": {},
   "outputs": [],
   "source": [
    "# Reindex on Standard Date Range\n",
    "bank_holidays = bank_holidays.resample(\"30min\").asfreq()\n",
    "bank_holidays = bank_holidays.groupby(bank_holidays.index.date).ffill().fillna(\"NO_HOLIDAY\")\n",
    "bank_holidays.index.name=\"datetime\"\n",
    "bank_holidays.head()"
   ]
  },
  {
   "cell_type": "code",
   "execution_count": null,
   "id": "f26f92d3-12dc-41be-886d-04c96e3da47c",
   "metadata": {},
   "outputs": [],
   "source": [
    "weather_hourly = pd.read_csv(source_data/\"weather_hourly_darksky.csv\", parse_dates=False)\n",
    "weather_hourly['time'] = pd.to_datetime(weather_hourly['time'], yearfirst=True)\n",
    "weather_hourly.set_index(\"time\", inplace=True)\n",
    "weather_hourly.head()"
   ]
  },
  {
   "cell_type": "code",
   "execution_count": null,
   "id": "d7dc879a-06b5-437e-9c09-80b5d55dad7c",
   "metadata": {},
   "outputs": [],
   "source": [
    "#Resampling at 30min and forward fill\n",
    "weather_hourly = weather_hourly.resample(\"30min\").ffill()\n",
    "weather_hourly.head()"
   ]
  },
  {
   "cell_type": "code",
   "execution_count": null,
   "id": "996dcbd3-bb50-4168-9d3a-22b4e7200046",
   "metadata": {},
   "outputs": [],
   "source": [
    "def map_weather_holidays(row):\n",
    "    date_range = pd.date_range(row['start_timestamp'], periods=row['series_length'], freq=row['frequency'])\n",
    "    std_df = pd.DataFrame(index=date_range)\n",
    "    #Filling Na iwth NO_HOLIDAY cause rows before earliers holiday will be NaN\n",
    "    holidays = std_df.join(bank_holidays, how=\"left\").fillna(\"NO_HOLIDAY\")\n",
    "    weather = std_df.join(weather_hourly, how='left')\n",
    "    assert len(holidays)==row['series_length'], \"Length of holidays should be same as series length\"\n",
    "    assert len(weather)==row['series_length'], \"Length of weather should be same as series length\"\n",
    "    row['holidays'] = holidays['Type'].values\n",
    "    for col in weather:\n",
    "        row[col] = weather[col].values\n",
    "    return row"
   ]
  },
  {
   "cell_type": "code",
   "execution_count": null,
   "id": "f26a1db1-26ce-4edd-87d6-1619aebde7cd",
   "metadata": {},
   "outputs": [],
   "source": [
    "hhblock_df = hhblock_df.progress_apply(map_weather_holidays, axis=1)\n",
    "\n",
    "hhblock_df.head()"
   ]
  },
  {
   "cell_type": "code",
   "execution_count": null,
   "id": "de460c63-ee9c-49ff-b38c-595f54b96e9e",
   "metadata": {},
   "outputs": [],
   "source": [
    "del block_df, weather_hourly, bank_holidays, household_info"
   ]
  },
  {
   "cell_type": "code",
   "execution_count": null,
   "id": "585a0140-9124-48ad-8247-1661c75679a0",
   "metadata": {},
   "outputs": [],
   "source": [
    "display(hhblock_df.memory_usage(deep=True))\n",
    "print(f\"Total: {hhblock_df.memory_usage(deep=True).sum()/1024**2} MB\")"
   ]
  },
  {
   "cell_type": "code",
   "execution_count": null,
   "id": "0b112fd0-df1f-4822-9779-ac128330f219",
   "metadata": {},
   "outputs": [],
   "source": [
    "#### Saving The File on Disk"
   ]
  },
  {
   "cell_type": "code",
   "execution_count": null,
   "id": "546bf60b-1cd3-4032-9c19-fe71e78c1872",
   "metadata": {},
   "outputs": [],
   "source": [
    "os.makedirs(\"data/london_smart_meters/preprocessed\", exist_ok=True)"
   ]
  },
  {
   "cell_type": "code",
   "execution_count": null,
   "id": "38f94c26-49a3-487c-908e-775b4cf971c4",
   "metadata": {},
   "outputs": [],
   "source": [
    "#Takes a long time to finish. Comment out and execute only if needed\n",
    "# from src.utils.data_utils import write_compact_to_ts\n",
    "# write_compact_to_ts(hhblock_df,\n",
    "#        static_columns = ['LCLid', 'start_timestamp', 'frequency','series_length', 'stdorToU', 'Acorn', 'Acorn_grouped', 'file'], \n",
    "#        time_varying_columns = ['energy_consumption', 'holidays', 'visibility', 'windBearing', 'temperature', 'dewPoint',\n",
    "#                               'pressure', 'apparentTemperature', 'windSpeed', 'precipType', 'icon','humidity', 'summary'],\n",
    "#        filename=f\"data/london_smart_meters/preprocessed/london_smart_meters_merged.ts\",\n",
    "#        sep=\";\",\n",
    "#       chunk_size=1000)"
   ]
  },
  {
   "cell_type": "code",
   "execution_count": null,
   "id": "5b571ed6-f14c-4f23-bc0d-89636dbb5794",
   "metadata": {},
   "outputs": [],
   "source": [
    "# Saving the LCLid - Acorn map as a pickle to be used later\n",
    "hhblock_df[['LCLid',\"file\", \"Acorn_grouped\"]].to_pickle(f\"data/london_smart_meters/preprocessed/london_smart_meters_lclid_acorn_map.pkl\")\n"
   ]
  },
  {
   "cell_type": "code",
   "execution_count": null,
   "id": "285b4608-543d-4852-ba62-1739757b7a62",
   "metadata": {},
   "outputs": [],
   "source": [
    "# Splitting the blocks into 8 chunks\n",
    "blocks = [f\"block_{i}\" for i in range(111)]\n",
    "\n",
    "n_chunks= 8\n",
    "split_blocks = [blocks[i:i + n_chunks] for i in range(0, len(blocks), n_chunks)] "
   ]
  },
  {
   "cell_type": "code",
   "execution_count": null,
   "id": "254c7172-1188-4056-8b39-8c664b531a18",
   "metadata": {},
   "outputs": [],
   "source": [
    "#Writing each chunk to disk\n",
    "for blk in tqdm(split_blocks):\n",
    "    df = hhblock_df.loc[hhblock_df.file.isin(blk)]\n",
    "    blk = [int(b.replace(\"block_\",\"\")) for b in blk]\n",
    "    block_str = f\"block_{min(blk)}-{max(blk)}\"\n",
    "    df.to_parquet(f\"data/london_smart_meters/preprocessed/london_smart_meters_merged_{block_str}.parquet\")"
   ]
  },
  {
   "cell_type": "code",
   "execution_count": null,
   "id": "6ed7c6d1-7dee-4d3b-8c52-c7c9ea5a0052",
   "metadata": {},
   "outputs": [],
   "source": []
  }
 ],
 "metadata": {
  "kernelspec": {
   "display_name": "Python 3 (ipykernel)",
   "language": "python",
   "name": "python3"
  },
  "language_info": {
   "codemirror_mode": {
    "name": "ipython",
    "version": 3
   },
   "file_extension": ".py",
   "mimetype": "text/x-python",
   "name": "python",
   "nbconvert_exporter": "python",
   "pygments_lexer": "ipython3",
   "version": "3.10.18"
  }
 },
 "nbformat": 4,
 "nbformat_minor": 5
}
