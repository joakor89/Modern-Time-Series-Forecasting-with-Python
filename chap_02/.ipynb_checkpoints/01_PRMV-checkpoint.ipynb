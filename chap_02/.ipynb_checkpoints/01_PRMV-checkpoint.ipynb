{
 "cells": [
  {
   "cell_type": "markdown",
   "id": "b77b9066-183c-4e64-b6b4-0c440a1265ec",
   "metadata": {},
   "source": [
    "# Panda Refresher & Missing Values Treatment\n",
    "\n",
    "### Loading Libraries"
   ]
  },
  {
   "cell_type": "code",
   "execution_count": 3,
   "id": "c1d2d00d-dc28-48e6-b41b-6852a5c84151",
   "metadata": {},
   "outputs": [
    {
     "name": "stderr",
     "output_type": "stream",
     "text": [
      "/opt/anaconda3/envs/MTSP/lib/python3.10/site-packages/tqdm/auto.py:21: TqdmWarning: IProgress not found. Please update jupyter and ipywidgets. See https://ipywidgets.readthedocs.io/en/stable/user_install.html\n",
      "  from .autonotebook import tqdm as notebook_tqdm\n"
     ]
    }
   ],
   "source": [
    "# Numerical Computing\n",
    "import numpy as np\n",
    "\n",
    "# Data Manipulation\n",
    "import pandas as pd\n",
    "\n",
    "# Data Visualization\n",
    "import plotly.io as pio\n",
    "import plotly.express as px\n",
    "import matplotlib.pyplot as plt\n",
    "import plotly.graph_objects as go\n",
    "\n",
    "# OS\n",
    "import os\n",
    "\n",
    "from pathlib import Path\n",
    "\n",
    "# Notebook Optimizer\n",
    "from tqdm.auto import tqdm\n",
    "\n",
    "# Itertools\n",
    "from itertools import cycle"
   ]
  },
  {
   "cell_type": "code",
   "execution_count": 8,
   "id": "544c4e3f-2559-4db5-a2d7-55672e5a7269",
   "metadata": {},
   "outputs": [],
   "source": [
    "# !pip install -U kaleido"
   ]
  },
  {
   "cell_type": "code",
   "execution_count": 7,
   "id": "b1de4288-882e-4b21-9dc3-f174021d7627",
   "metadata": {},
   "outputs": [],
   "source": [
    "pio.templates.default = \"plotly_white\""
   ]
  },
  {
   "cell_type": "code",
   "execution_count": 10,
   "id": "adc9a136-0d8a-4cdd-856c-7f762b83f6da",
   "metadata": {},
   "outputs": [],
   "source": [
    "# %autoreload 2\n",
    "    \n",
    "# %load_ext autoreload"
   ]
  },
  {
   "cell_type": "code",
   "execution_count": 11,
   "id": "26ee8a18-fc8c-4e69-8760-54308528118c",
   "metadata": {},
   "outputs": [],
   "source": [
    "tqdm.pandas()\n",
    "\n",
    "np.random.seed()"
   ]
  },
  {
   "cell_type": "code",
   "execution_count": 12,
   "id": "cf8a338e-77a5-40ef-b51f-50117175842b",
   "metadata": {},
   "outputs": [],
   "source": [
    "SAVE_FIGURES = False\n",
    "if SAVE_FIGURES:\n",
    "    os.makedirs(\"imgs/chap_02\", exist_ok=True)"
   ]
  },
  {
   "cell_type": "markdown",
   "id": "05866682-495a-443a-a09c-76dd4fea7ad0",
   "metadata": {},
   "source": [
    "## Loading Data\n",
    "\n",
    "### Pandas Datetime Operations, Indexing, & Slicing – A refresher"
   ]
  },
  {
   "cell_type": "code",
   "execution_count": 14,
   "id": "9ececf7e-e7bb-4979-9bc6-8ad64a976837",
   "metadata": {},
   "outputs": [
    {
     "name": "stderr",
     "output_type": "stream",
     "text": [
      "/opt/anaconda3/envs/MTSP/lib/python3.10/site-packages/openpyxl/worksheet/_reader.py:329: UserWarning:\n",
      "\n",
      "Unknown extension is not supported and will be removed\n",
      "\n"
     ]
    },
    {
     "data": {
      "text/html": [
       "<div>\n",
       "<style scoped>\n",
       "    .dataframe tbody tr th:only-of-type {\n",
       "        vertical-align: middle;\n",
       "    }\n",
       "\n",
       "    .dataframe tbody tr th {\n",
       "        vertical-align: top;\n",
       "    }\n",
       "\n",
       "    .dataframe thead th {\n",
       "        text-align: right;\n",
       "    }\n",
       "</style>\n",
       "<table border=\"1\" class=\"dataframe\">\n",
       "  <thead>\n",
       "    <tr style=\"text-align: right;\">\n",
       "      <th></th>\n",
       "      <th>date</th>\n",
       "      <th>ISE</th>\n",
       "      <th>ISE.1</th>\n",
       "      <th>SP</th>\n",
       "      <th>DAX</th>\n",
       "      <th>FTSE</th>\n",
       "      <th>NIKKEI</th>\n",
       "      <th>BOVESPA</th>\n",
       "      <th>EU</th>\n",
       "      <th>EM</th>\n",
       "    </tr>\n",
       "  </thead>\n",
       "  <tbody>\n",
       "    <tr>\n",
       "      <th>0</th>\n",
       "      <td>2009-01-05</td>\n",
       "      <td>0.035754</td>\n",
       "      <td>0.038376</td>\n",
       "      <td>-0.004679</td>\n",
       "      <td>0.002193</td>\n",
       "      <td>0.003894</td>\n",
       "      <td>0.000000</td>\n",
       "      <td>0.031190</td>\n",
       "      <td>0.012698</td>\n",
       "      <td>0.028524</td>\n",
       "    </tr>\n",
       "    <tr>\n",
       "      <th>1</th>\n",
       "      <td>2009-01-06</td>\n",
       "      <td>0.025426</td>\n",
       "      <td>0.031813</td>\n",
       "      <td>0.007787</td>\n",
       "      <td>0.008455</td>\n",
       "      <td>0.012866</td>\n",
       "      <td>0.004162</td>\n",
       "      <td>0.018920</td>\n",
       "      <td>0.011341</td>\n",
       "      <td>0.008773</td>\n",
       "    </tr>\n",
       "    <tr>\n",
       "      <th>2</th>\n",
       "      <td>2009-01-07</td>\n",
       "      <td>-0.028862</td>\n",
       "      <td>-0.026353</td>\n",
       "      <td>-0.030469</td>\n",
       "      <td>-0.017833</td>\n",
       "      <td>-0.028735</td>\n",
       "      <td>0.017293</td>\n",
       "      <td>-0.035899</td>\n",
       "      <td>-0.017073</td>\n",
       "      <td>-0.020015</td>\n",
       "    </tr>\n",
       "    <tr>\n",
       "      <th>3</th>\n",
       "      <td>2009-01-08</td>\n",
       "      <td>-0.062208</td>\n",
       "      <td>-0.084716</td>\n",
       "      <td>0.003391</td>\n",
       "      <td>-0.011726</td>\n",
       "      <td>-0.000466</td>\n",
       "      <td>-0.040061</td>\n",
       "      <td>0.028283</td>\n",
       "      <td>-0.005561</td>\n",
       "      <td>-0.019424</td>\n",
       "    </tr>\n",
       "    <tr>\n",
       "      <th>4</th>\n",
       "      <td>2009-01-09</td>\n",
       "      <td>0.009860</td>\n",
       "      <td>0.009658</td>\n",
       "      <td>-0.021533</td>\n",
       "      <td>-0.019873</td>\n",
       "      <td>-0.012710</td>\n",
       "      <td>-0.004474</td>\n",
       "      <td>-0.009764</td>\n",
       "      <td>-0.010989</td>\n",
       "      <td>-0.007802</td>\n",
       "    </tr>\n",
       "  </tbody>\n",
       "</table>\n",
       "</div>"
      ],
      "text/plain": [
       "        date       ISE     ISE.1        SP       DAX      FTSE    NIKKEI  \\\n",
       "0 2009-01-05  0.035754  0.038376 -0.004679  0.002193  0.003894  0.000000   \n",
       "1 2009-01-06  0.025426  0.031813  0.007787  0.008455  0.012866  0.004162   \n",
       "2 2009-01-07 -0.028862 -0.026353 -0.030469 -0.017833 -0.028735  0.017293   \n",
       "3 2009-01-08 -0.062208 -0.084716  0.003391 -0.011726 -0.000466 -0.040061   \n",
       "4 2009-01-09  0.009860  0.009658 -0.021533 -0.019873 -0.012710 -0.004474   \n",
       "\n",
       "    BOVESPA        EU        EM  \n",
       "0  0.031190  0.012698  0.028524  \n",
       "1  0.018920  0.011341  0.008773  \n",
       "2 -0.035899 -0.017073 -0.020015  \n",
       "3  0.028283 -0.005561 -0.019424  \n",
       "4 -0.009764 -0.010989 -0.007802  "
      ]
     },
     "execution_count": 14,
     "metadata": {},
     "output_type": "execute_result"
    }
   ],
   "source": [
    "df = pd.read_excel(\"https://archive.ics.uci.edu/ml/machine-learning-databases/00247/data_akbilgic.xlsx\",\n",
    "                   skiprows=1)\n",
    "\n",
    "df.head()"
   ]
  },
  {
   "cell_type": "markdown",
   "id": "a73ef8e9-f46b-4b2c-9c07-e04d8d35fa60",
   "metadata": {},
   "source": [
    "### Converting `date columns` to `pd.Timestamp/DatetimeIndex`"
   ]
  },
  {
   "cell_type": "code",
   "execution_count": 15,
   "id": "dbdd5826-065e-47b9-80a9-9b68901e321a",
   "metadata": {},
   "outputs": [
    {
     "name": "stderr",
     "output_type": "stream",
     "text": [
      "/var/folders/m3/3_zd43kn4nn3q52cpx_b38g00000gn/T/ipykernel_79108/3296306359.py:1: UserWarning:\n",
      "\n",
      "Parsing dates in %d-%m-%Y format when dayfirst=False (the default) was specified. Pass `dayfirst=True` or specify a format to silence this warning.\n",
      "\n"
     ]
    },
    {
     "data": {
      "text/plain": [
       "'13, April 1987'"
      ]
     },
     "execution_count": 15,
     "metadata": {},
     "output_type": "execute_result"
    }
   ],
   "source": [
    "pd.to_datetime(\"13-4-1987\").strftime(\"%d, %B %Y\")"
   ]
  },
  {
   "cell_type": "code",
   "execution_count": 16,
   "id": "20205eaa-bc79-4ba6-b999-b465874ceaa7",
   "metadata": {},
   "outputs": [
    {
     "data": {
      "text/plain": [
       "'01, April 1987'"
      ]
     },
     "execution_count": 16,
     "metadata": {},
     "output_type": "execute_result"
    }
   ],
   "source": [
    "pd.to_datetime(\"4-1-1987\").strftime(\"%d, %B %Y\")"
   ]
  },
  {
   "cell_type": "code",
   "execution_count": 17,
   "id": "9937d697-76d4-428b-8394-29bc7101bcf2",
   "metadata": {},
   "outputs": [
    {
     "data": {
      "text/plain": [
       "'04, January 1987'"
      ]
     },
     "execution_count": 17,
     "metadata": {},
     "output_type": "execute_result"
    }
   ],
   "source": [
    "pd.to_datetime(\"4-1-1987\", dayfirst=True).strftime(\"%d, %B %Y\")"
   ]
  },
  {
   "cell_type": "code",
   "execution_count": 18,
   "id": "2b0d4ecc-e148-4d47-a320-a716c8bde236",
   "metadata": {},
   "outputs": [
    {
     "data": {
      "text/plain": [
       "'04, January 1987'"
      ]
     },
     "execution_count": 18,
     "metadata": {},
     "output_type": "execute_result"
    }
   ],
   "source": [
    "pd.to_datetime(\"4|1|1987\", format=\"%d|%m|%Y\").strftime(\"%d, %B %Y\")"
   ]
  },
  {
   "cell_type": "code",
   "execution_count": 19,
   "id": "4ad685ba-f82f-4b22-9b72-f19f2feb327d",
   "metadata": {},
   "outputs": [
    {
     "data": {
      "text/plain": [
       "dtype('<M8[ns]')"
      ]
     },
     "execution_count": 19,
     "metadata": {},
     "output_type": "execute_result"
    }
   ],
   "source": [
    "# Placing on Year First\n",
    "df['date'] = pd.to_datetime(df['date'], yearfirst=True)\n",
    "df['date'].dtype"
   ]
  },
  {
   "cell_type": "code",
   "execution_count": 20,
   "id": "4701591a-212a-43ef-b2d0-047198fb5548",
   "metadata": {},
   "outputs": [
    {
     "data": {
      "text/plain": [
       "(Timestamp('2009-01-05 00:00:00'), Timestamp('2011-02-22 00:00:00'))"
      ]
     },
     "execution_count": 20,
     "metadata": {},
     "output_type": "execute_result"
    }
   ],
   "source": [
    "# Min-Max Date\n",
    "df.date.min(),df.date.max()"
   ]
  },
  {
   "cell_type": "markdown",
   "id": "ed72979b-72d8-43f2-81e3-00df108fa9f3",
   "metadata": {},
   "source": [
    "#### `dt accessor` and `datetime` Properties"
   ]
  },
  {
   "cell_type": "code",
   "execution_count": 21,
   "id": "44d02aa5-485a-4944-b05b-72bb0a890999",
   "metadata": {},
   "outputs": [
    {
     "data": {
      "text/html": [
       "<div>\n",
       "<style scoped>\n",
       "    .dataframe tbody tr th:only-of-type {\n",
       "        vertical-align: middle;\n",
       "    }\n",
       "\n",
       "    .dataframe tbody tr th {\n",
       "        vertical-align: top;\n",
       "    }\n",
       "\n",
       "    .dataframe thead th {\n",
       "        text-align: right;\n",
       "    }\n",
       "</style>\n",
       "<table border=\"1\" class=\"dataframe\">\n",
       "  <thead>\n",
       "    <tr style=\"text-align: right;\">\n",
       "      <th></th>\n",
       "      <th>date</th>\n",
       "      <th>ISE</th>\n",
       "      <th>ISE.1</th>\n",
       "      <th>SP</th>\n",
       "      <th>DAX</th>\n",
       "      <th>FTSE</th>\n",
       "      <th>NIKKEI</th>\n",
       "      <th>BOVESPA</th>\n",
       "      <th>EU</th>\n",
       "      <th>EM</th>\n",
       "    </tr>\n",
       "  </thead>\n",
       "  <tbody>\n",
       "    <tr>\n",
       "      <th>0</th>\n",
       "      <td>2009-01-05</td>\n",
       "      <td>0.035754</td>\n",
       "      <td>0.038376</td>\n",
       "      <td>-0.004679</td>\n",
       "      <td>0.002193</td>\n",
       "      <td>0.003894</td>\n",
       "      <td>0.000000</td>\n",
       "      <td>0.031190</td>\n",
       "      <td>0.012698</td>\n",
       "      <td>0.028524</td>\n",
       "    </tr>\n",
       "    <tr>\n",
       "      <th>1</th>\n",
       "      <td>2009-01-06</td>\n",
       "      <td>0.025426</td>\n",
       "      <td>0.031813</td>\n",
       "      <td>0.007787</td>\n",
       "      <td>0.008455</td>\n",
       "      <td>0.012866</td>\n",
       "      <td>0.004162</td>\n",
       "      <td>0.018920</td>\n",
       "      <td>0.011341</td>\n",
       "      <td>0.008773</td>\n",
       "    </tr>\n",
       "    <tr>\n",
       "      <th>2</th>\n",
       "      <td>2009-01-07</td>\n",
       "      <td>-0.028862</td>\n",
       "      <td>-0.026353</td>\n",
       "      <td>-0.030469</td>\n",
       "      <td>-0.017833</td>\n",
       "      <td>-0.028735</td>\n",
       "      <td>0.017293</td>\n",
       "      <td>-0.035899</td>\n",
       "      <td>-0.017073</td>\n",
       "      <td>-0.020015</td>\n",
       "    </tr>\n",
       "    <tr>\n",
       "      <th>3</th>\n",
       "      <td>2009-01-08</td>\n",
       "      <td>-0.062208</td>\n",
       "      <td>-0.084716</td>\n",
       "      <td>0.003391</td>\n",
       "      <td>-0.011726</td>\n",
       "      <td>-0.000466</td>\n",
       "      <td>-0.040061</td>\n",
       "      <td>0.028283</td>\n",
       "      <td>-0.005561</td>\n",
       "      <td>-0.019424</td>\n",
       "    </tr>\n",
       "    <tr>\n",
       "      <th>4</th>\n",
       "      <td>2009-01-09</td>\n",
       "      <td>0.009860</td>\n",
       "      <td>0.009658</td>\n",
       "      <td>-0.021533</td>\n",
       "      <td>-0.019873</td>\n",
       "      <td>-0.012710</td>\n",
       "      <td>-0.004474</td>\n",
       "      <td>-0.009764</td>\n",
       "      <td>-0.010989</td>\n",
       "      <td>-0.007802</td>\n",
       "    </tr>\n",
       "  </tbody>\n",
       "</table>\n",
       "</div>"
      ],
      "text/plain": [
       "        date       ISE     ISE.1        SP       DAX      FTSE    NIKKEI  \\\n",
       "0 2009-01-05  0.035754  0.038376 -0.004679  0.002193  0.003894  0.000000   \n",
       "1 2009-01-06  0.025426  0.031813  0.007787  0.008455  0.012866  0.004162   \n",
       "2 2009-01-07 -0.028862 -0.026353 -0.030469 -0.017833 -0.028735  0.017293   \n",
       "3 2009-01-08 -0.062208 -0.084716  0.003391 -0.011726 -0.000466 -0.040061   \n",
       "4 2009-01-09  0.009860  0.009658 -0.021533 -0.019873 -0.012710 -0.004474   \n",
       "\n",
       "    BOVESPA        EU        EM  \n",
       "0  0.031190  0.012698  0.028524  \n",
       "1  0.018920  0.011341  0.008773  \n",
       "2 -0.035899 -0.017073 -0.020015  \n",
       "3  0.028283 -0.005561 -0.019424  \n",
       "4 -0.009764 -0.010989 -0.007802  "
      ]
     },
     "execution_count": 21,
     "metadata": {},
     "output_type": "execute_result"
    }
   ],
   "source": [
    "df.head()"
   ]
  },
  {
   "cell_type": "code",
   "execution_count": 22,
   "id": "562812cd-2dcc-4249-bd53-cae5df2f1329",
   "metadata": {},
   "outputs": [
    {
     "name": "stdout",
     "output_type": "stream",
     "text": [
      "\n",
      "Date: 2009-01-05 00:00:00\n",
      "Day of year: 5\n",
      "Day of week: 0\n",
      "Month: 1\n",
      "Month Name: January\n",
      "Quarter: 1\n",
      "Year: 2009\n",
      "ISO Week: 2\n",
      "\n"
     ]
    }
   ],
   "source": [
    "print(f\"\"\"\n",
    "Date: {df.date.iloc[0]}\n",
    "Day of year: {df.date.dt.day_of_year.iloc[0]}\n",
    "Day of week: {df.date.dt.dayofweek.iloc[0]}\n",
    "Month: {df.date.dt.month.iloc[0]}\n",
    "Month Name: {df.date.dt.month_name().iloc[0]}\n",
    "Quarter: {df.date.dt.quarter.iloc[0]}\n",
    "Year: {df.date.dt.year.iloc[0]}\n",
    "ISO Week: {df.date.dt.isocalendar().week.iloc[0]}\n",
    "\"\"\")"
   ]
  },
  {
   "cell_type": "markdown",
   "id": "30f1891c-2583-43de-9b85-95450ca93e29",
   "metadata": {},
   "source": [
    "#### Slicing and Indexing"
   ]
  },
  {
   "cell_type": "code",
   "execution_count": null,
   "id": "bdf65a45-706b-43b2-864e-2c4e1c43c747",
   "metadata": {},
   "outputs": [],
   "source": []
  },
  {
   "cell_type": "code",
   "execution_count": null,
   "id": "3da9cc3c-ad4b-43e4-9684-dfd489f4d9f9",
   "metadata": {},
   "outputs": [],
   "source": []
  },
  {
   "cell_type": "code",
   "execution_count": null,
   "id": "1529f9fa-09e3-4684-b186-2055a5559207",
   "metadata": {},
   "outputs": [],
   "source": []
  },
  {
   "cell_type": "code",
   "execution_count": null,
   "id": "8edeb981-d12b-472e-90a7-5e3b5578b697",
   "metadata": {},
   "outputs": [],
   "source": []
  },
  {
   "cell_type": "code",
   "execution_count": null,
   "id": "ea5fcb42-6cb4-42fc-8766-5e9b87c59bb2",
   "metadata": {},
   "outputs": [],
   "source": []
  },
  {
   "cell_type": "code",
   "execution_count": null,
   "id": "c0c0e412-0488-4b35-8893-32fe7801d47c",
   "metadata": {},
   "outputs": [],
   "source": []
  },
  {
   "cell_type": "code",
   "execution_count": null,
   "id": "5df00710-f3ca-461b-b0e6-41701b8d5380",
   "metadata": {},
   "outputs": [],
   "source": []
  },
  {
   "cell_type": "code",
   "execution_count": null,
   "id": "1f3ce0b3-1d81-40df-ae0b-3a2acdc29bcc",
   "metadata": {},
   "outputs": [],
   "source": []
  },
  {
   "cell_type": "code",
   "execution_count": null,
   "id": "5a0f189d-a5aa-449e-a4ae-d5503efdbdb0",
   "metadata": {},
   "outputs": [],
   "source": []
  },
  {
   "cell_type": "code",
   "execution_count": null,
   "id": "b21728a2-de19-4722-a903-7a6b901a33a4",
   "metadata": {},
   "outputs": [],
   "source": []
  },
  {
   "cell_type": "code",
   "execution_count": null,
   "id": "9884c64d-2903-44a8-8f3d-f94a7fc9cf79",
   "metadata": {},
   "outputs": [],
   "source": []
  },
  {
   "cell_type": "code",
   "execution_count": null,
   "id": "cf0911f1-d08b-4566-9d63-1eb4af160d72",
   "metadata": {},
   "outputs": [],
   "source": []
  },
  {
   "cell_type": "code",
   "execution_count": null,
   "id": "cd57a8c9-295a-4f13-9bf1-38d5c97e59d3",
   "metadata": {},
   "outputs": [],
   "source": []
  },
  {
   "cell_type": "code",
   "execution_count": null,
   "id": "20a445b6-a241-4b59-9ff9-6efe13d9dbde",
   "metadata": {},
   "outputs": [],
   "source": []
  },
  {
   "cell_type": "code",
   "execution_count": null,
   "id": "a6eb5b63-6a92-423e-8080-28f2e7ff5d74",
   "metadata": {},
   "outputs": [],
   "source": []
  },
  {
   "cell_type": "code",
   "execution_count": null,
   "id": "1038f7b8-aa95-4cc2-9edb-71cd5a8ddac7",
   "metadata": {},
   "outputs": [],
   "source": []
  },
  {
   "cell_type": "code",
   "execution_count": null,
   "id": "9b9aa824-a9a1-422a-b068-9926173829de",
   "metadata": {},
   "outputs": [],
   "source": [
    "\n"
   ]
  }
 ],
 "metadata": {
  "kernelspec": {
   "display_name": "Python 3 (ipykernel)",
   "language": "python",
   "name": "python3"
  },
  "language_info": {
   "codemirror_mode": {
    "name": "ipython",
    "version": 3
   },
   "file_extension": ".py",
   "mimetype": "text/x-python",
   "name": "python",
   "nbconvert_exporter": "python",
   "pygments_lexer": "ipython3",
   "version": "3.10.18"
  }
 },
 "nbformat": 4,
 "nbformat_minor": 5
}
