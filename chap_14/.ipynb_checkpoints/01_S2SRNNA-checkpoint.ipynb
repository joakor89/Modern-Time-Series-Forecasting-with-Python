{
 "cells": [
  {
   "cell_type": "markdown",
   "id": "6bb53dbf-070b-406d-88e9-ae5f7841eae7",
   "metadata": {},
   "source": [
    "# Sequence to Sequence RNN with Attention\n",
    "\n",
    "### Loading Libraries"
   ]
  },
  {
   "cell_type": "code",
   "execution_count": 1,
   "id": "9bae5b94-bc68-44e8-9029-bb7f9ccd7117",
   "metadata": {},
   "outputs": [
    {
     "name": "stdout",
     "output_type": "stream",
     "text": [
      "/Users/joaquinromero/Desktop\n"
     ]
    }
   ],
   "source": [
    "%cd ../.."
   ]
  },
  {
   "cell_type": "code",
   "execution_count": null,
   "id": "632b2537-297a-47d4-b49e-4f818d21d6bf",
   "metadata": {},
   "outputs": [],
   "source": [
    "# Numerical Computing\n",
    "import numpy as np\n",
    "\n",
    "# Data Manipulation\n",
    "import pandas as pd\n",
    "\n",
    "# OS \n",
    "import os\n",
    "import shutil\n",
    "import joblib\n",
    "\n",
    "# Data Visualization\n",
    "import plotly.io as pio\n",
    "import plotly.express as px\n",
    "import plotly.graph_objects as go\n",
    "\n",
    "# Path\n",
    "from pathlib import Path\n",
    "from tqdm.autonotebook import tqdm\n",
    "\n",
    "# IPython & Itertools\n",
    "from itertools import cycle\n",
    "from IPython.display import display, HTML"
   ]
  },
  {
   "cell_type": "code",
   "execution_count": null,
   "id": "96251523-711f-4eb2-907b-3dcdce33a93e",
   "metadata": {},
   "outputs": [],
   "source": [
    "# Custom Libraries\n",
    "from src.utils import plotting_utils\n",
    "from src.utils import ts_utils_updated\n",
    "from src.forecasting.ml_forecasting import calculate_metrics\n",
    "\n",
    "from src.forecasting.ml_forecasting import (\n",
    "    MissingValueConfig,\n",
    "    calculate_metrics,\n",
    ")"
   ]
  },
  {
   "cell_type": "code",
   "execution_count": null,
   "id": "7add9dc2-69c5-4a56-8714-6950f7658723",
   "metadata": {},
   "outputs": [],
   "source": [
    "# %load_ext autoreload\n",
    "\n",
    "# %autoreload 2"
   ]
  },
  {
   "cell_type": "code",
   "execution_count": null,
   "id": "d9092438-e7cd-400f-96bb-3d2b3db6b2f8",
   "metadata": {},
   "outputs": [],
   "source": [
    "tqdm.pandas()\n",
    "\n",
    "np.random.seed(42)\n",
    "\n",
    "pio.templates.default = \"plotly_white\""
   ]
  },
  {
   "cell_type": "code",
   "execution_count": null,
   "id": "64607c71-2571-4a14-9dc2-f6378b5896de",
   "metadata": {},
   "outputs": [],
   "source": [
    "os.makedirs(\"imgs/chapter_13\", exist_ok=True)\n",
    "\n",
    "preprocessed = Path.home() / \"Desktop\" / \"data\" / \"london_smart_meters\" / \"preprocessed\"\n",
    "\n",
    "output = Path.home() / \"Desktop\" / \"data\" / \"london_smart_meters\" / \"output\""
   ]
  },
  {
   "cell_type": "markdown",
   "id": "aa005ea7-71a2-4ac1-92f3-4acd09af0e66",
   "metadata": {},
   "source": [
    "#### Utility Functions"
   ]
  },
  {
   "cell_type": "code",
   "execution_count": null,
   "id": "e69611c1-11a8-41e2-89d9-8cf37773afb3",
   "metadata": {},
   "outputs": [],
   "source": [
    "def format_plot(fig, legends=None, xlabel=\"Time\", ylabel=\"Value\", title=\"\", font_size=15):\n",
    "    if legends:\n",
    "        names = cycle(legends)\n",
    "        fig.for_each_trace(lambda t: t.update(name=next(names)))\n",
    "    fig.update_layout(\n",
    "        autosize=False,\n",
    "        width=900,\n",
    "        height=500,\n",
    "        title_text=title,\n",
    "        title={\"x\": 0.5, \"xanchor\": \"center\", \"yanchor\": \"top\"},\n",
    "        titlefont={\"size\": 20},\n",
    "        legend_title=None,\n",
    "        legend=dict(\n",
    "            font=dict(size=font_size),\n",
    "            orientation=\"h\",\n",
    "            yanchor=\"bottom\",\n",
    "            y=0.98,\n",
    "            xanchor=\"right\",\n",
    "            x=1,\n",
    "        ),\n",
    "        yaxis=dict(\n",
    "            title_text=ylabel,\n",
    "            titlefont=dict(size=font_size),\n",
    "            tickfont=dict(size=font_size),\n",
    "        ),\n",
    "        xaxis=dict(\n",
    "            title_text=xlabel,\n",
    "            titlefont=dict(size=font_size),\n",
    "            tickfont=dict(size=font_size),\n",
    "        )\n",
    "    )\n",
    "    return fig"
   ]
  },
  {
   "cell_type": "code",
   "execution_count": null,
   "id": "3564544f-de34-4575-be1b-459debfd424f",
   "metadata": {},
   "outputs": [],
   "source": [
    "def plot_forecast(pred_df, forecast_columns, forecast_display_names=None):\n",
    "    if forecast_display_names is None:\n",
    "        forecast_display_names = forecast_columns\n",
    "    else:\n",
    "        assert len(forecast_columns) == len(forecast_display_names)\n",
    "    mask = ~pred_df[forecast_columns[0]].isnull()\n",
    "    colors = [\n",
    "        \"rgba(\" + \",\".join([str(c) for c in plotting_utils.hex_to_rgb(c)]) + \",<alpha>)\"\n",
    "        for c in px.colors.qualitative.Plotly\n",
    "    ]\n",
    "    act_color = colors[0]\n",
    "    colors = cycle(colors[1:])\n",
    "    fig = go.Figure()\n",
    "    fig.add_trace(\n",
    "        go.Scatter(\n",
    "            x=pred_df[mask].index,\n",
    "            y=pred_df[mask].energy_consumption,\n",
    "            mode=\"lines\",\n",
    "            line=dict(color=act_color.replace(\"<alpha>\", \"0.9\")),\n",
    "            name=\"Actual Consumption\",\n",
    "        )\n",
    "    )\n",
    "    for col, display_col in zip(forecast_columns, forecast_display_names):\n",
    "        fig.add_trace(\n",
    "            go.Scatter(\n",
    "                x=pred_df[mask].index,\n",
    "                y=pred_df.loc[mask, col],\n",
    "                mode=\"lines\",\n",
    "                line=dict(dash=\"dot\", color=next(colors).replace(\"<alpha>\", \"1\")),\n",
    "                name=display_col,\n",
    "            )\n",
    "        )\n",
    "    return fig\n",
    "\n",
    "def highlight_abs_min(s, props=''):\n",
    "    return np.where(s == np.nanmin(np.abs(s.values)), props, '')"
   ]
  },
  {
   "cell_type": "markdown",
   "id": "603030bb-3c44-4b00-859b-cb98adff68f5",
   "metadata": {},
   "source": [
    "#### Reading The Data"
   ]
  },
  {
   "cell_type": "code",
   "execution_count": null,
   "id": "6da65ceb-c89c-47aa-9785-179d0893ca83",
   "metadata": {},
   "outputs": [],
   "source": [
    "try:\n",
    "    # Reading the missing value imputed and train test split data\n",
    "    train_df = pd.read_parquet(preprocessed/\"selected_blocks_train_missing_imputed_feature_engg.parquet\")\n",
    "    # Read in the Validation dataset as test_df so that we predict on it\n",
    "    test_df = pd.read_parquet(preprocessed/\"selected_blocks_val_missing_imputed_feature_engg.parquet\")\n",
    "    # test_df = pd.read_parquet(preprocessed/\"block_0-7_test_missing_imputed_feature_engg.parquet\")\n",
    "except FileNotFoundError:\n",
    "    display(HTML(\"\"\"\n",
    "    <div class=\"alert alert-block alert-warning\">\n",
    "    <b>Warning!</b> File not found. Please make sure you have run 01-Feature Engineering.ipynb in Chapter06\n",
    "    </div>\n",
    "    \"\"\"))"
   ]
  },
  {
   "cell_type": "code",
   "execution_count": null,
   "id": "7cdcb531-7475-4ed1-b68d-d9424d62c8e1",
   "metadata": {},
   "outputs": [],
   "source": [
    "target = \"energy_consumption\"\n",
    "\n",
    "index_cols = [\"LCLid\", \"timestamp\"]"
   ]
  },
  {
   "cell_type": "code",
   "execution_count": null,
   "id": "aa5b6790-1af7-4713-8758-0a5d5256e4da",
   "metadata": {},
   "outputs": [],
   "source": [
    "# Setting The Indices\n",
    "train_df.set_index(index_cols, inplace=True, drop=False)\n",
    "\n",
    "test_df.set_index(index_cols, inplace=True, drop=False)"
   ]
  },
  {
   "cell_type": "markdown",
   "id": "99eb72d9-e19f-4fd8-aa8c-6aa2ff2e612c",
   "metadata": {},
   "source": [
    "### Running Seq2Seq Models on a Sample Household\n",
    "\n",
    "#### Selecting The Sample Data & Metrics"
   ]
  },
  {
   "cell_type": "code",
   "execution_count": null,
   "id": "41675f6c-76a7-4982-ab5f-225cff17e04c",
   "metadata": {},
   "outputs": [],
   "source": [
    "sample_train_df = train_df.xs(\"MAC000193\")\n",
    "sample_test_df = test_df.xs(\"MAC000193\")\n",
    "\n",
    "# Creating a pred_df with actuals\n",
    "pred_df = pd.concat([sample_train_df[[target]], sample_test_df[[target]]])"
   ]
  },
  {
   "cell_type": "code",
   "execution_count": null,
   "id": "223abf9c-a6a4-46b8-94e2-a628e84a790a",
   "metadata": {},
   "outputs": [],
   "source": [
    "sample_val_df = sample_train_df.loc[\"2013-12\"]\n",
    "sample_train_df = sample_train_df.loc[:\"2013-11\"]\n",
    "\n",
    "sample_train_df['type'] = \"train\"\n",
    "sample_val_df['type'] = \"val\"\n",
    "sample_test_df['type'] = \"test\"\n",
    "\n",
    "sample_df = pd.concat([sample_train_df[[target, \"type\"]], sample_val_df[[target, \"type\"]], sample_test_df[[target, \"type\"]]])\n",
    "sample_df.head()"
   ]
  },
  {
   "cell_type": "markdown",
   "id": "09a1400b-51ca-4d19-afa1-d6a8e253a9d8",
   "metadata": {},
   "source": [
    "#### Loading the Forecast & metrics from Seq-2Seq RNN"
   ]
  },
  {
   "cell_type": "code",
   "execution_count": null,
   "id": "79d401df-3565-4ebc-be56-555b6623741e",
   "metadata": {},
   "outputs": [],
   "source": [
    "pd.DataFrame(joblib.load(output/\"dl_seq_2_seq_metrics_val_df_MAC000193.pkl\")).Algorithm.unique()"
   ]
  },
  {
   "cell_type": "code",
   "execution_count": null,
   "id": "86a86645-04dd-4043-b242-5d062da67c2b",
   "metadata": {},
   "outputs": [],
   "source": [
    "try:\n",
    "    pred_df = pd.read_pickle(output/\"dl_seq_2_seq_prediction_val_df_MAC000193.pkl\")\n",
    "    metric_record = joblib.load(output/\"dl_seq_2_seq_metrics_val_df_MAC000193.pkl\")\n",
    "\n",
    "    sel_metrics = [\n",
    "        \"MultiStep LSTM_LSTM_teacher_forcing_0.0\",\n",
    "        \"MultiStep LSTM_LSTM_teacher_forcing_1\",\n",
    "    ]\n",
    "    metric_record = [i for i in metric_record if i[\"Algorithm\"] in sel_metrics]\n",
    "except FileNotFoundError:\n",
    "    display(HTML(\"\"\"\n",
    "    <div class=\"alert alert-block alert-warning\">\n",
    "    <b>Warning!</b> File not found. Please make sure you have run 03-Seq2Seq RNN in Chapter13\n",
    "    </div>\n",
    "    \"\"\"))"
   ]
  },
  {
   "cell_type": "markdown",
   "id": "0bf1cc17-0b28-4190-a417-a1ed48a71eac",
   "metadata": {},
   "source": [
    "#### Loading The Necessary Classes"
   ]
  },
  {
   "cell_type": "code",
   "execution_count": null,
   "id": "b6e37197-3077-43fb-a6c3-76d11e849d5e",
   "metadata": {},
   "outputs": [],
   "source": [
    "from src.dl.dataloaders import TimeSeriesDataModule\n",
    "from src.dl.models import RNNConfig, Seq2SeqwAttnConfig, Seq2SeqwAttnModel\n",
    "import pytorch_lightning as pl\n",
    "import torch\n",
    "\n",
    "# For reproduceability set a random seed\n",
    "pl.seed_everything(42)"
   ]
  },
  {
   "cell_type": "markdown",
   "id": "de713e82-6114-4543-ad89-996c18abf2f2",
   "metadata": {},
   "source": [
    "### Multi-Step Prediction"
   ]
  },
  {
   "cell_type": "code",
   "execution_count": null,
   "id": "ca9aef32-6ed6-41f5-8bab-48d164d9a44c",
   "metadata": {},
   "outputs": [],
   "source": [
    "HORIZON = 48\n",
    "\n",
    "WINDOW = 48*2"
   ]
  },
  {
   "cell_type": "code",
   "execution_count": null,
   "id": "c778bc9c-1e0d-427a-83b7-173f08cd3b23",
   "metadata": {},
   "outputs": [],
   "source": [
    "datamodule = TimeSeriesDataModule(data = sample_df[[target]],\n",
    "        n_val = sample_val_df.shape[0],\n",
    "        n_test = sample_test_df.shape[0],\n",
    "        window = WINDOW, \n",
    "        horizon = HORIZON,\n",
    "        normalize = \"global\", # normalizing the data\n",
    "        batch_size = 32,\n",
    "        num_workers = 0)\n",
    "\n",
    "datamodule.setup()"
   ]
  },
  {
   "cell_type": "markdown",
   "id": "b068561d-9350-44d7-9757-6d4f094d9cd1",
   "metadata": {},
   "source": [
    "#### LSTM-LSTM Seq2Seq With Dot Product Attention"
   ]
  },
  {
   "cell_type": "code",
   "execution_count": null,
   "id": "8fa636dc-7362-41fb-b1e8-d27e4e190a86",
   "metadata": {},
   "outputs": [],
   "source": [
    "attn = \"dot\"\n",
    "encoder_config = RNNConfig(\n",
    "    input_size=1,\n",
    "    hidden_size=128,\n",
    "    num_layers=3,\n",
    "    bidirectional=True,\n",
    ").__dict__\n",
    "decoder_config = RNNConfig(\n",
    "    input_size=1 + 128*2,\n",
    "    hidden_size=128,\n",
    "    num_layers=3,\n",
    "    bidirectional=True,\n",
    ").__dict__\n",
    "rnn2rnn_config = Seq2SeqwAttnConfig(\n",
    "    encoder_type=\"LSTM\",\n",
    "    decoder_type=\"LSTM\",\n",
    "    encoder_params=encoder_config,\n",
    "    decoder_params=decoder_config,\n",
    "    teacher_forcing_ratio=1,\n",
    "    learning_rate=1e-4,\n",
    ")\n",
    "\n",
    "model = Seq2SeqwAttnModel(attention_type=attn,config=rnn2rnn_config)\n",
    "\n",
    "trainer = pl.Trainer(\n",
    "    accelerator=\"auto\",\n",
    "    min_epochs=5,\n",
    "    max_epochs=100,\n",
    "    callbacks=[pl.callbacks.EarlyStopping(monitor=\"valid_loss\", patience=3)],\n",
    ")\n",
    "trainer.fit(model, datamodule)\n",
    "# model.load_state_dict(torch.load(trainer.checkpoint_callback.best_model_path)['state_dict'])\n",
    "# Removing artifacts created during training\n",
    "shutil.rmtree(\"lightning_logs\")"
   ]
  },
  {
   "cell_type": "code",
   "execution_count": null,
   "id": "f5435eda-e15b-4db7-ad8e-ff5d4559396d",
   "metadata": {},
   "outputs": [],
   "source": [
    "tag = f\"MultiStep_Seq2Seq_{attn}_Attn_teacher_forcing_{rnn2rnn_config.teacher_forcing_ratio}\"\n",
    "pred = trainer.predict(model, datamodule.test_dataloader())\n",
    "\n",
    "# pred is a list of outputs, one for each batch\n",
    "pred = torch.cat(pred).squeeze().detach().numpy()\n",
    "\n",
    "# Selecting forward predictions of HORIZON timesteps, every HORIZON timesteps and flattening it\n",
    "pred = pred[0::48].ravel()\n",
    "\n",
    "# Apply reverse transformation because we applied global normalization\n",
    "pred = pred * datamodule.train.std + datamodule.train.mean\n",
    "pred_df_ = pd.DataFrame({tag: pred}, index=sample_test_df.index)\n",
    "pred_df = pred_df.join(pred_df_)\n",
    "metrics = calculate_metrics(sample_test_df[target], pred_df_[tag], tag, pd.concat([sample_train_df[target],sample_val_df[target]]))\n",
    "metric_record.append(metrics)"
   ]
  },
  {
   "cell_type": "code",
   "execution_count": null,
   "id": "54374b6c-0c3e-4145-b2ec-0c889b4e25d9",
   "metadata": {},
   "outputs": [],
   "source": [
    "formatted = pd.DataFrame(metric_record).style.format({\"MAE\": \"{:.4f}\", \n",
    "                          \"MSE\": \"{:.4f}\", \n",
    "                          \"MASE\": \"{:.4f}\", \n",
    "                          \"Forecast Bias\": \"{:.2f}%\"})\n",
    "\n",
    "formatted.highlight_min(color='lightgreen', subset=[\"MAE\",\"MSE\",\"MASE\"]).apply(highlight_abs_min, props='color:black;background-color:lightgreen', axis=0, subset=['Forecast Bias'])"
   ]
  },
  {
   "cell_type": "code",
   "execution_count": null,
   "id": "6341b3b0-2d12-4f13-b41c-bdf7858f2db6",
   "metadata": {},
   "outputs": [],
   "source": [
    "fig = plot_forecast(pred_df, forecast_columns=[tag], forecast_display_names=[tag])\n",
    "fig = format_plot(fig, title=f\"MAE: {metrics['MAE']:.4f} | MSE: {metrics['MSE']:.4f} | MASE: {metrics['MASE']:.4f} | Bias: {metrics['Forecast Bias']:.4f}\")\n",
    "fig.update_xaxes(type=\"date\", range=[\"2014-01-01\", \"2014-01-08\"])\n",
    "fig.write_image(f\"imgs/chapter_14/{tag}.png\")\n",
    "fig.show()"
   ]
  },
  {
   "cell_type": "code",
   "execution_count": null,
   "id": "be7572bb-1960-4448-ade0-0aebb509da1f",
   "metadata": {},
   "outputs": [],
   "source": []
  },
  {
   "cell_type": "code",
   "execution_count": null,
   "id": "8ecb898d-db98-4a32-b3ee-d30b9ed796b4",
   "metadata": {},
   "outputs": [],
   "source": []
  },
  {
   "cell_type": "code",
   "execution_count": null,
   "id": "6535ddcb-a6ee-45c5-87bc-c0bf4fce4132",
   "metadata": {},
   "outputs": [],
   "source": []
  },
  {
   "cell_type": "code",
   "execution_count": null,
   "id": "cf5d8577-6585-47d4-9104-b1059e7e95de",
   "metadata": {},
   "outputs": [],
   "source": []
  },
  {
   "cell_type": "code",
   "execution_count": null,
   "id": "79d53cb2-2701-4b6c-9c40-99f911210102",
   "metadata": {},
   "outputs": [],
   "source": []
  },
  {
   "cell_type": "code",
   "execution_count": null,
   "id": "b93e9cb3-0fdb-4388-a2c7-7b4b1d1b9aae",
   "metadata": {},
   "outputs": [],
   "source": []
  },
  {
   "cell_type": "code",
   "execution_count": null,
   "id": "b357b7ff-bcad-40d5-9b79-c143e02b1d81",
   "metadata": {},
   "outputs": [],
   "source": []
  },
  {
   "cell_type": "code",
   "execution_count": null,
   "id": "f301dcfd-1d79-4acd-85d0-1ba8018499aa",
   "metadata": {},
   "outputs": [],
   "source": []
  },
  {
   "cell_type": "code",
   "execution_count": null,
   "id": "0afbf8a7-c4ff-4fab-969d-fc4c88bc2265",
   "metadata": {},
   "outputs": [],
   "source": []
  },
  {
   "cell_type": "code",
   "execution_count": null,
   "id": "429ef3e6-739a-4bfb-b7dc-db90e2e83bb4",
   "metadata": {},
   "outputs": [],
   "source": []
  },
  {
   "cell_type": "code",
   "execution_count": null,
   "id": "9f05ccf4-957c-4291-a9f7-0a174344d66c",
   "metadata": {},
   "outputs": [],
   "source": []
  },
  {
   "cell_type": "code",
   "execution_count": null,
   "id": "7f8f0b8f-4c51-4fc9-9cec-014953ae8609",
   "metadata": {},
   "outputs": [],
   "source": []
  },
  {
   "cell_type": "code",
   "execution_count": null,
   "id": "03f19bce-ef41-4b60-81c6-b3bcc82aaaf9",
   "metadata": {},
   "outputs": [],
   "source": []
  }
 ],
 "metadata": {
  "kernelspec": {
   "display_name": "Python (MTSP)",
   "language": "python",
   "name": "mtsp"
  },
  "language_info": {
   "codemirror_mode": {
    "name": "ipython",
    "version": 3
   },
   "file_extension": ".py",
   "mimetype": "text/x-python",
   "name": "python",
   "nbconvert_exporter": "python",
   "pygments_lexer": "ipython3",
   "version": "3.10.18"
  }
 },
 "nbformat": 4,
 "nbformat_minor": 5
}
