{
 "cells": [
  {
   "cell_type": "markdown",
   "id": "4e84363c-d348-4425-ae12-ed79ba5998a6",
   "metadata": {},
   "source": [
    "# Global Forecasting Models (ML)\n",
    "\n",
    "### Loading Libraries"
   ]
  },
  {
   "cell_type": "code",
   "execution_count": 1,
   "id": "35bb9b00-9216-403c-aa9a-cb655965bceb",
   "metadata": {},
   "outputs": [
    {
     "name": "stdout",
     "output_type": "stream",
     "text": [
      "/Users/joaquinromero/Desktop\n"
     ]
    }
   ],
   "source": [
    "%cd ../.."
   ]
  },
  {
   "cell_type": "code",
   "execution_count": null,
   "id": "7b2d31e5-edec-4580-9d06-d8fd7459789a",
   "metadata": {},
   "outputs": [],
   "source": [
    "# Numerical Computing\n",
    "import numpy as np\n",
    "\n",
    "# Data Manipulation\n",
    "import pandas as pd\n",
    "\n",
    "# Data Visualization\n",
    "import plotly.express as px\n",
    "import plotly.graph_objects as go\n",
    "import plotly.io as pio\n",
    "\n",
    "# OS & Time\n",
    "import os\n",
    "import time\n",
    "import copy\n",
    "import joblib\n",
    "\n",
    "# Warnings, Func & Path\n",
    "import warnings\n",
    "import pickleshare\n",
    "import missingno as msno\n",
    "from pathlib import Path\n",
    "from itertools import cycle\n",
    "from functools import partial\n",
    "from typing import List, Tuple\n",
    "\n",
    "# PyArrow\n",
    "import pyarrow as pa\n",
    "\n",
    "# Humanize\n",
    "import humanize\n",
    "\n",
    "# Scikit-Learn\n",
    "from sklearn.preprocessing import StandardScaler\n",
    "\n",
    "# Notebook Optimizer\n",
    "from tqdm.autonotebook import tqdm\n",
    "\n",
    "# IPython - Display\n",
    "from IPython.display import display, HTML\n",
    "\n",
    "# Random\n",
    "import random"
   ]
  },
  {
   "cell_type": "code",
   "execution_count": null,
   "id": "ae14b035-17d5-4699-820a-fdbdc5c43991",
   "metadata": {},
   "outputs": [],
   "source": [
    "# Custom Libraries\n",
    "from src.utils import plotting_utils\n",
    "from src.utils.general import LogTime\n",
    "from src.utils.data_utils import _get_32_bit_dtype \n",
    "from src.utils.ts_utils_updated import metrics_adapter, forecast_bias,mae, mase, mse"
   ]
  },
  {
   "cell_type": "code",
   "execution_count": null,
   "id": "d4ef92dd-a67b-416f-8c1f-30ac0a183ec9",
   "metadata": {},
   "outputs": [],
   "source": [
    "from src.forecasting.ml_forecasting import (\n",
    "    FeatureConfig,\n",
    "    MissingValueConfig,\n",
    "    MLForecast,\n",
    "    ModelConfig,\n",
    "    calculate_metrics,\n",
    ")"
   ]
  },
  {
   "cell_type": "code",
   "execution_count": null,
   "id": "9939f912-1d09-4209-9a77-965fb48659bc",
   "metadata": {},
   "outputs": [],
   "source": [
    "# %load_ext autoreload\n",
    "# %autoreload 2"
   ]
  },
  {
   "cell_type": "code",
   "execution_count": null,
   "id": "60631530-cca5-42ee-b64f-376790a1c079",
   "metadata": {},
   "outputs": [],
   "source": [
    "tqdm.pandas()\n",
    "\n",
    "random.seed(42)\n",
    "\n",
    "np.random.seed(42)\n",
    "\n",
    "pio.templates.default = \"plotly_white\""
   ]
  },
  {
   "cell_type": "code",
   "execution_count": null,
   "id": "2206ea96-0316-48ee-b3d8-e274a40bd9b0",
   "metadata": {},
   "outputs": [],
   "source": [
    "os.makedirs(\"imgs/chapter_10\", exist_ok=True)\n",
    "\n",
    "preprocessed = Path.home() / \"Desktop\" / \"data\" / \"london_smart_meters\" / \"preprocessed\"\n",
    "\n",
    "output = Path.home() / \"Desktop\" / \"data\" / \"london_smart_meters\" / \"output\""
   ]
  },
  {
   "cell_type": "code",
   "execution_count": null,
   "id": "6d383836-10a1-4e8c-931a-6e2817631dd4",
   "metadata": {},
   "outputs": [],
   "source": [
    "def format_plot(fig, legends=None, xlabel=\"Time\", ylabel=\"Value\", title=\"\", font_size=15):\n",
    "    if legends:\n",
    "        names = cycle(legends)\n",
    "        fig.for_each_trace(lambda t: t.update(name=next(names)))\n",
    "    fig.update_layout(\n",
    "        autosize=False,\n",
    "        width=900,\n",
    "        height=500,\n",
    "        title_text=title,\n",
    "        title={\"x\": 0.5, \"xanchor\": \"center\", \"yanchor\": \"top\"},\n",
    "        titlefont={\"size\": 20},\n",
    "        legend_title=None,\n",
    "        legend=dict(\n",
    "            font=dict(size=font_size),\n",
    "            orientation=\"h\",\n",
    "            yanchor=\"bottom\",\n",
    "            y=0.9,\n",
    "            xanchor=\"right\",\n",
    "            x=1,\n",
    "        ),\n",
    "        yaxis=dict(\n",
    "            title_text=ylabel,\n",
    "            titlefont=dict(size=font_size),\n",
    "            tickfont=dict(size=font_size),\n",
    "        ),\n",
    "        xaxis=dict(\n",
    "            title_text=xlabel,\n",
    "            titlefont=dict(size=font_size),\n",
    "            tickfont=dict(size=font_size),\n",
    "        )\n",
    "    )\n",
    "    return fig"
   ]
  },
  {
   "cell_type": "code",
   "execution_count": null,
   "id": "e6edd8b9-ddc8-48f9-b276-c1f1d06db670",
   "metadata": {},
   "outputs": [],
   "source": [
    "try:\n",
    "    # Reading the missing value imputed and train test split data\n",
    "    train_df = pd.read_parquet(preprocessed/\"selected_blocks_train_missing_imputed_feature_engg.parquet\")\n",
    "    # Read in the Validation dataset as test_df so that we predict on it\n",
    "    test_df = pd.read_parquet(preprocessed/\"selected_blocks_val_missing_imputed_feature_engg.parquet\")\n",
    "    # test_df = pd.read_parquet(preprocessed/\"block_0-7_test_missing_imputed_feature_engg.parquet\")\n",
    "except FileNotFoundError:\n",
    "    display(HTML(\"\"\"\n",
    "    <div class=\"alert alert-block alert-warning\">\n",
    "    <b>Warning!</b> File not found. Please make sure you have run 01-Feature Engineering.ipynb in Chapter06\n",
    "    </div>\n",
    "    \"\"\"))"
   ]
  },
  {
   "cell_type": "markdown",
   "id": "31224484-989e-4c94-a3a4-ebfa277757bc",
   "metadata": {},
   "source": [
    "#### Loading `The Single Step Backtesting Baselines` for Validation"
   ]
  },
  {
   "cell_type": "code",
   "execution_count": null,
   "id": "d8dddc5a-a8bb-465c-adef-656af5e4811a",
   "metadata": {},
   "outputs": [],
   "source": [
    "try:\n",
    "    baseline_aggregate_metrics_df = pd.read_pickle(output/\"ml_single_step_aggregate_metrics_auto_stationary_val.pkl\")\n",
    "except FileNotFoundError:\n",
    "    display(HTML(\"\"\"\n",
    "    <div class=\"alert alert-block alert-warning\">\n",
    "    <b>Warning!</b> File not found. Please make sure you have run 02-Forecasting with Target Transformation.ipynb in Chapter08\n",
    "    </div>\n",
    "    \"\"\"))"
   ]
  },
  {
   "cell_type": "code",
   "execution_count": null,
   "id": "59323193-19f5-45d1-b9fb-345818f2e16f",
   "metadata": {},
   "outputs": [],
   "source": [
    "len(train_df.LCLid.unique())"
   ]
  },
  {
   "cell_type": "markdown",
   "id": "c4b3ef95-743d-4725-b7c4-d1de8343ddce",
   "metadata": {},
   "source": [
    "### Feature Definition"
   ]
  },
  {
   "cell_type": "code",
   "execution_count": 3,
   "id": "7daf1b1c-b57f-40c5-a883-2482c17b6e88",
   "metadata": {},
   "outputs": [],
   "source": [
    "feat_config = FeatureConfig(\n",
    "    date=\"timestamp\",\n",
    "    target=\"energy_consumption\",\n",
    "    continuous_features=[\n",
    "        \"visibility\",\n",
    "        \"windBearing\",\n",
    "        \"temperature\",\n",
    "        \"dewPoint\",\n",
    "        \"pressure\",\n",
    "        \"apparentTemperature\",\n",
    "        \"windSpeed\",\n",
    "        \"humidity\",\n",
    "        \"energy_consumption_lag_1\",\n",
    "        \"energy_consumption_lag_2\",\n",
    "        \"energy_consumption_lag_3\",\n",
    "        \"energy_consumption_lag_4\",\n",
    "        \"energy_consumption_lag_5\",\n",
    "        \"energy_consumption_lag_46\",\n",
    "        \"energy_consumption_lag_47\",\n",
    "        \"energy_consumption_lag_48\",\n",
    "        \"energy_consumption_lag_49\",\n",
    "        \"energy_consumption_lag_50\",\n",
    "        \"energy_consumption_lag_334\",\n",
    "        \"energy_consumption_lag_335\",\n",
    "        \"energy_consumption_lag_336\",\n",
    "        \"energy_consumption_lag_337\",\n",
    "        \"energy_consumption_lag_338\",\n",
    "        \"energy_consumption_rolling_3_mean\",\n",
    "        \"energy_consumption_rolling_3_std\",\n",
    "        \"energy_consumption_rolling_6_mean\",\n",
    "        \"energy_consumption_rolling_6_std\",\n",
    "        \"energy_consumption_rolling_12_mean\",\n",
    "        \"energy_consumption_rolling_12_std\",\n",
    "        \"energy_consumption_rolling_48_mean\",\n",
    "        \"energy_consumption_rolling_48_std\",\n",
    "        \"energy_consumption_48_seasonal_rolling_3_mean\",\n",
    "        \"energy_consumption_48_seasonal_rolling_3_std\",\n",
    "        \"energy_consumption_336_seasonal_rolling_3_mean\",\n",
    "        \"energy_consumption_336_seasonal_rolling_3_std\",\n",
    "        \"energy_consumption_ewma_span_2880\",\n",
    "        \"energy_consumption_ewma_span_336\",\n",
    "        \"energy_consumption_ewma_span_48\",\n",
    "        \"timestamp_Elapsed\",\n",
    "        \"timestamp_Month_sin_1\",\n",
    "        \"timestamp_Month_sin_2\",\n",
    "        \"timestamp_Month_sin_3\",\n",
    "        \"timestamp_Month_sin_4\",\n",
    "        \"timestamp_Month_sin_5\",\n",
    "        \"timestamp_Month_cos_1\",\n",
    "        \"timestamp_Month_cos_2\",\n",
    "        \"timestamp_Month_cos_3\",\n",
    "        \"timestamp_Month_cos_4\",\n",
    "        \"timestamp_Month_cos_5\",\n",
    "        \"timestamp_Hour_sin_1\",\n",
    "        \"timestamp_Hour_sin_2\",\n",
    "        \"timestamp_Hour_sin_3\",\n",
    "        \"timestamp_Hour_sin_4\",\n",
    "        \"timestamp_Hour_sin_5\",\n",
    "        \"timestamp_Hour_cos_1\",\n",
    "        \"timestamp_Hour_cos_2\",\n",
    "        \"timestamp_Hour_cos_3\",\n",
    "        \"timestamp_Hour_cos_4\",\n",
    "        \"timestamp_Hour_cos_5\",\n",
    "        \"timestamp_Minute_sin_1\",\n",
    "        \"timestamp_Minute_sin_2\",\n",
    "        \"timestamp_Minute_sin_3\",\n",
    "        \"timestamp_Minute_sin_4\",\n",
    "        \"timestamp_Minute_sin_5\",\n",
    "        \"timestamp_Minute_cos_1\",\n",
    "        \"timestamp_Minute_cos_2\",\n",
    "        \"timestamp_Minute_cos_3\",\n",
    "        \"timestamp_Minute_cos_4\",\n",
    "        \"timestamp_Minute_cos_5\",\n",
    "    ],\n",
    "    categorical_features=[\n",
    "        \"holidays\",\n",
    "        \"precipType\",\n",
    "        \"icon\",\n",
    "        \"summary\",\n",
    "        \"timestamp_Month\",\n",
    "        \"timestamp_Quarter\",\n",
    "        \"timestamp_WeekDay\",\n",
    "        \"timestamp_Dayofweek\",\n",
    "        \"timestamp_Dayofyear\",\n",
    "        \"timestamp_Hour\",\n",
    "        \"timestamp_Minute\"\n",
    "    ],\n",
    "    boolean_features=[\n",
    "        \"timestamp_Is_quarter_end\",\n",
    "        \"timestamp_Is_quarter_start\",\n",
    "        \"timestamp_Is_year_end\",\n",
    "        \"timestamp_Is_year_start\",\n",
    "        \"timestamp_Is_month_start\",\n",
    "    ],\n",
    "    index_cols=[\"LCLid\",\"timestamp\"],\n",
    "    exogenous_features=[\n",
    "        \"holidays\",\n",
    "        \"precipType\",\n",
    "        \"icon\",\n",
    "        \"summary\",\n",
    "        \"visibility\",\n",
    "        \"windBearing\",\n",
    "        \"temperature\",\n",
    "        \"dewPoint\",\n",
    "        \"pressure\",\n",
    "        \"apparentTemperature\",\n",
    "        \"windSpeed\",\n",
    "        \"humidity\",\n",
    "    ],\n",
    ")"
   ]
  },
  {
   "cell_type": "code",
   "execution_count": null,
   "id": "f3cc6d2a-a043-488f-b1f7-4d915fffff5a",
   "metadata": {},
   "outputs": [],
   "source": [
    "### Missing Value Handling"
   ]
  },
  {
   "cell_type": "code",
   "execution_count": null,
   "id": "2adf401f-a072-4236-906d-2a743825a0e4",
   "metadata": {},
   "outputs": [],
   "source": []
  },
  {
   "cell_type": "code",
   "execution_count": null,
   "id": "a14aea8b-45f1-48f5-b925-77d8cd13fd5d",
   "metadata": {},
   "outputs": [],
   "source": []
  },
  {
   "cell_type": "code",
   "execution_count": null,
   "id": "5861b468-c3c5-4d27-8224-9d975deea5df",
   "metadata": {},
   "outputs": [],
   "source": []
  },
  {
   "cell_type": "code",
   "execution_count": null,
   "id": "d290ad9c-35b6-4910-8797-1d0d0adbe383",
   "metadata": {},
   "outputs": [],
   "source": []
  },
  {
   "cell_type": "code",
   "execution_count": null,
   "id": "955d89c5-55e5-482c-a67c-2ca51e4ce318",
   "metadata": {},
   "outputs": [],
   "source": []
  },
  {
   "cell_type": "code",
   "execution_count": null,
   "id": "a4948f2b-1c94-4f72-91e6-e52e582139b9",
   "metadata": {},
   "outputs": [],
   "source": []
  },
  {
   "cell_type": "code",
   "execution_count": null,
   "id": "37e8e742-c0fd-4c94-9d03-50f29d0b9366",
   "metadata": {},
   "outputs": [],
   "source": []
  },
  {
   "cell_type": "code",
   "execution_count": null,
   "id": "345db4a1-9d9c-4ebf-907f-2036c276dce8",
   "metadata": {},
   "outputs": [],
   "source": []
  },
  {
   "cell_type": "code",
   "execution_count": null,
   "id": "7c83f1ac-3304-4683-ac8f-11540300dedd",
   "metadata": {},
   "outputs": [],
   "source": []
  },
  {
   "cell_type": "code",
   "execution_count": null,
   "id": "fbc27703-6c3d-471e-a6bf-2d73c2820ff4",
   "metadata": {},
   "outputs": [],
   "source": []
  },
  {
   "cell_type": "code",
   "execution_count": null,
   "id": "fab211b1-29fd-4d0b-85f2-2ba462ab91c1",
   "metadata": {},
   "outputs": [],
   "source": []
  },
  {
   "cell_type": "code",
   "execution_count": null,
   "id": "44f4692a-0653-48a8-b783-ae73a95ddb4c",
   "metadata": {},
   "outputs": [],
   "source": []
  },
  {
   "cell_type": "code",
   "execution_count": null,
   "id": "67f9b7c3-c6d8-4273-9d9d-6a525ec57eef",
   "metadata": {},
   "outputs": [],
   "source": []
  },
  {
   "cell_type": "code",
   "execution_count": null,
   "id": "7ee59a16-01df-476a-98b7-7beff6d831a3",
   "metadata": {},
   "outputs": [],
   "source": []
  },
  {
   "cell_type": "code",
   "execution_count": null,
   "id": "d2d6726b-5805-42e4-b0ad-9cb092064825",
   "metadata": {},
   "outputs": [],
   "source": []
  },
  {
   "cell_type": "code",
   "execution_count": null,
   "id": "eb3f6689-1ec4-4a8d-9253-0fa21d6ae7b7",
   "metadata": {},
   "outputs": [],
   "source": []
  },
  {
   "cell_type": "code",
   "execution_count": null,
   "id": "2d8fc95c-85ac-4ab6-bc1b-14285ad3716e",
   "metadata": {},
   "outputs": [],
   "source": []
  }
 ],
 "metadata": {
  "kernelspec": {
   "display_name": "Python (MTSP)",
   "language": "python",
   "name": "mtsp"
  },
  "language_info": {
   "codemirror_mode": {
    "name": "ipython",
    "version": 3
   },
   "file_extension": ".py",
   "mimetype": "text/x-python",
   "name": "python",
   "nbconvert_exporter": "python",
   "pygments_lexer": "ipython3",
   "version": "3.10.18"
  }
 },
 "nbformat": 4,
 "nbformat_minor": 5
}
